{
 "cells": [
  {
   "cell_type": "code",
   "execution_count": 1,
   "id": "2b7c64bf-9c3d-46f4-aa4d-d1e78ea7d8f6",
   "metadata": {},
   "outputs": [],
   "source": [
    "import matplotlib.pyplot as plt\n",
    "import pandas as pd\n",
    "import numpy as np\n",
    "import seaborn as sns\n",
    "import matplotlib as mpl\n",
    "from typing import *"
   ]
  },
  {
   "cell_type": "code",
   "execution_count": 2,
   "id": "26cad3f0-2066-4277-b10b-f81a2318309b",
   "metadata": {},
   "outputs": [],
   "source": [
    "from sensetools.plots import feature_labeller"
   ]
  },
  {
   "cell_type": "code",
   "execution_count": 5,
   "id": "c4d46f69-1828-4072-a6ba-171933135f54",
   "metadata": {},
   "outputs": [],
   "source": [
    "protein = '1fme'\n",
    "md_t2 = {'1fme': 18*1000}\n",
    "# order = [(53, 'fixed_k'), (60, 'fixed_k'), (52, 'fixed_k'), (47, 'worst'), (81, 'timescale_gap'), (60, 'timescale_gap'), (86, 'timescale_gap')]\n",
    "lag = 41"
   ]
  },
  {
   "cell_type": "code",
   "execution_count": 73,
   "id": "6f69e37d-a8e1-4f1e-b536-0c9fd5dd3c1d",
   "metadata": {},
   "outputs": [],
   "source": [
    "summary_path = f'{protein}/summary.h5'\n",
    "\n",
    "selection = pd.read_hdf(summary_path, key='model_selection')\n",
    "timescales = pd.read_hdf(summary_path, key='timescales')\n",
    "vamps = pd.read_hdf(summary_path, key='vamps')\n",
    "gaps = pd.read_hdf(summary_path, key='timescale_ratio')\n",
    "gaps.reset_index(inplace=True)\n",
    "timescales.reset_index(inplace=True)\n",
    "vamps.reset_index(inplace=True)"
   ]
  },
  {
   "cell_type": "code",
   "execution_count": 76,
   "id": "db1fcc18-fd3d-4193-8dc5-041594d073c6",
   "metadata": {},
   "outputs": [],
   "source": [
    "hp_samples = pd.read_hdf('../data/msms/hpsample.h5')\n",
    "\n",
    "hp_samples.reset_index(inplace=True)\n",
    "\n",
    "hp_samples['feature'] = hp_samples.apply(feature_labeller, axis=1)\n",
    "vamps = vamps.merge(hp_samples.loc[:, ['feature', 'hp_ix']], on='hp_ix')\n",
    "timescales = timescales.merge(hp_samples.loc[:, ['feature', 'hp_ix']], on='hp_ix')"
   ]
  },
  {
   "cell_type": "code",
   "execution_count": 77,
   "id": "65d289d5-516d-4539-8c20-78a070c77672",
   "metadata": {},
   "outputs": [],
   "source": [
    "def top_performers_by_feature(vamps: pd.DataFrame, k: int, lag: int)-> Dict[int, int]:\n",
    "    df = vamps.loc[(vamps.process==k) & (vamps.lag==lag), ['hp_ix', 'median', 'feature']].copy()\n",
    "    df['rank'] = df.groupby(['feature'])['median'].rank(ascending=False)\n",
    "    df.sort_values(by='rank', inplace=True)\n",
    "    d = dict(zip(df['hp_ix'], df['rank']))\n",
    "    return d\n",
    "\n",
    "def top_performers(vamps: pd.DataFrame, k: int, lag: int)-> Dict[int, int]:\n",
    "    df = vamps.loc[(vamps.process==k) & (vamps.lag==lag), ['hp_ix', 'median']].copy()\n",
    "    df['rank'] = df['median'].rank(ascending=False)\n",
    "    df.sort_values(by='rank', inplace=True)\n",
    "    d = dict(zip(df['hp_ix'], df['rank']))\n",
    "    return d\n",
    "\n",
    "\n",
    "def plot_val_by_mod_proc(ax, value_df, color='by_proc'): \n",
    "    for (mod_n, proc), df in value_df.groupby(['rank', 'process']):\n",
    "        if mod_n == 1: \n",
    "            label = f\"{proc}\"\n",
    "        else: \n",
    "            label = None\n",
    "        \n",
    "        if color=='by_proc':\n",
    "            col = cols[proc-2]\n",
    "        else: \n",
    "            col = color\n",
    "        ax.hlines(df['median'],  mod_n-width, mod_n+width, color=col, label=label)\n",
    "        \n",
    "        ax.fill_between([mod_n-width, mod_n+width], df['lb'], df['ub'], alpha=0.1, color=col)\n"
   ]
  },
  {
   "cell_type": "code",
   "execution_count": 1,
   "id": "d5486038-d33d-4b53-ac1b-0b0aa83d5ab8",
   "metadata": {},
   "outputs": [
    {
     "ename": "NameError",
     "evalue": "name 'top_performers_by_feature' is not defined",
     "output_type": "error",
     "traceback": [
      "\u001b[0;31m---------------------------------------------------------------------------\u001b[0m",
      "\u001b[0;31mNameError\u001b[0m                                 Traceback (most recent call last)",
      "\u001b[0;32m/var/folders/b1/0b53wj0509376104__2tttb00000gn/T/ipykernel_55519/2049436702.py\u001b[0m in \u001b[0;36m<module>\u001b[0;34m\u001b[0m\n\u001b[1;32m      1\u001b[0m \u001b[0;32mfor\u001b[0m \u001b[0mk\u001b[0m \u001b[0;32min\u001b[0m \u001b[0mrange\u001b[0m\u001b[0;34m(\u001b[0m\u001b[0;36m2\u001b[0m\u001b[0;34m,\u001b[0m \u001b[0;36m20\u001b[0m\u001b[0;34m)\u001b[0m\u001b[0;34m:\u001b[0m\u001b[0;34m\u001b[0m\u001b[0;34m\u001b[0m\u001b[0m\n\u001b[0;32m----> 2\u001b[0;31m     \u001b[0mrank_by_ix\u001b[0m \u001b[0;34m=\u001b[0m \u001b[0mtop_performers_by_feature\u001b[0m\u001b[0;34m(\u001b[0m\u001b[0mvamps\u001b[0m\u001b[0;34m,\u001b[0m \u001b[0mk\u001b[0m\u001b[0;34m=\u001b[0m\u001b[0mk\u001b[0m\u001b[0;34m,\u001b[0m \u001b[0mlag\u001b[0m\u001b[0;34m=\u001b[0m\u001b[0mlag\u001b[0m\u001b[0;34m)\u001b[0m\u001b[0;34m\u001b[0m\u001b[0;34m\u001b[0m\u001b[0m\n\u001b[0m\u001b[1;32m      3\u001b[0m \u001b[0;34m\u001b[0m\u001b[0m\n\u001b[1;32m      4\u001b[0m     \u001b[0mtop_vamps\u001b[0m \u001b[0;34m=\u001b[0m \u001b[0mvamps\u001b[0m\u001b[0;34m.\u001b[0m\u001b[0mloc\u001b[0m\u001b[0;34m[\u001b[0m\u001b[0;34m(\u001b[0m\u001b[0mvamps\u001b[0m\u001b[0;34m.\u001b[0m\u001b[0mprocess\u001b[0m\u001b[0;34m==\u001b[0m\u001b[0mk\u001b[0m\u001b[0;34m)\u001b[0m \u001b[0;34m&\u001b[0m \u001b[0;34m(\u001b[0m\u001b[0mvamps\u001b[0m\u001b[0;34m.\u001b[0m\u001b[0mlag\u001b[0m\u001b[0;34m==\u001b[0m\u001b[0mlag\u001b[0m\u001b[0;34m)\u001b[0m\u001b[0;34m,\u001b[0m \u001b[0;34m:\u001b[0m\u001b[0;34m]\u001b[0m\u001b[0;34m.\u001b[0m\u001b[0mcopy\u001b[0m\u001b[0;34m(\u001b[0m\u001b[0;34m)\u001b[0m\u001b[0;34m\u001b[0m\u001b[0;34m\u001b[0m\u001b[0m\n\u001b[1;32m      5\u001b[0m     \u001b[0mtop_timescales\u001b[0m \u001b[0;34m=\u001b[0m \u001b[0mtimescales\u001b[0m\u001b[0;34m.\u001b[0m\u001b[0mloc\u001b[0m\u001b[0;34m[\u001b[0m\u001b[0mtimescales\u001b[0m\u001b[0;34m.\u001b[0m\u001b[0mlag\u001b[0m \u001b[0;34m==\u001b[0m \u001b[0mlag\u001b[0m\u001b[0;34m,\u001b[0m \u001b[0;34m:\u001b[0m\u001b[0;34m]\u001b[0m\u001b[0;34m.\u001b[0m\u001b[0mcopy\u001b[0m\u001b[0;34m(\u001b[0m\u001b[0;34m)\u001b[0m\u001b[0;34m\u001b[0m\u001b[0;34m\u001b[0m\u001b[0m\n",
      "\u001b[0;31mNameError\u001b[0m: name 'top_performers_by_feature' is not defined"
     ]
    }
   ],
   "source": [
    "for k in range(2, 20):\n",
    "    rank_by_ix = top_performers_by_feature(vamps, k=k, lag=lag)\n",
    "\n",
    "    top_vamps = vamps.loc[(vamps.process==k) & (vamps.lag==lag), :].copy()\n",
    "    top_timescales = timescales.loc[timescales.lag == lag, :].copy()\n",
    "\n",
    "    top_vamps[f'rank_by_feature'] = top_vamps['hp_ix'].apply(lambda x: rank_by_ix.get(x))\n",
    "    top_timescales[f'rank_by_feature'] = top_timescales['hp_ix'].apply(lambda x: rank_by_ix.get(x))\n",
    "\n",
    "    top_timescales = top_timescales.loc[top_timescales.rank_by_feature==1, :]\n",
    "    top_vamps = top_vamps.loc[top_vamps.rank_by_feature==1, :]\n",
    "\n",
    "    rank_by_ix = top_performers(vamps, k=k, lag=lag)\n",
    "\n",
    "    top_vamps[f'rank'] = top_vamps['hp_ix'].apply(lambda x: rank_by_ix.get(x))\n",
    "    top_timescales[f'rank'] = top_timescales['hp_ix'].apply(lambda x: rank_by_ix.get(x))\n",
    "\n",
    "    top_vamps['median'] = 100*(1-top_vamps['median']/k)\n",
    "    top_vamps['lb'] = 100*(1-top_vamps['lb']/k)\n",
    "    top_vamps['ub'] = 100*(1-top_vamps['ub']/k)\n",
    "    \n",
    "    with sns.plotting_context('talk', font_scale=1): \n",
    "        width =0.4\n",
    "        offset = 0.5\n",
    "        fig, axes = plt.subplots(2, 1, figsize=(8, 8), sharex=True)\n",
    "\n",
    "        cols = sns.color_palette('colorblind', timescales.process.max())\n",
    "\n",
    "        vamp_ax = axes[0]\n",
    "\n",
    "        plot_val_by_mod_proc(vamp_ax, top_vamps, color='k')\n",
    "        vamp_ax.yaxis.set_major_locator(mpl.ticker.MultipleLocator(1))\n",
    "        vamp_ax.set_ylabel('VAMP-2(k) loss (%)')\n",
    "        # axes[0].set_yscale('log')\n",
    "\n",
    "        time_ax = axes[1]\n",
    "        plot_val_by_mod_proc(time_ax, top_timescales.query('process <= 5'))\n",
    "        time_ax.set_yscale('log')\n",
    "        time_ax.set_ylabel('Timescale (ns)')\n",
    "\n",
    "        for feature, df in top_timescales.groupby('feature'): \n",
    "            \n",
    "            time_ax.annotate(text=f\"{feature}\\n{df.hp_ix.values[0]}\", xy=(df['rank'].values[0], df.loc[df.process==2, 'ub']*1.1), \n",
    "                             verticalalignment='bottom', \n",
    "                              horizontalalignment='center', bbox={'facecolor': 'white', 'linewidth': 0}, fontsize=12)\n",
    "\n",
    "        xlim = time_ax.get_xlim()    \n",
    "        time_ax.hlines(md_t2[protein], *xlim, color='k',ls='dashed')\n",
    "        time_ax.set_xlim(xlim)\n",
    "        \n",
    "        axes[-1].set_xlabel('Model rank.')\n",
    "        axes[0].set_title(f'Ranked by VAMP-2(k={k})')\n",
    "#         axes[0].legend(bbox_to_anchor=(1, 1), loc='upper left')\n",
    "        axes[0].grid()\n",
    "        axes[1].grid()\n",
    "        for ax in axes.flatten():\n",
    "            ax.xaxis.set_major_locator(mpl.ticker.MultipleLocator(2))\n",
    "\n",
    "        plt.tight_layout()\n",
    "        plt.savefig(f'{protein}/{protein}_timescale_comarison_by_rank_k_{k}.png', bbox_inches='tight')"
   ]
  },
  {
   "cell_type": "code",
   "execution_count": null,
   "id": "ffe47b7f-a53c-4575-9d62-cea6f530e14a",
   "metadata": {},
   "outputs": [],
   "source": []
  }
 ],
 "metadata": {
  "kernelspec": {
   "display_name": "Python 3 (ipykernel)",
   "language": "python",
   "name": "python3"
  },
  "language_info": {
   "codemirror_mode": {
    "name": "ipython",
    "version": 3
   },
   "file_extension": ".py",
   "mimetype": "text/x-python",
   "name": "python",
   "nbconvert_exporter": "python",
   "pygments_lexer": "ipython3",
   "version": "3.8.0"
  }
 },
 "nbformat": 4,
 "nbformat_minor": 5
}
