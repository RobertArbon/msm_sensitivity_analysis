{
 "cells": [
  {
   "cell_type": "code",
   "execution_count": 1,
   "id": "4fe2541a-9868-47b6-bb48-022f98d22b3d",
   "metadata": {
    "tags": []
   },
   "outputs": [],
   "source": [
    "import matplotlib.pyplot as plt\n",
    "import pandas as pd\n",
    "import numpy as np\n",
    "from pathlib import Path\n",
    "import seaborn as sns\n",
    "from pandas.api.types import CategoricalDtype\n",
    "import matplotlib as mpl\n",
    "import pymc as pm\n",
    "import scipy as sp\n",
    "import pickle\n",
    "from sklearn.preprocessing import MinMaxScaler, minmax_scale, scale, robust_scale\n",
    "import patsy as pt\n",
    "import arviz as az"
   ]
  },
  {
   "cell_type": "code",
   "execution_count": 2,
   "id": "cf239ec8-c947-42b9-a1b6-1c1667df9530",
   "metadata": {
    "tags": []
   },
   "outputs": [],
   "source": [
    "def gamma(alpha, beta):\n",
    "    def g(x):\n",
    "        return pm.Gamma(x, alpha=alpha, beta=beta)\n",
    "    return g\n",
    "\n",
    "def hcauchy(beta):\n",
    "    def g(x):\n",
    "        return pm.HalfCauchy(x, beta=beta)\n",
    "    return g\n",
    "\n",
    "\n",
    "def fit_gp(y, X, l_prior, eta_prior, sigma_prior, nu_prior=None, kernel_type='M52', bayes_kws=dict(draws=1000, tune=1000, chains=2, cores=1), prop_Xu=None, model_type='marginal', noise_model='normal'):\n",
    "    \"\"\"\n",
    "    function to return a pymc3 model\n",
    "    y : dependent variable\n",
    "    X : independent variables\n",
    "    prop_Xu : number of inducing varibles to use. If None, use full marginal likelihood. If not none, use FTIC. \n",
    "    bayes_kw : kws for pm.sample\n",
    "    X, y are dataframes. We'll use the column names. \n",
    "    \"\"\"\n",
    "    kernel_type = kernel_type.lower()\n",
    "    with pm.Model() as model:\n",
    "        # Covert arrays\n",
    "        X_a = X.values\n",
    "        y_a = y.values.flatten()\n",
    "        X_cols = list(X.columns)\n",
    "\n",
    "        \n",
    "        # Kernels\n",
    "        # 3 way interaction\n",
    "        eta = eta_prior('eta')\n",
    "        cov = eta**2\n",
    "        for i in range(X_a.shape[1]):\n",
    "            var_lab = 'l_'+X_cols[i]\n",
    "            if kernel_type=='rbf':\n",
    "                cov = cov*pm.gp.cov.ExpQuad(X_a.shape[1], ls=l_prior(var_lab), active_dims=[i])\n",
    "            if kernel_type=='exponential':\n",
    "                cov = cov*pm.gp.cov.Exponential(X_a.shape[1], ls=l_prior(var_lab), active_dims=[i])\n",
    "            if kernel_type=='m52':\n",
    "                cov = cov*pm.gp.cov.Matern52(X_a.shape[1], ls=l_prior(var_lab), active_dims=[i])\n",
    "            if kernel_type=='m32':\n",
    "                cov = cov*pm.gp.cov.Matern32(X_a.shape[1], ls=l_prior(var_lab), active_dims=[i])\n",
    "\n",
    "        # Covariance model\n",
    "        cov_tot = cov \n",
    "        \n",
    "        sigma_n =sigma_prior('sigma_n')\n",
    "\n",
    "        # Model\n",
    "        if model_type=='latent': \n",
    "            gp = pm.gp.Latent(cov_func=cov_tot)\n",
    "            f = gp.prior(\"f\", X=X_a)\n",
    "            if noise_model == 'normal':\n",
    "                y_ = pm.Normal(\"y_\", mu=f, sigma=sigma_n, observed=y_a)\n",
    "            elif noise_model == 'TP': \n",
    "                nu = nu_prior('nu')\n",
    "                y_ = pm.StudentT(\"y\", mu=f, lam=1.0 / sigma_n, nu=nu, observed=y_a)\n",
    "            else:\n",
    "                raise ValueError('must specify noise for latent model')\n",
    "                \n",
    "        elif model_type=='TP':\n",
    "            nu1 = nu_prior('nu1')\n",
    "            tp = pm.gp.TP(cov_func=cov_tot, nu=nu1)\n",
    "            f = tp.prior(\"f\", X=X_a)\n",
    "            \n",
    "            if noise_model == 'normal':\n",
    "                y_ = pm.Normal(\"y_\", mu=f, sigma=sigma_n, observed=y_a)\n",
    "            elif noise_model == 'TP': \n",
    "                nu2 = nu_prior('nu2')\n",
    "                y_ = pm.StudentT(\"y\", mu=f, lam=1.0 / sigma_n, nu=nu2, observed=y_a)\n",
    "            else:\n",
    "                raise ValueError('must specify noise for TP model')            \n",
    "            \n",
    "            gp = tp\n",
    "            \n",
    "        elif model_type=='marginal':\n",
    "            # Noise model\n",
    "\n",
    "            if not (prop_Xu is None):\n",
    "                # Inducing variables\n",
    "                num_Xu = int(X_a.shape[0]*prop_Xu)\n",
    "                Xu = pm.gp.util.kmeans_inducing_points(num_Xu, X_a)\n",
    "                gp = pm.gp.MarginalSparse(cov_func=cov_tot, approx=\"FITC\")\n",
    "                y_ = gp.marginal_likelihood('y_', X=X_a, y=y_a, Xu=Xu, noise=sigma_n)\n",
    "            else:\n",
    "                gp = pm.gp.Marginal(cov_func=cov_tot)\n",
    "                y_ = gp.marginal_likelihood('y_', X=X_a, y=y_a, noise=sigma_n)\n",
    "            \n",
    "        \n",
    "        if not (bayes_kws is None):\n",
    "            trace = pm.sample(**bayes_kws)\n",
    "            result = trace\n",
    "        else:\n",
    "            mp = pm.find_MAP()\n",
    "            result = mp\n",
    "    \n",
    "    return gp, result, model\n",
    "\n",
    "\n",
    "\n",
    "\n",
    "def scale_df(df, feature_range=(-5, 5)):\n",
    "    new_df = []\n",
    "    \n",
    "    for col in df.columns: \n",
    "        x = df[col].values.reshape(-1, 1)\n",
    "        if col == 'ts': \n",
    "            x = robust_scale(np.log(x))\n",
    "        elif col == 'vamp2_eq':\n",
    "            x = robust_scale(x)\n",
    "        elif col == 'hp_ix': \n",
    "            pass\n",
    "        elif col in ['dim', 'lag', 'steep', 'cent', 'states']: \n",
    "            x = minmax_scale(x, feature_range=feature_range)\n",
    "        else: \n",
    "            pass\n",
    "\n",
    "        new_df.append(pd.Series(x.flatten(), name=col))\n",
    "            \n",
    "    new_df = pd.concat(new_df, axis=1)\n",
    "    return new_df\n",
    "    \n",
    "    "
   ]
  },
  {
   "cell_type": "code",
   "execution_count": 5,
   "id": "478ef5a8-e90f-4e90-a262-30d75545e709",
   "metadata": {
    "tags": []
   },
   "outputs": [
    {
     "name": "stdout",
     "output_type": "stream",
     "text": [
      "exponential\n",
      "dihedrals None\n",
      "vamp2_eq ~  dim + lag + states\n"
     ]
    },
    {
     "data": {
      "text/html": [
       "\n",
       "<style>\n",
       "    /* Turns off some styling */\n",
       "    progress {\n",
       "        /* gets rid of default border in Firefox and Opera. */\n",
       "        border: none;\n",
       "        /* Needs to be in here for Safari polyfill so background images work as expected. */\n",
       "        background-size: auto;\n",
       "    }\n",
       "    .progress-bar-interrupted, .progress-bar-interrupted::-webkit-progress-bar {\n",
       "        background: #F44336;\n",
       "    }\n",
       "</style>\n"
      ],
      "text/plain": [
       "<IPython.core.display.HTML object>"
      ]
     },
     "metadata": {},
     "output_type": "display_data"
    },
    {
     "data": {
      "text/html": [
       "\n",
       "    <div>\n",
       "      <progress value='43' class='' max='43' style='width:300px; height:20px; vertical-align: middle;'></progress>\n",
       "      100.00% [43/43 00:00<00:00 logp = -27.071, ||grad|| = 7.0396]\n",
       "    </div>\n",
       "    "
      ],
      "text/plain": [
       "<IPython.core.display.HTML object>"
      ]
     },
     "metadata": {},
     "output_type": "display_data"
    },
    {
     "name": "stdout",
     "output_type": "stream",
     "text": [
      "\n",
      "distances linear\n",
      "vamp2_eq ~  dim + lag + states + scheme\n"
     ]
    },
    {
     "data": {
      "text/html": [
       "\n",
       "<style>\n",
       "    /* Turns off some styling */\n",
       "    progress {\n",
       "        /* gets rid of default border in Firefox and Opera. */\n",
       "        border: none;\n",
       "        /* Needs to be in here for Safari polyfill so background images work as expected. */\n",
       "        background-size: auto;\n",
       "    }\n",
       "    .progress-bar-interrupted, .progress-bar-interrupted::-webkit-progress-bar {\n",
       "        background: #F44336;\n",
       "    }\n",
       "</style>\n"
      ],
      "text/plain": [
       "<IPython.core.display.HTML object>"
      ]
     },
     "metadata": {},
     "output_type": "display_data"
    },
    {
     "data": {
      "text/html": [
       "\n",
       "    <div>\n",
       "      <progress value='44' class='' max='44' style='width:300px; height:20px; vertical-align: middle;'></progress>\n",
       "      100.00% [44/44 00:00<00:00 logp = -42.371, ||grad|| = 15.195]\n",
       "    </div>\n",
       "    "
      ],
      "text/plain": [
       "<IPython.core.display.HTML object>"
      ]
     },
     "metadata": {},
     "output_type": "display_data"
    },
    {
     "name": "stdout",
     "output_type": "stream",
     "text": [
      "\n",
      "distances logistic\n",
      "vamp2_eq ~  dim + lag + states + scheme + steep + cent\n"
     ]
    },
    {
     "data": {
      "text/html": [
       "\n",
       "<style>\n",
       "    /* Turns off some styling */\n",
       "    progress {\n",
       "        /* gets rid of default border in Firefox and Opera. */\n",
       "        border: none;\n",
       "        /* Needs to be in here for Safari polyfill so background images work as expected. */\n",
       "        background-size: auto;\n",
       "    }\n",
       "    .progress-bar-interrupted, .progress-bar-interrupted::-webkit-progress-bar {\n",
       "        background: #F44336;\n",
       "    }\n",
       "</style>\n"
      ],
      "text/plain": [
       "<IPython.core.display.HTML object>"
      ]
     },
     "metadata": {},
     "output_type": "display_data"
    },
    {
     "data": {
      "text/html": [
       "\n",
       "    <div>\n",
       "      <progress value='43' class='' max='43' style='width:300px; height:20px; vertical-align: middle;'></progress>\n",
       "      100.00% [43/43 00:00<00:00 logp = -172.48, ||grad|| = 10.273]\n",
       "    </div>\n",
       "    "
      ],
      "text/plain": [
       "<IPython.core.display.HTML object>"
      ]
     },
     "metadata": {},
     "output_type": "display_data"
    },
    {
     "name": "stdout",
     "output_type": "stream",
     "text": [
      "\n",
      "rbf\n",
      "dihedrals None\n",
      "vamp2_eq ~  dim + lag + states\n"
     ]
    },
    {
     "data": {
      "text/html": [
       "\n",
       "<style>\n",
       "    /* Turns off some styling */\n",
       "    progress {\n",
       "        /* gets rid of default border in Firefox and Opera. */\n",
       "        border: none;\n",
       "        /* Needs to be in here for Safari polyfill so background images work as expected. */\n",
       "        background-size: auto;\n",
       "    }\n",
       "    .progress-bar-interrupted, .progress-bar-interrupted::-webkit-progress-bar {\n",
       "        background: #F44336;\n",
       "    }\n",
       "</style>\n"
      ],
      "text/plain": [
       "<IPython.core.display.HTML object>"
      ]
     },
     "metadata": {},
     "output_type": "display_data"
    },
    {
     "data": {
      "text/html": [
       "\n",
       "    <div>\n",
       "      <progress value='42' class='' max='42' style='width:300px; height:20px; vertical-align: middle;'></progress>\n",
       "      100.00% [42/42 00:00<00:00 logp = -28.925, ||grad|| = 4.3437]\n",
       "    </div>\n",
       "    "
      ],
      "text/plain": [
       "<IPython.core.display.HTML object>"
      ]
     },
     "metadata": {},
     "output_type": "display_data"
    },
    {
     "name": "stdout",
     "output_type": "stream",
     "text": [
      "\n",
      "distances linear\n",
      "vamp2_eq ~  dim + lag + states + scheme\n"
     ]
    },
    {
     "data": {
      "text/html": [
       "\n",
       "<style>\n",
       "    /* Turns off some styling */\n",
       "    progress {\n",
       "        /* gets rid of default border in Firefox and Opera. */\n",
       "        border: none;\n",
       "        /* Needs to be in here for Safari polyfill so background images work as expected. */\n",
       "        background-size: auto;\n",
       "    }\n",
       "    .progress-bar-interrupted, .progress-bar-interrupted::-webkit-progress-bar {\n",
       "        background: #F44336;\n",
       "    }\n",
       "</style>\n"
      ],
      "text/plain": [
       "<IPython.core.display.HTML object>"
      ]
     },
     "metadata": {},
     "output_type": "display_data"
    },
    {
     "data": {
      "text/html": [
       "\n",
       "    <div>\n",
       "      <progress value='16' class='' max='16' style='width:300px; height:20px; vertical-align: middle;'></progress>\n",
       "      100.00% [16/16 00:00<00:00 logp = -47.166, ||grad|| = 6.0989]\n",
       "    </div>\n",
       "    "
      ],
      "text/plain": [
       "<IPython.core.display.HTML object>"
      ]
     },
     "metadata": {},
     "output_type": "display_data"
    },
    {
     "name": "stdout",
     "output_type": "stream",
     "text": [
      "\n",
      "distances logistic\n",
      "vamp2_eq ~  dim + lag + states + scheme + steep + cent\n"
     ]
    },
    {
     "data": {
      "text/html": [
       "\n",
       "<style>\n",
       "    /* Turns off some styling */\n",
       "    progress {\n",
       "        /* gets rid of default border in Firefox and Opera. */\n",
       "        border: none;\n",
       "        /* Needs to be in here for Safari polyfill so background images work as expected. */\n",
       "        background-size: auto;\n",
       "    }\n",
       "    .progress-bar-interrupted, .progress-bar-interrupted::-webkit-progress-bar {\n",
       "        background: #F44336;\n",
       "    }\n",
       "</style>\n"
      ],
      "text/plain": [
       "<IPython.core.display.HTML object>"
      ]
     },
     "metadata": {},
     "output_type": "display_data"
    },
    {
     "data": {
      "text/html": [
       "\n",
       "    <div>\n",
       "      <progress value='43' class='' max='43' style='width:300px; height:20px; vertical-align: middle;'></progress>\n",
       "      100.00% [43/43 00:00<00:00 logp = -172.3, ||grad|| = 12.811]\n",
       "    </div>\n",
       "    "
      ],
      "text/plain": [
       "<IPython.core.display.HTML object>"
      ]
     },
     "metadata": {},
     "output_type": "display_data"
    },
    {
     "name": "stdout",
     "output_type": "stream",
     "text": [
      "\n",
      "m32\n",
      "dihedrals None\n",
      "vamp2_eq ~  dim + lag + states\n"
     ]
    },
    {
     "data": {
      "text/html": [
       "\n",
       "<style>\n",
       "    /* Turns off some styling */\n",
       "    progress {\n",
       "        /* gets rid of default border in Firefox and Opera. */\n",
       "        border: none;\n",
       "        /* Needs to be in here for Safari polyfill so background images work as expected. */\n",
       "        background-size: auto;\n",
       "    }\n",
       "    .progress-bar-interrupted, .progress-bar-interrupted::-webkit-progress-bar {\n",
       "        background: #F44336;\n",
       "    }\n",
       "</style>\n"
      ],
      "text/plain": [
       "<IPython.core.display.HTML object>"
      ]
     },
     "metadata": {},
     "output_type": "display_data"
    },
    {
     "data": {
      "text/html": [
       "\n",
       "    <div>\n",
       "      <progress value='46' class='' max='46' style='width:300px; height:20px; vertical-align: middle;'></progress>\n",
       "      100.00% [46/46 00:00<00:00 logp = -29.323, ||grad|| = 6.9617]\n",
       "    </div>\n",
       "    "
      ],
      "text/plain": [
       "<IPython.core.display.HTML object>"
      ]
     },
     "metadata": {},
     "output_type": "display_data"
    },
    {
     "name": "stdout",
     "output_type": "stream",
     "text": [
      "\n",
      "distances linear\n",
      "vamp2_eq ~  dim + lag + states + scheme\n"
     ]
    },
    {
     "data": {
      "text/html": [
       "\n",
       "<style>\n",
       "    /* Turns off some styling */\n",
       "    progress {\n",
       "        /* gets rid of default border in Firefox and Opera. */\n",
       "        border: none;\n",
       "        /* Needs to be in here for Safari polyfill so background images work as expected. */\n",
       "        background-size: auto;\n",
       "    }\n",
       "    .progress-bar-interrupted, .progress-bar-interrupted::-webkit-progress-bar {\n",
       "        background: #F44336;\n",
       "    }\n",
       "</style>\n"
      ],
      "text/plain": [
       "<IPython.core.display.HTML object>"
      ]
     },
     "metadata": {},
     "output_type": "display_data"
    },
    {
     "data": {
      "text/html": [
       "\n",
       "    <div>\n",
       "      <progress value='44' class='' max='44' style='width:300px; height:20px; vertical-align: middle;'></progress>\n",
       "      100.00% [44/44 00:00<00:00 logp = -43.178, ||grad|| = 14.34]\n",
       "    </div>\n",
       "    "
      ],
      "text/plain": [
       "<IPython.core.display.HTML object>"
      ]
     },
     "metadata": {},
     "output_type": "display_data"
    },
    {
     "name": "stdout",
     "output_type": "stream",
     "text": [
      "\n",
      "distances logistic\n",
      "vamp2_eq ~  dim + lag + states + scheme + steep + cent\n"
     ]
    },
    {
     "data": {
      "text/html": [
       "\n",
       "<style>\n",
       "    /* Turns off some styling */\n",
       "    progress {\n",
       "        /* gets rid of default border in Firefox and Opera. */\n",
       "        border: none;\n",
       "        /* Needs to be in here for Safari polyfill so background images work as expected. */\n",
       "        background-size: auto;\n",
       "    }\n",
       "    .progress-bar-interrupted, .progress-bar-interrupted::-webkit-progress-bar {\n",
       "        background: #F44336;\n",
       "    }\n",
       "</style>\n"
      ],
      "text/plain": [
       "<IPython.core.display.HTML object>"
      ]
     },
     "metadata": {},
     "output_type": "display_data"
    },
    {
     "data": {
      "text/html": [
       "\n",
       "    <div>\n",
       "      <progress value='43' class='' max='43' style='width:300px; height:20px; vertical-align: middle;'></progress>\n",
       "      100.00% [43/43 00:00<00:00 logp = -172.6, ||grad|| = 10.814]\n",
       "    </div>\n",
       "    "
      ],
      "text/plain": [
       "<IPython.core.display.HTML object>"
      ]
     },
     "metadata": {},
     "output_type": "display_data"
    },
    {
     "name": "stdout",
     "output_type": "stream",
     "text": [
      "\n",
      "m52\n",
      "dihedrals None\n",
      "vamp2_eq ~  dim + lag + states\n"
     ]
    },
    {
     "data": {
      "text/html": [
       "\n",
       "<style>\n",
       "    /* Turns off some styling */\n",
       "    progress {\n",
       "        /* gets rid of default border in Firefox and Opera. */\n",
       "        border: none;\n",
       "        /* Needs to be in here for Safari polyfill so background images work as expected. */\n",
       "        background-size: auto;\n",
       "    }\n",
       "    .progress-bar-interrupted, .progress-bar-interrupted::-webkit-progress-bar {\n",
       "        background: #F44336;\n",
       "    }\n",
       "</style>\n"
      ],
      "text/plain": [
       "<IPython.core.display.HTML object>"
      ]
     },
     "metadata": {},
     "output_type": "display_data"
    },
    {
     "data": {
      "text/html": [
       "\n",
       "    <div>\n",
       "      <progress value='41' class='' max='41' style='width:300px; height:20px; vertical-align: middle;'></progress>\n",
       "      100.00% [41/41 00:00<00:00 logp = -28.133, ||grad|| = 5.7046]\n",
       "    </div>\n",
       "    "
      ],
      "text/plain": [
       "<IPython.core.display.HTML object>"
      ]
     },
     "metadata": {},
     "output_type": "display_data"
    },
    {
     "name": "stdout",
     "output_type": "stream",
     "text": [
      "\n",
      "distances linear\n",
      "vamp2_eq ~  dim + lag + states + scheme\n"
     ]
    },
    {
     "data": {
      "text/html": [
       "\n",
       "<style>\n",
       "    /* Turns off some styling */\n",
       "    progress {\n",
       "        /* gets rid of default border in Firefox and Opera. */\n",
       "        border: none;\n",
       "        /* Needs to be in here for Safari polyfill so background images work as expected. */\n",
       "        background-size: auto;\n",
       "    }\n",
       "    .progress-bar-interrupted, .progress-bar-interrupted::-webkit-progress-bar {\n",
       "        background: #F44336;\n",
       "    }\n",
       "</style>\n"
      ],
      "text/plain": [
       "<IPython.core.display.HTML object>"
      ]
     },
     "metadata": {},
     "output_type": "display_data"
    },
    {
     "data": {
      "text/html": [
       "\n",
       "    <div>\n",
       "      <progress value='42' class='' max='42' style='width:300px; height:20px; vertical-align: middle;'></progress>\n",
       "      100.00% [42/42 00:00<00:00 logp = -44.725, ||grad|| = 11.702]\n",
       "    </div>\n",
       "    "
      ],
      "text/plain": [
       "<IPython.core.display.HTML object>"
      ]
     },
     "metadata": {},
     "output_type": "display_data"
    },
    {
     "name": "stdout",
     "output_type": "stream",
     "text": [
      "\n",
      "distances logistic\n",
      "vamp2_eq ~  dim + lag + states + scheme + steep + cent\n"
     ]
    },
    {
     "data": {
      "text/html": [
       "\n",
       "<style>\n",
       "    /* Turns off some styling */\n",
       "    progress {\n",
       "        /* gets rid of default border in Firefox and Opera. */\n",
       "        border: none;\n",
       "        /* Needs to be in here for Safari polyfill so background images work as expected. */\n",
       "        background-size: auto;\n",
       "    }\n",
       "    .progress-bar-interrupted, .progress-bar-interrupted::-webkit-progress-bar {\n",
       "        background: #F44336;\n",
       "    }\n",
       "</style>\n"
      ],
      "text/plain": [
       "<IPython.core.display.HTML object>"
      ]
     },
     "metadata": {},
     "output_type": "display_data"
    },
    {
     "data": {
      "text/html": [
       "\n",
       "    <div>\n",
       "      <progress value='43' class='' max='43' style='width:300px; height:20px; vertical-align: middle;'></progress>\n",
       "      100.00% [43/43 00:00<00:00 logp = -172.22, ||grad|| = 11.822]\n",
       "    </div>\n",
       "    "
      ],
      "text/plain": [
       "<IPython.core.display.HTML object>"
      ]
     },
     "metadata": {},
     "output_type": "display_data"
    },
    {
     "name": "stdout",
     "output_type": "stream",
     "text": [
      "\n"
     ]
    }
   ],
   "source": [
    "protein = '1fme'\n",
    "lag=41\n",
    "proc=2\n",
    "\n",
    "\n",
    "params = [['dihedrals', None], ['distances', 'linear'], ['distances', 'logistic']]\n",
    "kernels = ['exponential', 'rbf', 'm32', 'm52']\n",
    "\n",
    "# pre-processing params\n",
    "data_cols = ['median', 'tica__dim', 'tica__lag', 'cluster__k', 'feature__value', 'distances__scheme', 'distances__transform', \n",
    "             'distances__steepness', 'distances__centre'\n",
    "]\n",
    "var_names_short = ['ts', 'dim', 'lag', 'states', 'feat', 'scheme', 'trans', 'steep', 'cent']\n",
    "name_dict = dict(zip(data_cols, var_names_short))\n",
    "scaling = dict(dim=[1, 20], lag=[1, 100],states=[10, 500], steep=[0, 50], cent=[0, 1.5])\n",
    "\n",
    "# Bayesian kws\n",
    "bayes_kws = dict(draws=1000, tune=1000, chains=4, cores=4, target_accept=0.90)\n",
    "\n",
    "# Load data\n",
    "summary_path = f'{protein}/summary.h5'\n",
    "hp_path = '../experiments/hpsample.h5'\n",
    "timescales = pd.read_hdf(summary_path, key='timescales')\n",
    "vamps = pd.read_hdf(summary_path, key='vamps')\n",
    "timescales.reset_index(inplace=True)\n",
    "vamps.reset_index(inplace=True)\n",
    "hps = pd.read_hdf(hp_path)\n",
    "hps.reset_index(inplace=True)\n",
    "\n",
    "# Create main data DF\n",
    "data = timescales.query(f\"process=={proc}\").query(f'lag=={lag}')\n",
    "data = data.merge(hps, on=['hp_ix'], how='left')\n",
    "data = data.loc[:, data_cols+['hp_ix']]\n",
    "data.rename(mapper=name_dict, axis=1, inplace=True)\n",
    "\n",
    "# Add GMRQ from timescale: \n",
    "\n",
    "data['vamp2_eq'] = 1+np.exp(-lag/data['ts'])**2\n",
    "\n",
    "\n",
    "# Scale data\n",
    "data_s = scale_df(data, feature_range=(-9, 2))\n",
    "\n",
    "out_dir = Path(protein).joinpath('sensitivity')\n",
    "out_dir.mkdir(parents=True, exist_ok=True)\n",
    "\n",
    "for kernel in kernels: \n",
    "    print(kernel)\n",
    "    for feat, trans in params:\n",
    "        print(feat, trans)\n",
    "        \n",
    "        out_path = out_dir.joinpath(f\"{feat}_{trans}_{kernel}_mml.pkl\")\n",
    "\n",
    "        # Create formula\n",
    "        formula = \"vamp2_eq ~  dim + lag + states\"\n",
    "        if feat == 'distances': \n",
    "            formula += ' + scheme'\n",
    "            if (trans == 'logistic'): \n",
    "                formula += \" + steep + cent\"\n",
    "        print(formula)\n",
    "\n",
    "        # Create subsetted DF\n",
    "        X = data_s.query(f\"(feat == '{feat}')\")\n",
    "        if trans is not None: \n",
    "            X = X.query(f\"trans == '{trans}'\")\n",
    "\n",
    "        ydf, Xdf = pt.dmatrices(formula, data=X, return_type='dataframe', NA_action='raise')\n",
    "        Xdf.drop(labels=['Intercept'], axis=1, inplace=True)\n",
    "\n",
    "        # Fit model\n",
    "        l_prior = gamma(2, 0.5)\n",
    "        eta_prior = hcauchy(2)\n",
    "        sigma_prior = hcauchy(2)\n",
    "        nu_prior = gamma(2, 0.05)\n",
    "        gp, trace, model = fit_gp(y=ydf, X=Xdf,  # Data\n",
    "                                        l_prior=l_prior, eta_prior=eta_prior, sigma_prior=sigma_prior,  # Priors\n",
    "                                        kernel_type=kernel,  # Kernel\n",
    "                                        prop_Xu=None,  # proportion of data points which are inducing variables.\n",
    "                                        bayes_kws=None, model_type='marginal', noise_model=None, nu_prior=None)  # Bayes kws\n",
    "\n",
    "        with model: \n",
    "            y_pred, var = gp.predict(Xdf.values,point=trace, diag=True)\n",
    "\n",
    "        rmse = np.sqrt(np.sum((ydf.values.flatten()-y_pred)**2))\n",
    "\n",
    "        results = {'trace': trace, 'data': data_s, 'formula': formula, 'lag': lag, 'proc': proc}\n",
    "\n",
    "\n",
    "        pickle.dump(obj=results, file=out_path.open('wb'))\n",
    "\n",
    "        with sns.plotting_context('paper'):\n",
    "            plt.scatter(ydf.values, y_pred)\n",
    "            plt.title(f\"rmse: {rmse:4.2f}\")\n",
    "            plt.ylim(-9, 9)\n",
    "            plt.xlim(-9, 9)\n",
    "            plt.plot([-9, 9], [-9, 9])\n",
    "            plt.xlabel('observed values')\n",
    "            plt.ylabel('predicted values')\n",
    "\n",
    "            plt.savefig(out_path.with_suffix('.pdf'), bbox_inches='tight')\n",
    "            plt.close()"
   ]
  },
  {
   "cell_type": "code",
   "execution_count": null,
   "id": "3834de85-9442-4867-962c-0a1c0a286ae9",
   "metadata": {},
   "outputs": [],
   "source": []
  }
 ],
 "metadata": {
  "kernelspec": {
   "display_name": "Python 3 (ipykernel)",
   "language": "python",
   "name": "python3"
  },
  "language_info": {
   "codemirror_mode": {
    "name": "ipython",
    "version": 3
   },
   "file_extension": ".py",
   "mimetype": "text/x-python",
   "name": "python",
   "nbconvert_exporter": "python",
   "pygments_lexer": "ipython3",
   "version": "3.9.0"
  }
 },
 "nbformat": 4,
 "nbformat_minor": 5
}
