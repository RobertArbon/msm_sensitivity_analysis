{
 "cells": [
  {
   "cell_type": "code",
   "execution_count": 1,
   "id": "3f4be523-6524-4829-a615-da643d7213ed",
   "metadata": {
    "tags": []
   },
   "outputs": [],
   "source": [
    "import pyemma as pm\n",
    "import deeptime as dt\n",
    "import numpy as np\n",
    "from pathlib import Path\n",
    "import pandas as pd\n",
    "import seaborn as sns\n",
    "from typing import *\n",
    "from pathlib import Path\n",
    "from deeptime.numeric import is_sorted, spd_inv_sqrt, schatten_norm\n",
    "import scipy\n",
    "from msmtools.estimation import transition_matrix\n"
   ]
  },
  {
   "cell_type": "code",
   "execution_count": 2,
   "id": "13dd3842-2aaa-4a7c-b520-c0b94ace2e8c",
   "metadata": {},
   "outputs": [],
   "source": [
    "def bs(dtrajs): \n",
    "    rng = np.random.default_rng(49587)\n",
    "    ix = rng.choice(np.arange(len(dtrajs)), size=len(dtrajs), replace=True)\n",
    "    return [dtrajs[i] for i in ix]\n",
    "    "
   ]
  },
  {
   "cell_type": "code",
   "execution_count": 15,
   "id": "bd702ba7-ab4e-45ca-a2a5-928756c401ad",
   "metadata": {},
   "outputs": [],
   "source": [
    "dtrajs_24 = [np.load(x) for x in Path('hp_24').glob('1FME*.npy')]\n",
    "dtrajs_235 = [np.load(x) for x in Path('hp_235').glob('1FME*.npy')]\n",
    "\n",
    "# dtrajs_24 = bs(dtrajs_24_raw)\n",
    "# dtrajs_235 = bs(dtrajs_235_raw)\n",
    "\n",
    "lag = 41"
   ]
  },
  {
   "cell_type": "markdown",
   "id": "0a92ad18-58b7-4846-aca4-77d9291a1b46",
   "metadata": {},
   "source": [
    "Compare scores/timescales etc. "
   ]
  },
  {
   "cell_type": "code",
   "execution_count": 16,
   "id": "4be8dc2b-a01f-40e1-9bd6-d981044842ca",
   "metadata": {},
   "outputs": [
    {
     "data": {
      "text/plain": [
       "(1.9759410174262293, 3346.15811579258, 1.975792111413774)"
      ]
     },
     "execution_count": 16,
     "metadata": {},
     "output_type": "execute_result"
    }
   ],
   "source": [
    "est_24 = dt.markov.msm.MaximumLikelihoodMSM(reversible=True, lagtime=lag)\n",
    "est_24.fit(dtrajs_24)\n",
    "mod_24 = est_24.fetch_model()\n",
    "mod_24.score(dim=2), mod_24.timescales(1)[0], (mod_24.eigenvalues()[:2]**2).sum()"
   ]
  },
  {
   "cell_type": "code",
   "execution_count": 17,
   "id": "24298d07-6474-4467-bab6-c5cc419b51ba",
   "metadata": {},
   "outputs": [
    {
     "data": {
      "text/plain": [
       "array([3346.15811579, 2120.46762739, 1601.7284516 ])"
      ]
     },
     "execution_count": 17,
     "metadata": {},
     "output_type": "execute_result"
    }
   ],
   "source": [
    "mod_24.timescales()[:3]"
   ]
  },
  {
   "cell_type": "code",
   "execution_count": 18,
   "id": "5253c61a-d936-4592-afbb-c16c59e91a61",
   "metadata": {},
   "outputs": [],
   "source": [
    "hp_samples = pd.read_hdf('../experiments/hpsample.h5')\n"
   ]
  },
  {
   "cell_type": "code",
   "execution_count": 43,
   "id": "23390273-a239-46c4-8f9c-d74f8f26c794",
   "metadata": {
    "tags": []
   },
   "outputs": [
    {
     "data": {
      "text/html": [
       "<div>\n",
       "<style scoped>\n",
       "    .dataframe tbody tr th:only-of-type {\n",
       "        vertical-align: middle;\n",
       "    }\n",
       "\n",
       "    .dataframe tbody tr th {\n",
       "        vertical-align: top;\n",
       "    }\n",
       "\n",
       "    .dataframe thead th {\n",
       "        text-align: right;\n",
       "    }\n",
       "</style>\n",
       "<table border=\"1\" class=\"dataframe\">\n",
       "  <thead>\n",
       "    <tr style=\"text-align: right;\">\n",
       "      <th></th>\n",
       "      <th>cluster__max_iter</th>\n",
       "      <th>cluster__stride</th>\n",
       "      <th>tica__dim</th>\n",
       "      <th>tica__lag</th>\n",
       "      <th>tica__kinetic_map</th>\n",
       "      <th>tica__stride</th>\n",
       "      <th>cluster__k</th>\n",
       "      <th>feature__value</th>\n",
       "      <th>dihedrals__which</th>\n",
       "      <th>distances__scheme</th>\n",
       "      <th>distances__transform</th>\n",
       "      <th>distances__steepness</th>\n",
       "      <th>distances__centre</th>\n",
       "    </tr>\n",
       "    <tr>\n",
       "      <th>hp_ix</th>\n",
       "      <th></th>\n",
       "      <th></th>\n",
       "      <th></th>\n",
       "      <th></th>\n",
       "      <th></th>\n",
       "      <th></th>\n",
       "      <th></th>\n",
       "      <th></th>\n",
       "      <th></th>\n",
       "      <th></th>\n",
       "      <th></th>\n",
       "      <th></th>\n",
       "      <th></th>\n",
       "    </tr>\n",
       "  </thead>\n",
       "  <tbody>\n",
       "    <tr>\n",
       "      <th>24</th>\n",
       "      <td>1000</td>\n",
       "      <td>10</td>\n",
       "      <td>20</td>\n",
       "      <td>60</td>\n",
       "      <td>True</td>\n",
       "      <td>1</td>\n",
       "      <td>471</td>\n",
       "      <td>distances</td>\n",
       "      <td>NaN</td>\n",
       "      <td>ca</td>\n",
       "      <td>logistic</td>\n",
       "      <td>6.081760</td>\n",
       "      <td>0.224891</td>\n",
       "    </tr>\n",
       "    <tr>\n",
       "      <th>235</th>\n",
       "      <td>1000</td>\n",
       "      <td>10</td>\n",
       "      <td>19</td>\n",
       "      <td>90</td>\n",
       "      <td>True</td>\n",
       "      <td>1</td>\n",
       "      <td>499</td>\n",
       "      <td>distances</td>\n",
       "      <td>NaN</td>\n",
       "      <td>ca</td>\n",
       "      <td>logistic</td>\n",
       "      <td>21.897952</td>\n",
       "      <td>0.859444</td>\n",
       "    </tr>\n",
       "  </tbody>\n",
       "</table>\n",
       "</div>"
      ],
      "text/plain": [
       "       cluster__max_iter  cluster__stride  tica__dim  tica__lag  \\\n",
       "hp_ix                                                             \n",
       "24                  1000               10         20         60   \n",
       "235                 1000               10         19         90   \n",
       "\n",
       "       tica__kinetic_map  tica__stride  cluster__k feature__value  \\\n",
       "hp_ix                                                               \n",
       "24                  True             1         471      distances   \n",
       "235                 True             1         499      distances   \n",
       "\n",
       "      dihedrals__which distances__scheme distances__transform  \\\n",
       "hp_ix                                                           \n",
       "24                 NaN                ca             logistic   \n",
       "235                NaN                ca             logistic   \n",
       "\n",
       "       distances__steepness  distances__centre  \n",
       "hp_ix                                           \n",
       "24                 6.081760           0.224891  \n",
       "235               21.897952           0.859444  "
      ]
     },
     "execution_count": 43,
     "metadata": {},
     "output_type": "execute_result"
    }
   ],
   "source": [
    "hp_samples.loc[[24, 235]]"
   ]
  },
  {
   "cell_type": "code",
   "execution_count": 20,
   "id": "c83833c0-d334-4971-80c9-e801455b3c96",
   "metadata": {},
   "outputs": [
    {
     "data": {
      "text/plain": [
       "(1.972337380583308, 2865.456871641474, 1.9717888525193787)"
      ]
     },
     "execution_count": 20,
     "metadata": {},
     "output_type": "execute_result"
    }
   ],
   "source": [
    "est_235 = dt.markov.msm.MaximumLikelihoodMSM(reversible=True, lagtime=lag)\n",
    "est_235.fit(dtrajs_235)\n",
    "mod_235 = est_235.fetch_model()\n",
    "mod_235.score(dim=2), mod_235.timescales()[0], (mod_235.eigenvalues()[:2]**2).sum()"
   ]
  },
  {
   "cell_type": "code",
   "execution_count": 53,
   "id": "c5cb4889-71b8-49b3-9b69-4f760a9d249a",
   "metadata": {},
   "outputs": [
    {
     "data": {
      "image/png": "[encoded data removed]",
      "text/plain": [
       "<Figure size 432x288 with 1 Axes>"
      ]
     },
     "metadata": {
      "needs_background": "light"
     },
     "output_type": "display_data"
    }
   ],
   "source": [
    "x = np.linspace(0, 1, 100)\n",
    "y1 = 1/(1+np.exp(-6.1*(x-0.22)))\n",
    "y2 = 1/(1+np.exp(-21.2*(x-0.86)))\n",
    "plt.plot(x, y1, label='Model 24')\n",
    "plt.plot(x, y2, label='Model 235')\n",
    "plt.legend()\n",
    "plt.ylabel('Feature value')\n",
    "plt.xlabel('Inter-residue distance (nm)')\n",
    "plt.savefig('24_vs_235_featurization.png')"
   ]
  },
  {
   "cell_type": "code",
   "execution_count": null,
   "id": "42682b17-2f5d-420e-afc1-315a8ad22304",
   "metadata": {},
   "outputs": [],
   "source": [
    "x"
   ]
  },
  {
   "cell_type": "markdown",
   "id": "5503afe8-fc8a-4913-9c88-5e451f3220d5",
   "metadata": {},
   "source": [
    "Check evs"
   ]
  },
  {
   "cell_type": "code",
   "execution_count": 15,
   "id": "6099212e-d968-4764-9b0f-3c72b550c788",
   "metadata": {},
   "outputs": [
    {
     "name": "stdout",
     "output_type": "stream",
     "text": [
      "norm(K.T - K) =  1.3756021025852028e-26\n",
      "A: \n",
      "[[ 1. -0.]\n",
      " [-0.  1.]]\n",
      "B: \n",
      "[[ 321276.0000000866 -131235.7950314326]\n",
      " [-131460.746906928    62353.2443806402]]\n",
      "C: \n",
      "[[1. 0.]\n",
      " [0. 1.]]\n",
      "Lambdas     = [1.           0.9982888291]\n",
      "Singulars   = [1.           0.9982888291]\n",
      "Lambdas^2   = [1.           0.9965805863]\n",
      "Singulars^2 = [1.           0.9965805863]\n",
      "Sum lambdas =    1.9983\n",
      "VAMP1 =          383629.3103\n",
      "Sum lambdas^2 =  1.9966\n",
      "VAMP2 =          141610957135.707\n",
      "t_2 =            23940.0\n",
      "--------------------------------------------------------------------------------\n",
      "norm(K.T - K) =  3.190677648872517e-25\n",
      "A: \n",
      "[[ 1. -0.]\n",
      " [-0.  1.]]\n",
      "B: \n",
      "[[320140.0000000092 -51800.1045062353]\n",
      " [-52628.2835300336 140124.4383569972]]\n",
      "C: \n",
      "[[ 1. -0.]\n",
      " [-0.  1.]]\n",
      "Lambdas     = [1.           0.9842636129]\n",
      "Singulars   = [1.           0.9842636129]\n",
      "Lambdas^2   = [1.           0.9687748597]\n",
      "Singulars^2 = [1.           0.9687748597]\n",
      "Sum lambdas =    1.9843\n",
      "VAMP1 =          460265.1835\n",
      "Sum lambdas^2 =  1.9688\n",
      "VAMP2 =          127577464879.0444\n",
      "t_2 =            2585.0\n",
      "--------------------------------------------------------------------------------\n"
     ]
    }
   ],
   "source": [
    "def vamp(dtrajs: List[np.ndarray], lag: int, dim: int = 2, epsilon: float = 1e-15) -> float: \n",
    "    \n",
    "    # Get the covariance koopman model\n",
    "    est = dt.markov.msm.MaximumLikelihoodMSM(reversible=True, lagtime=lag)\n",
    "    est.fit(dtrajs)\n",
    "    mod = est.fetch_model()\n",
    "    \n",
    "    cmat = mod.count_model.count_matrix\n",
    "    tmat = mod.transition_matrix\n",
    "    \n",
    "    # Empirical covariances\n",
    "    cov0t = cmat\n",
    "    cov00 = np.diag(cov0t.sum(axis=1))\n",
    "    covtt = np.diag(cov0t.sum(axis=0))\n",
    "    \n",
    "    # Symmetrized tmat\n",
    "    \n",
    "    # reweight operator to empirical distribution\n",
    "    C0t_re = cov00 @ tmat\n",
    "    # symmetrized operator and SVD\n",
    "    # By construction - this will not give rise to SVD where singular values == eigenvalues of tmat. \n",
    "    tmat_sym = np.linalg.multi_dot([spd_inv_sqrt(cov00, epsilon=epsilon, method='schur'), C0t_re,\n",
    "                                 spd_inv_sqrt(covtt, epsilon=epsilon, method='schur')])\n",
    "    \n",
    "        \n",
    "    print('norm(K.T - K) = ', schatten_norm(tmat_sym.T - tmat_sym, 2) ** 2)\n",
    "    \n",
    "    # SVD\n",
    "    U, singular_values, Vt = scipy.linalg.svd(tmat_sym, compute_uv=True)\n",
    "    U = spd_inv_sqrt(cov00, epsilon=epsilon) @ U\n",
    "    Vt = Vt @ spd_inv_sqrt(covtt, epsilon=epsilon)\n",
    "    V = Vt.T\n",
    "    \n",
    "    \n",
    "    # Sort by singular values\n",
    "    sort_ix = np.argsort(singular_values)[::-1][:dim]  # indices to sort in descending order\n",
    "    U = U[:, sort_ix]\n",
    "    V = V[:, sort_ix]\n",
    "    singular_values = singular_values[sort_ix]\n",
    "    \n",
    "    \n",
    "    \n",
    "    \n",
    "    A = np.atleast_2d(spd_inv_sqrt(U.T.dot(cov00).dot(U), epsilon=epsilon))\n",
    "    B = np.atleast_2d(U.T.dot(cov0t).dot(V))\n",
    "    C = np.atleast_2d(spd_inv_sqrt(V.T.dot(covtt).dot(V), epsilon=epsilon))\n",
    "    ABC = np.linalg.multi_dot([A, B, C])\n",
    "    vamp1 = schatten_norm(ABC, 1) ** 1\n",
    "    vamp2 = schatten_norm(ABC, 2) ** 2\n",
    "    \n",
    "    with np.printoptions(precision=10):\n",
    "        print('A: ')\n",
    "        print(np.round(A, 10))\n",
    "        print('B: ')\n",
    "        print(np.round(B, 10))\n",
    "        print('C: ')\n",
    "        print(np.round(C, 10))\n",
    "        print('Lambdas     =', mod.eigenvalues(2))\n",
    "        print('Singulars   =', singular_values[:2])\n",
    "        print('Lambdas^2   =', mod.eigenvalues(2)**2)\n",
    "        print('Singulars^2 =', singular_values[:2]**2)\n",
    "        \n",
    "        print('Sum lambdas =   ', np.round(mod.eigenvalues(2).sum(), 4))\n",
    "        print('VAMP1 =         ', np.round(vamp1, 4))\n",
    "        print('Sum lambdas^2 = ', np.round((mod.eigenvalues(2)**2).sum(), 4))\n",
    "        print('VAMP2 =         ', np.round(vamp2, 4))              \n",
    "        print(f't_2 =            {np.round(mod.timescales(1)[0], 0)}')\n",
    "    print('-'*80)\n",
    "\n",
    "vamp(dtrajs_24, lag=41)\n",
    "vamp(dtrajs_235, lag=41)"
   ]
  },
  {
   "cell_type": "code",
   "execution_count": null,
   "id": "c2fb83b1-4618-4a50-9861-6ce8e8c851f6",
   "metadata": {},
   "outputs": [],
   "source": []
  }
 ],
 "metadata": {
  "kernelspec": {
   "display_name": "Python 3 (ipykernel)",
   "language": "python",
   "name": "python3"
  },
  "language_info": {
   "codemirror_mode": {
    "name": "ipython",
    "version": 3
   },
   "file_extension": ".py",
   "mimetype": "text/x-python",
   "name": "python",
   "nbconvert_exporter": "python",
   "pygments_lexer": "ipython3",
   "version": "3.9.0"
  }
 },
 "nbformat": 4,
 "nbformat_minor": 5
}
