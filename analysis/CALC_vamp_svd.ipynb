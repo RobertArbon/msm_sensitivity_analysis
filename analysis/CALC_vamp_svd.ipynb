{
 "cells": [
  {
   "cell_type": "code",
   "execution_count": 48,
   "id": "3f4be523-6524-4829-a615-da643d7213ed",
   "metadata": {
    "tags": []
   },
   "outputs": [],
   "source": [
    "import pyemma as pm\n",
    "import deeptime as dt\n",
    "import numpy as np\n",
    "from pathlib import Path\n",
    "import pandas as pd\n",
    "import seaborn as sns\n",
    "from typing import *\n",
    "from pathlib import Path\n",
    "from deeptime.numeric import is_sorted, spd_inv_sqrt, schatten_norm\n",
    "import scipy\n",
    "from msmtools.estimation import transition_matrix\n"
   ]
  },
  {
   "cell_type": "code",
   "execution_count": 49,
   "id": "bd702ba7-ab4e-45ca-a2a5-928756c401ad",
   "metadata": {},
   "outputs": [],
   "source": [
    "dtrajs_24 = [np.load(x) for x in Path('hp_24/bs_0').glob('dtraj*.npy')]\n",
    "dtrajs_235 = [np.load(x) for x in Path('hp_235/bs_0').glob('dtraj*.npy')]\n",
    "lag = 41"
   ]
  },
  {
   "cell_type": "code",
   "execution_count": 50,
   "id": "4be8dc2b-a01f-40e1-9bd6-d981044842ca",
   "metadata": {},
   "outputs": [
    {
     "data": {
      "text/plain": [
       "(1.9648893624588197, 23939.695689025433, 1.9965805862753765)"
      ]
     },
     "execution_count": 50,
     "metadata": {},
     "output_type": "execute_result"
    }
   ],
   "source": [
    "est_24 = dt.markov.msm.MaximumLikelihoodMSM(reversible=True, lagtime=lag)\n",
    "est_24.fit(dtrajs_24)\n",
    "mod_24 = est_24.fetch_model()\n",
    "mod_24.score(dim=2), mod_24.timescales(1)[0], (mod_24.eigenvalues()[:2]**2).sum()"
   ]
  },
  {
   "cell_type": "code",
   "execution_count": 51,
   "id": "c83833c0-d334-4971-80c9-e801455b3c96",
   "metadata": {},
   "outputs": [
    {
     "data": {
      "text/plain": [
       "(1.9803537206523718, 2584.872309328571, 1.968774859683399)"
      ]
     },
     "execution_count": 51,
     "metadata": {},
     "output_type": "execute_result"
    }
   ],
   "source": [
    "est_235 = dt.markov.msm.MaximumLikelihoodMSM(reversible=True, lagtime=lag)\n",
    "est_235.fit(dtrajs_235)\n",
    "mod_235 = est_235.fetch_model()\n",
    "mod_235.score(dim=2), mod_235.timescales()[0], (mod_235.eigenvalues()[:2]**2).sum()"
   ]
  },
  {
   "cell_type": "code",
   "execution_count": 56,
   "id": "6099212e-d968-4764-9b0f-3c72b550c788",
   "metadata": {},
   "outputs": [
    {
     "name": "stdout",
     "output_type": "stream",
     "text": [
      "norm(K.T - K) =  0.6186800006777994\n",
      "A: \n",
      "[[1. 0.]\n",
      " [0. 1.]]\n",
      "B: \n",
      "[[1.           0.          ]\n",
      " [0.           0.9822878206]]\n",
      "C: \n",
      "[[1. 0.]\n",
      " [0. 1.]]\n",
      "Lambdas     = [1.           0.9982888291]\n",
      "Singulars   = [1.           0.9822849512]\n",
      "Lambdas^2   = [1.           0.9965805863]\n",
      "Singulars^2 = [1.           0.9648837253]\n",
      "Sum lambdas =    1.9983\n",
      "VAMP1 =          1.9823\n",
      "Sum lambdas^2 =  1.9966\n",
      "VAMP2 =          1.9649\n",
      "t_2 =            23940.0\n",
      "--------------------------------------------------------------------------------\n",
      "norm(K.T - K) =  0.850867732038595\n",
      "A: \n",
      "[[1. 0.]\n",
      " [0. 1.]]\n",
      "B: \n",
      "[[ 1.000000000e+00 -1.800000000e-09]\n",
      " [ 0.000000000e+00  9.901281335e-01]]\n",
      "C: \n",
      "[[ 1. -0.]\n",
      " [-0.  1.]]\n",
      "Lambdas     = [1.           0.9842636129]\n",
      "Singulars   = [1.          0.989646646]\n",
      "Lambdas^2   = [1.           0.9687748597]\n",
      "Singulars^2 = [1.          0.979400484]\n",
      "Sum lambdas =    1.9843\n",
      "VAMP1 =          1.9901\n",
      "Sum lambdas^2 =  1.9688\n",
      "VAMP2 =          1.9804\n",
      "t_2 =            2585.0\n",
      "--------------------------------------------------------------------------------\n"
     ]
    }
   ],
   "source": [
    "def vamp(dtrajs: List[np.ndarray], lag: int, dim: int = 2, epsilon: float = 1e-15) -> float: \n",
    "    \n",
    "    # Get the covariance koopman model\n",
    "    est = dt.markov.msm.MaximumLikelihoodMSM(reversible=True, lagtime=lag)\n",
    "    est.fit(dtrajs)\n",
    "    mod = est.fetch_model()\n",
    "    \n",
    "    cmat = mod.count_model.count_matrix\n",
    "    tmat = mod.transition_matrix\n",
    "    \n",
    "    # Empirical covariances\n",
    "    cov0t = cmat\n",
    "    cov00 = np.diag(cov0t.sum(axis=1))\n",
    "    covtt = np.diag(cov0t.sum(axis=0))\n",
    "    \n",
    "    # Symmetrized tmat\n",
    "    \n",
    "    # reweight operator to empirical distribution\n",
    "    C0t_re = cov00 @ tmat\n",
    "    # symmetrized operator and SVD\n",
    "    tmat_sym = np.linalg.multi_dot([spd_inv_sqrt(cov00, epsilon=epsilon, method='schur'), C0t_re,\n",
    "                                 spd_inv_sqrt(covtt, epsilon=epsilon, method='schur')])\n",
    "    \n",
    "        \n",
    "    print('norm(K.T - K) = ', schatten_norm(tmat_sym.T - tmat_sym, 2) ** 2)\n",
    "    \n",
    "    # SVD\n",
    "    U, singular_values, Vt = scipy.linalg.svd(tmat_sym, compute_uv=True)\n",
    "    U = spd_inv_sqrt(cov00, epsilon=epsilon) @ U\n",
    "    Vt = Vt @ spd_inv_sqrt(covtt, epsilon=epsilon)\n",
    "    V = Vt.T\n",
    "    \n",
    "    \n",
    "    # Sort by singular values\n",
    "    sort_ix = np.argsort(singular_values)[::-1][:dim]  # indices to sort in descending order\n",
    "    U = U[:, sort_ix]\n",
    "    V = V[:, sort_ix]\n",
    "    singular_values = singular_values[sort_ix]\n",
    "    \n",
    "    \n",
    "    \n",
    "    \n",
    "    A = np.atleast_2d(spd_inv_sqrt(U.T.dot(cov00).dot(U), epsilon=epsilon))\n",
    "    B = np.atleast_2d(U.T.dot(cov0t).dot(V))\n",
    "    C = np.atleast_2d(spd_inv_sqrt(V.T.dot(covtt).dot(V), epsilon=epsilon))\n",
    "    ABC = np.linalg.multi_dot([A, B, C])\n",
    "    vamp1 = schatten_norm(ABC, 1) ** 1\n",
    "    vamp2 = schatten_norm(ABC, 2) ** 2\n",
    "    \n",
    "    with np.printoptions(precision=10):\n",
    "        print('A: ')\n",
    "        print(np.round(A, 10))\n",
    "        print('B: ')\n",
    "        print(np.round(B, 10))\n",
    "        print('C: ')\n",
    "        print(np.round(C, 10))\n",
    "        print('Lambdas     =', mod.eigenvalues(2))\n",
    "        print('Singulars   =', singular_values[:2])\n",
    "        print('Lambdas^2   =', mod.eigenvalues(2)**2)\n",
    "        print('Singulars^2 =', singular_values[:2]**2)\n",
    "        \n",
    "        print('Sum lambdas =   ', np.round(mod.eigenvalues(2).sum(), 4))\n",
    "        print('VAMP1 =         ', np.round(vamp1, 4))\n",
    "        print('Sum lambdas^2 = ', np.round((mod.eigenvalues(2)**2).sum(), 4))\n",
    "        print('VAMP2 =         ', np.round(vamp2, 4))              \n",
    "        print(f't_2 =            {np.round(mod.timescales(1)[0], 0)}')\n",
    "    print('-'*80)\n",
    "\n",
    "vamp(dtrajs_24, lag=41)\n",
    "vamp(dtrajs_235, lag=41)"
   ]
  },
  {
   "cell_type": "code",
   "execution_count": null,
   "id": "c2fb83b1-4618-4a50-9861-6ce8e8c851f6",
   "metadata": {},
   "outputs": [],
   "source": []
  }
 ],
 "metadata": {
  "kernelspec": {
   "display_name": "Python 3 (ipykernel)",
   "language": "python",
   "name": "python3"
  },
  "language_info": {
   "codemirror_mode": {
    "name": "ipython",
    "version": 3
   },
   "file_extension": ".py",
   "mimetype": "text/x-python",
   "name": "python",
   "nbconvert_exporter": "python",
   "pygments_lexer": "ipython3",
   "version": "3.8.0"
  }
 },
 "nbformat": 4,
 "nbformat_minor": 5
}
