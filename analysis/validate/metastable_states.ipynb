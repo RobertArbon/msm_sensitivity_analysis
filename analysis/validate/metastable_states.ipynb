{
 "cells": [
  {
   "cell_type": "code",
   "execution_count": 28,
   "metadata": {},
   "outputs": [],
   "source": [
    "import mdtraj as md\n",
    "import pyemma as pm\n",
    "import pandas as pd\n",
    "import matplotlib.pyplot as plt\n",
    "import numpy as np\n",
    "from typing import Dict, List, Optional, Union, Tuple\n",
    "from pathlib import Path\n",
    "import pickle\n",
    "import seaborn as sns\n",
    "\n",
    "from msmtools.estimation import transition_matrix as _transition_matrix\n",
    "from msmtools.analysis import timescales as _timescales"
   ]
  },
  {
   "cell_type": "code",
   "execution_count": 2,
   "metadata": {
    "collapsed": false,
    "jupyter": {
     "outputs_hidden": false
    },
    "pycharm": {
     "name": "#%%\n"
    }
   },
   "outputs": [],
   "source": [
    "def featurizer(hp_dict: Dict, traj_paths: List[str], top_path: str) -> List[np.ndarray]:\n",
    "    if hp_dict['feature__value'] == 'dihedrals':\n",
    "        assert hp_dict['dihedrals__which'] == 'all'\n",
    "        def f(traj: md.Trajectory, **kwargs) -> np.ndarray:\n",
    "            _, phi = md.compute_phi(traj)\n",
    "            _, psi = md.compute_psi(traj)\n",
    "            _, chi1 = md.compute_chi1(traj)\n",
    "            _, chi2 = md.compute_chi2(traj)\n",
    "            _, chi3 = md.compute_chi3(traj)\n",
    "            _, chi4 = md.compute_chi4(traj)\n",
    "            _, chi5 = md.compute_chi5(traj)\n",
    "            ftraj = np.concatenate([phi, psi, chi1, chi2, chi3, chi4, chi5], axis=1)\n",
    "            ftraj = np.concatenate([np.cos(ftraj), np.sin(ftraj)], axis=1)\n",
    "            return ftraj\n",
    "\n",
    "    elif hp_dict['feature__value'] == 'distances':\n",
    "        def f(traj: md.Trajectory, **kwargs):\n",
    "            scheme = kwargs['distances__scheme']\n",
    "            transform = kwargs['distances__transform']\n",
    "            centre = kwargs['distances__centre']\n",
    "            steepness = kwargs['distances__steepness']\n",
    "            ftraj, _ = md.compute_contacts(traj, scheme=scheme)\n",
    "            if transform=='logistic':\n",
    "                ftraj = 1.0/(1+np.exp(-steepness*(ftraj - centre)))\n",
    "            return ftraj\n",
    "    else:\n",
    "        raise ValueError\n",
    "    ftrajs = []\n",
    "    for traj_path in traj_paths:\n",
    "        traj = md.load(traj_path, top=top_path)\n",
    "        ftrajs.append(f(traj, **hp_dict))\n",
    "    return ftrajs\n",
    "\n",
    "\n",
    "def tica(hp_dict: Dict[str, Union[float, int, str]], ftrajs: List[np.ndarray]) -> List[np.ndarray]:\n",
    "    lag = hp_dict['tica__lag']\n",
    "    stride = hp_dict['tica__stride']\n",
    "    dim = hp_dict['tica__dim']\n",
    "    tica = pm.coordinates.tica(ftrajs, lag=lag, dim=dim, kinetic_map=True)\n",
    "    ttrajs = tica.get_output()\n",
    "    return ttrajs, tica\n",
    "\n",
    "def kmeans(hp_dict: Dict, ttrajs: List[np.ndarray], seed: int) -> List[np.ndarray]:\n",
    "    k = hp_dict['cluster__k']\n",
    "    max_iter = hp_dict['cluster__max_iter']\n",
    "    stride = hp_dict['cluster__stride']\n",
    "    kmeans = pm.coordinates.cluster_kmeans(ttrajs, k=k, max_iter=max_iter, stride=stride, fixed_seed=seed, n_jobs=1)\n",
    "    dtrajs = kmeans.dtrajs\n",
    "    return dtrajs, kmeans\n",
    "\n",
    "\n",
    "def its(dtrajs: List[np.ndarray], lags: List[int], nits: int) -> np.ndarray:\n",
    "    its_obj = pm.msm.timescales_msm(dtrajs=dtrajs, lags=lags, nits=nits)\n",
    "    return its_obj.timescales\n",
    "\n",
    "\n",
    "def score(dtrajs: List[np.ndarray], lags: List[int], nits: int) -> np.ndarray:\n",
    "    all_vs = []\n",
    "    for lag in lags: \n",
    "        m = pm.msm.estimate_markov_model(dtrajs, lag=lag)\n",
    "        vs = np.array([m.score(dtrajs, score_k=k) for k in range(2, nits+2)])\n",
    "        vs = vs.reshape(1, -1)\n",
    "        all_vs.append(vs)\n",
    "    all_vs = np.concatenate(all_vs, axis=0)\n",
    "    return all_vs\n",
    "        \n",
    "\n",
    "\n",
    "def bootstrap(ftrajs: List[np.ndarray], rng: np.random.Generator) -> List[np.ndarray]:\n",
    "    probs = np.array([x.shape[0] for x in ftrajs])\n",
    "    probs = probs/np.sum(probs)\n",
    "    ix = np.arange(len(ftrajs))\n",
    "    new_ix = rng.choice(ix,size=len(ftrajs), p=probs, replace=True)\n",
    "    return [ftrajs[i] for i in new_ix], new_ix\n",
    "\n",
    "\n",
    "\n",
    "def summarise(df):\n",
    "    df_summary = df.groupby(['hp_ix', 'lag', 'process']).agg(median=(0, lambda x: np.quantile(x, 0.5)),\n",
    "                                                                   lb=(0, lambda x: np.quantile(x, 0.025)),\n",
    "                                                                   ub=(0, lambda x: np.quantile(x, 0.975)), \n",
    "                                                                   count =(0, lambda x: x.shape[0]-x.isna().sum()))\n",
    "    return df_summary\n",
    "\n",
    "\n",
    "def samples_to_summary(samples: np.ndarray, lags: List[int],  hp_ix: int)-> pd.DataFrame: \n",
    "    \"\"\"\n",
    "    samples=np.ndarray[lagtime, process, bs_sample]\n",
    "    \"\"\"\n",
    "    df = pd.concat({(hp_ix, lags[i], j+2): pd.DataFrame(samples[i, j, :]) for i in range(samples.shape[0]) for j in range(samples.shape[1])})\n",
    "    df.index.rename(('hp_ix', 'lag', 'process', 'bs_ix'), inplace=True)\n",
    "    df_summary = summarise(df)\n",
    "    return df_summary\n",
    "                    \n",
    "    "
   ]
  },
  {
   "cell_type": "code",
   "execution_count": 113,
   "metadata": {
    "collapsed": false,
    "jupyter": {
     "outputs_hidden": false
    },
    "pycharm": {
     "name": "#%%\n"
    }
   },
   "outputs": [],
   "source": [
    "protein = '1fme'\n",
    "seed = 49587\n",
    "rng = np.random.default_rng(seed)\n",
    "lags = list(range(1, 102, 10))\n",
    "n_bootstraps = 1\n",
    "nits=25\n",
    "hp_ix = 174\n",
    "lag = 41\n",
    "\n",
    "hps = pd.read_hdf('../../experiments/hpsample.h5')\n",
    "top_path = f'../../data/1fme/protein.pdb'\n",
    "traj_paths = list(Path('../../data/1fme').rglob(f'*.xtc'))\n",
    "traj_paths = [str(x) for x in traj_paths]\n",
    "traj_paths.sort()\n",
    "assert traj_paths\n",
    "\n",
    "# source_ts = pd.DataFrame(pd.read_hdf(f'../analysis/{protein}/summary_batch1.h5', key='timescales'))\n",
    "# source_vs = pd.DataFrame(pd.read_hdf(f'../analysis/{protein}/summary_batch1.h5', key='vamps'))"
   ]
  },
  {
   "cell_type": "code",
   "execution_count": 114,
   "metadata": {
    "tags": []
   },
   "outputs": [
    {
     "name": "stdout",
     "output_type": "stream",
     "text": [
      "{'cluster__max_iter': 1000, 'cluster__stride': 10, 'tica__dim': 1, 'tica__lag': 62, 'tica__kinetic_map': True, 'tica__stride': 1, 'cluster__k': 312, 'feature__value': 'distances', 'dihedrals__which': nan, 'distances__scheme': 'closest-heavy', 'distances__transform': 'linear', 'distances__steepness': 0.0, 'distances__centre': 0.0}\n"
     ]
    },
    {
     "data": {
      "application/vnd.jupyter.widget-view+json": {
       "model_id": "",
       "version_major": 2,
       "version_minor": 0
      },
      "text/plain": [
       "calculate covariances:   0%|                                                                                  …"
      ]
     },
     "metadata": {},
     "output_type": "display_data"
    },
    {
     "data": {
      "application/vnd.jupyter.widget-view+json": {
       "model_id": "",
       "version_major": 2,
       "version_minor": 0
      },
      "text/plain": [
       "getting output of TICA:   0%|                                                                                 …"
      ]
     },
     "metadata": {},
     "output_type": "display_data"
    },
    {
     "data": {
      "application/vnd.jupyter.widget-view+json": {
       "model_id": "",
       "version_major": 2,
       "version_minor": 0
      },
      "text/plain": [
       "initialize kmeans++ centers:   0%|                                                                            …"
      ]
     },
     "metadata": {},
     "output_type": "display_data"
    },
    {
     "data": {
      "application/vnd.jupyter.widget-view+json": {
       "model_id": "",
       "version_major": 2,
       "version_minor": 0
      },
      "text/plain": [
       "kmeans iterations:   0%|                                                                                      …"
      ]
     },
     "metadata": {},
     "output_type": "display_data"
    },
    {
     "data": {
      "application/vnd.jupyter.widget-view+json": {
       "model_id": "",
       "version_major": 2,
       "version_minor": 0
      },
      "text/plain": [
       "getting output of KmeansClustering:   0%|                                                                     …"
      ]
     },
     "metadata": {},
     "output_type": "display_data"
    }
   ],
   "source": [
    "print(hps.loc[hp_ix, :].to_dict())\n",
    "\n",
    "ftrajs_all = featurizer(hps.loc[hp_ix, :].to_dict(), traj_paths, top_path)\n",
    "# Bootstrap results\n",
    "ts_samples = []\n",
    "vs_samples = []\n",
    "for i in range(n_bootstraps):\n",
    "#     if n_bootstraps>1: \n",
    "#         print(i, end=', ')\n",
    "#     ftrajs, ix = bootstrap(ftrajs_all, rng)\n",
    "#     traj_paths_bs = [traj_paths[i] for i in ix]\n",
    "    \n",
    "#     else:\n",
    "    ftrajs = ftrajs_all\n",
    "    assert len(ftrajs) == len(ftrajs_all)\n",
    "    \n",
    "    ttrajs, tica_mod = tica(hps.loc[hp_ix, :].to_dict(), ftrajs)\n",
    "    dtrajs, kmeans_mod = kmeans(hps.loc[hp_ix, :].to_dict(), ttrajs, seed)\n",
    "    \n",
    "    if n_bootstraps>1:\n",
    "        out_dir = Path(f'dtrajs/hp_{hp_ix}/bs_{i}')\n",
    "    else:\n",
    "        out_dir = Path(f'dtrajs/hp_{hp_ix}/dtrajs')\n",
    "        \n",
    "    out_dir.mkdir(parents=True, exist_ok=True)\n",
    "    \n",
    "    for j in range(len(traj_paths)): \n",
    "        traj_path = Path(traj_paths[j]).resolve()\n",
    "        np.save(file=out_dir.joinpath(traj_path.with_suffix('.npy').name), arr=dtrajs[j])"
   ]
  },
  {
   "cell_type": "code",
   "execution_count": 115,
   "metadata": {},
   "outputs": [
    {
     "data": {
      "text/plain": [
       "PCCA(P=array([[0.01442, 0.     , ..., 0.00371, 0.00547],\n",
       "       [0.     , 0.04421, ..., 0.     , 0.     ],\n",
       "       ...,\n",
       "       [0.01586, 0.     , ..., 0.00502, 0.00502],\n",
       "       [0.01039, 0.     , ..., 0.00223, 0.00818]]),\n",
       "   m=2)"
      ]
     },
     "execution_count": 115,
     "metadata": {},
     "output_type": "execute_result"
    },
    {
     "data": {
      "image/png": "[encoded data removed]",
      "text/plain": [
       "<Figure size 432x288 with 1 Axes>"
      ]
     },
     "metadata": {
      "needs_background": "light"
     },
     "output_type": "display_data"
    }
   ],
   "source": [
    "msm = pm.msm.estimate_markov_model(dtrajs, lag=lag)\n",
    "ts = msm.timescales(10)\n",
    "plt.plot(ts[:-1]/ts[1:], marker='o')\n",
    "msm.pcca(2)"
   ]
  },
  {
   "cell_type": "code",
   "execution_count": 117,
   "metadata": {},
   "outputs": [
    {
     "data": {
      "image/png": "[encoded data removed]",
      "text/plain": [
       "<Figure size 432x288 with 1 Axes>"
      ]
     },
     "metadata": {
      "needs_background": "light"
     },
     "output_type": "display_data"
    }
   ],
   "source": [
    "fig, ax = plt.subplots()\n",
    "\n",
    "Y = np.concatenate(ttrajs)\n",
    "if Y.shape[1]==1:\n",
    "    pm.plots.plot_feature_histograms(Y, ax=ax)\n",
    "    ax.scatter(x=kmeans_mod.clustercenters[:, 0], y=np.repeat(0,kmeans_mod.clustercenters.shape[0]), \n",
    "              c=msm.metastable_distributions.argmax(0))\n",
    "else:\n",
    "    pm.plots.plot_free_energy(Y[:, 0], Y[:, 1], ax=ax)\n",
    "    ax.scatter(x=kmeans_mod.clustercenters[:, 0], y=kmeans_mod.clustercenters[:, 1], \n",
    "              c=msm.metastable_distributions.argmax(0))\n"
   ]
  },
  {
   "cell_type": "code",
   "execution_count": 131,
   "metadata": {
    "tags": []
   },
   "outputs": [
    {
     "name": "stderr",
     "output_type": "stream",
     "text": [
      "/Users/robertarbon/opt/miniconda3/envs/msmsense/lib/python3.8/site-packages/mdtraj/formats/pdb/pdbfile.py:196: UserWarning: Unlikely unit cell vectors detected in PDB file likely resulting from a dummy CRYST1 record. Discarding unit cell vectors.\n",
      "  warnings.warn('Unlikely unit cell vectors detected in PDB file likely '\n"
     ]
    },
    {
     "data": {
      "application/vnd.jupyter.widget-view+json": {
       "model_id": "",
       "version_major": 2,
       "version_minor": 0
      },
      "text/plain": [
       "Obtaining file info:   0%|                                                                                    …"
      ]
     },
     "metadata": {},
     "output_type": "display_data"
    },
    {
     "data": {
      "application/vnd.jupyter.widget-view+json": {
       "model_id": "",
       "version_major": 2,
       "version_minor": 0
      },
      "text/plain": [
       "Obtaining file info:   0%|                                                                                    …"
      ]
     },
     "metadata": {},
     "output_type": "display_data"
    }
   ],
   "source": [
    "dists = 1*(msm.metastable_distributions>0.015)\n",
    "dists = dists/np.sum(dists, axis=1)[:, np.newaxis]\n",
    "\n",
    "samples = msm.sample_by_distributions(dists, 100)\n",
    "ref = md.load('1fme.pdb')\n",
    "\n",
    "state_out_dir = out_dir.joinpath('../').resolve().joinpath('states')\n",
    "state_out_dir.mkdir(exist_ok=True, parents=True)\n",
    "\n",
    "states = []\n",
    "\n",
    "for sample_ix in range(len(samples)):\n",
    "\n",
    "    outfile = str(state_out_dir.joinpath(f'state_{sample_ix}.pdb'))\n",
    "    \n",
    "    traj = pm.coordinates.save_traj(traj_paths, samples[sample_ix], \n",
    "                                 outfile=None, top=top_path)\n",
    "    traj.superpose(reference=ref)\n",
    "    states.append(traj)\n",
    "    traj.save_pdb(str(outfile))\n"
   ]
  },
  {
   "cell_type": "code",
   "execution_count": 132,
   "metadata": {},
   "outputs": [],
   "source": [
    "rmsds = [md.rmsd(target=x, reference=ref) for x in states]"
   ]
  },
  {
   "cell_type": "code",
   "execution_count": 133,
   "metadata": {},
   "outputs": [],
   "source": [
    "rmsds_df = pd.DataFrame({f\"state_{i}\": rmsd for i, rmsd in enumerate(rmsds)}).melt()"
   ]
  },
  {
   "cell_type": "code",
   "execution_count": 134,
   "metadata": {},
   "outputs": [
    {
     "data": {
      "image/png": "[encoded data removed]",
      "text/plain": [
       "<Figure size 762.25x360 with 1 Axes>"
      ]
     },
     "metadata": {
      "needs_background": "light"
     },
     "output_type": "display_data"
    }
   ],
   "source": [
    "sns.displot(data=rmsds_df*10, hue='variable', x='value', kind='kde' )\n",
    "plt.savefig(f\"metastable_states_rmsd_{hp_ix}.png\")"
   ]
  },
  {
   "cell_type": "code",
   "execution_count": null,
   "metadata": {},
   "outputs": [],
   "source": []
  }
 ],
 "metadata": {
  "kernelspec": {
   "display_name": "Python 3 (ipykernel)",
   "language": "python",
   "name": "python3"
  },
  "language_info": {
   "codemirror_mode": {
    "name": "ipython",
    "version": 3
   },
   "file_extension": ".py",
   "mimetype": "text/x-python",
   "name": "python",
   "nbconvert_exporter": "python",
   "pygments_lexer": "ipython3",
   "version": "3.8.0"
  }
 },
 "nbformat": 4,
 "nbformat_minor": 4
}
