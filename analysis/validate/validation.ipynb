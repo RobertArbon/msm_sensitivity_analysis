{
 "cells": [
  {
   "cell_type": "code",
   "execution_count": 4,
   "id": "7ee11cb4-6bbf-4cc6-8f33-f3b7c6134caf",
   "metadata": {},
   "outputs": [],
   "source": [
    "import matplotlib.pyplot as plt\n",
    "import pandas as pd\n",
    "import numpy as np\n",
    "import seaborn as sns\n",
    "import matplotlib as mpl\n",
    "\n",
    "import pyemma as pm\n",
    "import mdtraj as md\n",
    "from glob import glob\n",
    "\n",
    "\n",
    "from msmsense.featurizers import dihedrals, distances\n",
    "# from msmsense.bootstrap_cmatrices import get_sub_dict, get_trajs\n",
    "from functools import partial"
   ]
  },
  {
   "cell_type": "code",
   "execution_count": 5,
   "id": "ae4345a6-36ba-4b04-a9c9-97b6a16b17f7",
   "metadata": {},
   "outputs": [],
   "source": [
    "protein = '1fme'\n",
    "lag = 41\n",
    "process = 2\n"
   ]
  },
  {
   "cell_type": "markdown",
   "id": "e7847071-7fb6-46dc-a75b-dffcafc75ed5",
   "metadata": {},
   "source": [
    "# Hyperparameters"
   ]
  },
  {
   "cell_type": "code",
   "execution_count": 6,
   "id": "fd9dd099-45a3-4535-8c9f-561a25d1a492",
   "metadata": {},
   "outputs": [],
   "source": [
    "def fit_model(data,  lag, cluster_stride, tica_dim, tica_lag,  \n",
    "              k, feature, distances_scheme, distances_transform, centre, steepness): \n",
    "    if feature == 'distances': \n",
    "        featurizer = partial(distances, scheme=distances_scheme,transform=distances_transform, centre=centre, steepness=steepness )\n",
    "    else: \n",
    "        raise NotImplementedError()\n",
    "        \n",
    "    ftrajs = featurizer(data)\n",
    "    \n",
    "    \n",
    "    tica = pm.coordinates.tica(data=ftrajs, lag=tica_lag, dim=tica_dim)\n",
    "    ttrajs = tica.get_output()\n",
    "    cluster = pm.coordinates.cluster_kmeans(data=ttrajs, k=k, max_iter=1000, stride=cluster_stride, fixed_seed=49587)\n",
    "    dtrajs = cluster.dtrajs\n",
    "    \n",
    "    msm = pm.msm.estimate_markov_model(dtrajs, lag=lag, reversible=True, connectivity='largest',\n",
    "                                                 mincount_connectivity=\"1/n\")\n",
    "    return (tica, cluster, msm)\n",
    "    \n",
    "def get_param(df,ix, param):\n",
    "    result = list(df.loc[df.hp_ix == ix, :].to_dict()[param].values())[0]\n",
    "    print(param, result)\n",
    "    return result\n",
    "    "
   ]
  },
  {
   "cell_type": "code",
   "execution_count": 7,
   "id": "f2a00c49-d9fc-4339-bf2b-4a8a93713239",
   "metadata": {},
   "outputs": [
    {
     "name": "stdout",
     "output_type": "stream",
     "text": [
      "(68161, 7) (150, 14)\n",
      "(68161, 21)\n",
      "(68161, 21)\n"
     ]
    }
   ],
   "source": [
    "summary_paths = [f'../{protein}/summary_batch1.h5', f'../{protein}/summary_batch2.h5', f'../{protein}/summary_batch3.h5']\n",
    "\n",
    "hp_paths = ['../../experiments/hpsample.h5', '../../experiments/new_hpsample.h5', '../../experiments/new_ts_hpsample_missing_best.h5']\n",
    "\n",
    "keep_hp_ixs = [np.array([]), np.array([329, 330, 331, 334, 335]), \n",
    "               np.array([340, 341, 342, 343, 344])]\n",
    "\n",
    "hps = []\n",
    "timescales = []\n",
    "\n",
    "for batch_num in range(3):\n",
    "    keep_ix = keep_hp_ixs[batch_num]\n",
    "    \n",
    "    # Hp definitions\n",
    "    hp = pd.read_hdf(hp_paths[batch_num])\n",
    "    hp.reset_index(inplace=True)    \n",
    "    \n",
    "    # Drop these columns if they exist. \n",
    "    for drop_col in ['index', 'Group']:\n",
    "        if drop_col in hp.columns:\n",
    "            hp.drop(labels=[drop_col], inplace=True, axis=1)\n",
    "    if keep_ix.shape[0]>0: \n",
    "        hp = hp.loc[hp.hp_ix.isin(keep_ix), :]\n",
    "    hps.append(hp)\n",
    "    \n",
    "    # timescales\n",
    "    tmp = pd.read_hdf(summary_paths[batch_num], key='timescales')\n",
    "    tmp.reset_index(inplace=True)\n",
    "    \n",
    "    # Drop these columns if they exist. \n",
    "    for drop_col in ['index', 'Group']:\n",
    "        if drop_col in tmp.columns:\n",
    "            tmp.drop(labels=[drop_col], inplace=True, axis=1)\n",
    "    \n",
    "    if keep_ix.shape[0]>0: \n",
    "        tmp = tmp.loc[tmp.hp_ix.isin(keep_ix), :]\n",
    "    timescales.append(tmp)\n",
    "    \n",
    "       \n",
    "timescales = pd.concat(timescales, axis=0)\n",
    "hps = pd.concat(hps, axis=0)    \n",
    "\n",
    "print(timescales.shape, hps.shape)\n",
    "\n",
    "timescales = timescales.merge(hps, on=['hp_ix'], how='left')\n",
    "timescales['feature'] = timescales.apply(lambda x: f\"{x['feature__value']}\" if x['feature__value'] =='dihedrals' else f\"{x['distances__transform']}-{x['feature__value']}\", axis=1)\n",
    "print(timescales.shape)\n",
    "timescales.drop_duplicates(inplace=True)\n",
    "print(timescales.shape)"
   ]
  },
  {
   "cell_type": "code",
   "execution_count": 8,
   "id": "1e8c9f63-6183-450f-bf85-325aeead12e4",
   "metadata": {},
   "outputs": [],
   "source": [
    "df = timescales.loc[(timescales.lag==lag) & (timescales.process==process), :].copy()"
   ]
  },
  {
   "cell_type": "code",
   "execution_count": 9,
   "id": "742877a6-5462-441d-94ca-bb0b2d66f2cd",
   "metadata": {},
   "outputs": [],
   "source": [
    "df.sort_values(by=['median'], ascending=False, inplace=True)"
   ]
  },
  {
   "cell_type": "code",
   "execution_count": 10,
   "id": "035a4a63-5430-4af1-8c69-f1e82ac2df95",
   "metadata": {},
   "outputs": [],
   "source": [
    "keep_hp_ix = [331, 24, 262]"
   ]
  },
  {
   "cell_type": "code",
   "execution_count": 11,
   "id": "fb0802c5-0c7a-4aaf-b495-652d88e7a613",
   "metadata": {},
   "outputs": [
    {
     "data": {
      "text/html": [
       "<div>\n",
       "<style scoped>\n",
       "    .dataframe tbody tr th:only-of-type {\n",
       "        vertical-align: middle;\n",
       "    }\n",
       "\n",
       "    .dataframe tbody tr th {\n",
       "        vertical-align: top;\n",
       "    }\n",
       "\n",
       "    .dataframe thead th {\n",
       "        text-align: right;\n",
       "    }\n",
       "</style>\n",
       "<table border=\"1\" class=\"dataframe\">\n",
       "  <thead>\n",
       "    <tr style=\"text-align: right;\">\n",
       "      <th></th>\n",
       "      <th>hp_ix</th>\n",
       "      <th>lag</th>\n",
       "      <th>process</th>\n",
       "      <th>median</th>\n",
       "      <th>lb</th>\n",
       "      <th>ub</th>\n",
       "      <th>count</th>\n",
       "      <th>cluster__max_iter</th>\n",
       "      <th>cluster__stride</th>\n",
       "      <th>tica__dim</th>\n",
       "      <th>...</th>\n",
       "      <th>tica__kinetic_map</th>\n",
       "      <th>tica__stride</th>\n",
       "      <th>cluster__k</th>\n",
       "      <th>feature__value</th>\n",
       "      <th>dihedrals__which</th>\n",
       "      <th>distances__scheme</th>\n",
       "      <th>distances__transform</th>\n",
       "      <th>distances__steepness</th>\n",
       "      <th>distances__centre</th>\n",
       "      <th>feature</th>\n",
       "    </tr>\n",
       "  </thead>\n",
       "  <tbody>\n",
       "    <tr>\n",
       "      <th>64511</th>\n",
       "      <td>331</td>\n",
       "      <td>41</td>\n",
       "      <td>2</td>\n",
       "      <td>24112.350456</td>\n",
       "      <td>3100.646541</td>\n",
       "      <td>247174.256279</td>\n",
       "      <td>100</td>\n",
       "      <td>1000</td>\n",
       "      <td>10</td>\n",
       "      <td>17</td>\n",
       "      <td>...</td>\n",
       "      <td>True</td>\n",
       "      <td>1</td>\n",
       "      <td>459</td>\n",
       "      <td>distances</td>\n",
       "      <td>NaN</td>\n",
       "      <td>ca</td>\n",
       "      <td>logistic</td>\n",
       "      <td>5.967568</td>\n",
       "      <td>0.700806</td>\n",
       "      <td>logistic-distances</td>\n",
       "    </tr>\n",
       "    <tr>\n",
       "      <th>54876</th>\n",
       "      <td>24</td>\n",
       "      <td>41</td>\n",
       "      <td>2</td>\n",
       "      <td>20430.946382</td>\n",
       "      <td>2322.090873</td>\n",
       "      <td>176211.392199</td>\n",
       "      <td>100</td>\n",
       "      <td>1000</td>\n",
       "      <td>10</td>\n",
       "      <td>20</td>\n",
       "      <td>...</td>\n",
       "      <td>True</td>\n",
       "      <td>1</td>\n",
       "      <td>471</td>\n",
       "      <td>distances</td>\n",
       "      <td>NaN</td>\n",
       "      <td>ca</td>\n",
       "      <td>logistic</td>\n",
       "      <td>6.081760</td>\n",
       "      <td>0.224891</td>\n",
       "      <td>logistic-distances</td>\n",
       "    </tr>\n",
       "    <tr>\n",
       "      <th>13291</th>\n",
       "      <td>262</td>\n",
       "      <td>41</td>\n",
       "      <td>2</td>\n",
       "      <td>9658.132641</td>\n",
       "      <td>2085.490379</td>\n",
       "      <td>188712.937937</td>\n",
       "      <td>100</td>\n",
       "      <td>1000</td>\n",
       "      <td>10</td>\n",
       "      <td>18</td>\n",
       "      <td>...</td>\n",
       "      <td>True</td>\n",
       "      <td>1</td>\n",
       "      <td>289</td>\n",
       "      <td>distances</td>\n",
       "      <td>NaN</td>\n",
       "      <td>ca</td>\n",
       "      <td>logistic</td>\n",
       "      <td>29.030558</td>\n",
       "      <td>0.798204</td>\n",
       "      <td>logistic-distances</td>\n",
       "    </tr>\n",
       "  </tbody>\n",
       "</table>\n",
       "<p>3 rows × 21 columns</p>\n",
       "</div>"
      ],
      "text/plain": [
       "       hp_ix  lag  process        median           lb             ub  count  \\\n",
       "64511    331   41        2  24112.350456  3100.646541  247174.256279    100   \n",
       "54876     24   41        2  20430.946382  2322.090873  176211.392199    100   \n",
       "13291    262   41        2   9658.132641  2085.490379  188712.937937    100   \n",
       "\n",
       "       cluster__max_iter  cluster__stride  tica__dim  ...  tica__kinetic_map  \\\n",
       "64511               1000               10         17  ...               True   \n",
       "54876               1000               10         20  ...               True   \n",
       "13291               1000               10         18  ...               True   \n",
       "\n",
       "       tica__stride  cluster__k  feature__value dihedrals__which  \\\n",
       "64511             1         459       distances              NaN   \n",
       "54876             1         471       distances              NaN   \n",
       "13291             1         289       distances              NaN   \n",
       "\n",
       "      distances__scheme distances__transform distances__steepness  \\\n",
       "64511                ca             logistic             5.967568   \n",
       "54876                ca             logistic             6.081760   \n",
       "13291                ca             logistic            29.030558   \n",
       "\n",
       "       distances__centre             feature  \n",
       "64511           0.700806  logistic-distances  \n",
       "54876           0.224891  logistic-distances  \n",
       "13291           0.798204  logistic-distances  \n",
       "\n",
       "[3 rows x 21 columns]"
      ]
     },
     "execution_count": 11,
     "metadata": {},
     "output_type": "execute_result"
    }
   ],
   "source": [
    "df.loc[df.hp_ix.isin(keep_hp_ix)]"
   ]
  },
  {
   "cell_type": "code",
   "execution_count": 12,
   "id": "7ca06d8a-ff76-4304-834d-8aa9b94968ce",
   "metadata": {},
   "outputs": [],
   "source": [
    "traj_paths = list(glob('../../data/1fme/*.xtc'))\n",
    "top_path = '../../data/1fme/protein.pdb'\n",
    "data = [md.load(x, top=top_path) for x in traj_paths]"
   ]
  },
  {
   "cell_type": "code",
   "execution_count": 13,
   "id": "9951047d-60a3-4ae7-99b3-5229a69fb47a",
   "metadata": {},
   "outputs": [],
   "source": [
    "ix = []"
   ]
  },
  {
   "cell_type": "code",
   "execution_count": 14,
   "id": "3346bc61-fa03-458a-9289-73d927a3537d",
   "metadata": {},
   "outputs": [
    {
     "name": "stdout",
     "output_type": "stream",
     "text": [
      "lag 41\n",
      "cluster__stride 10\n",
      "tica__dim 20\n",
      "tica__lag 60\n",
      "cluster__k 471\n",
      "feature__value distances\n",
      "distances__scheme ca\n",
      "distances__transform logistic\n",
      "distances__centre 0.22489078081532587\n",
      "distances__steepness 6.08175994205689\n"
     ]
    }
   ],
   "source": [
    "hp_ix = keep_hp_ix[1]\n",
    "\n",
    "lag = get_param(df, hp_ix, 'lag')\n",
    "cluster_stride = get_param(df, hp_ix,  'cluster__stride')\n",
    "tica_dim = get_param(df, hp_ix, 'tica__dim')\n",
    "tica_lag = get_param(df, hp_ix, 'tica__lag')\n",
    "k = get_param(df,  hp_ix,'cluster__k')\n",
    "feature = get_param(df, hp_ix, 'feature__value')\n",
    "distances_scheme = get_param(df, hp_ix, 'distances__scheme')\n",
    "distances_transform = get_param(df, hp_ix, 'distances__transform')\n",
    "centre = get_param(df, hp_ix, 'distances__centre')\n",
    "steepness = get_param(df, hp_ix, 'distances__steepness')\n",
    "\n",
    "\n",
    "# tica, cluster, msm = fit_model(data, lag, cluster_stride, tica_dim, tica_lag,  \n",
    "#               k, feature, distances_scheme, distances_transform, centre, steepness)\n",
    "\n",
    "# print(msm.timescales(2))"
   ]
  },
  {
   "cell_type": "code",
   "execution_count": 12,
   "id": "31957457-6d3d-40a9-8283-3422584ad174",
   "metadata": {},
   "outputs": [
    {
     "data": {
      "application/vnd.jupyter.widget-view+json": {
       "model_id": "",
       "version_major": 2,
       "version_minor": 0
      },
      "text/plain": [
       "getting output of TICA:   0%|                                                                                 …"
      ]
     },
     "metadata": {},
     "output_type": "display_data"
    },
    {
     "data": {
      "text/plain": [
       "<matplotlib.collections.PathCollection at 0x7ff091645190>"
      ]
     },
     "execution_count": 12,
     "metadata": {},
     "output_type": "execute_result"
    },
    {
     "data": {
      "image/png": "[encoded data removed]",
      "text/plain": [
       "<Figure size 432x288 with 2 Axes>"
      ]
     },
     "metadata": {
      "needs_background": "light"
     },
     "output_type": "display_data"
    }
   ],
   "source": [
    "Y = tica.get_output()\n",
    "\n",
    "all_Y = np.concatenate(Y)\n",
    "\n",
    "fig, ax = plt.subplots()\n",
    "pm.plots.plot_free_energy(all_Y[:, 0], all_Y[:, 1], ax=ax)\n",
    "ax.scatter(cluster.clustercenters[:, 0], cluster.clustercenters[:, 1])"
   ]
  },
  {
   "cell_type": "code",
   "execution_count": 13,
   "id": "22b525cb-6669-4f25-b9af-a94e435f5963",
   "metadata": {},
   "outputs": [],
   "source": [
    "dtrajs = cluster.dtrajs"
   ]
  },
  {
   "cell_type": "code",
   "execution_count": 14,
   "id": "6747f9dd-b2c7-4fb2-9760-0ea91bd31b21",
   "metadata": {},
   "outputs": [
    {
     "data": {
      "application/vnd.jupyter.widget-view+json": {
       "model_id": "",
       "version_major": 2,
       "version_minor": 0
      },
      "text/plain": [
       "estimating MaximumLikelihoodMSM:   0%|                                                                        …"
      ]
     },
     "metadata": {},
     "output_type": "display_data"
    },
    {
     "data": {
      "text/plain": [
       "<AxesSubplot:xlabel='lag time / steps', ylabel='timescale / steps'>"
      ]
     },
     "execution_count": 14,
     "metadata": {},
     "output_type": "execute_result"
    },
    {
     "data": {
      "image/png": "[encoded data removed]",
      "text/plain": [
       "<Figure size 432x288 with 1 Axes>"
      ]
     },
     "metadata": {
      "needs_background": "light"
     },
     "output_type": "display_data"
    }
   ],
   "source": [
    "its = pm.msm.its(dtrajs, lags=np.arange(1, 102, 10))\n",
    "pm.plots.plot_implied_timescales(its, nits=10)"
   ]
  },
  {
   "cell_type": "code",
   "execution_count": null,
   "id": "558c82f7-374a-4079-a752-96865b736ae9",
   "metadata": {},
   "outputs": [],
   "source": []
  }
 ],
 "metadata": {
  "kernelspec": {
   "display_name": "Python 3 (ipykernel)",
   "language": "python",
   "name": "python3"
  },
  "language_info": {
   "codemirror_mode": {
    "name": "ipython",
    "version": 3
   },
   "file_extension": ".py",
   "mimetype": "text/x-python",
   "name": "python",
   "nbconvert_exporter": "python",
   "pygments_lexer": "ipython3",
   "version": "3.8.0"
  }
 },
 "nbformat": 4,
 "nbformat_minor": 5
}
