{
 "cells": [
  {
   "cell_type": "code",
   "execution_count": 1,
   "id": "58e91e16",
   "metadata": {},
   "outputs": [],
   "source": [
    "import mdtraj as md\n",
    "import pyemma as pm\n",
    "import pandas as pd\n",
    "import matplotlib.pyplot as plt\n",
    "import numpy as np\n",
    "from typing import Dict, List, Optional, Union, Tuple\n",
    "from pathlib import Path\n",
    "import pickle\n",
    "import seaborn as sns\n",
    "import os\n",
    "from itertools import product\n",
    "import string\n",
    "import pickle\n",
    "\n",
    "import matplotlib as mpl\n",
    "from matplotlib import colors\n",
    "\n",
    "import MDAnalysis as mda\n",
    "from MDAnalysis.analysis.dihedrals import Dihedral, Ramachandran\n",
    "\n",
    "from estimate_msm import *\n",
    "from parameters_CLN import *\n",
    "#from parameters_BBA import *"
   ]
  },
  {
   "cell_type": "code",
   "execution_count": 2,
   "id": "4f1eb596",
   "metadata": {
    "tags": []
   },
   "outputs": [
    {
     "data": {
      "text/html": [
       "<div>\n",
       "<style scoped>\n",
       "    .dataframe tbody tr th:only-of-type {\n",
       "        vertical-align: middle;\n",
       "    }\n",
       "\n",
       "    .dataframe tbody tr th {\n",
       "        vertical-align: top;\n",
       "    }\n",
       "\n",
       "    .dataframe thead th {\n",
       "        text-align: right;\n",
       "    }\n",
       "</style>\n",
       "<table border=\"1\" class=\"dataframe\">\n",
       "  <thead>\n",
       "    <tr style=\"text-align: right;\">\n",
       "      <th></th>\n",
       "      <th>hp_ix</th>\n",
       "      <th>value</th>\n",
       "      <th>datetime_start</th>\n",
       "      <th>datetime_complete</th>\n",
       "      <th>duration</th>\n",
       "      <th>distances__centre</th>\n",
       "      <th>feature__value</th>\n",
       "      <th>cluster__k</th>\n",
       "      <th>distances__scheme</th>\n",
       "      <th>distances__steepness</th>\n",
       "      <th>tica__dim</th>\n",
       "      <th>tica__lag</th>\n",
       "      <th>distances__transform</th>\n",
       "      <th>state</th>\n",
       "      <th>tica__stride</th>\n",
       "      <th>cluster__stride</th>\n",
       "      <th>dihedrals__which</th>\n",
       "      <th>cluster__max_iter</th>\n",
       "      <th>feature</th>\n",
       "    </tr>\n",
       "  </thead>\n",
       "  <tbody>\n",
       "    <tr>\n",
       "      <th>52</th>\n",
       "      <td>52</td>\n",
       "      <td>379.427824</td>\n",
       "      <td>2022-12-14 16:14:41.274420</td>\n",
       "      <td>2022-12-14 16:14:41.274420</td>\n",
       "      <td>0 days</td>\n",
       "      <td>NaN</td>\n",
       "      <td>distances</td>\n",
       "      <td>488</td>\n",
       "      <td>ca</td>\n",
       "      <td>NaN</td>\n",
       "      <td>15</td>\n",
       "      <td>71</td>\n",
       "      <td>linear</td>\n",
       "      <td>COMPLETE</td>\n",
       "      <td>1</td>\n",
       "      <td>1</td>\n",
       "      <td>all</td>\n",
       "      <td>1000</td>\n",
       "      <td>dist.</td>\n",
       "    </tr>\n",
       "  </tbody>\n",
       "</table>\n",
       "</div>"
      ],
      "text/plain": [
       "    hp_ix       value             datetime_start          datetime_complete  \\\n",
       "52     52  379.427824 2022-12-14 16:14:41.274420 2022-12-14 16:14:41.274420   \n",
       "\n",
       "   duration  distances__centre feature__value  cluster__k distances__scheme  \\\n",
       "52   0 days                NaN      distances         488                ca   \n",
       "\n",
       "    distances__steepness  tica__dim  tica__lag distances__transform     state  \\\n",
       "52                   NaN         15         71               linear  COMPLETE   \n",
       "\n",
       "    tica__stride  cluster__stride dihedrals__which  cluster__max_iter feature  \n",
       "52             1                1              all               1000   dist.  "
      ]
     },
     "execution_count": 2,
     "metadata": {},
     "output_type": "execute_result"
    }
   ],
   "source": [
    "hps = pd.read_hdf(summary_path)\n",
    "\n",
    "# Rename hyperparameters\n",
    "hps.rename(columns=dict(number='hp_ix', \n",
    "                        params_centre='distances__centre', \n",
    "                        params_feature='feature__value', \n",
    "                        params_n_clusters='cluster__k', \n",
    "                        params_scheme='distances__scheme', \n",
    "                        params_steepness='distances__steepness', \n",
    "                        params_tica_dim='tica__dim', \n",
    "                        params_tica_lag='tica__lag', \n",
    "                        params_transform='distances__transform'), inplace=True)\n",
    "hps['tica__stride'] = 1\n",
    "hps['cluster__stride'] = 1\n",
    "hps['dihedrals__which'] = 'all'\n",
    "hps['cluster__max_iter'] = 1000\n",
    "hps['feature'] = hps.apply(lambda x: f\"{x['feature__value']}\" if x['feature__value'] =='dihedrals' else f\"{x['distances__transform']}-{x['feature__value']}\", axis=1)\n",
    "\n",
    "# Rename features\n",
    "def f(x):\n",
    "    for short, long in short_names.items(): \n",
    "        x = x.replace(short, long)\n",
    "    return x\n",
    "short_names = {'dihedrals': 'dihed.','logistic-distances': 'logit(dist.)', 'linear-distances': \n",
    "              'dist.'}\n",
    "hps['feature'] = hps['feature'].apply(f)\n",
    "\n",
    "hps.query(f'hp_ix=={hp_ix}')"
   ]
  },
  {
   "cell_type": "code",
   "execution_count": 3,
   "id": "dab134f4",
   "metadata": {},
   "outputs": [
    {
     "name": "stdout",
     "output_type": "stream",
     "text": [
      "CLN/hp52_dist.\n"
     ]
    }
   ],
   "source": [
    "# Output path \n",
    "hps.set_index(['hp_ix'], inplace=True)\n",
    "base_dir = Path(f\"{protein}/hp{hp_ix}_{hps.loc[hp_ix,:]['feature']}\")\n",
    "fig_dir = Path.joinpath(base_dir, Path(f\"figures\"))\n",
    "fig_dir.mkdir(parents=True, exist_ok=True)\n",
    "print(base_dir)"
   ]
  },
  {
   "cell_type": "code",
   "execution_count": null,
   "id": "111c48fa-087c-4502-8359-127897114821",
   "metadata": {
    "tags": []
   },
   "outputs": [],
   "source": [
    "hps.sort_values(by=['value'], ascending=False).head(40)"
   ]
  },
  {
   "cell_type": "markdown",
   "id": "fef40e3a",
   "metadata": {},
   "source": [
    "---\n",
    "### Compute BS MSM --- Figure 2"
   ]
  },
  {
   "cell_type": "code",
   "execution_count": null,
   "id": "820fadaa",
   "metadata": {},
   "outputs": [],
   "source": [
    "try:\n",
    "    with open(fig_dir.joinpath(f'{n_bootstraps}_bs'), 'rb') as f:\n",
    "        data = pickle.load(f)\n",
    "        ts_samples = data['ts_samples']\n",
    "        gap_samples = data['gap_samples']\n",
    "    with open(fig_dir.joinpath('mfpts_summary'), 'rb') as f:\n",
    "        data = pickle.load(f)\n",
    "        lags_test = data['lags_test']\n",
    "        mfpts_fold = data['mfpts_fold']\n",
    "        mfpts_unfold = data['mfpts_unfold']\n",
    "        \n",
    "    # Summarize bootstraps \n",
    "    ts_median = np.quantile(ts_samples, 0.5, axis=0)\n",
    "    ts_ub = np.quantile(ts_samples, 0.95, axis=0)\n",
    "    ts_lb = np.quantile(ts_samples, 0.05, axis=0)\n",
    "\n",
    "    gap_median = np.quantile(gap_samples, 0.5, axis=0)\n",
    "    gap_ub = np.quantile(gap_samples, 0.95, axis=0)\n",
    "    gap_lb = np.quantile(gap_samples, 0.05, axis=0)\n",
    "    \n",
    "    mfpts_fold_mean = np.mean(mfpts_fold, axis=1)\n",
    "    mfpts_fold_err = np.std(mfpts_fold, axis=1)\n",
    "    \n",
    "    mfpts_unfold_mean = np.mean(mfpts_unfold, axis=1)\n",
    "    mfpts_unfold_err = np.std(mfpts_unfold, axis=1)\n",
    "    \n",
    "except:\n",
    "    print('Compute bootstraps and mfpts first!')"
   ]
  },
  {
   "cell_type": "code",
   "execution_count": null,
   "id": "2af4609b-eb90-4a43-873f-3ee315ecd88d",
   "metadata": {
    "tags": []
   },
   "outputs": [],
   "source": [
    "# Bootstrapped timescales and gaps\n",
    "\n",
    "ftrajs_all = featurizer(hps.loc[hp_ix,:].to_dict(), traj_paths, top_path)\n",
    "\n",
    "ts_samples = []\n",
    "gap_samples = []\n",
    "\n",
    "for i in range(n_bootstraps):\n",
    "    ftrajs, ftrajs_ix = bootstrap(ftrajs_all, rng)\n",
    "    assert len(ftrajs) == len(ftrajs_all)\n",
    "    \n",
    "    ttrajs, tica_mod = tica(hps.loc[hp_ix, :].to_dict(), ftrajs)\n",
    "    dtrajs, kmeans_mod = kmeans(hps.loc[hp_ix, :].to_dict(), ttrajs, seed)\n",
    "    \n",
    "    if n_bootstraps>1:\n",
    "        out_dir = Path.joinpath(base_dir, Path(f'bs_{i}'))\n",
    "    else:\n",
    "        out_dir = Path.joinpath(base_dir, Path(f'dtrajs'))\n",
    "        \n",
    "    out_dir.mkdir(parents=True, exist_ok=True)\n",
    "    \n",
    "    for j in range(len(traj_paths)): \n",
    "        traj_path = Path(traj_paths[j]).resolve()\n",
    "        np.save(file=out_dir.joinpath(traj_path.with_suffix('.npy').name), arr=dtrajs[j])\n",
    "        \n",
    "    msm = pm.msm.estimate_markov_model(dtrajs, lag=lag)\n",
    "    ts = msm.timescales(n_ts)\n",
    "    \n",
    "    ts_samples.append(ts[:-1]/1000)\n",
    "    gap_samples.append(ts[:-1]/ts[1:])\n",
    "    \n",
    "ts_samples = np.array(ts_samples)\n",
    "gap_samples = np.array(gap_samples)\n",
    "\n",
    "with open(fig_dir.joinpath(f'{n_bootstraps}_bs'), 'wb') as f:\n",
    "    pickle.dump({'ts_samples':ts_samples, 'gap_samples':gap_samples}, f)"
   ]
  },
  {
   "cell_type": "code",
   "execution_count": null,
   "id": "7279021e",
   "metadata": {
    "tags": []
   },
   "outputs": [],
   "source": [
    "# Bootstrapped MFPTs\n",
    "\n",
    "fold_state = 1\n",
    "unfold_state = 0\n",
    "mfpts_fold = []\n",
    "mfpts_unfold = []\n",
    "repeat = 3\n",
    "\n",
    "ftrajs = featurizer(hps.loc[hp_ix, :].to_dict(), traj_paths, top_path)\n",
    "ttrajs_all, tica_mod = tica(hps.loc[hp_ix, :].to_dict(), ftrajs)\n",
    "\n",
    "for lag_test in lags_test:\n",
    "    mfpt_fold, mfpt_unfold = [], []\n",
    "         \n",
    "    for i in range(repeat):\n",
    "        ttrajs = bootstrap(ttrajs_all, rng)[0]\n",
    "        dtrajs, kmeans_mod = kmeans(hps.loc[hp_ix, :].to_dict(), ttrajs, seed)\n",
    "\n",
    "        msm = pm.msm.estimate_markov_model(dtrajs, lag=lag_test)\n",
    "        _ = msm.pcca(n_sets)\n",
    "        ts = msm.timescales(n_ts)\n",
    "\n",
    "        ix_ls = []\n",
    "        core_memberships = msm.metastable_memberships.T > core_membership_cutoff\n",
    "        for i in range(len(core_memberships)):\n",
    "            ix_ls.append(np.where(core_memberships[i])[0])\n",
    "        core_sets = np.array(ix_ls)\n",
    "\n",
    "        mfpt_fold.append(msm.mfpt(core_sets[unfold_state], core_sets[fold_state]))\n",
    "        mfpt_unfold.append(msm.mfpt(core_sets[fold_state], core_sets[unfold_state]))\n",
    "        \n",
    "    mfpts_fold.append(mfpt_fold)\n",
    "    mfpts_unfold.append(mfpt_unfold)\n",
    "\n",
    "with open(fig_dir.joinpath('mfpts_summary'), 'wb') as f:\n",
    "    pickle.dump({'lags_test':lags_test, 'mfpts_fold':mfpts_fold, 'mfpts_unfold': mfpts_unfold}, f)"
   ]
  },
  {
   "cell_type": "code",
   "execution_count": null,
   "id": "49910511",
   "metadata": {},
   "outputs": [],
   "source": [
    "if 'hp_ix' in hps.columns: hps.set_index(['hp_ix'], inplace=True)\n",
    "if hps.loc[hp_ix,:]['feature'] == 'logit(dist.)':\n",
    "    hp_to_print = hps.loc[hp_ix,:][['feature', 'distances__centre', 'distances__steepness', 'cluster__k', 'tica__dim', 'tica__lag']].to_dict()\n",
    "    hp_to_print['distances__centre'] = np.round(hp_to_print['distances__centre'], 2)\n",
    "    hp_to_print['distances__steepness'] = np.round(hp_to_print['distances__steepness'], 2)\n",
    "else:\n",
    "    hp_to_print = hps.loc[hp_ix,:][['feature', 'cluster__k', 'tica__dim', 'tica__lag']].to_dict()\n",
    "str_to_print = str(hp_to_print).replace(',','\\n\\n').replace(\"'\",'').replace(\"{\",' ').replace(\"}\",'')"
   ]
  },
  {
   "cell_type": "code",
   "execution_count": null,
   "id": "be400b18",
   "metadata": {},
   "outputs": [],
   "source": [
    "# Figure 2 : HP table + TS + TS gap\n",
    "\n",
    "with sns.plotting_context('paper', font_scale=2):\n",
    "    fig = plt.figure(figsize=(19, 6), constrained_layout=True)\n",
    "    gs = fig.add_gridspec(nrows=6, ncols=19)\n",
    "    \n",
    "    # Hyperparameter values\n",
    "    ax1 = fig.add_subplot(gs[:, :3])\n",
    "    ax1.text(0.05, 0.95, str_to_print, transform=ax1.transAxes, verticalalignment='top')\n",
    "    ax1.axis('off')\n",
    "    \n",
    "    \n",
    "    # Timescales\n",
    "    ax2 = fig.add_subplot(gs[:3, 3:13])\n",
    "    x = np.arange(n_ts-1)+2\n",
    "    y = ts_median\n",
    "    yerr = (ts_median-ts_lb, ts_ub-ts_median)\n",
    "    ax2.errorbar(x, y, yerr, elinewidth=2, lw=2, marker='o', markersize=6, ecolor='r', c='k')\n",
    "    \n",
    "    ax2.set_yscale('log')\n",
    "    ax2.set_ylabel(r\"Timescales ($\\mu$s)\")\n",
    "    ax2.tick_params(bottom=True, top=False, left=True, right=False)\n",
    "    ax2.annotate(text='(a)', xy=(0.94, 0.94), xycoords='axes fraction', ha='left', va='top')\n",
    "    ax2.grid(visible=True, axis='y')\n",
    "    ax2.set_ylim([0.01, max(ts_ub)*3])\n",
    "    \n",
    "    \n",
    "    # Gaps\n",
    "    ax3 = fig.add_subplot(gs[3:, 3:13])\n",
    "    y = gap_median\n",
    "    yerr = (gap_median-gap_lb, gap_ub-gap_median)\n",
    "    ax3.errorbar(x, y, yerr, elinewidth=2, lw=2, marker='o', markersize=6, ecolor='r', c='k')\n",
    "    \n",
    "    ax3.set_yscale('log')\n",
    "    ax3.set_ylabel(\"Gap\")\n",
    "    ax3.set_xlabel('Process')\n",
    "    ax3.tick_params(bottom=True, top=False, left=True, right=False)\n",
    "    ax3.annotate(text='(b)', xy=(0.94, 0.94), xycoords='axes fraction', ha='left', va='top')\n",
    "    ax3.grid(visible=True, axis='y')\n",
    "    ax3.set_ylim([0.5, max(gap_ub)*3])\n",
    "    \n",
    "    \n",
    "    # MFPTs vs lags\n",
    "    ax4 = fig.add_subplot(gs[0:, 13:])\n",
    "    x = lags_test\n",
    "    \n",
    "    y1, y1e = np.divide(mfpts_fold_mean, 1000), np.divide(mfpts_fold_err, 1000)\n",
    "    y2, y2e = np.divide(mfpts_unfold_mean, 1000), np.divide(mfpts_unfold_err, 1000)\n",
    "    \n",
    "    xlim = [min(x)*0.5, max(x)*2]\n",
    "    ylim = [min(y1)*0.5, max(y2)*2]    \n",
    "    x_fill = np.arange(ylim[0]*1000, xlim[1],1)\n",
    "    \n",
    "    ax4.errorbar(x, y1, y1e, marker='o', lw=2, markersize=6, c='k', label='Folding')\n",
    "    ax4.errorbar(x, y2, y2e, marker='o', lw=2, markersize=6, c='r', label='Unfolding')    \n",
    "    ax4.fill_between(x_fill, x_fill/1000, alpha=0.5, color='grey')\n",
    "    \n",
    "    ax4.tick_params(which='both', axis='both', bottom=True, top=False, left=True, right=False)\n",
    "    ax4.set_ylabel(\"MFPT ($\\mu$s)\")\n",
    "    ax4.set_xlabel(\"Lag time (ns)\")\n",
    "    ax4.set_xlim(xlim)\n",
    "    ax4.set_ylim(ylim)\n",
    "    ax4.set_xscale('log')\n",
    "    ax4.set_yscale('log')\n",
    "    ax4.legend(loc='upper left')\n",
    "    ax4.annotate(text='(c)', xy=(0.97, 0.97), xycoords='axes fraction', ha='right', va='top')\n",
    "    \n",
    "    plt.savefig(fig_dir.joinpath(f'SI1_model_{hp_ix}.pdf'), dpi=600)\n",
    "    plt.show()"
   ]
  },
  {
   "cell_type": "markdown",
   "id": "288e527b",
   "metadata": {
    "tags": []
   },
   "source": [
    "---\n",
    "### Validate single MSM --- Figure 1"
   ]
  },
  {
   "cell_type": "code",
   "execution_count": null,
   "id": "79516afb",
   "metadata": {
    "scrolled": true
   },
   "outputs": [],
   "source": [
    "# Validate a single trial\n",
    "# Estimate MSM and perform PCCA+\n",
    "\n",
    "ftrajs = featurizer(hps.loc[hp_ix,:].to_dict(), traj_paths, top_path)\n",
    "\n",
    "ttrajs, tica_mod = tica(hps.loc[hp_ix, :].to_dict(), ftrajs)\n",
    "dtrajs, kmeans_mod = kmeans(hps.loc[hp_ix, :].to_dict(), ttrajs, seed)\n",
    "\n",
    "out_dir = Path.joinpath(base_dir, Path(f'dtrajs'))\n",
    "out_dir.mkdir(parents=True, exist_ok=True)\n",
    "\n",
    "for j in range(len(traj_paths)): \n",
    "    traj_path = Path(traj_paths[j]).resolve()\n",
    "    np.save(file=out_dir.joinpath(traj_path.with_suffix('.npy').name), arr=dtrajs[j])\n",
    "    \n",
    "msm = pm.msm.estimate_markov_model(dtrajs, lag=lag)\n",
    "_ = msm.pcca(n_sets)\n",
    "ts = msm.timescales(n_ts)"
   ]
  },
  {
   "cell_type": "code",
   "execution_count": null,
   "id": "78e068e8",
   "metadata": {},
   "outputs": [],
   "source": [
    "# Compute metastable set population\n",
    "\n",
    "print('\\nstate\\tπ\\t\\tG/kT\\t\\tNo.')\n",
    "population = []\n",
    "number = []\n",
    "for i, s in enumerate(msm.metastable_sets):\n",
    "    p = msm.pi[s].sum()\n",
    "    population.append(p)\n",
    "    number.append(s.shape[0]) \n",
    "    print('{}\\t{:f}\\t{:f}\\t{}'.format(i, p, -np.log(p), s.shape[0]))"
   ]
  },
  {
   "cell_type": "code",
   "execution_count": null,
   "id": "6b2cebfc",
   "metadata": {},
   "outputs": [],
   "source": [
    "# Compute core set \n",
    "\n",
    "ix_ls = []\n",
    "core_memberships = msm.metastable_memberships.T > core_membership_cutoff\n",
    "for i in range(len(core_memberships)):\n",
    "    ix_ls.append(np.where(core_memberships[i])[0])\n",
    "core_sets = np.array(ix_ls)\n",
    "\n",
    "# Compute MFPT between core sets\n",
    "\n",
    "mfpt = np.zeros((n_sets, n_sets))\n",
    "for i, j in product(range(n_sets), repeat=2):\n",
    "    mfpt[i, j] = msm.mfpt(core_sets[i], core_sets[j])\n",
    "\n",
    "mfpt_df = pd.DataFrame(np.round(mfpt, decimals=2), index=range(1, n_sets + 1), columns=range(1, n_sets + 1))\n",
    "print(mfpt_df, '\\n(ns)')"
   ]
  },
  {
   "cell_type": "code",
   "execution_count": null,
   "id": "c31244eb",
   "metadata": {
    "tags": []
   },
   "outputs": [],
   "source": [
    "# Map reference conformation\n",
    "\n",
    "ftraj_test = featurizer(hps.loc[hp_ix, :].to_dict(), ref_path, top_path)\n",
    "ftraj_test_tica = tica_mod.transform(ftraj_test)[0]\n",
    "microstate_test = kmeans_mod.assign(ftraj_test_tica)\n",
    "metastate_test = msm.metastable_assignments[microstate_test]\n",
    "#test_dict = {label:[test_traj_path[i], microstate[i][0], metastate[i][0]] for i, label in enumerate(test_labels)}"
   ]
  },
  {
   "cell_type": "code",
   "execution_count": null,
   "id": "3d725025",
   "metadata": {},
   "outputs": [],
   "source": [
    "mem = msm.metastable_memberships.transpose()\n",
    "\n",
    "# Microstate positions\n",
    "x = kmeans_mod.clustercenters[:, 0]\n",
    "y = kmeans_mod.clustercenters[:, 1]  \n",
    "\n",
    "# Concatenate featurised trajectories\n",
    "Y = np.concatenate(ttrajs)\n",
    "\n",
    "# Find cluster center\n",
    "dists = msm.metastable_distributions.copy()\n",
    "dists[msm.metastable_memberships.T<core_membership_cutoff] = 0\n",
    "dists = dists/np.sum(dists, axis=1)[:, np.newaxis]\n",
    "max_dists = dists.copy()\n",
    "mask = max_dists==np.tile(np.max(max_dists, axis=1)[:, np.newaxis], (max_dists.shape[1]))\n",
    "max_ix = np.where(mask)[1]"
   ]
  },
  {
   "cell_type": "code",
   "execution_count": null,
   "id": "0ed902ae-ecfd-41b6-9cdd-cad4e29c0e1f",
   "metadata": {},
   "outputs": [],
   "source": [
    "ttraj_cat = np.concatenate(ttrajs)\n",
    "dtrajs_cat = np.concatenate(dtrajs)\n",
    "\n",
    "ms_1 = core_memberships[0][dtrajs_cat].astype(int)*-1\n",
    "ms_2 = core_memberships[1][dtrajs_cat].astype(int)*1\n",
    "core_ms = ms_1 + ms_2\n",
    "core_ms = (core_ms + 1)/2"
   ]
  },
  {
   "cell_type": "code",
   "execution_count": null,
   "id": "e4a4f145-b500-4f8e-9482-4893c4aefeda",
   "metadata": {},
   "outputs": [],
   "source": [
    "c_centers = kmeans_mod.clustercenters\n",
    "\n",
    "egv = msm.eigenvectors_right()\n",
    "egv_max = msm.eigenvectors_right()[:, 1].argmax()\n",
    "egv_min = msm.eigenvectors_right()[:, 1].argmin()\n",
    "\n",
    "divnorm = colors.TwoSlopeNorm(vmin=min(egv[:,1]), vcenter=0, vmax=max(egv[:,1]))\n",
    "annotation_loc = {'xy':(0.98, 0.01), 'xycoords':'axes fraction', 'ha':'right', 'va':'bottom'}\n",
    "\n",
    "from matplotlib.ticker import FormatStrFormatter\n",
    "\n",
    "with sns.plotting_context('paper', font_scale=1.8):\n",
    "    fig, axes = plt.subplots(1, 5, figsize=(25,6), sharey=True)\n",
    "    axes[2].axis('off')\n",
    "    axes[4].axis('off')\n",
    "    \n",
    "    # Free energy surface\n",
    "    fes = pm.plots.plot_free_energy(ttraj_cat[:, 0], \n",
    "                                    ttraj_cat[:, 1],\n",
    "                                    weights=np.concatenate(msm.trajectory_weights()),\n",
    "                                    cbar=False,\n",
    "                                    nbins=80,\n",
    "                                    cmap='jet',\n",
    "                                    ax=axes[0])\n",
    "    axes[0].set_xlabel('IC1')\n",
    "    axes[0].set_ylabel('IC2')\n",
    "    axes[0].annotate(text=f'(a)', xy=(0.03, 0.95), xycoords='axes fraction', ha='left', va='top')\n",
    "    \n",
    "    cbar = fig.colorbar(fes[2]['mappable'], location='top', ticks=np.arange(0,9,2), \n",
    "                 label=r'Free energy ($k_\\mathrm{B}T$)', format='%.1f')\n",
    "\n",
    "    #cbar.ax.set_xlabel(r'Free energy ($k_\\mathrm{B}T$)', fontsize=15)\n",
    "\n",
    "    \n",
    "    # Macrostates\n",
    "    ms = pm.plots.plot_contour(ttraj_cat[:, 0], \n",
    "                               ttraj_cat[:, 1],\n",
    "                               core_ms,\n",
    "                               ncontours=2,\n",
    "                               nbins=80,\n",
    "                               ax=axes[1],\n",
    "                               cmap='coolwarm',\n",
    "                               cbar=False,\n",
    "                               mask=True)\n",
    "    axes[1].scatter(c_centers[:,0], c_centers[:,1], s=5, c='k', alpha=0.8)\n",
    "    axes[1].set_xlabel('IC1')\n",
    "    axes[1].scatter(x=c_centers[:,0][microstate_test[0]],y=c_centers[:,1][microstate_test[0]],\n",
    "                       color='tomato', marker='*', s=300, label=test_labels)\n",
    "    #axes[0][1].annotate(text=f\"S1 population: {core_population[0]:.2f}\\nS2 population: {core_population[1]:.2f}\", **annotation_loc)\n",
    "\n",
    "    axes[1].legend(loc='upper right')\n",
    "    cbar = fig.colorbar(ms[2]['mappable'], location='top', ticks=[0.2, 0.6, 1], label='PCCA+')\n",
    "    cbar.ax.set_xticklabels(['S1','intermediate','S2'])\n",
    "    axes[1].annotate(text=f'(b)', xy=(0.03, 0.95), xycoords='axes fraction', ha='left', va='top')\n",
    "    \n",
    "    \n",
    "    # Eigenvector\n",
    "    eg = pm.plots.plot_contour(ttraj_cat[:, 0], \n",
    "                                ttraj_cat[:, 1],\n",
    "                                egv[dtrajs_cat, 1],\n",
    "                                cmap='coolwarm',\n",
    "                                norm=divnorm,\n",
    "                                cbar=False,\n",
    "                                mask=True,\n",
    "                                ax=axes[3])\n",
    "    axes[3].scatter(x=c_centers[:,0][egv_max], y=c_centers[:,1][egv_max], c='k', \n",
    "               marker='X', s=120, alpha=1, label='max')\n",
    "    axes[3].scatter(x=c_centers[:,0][egv_min], y=c_centers[:,1][egv_min], c='k', \n",
    "               marker='v', s=120, alpha=1, label='min')\n",
    "    axes[3].legend()\n",
    "    axes[3].set_xlabel('IC1')\n",
    "    cbar = fig.colorbar(eg[2]['mappable'], location='top', label=r'$2^{nd}$ right eigenvector', \n",
    "                 ticks=np.linspace(min(egv[:,1]), max(egv[:,1]), 5), format='%.1f')\n",
    "    axes[3].annotate(text=f'(c)', xy=(0.03, 0.95), xycoords='axes fraction', ha='left', va='top')\n",
    "\n",
    "    for ax in axes.flatten():\n",
    "        ax.tick_params(axis='both', bottom=True, top=False, left=True, right=False)\n",
    "        ax.set_xlim([-2, 1.5])\n",
    "        ax.set_ylim([-6.8, 2.4])\n",
    "        \n",
    "    plt.savefig(fig_dir.joinpath(f'SI2_model_{hp_ix}.png'), dpi=600)\n",
    "    plt.tight_layout()\n",
    "    plt.show()"
   ]
  },
  {
   "cell_type": "markdown",
   "id": "e237a0ea-0406-4eb7-9d64-efc8009f1a49",
   "metadata": {},
   "source": [
    "*** \n",
    "### Validate single MSM -- Figure 3"
   ]
  },
  {
   "cell_type": "code",
   "execution_count": 4,
   "id": "51a28b7f-e2c5-4b0e-beb8-7b5b295f738b",
   "metadata": {},
   "outputs": [
    {
     "name": "stderr",
     "output_type": "stream",
     "text": [
      "/home/rzhu/Loc/miniconda3/envs/ops/lib/python3.8/site-packages/decorator.py:232: PyEMMA_DeprecationWarning: Call to deprecated function \"tica\". Called from /home/rzhu/Loc/miniconda3/envs/ops/lib/python3.8/site-packages/decorator.py line 232. Use deeptime.decomposition.TICA instead.\n",
      "  return caller(func, *(extras + args), **kw)\n"
     ]
    },
    {
     "data": {
      "application/vnd.jupyter.widget-view+json": {
       "model_id": "",
       "version_major": 2,
       "version_minor": 0
      },
      "text/plain": [
       "calculate covariances:   0%| "
      ]
     },
     "metadata": {},
     "output_type": "display_data"
    },
    {
     "data": {
      "application/vnd.jupyter.widget-view+json": {
       "model_id": "",
       "version_major": 2,
       "version_minor": 0
      },
      "text/plain": [
       "getting output of TICA:   0%|"
      ]
     },
     "metadata": {},
     "output_type": "display_data"
    },
    {
     "name": "stderr",
     "output_type": "stream",
     "text": [
      "/home/rzhu/Loc/miniconda3/envs/ops/lib/python3.8/site-packages/decorator.py:232: PyEMMA_DeprecationWarning: Call to deprecated function \"cluster_kmeans\". Called from /home/rzhu/Loc/miniconda3/envs/ops/lib/python3.8/site-packages/decorator.py line 232. Use deeptime.clustering.KMeans instead.\n",
      "  return caller(func, *(extras + args), **kw)\n"
     ]
    },
    {
     "data": {
      "application/vnd.jupyter.widget-view+json": {
       "model_id": "",
       "version_major": 2,
       "version_minor": 0
      },
      "text/plain": [
       "initialize kmeans++ centers: "
      ]
     },
     "metadata": {},
     "output_type": "display_data"
    },
    {
     "data": {
      "application/vnd.jupyter.widget-view+json": {
       "model_id": "",
       "version_major": 2,
       "version_minor": 0
      },
      "text/plain": [
       "kmeans iterations:   0%| | 0/"
      ]
     },
     "metadata": {},
     "output_type": "display_data"
    },
    {
     "data": {
      "application/vnd.jupyter.widget-view+json": {
       "model_id": "",
       "version_major": 2,
       "version_minor": 0
      },
      "text/plain": [
       "getting output of KmeansClust"
      ]
     },
     "metadata": {},
     "output_type": "display_data"
    }
   ],
   "source": [
    "# Estimate bayesian MSM and perform PCCA+\n",
    "\n",
    "ftrajs = featurizer(hps.loc[hp_ix,:].to_dict(), traj_paths, top_path)\n",
    "\n",
    "ttrajs, tica_mod = tica(hps.loc[hp_ix, :].to_dict(), ftrajs)\n",
    "dtrajs, kmeans_mod = kmeans(hps.loc[hp_ix, :].to_dict(), ttrajs, seed)"
   ]
  },
  {
   "cell_type": "code",
   "execution_count": 5,
   "id": "f9047288-c100-48fc-b323-6287f2195f11",
   "metadata": {},
   "outputs": [
    {
     "data": {
      "application/vnd.jupyter.widget-view+json": {
       "model_id": "",
       "version_major": 2,
       "version_minor": 0
      },
      "text/plain": [
       "estimating BayesianMSM:   0%|"
      ]
     },
     "metadata": {},
     "output_type": "display_data"
    }
   ],
   "source": [
    "its = pm.msm.its(np.concatenate(dtrajs), nits=3, lags=[1, 5, 10, 20, 50, 100], errors='bayes')"
   ]
  },
  {
   "cell_type": "code",
   "execution_count": 6,
   "id": "af2d3cd2-e6ab-4056-a581-6cd961d564b1",
   "metadata": {},
   "outputs": [
    {
     "data": {
      "image/png": "[encoded data removed]",
      "text/plain": [
       "<Figure size 600x300 with 1 Axes>"
      ]
     },
     "metadata": {},
     "output_type": "display_data"
    }
   ],
   "source": [
    "with sns.plotting_context('paper', font_scale=1.5):\n",
    "    fig, ax = plt.subplots(figsize=(6,3))\n",
    "    ax = pm.plots.plot_implied_timescales(its, units='ns', dt=1, show_mle=False)\n",
    "    ax.tick_params(which='both', axis='both', bottom=True, top=False, left=True, right=False)\n",
    "    ax.set_ylabel('Timescale (ns)')\n",
    "    ax.set_xlabel('Lag time (ns)')\n",
    "    ax.set_xlim([0, 100])\n",
    "    \n",
    "    plt.tight_layout()\n",
    "    plt.savefig(fig_dir.joinpath(f'its_model_{hp_ix}.pdf'), dpi=600)\n",
    "    plt.show()"
   ]
  },
  {
   "cell_type": "markdown",
   "id": "c7a41b84-d144-40f0-a76c-974ea7485b0a",
   "metadata": {},
   "source": [
    "---\n",
    "### Sample egv2 extreme states"
   ]
  },
  {
   "cell_type": "code",
   "execution_count": null,
   "id": "a356d981",
   "metadata": {},
   "outputs": [],
   "source": [
    "is_single_core = True\n",
    "ref = md.load(ref_path)\n",
    "state_out_dir = base_dir.joinpath(f'state_is_single_{is_single_core}')\n",
    "state_out_dir.mkdir(exist_ok=True, parents=True)"
   ]
  },
  {
   "cell_type": "code",
   "execution_count": null,
   "id": "57317b2b",
   "metadata": {},
   "outputs": [],
   "source": [
    "samples = {}\n",
    "for i in range(2):\n",
    "    egv_max = msm.eigenvectors_right()[:, i+1].argmax()\n",
    "    egv_min = msm.eigenvectors_right()[:, i+1].argmin()\n",
    "    egv_zero = abs(msm.eigenvectors_right()[:, i+1]).argmin()\n",
    "    samples[f'egv{i+2}_max_{egv_max}'] = msm.sample_by_state(20, [egv_max])\n",
    "    samples[f'egv{i+2}_min_{egv_min}'] = msm.sample_by_state(20, [egv_min])\n",
    "    samples[f'egv{i+2}_zero_{egv_zero}'] = msm.sample_by_state(20, [egv_zero])"
   ]
  },
  {
   "cell_type": "code",
   "execution_count": null,
   "id": "9d5de03a",
   "metadata": {},
   "outputs": [],
   "source": [
    "rmsds = []\n",
    "states = []\n",
    "\n",
    "with open(state_out_dir.joinpath('out.txt'), 'w') as f: \n",
    "    f.writelines(f'Protein {protein}; hp_id {hp_ix}\\n')\n",
    "    \n",
    "    for n, sample in samples.items():\n",
    "        outfile = str(state_out_dir.joinpath(f'{n}.pdb'))\n",
    "\n",
    "        traj = pm.coordinates.save_traj(traj_paths, sample, outfile=None, top=top_path)\n",
    "        traj.superpose(reference=ref)\n",
    "        states.append(traj)\n",
    "        traj.save_pdb(str(outfile))\n",
    "        \n",
    "        if protein == 'CLN': \n",
    "            process_pdb_file(str(outfile), str(state_out_dir.joinpath(f'{n}_fixed.pdb')))\n",
    "        \n",
    "        # Compute rg\n",
    "        rg = md.compute_rg(traj)\n",
    "        ave_rg, std_rg = np.mean(rg), np.std(rg)\n",
    "\n",
    "        # Compute rmsd (angstrom) within samples\n",
    "        rmsd_list = []\n",
    "        for i in range(len(traj)):\n",
    "            rmsd_list.append(md.rmsd(traj, traj[i]))\n",
    "        rmsd_array = np.array(rmsd_list)*10\n",
    "        ave_rmsd, std_rmsd = np.mean(rmsd_array), np.std(rmsd_array)\n",
    "        \n",
    "        rmsd = md.rmsd(target=traj, reference=ref)*10\n",
    "        ave_ref_rmsd, std_ref_rmsd = np.mean(rmsd), np.std(rmsd)\n",
    "        rmsds.append(rmsd)\n",
    "        \n",
    "        f.writelines(f'{n}\\naverage_rg {ave_rg:.2f}, std_rg {std_rg:.2f}\\naverage_rmsd {ave_rmsd:.2f}, std_rmsd {std_rmsd:.2f}\\nave_ref_rmsd {ave_ref_rmsd:.2f}, std_ref_rmsd {std_ref_rmsd:.2f}\\n\\n')\n",
    "    \n",
    "rmsds_df = pd.DataFrame({f\"state_{i}\": np.round(rmsd,2) for i, rmsd in enumerate(rmsds)}).melt()"
   ]
  },
  {
   "cell_type": "code",
   "execution_count": null,
   "id": "6febf877-2d63-4999-a020-67416a604bb8",
   "metadata": {},
   "outputs": [],
   "source": [
    "def process_pdb_file(input_file_path, output_file_path):\n",
    "    new_file_content = []\n",
    "    conformation_lines = []\n",
    "    \n",
    "    with open(input_file_path,'r') as file:\n",
    "        lines = file.readlines()\n",
    "        \n",
    "    for line in lines:\n",
    "        if line.startswith(\"ATOM\") or line.startswith(\"TER\"):\n",
    "            conformation_lines.append(line)\n",
    "        elif line.startswith(\"ENDMDL\"):\n",
    "            new_conformation = fix_conformation(conformation_lines)\n",
    "            new_file_content.extend(new_conformation)\n",
    "            new_file_content.append(line)\n",
    "            conformation_lines = []\n",
    "        else:\n",
    "            new_file_content.append(line)\n",
    "            \n",
    "    with open(output_file_path, \"w\") as file:\n",
    "        file.writelines(new_file_content)    \n",
    "            \n",
    "def fix_conformation(lines):\n",
    "    atom_lines = [line for line in lines if line.startswith('ATOM')]\n",
    "    other_lines = [line for line in lines if not line.startswith('ATOM')]\n",
    "    \n",
    "    atom_145 = atom_lines[144]\n",
    "    fixed_atom_145 = atom_145[:13] + 'C' + atom_145[14:-3] + 'C' + atom_145[-2:]\n",
    "    \n",
    "    atom_lines[144] = atom_lines[144].replace('N','C')\n",
    "    atom_lines[147] = atom_lines[147].replace('C','N')\n",
    "    \n",
    "    atom_145 = atom_lines[144]  # 0-indexed\n",
    "    atom_146 = atom_lines[145]  # 0-indexed\n",
    "    atom_147 = atom_lines[146]\n",
    "    \n",
    "    # Remove atoms 146 and 147\n",
    "    del atom_lines[144:147]\n",
    "\n",
    "    # Append atoms 146 and 147 to the end\n",
    "    atom_lines.append(atom_145)\n",
    "    atom_lines.append(atom_146)\n",
    "    atom_lines.append(atom_147)\n",
    "    \n",
    "    # Adjust the indices\n",
    "    for i, line in enumerate(atom_lines):\n",
    "        new_line = line[:6] + f\"{i+1:5d}\" + line[11:]\n",
    "        atom_lines[i] = new_line\n",
    "    \n",
    "    return atom_lines + other_lines"
   ]
  },
  {
   "cell_type": "code",
   "execution_count": null,
   "id": "b297af28-837d-4852-8401-a31aec2395aa",
   "metadata": {},
   "outputs": [],
   "source": []
  }
 ],
 "metadata": {
  "kernelspec": {
   "display_name": "Python 3 (ipykernel)",
   "language": "python",
   "name": "python3"
  },
  "language_info": {
   "codemirror_mode": {
    "name": "ipython",
    "version": 3
   },
   "file_extension": ".py",
   "mimetype": "text/x-python",
   "name": "python",
   "nbconvert_exporter": "python",
   "pygments_lexer": "ipython3",
   "version": "3.8.16"
  }
 },
 "nbformat": 4,
 "nbformat_minor": 5
}
