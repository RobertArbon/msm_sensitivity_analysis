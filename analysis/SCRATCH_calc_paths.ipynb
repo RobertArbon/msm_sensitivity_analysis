{
 "cells": [
  {
   "cell_type": "code",
   "execution_count": 2,
   "metadata": {},
   "outputs": [],
   "source": [
    "import mdtraj as md\n",
    "import pyemma as pm\n",
    "import pandas as pd\n",
    "import matplotlib.pyplot as plt\n",
    "import numpy as np\n",
    "from typing import Dict, List, Optional, Union, Tuple\n",
    "from pathlib import Path\n",
    "import pickle\n",
    "from scipy.stats import entropy\n",
    "import seaborn as sns\n",
    "\n",
    "from msmtools.estimation import transition_matrix as _transition_matrix\n",
    "from msmtools.analysis import timescales as _timescales"
   ]
  },
  {
   "cell_type": "code",
   "execution_count": 58,
   "metadata": {
    "collapsed": false,
    "jupyter": {
     "outputs_hidden": false
    },
    "pycharm": {
     "name": "#%%\n"
    }
   },
   "outputs": [],
   "source": [
    "def featurizer(hp_dict: Dict, traj_paths: List[str], top_path: str) -> List[np.ndarray]:\n",
    "    if hp_dict['feature__value'] == 'dihedrals':\n",
    "        assert hp_dict['dihedrals__which'] == 'all'\n",
    "        def f(traj: md.Trajectory, **kwargs) -> np.ndarray:\n",
    "            _, phi = md.compute_phi(traj)\n",
    "            _, psi = md.compute_psi(traj)\n",
    "            _, chi1 = md.compute_chi1(traj)\n",
    "            _, chi2 = md.compute_chi2(traj)\n",
    "            _, chi3 = md.compute_chi3(traj)\n",
    "            _, chi4 = md.compute_chi4(traj)\n",
    "            _, chi5 = md.compute_chi5(traj)\n",
    "            ftraj = np.concatenate([phi, psi, chi1, chi2, chi3, chi4, chi5], axis=1)\n",
    "            ftraj = np.concatenate([np.cos(ftraj), np.sin(ftraj)], axis=1)\n",
    "            return ftraj\n",
    "\n",
    "    elif hp_dict['feature__value'] == 'distances':\n",
    "        def f(traj: md.Trajectory, **kwargs):\n",
    "            scheme = kwargs['distances__scheme']\n",
    "            transform = kwargs['distances__transform']\n",
    "            centre = kwargs['distances__centre']\n",
    "            steepness = kwargs['distances__steepness']\n",
    "            ftraj, _ = md.compute_contacts(traj, scheme=scheme)\n",
    "            if transform=='logistic':\n",
    "                ftraj = 1.0/(1+np.exp(-steepness*(ftraj - centre)))\n",
    "            return ftraj\n",
    "    else:\n",
    "        raise ValueError\n",
    "    ftrajs = []\n",
    "    for traj_path in traj_paths:\n",
    "        traj = md.load(traj_path, top=top_path)\n",
    "        ftrajs.append(f(traj, **hp_dict))\n",
    "    return ftrajs\n",
    "\n",
    "\n",
    "def tica(hp_dict: Dict[str, Union[float, int, str]], ftrajs: List[np.ndarray]) -> List[np.ndarray]:\n",
    "    lag = hp_dict['tica__lag']\n",
    "    stride = hp_dict['tica__stride']\n",
    "    dim = hp_dict['tica__dim']\n",
    "    tica = pm.coordinates.tica(ftrajs, lag=lag, dim=dim, kinetic_map=True)\n",
    "    ttrajs = tica.get_output()\n",
    "    return ttrajs, tica\n",
    "\n",
    "def kmeans(hp_dict: Dict, ttrajs: List[np.ndarray], seed: int) -> List[np.ndarray]:\n",
    "    k = hp_dict['cluster__k']\n",
    "    max_iter = hp_dict['cluster__max_iter']\n",
    "    stride = hp_dict['cluster__stride']\n",
    "    kmeans = pm.coordinates.cluster_kmeans(ttrajs, k=k, max_iter=max_iter, stride=stride, fixed_seed=seed, n_jobs=1)\n",
    "    dtrajs = kmeans.dtrajs\n",
    "    return dtrajs, kmeans\n",
    "\n",
    "\n",
    "def its(dtrajs: List[np.ndarray], lags: List[int], nits: int) -> np.ndarray:\n",
    "    its_obj = pm.msm.timescales_msm(dtrajs=dtrajs, lags=lags, nits=nits)\n",
    "    return its_obj.timescales\n",
    "\n",
    "\n",
    "def score(dtrajs: List[np.ndarray], lags: List[int], nits: int) -> np.ndarray:\n",
    "    all_vs = []\n",
    "    for lag in lags: \n",
    "        m = pm.msm.estimate_markov_model(dtrajs, lag=lag)\n",
    "        vs = np.array([m.score(dtrajs, score_k=k) for k in range(2, nits+2)])\n",
    "        vs = vs.reshape(1, -1)\n",
    "        all_vs.append(vs)\n",
    "    all_vs = np.concatenate(all_vs, axis=0)\n",
    "    return all_vs\n",
    "        \n",
    "\n",
    "\n",
    "def bootstrap(ftrajs: List[np.ndarray], rng: np.random.Generator) -> np.ndarray:\n",
    "    probs = np.array([x.shape[0] for x in ftrajs])\n",
    "    probs = probs/np.sum(probs)\n",
    "    ix = np.arange(len(ftrajs))\n",
    "    new_ix = rng.choice(ix,size=len(ftrajs), p=probs, replace=True)\n",
    "    return new_ix\n",
    "\n",
    "\n",
    "\n",
    "def summarise(df):\n",
    "    df_summary = df.groupby(['hp_ix', 'lag', 'process']).agg(median=(0, lambda x: np.quantile(x, 0.5)),\n",
    "                                                                   lb=(0, lambda x: np.quantile(x, 0.025)),\n",
    "                                                                   ub=(0, lambda x: np.quantile(x, 0.975)), \n",
    "                                                                   count =(0, lambda x: x.shape[0]-x.isna().sum()))\n",
    "    return df_summary\n",
    "\n",
    "\n",
    "def samples_to_summary(samples: np.ndarray, lags: List[int],  hp_ix: int)-> pd.DataFrame: \n",
    "    \"\"\"\n",
    "    samples=np.ndarray[lagtime, process, bs_sample]\n",
    "    \"\"\"\n",
    "    df = pd.concat({(hp_ix, lags[i], j+2): pd.DataFrame(samples[i, j, :]) for i in range(samples.shape[0]) for j in range(samples.shape[1])})\n",
    "    df.index.rename(('hp_ix', 'lag', 'process', 'bs_ix'), inplace=True)\n",
    "    df_summary = summarise(df)\n",
    "    return df_summary\n",
    "\n",
    "\n",
    "def get_all_projections(msm: pm.msm.MaximumLikelihoodMSM, num_procs: int, dtrajs: List[np.ndarray]) -> List[np.ndarray]:\n",
    "    \"\"\" Project dtrajs onto first num_proc eigenvectors excluding stationary distribution. i.e., if num_proc=1 then project onto the slowest eigenvector only. \n",
    "    All projections ignore the stationary distribution\n",
    "    \"\"\"\n",
    "    evs = msm.eigenvectors_right(num_procs+1)\n",
    "    active_set = msm.active_set\n",
    "    NON_ACTIVE_PROJ_VAL = np.nan # if the state is not in the active set, set the projection to this value. \n",
    "    NON_ACTIVE_IX_VAL = -1\n",
    "    evs = evs[:, 1:] # remove the stationary distribution\n",
    "    proj_trajs = []\n",
    "    for dtraj in dtrajs:\n",
    "        all_procs = []\n",
    "        for proc_num in range(num_procs):\n",
    "\n",
    "            tmp = np.ones(dtraj.shape[0], dtype=float)\n",
    "            tmp[:] = NON_ACTIVE_PROJ_VAL\n",
    "\n",
    "            for i in range(dtraj.shape[0]):\n",
    "                x = msm._full2active[dtraj[i]]\n",
    "                if x != NON_ACTIVE_IX_VAL:\n",
    "                    tmp[i] = evs[x, proc_num]\n",
    "                tmp = tmp.reshape(-1, 1)\n",
    "\n",
    "            all_procs.append(tmp)\n",
    "        all_procs = np.concatenate(all_procs, axis=1)\n",
    "        proj_trajs.append(all_procs)\n",
    "\n",
    "    return proj_trajs"
   ]
  },
  {
   "cell_type": "code",
   "execution_count": 18,
   "metadata": {
    "collapsed": false,
    "jupyter": {
     "outputs_hidden": false
    },
    "pycharm": {
     "name": "#%%\n"
    }
   },
   "outputs": [],
   "source": [
    "protein = '1fme'\n",
    "hp_ix = 81\n",
    "n_procs = 2\n",
    "lag = 41\n",
    "\n",
    "seed = 49587\n",
    "rng = np.random.default_rng(seed)\n",
    "n_bootstraps = 100\n",
    "nits=25\n",
    "\n",
    "hps = pd.read_hdf('../data/msms/hpsample.h5')\n",
    "top_path = f'/home/rob/Data/DESRES/DESRES-Trajectory_{protein.upper()}-0-protein/{protein.upper()}-0-protein/protein.pdb'\n",
    "traj_paths = list(Path('/home/rob/Data/DESRES/').rglob(f'*{protein.upper()}*/**/*.xtc'))\n",
    "traj_paths = [str(x) for x in traj_paths]\n",
    "traj_paths.sort()\n",
    "assert traj_paths"
   ]
  },
  {
   "cell_type": "code",
   "execution_count": 59,
   "metadata": {
    "scrolled": true,
    "tags": []
   },
   "outputs": [],
   "source": [
    "\n",
    "ftrajs_all = featurizer(hps.iloc[hp_ix, :].to_dict(), traj_paths, top_path)\n",
    "\n",
    "# for i in range(n_bootstraps):\n",
    "#     print(i, end=', ')\n",
    "bs_ix = bootstrap(ftrajs_all, rng)\n",
    "bs_traj_paths = [traj_paths[i] for i in bs_ix]\n",
    "ftrajs = [ftrajs_all[i] for i in bs_ix]\n",
    "\n",
    "\n",
    "assert len(ftrajs) == len(ftrajs_all)\n",
    "ttrajs, tica_mod = tica(hps.iloc[hp_ix, :].to_dict(), ftrajs)\n",
    "dtrajs, kmeans_mod = kmeans(hps.iloc[hp_ix, :].to_dict(), ttrajs, seed)\n",
    "mod = pm.msm.estimate_markov_model(dtrajs, lag=lag)\n",
    "ptrajs = get_all_projections(mod, n_procs, dtrajs)"
   ]
  },
  {
   "cell_type": "code",
   "execution_count": 63,
   "metadata": {},
   "outputs": [],
   "source": [
    "index = pd.MultiIndex.from_tuples([(bs_traj_paths[i], j) for i in range(len(traj_paths)) for j in range(ptrajs[i].shape[0])])"
   ]
  },
  {
   "cell_type": "code",
   "execution_count": 64,
   "metadata": {},
   "outputs": [],
   "source": [
    "ptrajs_all = np.concatenate(ptrajs, axis=0)\n",
    "ptrajs_df = pd.DataFrame(ptrajs_all, index=index, columns=[f\"{i+2}\" for i in range(n_procs)])"
   ]
  },
  {
   "cell_type": "code",
   "execution_count": 65,
   "metadata": {},
   "outputs": [],
   "source": [
    "def mixing_ent(x): \n",
    "    x = np.abs(x)\n",
    "    return entropy(x)\n",
    "\n",
    "ptrajs_df['mixing'] = ptrajs_df.apply(mixing_ent, axis=1)\n",
    "ptrajs_df.dropna(inplace=True)"
   ]
  },
  {
   "cell_type": "code",
   "execution_count": 81,
   "metadata": {},
   "outputs": [],
   "source": [
    "n_ev = \"2\"\n",
    "n_cuts = 50\n",
    "threshold = 1e-6\n",
    "\n",
    "df = ptrajs_df.loc[:, [n_ev, 'mixing']].copy(deep=True)\n",
    "df['cat'] = pd.qcut(df[n_ev], q=50, duplicates='drop')\n",
    "df['min'] = df.groupby('cat')['mixing'].transform('min')\n",
    "df = df.loc[np.abs(df['mixing']- df['min'])< threshold, :]\n",
    "sample = df.groupby('cat').sample(n=1)\n",
    "sample.sort_values(by='cat', inplace=True)\n",
    "sample_ixs = list(sample.index)\n",
    "traj = md.join([md.load_frame(x, top=top_path, index=y) for x, y in sample_ixs])"
   ]
  },
  {
   "cell_type": "code",
   "execution_count": null,
   "metadata": {},
   "outputs": [],
   "source": []
  }
 ],
 "metadata": {
  "kernelspec": {
   "display_name": "Python 3 (ipykernel)",
   "language": "python",
   "name": "python3"
  },
  "language_info": {
   "codemirror_mode": {
    "name": "ipython",
    "version": 3
   },
   "file_extension": ".py",
   "mimetype": "text/x-python",
   "name": "python",
   "nbconvert_exporter": "python",
   "pygments_lexer": "ipython3",
   "version": "3.9.0"
  }
 },
 "nbformat": 4,
 "nbformat_minor": 4
}
