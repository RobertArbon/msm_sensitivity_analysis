{
 "cells": [
  {
   "cell_type": "code",
   "execution_count": 2,
   "id": "2b7c64bf-9c3d-46f4-aa4d-d1e78ea7d8f6",
   "metadata": {},
   "outputs": [],
   "source": [
    "import matplotlib.pyplot as plt\n",
    "import pandas as pd\n",
    "import numpy as np\n",
    "import seaborn as sns\n",
    "import matplotlib as mpl"
   ]
  },
  {
   "cell_type": "code",
   "execution_count": 3,
   "id": "c4d46f69-1828-4072-a6ba-171933135f54",
   "metadata": {},
   "outputs": [],
   "source": [
    "protein = '1fme'\n",
    "md_t2 = {'1fme': 18*1000}\n",
    "lag = 41\n",
    "process = 2\n"
   ]
  },
  {
   "cell_type": "code",
   "execution_count": 13,
   "id": "6f69e37d-a8e1-4f1e-b536-0c9fd5dd3c1d",
   "metadata": {},
   "outputs": [],
   "source": [
    "summary_path = f'{protein}/summary.h5'\n",
    "hp_path = '../experiments/hpsample.h5'\n",
    "hps = pd.read_hdf(hp_path)\n",
    "hps.reset_index(inplace=True)\n",
    "\n",
    "\n",
    "timescales = pd.read_hdf(summary_path, key='timescales')\n",
    "vamps = pd.read_hdf(summary_path, key='vamps')\n",
    "gaps = pd.read_hdf(summary_path, key='timescale_ratio')\n",
    "gaps.reset_index(inplace=True)\n",
    "timescales.reset_index(inplace=True)\n",
    "vamps.reset_index(inplace=True)\n",
    "\n",
    "timescales = timescales.merge(hps, on=['hp_ix'], how='left')\n",
    "timescales['feature'] = timescales.apply(lambda x: f\"{x['feature__value']}\" if x['feature__value'] =='dihedrals' else f\"{x['distances__transform']}-{x['feature__value']}\", axis=1)"
   ]
  },
  {
   "cell_type": "code",
   "execution_count": 14,
   "id": "9aac7e5f-2c4b-4532-93eb-62367e8ce079",
   "metadata": {},
   "outputs": [
    {
     "data": {
      "text/plain": [
       "array(['logistic-distances', 'linear-distances', 'dihedrals'],\n",
       "      dtype=object)"
      ]
     },
     "execution_count": 14,
     "metadata": {},
     "output_type": "execute_result"
    }
   ],
   "source": [
    "timescales.feature.unique()"
   ]
  },
  {
   "cell_type": "code",
   "execution_count": 18,
   "id": "587bf190-bcf2-4a4b-9502-5521014bc199",
   "metadata": {},
   "outputs": [],
   "source": [
    "data=timescales.query(\"process==2\").query('lag==41')\n",
    "data.sort_values(by='median', inplace=True, axis=0, ascending=False)\n",
    "data['rank'] = (np.arange(data.shape[0])+1).astype(int)"
   ]
  },
  {
   "cell_type": "code",
   "execution_count": 32,
   "id": "7ffbf95c-646e-4ab9-9146-20e198d10cdf",
   "metadata": {},
   "outputs": [
    {
     "data": {
      "image/png": "[encoded data removed]",
      "text/plain": [
       "<Figure size 432x288 with 1 Axes>"
      ]
     },
     "metadata": {
      "needs_background": "light"
     },
     "output_type": "display_data"
    }
   ],
   "source": [
    "with sns.plotting_context('paper', font_scale=1):\n",
    "    cols = sns.color_palette('colorblind')\n",
    "    shapes = ['o', 'v', 's']\n",
    "    fig, ax = plt.subplots(1)\n",
    "    for i, feat in enumerate(np.sort(timescales.feature.unique())): \n",
    "        ix = (data.feature==feat) \n",
    "        y = data.loc[ix, 'median']\n",
    "        yerr = (y-data.loc[ix, 'lb'], data.loc[ix, 'ub']-y)\n",
    "        x = data.loc[ix, 'rank']\n",
    "        \n",
    "        ax.errorbar(x, y, yerr, elinewidth=0.5, lw=0, marker=shapes[i], markersize=3, color=cols[i], label=feat)\n",
    "        \n",
    "        ax.set_xlabel('Trial rank (by timescale)')\n",
    "        ax.set_ylabel('$t_{2}$ (ns)')\n",
    "        ax.set_yscale('log')\n",
    "\n",
    "    ax.hlines(md_t2[protein], x.min(), x.max(), ls='dashed', color='k', label='MD estimate')\n",
    "    ax.legend()\n",
    "    plt.savefig(f'{protein}/{protein}_timescales.pdf', bbox_inches='tight')"
   ]
  },
  {
   "cell_type": "code",
   "execution_count": 34,
   "id": "0fa6a5c0-09dd-4812-9dcb-68c37f204a9c",
   "metadata": {},
   "outputs": [
    {
     "data": {
      "text/plain": [
       "(2.580698985123864, 4.310288484063908)"
      ]
     },
     "execution_count": 34,
     "metadata": {},
     "output_type": "execute_result"
    }
   ],
   "source": [
    "np.log10(data['median'].min()), np.log10(data['median'].max())"
   ]
  },
  {
   "cell_type": "code",
   "execution_count": 41,
   "id": "67cf24b6-6b61-4160-a601-fac593f4aa6c",
   "metadata": {},
   "outputs": [
    {
     "data": {
      "text/plain": [
       "(0.45588235294117646, 62)"
      ]
     },
     "execution_count": 41,
     "metadata": {},
     "output_type": "execute_result"
    }
   ],
   "source": [
    "np.mean(data['ub']>md_t2[protein]), np.sum(data['ub']>md_t2[protein]), "
   ]
  },
  {
   "cell_type": "code",
   "execution_count": 43,
   "id": "889fcacb-8f9d-4d1f-a818-97df55a0fcf4",
   "metadata": {},
   "outputs": [
    {
     "data": {
      "text/plain": [
       "54876    13.505258\n",
       "13291   -46.343708\n",
       "39868   -55.412951\n",
       "43327   -55.628429\n",
       "36375   -56.922939\n",
       "Name: median, dtype: float64"
      ]
     },
     "execution_count": 43,
     "metadata": {},
     "output_type": "execute_result"
    }
   ],
   "source": [
    "((data['median']/md_t2[protein]-1)*100).head()"
   ]
  },
  {
   "cell_type": "code",
   "execution_count": 45,
   "id": "132ae42e-9cf5-4c27-b8fc-291adf1a86cd",
   "metadata": {},
   "outputs": [
    {
     "data": {
      "text/plain": [
       "54876    20430.946382\n",
       "13291     9658.132641\n",
       "39868     8025.668786\n",
       "43327     7986.882735\n",
       "36375     7753.871000\n",
       "Name: median, dtype: float64"
      ]
     },
     "execution_count": 45,
     "metadata": {},
     "output_type": "execute_result"
    }
   ],
   "source": [
    "data['median'].head()"
   ]
  },
  {
   "cell_type": "code",
   "execution_count": null,
   "id": "2958ddc7-a99f-42b7-8d6f-1c6b56dea030",
   "metadata": {},
   "outputs": [],
   "source": []
  }
 ],
 "metadata": {
  "kernelspec": {
   "display_name": "Python 3 (ipykernel)",
   "language": "python",
   "name": "python3"
  },
  "language_info": {
   "codemirror_mode": {
    "name": "ipython",
    "version": 3
   },
   "file_extension": ".py",
   "mimetype": "text/x-python",
   "name": "python",
   "nbconvert_exporter": "python",
   "pygments_lexer": "ipython3",
   "version": "3.9.0"
  }
 },
 "nbformat": 4,
 "nbformat_minor": 5
}
