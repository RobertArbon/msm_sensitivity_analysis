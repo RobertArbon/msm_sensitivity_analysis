{
 "cells": [
  {
   "cell_type": "code",
   "execution_count": 19,
   "id": "337a252d-003c-49ab-8385-0babfe10fa4b",
   "metadata": {},
   "outputs": [],
   "source": [
    "import pandas as pd\n",
    "import h5py\n",
    "import numpy as np"
   ]
  },
  {
   "cell_type": "code",
   "execution_count": 20,
   "id": "ea855839-01c7-4ec0-a9b1-12ce100788ce",
   "metadata": {},
   "outputs": [],
   "source": [
    "ts = pd.read_hdf('1fme/summary.h5', key='timescales')"
   ]
  },
  {
   "cell_type": "code",
   "execution_count": 24,
   "id": "a396031e-f64d-4404-b8cb-778633cf96fe",
   "metadata": {},
   "outputs": [
    {
     "data": {
      "text/plain": [
       "0"
      ]
     },
     "execution_count": 24,
     "metadata": {},
     "output_type": "execute_result"
    }
   ],
   "source": [
    "df = pd.read_hdf('1fme/raw.h5', key='timescales')\n",
    "np.sum(df.groupby(['hp_ix', 'lag', 'process']).median().isna())"
   ]
  },
  {
   "cell_type": "code",
   "execution_count": null,
   "id": "b2cb0a61-4913-4719-8b47-565a20c446e1",
   "metadata": {},
   "outputs": [],
   "source": []
  }
 ],
 "metadata": {
  "kernelspec": {
   "display_name": "Python 3 (ipykernel)",
   "language": "python",
   "name": "python3"
  },
  "language_info": {
   "codemirror_mode": {
    "name": "ipython",
    "version": 3
   },
   "file_extension": ".py",
   "mimetype": "text/x-python",
   "name": "python",
   "nbconvert_exporter": "python",
   "pygments_lexer": "ipython3",
   "version": "3.9.0"
  }
 },
 "nbformat": 4,
 "nbformat_minor": 5
}
