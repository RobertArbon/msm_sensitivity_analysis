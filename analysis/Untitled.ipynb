{
 "cells": [
  {
   "cell_type": "code",
   "execution_count": 1,
   "id": "805c47fe-cf20-4e61-88a3-2dcd25f2607a",
   "metadata": {},
   "outputs": [],
   "source": [
    "import numpy as np"
   ]
  },
  {
   "cell_type": "code",
   "execution_count": 52,
   "id": "953c8e2b-ff8b-482a-ab46-3d7922fd8212",
   "metadata": {},
   "outputs": [],
   "source": [
    "lag = 41\n",
    "ts1 = 10462.112332\n",
    "ts2 = 2409"
   ]
  },
  {
   "cell_type": "code",
   "execution_count": 53,
   "id": "8ba73b5a-1393-40f2-93d1-24635eeeb29e",
   "metadata": {},
   "outputs": [],
   "source": [
    "# ts = -tau/np.log(ev)\n",
    "# -ts/tau = 1/log(ev)\n",
    "# -tau/ts = log(ev)\n",
    "# ev = np.exp(-tau/ts)\n"
   ]
  },
  {
   "cell_type": "code",
   "execution_count": 54,
   "id": "e98f6ba8-163c-41f2-95a1-fd3106a41270",
   "metadata": {},
   "outputs": [],
   "source": [
    "def ts_to_ev(lag, ts): \n",
    "    return np.exp(-lag/ts)\n"
   ]
  },
  {
   "cell_type": "code",
   "execution_count": 55,
   "id": "6f535d6a-2efa-4fdc-8e4c-bdf6f6164ada",
   "metadata": {},
   "outputs": [],
   "source": [
    "ev1 = ts_to_ev(lag, ts1)\n",
    "ev2 = ts_to_ev(lag, ts2)"
   ]
  },
  {
   "cell_type": "code",
   "execution_count": 56,
   "id": "d53b1b5a-7b0c-4b75-8e3c-c9453031029d",
   "metadata": {},
   "outputs": [],
   "source": [
    "vamp2_1 = 1 + ev1**2\n",
    "vamp2_2 = 1 + ev2**2"
   ]
  },
  {
   "cell_type": "code",
   "execution_count": 57,
   "id": "6f6f2dd1-b4d8-46e0-8a57-9e6a1accf904",
   "metadata": {},
   "outputs": [
    {
     "data": {
      "text/plain": [
       "(0.3903584921755465, 1.6733105287890404)"
      ]
     },
     "execution_count": 57,
     "metadata": {},
     "output_type": "execute_result"
    }
   ],
   "source": [
    "loss1 = 100*(2 - vamp2_1)/2\n",
    "loss2 = 100*(2 - vamp2_2)/2\n",
    "loss1, loss2"
   ]
  },
  {
   "cell_type": "code",
   "execution_count": 58,
   "id": "7cf329de-c76f-4b99-b8bb-dbd111444b79",
   "metadata": {},
   "outputs": [
    {
     "data": {
      "text/plain": [
       "(1.992192830156489, 1.9665337894242192)"
      ]
     },
     "execution_count": 58,
     "metadata": {},
     "output_type": "execute_result"
    }
   ],
   "source": [
    "vamp2_1, vamp2_2"
   ]
  },
  {
   "cell_type": "code",
   "execution_count": 41,
   "id": "c4bd333b-3b83-4b71-99ae-c7ebe07855a7",
   "metadata": {},
   "outputs": [],
   "source": [
    "x = np.random.uniform(0, 10, 10000)*100"
   ]
  },
  {
   "cell_type": "code",
   "execution_count": 42,
   "id": "1e02728c-259d-4db5-b70c-dcf2fba70594",
   "metadata": {},
   "outputs": [
    {
     "data": {
      "text/plain": [
       "array([247.5700705 , 369.26272992, 865.03897715, ..., 998.68362731,\n",
       "       462.5030165 , 704.53228828])"
      ]
     },
     "execution_count": 42,
     "metadata": {},
     "output_type": "execute_result"
    }
   ],
   "source": [
    "x"
   ]
  },
  {
   "cell_type": "code",
   "execution_count": 43,
   "id": "4b702d29-6f36-4129-a341-06cce31e8519",
   "metadata": {},
   "outputs": [],
   "source": [
    "med_p = 1 + ts_to_ev(41, np.median(x))**2\n",
    "med_s = np.median(1+ts_to_ev(41, x)**2)"
   ]
  },
  {
   "cell_type": "code",
   "execution_count": 44,
   "id": "ae0e3acc-fe41-4b74-8468-59933677bb83",
   "metadata": {},
   "outputs": [
    {
     "data": {
      "text/plain": [
       "(1.8469033612345738, 1.8469033499506)"
      ]
     },
     "execution_count": 44,
     "metadata": {},
     "output_type": "execute_result"
    }
   ],
   "source": [
    "med_p, med_s"
   ]
  },
  {
   "cell_type": "code",
   "execution_count": null,
   "id": "94503688-4374-430e-a7da-fcd76b97ef33",
   "metadata": {},
   "outputs": [],
   "source": []
  }
 ],
 "metadata": {
  "kernelspec": {
   "display_name": "Python 3 (ipykernel)",
   "language": "python",
   "name": "python3"
  },
  "language_info": {
   "codemirror_mode": {
    "name": "ipython",
    "version": 3
   },
   "file_extension": ".py",
   "mimetype": "text/x-python",
   "name": "python",
   "nbconvert_exporter": "python",
   "pygments_lexer": "ipython3",
   "version": "3.8.0"
  }
 },
 "nbformat": 4,
 "nbformat_minor": 5
}
