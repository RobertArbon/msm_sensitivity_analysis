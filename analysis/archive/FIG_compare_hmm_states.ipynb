{
 "cells": [
  {
   "cell_type": "code",
   "execution_count": 1,
   "id": "a95e7815-5660-4e85-950d-3b185e2498b2",
   "metadata": {},
   "outputs": [],
   "source": [
    "import mdtraj as md\n",
    "import functions as funcs\n",
    "import seaborn as sns\n",
    "import matplotlib.pyplot as plt\n",
    "from pathlib import Path\n",
    "import pandas as pd\n",
    "import numpy as np\n",
    "import matplotlib as mpl"
   ]
  },
  {
   "cell_type": "code",
   "execution_count": 2,
   "id": "6816c5f3-2897-485d-9c51-796dac032da0",
   "metadata": {},
   "outputs": [],
   "source": [
    "prot_pdbs = {'Chignolin': '5awl.pdb', 'BBA': '1fme.pdb', 'Trp-cage': '2jof.pdb',  'Villin': '2f4k.pdb', 'WW-domain': '2f21.pdb' , 'BBL': '2wxc.pdb' , 'Homeodomain': '2p6j.pdb', 'Protein-B': '1prb.pdb'}\n",
    "prot_dict = dict(zip(funcs.PROTEIN_LABELS, funcs.PROTEIN_DIRS))"
   ]
  },
  {
   "cell_type": "markdown",
   "id": "443b56eb-296e-4767-b6c8-e152a2893690",
   "metadata": {},
   "source": [
    "# Get wwdomain structure"
   ]
  },
  {
   "cell_type": "code",
   "execution_count": 3,
   "id": "ed976234-201c-4e31-beca-464909fb643d",
   "metadata": {},
   "outputs": [],
   "source": [
    "# 2f21         MADEEKLPPGWEKRMSADGRVYYFNHITNASQWERPSGQGEPARVRCSHLLVKHSQSRRPSSW\n",
    "# system       G---SKLPPGWEKRMSRDGRVYYFN?ITGTTQFERPSG-------------------------"
   ]
  },
  {
   "cell_type": "code",
   "execution_count": 4,
   "id": "02ac958e-5e47-4a05-8a6e-3781127eff73",
   "metadata": {},
   "outputs": [],
   "source": [
    "ref = list('MADEEKLPPGWEKRMSADGRVYYFNHITNASQWERPSGQGEPARVRCSHLLVKHSQSRRPSSW')\n",
    "tar = list(\"G---SKLPPGWEKRMSRDGRVYYFN?ITGTTQFERPSG-------------------------\")\n",
    "letters = funcs.LETTERS + ['?']\n",
    "\n",
    "ref_ix = []\n",
    "tar_ix = []\n",
    "ref_count = 1\n",
    "tar_count = 1\n",
    "for i in range(len(ref)):\n",
    "\n",
    "        \n",
    "    if (ref[i]==tar[i]) or (ref[i]=='?') or (tar[i]=='?'):\n",
    "        ref_ix.append(ref_count)\n",
    "        tar_ix.append(tar_count)\n",
    "\n",
    "    if ref[i].lower() in letters: ref_count += 1\n",
    "    if tar[i].lower() in letters: tar_count += 1\n",
    "\n",
    "pdb = md.load('compare_structures/2f21.pdb')\n",
    "pdb = pdb.top.to_dataframe()[0]\n",
    "pdb = pdb.loc[pdb.name=='CA', :]\n",
    "pdb.resSeq = np.arange(pdb.shape[0])+1\n",
    "wwd_ref_atom_ix = pdb.loc[pdb.resSeq.isin(ref_ix), 'serial'].values - 1\n",
    "\n",
    "wwd = md.load('compare_structures/ww_domain.pdb')\n",
    "wwd = wwd.top.to_dataframe()[0]\n",
    "wwd = wwd.loc[wwd.name=='CA', :]\n",
    "wwd_tar_atom_ix = wwd.loc[wwd.resSeq.isin(tar_ix), 'serial'].values - 1\n",
    "\n",
    "# pd.concat([wwd.loc[wwd.serial.isin(tar_atom_ix+1), :].reset_index(inplace=False, drop=True), pdb.loc[pdb.serial.isin(ref_atom_ix+1), :].reset_index(inplace=False, drop=True)], axis=1)"
   ]
  },
  {
   "cell_type": "markdown",
   "id": "7cd70d7f-fe79-4867-9c8c-9af5a5985ceb",
   "metadata": {},
   "source": [
    "# Comparison to crystal structure"
   ]
  },
  {
   "cell_type": "code",
   "execution_count": 5,
   "id": "afbcabe0-bb1c-4806-89a7-b5a705c32a9e",
   "metadata": {},
   "outputs": [],
   "source": [
    "directory = 'compare_structures'\n",
    "traj_dir = Path('/Volumes/REA/MD/12FF/strided/')\n",
    "\n",
    "nm_to_ang = 10\n",
    "\n",
    "def sample_states(protein, select_method, feature):\n",
    "\n",
    "    traj_paths = list(Path(directory).joinpath(protein).rglob(f\"{select_method}_model_{feature}_state_*.xtc\"))\n",
    "    num_states = len(traj_paths)\n",
    "    if num_states > 0:\n",
    "        state_samples = {}\n",
    "\n",
    "        for state in range(num_states): \n",
    "            traj_path = Path(directory).joinpath(protein, f\"{select_method}_model_{feature}_state_{state}.xtc\")\n",
    "            top_path = str(list(traj_dir.rglob(f\"*{prot_dict[protein].upper()}*/*.pdb\"))[0])\n",
    "            top = md.load(top_path)\n",
    "            state_samples[state] = md.load(str(traj_path), top=top)\n",
    "    else: \n",
    "        state_samples = None\n",
    "        \n",
    "    return state_samples\n",
    "\n",
    "\n",
    "def get_reference(protein, state_samples, ref):\n",
    "    \n",
    "    use_xtal = ref is None\n",
    "\n",
    "    if use_xtal:\n",
    "        ref = md.load(f\"{directory}/{prot_pdbs[protein]}\")\n",
    "\n",
    "    if (protein == 'WW-domain') and (use_xtal): \n",
    "        ref_ix = wwd_ref_atom_ix\n",
    "        tar_ix = wwd_tar_atom_ix\n",
    "    else: \n",
    "        ref_ix = ref.top.select('name == CA')\n",
    "        tar_ix = state_samples[0].top.select('name == CA')\n",
    "\n",
    "    return ref, ref_ix, tar_ix\n",
    "\n",
    "\n",
    "def align_structures(protein, state_samples, ref=None):\n",
    "    \n",
    "    ref, ref_ix, tar_ix = get_reference(protein, state_samples, ref)\n",
    "        \n",
    "    for state_ix, sample in state_samples.items(): \n",
    "        sample.superpose(ref, frame=0, atom_indices=tar_ix, ref_atom_indices=ref_ix)\n",
    "    return state_samples\n",
    "        \n",
    "def rmsd_samples(protein, state_samples, ref=None):\n",
    "    ref, ref_ix, tar_ix = get_reference(protein, state_samples, ref)\n",
    "    rmsd_samples = {}\n",
    "    for state_ix, sample in state_samples.items(): \n",
    "        rmsd_samples[state_ix] = md.rmsd(sample, ref, frame=0, atom_indices=tar_ix, ref_atom_indices=ref_ix)*nm_to_ang\n",
    "    return rmsd_samples\n",
    "        "
   ]
  },
  {
   "cell_type": "code",
   "execution_count": 15,
   "id": "fdb1d5c7-5ad2-4bea-bf20-6dc8a91a4979",
   "metadata": {},
   "outputs": [
    {
     "name": "stdout",
     "output_type": "stream",
     "text": [
      "BBA\n"
     ]
    },
    {
     "name": "stderr",
     "output_type": "stream",
     "text": [
      "/Users/robertarbon/opt/miniconda3/envs/msmsense/lib/python3.8/site-packages/mdtraj/formats/pdb/pdbfile.py:196: UserWarning: Unlikely unit cell vectors detected in PDB file likely resulting from a dummy CRYST1 record. Discarding unit cell vectors.\n",
      "  warnings.warn('Unlikely unit cell vectors detected in PDB file likely '\n"
     ]
    },
    {
     "name": "stdout",
     "output_type": "stream",
     "text": [
      "BBL\n"
     ]
    },
    {
     "name": "stderr",
     "output_type": "stream",
     "text": [
      "/Users/robertarbon/opt/miniconda3/envs/msmsense/lib/python3.8/site-packages/mdtraj/formats/pdb/pdbfile.py:196: UserWarning: Unlikely unit cell vectors detected in PDB file likely resulting from a dummy CRYST1 record. Discarding unit cell vectors.\n",
      "  warnings.warn('Unlikely unit cell vectors detected in PDB file likely '\n"
     ]
    },
    {
     "name": "stdout",
     "output_type": "stream",
     "text": [
      "Chignolin\n",
      "Trp-cage\n"
     ]
    },
    {
     "name": "stderr",
     "output_type": "stream",
     "text": [
      "/Users/robertarbon/opt/miniconda3/envs/msmsense/lib/python3.8/site-packages/mdtraj/formats/pdb/pdbfile.py:196: UserWarning: Unlikely unit cell vectors detected in PDB file likely resulting from a dummy CRYST1 record. Discarding unit cell vectors.\n",
      "  warnings.warn('Unlikely unit cell vectors detected in PDB file likely '\n"
     ]
    },
    {
     "name": "stdout",
     "output_type": "stream",
     "text": [
      "Villin\n",
      "WW-domain\n",
      "Homeodomain\n"
     ]
    },
    {
     "name": "stderr",
     "output_type": "stream",
     "text": [
      "/Users/robertarbon/opt/miniconda3/envs/msmsense/lib/python3.8/site-packages/mdtraj/formats/pdb/pdbfile.py:196: UserWarning: Unlikely unit cell vectors detected in PDB file likely resulting from a dummy CRYST1 record. Discarding unit cell vectors.\n",
      "  warnings.warn('Unlikely unit cell vectors detected in PDB file likely '\n"
     ]
    }
   ],
   "source": [
    "method_dict = {'m1': 'Fixed k', 'm2': 'TS Gap', 'm3': 'Fixed k (worst)'}\n",
    "\n",
    "for protein in ['BBA', 'BBL', 'Chignolin', 'Trp-cage', 'Villin', 'WW-domain', 'Homeodomain']:\n",
    "# protein = 'BBA'\n",
    "    all_dfs = []\n",
    "    print(protein)\n",
    "    for feature in ['dihed.', 'dist.', 'logit(dist.)']:\n",
    "        for select_method in ['m1', 'm2', 'm3']:\n",
    "\n",
    "            samples = sample_states(protein, select_method, feature)\n",
    "            if not samples is None:\n",
    "                samples = align_structures(protein, samples)\n",
    "                rmsd = rmsd_samples(protein, samples)\n",
    "                df = pd.DataFrame(rmsd)\n",
    "                df = df.melt(var_name='State', value_name='RMSD')\n",
    "                df['Protein'] = protein\n",
    "                df['Feature'] = feature\n",
    "                df['Method'] = method_dict[select_method]\n",
    "                all_dfs.append(df)\n",
    "\n",
    "    df = pd.concat(all_dfs)\n",
    "    with sns.plotting_context('paper', font_scale=1.25):\n",
    "        g = sns.displot(data=df, col='Feature', col_order=['dihed.' ,'dist.', 'logit(dist.)'],  \n",
    "                        row='State', hue='Method', x='RMSD', kind='kde', lw=2)\n",
    "\n",
    "        xlim = g.axes[0,0].get_xlim()\n",
    "        for i, ax in enumerate(g.axes.flatten()):\n",
    "            ax.set_xlim(0, xlim[1])\n",
    "            ax.xaxis.set_major_locator(mpl.ticker.MultipleLocator(1))\n",
    "            ax.grid()\n",
    "            ax.annotate(text=f\"({funcs.LETTERS[i]})\", xy=(0.01, 0.99), xycoords='axes fraction', ha='left', va='top')\n",
    "            \n",
    "            \n",
    "        plt.savefig(f\"{funcs.FIG_DIR}/model_comparisons/folded_state/{protein}.pdf\", bbox_inches='tight')\n",
    "        plt.close()"
   ]
  },
  {
   "cell_type": "code",
   "execution_count": null,
   "id": "d9a3544f-9de3-46d3-81cb-2db03861b282",
   "metadata": {},
   "outputs": [],
   "source": []
  }
 ],
 "metadata": {
  "kernelspec": {
   "display_name": "Python 3 (ipykernel)",
   "language": "python",
   "name": "python3"
  },
  "language_info": {
   "codemirror_mode": {
    "name": "ipython",
    "version": 3
   },
   "file_extension": ".py",
   "mimetype": "text/x-python",
   "name": "python",
   "nbconvert_exporter": "python",
   "pygments_lexer": "ipython3",
   "version": "3.8.0"
  }
 },
 "nbformat": 4,
 "nbformat_minor": 5
}
