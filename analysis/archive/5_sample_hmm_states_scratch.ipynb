{
 "cells": [
  {
   "cell_type": "code",
   "execution_count": 2,
   "id": "0fde075b-a84c-42ca-bd20-1f025ec5cda5",
   "metadata": {
    "tags": []
   },
   "outputs": [
    {
     "data": {
      "application/vnd.jupyter.widget-view+json": {
       "model_id": "10336853f5a34c26af2bb17bc26b90d5",
       "version_major": 2,
       "version_minor": 0
      },
      "text/plain": []
     },
     "metadata": {},
     "output_type": "display_data"
    }
   ],
   "source": [
    "import pyemma as pm\n",
    "import mdtraj as md\n",
    "from molpx.generate import projection_paths\n",
    "import matplotlib.pyplot as plt\n",
    "import numpy as np\n",
    "from pathlib import Path\n",
    "import pandas as pd\n",
    "from typing import Dict, Union, List\n",
    "from msmsense.featurizers import dihedrals, distances\n",
    "from msmsense.bootstrap_cmatrices import get_sub_dict, get_trajs\n",
    "from functools import partial\n",
    "import functions as funcs\n",
    "\n",
    "%matplotlib inline\n",
    "\n",
    "import pickle\n",
    "import time\n",
    "import seaborn as sns"
   ]
  },
  {
   "cell_type": "markdown",
   "id": "a950cada-e676-4cd8-a146-14e8102103cd",
   "metadata": {},
   "source": [
    "# Globals and functions"
   ]
  },
  {
   "cell_type": "code",
   "execution_count": 3,
   "id": "2dc8158b-04e5-4684-a651-93e1661084a2",
   "metadata": {},
   "outputs": [],
   "source": [
    "def get_feature_dict(df, row_num):\n",
    "    row_dict = df.filter(regex='__', axis=1).iloc[row_num, :].to_dict()\n",
    "    feature_dict = get_sub_dict(row_dict, 'feature')\n",
    "    if feature_dict['value'] == 'distances':\n",
    "        feature_dict.update(get_sub_dict(row_dict, 'distances'))\n",
    "    if feature_dict['value'] == 'dihedrals':\n",
    "        feature_dict.update(get_sub_dict(row_dict, 'dihedrals'))\n",
    "    return feature_dict\n",
    "\n",
    "def get_kws_dict(df, row_num, kws):\n",
    "    row_dict = df.filter(regex='__', axis=1).iloc[row_num, :].to_dict()   \n",
    "    kws_dict = get_sub_dict(row_dict, kws)\n",
    "    return kws_dict\n",
    "\n",
    "def set_proper_dtypes(df):\n",
    "    \"\"\"\n",
    "    forgot to save integers as integers. Only the distances feature columns have true floats. \n",
    "    \"\"\"\n",
    "    float_cols = list(df.filter(regex='distances.*', axis=1)) + list(df.filter(regex='.*vamp.*', axis=1)) \n",
    "    float_cols = float_cols + list(df.filter(regex='.*gap.*', axis=1)) \n",
    "    potential_integer_cols = df.columns.difference(float_cols)\n",
    "    for col in potential_integer_cols:\n",
    "        if str(df[col].dtype) != 'object':\n",
    "            df[col] = df[col].astype(int)\n",
    "    return df\n",
    "\n",
    "def get_trajs_top(traj_dir: Path, protein_dir: str, rng: Union[np.random.Generator, None]=None):\n",
    "    trajs = list(traj_dir.rglob(f\"*{protein_dir.upper()}*/*.xtc\"))\n",
    "    trajs.sort()\n",
    "    if rng is not None:\n",
    "        ix = rng.choice(np.arange(len(trajs)), size=len(trajs), replace=True)\n",
    "        trajs = [trajs[i] for i in ix]\n",
    "    \n",
    "    top = list(traj_dir.rglob(f\"*{protein_dir.upper()}*/*.pdb\"))[0]\n",
    "    \n",
    "    return {'trajs': trajs, 'top': top}\n",
    "    \n",
    "    \n",
    "def get_random_traj(trajs: List[md.Trajectory], num_frames: int, rng: np.random.Generator)-> md.Trajectory: \n",
    "    traj_ix = np.arange(len(trajs))\n",
    "    frame_ix = [np.arange(traj.n_frames) for traj in trajs]\n",
    "    \n",
    "    rand_ix = [(ix, rng.choice(frame_ix[ix])) for ix in rng.choice(traj_ix, size=num_frames)]\n",
    "    rand_traj = md.join([trajs[x[0]][x[1]] for x in rand_ix])\n",
    "    return rand_traj\n",
    "    "
   ]
  },
  {
   "cell_type": "code",
   "execution_count": 4,
   "id": "02cebf72-cd33-4b86-9a1a-cee376c8c846",
   "metadata": {},
   "outputs": [],
   "source": [
    "class MSM(object):\n",
    "    \n",
    "    def __init__(self, lag: int, num_evs: int, trajs: List[md.Trajectory], top: md.Trajectory,\n",
    "                 feature_kws: Dict[str, Union[str, int, float]], tica_kws: Dict[str, Union[str, int, float]], cluster_kws: Dict[str, Union[str, int, float]], seed: int):\n",
    "        \"\"\"\n",
    "        Defines the whole MSM pipeline.\n",
    "        lag: markov lag time \n",
    "        num_evs: number of eigenvectors in VAMP score. This includes stationary distribution. note: all projections are done onto the processes 1 - num_evs, i.e., exclude the stationary distribution (process 0)\n",
    "        traj_top_paths: dictionary with 'trajs' - list of Paths to trajectories, and 'top' Path to topology file. \n",
    "        \n",
    "        \"\"\"\n",
    "        self.lag = lag\n",
    "        self.num_evs = num_evs\n",
    "        self.trajs = trajs\n",
    "\n",
    "        self.top = top\n",
    "        self.feature_kws = feature_kws\n",
    "        self.tica_kws = tica_kws\n",
    "        self.cluster_kws = cluster_kws\n",
    "        self.featurizer = None\n",
    "        self._set_featurizer()\n",
    "        self.seed = seed\n",
    "\n",
    "        self.ttrajs = None\n",
    "        self.tica = None\n",
    "        self.cluster = None\n",
    "        self.msm = None\n",
    "        self.paths = None\n",
    "        \n",
    "    def _set_featurizer(self):\n",
    "        feature_kws = self.feature_kws.copy()\n",
    "        feature = feature_kws.pop('value')\n",
    "        \n",
    "        if feature == 'distances':\n",
    "            self.featurizer = partial(distances, **feature_kws)\n",
    "        elif feature == 'dihedrals':\n",
    "            self.featurizer = partial(dihedrals, **feature_kws)\n",
    "        else:\n",
    "            raise NotImplementedError('Unrecognized feature')\n",
    "        \n",
    "\n",
    "    def fit(self):\n",
    "        ftrajs = self.featurizer(self.trajs)\n",
    "        self.tica = pm.coordinates.tica(data=ftrajs, **self.tica_kws)\n",
    "        ttrajs = self.tica.get_output()\n",
    "        self.ttrajs = ttrajs\n",
    "        self.cluster = pm.coordinates.cluster_kmeans(data=ttrajs, **self.cluster_kws, fixed_seed=self.seed)\n",
    "        dtrajs = self.cluster.dtrajs\n",
    "        self.msm = pm.msm.estimate_markov_model(dtrajs=dtrajs, lag=self.lag)\n",
    "\n",
    "    \n",
    "    def _get_all_projections(self, num_procs: int, dtrajs: List[np.ndarray]) -> np.ndarray:\n",
    "        \"\"\" Project dtrajs onto first num_proc eigenvectors excluding stationary distribution. i.e., if num_proc=1 then project onto the slowest eigenvector only. \n",
    "        All projections ignore the stationary distribution\n",
    "        \"\"\"\n",
    "        evs = self.msm.eigenvectors_right(num_procs+1)\n",
    "        active_set = self.msm.active_set\n",
    "        NON_ACTIVE_PROJ_VAL = 0 # if the state is not in the active set, set the projection to this value. \n",
    "        NON_ACTIVE_IX_VAL = -1\n",
    "        evs = evs[:, 1:] # remove the stationary distribution\n",
    "        proj_trajs = []\n",
    "        for dtraj in dtrajs:\n",
    "            all_procs = []\n",
    "            for proc_num in range(num_procs):\n",
    "                \n",
    "                tmp = np.ones(dtraj.shape[0], dtype=float)\n",
    "                tmp[:] = NON_ACTIVE_PROJ_VAL\n",
    "                \n",
    "                for i in range(dtraj.shape[0]):\n",
    "                    x = self.msm._full2active[dtraj[i]]\n",
    "                    if x != NON_ACTIVE_IX_VAL:\n",
    "                        tmp[i] = evs[x, proc_num]\n",
    "                    tmp = tmp.reshape(-1, 1)\n",
    "                \n",
    "                all_procs.append(tmp)\n",
    "            all_procs = np.concatenate(all_procs, axis=1)\n",
    "            proj_trajs.append(all_procs)\n",
    "        \n",
    "        return proj_trajs\n",
    "        \n",
    "        \n",
    "    def projection_paths(self, n_projs: Union[None, int]=None, proj_dim: Union[None, int]=None, n_points: int=100, n_geom_samples: int=100):\n",
    "        \"\"\"\n",
    "        n_projs: number of paths to create. Default = None = num_evs - 1 (i.e., exclude stationary distribution)\n",
    "        proj_dim: dimensionality of the space in which distances will be computed. Default = None = num_evs - 1 (i.e., exclude stationary distribution)\n",
    "        n_points: number of points along the path (there may be less than this.)\n",
    "        n_geom_samples: For each of the n_points along the projection path, n_geom_samples will be retrieved from the trajectory files. \n",
    "                        The higher this number, the smoother the minRMSD projection path. Also, the longer it takes for the path to be computed\n",
    "        \"\"\"\n",
    "        \n",
    "        if proj_dim is None:\n",
    "            proj_dim = self.num_evs - 1\n",
    "        if n_projs is None:\n",
    "            n_projs = self.num_evs - 1\n",
    "        \n",
    "        projections = self._get_all_projections(num_procs=proj_dim, dtrajs=self.msm.discrete_trajectories_active)\n",
    "        \n",
    "        paths, _ = projection_paths(MD_trajectories=self.trajs, MD_top = self.top, projected_trajectories=projections, \n",
    "                                    n_projs=n_projs, proj_dim=proj_dim, n_geom_samples=n_geom_samples, n_points=n_points)\n",
    "        self.paths = paths\n",
    "        \n",
    "        \n",
    "    \n",
    "    def get_projection_trajectory(self, proc_num: int, kind: str='min_rmsd') -> md.Trajectory:\n",
    "        \"\"\"\n",
    "        Returns the projection trajectory for a specific dimension\n",
    "        proc_num: the number process. Min value = 1\n",
    "        \"\"\"\n",
    "        if proc_num == 0:\n",
    "            raise ValueError(\"process_num must be >=1. Processes are indexed from 0 (stationary distribution). Process 1 is the slowest projected process.\")\n",
    "            \n",
    "        return self.paths[proc_num-1][kind]['geom']\n",
    "    \n",
    "    \n",
    "    def transform(self, new_trajectory: md.Trajectory) -> np.ndarray:\n",
    "        \"\"\"\n",
    "        projects new trajectory onto the self.num_proc eigenvectors of the MSM\n",
    "        \"\"\"\n",
    "        ftrajs = self.featurizer([new_trajectory])\n",
    "        ttrajs = self.tica.transform(ftrajs)\n",
    "        dtrajs = self.cluster.transform(ttrajs)\n",
    "        projections = self._get_all_projections(num_procs=self.num_evs - 1, dtrajs=dtrajs)\n",
    "        return projections\n",
    "        \n",
    "        "
   ]
  },
  {
   "cell_type": "code",
   "execution_count": 5,
   "id": "7d6ad172-d633-49d4-a846-487ed130b4b1",
   "metadata": {},
   "outputs": [],
   "source": [
    "traj_dir = Path('/Volumes/REA/MD/12FF/strided/')\n",
    "m1_sel = set_proper_dtypes(pd.read_hdf('./summaries/m1_model_selection.h5'))\n",
    "m2_sel = set_proper_dtypes(pd.read_hdf('./summaries/m2_model_selection.h5'))"
   ]
  },
  {
   "cell_type": "code",
   "execution_count": 6,
   "id": "69e24588-00db-43d7-8904-df2dd7d86440",
   "metadata": {},
   "outputs": [],
   "source": [
    "prot_dict = dict(zip(funcs.PROTEIN_LABELS, funcs.PROTEIN_DIRS))"
   ]
  },
  {
   "cell_type": "code",
   "execution_count": 7,
   "id": "793b909b-21d1-4d8e-bad7-f6e9fbccef6b",
   "metadata": {},
   "outputs": [],
   "source": [
    "prot_pdbs = {'Chignolin': '5awl.pdb', 'BBA': '1fme.pdb', 'Trp-cage': '2jof.pdb',  'Villin': '2f4k.pdb', 'WW-domain': '2f21.pdb' , 'BBL': '2wxc.pdb' , 'Homeodomain': '2p6j.pdb', 'Protein-B': '1prb.pdb'}"
   ]
  },
  {
   "cell_type": "markdown",
   "id": "2d7ad5a8-ce7e-4cae-9921-fe957eea46cb",
   "metadata": {},
   "source": [
    "# Adjust WW-domain\n",
    "\n",
    "The pdb 2f21.pdb has a lot of other residues.  Using the alignment in PyMol: \n",
    "\n"
   ]
  },
  {
   "cell_type": "code",
   "execution_count": 8,
   "id": "4ffe3d1e-a90d-41e0-b271-7b7c7c5da971",
   "metadata": {},
   "outputs": [],
   "source": [
    "# 2f21         MADEEKLPPGWEKRMSADGRVYYFNHITNASQWERPSGQGEPARVRCSHLLVKHSQSRRPSSW\n",
    "# system       G---SKLPPGWEKRMSRDGRVYYFN?ITGTTQFERPSG-------------------------"
   ]
  },
  {
   "cell_type": "code",
   "execution_count": 9,
   "id": "cc4763a8-2559-4c6c-aa46-d0d3b7f44955",
   "metadata": {},
   "outputs": [
    {
     "data": {
      "text/plain": [
       "array([ 49,  57,  64,  71,  75,  89,  98, 107, 118, 126, 132, 137, 145,\n",
       "       149, 160, 167, 179, 191, 202, 210, 220, 228, 235, 243, 248, 254,\n",
       "       263, 277, 286, 297, 304, 310])"
      ]
     },
     "execution_count": 9,
     "metadata": {},
     "output_type": "execute_result"
    }
   ],
   "source": [
    "pdb = md.load('compare_structures/2f21.pdb')\n",
    "pdb = pdb.top.to_dataframe()[0]\n",
    "pdb = pdb.loc[pdb.name=='CA', :]\n",
    "ref_atom_ix = pdb.iloc[6:38]['serial'].values - 1\n",
    "ref_atom_ix"
   ]
  },
  {
   "cell_type": "code",
   "execution_count": 11,
   "id": "e2ab4175-8043-4581-926a-6952463c2802",
   "metadata": {},
   "outputs": [
    {
     "data": {
      "text/html": [
       "<div>\n",
       "<style scoped>\n",
       "    .dataframe tbody tr th:only-of-type {\n",
       "        vertical-align: middle;\n",
       "    }\n",
       "\n",
       "    .dataframe tbody tr th {\n",
       "        vertical-align: top;\n",
       "    }\n",
       "\n",
       "    .dataframe thead th {\n",
       "        text-align: right;\n",
       "    }\n",
       "</style>\n",
       "<table border=\"1\" class=\"dataframe\">\n",
       "  <thead>\n",
       "    <tr style=\"text-align: right;\">\n",
       "      <th></th>\n",
       "      <th>serial</th>\n",
       "      <th>name</th>\n",
       "      <th>element</th>\n",
       "      <th>resSeq</th>\n",
       "      <th>resName</th>\n",
       "      <th>chainID</th>\n",
       "      <th>segmentID</th>\n",
       "    </tr>\n",
       "  </thead>\n",
       "  <tbody>\n",
       "    <tr>\n",
       "      <th>43</th>\n",
       "      <td>45</td>\n",
       "      <td>CA</td>\n",
       "      <td>C</td>\n",
       "      <td>4</td>\n",
       "      <td>LEU</td>\n",
       "      <td>0</td>\n",
       "      <td></td>\n",
       "    </tr>\n",
       "    <tr>\n",
       "      <th>62</th>\n",
       "      <td>66</td>\n",
       "      <td>CA</td>\n",
       "      <td>C</td>\n",
       "      <td>5</td>\n",
       "      <td>PRO</td>\n",
       "      <td>0</td>\n",
       "      <td></td>\n",
       "    </tr>\n",
       "    <tr>\n",
       "      <th>76</th>\n",
       "      <td>80</td>\n",
       "      <td>CA</td>\n",
       "      <td>C</td>\n",
       "      <td>6</td>\n",
       "      <td>PRO</td>\n",
       "      <td>0</td>\n",
       "      <td></td>\n",
       "    </tr>\n",
       "    <tr>\n",
       "      <th>90</th>\n",
       "      <td>92</td>\n",
       "      <td>CA</td>\n",
       "      <td>C</td>\n",
       "      <td>7</td>\n",
       "      <td>GLY</td>\n",
       "      <td>0</td>\n",
       "      <td></td>\n",
       "    </tr>\n",
       "    <tr>\n",
       "      <th>97</th>\n",
       "      <td>99</td>\n",
       "      <td>CA</td>\n",
       "      <td>C</td>\n",
       "      <td>8</td>\n",
       "      <td>TRP</td>\n",
       "      <td>0</td>\n",
       "      <td></td>\n",
       "    </tr>\n",
       "    <tr>\n",
       "      <th>121</th>\n",
       "      <td>123</td>\n",
       "      <td>CA</td>\n",
       "      <td>C</td>\n",
       "      <td>9</td>\n",
       "      <td>GLU</td>\n",
       "      <td>0</td>\n",
       "      <td></td>\n",
       "    </tr>\n",
       "    <tr>\n",
       "      <th>136</th>\n",
       "      <td>138</td>\n",
       "      <td>CA</td>\n",
       "      <td>C</td>\n",
       "      <td>10</td>\n",
       "      <td>LYS</td>\n",
       "      <td>0</td>\n",
       "      <td></td>\n",
       "    </tr>\n",
       "    <tr>\n",
       "      <th>158</th>\n",
       "      <td>160</td>\n",
       "      <td>CA</td>\n",
       "      <td>C</td>\n",
       "      <td>11</td>\n",
       "      <td>ARG</td>\n",
       "      <td>0</td>\n",
       "      <td></td>\n",
       "    </tr>\n",
       "    <tr>\n",
       "      <th>182</th>\n",
       "      <td>184</td>\n",
       "      <td>CA</td>\n",
       "      <td>C</td>\n",
       "      <td>12</td>\n",
       "      <td>MET</td>\n",
       "      <td>0</td>\n",
       "      <td></td>\n",
       "    </tr>\n",
       "    <tr>\n",
       "      <th>199</th>\n",
       "      <td>201</td>\n",
       "      <td>CA</td>\n",
       "      <td>C</td>\n",
       "      <td>13</td>\n",
       "      <td>SER</td>\n",
       "      <td>0</td>\n",
       "      <td></td>\n",
       "    </tr>\n",
       "    <tr>\n",
       "      <th>210</th>\n",
       "      <td>212</td>\n",
       "      <td>CA</td>\n",
       "      <td>C</td>\n",
       "      <td>14</td>\n",
       "      <td>ARG</td>\n",
       "      <td>0</td>\n",
       "      <td></td>\n",
       "    </tr>\n",
       "    <tr>\n",
       "      <th>234</th>\n",
       "      <td>236</td>\n",
       "      <td>CA</td>\n",
       "      <td>C</td>\n",
       "      <td>15</td>\n",
       "      <td>ASP</td>\n",
       "      <td>0</td>\n",
       "      <td></td>\n",
       "    </tr>\n",
       "    <tr>\n",
       "      <th>246</th>\n",
       "      <td>248</td>\n",
       "      <td>CA</td>\n",
       "      <td>C</td>\n",
       "      <td>16</td>\n",
       "      <td>GLY</td>\n",
       "      <td>0</td>\n",
       "      <td></td>\n",
       "    </tr>\n",
       "    <tr>\n",
       "      <th>253</th>\n",
       "      <td>255</td>\n",
       "      <td>CA</td>\n",
       "      <td>C</td>\n",
       "      <td>17</td>\n",
       "      <td>ARG</td>\n",
       "      <td>0</td>\n",
       "      <td></td>\n",
       "    </tr>\n",
       "    <tr>\n",
       "      <th>277</th>\n",
       "      <td>279</td>\n",
       "      <td>CA</td>\n",
       "      <td>C</td>\n",
       "      <td>18</td>\n",
       "      <td>VAL</td>\n",
       "      <td>0</td>\n",
       "      <td></td>\n",
       "    </tr>\n",
       "    <tr>\n",
       "      <th>293</th>\n",
       "      <td>295</td>\n",
       "      <td>CA</td>\n",
       "      <td>C</td>\n",
       "      <td>19</td>\n",
       "      <td>TYR</td>\n",
       "      <td>0</td>\n",
       "      <td></td>\n",
       "    </tr>\n",
       "    <tr>\n",
       "      <th>314</th>\n",
       "      <td>316</td>\n",
       "      <td>CA</td>\n",
       "      <td>C</td>\n",
       "      <td>20</td>\n",
       "      <td>TYR</td>\n",
       "      <td>0</td>\n",
       "      <td></td>\n",
       "    </tr>\n",
       "    <tr>\n",
       "      <th>335</th>\n",
       "      <td>337</td>\n",
       "      <td>CA</td>\n",
       "      <td>C</td>\n",
       "      <td>21</td>\n",
       "      <td>PHE</td>\n",
       "      <td>0</td>\n",
       "      <td></td>\n",
       "    </tr>\n",
       "    <tr>\n",
       "      <th>355</th>\n",
       "      <td>357</td>\n",
       "      <td>CA</td>\n",
       "      <td>C</td>\n",
       "      <td>22</td>\n",
       "      <td>ASN</td>\n",
       "      <td>0</td>\n",
       "      <td></td>\n",
       "    </tr>\n",
       "    <tr>\n",
       "      <th>369</th>\n",
       "      <td>371</td>\n",
       "      <td>CA</td>\n",
       "      <td>C</td>\n",
       "      <td>23</td>\n",
       "      <td>HIS</td>\n",
       "      <td>0</td>\n",
       "      <td></td>\n",
       "    </tr>\n",
       "    <tr>\n",
       "      <th>386</th>\n",
       "      <td>388</td>\n",
       "      <td>CA</td>\n",
       "      <td>C</td>\n",
       "      <td>24</td>\n",
       "      <td>ILE</td>\n",
       "      <td>0</td>\n",
       "      <td></td>\n",
       "    </tr>\n",
       "    <tr>\n",
       "      <th>405</th>\n",
       "      <td>407</td>\n",
       "      <td>CA</td>\n",
       "      <td>C</td>\n",
       "      <td>25</td>\n",
       "      <td>THR</td>\n",
       "      <td>0</td>\n",
       "      <td></td>\n",
       "    </tr>\n",
       "    <tr>\n",
       "      <th>419</th>\n",
       "      <td>421</td>\n",
       "      <td>CA</td>\n",
       "      <td>C</td>\n",
       "      <td>26</td>\n",
       "      <td>GLY</td>\n",
       "      <td>0</td>\n",
       "      <td></td>\n",
       "    </tr>\n",
       "    <tr>\n",
       "      <th>426</th>\n",
       "      <td>427</td>\n",
       "      <td>CA</td>\n",
       "      <td>C</td>\n",
       "      <td>27</td>\n",
       "      <td>THR</td>\n",
       "      <td>0</td>\n",
       "      <td></td>\n",
       "    </tr>\n",
       "    <tr>\n",
       "      <th>440</th>\n",
       "      <td>433</td>\n",
       "      <td>CA</td>\n",
       "      <td>C</td>\n",
       "      <td>28</td>\n",
       "      <td>THR</td>\n",
       "      <td>0</td>\n",
       "      <td></td>\n",
       "    </tr>\n",
       "    <tr>\n",
       "      <th>454</th>\n",
       "      <td>439</td>\n",
       "      <td>CA</td>\n",
       "      <td>C</td>\n",
       "      <td>29</td>\n",
       "      <td>GLN</td>\n",
       "      <td>0</td>\n",
       "      <td></td>\n",
       "    </tr>\n",
       "    <tr>\n",
       "      <th>471</th>\n",
       "      <td>456</td>\n",
       "      <td>CA</td>\n",
       "      <td>C</td>\n",
       "      <td>30</td>\n",
       "      <td>PHE</td>\n",
       "      <td>0</td>\n",
       "      <td></td>\n",
       "    </tr>\n",
       "    <tr>\n",
       "      <th>491</th>\n",
       "      <td>476</td>\n",
       "      <td>CA</td>\n",
       "      <td>C</td>\n",
       "      <td>31</td>\n",
       "      <td>GLU</td>\n",
       "      <td>0</td>\n",
       "      <td></td>\n",
       "    </tr>\n",
       "    <tr>\n",
       "      <th>506</th>\n",
       "      <td>491</td>\n",
       "      <td>CA</td>\n",
       "      <td>C</td>\n",
       "      <td>32</td>\n",
       "      <td>ARG</td>\n",
       "      <td>0</td>\n",
       "      <td></td>\n",
       "    </tr>\n",
       "    <tr>\n",
       "      <th>530</th>\n",
       "      <td>517</td>\n",
       "      <td>CA</td>\n",
       "      <td>C</td>\n",
       "      <td>33</td>\n",
       "      <td>PRO</td>\n",
       "      <td>0</td>\n",
       "      <td></td>\n",
       "    </tr>\n",
       "    <tr>\n",
       "      <th>544</th>\n",
       "      <td>529</td>\n",
       "      <td>CA</td>\n",
       "      <td>C</td>\n",
       "      <td>34</td>\n",
       "      <td>SER</td>\n",
       "      <td>0</td>\n",
       "      <td></td>\n",
       "    </tr>\n",
       "    <tr>\n",
       "      <th>555</th>\n",
       "      <td>543</td>\n",
       "      <td>CA</td>\n",
       "      <td>C</td>\n",
       "      <td>35</td>\n",
       "      <td>GLY</td>\n",
       "      <td>0</td>\n",
       "      <td></td>\n",
       "    </tr>\n",
       "  </tbody>\n",
       "</table>\n",
       "</div>"
      ],
      "text/plain": [
       "     serial name element  resSeq resName  chainID segmentID\n",
       "43       45   CA       C       4     LEU        0          \n",
       "62       66   CA       C       5     PRO        0          \n",
       "76       80   CA       C       6     PRO        0          \n",
       "90       92   CA       C       7     GLY        0          \n",
       "97       99   CA       C       8     TRP        0          \n",
       "121     123   CA       C       9     GLU        0          \n",
       "136     138   CA       C      10     LYS        0          \n",
       "158     160   CA       C      11     ARG        0          \n",
       "182     184   CA       C      12     MET        0          \n",
       "199     201   CA       C      13     SER        0          \n",
       "210     212   CA       C      14     ARG        0          \n",
       "234     236   CA       C      15     ASP        0          \n",
       "246     248   CA       C      16     GLY        0          \n",
       "253     255   CA       C      17     ARG        0          \n",
       "277     279   CA       C      18     VAL        0          \n",
       "293     295   CA       C      19     TYR        0          \n",
       "314     316   CA       C      20     TYR        0          \n",
       "335     337   CA       C      21     PHE        0          \n",
       "355     357   CA       C      22     ASN        0          \n",
       "369     371   CA       C      23     HIS        0          \n",
       "386     388   CA       C      24     ILE        0          \n",
       "405     407   CA       C      25     THR        0          \n",
       "419     421   CA       C      26     GLY        0          \n",
       "426     427   CA       C      27     THR        0          \n",
       "440     433   CA       C      28     THR        0          \n",
       "454     439   CA       C      29     GLN        0          \n",
       "471     456   CA       C      30     PHE        0          \n",
       "491     476   CA       C      31     GLU        0          \n",
       "506     491   CA       C      32     ARG        0          \n",
       "530     517   CA       C      33     PRO        0          \n",
       "544     529   CA       C      34     SER        0          \n",
       "555     543   CA       C      35     GLY        0          "
      ]
     },
     "execution_count": 11,
     "metadata": {},
     "output_type": "execute_result"
    }
   ],
   "source": [
    "wwd = md.load('compare_structures/ww_domain.pdb')\n",
    "wwd = wwd.top.to_dataframe()[0]\n",
    "wwd = wwd.loc[wwd.name=='CA', :]\n",
    "wwd.iloc[3:, :]"
   ]
  },
  {
   "cell_type": "markdown",
   "id": "a3701689-04e3-4969-8e20-4b32c8584b86",
   "metadata": {},
   "source": [
    "# Detailed comparisons\n",
    "\n",
    "This workbook fits the best hyperparameters for each feature and provides a more detailed comparison. This complements the model comparison in terms of eigenvector projections. \n"
   ]
  },
  {
   "cell_type": "code",
   "execution_count": 14,
   "id": "1db95b85-5dcc-4fd9-8027-dc5b4f991b8d",
   "metadata": {
    "scrolled": true,
    "tags": []
   },
   "outputs": [
    {
     "data": {
      "application/vnd.jupyter.widget-view+json": {
       "model_id": "",
       "version_major": 2,
       "version_minor": 0
      },
      "text/plain": [
       "calculate covariances:   0%|                                                                                  …"
      ]
     },
     "metadata": {},
     "output_type": "display_data"
    },
    {
     "data": {
      "application/vnd.jupyter.widget-view+json": {
       "model_id": "",
       "version_major": 2,
       "version_minor": 0
      },
      "text/plain": [
       "getting output of TICA:   0%|                                                                                 …"
      ]
     },
     "metadata": {},
     "output_type": "display_data"
    },
    {
     "data": {
      "application/vnd.jupyter.widget-view+json": {
       "model_id": "",
       "version_major": 2,
       "version_minor": 0
      },
      "text/plain": [
       "initialize kmeans++ centers:   0%|                                                                            …"
      ]
     },
     "metadata": {},
     "output_type": "display_data"
    },
    {
     "data": {
      "application/vnd.jupyter.widget-view+json": {
       "model_id": "",
       "version_major": 2,
       "version_minor": 0
      },
      "text/plain": [
       "kmeans iterations:   0%|                                                                                      …"
      ]
     },
     "metadata": {},
     "output_type": "display_data"
    },
    {
     "data": {
      "application/vnd.jupyter.widget-view+json": {
       "model_id": "",
       "version_major": 2,
       "version_minor": 0
      },
      "text/plain": [
       "getting output of KmeansClustering:   0%|                                                                     …"
      ]
     },
     "metadata": {},
     "output_type": "display_data"
    },
    {
     "data": {
      "application/vnd.jupyter.widget-view+json": {
       "model_id": "",
       "version_major": 2,
       "version_minor": 0
      },
      "text/plain": [
       "calculate covariances:   0%|                                                                                  …"
      ]
     },
     "metadata": {},
     "output_type": "display_data"
    },
    {
     "data": {
      "application/vnd.jupyter.widget-view+json": {
       "model_id": "",
       "version_major": 2,
       "version_minor": 0
      },
      "text/plain": [
       "getting output of TICA:   0%|                                                                                 …"
      ]
     },
     "metadata": {},
     "output_type": "display_data"
    },
    {
     "data": {
      "application/vnd.jupyter.widget-view+json": {
       "model_id": "",
       "version_major": 2,
       "version_minor": 0
      },
      "text/plain": [
       "initialize kmeans++ centers:   0%|                                                                            …"
      ]
     },
     "metadata": {},
     "output_type": "display_data"
    },
    {
     "data": {
      "application/vnd.jupyter.widget-view+json": {
       "model_id": "",
       "version_major": 2,
       "version_minor": 0
      },
      "text/plain": [
       "kmeans iterations:   0%|                                                                                      …"
      ]
     },
     "metadata": {},
     "output_type": "display_data"
    },
    {
     "data": {
      "application/vnd.jupyter.widget-view+json": {
       "model_id": "",
       "version_major": 2,
       "version_minor": 0
      },
      "text/plain": [
       "getting output of KmeansClustering:   0%|                                                                     …"
      ]
     },
     "metadata": {},
     "output_type": "display_data"
    },
    {
     "data": {
      "application/vnd.jupyter.widget-view+json": {
       "model_id": "",
       "version_major": 2,
       "version_minor": 0
      },
      "text/plain": [
       "calculate covariances:   0%|                                                                                  …"
      ]
     },
     "metadata": {},
     "output_type": "display_data"
    },
    {
     "data": {
      "application/vnd.jupyter.widget-view+json": {
       "model_id": "",
       "version_major": 2,
       "version_minor": 0
      },
      "text/plain": [
       "getting output of TICA:   0%|                                                                                 …"
      ]
     },
     "metadata": {},
     "output_type": "display_data"
    },
    {
     "data": {
      "application/vnd.jupyter.widget-view+json": {
       "model_id": "",
       "version_major": 2,
       "version_minor": 0
      },
      "text/plain": [
       "initialize kmeans++ centers:   0%|                                                                            …"
      ]
     },
     "metadata": {},
     "output_type": "display_data"
    },
    {
     "data": {
      "application/vnd.jupyter.widget-view+json": {
       "model_id": "",
       "version_major": 2,
       "version_minor": 0
      },
      "text/plain": [
       "kmeans iterations:   0%|                                                                                      …"
      ]
     },
     "metadata": {},
     "output_type": "display_data"
    },
    {
     "data": {
      "application/vnd.jupyter.widget-view+json": {
       "model_id": "",
       "version_major": 2,
       "version_minor": 0
      },
      "text/plain": [
       "getting output of KmeansClustering:   0%|                                                                     …"
      ]
     },
     "metadata": {},
     "output_type": "display_data"
    },
    {
     "ename": "KeyboardInterrupt",
     "evalue": "",
     "output_type": "error",
     "traceback": [
      "\u001b[0;31m---------------------------------------------------------------------------\u001b[0m",
      "\u001b[0;31mKeyboardInterrupt\u001b[0m                         Traceback (most recent call last)",
      "\u001b[0;32m/var/folders/b1/0b53wj0509376104__2tttb00000gn/T/ipykernel_93243/3319281291.py\u001b[0m in \u001b[0;36m<module>\u001b[0;34m\u001b[0m\n\u001b[1;32m     42\u001b[0m \u001b[0;34m\u001b[0m\u001b[0m\n\u001b[1;32m     43\u001b[0m         \u001b[0mrow_num\u001b[0m \u001b[0;34m=\u001b[0m \u001b[0mnp\u001b[0m\u001b[0;34m.\u001b[0m\u001b[0mwhere\u001b[0m\u001b[0;34m(\u001b[0m\u001b[0mmod_defs\u001b[0m\u001b[0;34m[\u001b[0m\u001b[0;34m'feature'\u001b[0m\u001b[0;34m]\u001b[0m\u001b[0;34m.\u001b[0m\u001b[0mvalues\u001b[0m\u001b[0;34m==\u001b[0m\u001b[0mfeat\u001b[0m\u001b[0;34m)\u001b[0m\u001b[0;34m[\u001b[0m\u001b[0;36m0\u001b[0m\u001b[0;34m]\u001b[0m\u001b[0;34m[\u001b[0m\u001b[0;36m0\u001b[0m\u001b[0;34m]\u001b[0m\u001b[0;34m\u001b[0m\u001b[0;34m\u001b[0m\u001b[0m\n\u001b[0;32m---> 44\u001b[0;31m         \u001b[0mm2_models\u001b[0m\u001b[0;34m[\u001b[0m\u001b[0mfeat\u001b[0m\u001b[0;34m]\u001b[0m \u001b[0;34m=\u001b[0m \u001b[0mfit_model\u001b[0m\u001b[0;34m(\u001b[0m\u001b[0mmod_defs\u001b[0m\u001b[0;34m,\u001b[0m \u001b[0mrow_num\u001b[0m\u001b[0;34m,\u001b[0m \u001b[0mtrajs\u001b[0m\u001b[0;34m,\u001b[0m \u001b[0mtop\u001b[0m\u001b[0;34m,\u001b[0m \u001b[0mseed\u001b[0m\u001b[0;34m)\u001b[0m\u001b[0;34m\u001b[0m\u001b[0;34m\u001b[0m\u001b[0m\n\u001b[0m\u001b[1;32m     45\u001b[0m \u001b[0;34m\u001b[0m\u001b[0m\n\u001b[1;32m     46\u001b[0m     \u001b[0;31m# Coarsegrain and extract structures\u001b[0m\u001b[0;34m\u001b[0m\u001b[0;34m\u001b[0m\u001b[0;34m\u001b[0m\u001b[0m\n",
      "\u001b[0;32m/var/folders/b1/0b53wj0509376104__2tttb00000gn/T/ipykernel_93243/3319281291.py\u001b[0m in \u001b[0;36mfit_model\u001b[0;34m(mod_defs, row_num, trajs, top, seed)\u001b[0m\n\u001b[1;32m     26\u001b[0m         \u001b[0;31m# Fit model\u001b[0m\u001b[0;34m\u001b[0m\u001b[0;34m\u001b[0m\u001b[0;34m\u001b[0m\u001b[0m\n\u001b[1;32m     27\u001b[0m         \u001b[0mmodel\u001b[0m \u001b[0;34m=\u001b[0m \u001b[0mMSM\u001b[0m\u001b[0;34m(\u001b[0m\u001b[0mlag\u001b[0m \u001b[0;34m=\u001b[0m \u001b[0mlag\u001b[0m\u001b[0;34m,\u001b[0m \u001b[0mnum_evs\u001b[0m\u001b[0;34m=\u001b[0m\u001b[0mnum_evs\u001b[0m\u001b[0;34m,\u001b[0m \u001b[0mtrajs\u001b[0m\u001b[0;34m=\u001b[0m\u001b[0mtrajs\u001b[0m\u001b[0;34m,\u001b[0m \u001b[0mtop\u001b[0m\u001b[0;34m=\u001b[0m\u001b[0mtop\u001b[0m\u001b[0;34m,\u001b[0m  \u001b[0mfeature_kws\u001b[0m\u001b[0;34m=\u001b[0m\u001b[0mfeat_kws\u001b[0m\u001b[0;34m,\u001b[0m \u001b[0mtica_kws\u001b[0m\u001b[0;34m=\u001b[0m\u001b[0mtica_kws\u001b[0m\u001b[0;34m,\u001b[0m \u001b[0mcluster_kws\u001b[0m\u001b[0;34m=\u001b[0m\u001b[0mcluster_kws\u001b[0m\u001b[0;34m,\u001b[0m \u001b[0mseed\u001b[0m\u001b[0;34m=\u001b[0m\u001b[0mseed\u001b[0m\u001b[0;34m)\u001b[0m\u001b[0;34m\u001b[0m\u001b[0;34m\u001b[0m\u001b[0m\n\u001b[0;32m---> 28\u001b[0;31m         \u001b[0mmodel\u001b[0m\u001b[0;34m.\u001b[0m\u001b[0mfit\u001b[0m\u001b[0;34m(\u001b[0m\u001b[0;34m)\u001b[0m\u001b[0;34m\u001b[0m\u001b[0;34m\u001b[0m\u001b[0m\n\u001b[0m\u001b[1;32m     29\u001b[0m         \u001b[0;32mreturn\u001b[0m \u001b[0mmodel\u001b[0m\u001b[0;34m\u001b[0m\u001b[0;34m\u001b[0m\u001b[0m\n\u001b[1;32m     30\u001b[0m \u001b[0;34m\u001b[0m\u001b[0m\n",
      "\u001b[0;32m/var/folders/b1/0b53wj0509376104__2tttb00000gn/T/ipykernel_93243/2126652685.py\u001b[0m in \u001b[0;36mfit\u001b[0;34m(self)\u001b[0m\n\u001b[1;32m     41\u001b[0m \u001b[0;34m\u001b[0m\u001b[0m\n\u001b[1;32m     42\u001b[0m     \u001b[0;32mdef\u001b[0m \u001b[0mfit\u001b[0m\u001b[0;34m(\u001b[0m\u001b[0mself\u001b[0m\u001b[0;34m)\u001b[0m\u001b[0;34m:\u001b[0m\u001b[0;34m\u001b[0m\u001b[0;34m\u001b[0m\u001b[0m\n\u001b[0;32m---> 43\u001b[0;31m         \u001b[0mftrajs\u001b[0m \u001b[0;34m=\u001b[0m \u001b[0mself\u001b[0m\u001b[0;34m.\u001b[0m\u001b[0mfeaturizer\u001b[0m\u001b[0;34m(\u001b[0m\u001b[0mself\u001b[0m\u001b[0;34m.\u001b[0m\u001b[0mtrajs\u001b[0m\u001b[0;34m)\u001b[0m\u001b[0;34m\u001b[0m\u001b[0;34m\u001b[0m\u001b[0m\n\u001b[0m\u001b[1;32m     44\u001b[0m         \u001b[0mself\u001b[0m\u001b[0;34m.\u001b[0m\u001b[0mtica\u001b[0m \u001b[0;34m=\u001b[0m \u001b[0mpm\u001b[0m\u001b[0;34m.\u001b[0m\u001b[0mcoordinates\u001b[0m\u001b[0;34m.\u001b[0m\u001b[0mtica\u001b[0m\u001b[0;34m(\u001b[0m\u001b[0mdata\u001b[0m\u001b[0;34m=\u001b[0m\u001b[0mftrajs\u001b[0m\u001b[0;34m,\u001b[0m \u001b[0;34m**\u001b[0m\u001b[0mself\u001b[0m\u001b[0;34m.\u001b[0m\u001b[0mtica_kws\u001b[0m\u001b[0;34m)\u001b[0m\u001b[0;34m\u001b[0m\u001b[0;34m\u001b[0m\u001b[0m\n\u001b[1;32m     45\u001b[0m         \u001b[0mttrajs\u001b[0m \u001b[0;34m=\u001b[0m \u001b[0mself\u001b[0m\u001b[0;34m.\u001b[0m\u001b[0mtica\u001b[0m\u001b[0;34m.\u001b[0m\u001b[0mget_output\u001b[0m\u001b[0;34m(\u001b[0m\u001b[0;34m)\u001b[0m\u001b[0;34m\u001b[0m\u001b[0;34m\u001b[0m\u001b[0m\n",
      "\u001b[0;32m~/Software/msm_sensitivity/msmsense/featurizers.py\u001b[0m in \u001b[0;36mdistances\u001b[0;34m(trajs, scheme, transform, centre, steepness)\u001b[0m\n\u001b[1;32m     58\u001b[0m     \u001b[0mtest\u001b[0m \u001b[0;34m=\u001b[0m \u001b[0m_distances\u001b[0m\u001b[0;34m(\u001b[0m\u001b[0mtrajs\u001b[0m\u001b[0;34m[\u001b[0m\u001b[0;36m0\u001b[0m\u001b[0;34m]\u001b[0m\u001b[0;34m,\u001b[0m \u001b[0mscheme\u001b[0m\u001b[0;34m,\u001b[0m \u001b[0mtransform\u001b[0m\u001b[0;34m,\u001b[0m \u001b[0mcentre\u001b[0m\u001b[0;34m,\u001b[0m \u001b[0msteepness\u001b[0m\u001b[0;34m)\u001b[0m\u001b[0;34m\u001b[0m\u001b[0;34m\u001b[0m\u001b[0m\n\u001b[1;32m     59\u001b[0m     \u001b[0mlogging\u001b[0m\u001b[0;34m.\u001b[0m\u001b[0minfo\u001b[0m\u001b[0;34m(\u001b[0m\u001b[0;34mf\"Number of dimensions: {test.shape[1]}\"\u001b[0m\u001b[0;34m)\u001b[0m\u001b[0;34m\u001b[0m\u001b[0;34m\u001b[0m\u001b[0m\n\u001b[0;32m---> 60\u001b[0;31m     \u001b[0mftrajs\u001b[0m \u001b[0;34m=\u001b[0m \u001b[0;34m[\u001b[0m\u001b[0m_distances\u001b[0m\u001b[0;34m(\u001b[0m\u001b[0mtraj\u001b[0m\u001b[0;34m,\u001b[0m \u001b[0mscheme\u001b[0m\u001b[0;34m,\u001b[0m \u001b[0mtransform\u001b[0m\u001b[0;34m,\u001b[0m \u001b[0mcentre\u001b[0m\u001b[0;34m,\u001b[0m \u001b[0msteepness\u001b[0m\u001b[0;34m)\u001b[0m \u001b[0;32mfor\u001b[0m \u001b[0mtraj\u001b[0m \u001b[0;32min\u001b[0m \u001b[0mtrajs\u001b[0m\u001b[0;34m]\u001b[0m\u001b[0;34m\u001b[0m\u001b[0;34m\u001b[0m\u001b[0m\n\u001b[0m\u001b[1;32m     61\u001b[0m     \u001b[0;32mreturn\u001b[0m \u001b[0mftrajs\u001b[0m\u001b[0;34m\u001b[0m\u001b[0;34m\u001b[0m\u001b[0m\n\u001b[1;32m     62\u001b[0m \u001b[0;34m\u001b[0m\u001b[0m\n",
      "\u001b[0;32m~/Software/msm_sensitivity/msmsense/featurizers.py\u001b[0m in \u001b[0;36m<listcomp>\u001b[0;34m(.0)\u001b[0m\n\u001b[1;32m     58\u001b[0m     \u001b[0mtest\u001b[0m \u001b[0;34m=\u001b[0m \u001b[0m_distances\u001b[0m\u001b[0;34m(\u001b[0m\u001b[0mtrajs\u001b[0m\u001b[0;34m[\u001b[0m\u001b[0;36m0\u001b[0m\u001b[0;34m]\u001b[0m\u001b[0;34m,\u001b[0m \u001b[0mscheme\u001b[0m\u001b[0;34m,\u001b[0m \u001b[0mtransform\u001b[0m\u001b[0;34m,\u001b[0m \u001b[0mcentre\u001b[0m\u001b[0;34m,\u001b[0m \u001b[0msteepness\u001b[0m\u001b[0;34m)\u001b[0m\u001b[0;34m\u001b[0m\u001b[0;34m\u001b[0m\u001b[0m\n\u001b[1;32m     59\u001b[0m     \u001b[0mlogging\u001b[0m\u001b[0;34m.\u001b[0m\u001b[0minfo\u001b[0m\u001b[0;34m(\u001b[0m\u001b[0;34mf\"Number of dimensions: {test.shape[1]}\"\u001b[0m\u001b[0;34m)\u001b[0m\u001b[0;34m\u001b[0m\u001b[0;34m\u001b[0m\u001b[0m\n\u001b[0;32m---> 60\u001b[0;31m     \u001b[0mftrajs\u001b[0m \u001b[0;34m=\u001b[0m \u001b[0;34m[\u001b[0m\u001b[0m_distances\u001b[0m\u001b[0;34m(\u001b[0m\u001b[0mtraj\u001b[0m\u001b[0;34m,\u001b[0m \u001b[0mscheme\u001b[0m\u001b[0;34m,\u001b[0m \u001b[0mtransform\u001b[0m\u001b[0;34m,\u001b[0m \u001b[0mcentre\u001b[0m\u001b[0;34m,\u001b[0m \u001b[0msteepness\u001b[0m\u001b[0;34m)\u001b[0m \u001b[0;32mfor\u001b[0m \u001b[0mtraj\u001b[0m \u001b[0;32min\u001b[0m \u001b[0mtrajs\u001b[0m\u001b[0;34m]\u001b[0m\u001b[0;34m\u001b[0m\u001b[0;34m\u001b[0m\u001b[0m\n\u001b[0m\u001b[1;32m     61\u001b[0m     \u001b[0;32mreturn\u001b[0m \u001b[0mftrajs\u001b[0m\u001b[0;34m\u001b[0m\u001b[0;34m\u001b[0m\u001b[0m\n\u001b[1;32m     62\u001b[0m \u001b[0;34m\u001b[0m\u001b[0m\n",
      "\u001b[0;32m~/Software/msm_sensitivity/msmsense/featurizers.py\u001b[0m in \u001b[0;36m_distances\u001b[0;34m(traj, scheme, transform, centre, steepness)\u001b[0m\n\u001b[1;32m     41\u001b[0m def _distances(traj: md.Trajectory, scheme: str, transform: str,\n\u001b[1;32m     42\u001b[0m                centre: Union[float, None],  steepness: Union[float, None]):\n\u001b[0;32m---> 43\u001b[0;31m     \u001b[0mfeat\u001b[0m\u001b[0;34m,\u001b[0m \u001b[0mix\u001b[0m \u001b[0;34m=\u001b[0m \u001b[0mmd\u001b[0m\u001b[0;34m.\u001b[0m\u001b[0mcompute_contacts\u001b[0m\u001b[0;34m(\u001b[0m\u001b[0mtraj\u001b[0m\u001b[0;34m,\u001b[0m \u001b[0mcontacts\u001b[0m\u001b[0;34m=\u001b[0m\u001b[0;34m'all'\u001b[0m\u001b[0;34m,\u001b[0m \u001b[0mscheme\u001b[0m\u001b[0;34m=\u001b[0m\u001b[0mscheme\u001b[0m\u001b[0;34m)\u001b[0m\u001b[0;34m\u001b[0m\u001b[0;34m\u001b[0m\u001b[0m\n\u001b[0m\u001b[1;32m     44\u001b[0m     \u001b[0;32mif\u001b[0m \u001b[0mtransform\u001b[0m \u001b[0;34m==\u001b[0m \u001b[0;34m'logistic'\u001b[0m\u001b[0;34m:\u001b[0m\u001b[0;34m\u001b[0m\u001b[0;34m\u001b[0m\u001b[0m\n\u001b[1;32m     45\u001b[0m         \u001b[0;32massert\u001b[0m \u001b[0;34m(\u001b[0m\u001b[0mcentre\u001b[0m \u001b[0;32mis\u001b[0m \u001b[0;32mnot\u001b[0m \u001b[0;32mNone\u001b[0m\u001b[0;34m)\u001b[0m \u001b[0;32mand\u001b[0m \u001b[0;34m(\u001b[0m\u001b[0msteepness\u001b[0m \u001b[0;32mis\u001b[0m \u001b[0;32mnot\u001b[0m \u001b[0;32mNone\u001b[0m\u001b[0;34m)\u001b[0m\u001b[0;34m\u001b[0m\u001b[0;34m\u001b[0m\u001b[0m\n",
      "\u001b[0;32m~/opt/miniconda3/envs/msmsense/lib/python3.8/site-packages/mdtraj/geometry/contact.py\u001b[0m in \u001b[0;36mcompute_contacts\u001b[0;34m(traj, contacts, scheme, ignore_nonprotein, periodic, soft_min, soft_min_beta)\u001b[0m\n\u001b[1;32m    206\u001b[0m             \u001b[0mn_atom_pairs_per_residue_pair\u001b[0m\u001b[0;34m.\u001b[0m\u001b[0mappend\u001b[0m\u001b[0;34m(\u001b[0m\u001b[0mresidue_lens\u001b[0m\u001b[0;34m[\u001b[0m\u001b[0mpair\u001b[0m\u001b[0;34m[\u001b[0m\u001b[0;36m0\u001b[0m\u001b[0;34m]\u001b[0m\u001b[0;34m]\u001b[0m \u001b[0;34m*\u001b[0m \u001b[0mresidue_lens\u001b[0m\u001b[0;34m[\u001b[0m\u001b[0mpair\u001b[0m\u001b[0;34m[\u001b[0m\u001b[0;36m1\u001b[0m\u001b[0;34m]\u001b[0m\u001b[0;34m]\u001b[0m\u001b[0;34m)\u001b[0m\u001b[0;34m\u001b[0m\u001b[0;34m\u001b[0m\u001b[0m\n\u001b[1;32m    207\u001b[0m \u001b[0;34m\u001b[0m\u001b[0m\n\u001b[0;32m--> 208\u001b[0;31m         \u001b[0matom_distances\u001b[0m \u001b[0;34m=\u001b[0m \u001b[0mmd\u001b[0m\u001b[0;34m.\u001b[0m\u001b[0mcompute_distances\u001b[0m\u001b[0;34m(\u001b[0m\u001b[0mtraj\u001b[0m\u001b[0;34m,\u001b[0m \u001b[0matom_pairs\u001b[0m\u001b[0;34m,\u001b[0m \u001b[0mperiodic\u001b[0m\u001b[0;34m=\u001b[0m\u001b[0mperiodic\u001b[0m\u001b[0;34m)\u001b[0m\u001b[0;34m\u001b[0m\u001b[0;34m\u001b[0m\u001b[0m\n\u001b[0m\u001b[1;32m    209\u001b[0m \u001b[0;34m\u001b[0m\u001b[0m\n\u001b[1;32m    210\u001b[0m         \u001b[0;31m# now squash the results based on residue membership\u001b[0m\u001b[0;34m\u001b[0m\u001b[0;34m\u001b[0m\u001b[0;34m\u001b[0m\u001b[0m\n",
      "\u001b[0;32m~/opt/miniconda3/envs/msmsense/lib/python3.8/site-packages/mdtraj/geometry/distance.py\u001b[0m in \u001b[0;36mcompute_distances\u001b[0;34m(traj, atom_pairs, periodic, opt)\u001b[0m\n\u001b[1;32m     72\u001b[0m         \u001b[0;32mif\u001b[0m \u001b[0mopt\u001b[0m\u001b[0;34m:\u001b[0m\u001b[0;34m\u001b[0m\u001b[0;34m\u001b[0m\u001b[0m\n\u001b[1;32m     73\u001b[0m             \u001b[0mout\u001b[0m \u001b[0;34m=\u001b[0m \u001b[0mnp\u001b[0m\u001b[0;34m.\u001b[0m\u001b[0mempty\u001b[0m\u001b[0;34m(\u001b[0m\u001b[0;34m(\u001b[0m\u001b[0mxyz\u001b[0m\u001b[0;34m.\u001b[0m\u001b[0mshape\u001b[0m\u001b[0;34m[\u001b[0m\u001b[0;36m0\u001b[0m\u001b[0;34m]\u001b[0m\u001b[0;34m,\u001b[0m \u001b[0mpairs\u001b[0m\u001b[0;34m.\u001b[0m\u001b[0mshape\u001b[0m\u001b[0;34m[\u001b[0m\u001b[0;36m0\u001b[0m\u001b[0;34m]\u001b[0m\u001b[0;34m)\u001b[0m\u001b[0;34m,\u001b[0m \u001b[0mdtype\u001b[0m\u001b[0;34m=\u001b[0m\u001b[0mnp\u001b[0m\u001b[0;34m.\u001b[0m\u001b[0mfloat32\u001b[0m\u001b[0;34m)\u001b[0m\u001b[0;34m\u001b[0m\u001b[0;34m\u001b[0m\u001b[0m\n\u001b[0;32m---> 74\u001b[0;31m             \u001b[0m_geometry\u001b[0m\u001b[0;34m.\u001b[0m\u001b[0m_dist_mic\u001b[0m\u001b[0;34m(\u001b[0m\u001b[0mxyz\u001b[0m\u001b[0;34m,\u001b[0m \u001b[0mpairs\u001b[0m\u001b[0;34m,\u001b[0m \u001b[0mbox\u001b[0m\u001b[0;34m.\u001b[0m\u001b[0mtranspose\u001b[0m\u001b[0;34m(\u001b[0m\u001b[0;36m0\u001b[0m\u001b[0;34m,\u001b[0m \u001b[0;36m2\u001b[0m\u001b[0;34m,\u001b[0m \u001b[0;36m1\u001b[0m\u001b[0;34m)\u001b[0m\u001b[0;34m.\u001b[0m\u001b[0mcopy\u001b[0m\u001b[0;34m(\u001b[0m\u001b[0;34m)\u001b[0m\u001b[0;34m,\u001b[0m \u001b[0mout\u001b[0m\u001b[0;34m,\u001b[0m \u001b[0morthogonal\u001b[0m\u001b[0;34m)\u001b[0m\u001b[0;34m\u001b[0m\u001b[0;34m\u001b[0m\u001b[0m\n\u001b[0m\u001b[1;32m     75\u001b[0m             \u001b[0;32mreturn\u001b[0m \u001b[0mout\u001b[0m\u001b[0;34m\u001b[0m\u001b[0;34m\u001b[0m\u001b[0m\n\u001b[1;32m     76\u001b[0m         \u001b[0;32melse\u001b[0m\u001b[0;34m:\u001b[0m\u001b[0;34m\u001b[0m\u001b[0;34m\u001b[0m\u001b[0m\n",
      "\u001b[0;31mKeyboardInterrupt\u001b[0m: "
     ]
    }
   ],
   "source": [
    "seed = 12098345\n",
    "num_structures = 100 # how many samples\n",
    "\n",
    "for protein in ['BBA']: #funcs.PROTEIN_LABELS[:4]+funcs.PROTEIN_LABELS[6:9]:\n",
    "\n",
    "    # Setup output dir\n",
    "    protein_dir = prot_dict[protein]\n",
    "    Path(f\"compare_structures/{protein}\").mkdir(exist_ok=True)\n",
    "\n",
    "    # Get trajectories\n",
    "    traj_paths = get_trajs_top(traj_dir, protein_dir)\n",
    "    traj_paths_str = dict(top=str(traj_paths['top']), trajs=[str(x) for x in traj_paths['trajs']])\n",
    "    top = md.load(str(traj_paths['top']))\n",
    "    trajs = [md.load(str(x), top=top) for x in traj_paths['trajs']]\n",
    "\n",
    "    # Fit models on a single bootstrap sample\n",
    "\n",
    "    def fit_model(mod_defs, row_num, trajs, top, seed):\n",
    "\n",
    "        lag = int(mod_defs.chosen_lag.values[row_num])\n",
    "        num_evs = int(mod_defs.new_num_its.values[row_num])\n",
    "        feat_kws = get_feature_dict(mod_defs, row_num)\n",
    "        tica_kws = get_kws_dict(mod_defs, row_num, 'tica')\n",
    "        cluster_kws = get_kws_dict(mod_defs, row_num, 'cluster')\n",
    "\n",
    "        # Fit model\n",
    "        model = MSM(lag = lag, num_evs=num_evs, trajs=trajs, top=top,  feature_kws=feat_kws, tica_kws=tica_kws, cluster_kws=cluster_kws, seed=seed)\n",
    "        model.fit()\n",
    "        return model\n",
    "\n",
    "\n",
    "    features = m1_sel.feature.unique()\n",
    "    m1_models = {}\n",
    "    m2_models = {}\n",
    "\n",
    "    for feat in features:\n",
    "        mod_defs = m1_sel.loc[m1_sel.protein==protein, :].copy()\n",
    "        row_num = np.where(mod_defs['feature'].values==feat)[0][0]\n",
    "        m1_models[feat] = fit_model(mod_defs, row_num, trajs, top, seed)\n",
    "\n",
    "        mod_defs = m2_sel.loc[m2_sel.protein==protein, :].copy()\n",
    "\n",
    "        row_num = np.where(mod_defs['feature'].values==feat)[0][0]\n",
    "        m2_models[feat] = fit_model(mod_defs, row_num, trajs, top, seed)\n",
    "\n",
    "    # Coarsegrain and extract structures\n",
    "\n",
    "    top.save_pdb(f'compare_structures/{protein}/top.pdb') # For easy reference\n",
    "\n",
    "    all_dfs = []\n",
    "    all_models = {'VAMP' : m1_models, 'VAMP_and_Gap': m2_models}\n",
    "    \n",
    "    for sele_method, models in all_models.items():\n",
    "\n",
    "        for feat, model in models.items():\n",
    "            # Do PCCA\n",
    "            num_procs = model.num_evs\n",
    "            hmm = model.msm.coarse_grain(num_procs)\n",
    "            \n",
    "#             hmm.stationary\n",
    "\n",
    "#             # Sort states and get distributions\n",
    "#             state_ix = np.argsort(sd)[::-1]\n",
    "#             sd = sd[state_ix]\n",
    "#             ms_dist = model.msm.metastable_distributions\n",
    "#             ms_dist = ms_dist[state_ix, :]\n",
    "            \n",
    "#             # Get samples\n",
    "#             samples = [pm.coordinates.save_traj(traj_paths_str['trajs'], idist, outfile=None, top=traj_paths_str['top'])\n",
    "#                       for idist in model.msm.sample_by_distributions(ms_dist, num_structures)]\n",
    "\n",
    "#             # Load xtal structure (and save in convenient place)\n",
    "#             reference = md.load(f\"compare_structures/{prot_pdbs[protein]}\")\n",
    "# #             reference.save_pdb(f\"compare_structures/{protein}/xtal.pdb\")\n",
    "\n",
    "#             ref_ix = reference.top.select('name CA')\n",
    "#             for i, traj in enumerate(samples):\n",
    "\n",
    "#                 # superpose and save structures\n",
    "#                 ix = traj.top.select('name CA')\n",
    "#                 traj.superpose(reference=reference, atom_indices=ix, ref_atom_indices=ref_ix)\n",
    "# #                 traj.save_xtc(f\"compare_structures/{protein}/{sele_method}_model_{feat}_state_{i}.xtc\")\n",
    "#                 traj.save_xtc(f\"compare_structures/{protein}/tica_2ns_stride/{sele_method}_model_{feat}_state_{i}.xtc\")\n",
    "\n",
    "#                 rmsd = md.rmsd(traj, reference, frame=0,  atom_indices=ix, ref_atom_indices=ref_ix)*10\n",
    "\n",
    "#                 df = pd.DataFrame(rmsd, columns=['RMSD'])\n",
    "#                 df['Method'] = sele_method\n",
    "#                 df['Feature'] = feat\n",
    "#                 df['State'] = str(i+1)\n",
    "#                 df['stat_dist'] = sd[i]\n",
    "#                 all_dfs.append(df)\n",
    "\n",
    "#     df = pd.concat(all_dfs)\n",
    "# #     df.to_hdf(f'compare_structures/{protein}/rmsd_all_models.hdf', key='rmsd')\n",
    "#     df.to_hdf(f'compare_structures/{protein}/tica_2ns_stride/rmsd_all_models.hdf', key='rmsd')\n",
    "\n",
    "\n",
    "#     with sns.plotting_context('paper', font_scale=1.25):\n",
    "#         sns.displot(data=df, row='State', col='Feature', x='RMSD', hue='Method', kind='kde')\n",
    "#         plt.savefig(f\"compare_structures/{protein}/tica_2ns_stride/comparison.pdf\", bbox_inches='tight')\n",
    "# #         plt.savefig(funcs.FIG_DIR.joinpath('model_comparisons', f'{protein}_folded_comparison.pdf'), bbox_inches='tight')\n",
    "#         plt.close()"
   ]
  },
  {
   "cell_type": "code",
   "execution_count": 18,
   "id": "2dcd9cba-4e1d-4010-a500-5c18a7cc75da",
   "metadata": {},
   "outputs": [
    {
     "name": "stdout",
     "output_type": "stream",
     "text": [
      "31-10-21 14:14:28 pyemma.msm.estimators.maximum_likelihood_msm.MaximumLikelihoodMSM[23] WARNING  Requested coarse-grained model with 2 metastable states at lag=40. The ratio of relaxation timescales between 2 and 3 states is only 1.128045486975596 while we recommend at least 1.5. It is possible that the resulting HMM is inaccurate. Handle with caution.\n"
     ]
    },
    {
     "name": "stderr",
     "output_type": "stream",
     "text": [
      "WARNING:pyemma.msm.estimators.maximum_likelihood_msm.MaximumLikelihoodMSM[23]:Requested coarse-grained model with 2 metastable states at lag=40. The ratio of relaxation timescales between 2 and 3 states is only 1.128045486975596 while we recommend at least 1.5. It is possible that the resulting HMM is inaccurate. Handle with caution.\n"
     ]
    }
   ],
   "source": [
    "hmm = m1_models['logit(dist.)'].msm.coarse_grain(2)"
   ]
  },
  {
   "cell_type": "code",
   "execution_count": 19,
   "id": "f55419ed-c389-4df7-b5f3-49ee5d5c446e",
   "metadata": {},
   "outputs": [
    {
     "data": {
      "text/plain": [
       "array([0.65099988, 0.34900012])"
      ]
     },
     "execution_count": 19,
     "metadata": {},
     "output_type": "execute_result"
    }
   ],
   "source": []
  },
  {
   "cell_type": "code",
   "execution_count": null,
   "id": "f083f2e1-9982-4a4e-8424-f4771baff3dc",
   "metadata": {},
   "outputs": [],
   "source": []
  }
 ],
 "metadata": {
  "kernelspec": {
   "display_name": "Python 3 (ipykernel)",
   "language": "python",
   "name": "python3"
  },
  "language_info": {
   "codemirror_mode": {
    "name": "ipython",
    "version": 3
   },
   "file_extension": ".py",
   "mimetype": "text/x-python",
   "name": "python",
   "nbconvert_exporter": "python",
   "pygments_lexer": "ipython3",
   "version": "3.8.0"
  }
 },
 "nbformat": 4,
 "nbformat_minor": 5
}
