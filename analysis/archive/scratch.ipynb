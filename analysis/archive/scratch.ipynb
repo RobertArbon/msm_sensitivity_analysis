{
 "cells": [
  {
   "cell_type": "code",
   "execution_count": 1,
   "id": "aae33b74-8312-4056-bc7a-20be248bac15",
   "metadata": {},
   "outputs": [],
   "source": [
    "import pandas as pd"
   ]
  },
  {
   "cell_type": "code",
   "execution_count": 2,
   "id": "cd4678d9-8b89-4183-8a5b-f407e9fb0712",
   "metadata": {},
   "outputs": [],
   "source": [
    "df = pd.read_hdf('summaries/ts_bs_summary.h5')"
   ]
  },
  {
   "cell_type": "code",
   "execution_count": 22,
   "id": "fe6e9f00-0f55-4808-9dc5-3e72e3d729c1",
   "metadata": {},
   "outputs": [
    {
     "data": {
      "text/html": [
       "<div>\n",
       "<style scoped>\n",
       "    .dataframe tbody tr th:only-of-type {\n",
       "        vertical-align: middle;\n",
       "    }\n",
       "\n",
       "    .dataframe tbody tr th {\n",
       "        vertical-align: top;\n",
       "    }\n",
       "\n",
       "    .dataframe thead th {\n",
       "        text-align: right;\n",
       "    }\n",
       "</style>\n",
       "<table border=\"1\" class=\"dataframe\">\n",
       "  <thead>\n",
       "    <tr style=\"text-align: right;\">\n",
       "      <th></th>\n",
       "      <th>protein</th>\n",
       "      <th>hp_index</th>\n",
       "      <th>chosen_lag</th>\n",
       "      <th>new_num_its</th>\n",
       "      <th>median_vamp</th>\n",
       "      <th>feature</th>\n",
       "    </tr>\n",
       "  </thead>\n",
       "  <tbody>\n",
       "    <tr>\n",
       "      <th>6</th>\n",
       "      <td>BBA</td>\n",
       "      <td>27.0</td>\n",
       "      <td>40.0</td>\n",
       "      <td>2.0</td>\n",
       "      <td>1.963693</td>\n",
       "      <td>dist.</td>\n",
       "    </tr>\n",
       "    <tr>\n",
       "      <th>7</th>\n",
       "      <td>BBA</td>\n",
       "      <td>30.0</td>\n",
       "      <td>40.0</td>\n",
       "      <td>2.0</td>\n",
       "      <td>1.959542</td>\n",
       "      <td>dihed.</td>\n",
       "    </tr>\n",
       "    <tr>\n",
       "      <th>8</th>\n",
       "      <td>BBA</td>\n",
       "      <td>91.0</td>\n",
       "      <td>40.0</td>\n",
       "      <td>2.0</td>\n",
       "      <td>1.956176</td>\n",
       "      <td>logit(dist.)</td>\n",
       "    </tr>\n",
       "  </tbody>\n",
       "</table>\n",
       "</div>"
      ],
      "text/plain": [
       "  protein  hp_index  chosen_lag  new_num_its  median_vamp       feature\n",
       "6     BBA      27.0        40.0          2.0     1.963693         dist.\n",
       "7     BBA      30.0        40.0          2.0     1.959542        dihed.\n",
       "8     BBA      91.0        40.0          2.0     1.956176  logit(dist.)"
      ]
     },
     "execution_count": 22,
     "metadata": {},
     "output_type": "execute_result"
    }
   ],
   "source": [
    "chosen = pd.read_hdf('summaries/m2_model_selection.h5')\n",
    "chosen.query('protein == \"BBA\"').iloc[:, list(range(0, 5))+list(range(24, 25))]"
   ]
  },
  {
   "cell_type": "code",
   "execution_count": 4,
   "id": "785d1514-3490-4850-b22d-0f2866c01b96",
   "metadata": {},
   "outputs": [
    {
     "data": {
      "text/html": [
       "<div>\n",
       "<style scoped>\n",
       "    .dataframe tbody tr th:only-of-type {\n",
       "        vertical-align: middle;\n",
       "    }\n",
       "\n",
       "    .dataframe tbody tr th {\n",
       "        vertical-align: top;\n",
       "    }\n",
       "\n",
       "    .dataframe thead th {\n",
       "        text-align: right;\n",
       "    }\n",
       "</style>\n",
       "<table border=\"1\" class=\"dataframe\">\n",
       "  <thead>\n",
       "    <tr style=\"text-align: right;\">\n",
       "      <th></th>\n",
       "      <th>protein</th>\n",
       "      <th>hp_index</th>\n",
       "      <th>lag</th>\n",
       "      <th>num_its</th>\n",
       "      <th>median</th>\n",
       "      <th>lb_diff</th>\n",
       "      <th>ub_diff</th>\n",
       "      <th>ub</th>\n",
       "      <th>lb</th>\n",
       "      <th>ts_format</th>\n",
       "    </tr>\n",
       "  </thead>\n",
       "  <tbody>\n",
       "    <tr>\n",
       "      <th>2730</th>\n",
       "      <td>BBA</td>\n",
       "      <td>27.0</td>\n",
       "      <td>40.0</td>\n",
       "      <td>2.0</td>\n",
       "      <td>2135.725377</td>\n",
       "      <td>387.119331</td>\n",
       "      <td>4395.559907</td>\n",
       "      <td>6531.285284</td>\n",
       "      <td>1748.606046</td>\n",
       "      <td>\\SIci{ 2.14}{ 1.75}{ 6.53}{\\micro\\second}</td>\n",
       "    </tr>\n",
       "    <tr>\n",
       "      <th>3030</th>\n",
       "      <td>BBA</td>\n",
       "      <td>30.0</td>\n",
       "      <td>40.0</td>\n",
       "      <td>2.0</td>\n",
       "      <td>1904.967550</td>\n",
       "      <td>332.323181</td>\n",
       "      <td>611.143412</td>\n",
       "      <td>2516.110962</td>\n",
       "      <td>1572.644369</td>\n",
       "      <td>\\SIci{ 1.90}{ 1.57}{ 2.52}{\\micro\\second}</td>\n",
       "    </tr>\n",
       "    <tr>\n",
       "      <th>9130</th>\n",
       "      <td>BBA</td>\n",
       "      <td>91.0</td>\n",
       "      <td>40.0</td>\n",
       "      <td>2.0</td>\n",
       "      <td>1736.852641</td>\n",
       "      <td>304.689152</td>\n",
       "      <td>706.495954</td>\n",
       "      <td>2443.348595</td>\n",
       "      <td>1432.163489</td>\n",
       "      <td>\\SIci{ 1.74}{ 1.43}{ 2.44}{\\micro\\second}</td>\n",
       "    </tr>\n",
       "  </tbody>\n",
       "</table>\n",
       "</div>"
      ],
      "text/plain": [
       "     protein  hp_index   lag  num_its       median     lb_diff      ub_diff  \\\n",
       "2730     BBA      27.0  40.0      2.0  2135.725377  387.119331  4395.559907   \n",
       "3030     BBA      30.0  40.0      2.0  1904.967550  332.323181   611.143412   \n",
       "9130     BBA      91.0  40.0      2.0  1736.852641  304.689152   706.495954   \n",
       "\n",
       "               ub           lb                                  ts_format  \n",
       "2730  6531.285284  1748.606046  \\SIci{ 2.14}{ 1.75}{ 6.53}{\\micro\\second}  \n",
       "3030  2516.110962  1572.644369  \\SIci{ 1.90}{ 1.57}{ 2.52}{\\micro\\second}  \n",
       "9130  2443.348595  1432.163489  \\SIci{ 1.74}{ 1.43}{ 2.44}{\\micro\\second}  "
      ]
     },
     "execution_count": 4,
     "metadata": {},
     "output_type": "execute_result"
    }
   ],
   "source": [
    "df['ub'] = df['median']+df['ub_diff']\n",
    "df['lb'] = df['median']-df['lb_diff']\n",
    "scale = 1e-3\n",
    "df['ts_format'] = df.apply(lambda x: f\"\\SIci{{{x['median']*scale: 4.2f}}}{{{x['lb']*scale: 4.2f}}}{{{x['ub']*scale: 4.2f}}}{{\\micro\\second}}\", axis=1)\n",
    "df.query(\"protein == 'BBA'\").loc[df.hp_index.isin([27, 30, 91]), :].query('lag == 40').query('num_its==2')"
   ]
  },
  {
   "cell_type": "code",
   "execution_count": null,
   "id": "18dec34a-062c-4c21-8ded-1c8561540093",
   "metadata": {},
   "outputs": [],
   "source": []
  }
 ],
 "metadata": {
  "kernelspec": {
   "display_name": "Python 3 (ipykernel)",
   "language": "python",
   "name": "python3"
  },
  "language_info": {
   "codemirror_mode": {
    "name": "ipython",
    "version": 3
   },
   "file_extension": ".py",
   "mimetype": "text/x-python",
   "name": "python",
   "nbconvert_exporter": "python",
   "pygments_lexer": "ipython3",
   "version": "3.8.0"
  }
 },
 "nbformat": 4,
 "nbformat_minor": 5
}
