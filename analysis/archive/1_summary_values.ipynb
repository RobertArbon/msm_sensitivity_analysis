{
 "cells": [
  {
   "cell_type": "code",
   "execution_count": 1,
   "id": "bffe6e98-9b2b-49c1-b290-bbb728c5e6b1",
   "metadata": {},
   "outputs": [],
   "source": [
    "import matplotlib.pyplot as plt\n",
    "import pandas as pd\n",
    "import numpy as np\n",
    "from pathlib import Path\n",
    "import seaborn as sns\n",
    "import plotly.express as px\n",
    "import functions as funcs\n",
    "import pyemma as pm\n",
    "\n",
    "import matplotlib as mpl"
   ]
  },
  {
   "cell_type": "markdown",
   "id": "a6670740-1c3e-469f-80e3-fe2d044710e2",
   "metadata": {},
   "source": [
    "# Load data"
   ]
  },
  {
   "cell_type": "code",
   "execution_count": 2,
   "id": "f9ea547d-2400-483f-a3f2-4db85a7ad7f6",
   "metadata": {},
   "outputs": [],
   "source": [
    "all_ts = pd.read_hdf('timescales.h5', key='timescales')\n",
    "all_vamps = pd.read_hdf('vamps.h5', key='vamps')\n",
    "all_vamps.rename(columns={'k': 'num_its'}, inplace=True)\n",
    "chosen_lags = pd.read_hdf('chosen_lag_times.h5', key='chosen_lags')\n",
    "chosen_dom_procs = pd.read_hdf('chosen_num_dominant.h5', key='chosen_num_dominant')"
   ]
  },
  {
   "cell_type": "markdown",
   "id": "49a04644-8897-49fb-920c-9b487e0a721b",
   "metadata": {},
   "source": [
    "# Tidy dataframes\n",
    "\n",
    "We're only interested in VAMP2 scores and the non-hyperparameter columns"
   ]
  },
  {
   "cell_type": "code",
   "execution_count": 3,
   "id": "1884923f-7f06-4ddf-85d0-3687afad301c",
   "metadata": {},
   "outputs": [],
   "source": [
    "\n",
    "\n",
    "def create_feature_dict(df):\n",
    "    def f(x):\n",
    "        if x['feature__value'] == 'dihedrals':\n",
    "            return 'dihed.'\n",
    "        if x['feature__value'] == 'distances':\n",
    "            if x['distances__transform'] == 'linear': \n",
    "                return 'dist.'\n",
    "            elif x['distances__transform'] == 'logistic':\n",
    "                return 'logit(dist.)'\n",
    "        \n",
    "    df['feature'] = df.apply(f, axis=1)\n",
    "    fdict = dict(zip(df['hp_index'].values, df['feature'].values))\n",
    "    \n",
    "    return fdict\n",
    "\n",
    "\n",
    "def subset_columns(df): \n",
    "    df = df.loc[:, ['iteration', 'value','protein', 'hp_index', 'lag', 'num_its']]\n",
    "    return df\n",
    "    \n",
    "\n",
    "def subset_method(df, method='VAMP2'):\n",
    "    df['choose_method'] = method\n",
    "    return df.loc[df.method==df.choose_method, :].copy()\n",
    "    \n",
    "    \n",
    "vamps = subset_method(all_vamps)\n",
    "\n",
    "fdict = create_feature_dict(vamps)\n",
    "\n",
    "ts = subset_columns(all_ts)\n",
    "vamps = subset_columns(vamps)\n",
    "\n",
    "\n"
   ]
  },
  {
   "cell_type": "markdown",
   "id": "4d73af44-d25d-43be-99da-f9905206de9a",
   "metadata": {},
   "source": [
    "#  Calculate ratio"
   ]
  },
  {
   "cell_type": "code",
   "execution_count": 4,
   "id": "fca47fd3-781b-4d90-a1c3-663fa1162f07",
   "metadata": {},
   "outputs": [],
   "source": [
    "def timescale_ratio(df):\n",
    "\n",
    "    t = df.loc[:, ['value', 'iteration', 'protein', 'hp_index', 'lag', 'num_its']].copy()\n",
    "    dupes = t.duplicated(subset=['iteration', 'protein', 'hp_index', 'lag', 'num_its'])\n",
    "    assert not np.any(dupes.values)\n",
    "\n",
    "    t['log_value'] = np.log(t['value'])\n",
    "    t.sort_values(by=['protein','hp_index', 'lag', 'iteration', 'num_its'], inplace=True)\n",
    "    t['ratio'] = np.exp(t.groupby(['protein', 'hp_index', 'lag', 'iteration']).diff(periods=-1)['log_value'])\n",
    "    return t\n",
    "\n",
    "ts_ratio = timescale_ratio(ts)"
   ]
  },
  {
   "cell_type": "markdown",
   "id": "87fb573b-8c40-4b10-9169-5e3f6e8ed6c2",
   "metadata": {},
   "source": [
    "# Calculate bootstrap summary"
   ]
  },
  {
   "cell_type": "code",
   "execution_count": 5,
   "id": "5460131d-db2f-4755-b906-43d1a4486ef7",
   "metadata": {},
   "outputs": [],
   "source": [
    "def bs_summary(df, score_column='value', subset=['protein', 'hp_index', 'lag', 'num_its']):\n",
    "    score = df.groupby(subset, as_index=False).agg(\n",
    "                            median = (score_column, lambda x: np.quantile(x, 0.5)), \n",
    "                            lb = (score_column, lambda x: np.quantile(x, 0.025)), \n",
    "                            ub = (score_column, lambda x: np.quantile(x, 0.975)))\n",
    "    score['lb_diff'] = score['median'] - score['lb']\n",
    "    score['ub_diff'] = score['ub'] - score['median']\n",
    "    score.drop(labels=['lb', 'ub'], axis=1, inplace=True)\n",
    "    return score\n",
    "    \n",
    "\n",
    "vamps_summary = bs_summary(vamps)\n",
    "ts_ratio_summary = bs_summary(ts_ratio, score_column='ratio')\n",
    "ts_summary = bs_summary(ts)"
   ]
  },
  {
   "cell_type": "code",
   "execution_count": 6,
   "id": "c594f47c-45d0-4e02-905b-44083e931781",
   "metadata": {},
   "outputs": [],
   "source": [
    "hp_summary = all_vamps.loc[all_vamps.iteration==0, list(all_vamps.filter(regex='__', axis=1).columns) + ['protein', 'protein_dir', 'hp_index']]\n",
    "hp_summary.drop_duplicates(inplace=True)\n",
    "hp_summary['feature'] = hp_summary['hp_index'].apply(lambda x: fdict[x])"
   ]
  },
  {
   "cell_type": "code",
   "execution_count": 7,
   "id": "1739e6bf-6739-4fd2-9f1a-4b45333411fb",
   "metadata": {},
   "outputs": [],
   "source": [
    "vamps_summary.to_hdf('./summaries/vamps_bs_summary.h5', key='vamps_summary')\n",
    "ts_ratio_summary.to_hdf('./summaries/ts_ratio_bs_summary.h5', key='ts_ratio_summary')\n",
    "ts_summary.to_hdf('./summaries/ts_bs_summary.h5', key='ts_summary')\n",
    "hp_summary.to_hdf('./summaries/hp_summary.h5', key='hp_summary')"
   ]
  },
  {
   "cell_type": "markdown",
   "id": "d95fd6ba-f84a-4cce-a4be-847d2e911d11",
   "metadata": {},
   "source": [
    "# VAMP-E\n",
    "\n",
    "We might also want VAMP-E summary so let's do those as well"
   ]
  },
  {
   "cell_type": "code",
   "execution_count": 8,
   "id": "0b348982-2e85-4fca-9e8e-043a44e8e43b",
   "metadata": {},
   "outputs": [],
   "source": [
    "vampe = subset_method(all_vamps, method='VAMPE')\n",
    "vampe = subset_columns(vampe)\n",
    "vampe_summary = bs_summary(vamps)\n",
    "vampe_summary.to_hdf('./summaries/vampe_bs_summary.h5', key='vampe_summary')\n"
   ]
  },
  {
   "cell_type": "code",
   "execution_count": 12,
   "id": "321adc50-6ba3-4abd-b8e6-78fdaf6db1d3",
   "metadata": {},
   "outputs": [
    {
     "data": {
      "text/plain": [
       "<seaborn.axisgrid.FacetGrid at 0x7fc74e635580>"
      ]
     },
     "execution_count": 12,
     "metadata": {},
     "output_type": "execute_result"
    },
    {
     "data": {
      "image/png": "[encoded data removed]",
      "text/plain": [
       "<Figure size 216x216 with 1 Axes>"
      ]
     },
     "metadata": {
      "needs_background": "light"
     },
     "output_type": "display_data"
    }
   ],
   "source": [
    "df = vampe_summary.loc[(vampe_summary.lag==40)&(vampe_summary.protein=='BBA'), : ]\n",
    "g = sns.FacetGrid(data=df, hue='hp_index')\n",
    "g.map(plt.plot, 'num_its', 'median')"
   ]
  },
  {
   "cell_type": "code",
   "execution_count": null,
   "id": "46d9eee8-ab48-4446-9b84-644f379069bb",
   "metadata": {},
   "outputs": [],
   "source": []
  }
 ],
 "metadata": {
  "kernelspec": {
   "display_name": "Python 3 (ipykernel)",
   "language": "python",
   "name": "python3"
  },
  "language_info": {
   "codemirror_mode": {
    "name": "ipython",
    "version": 3
   },
   "file_extension": ".py",
   "mimetype": "text/x-python",
   "name": "python",
   "nbconvert_exporter": "python",
   "pygments_lexer": "ipython3",
   "version": "3.9.0"
  }
 },
 "nbformat": 4,
 "nbformat_minor": 5
}
