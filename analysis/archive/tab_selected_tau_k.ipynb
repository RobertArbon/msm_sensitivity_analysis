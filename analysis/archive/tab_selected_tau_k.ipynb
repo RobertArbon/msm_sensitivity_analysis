{
 "cells": [
  {
   "cell_type": "code",
   "execution_count": 14,
   "id": "6ff2a8a0-b70c-4219-a899-fd78768d6da2",
   "metadata": {},
   "outputs": [],
   "source": [
    "import pandas as pd\n",
    "\n",
    "from functions import PROTEIN_DIRS, PROTEIN_LABELS\n",
    "import numpy as np\n"
   ]
  },
  {
   "cell_type": "code",
   "execution_count": 2,
   "id": "8febdac1-f9e4-46fc-8432-ec66ac74afeb",
   "metadata": {},
   "outputs": [],
   "source": [
    "lags = pd.read_hdf('chosen_lag_times.h5')\n",
    "ks = pd.read_hdf('chosen_num_dominant.h5')"
   ]
  },
  {
   "cell_type": "code",
   "execution_count": 3,
   "id": "12a1ccf4-7fd6-4d09-8921-4518106c8304",
   "metadata": {},
   "outputs": [
    {
     "data": {
      "text/html": [
       "<div>\n",
       "<style scoped>\n",
       "    .dataframe tbody tr th:only-of-type {\n",
       "        vertical-align: middle;\n",
       "    }\n",
       "\n",
       "    .dataframe tbody tr th {\n",
       "        vertical-align: top;\n",
       "    }\n",
       "\n",
       "    .dataframe thead th {\n",
       "        text-align: right;\n",
       "    }\n",
       "</style>\n",
       "<table border=\"1\" class=\"dataframe\">\n",
       "  <thead>\n",
       "    <tr style=\"text-align: right;\">\n",
       "      <th></th>\n",
       "      <th>protein</th>\n",
       "      <th>hp_index</th>\n",
       "      <th>lag</th>\n",
       "      <th>value</th>\n",
       "      <th>iteration</th>\n",
       "      <th>delta_t</th>\n",
       "      <th>delta_x</th>\n",
       "      <th>grad_t</th>\n",
       "    </tr>\n",
       "  </thead>\n",
       "  <tbody>\n",
       "    <tr>\n",
       "      <th>0</th>\n",
       "      <td>BBA</td>\n",
       "      <td>0.0</td>\n",
       "      <td>40.0</td>\n",
       "      <td>6.915155</td>\n",
       "      <td>50.5</td>\n",
       "      <td>0.070440</td>\n",
       "      <td>10.0</td>\n",
       "      <td>0.007044</td>\n",
       "    </tr>\n",
       "    <tr>\n",
       "      <th>1</th>\n",
       "      <td>BBL</td>\n",
       "      <td>0.0</td>\n",
       "      <td>30.0</td>\n",
       "      <td>3.624249</td>\n",
       "      <td>50.5</td>\n",
       "      <td>0.009801</td>\n",
       "      <td>10.0</td>\n",
       "      <td>0.000980</td>\n",
       "    </tr>\n",
       "    <tr>\n",
       "      <th>2</th>\n",
       "      <td>Chignolin</td>\n",
       "      <td>0.0</td>\n",
       "      <td>20.0</td>\n",
       "      <td>4.719985</td>\n",
       "      <td>50.5</td>\n",
       "      <td>0.019848</td>\n",
       "      <td>10.0</td>\n",
       "      <td>0.001985</td>\n",
       "    </tr>\n",
       "    <tr>\n",
       "      <th>3</th>\n",
       "      <td>Homeodomain</td>\n",
       "      <td>1.0</td>\n",
       "      <td>20.0</td>\n",
       "      <td>5.625146</td>\n",
       "      <td>50.5</td>\n",
       "      <td>0.000394</td>\n",
       "      <td>10.0</td>\n",
       "      <td>0.000039</td>\n",
       "    </tr>\n",
       "    <tr>\n",
       "      <th>4</th>\n",
       "      <td>Protein-B</td>\n",
       "      <td>0.0</td>\n",
       "      <td>40.0</td>\n",
       "      <td>5.483887</td>\n",
       "      <td>50.5</td>\n",
       "      <td>0.006121</td>\n",
       "      <td>10.0</td>\n",
       "      <td>0.000612</td>\n",
       "    </tr>\n",
       "    <tr>\n",
       "      <th>5</th>\n",
       "      <td>Trp-cage</td>\n",
       "      <td>0.0</td>\n",
       "      <td>20.0</td>\n",
       "      <td>6.203824</td>\n",
       "      <td>50.5</td>\n",
       "      <td>0.001330</td>\n",
       "      <td>10.0</td>\n",
       "      <td>0.000133</td>\n",
       "    </tr>\n",
       "    <tr>\n",
       "      <th>6</th>\n",
       "      <td>Villin</td>\n",
       "      <td>0.0</td>\n",
       "      <td>30.0</td>\n",
       "      <td>5.097114</td>\n",
       "      <td>50.5</td>\n",
       "      <td>0.047781</td>\n",
       "      <td>10.0</td>\n",
       "      <td>0.004778</td>\n",
       "    </tr>\n",
       "    <tr>\n",
       "      <th>7</th>\n",
       "      <td>WW-domain</td>\n",
       "      <td>0.0</td>\n",
       "      <td>40.0</td>\n",
       "      <td>8.220099</td>\n",
       "      <td>50.5</td>\n",
       "      <td>0.066269</td>\n",
       "      <td>10.0</td>\n",
       "      <td>0.006627</td>\n",
       "    </tr>\n",
       "  </tbody>\n",
       "</table>\n",
       "</div>"
      ],
      "text/plain": [
       "       protein  hp_index   lag     value  iteration   delta_t  delta_x  \\\n",
       "0          BBA       0.0  40.0  6.915155       50.5  0.070440     10.0   \n",
       "1          BBL       0.0  30.0  3.624249       50.5  0.009801     10.0   \n",
       "2    Chignolin       0.0  20.0  4.719985       50.5  0.019848     10.0   \n",
       "3  Homeodomain       1.0  20.0  5.625146       50.5  0.000394     10.0   \n",
       "4    Protein-B       0.0  40.0  5.483887       50.5  0.006121     10.0   \n",
       "5     Trp-cage       0.0  20.0  6.203824       50.5  0.001330     10.0   \n",
       "6       Villin       0.0  30.0  5.097114       50.5  0.047781     10.0   \n",
       "7    WW-domain       0.0  40.0  8.220099       50.5  0.066269     10.0   \n",
       "\n",
       "     grad_t  \n",
       "0  0.007044  \n",
       "1  0.000980  \n",
       "2  0.001985  \n",
       "3  0.000039  \n",
       "4  0.000612  \n",
       "5  0.000133  \n",
       "6  0.004778  \n",
       "7  0.006627  "
      ]
     },
     "execution_count": 3,
     "metadata": {},
     "output_type": "execute_result"
    }
   ],
   "source": [
    "lags\n"
   ]
  },
  {
   "cell_type": "markdown",
   "id": "380c3d91-ca62-4b52-b7a5-e35c49618526",
   "metadata": {},
   "source": [
    "# Reorder protein labels "
   ]
  },
  {
   "cell_type": "code",
   "execution_count": 8,
   "id": "e7be7c6c-d742-407a-9470-8f8f3dca8667",
   "metadata": {},
   "outputs": [],
   "source": [
    "#   Chignolin           & cln025 \n",
    "#   Trp-cage            & 2JOF   \n",
    "#   BBA                 & 1FME   \n",
    "#   Villin              & 2F4K   \n",
    "#   WW domain           & 2F21   \n",
    "#   % NTL9                & 2HBA \n",
    "#   BBL                 & 2WXC   \n",
    "#   Protein B           & 1PRB   \n",
    "#   Homeodomain         & 2P6J   \n",
    "#   % Protein G           & 1MIO \n",
    "#   % a3D                 & 2A3D \n",
    "#   % $\\lambda$-repressor & 1LMB   \n",
    "\n"
   ]
  },
  {
   "cell_type": "code",
   "execution_count": 31,
   "id": "427e3bdb-642e-4886-a2b5-dfaeda581b5e",
   "metadata": {},
   "outputs": [],
   "source": [
    "\n",
    "new_labels = np.array(['Chignolin', 'Trp-cage', 'BBA', 'Villin', 'WW-domain', 'NTL9', \n",
    "                       'BBL', 'Protein-B', 'Homeodomain',\n",
    "                       'Protein-G', '$\\\\alpha$3D','$\\\\lambda$-repressor' ])\n",
    "new_ix = np.array([np.where(x==np.array(PROTEIN_LABELS))[0][0] for x in new_labels])\n",
    "new_dirs = np.array(PROTEIN_DIRS)[new_ix]\n",
    "\n"
   ]
  },
  {
   "cell_type": "code",
   "execution_count": 65,
   "id": "5a8f60c3-1cfa-49ea-8eda-a8dbc7ae87c9",
   "metadata": {},
   "outputs": [
    {
     "name": "stdout",
     "output_type": "stream",
     "text": [
      "\\begin{tabular}{lrr}\n",
      "\\toprule\n",
      "    Protein &  Num. slow processes &  Markov lag-time (\\si{\\nano\\second}) \\\\\n",
      "\\midrule\n",
      "  Chignolin &                    2 &                                   20 \\\\\n",
      "   Trp-cage &                    3 &                                   20 \\\\\n",
      "        BBA &                    4 &                                   40 \\\\\n",
      "     Villin &                    3 &                                   30 \\\\\n",
      "  WW-domain &                    4 &                                   40 \\\\\n",
      "        BBL &                    3 &                                   30 \\\\\n",
      "  Protein-B &                    3 &                                   40 \\\\\n",
      "Homeodomain &                    4 &                                   20 \\\\\n",
      "\\bottomrule\n",
      "\\end{tabular}\n",
      "\n"
     ]
    }
   ],
   "source": [
    "table = ks.merge(lags.loc[:, ['protein', 'lag']], on='protein')\n",
    "table.index = table.protein\n",
    "table = table.loc[[x for x in new_labels if x in table.protein], :]\n",
    "table['lag'] = table['lag'].astype(int)\n",
    "\n",
    "table.index.name = ''\n",
    "table.reset_index(drop=True, inplace=True)\n",
    "\n",
    "table.rename(columns={\"protein\": \"Protein\", \n",
    "                      'num_its':'Num. slow processes', \n",
    "                      'lag': \"Markov lag-time (\\si{\\nano\\second})\"}, inplace=True)\n",
    "\n",
    "\n",
    "print(table.to_latex(escape=False, index=False))"
   ]
  },
  {
   "cell_type": "markdown",
   "id": "2bc6c54a-e07c-4d61-a92e-ae3003a7cf42",
   "metadata": {},
   "source": [
    "? put comparisons here"
   ]
  },
  {
   "cell_type": "code",
   "execution_count": null,
   "id": "e4098cd0-a2c2-492f-83ba-2c7d888ddc75",
   "metadata": {},
   "outputs": [],
   "source": []
  }
 ],
 "metadata": {
  "kernelspec": {
   "display_name": "Python 3 (ipykernel)",
   "language": "python",
   "name": "python3"
  },
  "language_info": {
   "codemirror_mode": {
    "name": "ipython",
    "version": 3
   },
   "file_extension": ".py",
   "mimetype": "text/x-python",
   "name": "python",
   "nbconvert_exporter": "python",
   "pygments_lexer": "ipython3",
   "version": "3.8.0"
  }
 },
 "nbformat": 4,
 "nbformat_minor": 5
}
