{
 "cells": [
  {
   "cell_type": "code",
   "execution_count": 1,
   "id": "2b7c64bf-9c3d-46f4-aa4d-d1e78ea7d8f6",
   "metadata": {},
   "outputs": [],
   "source": [
    "import matplotlib.pyplot as plt\n",
    "import pandas as pd\n",
    "import numpy as np\n",
    "import seaborn as sns\n",
    "import matplotlib as mpl\n",
    "from typing import *"
   ]
  },
  {
   "cell_type": "markdown",
   "id": "5b6bd9db-a865-461c-a27f-f083abee1d55",
   "metadata": {},
   "source": [
    "Although we have EVs in summary file, we need to get EV ratios from the raw results for accurate bootstrap summaries"
   ]
  },
  {
   "cell_type": "code",
   "execution_count": 6,
   "id": "af69e2b3-38bc-48c8-b9b6-c1df7260de52",
   "metadata": {},
   "outputs": [],
   "source": [
    "protein='1fme'\n",
    "batch_num = 1\n",
    "raw_path = f'../{protein}/raw_batch{batch_num}.h5'\n",
    "summary_path = f'../{protein}/summary_batch{batch_num}.h5'\n",
    "timescales = pd.DataFrame(pd.read_hdf(raw_path, key='timescales'))\n",
    "\n",
    "timescales.reset_index(inplace=True)\n",
    "timescales.rename(mapper={0: 'value'}, axis=1, inplace=True)"
   ]
  },
  {
   "cell_type": "code",
   "execution_count": 7,
   "id": "bdd37540-0cf5-40ba-a1aa-7749ff6c157d",
   "metadata": {},
   "outputs": [],
   "source": [
    "eigenvalues = timescales.copy(deep=True)\n",
    "eigenvalues['value'] = timescales.apply(lambda x: ev(x), axis=1)"
   ]
  },
  {
   "cell_type": "code",
   "execution_count": 11,
   "id": "27b4ac0c-eddf-4ed0-9a5d-d9e294fae0ac",
   "metadata": {},
   "outputs": [],
   "source": [
    "eigenvalues.sort_values(by=['hp_ix', 'bs_ix', 'lag', 'process'], inplace=True)\n",
    "# eigenvalues['ratio'] = eigenvalues.groupby(['hp_ix', 'bs_ix', 'lag', 'process'])['value'].diff()"
   ]
  },
  {
   "cell_type": "code",
   "execution_count": 27,
   "id": "e0ce780b-0b94-4cd7-b0cc-7c950d002670",
   "metadata": {},
   "outputs": [],
   "source": [
    "eigenvalues['log_ev'] = np.log(eigenvalues['value'])"
   ]
  },
  {
   "cell_type": "code",
   "execution_count": 29,
   "id": "85c9bb64-786a-4997-8ebf-bc79e2679aca",
   "metadata": {},
   "outputs": [],
   "source": [
    "eigenvalues['ev_ratio'] = np.exp(eigenvalues.groupby(['hp_ix', 'bs_ix', 'lag'])['log_ev'].diff(periods=-1))"
   ]
  },
  {
   "cell_type": "code",
   "execution_count": 36,
   "id": "4ef2527e-34df-4e65-918c-abffb822d573",
   "metadata": {},
   "outputs": [
    {
     "name": "stdout",
     "output_type": "stream",
     "text": [
      "5812692\n"
     ]
    },
    {
     "data": {
      "text/plain": [
       "5663235"
      ]
     },
     "execution_count": 36,
     "metadata": {},
     "output_type": "execute_result"
    }
   ],
   "source": [
    "print(eigenvalues.shape[0])\n",
    "eigenvalues.dropna(inplace=True)\n",
    "eigenvalues.shape[0]"
   ]
  },
  {
   "cell_type": "code",
   "execution_count": 38,
   "id": "58fe8839-93f8-4dbd-a4b9-6658cb1370f3",
   "metadata": {},
   "outputs": [],
   "source": [
    "ev_summary = eigenvalues.groupby(['hp_ix', 'lag', 'process'])['ev_ratio'].agg(\n",
    "            median=lambda x: np.nanquantile(x, 0.5),\n",
    "            lb=lambda x: np.nanquantile(x, 0.025),\n",
    "            ub=lambda x: np.nanquantile(x, 0.975),\n",
    "            count=lambda x: x.shape[0]-x.isna().sum()\n",
    ")\n",
    "ev_summary.reset_index(inplace=True)"
   ]
  },
  {
   "cell_type": "code",
   "execution_count": 39,
   "id": "e1ab2a9a-3bc8-464a-a999-493884dcda5b",
   "metadata": {},
   "outputs": [],
   "source": [
    "ev_summary.to_hdf(summary_path, key='eigenvalue_ratio')"
   ]
  },
  {
   "cell_type": "code",
   "execution_count": null,
   "id": "287ad425-4b00-4c3d-96c3-cf6103b784a4",
   "metadata": {},
   "outputs": [],
   "source": []
  }
 ],
 "metadata": {
  "kernelspec": {
   "display_name": "Python 3 (ipykernel)",
   "language": "python",
   "name": "python3"
  },
  "language_info": {
   "codemirror_mode": {
    "name": "ipython",
    "version": 3
   },
   "file_extension": ".py",
   "mimetype": "text/x-python",
   "name": "python",
   "nbconvert_exporter": "python",
   "pygments_lexer": "ipython3",
   "version": "3.8.0"
  }
 },
 "nbformat": 4,
 "nbformat_minor": 5
}
