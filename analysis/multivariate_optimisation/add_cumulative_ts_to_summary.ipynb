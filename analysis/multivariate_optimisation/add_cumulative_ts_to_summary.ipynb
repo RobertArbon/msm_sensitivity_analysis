{
 "cells": [
  {
   "cell_type": "code",
   "execution_count": 1,
   "id": "2b7c64bf-9c3d-46f4-aa4d-d1e78ea7d8f6",
   "metadata": {},
   "outputs": [],
   "source": [
    "import matplotlib.pyplot as plt\n",
    "import pandas as pd\n",
    "import numpy as np\n",
    "import seaborn as sns\n",
    "import matplotlib as mpl\n",
    "from typing import *"
   ]
  },
  {
   "cell_type": "markdown",
   "id": "5b6bd9db-a865-461c-a27f-f083abee1d55",
   "metadata": {},
   "source": [
    "We want to add cumulative timescales to the summary. "
   ]
  },
  {
   "cell_type": "code",
   "execution_count": 2,
   "id": "af69e2b3-38bc-48c8-b9b6-c1df7260de52",
   "metadata": {},
   "outputs": [],
   "source": [
    "protein='1fme'\n",
    "batch_num = 1\n",
    "raw_path = f'../{protein}/raw_batch{batch_num}.h5'\n",
    "summary_path = f'../{protein}/summary_batch{batch_num}.h5'\n",
    "timescales = pd.DataFrame(pd.read_hdf(raw_path, key='timescales'))\n",
    "\n",
    "timescales.reset_index(inplace=True)\n",
    "timescales.rename(mapper={0: 'value'}, axis=1, inplace=True)"
   ]
  },
  {
   "cell_type": "code",
   "execution_count": 3,
   "id": "27b4ac0c-eddf-4ed0-9a5d-d9e294fae0ac",
   "metadata": {},
   "outputs": [],
   "source": [
    "timescales.sort_values(by=['hp_ix', 'bs_ix', 'lag', 'process'], inplace=True)\n",
    "# eigenvalues['ratio'] = eigenvalues.groupby(['hp_ix', 'bs_ix', 'lag', 'process'])['value'].diff()"
   ]
  },
  {
   "cell_type": "code",
   "execution_count": 4,
   "id": "8cb2b683-dd66-4cf6-87c4-0e8c8346d10e",
   "metadata": {},
   "outputs": [
    {
     "data": {
      "text/html": [
       "<div>\n",
       "<style scoped>\n",
       "    .dataframe tbody tr th:only-of-type {\n",
       "        vertical-align: middle;\n",
       "    }\n",
       "\n",
       "    .dataframe tbody tr th {\n",
       "        vertical-align: top;\n",
       "    }\n",
       "\n",
       "    .dataframe thead th {\n",
       "        text-align: right;\n",
       "    }\n",
       "</style>\n",
       "<table border=\"1\" class=\"dataframe\">\n",
       "  <thead>\n",
       "    <tr style=\"text-align: right;\">\n",
       "      <th></th>\n",
       "      <th>hp_ix</th>\n",
       "      <th>bs_ix</th>\n",
       "      <th>lag</th>\n",
       "      <th>process</th>\n",
       "      <th>value</th>\n",
       "    </tr>\n",
       "  </thead>\n",
       "  <tbody>\n",
       "    <tr>\n",
       "      <th>2563210</th>\n",
       "      <td>0</td>\n",
       "      <td>0</td>\n",
       "      <td>1</td>\n",
       "      <td>2</td>\n",
       "      <td>875.664713</td>\n",
       "    </tr>\n",
       "    <tr>\n",
       "      <th>2563211</th>\n",
       "      <td>0</td>\n",
       "      <td>0</td>\n",
       "      <td>1</td>\n",
       "      <td>3</td>\n",
       "      <td>286.509421</td>\n",
       "    </tr>\n",
       "    <tr>\n",
       "      <th>2563212</th>\n",
       "      <td>0</td>\n",
       "      <td>0</td>\n",
       "      <td>1</td>\n",
       "      <td>4</td>\n",
       "      <td>263.436623</td>\n",
       "    </tr>\n",
       "    <tr>\n",
       "      <th>2563213</th>\n",
       "      <td>0</td>\n",
       "      <td>0</td>\n",
       "      <td>1</td>\n",
       "      <td>5</td>\n",
       "      <td>158.381910</td>\n",
       "    </tr>\n",
       "    <tr>\n",
       "      <th>2563214</th>\n",
       "      <td>0</td>\n",
       "      <td>0</td>\n",
       "      <td>1</td>\n",
       "      <td>6</td>\n",
       "      <td>154.196723</td>\n",
       "    </tr>\n",
       "  </tbody>\n",
       "</table>\n",
       "</div>"
      ],
      "text/plain": [
       "         hp_ix  bs_ix  lag  process       value\n",
       "2563210      0      0    1        2  875.664713\n",
       "2563211      0      0    1        3  286.509421\n",
       "2563212      0      0    1        4  263.436623\n",
       "2563213      0      0    1        5  158.381910\n",
       "2563214      0      0    1        6  154.196723"
      ]
     },
     "execution_count": 4,
     "metadata": {},
     "output_type": "execute_result"
    }
   ],
   "source": [
    "timescales.head()"
   ]
  },
  {
   "cell_type": "code",
   "execution_count": 6,
   "id": "85c9bb64-786a-4997-8ebf-bc79e2679aca",
   "metadata": {},
   "outputs": [],
   "source": [
    "timescales['cum_ts'] = timescales.groupby(['hp_ix', 'bs_ix', 'lag'])['value'].cumsum()"
   ]
  },
  {
   "cell_type": "code",
   "execution_count": 7,
   "id": "4ef2527e-34df-4e65-918c-abffb822d573",
   "metadata": {},
   "outputs": [
    {
     "name": "stdout",
     "output_type": "stream",
     "text": [
      "5812692\n"
     ]
    },
    {
     "data": {
      "text/plain": [
       "5812692"
      ]
     },
     "execution_count": 7,
     "metadata": {},
     "output_type": "execute_result"
    }
   ],
   "source": [
    "print(timescales.shape[0])\n",
    "timescales.dropna(inplace=True)\n",
    "timescales.shape[0]"
   ]
  },
  {
   "cell_type": "code",
   "execution_count": 9,
   "id": "58fe8839-93f8-4dbd-a4b9-6658cb1370f3",
   "metadata": {},
   "outputs": [],
   "source": [
    "summary = timescales.groupby(['hp_ix', 'lag', 'process'])['cum_ts'].agg(\n",
    "            median=lambda x: np.nanquantile(x, 0.5),\n",
    "            lb=lambda x: np.nanquantile(x, 0.025),\n",
    "            ub=lambda x: np.nanquantile(x, 0.975),\n",
    "            count=lambda x: x.shape[0]-x.isna().sum()\n",
    ")\n",
    "summary.reset_index(inplace=True)"
   ]
  },
  {
   "cell_type": "code",
   "execution_count": 10,
   "id": "e1ab2a9a-3bc8-464a-a999-493884dcda5b",
   "metadata": {},
   "outputs": [],
   "source": [
    "summary.to_hdf(summary_path, key='cumulative_ts')"
   ]
  },
  {
   "cell_type": "code",
   "execution_count": null,
   "id": "287ad425-4b00-4c3d-96c3-cf6103b784a4",
   "metadata": {},
   "outputs": [],
   "source": []
  }
 ],
 "metadata": {
  "kernelspec": {
   "display_name": "Python 3 (ipykernel)",
   "language": "python",
   "name": "python3"
  },
  "language_info": {
   "codemirror_mode": {
    "name": "ipython",
    "version": 3
   },
   "file_extension": ".py",
   "mimetype": "text/x-python",
   "name": "python",
   "nbconvert_exporter": "python",
   "pygments_lexer": "ipython3",
   "version": "3.8.0"
  }
 },
 "nbformat": 4,
 "nbformat_minor": 5
}
