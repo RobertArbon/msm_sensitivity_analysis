{
 "cells": [
  {
   "cell_type": "code",
   "execution_count": 2,
   "id": "da6a36e7",
   "metadata": {},
   "outputs": [],
   "source": [
    "import matplotlib.pyplot as plt\n",
    "import pandas as pd\n",
    "import numpy as np\n",
    "import seaborn as sns\n",
    "import matplotlib as mpl\n",
    "from typing import *"
   ]
  },
  {
   "cell_type": "markdown",
   "id": "37f7a831",
   "metadata": {},
   "source": [
    "Compute the vamp_eq(2) = 1+(EV2)^2 in summary for optimisation.\n",
    "\n",
    "! vampeq2 only contains values for the 2nd process."
   ]
  },
  {
   "cell_type": "code",
   "execution_count": 13,
   "id": "4c401679",
   "metadata": {},
   "outputs": [],
   "source": [
    "protein='BBA'\n",
    "batch_num = 1\n",
    "raw_path = f'../{protein}/raw_batch{batch_num}.h5'\n",
    "summary_path = f'../{protein}/summary_batch{batch_num}.h5'\n",
    "timescales = pd.DataFrame(pd.read_hdf(raw_path, key='timescales'))\n",
    "\n",
    "timescales.reset_index(inplace=True)\n",
    "timescales.rename(mapper={0: 'value'}, axis=1, inplace=True)\n",
    "\n",
    "evs = timescales.copy(deep=True)\n",
    "vampeq2 = timescales.query('process==2').copy(deep=True)"
   ]
  },
  {
   "cell_type": "code",
   "execution_count": 14,
   "id": "f1381634",
   "metadata": {},
   "outputs": [],
   "source": [
    "evs['evs'] = np.exp(np.divide(-evs['lag'], evs['value']))"
   ]
  },
  {
   "cell_type": "code",
   "execution_count": 10,
   "id": "0b8b589e",
   "metadata": {},
   "outputs": [],
   "source": [
    "evs_summary = evs.groupby(['hp_ix', 'lag', 'process'])['evs'].agg(\n",
    "            median=lambda x: np.nanquantile(x, 0.5),\n",
    "            lb=lambda x: np.nanquantile(x, 0.025),\n",
    "            ub=lambda x: np.nanquantile(x, 0.975),\n",
    "            count=lambda x: x.shape[0]-x.isna().sum()\n",
    ")\n",
    "evs_summary.reset_index(inplace=True)\n",
    "evs_summary.head()"
   ]
  },
  {
   "cell_type": "code",
   "execution_count": 12,
   "id": "c271cd54",
   "metadata": {},
   "outputs": [],
   "source": [
    "evs_summary.to_hdf(summary_path, key='evs')"
   ]
  },
  {
   "cell_type": "markdown",
   "id": "88cd3ae1",
   "metadata": {},
   "source": [
    "---"
   ]
  },
  {
   "cell_type": "code",
   "execution_count": 17,
   "id": "aff59723",
   "metadata": {},
   "outputs": [],
   "source": [
    "vampeq2['vamp2eq'] = np.exp(2*np.divide(-vampeq2['lag'], vampeq2['value']))+1"
   ]
  },
  {
   "cell_type": "code",
   "execution_count": 21,
   "id": "df081175",
   "metadata": {},
   "outputs": [],
   "source": [
    "vampeq2_summary = vampeq2.groupby(['hp_ix', 'lag', 'process'])['vamp2eq'].agg(\n",
    "            median=lambda x: np.nanquantile(x, 0.5),\n",
    "            lb=lambda x: np.nanquantile(x, 0.025),\n",
    "            ub=lambda x: np.nanquantile(x, 0.975),\n",
    "            count=lambda x: x.shape[0]-x.isna().sum()\n",
    ")\n",
    "vampeq2_summary.reset_index(inplace=True)"
   ]
  },
  {
   "cell_type": "code",
   "execution_count": 22,
   "id": "97650cdf",
   "metadata": {},
   "outputs": [],
   "source": [
    "vampeq2_summary.to_hdf(summary_path, key='vampeq2')"
   ]
  },
  {
   "cell_type": "code",
   "execution_count": null,
   "id": "fbad1c74",
   "metadata": {},
   "outputs": [],
   "source": []
  }
 ],
 "metadata": {
  "kernelspec": {
   "display_name": "msm_opt",
   "language": "python",
   "name": "msm_opt"
  },
  "language_info": {
   "codemirror_mode": {
    "name": "ipython",
    "version": 3
   },
   "file_extension": ".py",
   "mimetype": "text/x-python",
   "name": "python",
   "nbconvert_exporter": "python",
   "pygments_lexer": "ipython3",
   "version": "3.10.6"
  }
 },
 "nbformat": 4,
 "nbformat_minor": 5
}
