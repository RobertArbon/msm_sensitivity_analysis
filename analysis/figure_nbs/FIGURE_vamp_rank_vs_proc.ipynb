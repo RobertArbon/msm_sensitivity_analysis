{
 "cells": [
  {
   "cell_type": "code",
   "execution_count": 1,
   "id": "b44c84c5-ef25-4499-8328-a5648ddc05d5",
   "metadata": {},
   "outputs": [],
   "source": [
    "import matplotlib.pyplot as plt\n",
    "import pandas as pd\n",
    "import numpy as np\n",
    "import seaborn as sns\n",
    "import matplotlib as mpl\n",
    "from typing import *\n",
    "from sensetools.plots import feature_labeller"
   ]
  },
  {
   "cell_type": "code",
   "execution_count": 2,
   "id": "35f833d7-8537-4a03-b1ab-60a8d840aa68",
   "metadata": {},
   "outputs": [],
   "source": [
    "from scipy.stats import spearmanr\n",
    "from collections import defaultdict"
   ]
  },
  {
   "cell_type": "code",
   "execution_count": 3,
   "id": "5b157e8a-f2c8-4902-b1b6-a9396f8bd047",
   "metadata": {},
   "outputs": [],
   "source": [
    "protein = '1fme'\n",
    "lag = 41\n",
    "top_n = -1\n"
   ]
  },
  {
   "cell_type": "code",
   "execution_count": 4,
   "id": "46eb9b45-eb24-4396-ba3d-7417732322f5",
   "metadata": {},
   "outputs": [],
   "source": [
    "summary_paths = [f'../{protein}/summary_batch1.h5', f'../{protein}/summary_batch2.h5']\n",
    "vamp_eqs = []\n",
    "for summary_path in summary_paths:\n",
    "    vamp_eqs.append(pd.read_hdf(summary_path, key='vamp_eqs'))\n",
    "vamp_eqs = pd.concat(vamp_eqs)\n",
    "# vamp_eqs.reset_index(inplace=True)"
   ]
  },
  {
   "cell_type": "code",
   "execution_count": 5,
   "id": "4123203b-5b4b-4def-a26d-68add6bb332d",
   "metadata": {
    "tags": []
   },
   "outputs": [],
   "source": [
    "vamp_eqs['rank'] = vamp_eqs.groupby(['lag', 'process'])['median'].rank(ascending=False)"
   ]
  },
  {
   "cell_type": "code",
   "execution_count": 6,
   "id": "f10845d5-68c0-4bb0-920c-95ef41699595",
   "metadata": {},
   "outputs": [],
   "source": [
    "vamp_eqs = vamp_eqs.loc[(vamp_eqs.lag == lag) & (vamp_eqs.process < 22), : ]"
   ]
  },
  {
   "cell_type": "code",
   "execution_count": 7,
   "id": "f430998a-3d69-4e44-bf0c-6a336facf09c",
   "metadata": {},
   "outputs": [],
   "source": [
    "def spearmans(df: pd.DataFrame, top: int = 95) -> pd.DataFrame: \n",
    "    procs = df.process.unique()\n",
    "    n_procs = len(procs)\n",
    "    results = defaultdict(list)\n",
    "    if top == -1: \n",
    "        top = df['rank'].max()\n",
    "#     ps = []\n",
    "    for i in range(n_procs):\n",
    "        i_proc = procs[i]\n",
    "        i_keep_ix = df.loc[(df['rank'] <= top) & (df.process == i_proc), 'hp_ix'].values\n",
    "        for j in range(n_procs): \n",
    "            j_proc = procs[j]\n",
    "            \n",
    "            j_keep_ix = df.loc[df.process  == j_proc, 'hp_ix']\n",
    "            \n",
    "            keep_ix = set(j_keep_ix).intersection(set(i_keep_ix))\n",
    "            \n",
    "            a = df.loc[(df.process == i_proc) & (df.hp_ix.isin(keep_ix)), 'median'].values\n",
    "            b = df.loc[(df.process == j_proc) & (df.hp_ix.isin(keep_ix)), 'median'].values\n",
    "\n",
    "            r, p = spearmanr(a, b)\n",
    "            results['i_proc'].append(i_proc)\n",
    "            results['j_proc'].append(j_proc)\n",
    "            results['r'].append(r)\n",
    "    df = pd.DataFrame(results)\n",
    "    df = df.pivot_table(values='r', index='i_proc', columns='j_proc')\n",
    "    return df"
   ]
  },
  {
   "cell_type": "code",
   "execution_count": 15,
   "id": "7e262a6f-2467-4a66-903e-4b527532ee17",
   "metadata": {},
   "outputs": [
    {
     "data": {
      "image/png": "[encoded data removed]",
      "text/plain": [
       "<Figure size 216x216 with 2 Axes>"
      ]
     },
     "metadata": {
      "needs_background": "light"
     },
     "output_type": "display_data"
    }
   ],
   "source": [
    "with sns.plotting_context('paper', font_scale=1):\n",
    "    fig, axes = plt.subplots(1, 1, figsize=(3,3))\n",
    "    ax = axes\n",
    "    df = spearmans(vamp_eqs, top_n)\n",
    "\n",
    "\n",
    "    sns.heatmap(df*100, ax=ax, vmin=80, vmax=100, annot=False, \n",
    "                cmap='Greens', cbar=True, \n",
    "                annot_kws=dict(size='small'), square=True, fmt='2.0f', \n",
    "                cbar_kws=dict(shrink=0.6, label='Rank corr. coeff. (%)'))\n",
    "        \n",
    "    ax.tick_params(axis='x', rotation=30)\n",
    "    ax.tick_params(axis='y', rotation=30)      \n",
    "     \n",
    "    ax.set_xlabel('Process')\n",
    "    ax.set_ylabel('Process')\n",
    "                \n",
    "    plt.tight_layout()\n",
    "    plt.savefig(f'../{protein}/vampeq_rank_vs_proc.pdf', bbox_inches='tight')"
   ]
  },
  {
   "cell_type": "code",
   "execution_count": 10,
   "id": "e100d7bb-7156-4d48-a9f6-debf44b0c3c9",
   "metadata": {},
   "outputs": [],
   "source": [
    "df = vamp_eqs.loc[:, ['rank', 'process', 'hp_ix']]\n",
    "df = df.loc[df.process < 22, : ]\n",
    "col_vars = np.sort(df.process.unique())\n",
    "col_vars = [f\"Process {x}\" for x in col_vars]\n",
    "df['process'] = df['process'].apply(lambda x: f\"Process {x}\")\n",
    "\n",
    "with sns.plotting_context('paper', font_scale=2): \n",
    "    g = sns.pairplot(df.pivot(index='hp_ix', columns='process', values='rank'), vars=col_vars, corner=True,diag_kind=None)\n",
    "\n",
    "    plt.savefig(f'../{protein}/vampeq_rank_vs_proc_pairplot.pdf', bbox_inches='tight')      \n",
    "    plt.close()"
   ]
  },
  {
   "cell_type": "code",
   "execution_count": null,
   "id": "e9d59dce-8fef-4c13-b4ea-e093a5ccdec4",
   "metadata": {},
   "outputs": [],
   "source": []
  }
 ],
 "metadata": {
  "kernelspec": {
   "display_name": "Python 3 (ipykernel)",
   "language": "python",
   "name": "python3"
  },
  "language_info": {
   "codemirror_mode": {
    "name": "ipython",
    "version": 3
   },
   "file_extension": ".py",
   "mimetype": "text/x-python",
   "name": "python",
   "nbconvert_exporter": "python",
   "pygments_lexer": "ipython3",
   "version": "3.8.0"
  }
 },
 "nbformat": 4,
 "nbformat_minor": 5
}
