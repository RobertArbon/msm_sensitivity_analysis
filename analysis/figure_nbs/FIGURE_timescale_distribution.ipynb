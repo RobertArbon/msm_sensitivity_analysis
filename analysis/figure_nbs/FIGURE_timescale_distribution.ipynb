{
 "cells": [
  {
   "cell_type": "code",
   "execution_count": 18,
   "id": "2b7c64bf-9c3d-46f4-aa4d-d1e78ea7d8f6",
   "metadata": {},
   "outputs": [],
   "source": [
    "import matplotlib.pyplot as plt\n",
    "import pandas as pd\n",
    "import numpy as np\n",
    "import seaborn as sns\n",
    "import matplotlib as mpl"
   ]
  },
  {
   "cell_type": "code",
   "execution_count": 19,
   "id": "c4d46f69-1828-4072-a6ba-171933135f54",
   "metadata": {},
   "outputs": [],
   "source": [
    "protein = '1fme'\n",
    "md_t2 = {'1fme': 18*1000}\n",
    "lag = 41\n",
    "process = 2\n"
   ]
  },
  {
   "cell_type": "code",
   "execution_count": 20,
   "id": "6f69e37d-a8e1-4f1e-b536-0c9fd5dd3c1d",
   "metadata": {},
   "outputs": [],
   "source": [
    "summary_paths = [f'../{protein}/summary_batch1.h5', f'../{protein}/summary_batch2.h5']\n",
    "\n",
    "hp_paths = ['../../experiments/hpsample.h5', '../../experiments/new_hpsample.h5']\n",
    "hps = []\n",
    "for hp_path in hp_paths:\n",
    "    hp = pd.read_hdf(hp_path)\n",
    "    hp.reset_index(inplace=True)\n",
    "    hps.append(hp)\n",
    "hps = pd.concat(hps)\n",
    "\n",
    "timescales = []\n",
    "for summary_path in summary_paths: \n",
    "    tmp = pd.read_hdf(summary_path, key='timescales')\n",
    "    tmp.reset_index(inplace=True)\n",
    "    timescales.append(tmp)\n",
    "timescales = pd.concat(timescales, axis=0)\n",
    "    \n",
    "timescales = timescales.merge(hps, on=['hp_ix'], how='left')\n",
    "timescales['feature'] = timescales.apply(lambda x: f\"{x['feature__value']}\" if x['feature__value'] =='dihedrals' else f\"{x['distances__transform']}-{x['feature__value']}\", axis=1)"
   ]
  },
  {
   "cell_type": "code",
   "execution_count": 21,
   "id": "587bf190-bcf2-4a4b-9502-5521014bc199",
   "metadata": {},
   "outputs": [],
   "source": [
    "data=timescales.query(\"process==2\").query('lag==41')\n",
    "data.sort_values(by='median', inplace=True, axis=0, ascending=False)\n",
    "data['rank'] = (np.arange(data.shape[0])+1).astype(int)"
   ]
  },
  {
   "cell_type": "code",
   "execution_count": 31,
   "id": "9c5fbe7c-b67f-4a28-be46-9bcd5c280a63",
   "metadata": {},
   "outputs": [],
   "source": [
    "short_names = {'dihedrals': 'dihed.','logistic-distances': 'logit(dist.)', 'linear-distances': \n",
    "              'dist.'}\n",
    "\n",
    "def f(x):\n",
    "    for short, long in short_names.items(): \n",
    "        x = x.replace(short, long)\n",
    "    return x\n",
    "\n",
    "data['feature'] = data['feature'].apply(f)\n",
    "timescales['feature'] = timescales['feature'].apply(f)"
   ]
  },
  {
   "cell_type": "code",
   "execution_count": 32,
   "id": "7ffbf95c-646e-4ab9-9146-20e198d10cdf",
   "metadata": {},
   "outputs": [
    {
     "data": {
      "image/png": "[encoded data removed]",
      "text/plain": [
       "<Figure size 432x288 with 2 Axes>"
      ]
     },
     "metadata": {
      "needs_background": "light"
     },
     "output_type": "display_data"
    }
   ],
   "source": [
    "with sns.plotting_context('paper', font_scale=1):\n",
    "    cols = sns.color_palette('colorblind')\n",
    "    shapes = ['o', 'v', 's']\n",
    "    hp_ix_cutoff = 329 # the indices where the optimized trials start\n",
    "    \n",
    "    fig, axes = plt.subplots(2, 1, sharey=True, sharex=True, figsize=(6, 4))\n",
    "    for i, feat in enumerate(np.sort(timescales.feature.unique())): \n",
    "        # Pre optimization\n",
    "        ax = axes[0]\n",
    "        \n",
    "        ix = (data.feature==feat) & (data.hp_ix < hp_ix_cutoff) \n",
    "        y = data.loc[ix, 'median']\n",
    "        yerr = (y-data.loc[ix, 'lb'], data.loc[ix, 'ub']-y)\n",
    "        x = data.loc[ix, 'rank']\n",
    "        ax.errorbar(x, y, yerr, elinewidth=0.5, lw=0, marker=shapes[i], markersize=3, color=cols[i], label=feat)\n",
    "        \n",
    "        ax.set_ylabel('$t_{2}$ (ns)')\n",
    "        ax.set_yscale('log')\n",
    "        \n",
    "        ax.annotate(text=\"(a)\", xy=(0.02, 0.95), xycoords='axes fraction', ha='left', va='top')\n",
    "        \n",
    "\n",
    "         # Post optimization\n",
    "        ax = axes[1]\n",
    "        ix = (data.feature==feat) & (data.hp_ix >= hp_ix_cutoff) \n",
    "        y = data.loc[ix, 'median']\n",
    "        yerr = (y-data.loc[ix, 'lb'], data.loc[ix, 'ub']-y)\n",
    "        x = data.loc[ix, 'rank']\n",
    "        ax.errorbar(x, y, yerr, elinewidth=0.5, lw=0, marker=shapes[i], markersize=3, color=cols[i], label=feat)\n",
    "        \n",
    "        ix = (data.feature==feat) & (data.hp_ix < hp_ix_cutoff) \n",
    "        y = data.loc[ix, 'median']\n",
    "        yerr = (y-data.loc[ix, 'lb'], data.loc[ix, 'ub']-y)\n",
    "        x = data.loc[ix, 'rank']\n",
    "        ax.errorbar(x, y, yerr, elinewidth=0.5, lw=0, marker=shapes[i], \n",
    "                    markersize=3, color=cols[i], label=feat, alpha=0.25)\n",
    "\n",
    "        ax.set_xlabel('Trial rank (by timescale)')\n",
    "        ax.set_ylabel('$t_{2}$ (ns)')\n",
    "        ax.set_yscale('log')       \n",
    "        \n",
    "        ax.annotate(text=\"(b)\", xy=(0.02, 0.95), xycoords='axes fraction', ha='left', va='top')\n",
    "        \n",
    "    for ax in axes.flatten(): \n",
    "        xlim = ax.get_xlim()\n",
    "        ax.hlines(md_t2[protein], xlim[0], xlim[1], ls='dashed', color='k', label='MD estimate')\n",
    "        ax.set_xlim(xlim)\n",
    "        \n",
    "    \n",
    "    axes[0].legend(bbox_to_anchor=(1, 1), loc='upper right', ncol=2, framealpha=0.5, \n",
    "                   frameon=False)\n",
    "    plt.savefig(f'../{protein}/{protein}_timescales.pdf', bbox_inches='tight')"
   ]
  },
  {
   "cell_type": "code",
   "execution_count": 6,
   "id": "0fa6a5c0-09dd-4812-9dcb-68c37f204a9c",
   "metadata": {},
   "outputs": [
    {
     "data": {
      "text/plain": [
       "(2.580698985123864, 4.38223954718102)"
      ]
     },
     "execution_count": 6,
     "metadata": {},
     "output_type": "execute_result"
    }
   ],
   "source": [
    "np.log10(data['median'].min()), np.log10(data['median'].max())"
   ]
  },
  {
   "cell_type": "code",
   "execution_count": 7,
   "id": "67cf24b6-6b61-4160-a601-fac593f4aa6c",
   "metadata": {},
   "outputs": [
    {
     "data": {
      "text/plain": [
       "(0.4965986394557823, 73)"
      ]
     },
     "execution_count": 7,
     "metadata": {},
     "output_type": "execute_result"
    }
   ],
   "source": [
    "np.mean(data['ub']>md_t2[protein]), np.sum(data['ub']>md_t2[protein]), "
   ]
  },
  {
   "cell_type": "code",
   "execution_count": 8,
   "id": "889fcacb-8f9d-4d1f-a818-97df55a0fcf4",
   "metadata": {},
   "outputs": [
    {
     "data": {
      "text/plain": [
       "64511    33.957503\n",
       "67261    33.957503\n",
       "68361    33.346834\n",
       "67811    33.346834\n",
       "65611    31.528225\n",
       "Name: median, dtype: float64"
      ]
     },
     "execution_count": 8,
     "metadata": {},
     "output_type": "execute_result"
    }
   ],
   "source": [
    "((data['median']/md_t2[protein]-1)*100).head()"
   ]
  },
  {
   "cell_type": "code",
   "execution_count": 9,
   "id": "132ae42e-9cf5-4c27-b8fc-291adf1a86cd",
   "metadata": {},
   "outputs": [
    {
     "data": {
      "text/plain": [
       "64511    24112.350456\n",
       "67261    24112.350456\n",
       "68361    24002.430197\n",
       "67811    24002.430197\n",
       "65611    23675.080545\n",
       "Name: median, dtype: float64"
      ]
     },
     "execution_count": 9,
     "metadata": {},
     "output_type": "execute_result"
    }
   ],
   "source": [
    "data['median'].head()"
   ]
  },
  {
   "cell_type": "code",
   "execution_count": 11,
   "id": "2958ddc7-a99f-42b7-8d6f-1c6b56dea030",
   "metadata": {},
   "outputs": [
    {
     "data": {
      "text/html": [
       "<div>\n",
       "<style scoped>\n",
       "    .dataframe tbody tr th:only-of-type {\n",
       "        vertical-align: middle;\n",
       "    }\n",
       "\n",
       "    .dataframe tbody tr th {\n",
       "        vertical-align: top;\n",
       "    }\n",
       "\n",
       "    .dataframe thead th {\n",
       "        text-align: right;\n",
       "    }\n",
       "</style>\n",
       "<table border=\"1\" class=\"dataframe\">\n",
       "  <thead>\n",
       "    <tr style=\"text-align: right;\">\n",
       "      <th></th>\n",
       "      <th>hp_ix</th>\n",
       "      <th>median</th>\n",
       "      <th>tica__dim</th>\n",
       "      <th>tica__lag</th>\n",
       "      <th>cluster__k</th>\n",
       "      <th>distances__steepness</th>\n",
       "      <th>distances__centre</th>\n",
       "    </tr>\n",
       "  </thead>\n",
       "  <tbody>\n",
       "    <tr>\n",
       "      <th>64511</th>\n",
       "      <td>333</td>\n",
       "      <td>24112.350456</td>\n",
       "      <td>16</td>\n",
       "      <td>38</td>\n",
       "      <td>469</td>\n",
       "      <td>5.967568</td>\n",
       "      <td>0.700806</td>\n",
       "    </tr>\n",
       "    <tr>\n",
       "      <th>67261</th>\n",
       "      <td>331</td>\n",
       "      <td>24112.350456</td>\n",
       "      <td>17</td>\n",
       "      <td>38</td>\n",
       "      <td>459</td>\n",
       "      <td>5.967568</td>\n",
       "      <td>0.700806</td>\n",
       "    </tr>\n",
       "    <tr>\n",
       "      <th>68361</th>\n",
       "      <td>329</td>\n",
       "      <td>24002.430197</td>\n",
       "      <td>17</td>\n",
       "      <td>38</td>\n",
       "      <td>469</td>\n",
       "      <td>5.967568</td>\n",
       "      <td>0.700806</td>\n",
       "    </tr>\n",
       "    <tr>\n",
       "      <th>67811</th>\n",
       "      <td>332</td>\n",
       "      <td>24002.430197</td>\n",
       "      <td>17</td>\n",
       "      <td>38</td>\n",
       "      <td>489</td>\n",
       "      <td>5.967568</td>\n",
       "      <td>0.700806</td>\n",
       "    </tr>\n",
       "    <tr>\n",
       "      <th>65611</th>\n",
       "      <td>335</td>\n",
       "      <td>23675.080545</td>\n",
       "      <td>19</td>\n",
       "      <td>38</td>\n",
       "      <td>479</td>\n",
       "      <td>5.967568</td>\n",
       "      <td>0.700806</td>\n",
       "    </tr>\n",
       "    <tr>\n",
       "      <th>66161</th>\n",
       "      <td>338</td>\n",
       "      <td>23363.471334</td>\n",
       "      <td>19</td>\n",
       "      <td>38</td>\n",
       "      <td>469</td>\n",
       "      <td>5.967568</td>\n",
       "      <td>0.700806</td>\n",
       "    </tr>\n",
       "    <tr>\n",
       "      <th>63411</th>\n",
       "      <td>330</td>\n",
       "      <td>23363.471334</td>\n",
       "      <td>17</td>\n",
       "      <td>38</td>\n",
       "      <td>479</td>\n",
       "      <td>5.967568</td>\n",
       "      <td>0.700806</td>\n",
       "    </tr>\n",
       "    <tr>\n",
       "      <th>62861</th>\n",
       "      <td>336</td>\n",
       "      <td>22784.212602</td>\n",
       "      <td>18</td>\n",
       "      <td>38</td>\n",
       "      <td>469</td>\n",
       "      <td>5.967568</td>\n",
       "      <td>0.700806</td>\n",
       "    </tr>\n",
       "    <tr>\n",
       "      <th>63961</th>\n",
       "      <td>334</td>\n",
       "      <td>22371.078033</td>\n",
       "      <td>18</td>\n",
       "      <td>38</td>\n",
       "      <td>479</td>\n",
       "      <td>5.967568</td>\n",
       "      <td>0.700806</td>\n",
       "    </tr>\n",
       "    <tr>\n",
       "      <th>66711</th>\n",
       "      <td>339</td>\n",
       "      <td>20898.344072</td>\n",
       "      <td>16</td>\n",
       "      <td>55</td>\n",
       "      <td>469</td>\n",
       "      <td>5.967568</td>\n",
       "      <td>0.700806</td>\n",
       "    </tr>\n",
       "    <tr>\n",
       "      <th>54876</th>\n",
       "      <td>24</td>\n",
       "      <td>20430.946382</td>\n",
       "      <td>20</td>\n",
       "      <td>60</td>\n",
       "      <td>471</td>\n",
       "      <td>6.081760</td>\n",
       "      <td>0.224891</td>\n",
       "    </tr>\n",
       "    <tr>\n",
       "      <th>65061</th>\n",
       "      <td>337</td>\n",
       "      <td>20369.329981</td>\n",
       "      <td>17</td>\n",
       "      <td>55</td>\n",
       "      <td>469</td>\n",
       "      <td>5.967568</td>\n",
       "      <td>0.700806</td>\n",
       "    </tr>\n",
       "  </tbody>\n",
       "</table>\n",
       "</div>"
      ],
      "text/plain": [
       "       hp_ix        median  tica__dim  tica__lag  cluster__k  \\\n",
       "64511    333  24112.350456         16         38         469   \n",
       "67261    331  24112.350456         17         38         459   \n",
       "68361    329  24002.430197         17         38         469   \n",
       "67811    332  24002.430197         17         38         489   \n",
       "65611    335  23675.080545         19         38         479   \n",
       "66161    338  23363.471334         19         38         469   \n",
       "63411    330  23363.471334         17         38         479   \n",
       "62861    336  22784.212602         18         38         469   \n",
       "63961    334  22371.078033         18         38         479   \n",
       "66711    339  20898.344072         16         55         469   \n",
       "54876     24  20430.946382         20         60         471   \n",
       "65061    337  20369.329981         17         55         469   \n",
       "\n",
       "       distances__steepness  distances__centre  \n",
       "64511              5.967568           0.700806  \n",
       "67261              5.967568           0.700806  \n",
       "68361              5.967568           0.700806  \n",
       "67811              5.967568           0.700806  \n",
       "65611              5.967568           0.700806  \n",
       "66161              5.967568           0.700806  \n",
       "63411              5.967568           0.700806  \n",
       "62861              5.967568           0.700806  \n",
       "63961              5.967568           0.700806  \n",
       "66711              5.967568           0.700806  \n",
       "54876              6.081760           0.224891  \n",
       "65061              5.967568           0.700806  "
      ]
     },
     "execution_count": 11,
     "metadata": {},
     "output_type": "execute_result"
    }
   ],
   "source": [
    "data.loc[data['median'] > 15000, ['hp_ix', 'median', 'tica__dim', 'tica__lag', 'cluster__k', \n",
    "                                 'distances__steepness', 'distances__centre']]"
   ]
  },
  {
   "cell_type": "code",
   "execution_count": null,
   "id": "0e7dfeef-11bb-45b5-81d3-1780b97c6204",
   "metadata": {},
   "outputs": [],
   "source": []
  }
 ],
 "metadata": {
  "kernelspec": {
   "display_name": "Python 3 (ipykernel)",
   "language": "python",
   "name": "python3"
  },
  "language_info": {
   "codemirror_mode": {
    "name": "ipython",
    "version": 3
   },
   "file_extension": ".py",
   "mimetype": "text/x-python",
   "name": "python",
   "nbconvert_exporter": "python",
   "pygments_lexer": "ipython3",
   "version": "3.8.0"
  }
 },
 "nbformat": 4,
 "nbformat_minor": 5
}
