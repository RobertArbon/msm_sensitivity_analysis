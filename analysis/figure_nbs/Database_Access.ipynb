{
 "cells": [
  {
   "cell_type": "code",
   "execution_count": 2,
   "id": "2b7c64bf-9c3d-46f4-aa4d-d1e78ea7d8f6",
   "metadata": {},
   "outputs": [],
   "source": [
    "import matplotlib.pyplot as plt\n",
    "import pandas as pd\n",
    "import numpy as np\n",
    "import seaborn as sns\n",
    "import matplotlib as mpl"
   ]
  },
  {
   "cell_type": "code",
   "execution_count": 3,
   "id": "c4d46f69-1828-4072-a6ba-171933135f54",
   "metadata": {},
   "outputs": [],
   "source": [
    "protein = '1fme'\n",
    "# md_t2 = {'1fme': 18*1000}\n",
    "lag = 41\n",
    "process = 2\n"
   ]
  },
  {
   "cell_type": "code",
   "execution_count": 4,
   "id": "9ccd6de6-9ce7-4434-9f31-4ccfa9efe2c6",
   "metadata": {},
   "outputs": [],
   "source": [
    "summary_1fme = '/Users/robertarbon/Library/CloudStorage/GoogleDrive-robert.arbon@gmail.com/My Drive/msm_optimisation/1fme/summary.h5'\n",
    "summary_cln = '/Users/robertarbon/Library/CloudStorage/GoogleDrive-robert.arbon@gmail.com/My Drive/msm_optimisation/msm_opt/CLN/summary.h5'\n",
    "hp_path = '/Users/robertarbon/Library/CloudStorage/GoogleDrive-robert.arbon@gmail.com/My Drive/msm_optimisation/hpsample.h5'"
   ]
  },
  {
   "cell_type": "code",
   "execution_count": 5,
   "id": "7c4e8b41-ba24-46eb-a59f-538c641252c2",
   "metadata": {},
   "outputs": [],
   "source": [
    "\n",
    "def get_timescales(hp_path, summary_path):\n",
    "\n",
    "    hp = pd.read_hdf(hp_path)\n",
    "    hp.reset_index(inplace=True)\n",
    "    for drop_col in ['index', 'Group']:\n",
    "        if drop_col in hp.columns:\n",
    "            hp.drop(labels=[drop_col], inplace=True, axis=1)\n",
    "    \n",
    "    \n",
    "    timescales = pd.read_hdf(summary_path, key='timescales')\n",
    "    timescales.reset_index(inplace=True)\n",
    "    for drop_col in ['index', 'Group']:\n",
    "        if drop_col in timescales.columns:\n",
    "            timescales.drop(labels=[drop_col], inplace=True, axis=1)\n",
    "    \n",
    "    timescales = timescales.merge(hp, on=['hp_ix'], how='left')\n",
    "    timescales['feature'] = timescales.apply(lambda x: f\"{x['feature__value']}\" if x['feature__value'] =='dihedrals' else f\"{x['distances__transform']}-{x['feature__value']}\", axis=1)\n",
    "    print(timescales.shape)\n",
    "    timescales.drop_duplicates(inplace=True)\n",
    "    print(timescales.shape)\n",
    "    timescales = timescales.loc[timescales.hp_ix < 329, :].copy()\n",
    "\n",
    "    data=timescales.query(\"process==2\").query('lag==41')\n",
    "    data.sort_values(by='median', inplace=True, axis=0, ascending=False)\n",
    "    data['rank'] = (np.arange(data.shape[0])+1).astype(int)\n",
    "\n",
    "    short_names = {'dihedrals': 'dihed.','logistic-distances': 'logit(dist.)', 'linear-distances': \n",
    "              'dist.'}\n",
    "\n",
    "    def f(x):\n",
    "        for short, long in short_names.items(): \n",
    "            x = x.replace(short, long)\n",
    "        return x\n",
    "    \n",
    "    data['feature'] = data['feature'].apply(f)\n",
    "    # timescales['feature'] = timescales['feature'].apply(f)\n",
    "    return data\n"
   ]
  },
  {
   "cell_type": "code",
   "execution_count": 6,
   "id": "9142e2c4-2891-4ff0-9632-4efa36aec016",
   "metadata": {
    "scrolled": true
   },
   "outputs": [
    {
     "name": "stdout",
     "output_type": "stream",
     "text": [
      "(68711, 21)\n",
      "(68711, 21)\n",
      "(4979, 21)\n",
      "(4979, 21)\n"
     ]
    }
   ],
   "source": [
    "data_dict = {'BBA': get_timescales(hp_path, summary_1fme), \n",
    "        'CLN025': get_timescales(hp_path, summary_cln)}"
   ]
  },
  {
   "cell_type": "code",
   "execution_count": 7,
   "id": "b878ae45-4624-4830-b498-eed264475fc4",
   "metadata": {},
   "outputs": [],
   "source": [
    "data = data_dict['BBA']"
   ]
  },
  {
   "cell_type": "code",
   "execution_count": 8,
   "id": "5416fff3-dd70-4616-b092-6fe69873e533",
   "metadata": {
    "scrolled": true
   },
   "outputs": [
    {
     "data": {
      "text/html": [
       "<div>\n",
       "<style scoped>\n",
       "    .dataframe tbody tr th:only-of-type {\n",
       "        vertical-align: middle;\n",
       "    }\n",
       "\n",
       "    .dataframe tbody tr th {\n",
       "        vertical-align: top;\n",
       "    }\n",
       "\n",
       "    .dataframe thead th {\n",
       "        text-align: right;\n",
       "    }\n",
       "</style>\n",
       "<table border=\"1\" class=\"dataframe\">\n",
       "  <thead>\n",
       "    <tr style=\"text-align: right;\">\n",
       "      <th></th>\n",
       "      <th>median</th>\n",
       "      <th>lb</th>\n",
       "      <th>ub</th>\n",
       "      <th>hp_ix</th>\n",
       "      <th>distances__scheme</th>\n",
       "      <th>tica__dim</th>\n",
       "      <th>tica__lag</th>\n",
       "      <th>cluster__k</th>\n",
       "      <th>distances__steepness</th>\n",
       "      <th>distances__centre</th>\n",
       "    </tr>\n",
       "  </thead>\n",
       "  <tbody>\n",
       "    <tr>\n",
       "      <th>59276</th>\n",
       "      <td>20430.946382</td>\n",
       "      <td>2322.090873</td>\n",
       "      <td>176211.392199</td>\n",
       "      <td>24</td>\n",
       "      <td>ca</td>\n",
       "      <td>20.0</td>\n",
       "      <td>60.0</td>\n",
       "      <td>471.0</td>\n",
       "      <td>6.081760</td>\n",
       "      <td>0.224891</td>\n",
       "    </tr>\n",
       "    <tr>\n",
       "      <th>14941</th>\n",
       "      <td>9658.132641</td>\n",
       "      <td>2085.490379</td>\n",
       "      <td>188712.937937</td>\n",
       "      <td>262</td>\n",
       "      <td>ca</td>\n",
       "      <td>18.0</td>\n",
       "      <td>67.0</td>\n",
       "      <td>289.0</td>\n",
       "      <td>29.030558</td>\n",
       "      <td>0.798204</td>\n",
       "    </tr>\n",
       "    <tr>\n",
       "      <th>43168</th>\n",
       "      <td>8025.668786</td>\n",
       "      <td>2365.043846</td>\n",
       "      <td>194255.915039</td>\n",
       "      <td>235</td>\n",
       "      <td>ca</td>\n",
       "      <td>19.0</td>\n",
       "      <td>90.0</td>\n",
       "      <td>499.0</td>\n",
       "      <td>21.897952</td>\n",
       "      <td>0.859444</td>\n",
       "    </tr>\n",
       "    <tr>\n",
       "      <th>47727</th>\n",
       "      <td>7986.882735</td>\n",
       "      <td>2260.804189</td>\n",
       "      <td>170044.563505</td>\n",
       "      <td>241</td>\n",
       "      <td>ca</td>\n",
       "      <td>13.0</td>\n",
       "      <td>94.0</td>\n",
       "      <td>452.0</td>\n",
       "      <td>21.715837</td>\n",
       "      <td>0.811137</td>\n",
       "    </tr>\n",
       "    <tr>\n",
       "      <th>39675</th>\n",
       "      <td>7753.871000</td>\n",
       "      <td>2201.046421</td>\n",
       "      <td>104722.664950</td>\n",
       "      <td>157</td>\n",
       "      <td>closest-heavy</td>\n",
       "      <td>19.0</td>\n",
       "      <td>20.0</td>\n",
       "      <td>459.0</td>\n",
       "      <td>5.967568</td>\n",
       "      <td>0.740145</td>\n",
       "    </tr>\n",
       "    <tr>\n",
       "      <th>16322</th>\n",
       "      <td>7222.019294</td>\n",
       "      <td>2235.302541</td>\n",
       "      <td>90057.644710</td>\n",
       "      <td>175</td>\n",
       "      <td>closest-heavy</td>\n",
       "      <td>20.0</td>\n",
       "      <td>22.0</td>\n",
       "      <td>489.0</td>\n",
       "      <td>42.553700</td>\n",
       "      <td>0.591785</td>\n",
       "    </tr>\n",
       "    <tr>\n",
       "      <th>33298</th>\n",
       "      <td>6602.145996</td>\n",
       "      <td>2427.443526</td>\n",
       "      <td>150356.909967</td>\n",
       "      <td>85</td>\n",
       "      <td>ca</td>\n",
       "      <td>19.0</td>\n",
       "      <td>52.0</td>\n",
       "      <td>485.0</td>\n",
       "      <td>0.000000</td>\n",
       "      <td>0.000000</td>\n",
       "    </tr>\n",
       "    <tr>\n",
       "      <th>36048</th>\n",
       "      <td>6323.108619</td>\n",
       "      <td>2133.143713</td>\n",
       "      <td>111124.015002</td>\n",
       "      <td>34</td>\n",
       "      <td>closest-heavy</td>\n",
       "      <td>16.0</td>\n",
       "      <td>72.0</td>\n",
       "      <td>483.0</td>\n",
       "      <td>15.093771</td>\n",
       "      <td>0.760758</td>\n",
       "    </tr>\n",
       "    <tr>\n",
       "      <th>5980</th>\n",
       "      <td>6315.704964</td>\n",
       "      <td>2319.850066</td>\n",
       "      <td>121772.775786</td>\n",
       "      <td>272</td>\n",
       "      <td>closest-heavy</td>\n",
       "      <td>18.0</td>\n",
       "      <td>4.0</td>\n",
       "      <td>489.0</td>\n",
       "      <td>27.670355</td>\n",
       "      <td>0.543858</td>\n",
       "    </tr>\n",
       "    <tr>\n",
       "      <th>64368</th>\n",
       "      <td>6153.855999</td>\n",
       "      <td>2059.476524</td>\n",
       "      <td>120791.299517</td>\n",
       "      <td>88</td>\n",
       "      <td>ca</td>\n",
       "      <td>12.0</td>\n",
       "      <td>34.0</td>\n",
       "      <td>245.0</td>\n",
       "      <td>4.939269</td>\n",
       "      <td>0.224174</td>\n",
       "    </tr>\n",
       "    <tr>\n",
       "      <th>55100</th>\n",
       "      <td>5981.744305</td>\n",
       "      <td>2128.781676</td>\n",
       "      <td>110041.098802</td>\n",
       "      <td>16</td>\n",
       "      <td>ca</td>\n",
       "      <td>15.0</td>\n",
       "      <td>23.0</td>\n",
       "      <td>244.0</td>\n",
       "      <td>10.790486</td>\n",
       "      <td>0.857421</td>\n",
       "    </tr>\n",
       "    <tr>\n",
       "      <th>45527</th>\n",
       "      <td>5452.640317</td>\n",
       "      <td>2388.188043</td>\n",
       "      <td>142700.596503</td>\n",
       "      <td>131</td>\n",
       "      <td>ca</td>\n",
       "      <td>18.0</td>\n",
       "      <td>39.0</td>\n",
       "      <td>380.0</td>\n",
       "      <td>0.000000</td>\n",
       "      <td>0.000000</td>\n",
       "    </tr>\n",
       "  </tbody>\n",
       "</table>\n",
       "</div>"
      ],
      "text/plain": [
       "             median           lb             ub  hp_ix distances__scheme  \\\n",
       "59276  20430.946382  2322.090873  176211.392199     24                ca   \n",
       "14941   9658.132641  2085.490379  188712.937937    262                ca   \n",
       "43168   8025.668786  2365.043846  194255.915039    235                ca   \n",
       "47727   7986.882735  2260.804189  170044.563505    241                ca   \n",
       "39675   7753.871000  2201.046421  104722.664950    157     closest-heavy   \n",
       "16322   7222.019294  2235.302541   90057.644710    175     closest-heavy   \n",
       "33298   6602.145996  2427.443526  150356.909967     85                ca   \n",
       "36048   6323.108619  2133.143713  111124.015002     34     closest-heavy   \n",
       "5980    6315.704964  2319.850066  121772.775786    272     closest-heavy   \n",
       "64368   6153.855999  2059.476524  120791.299517     88                ca   \n",
       "55100   5981.744305  2128.781676  110041.098802     16                ca   \n",
       "45527   5452.640317  2388.188043  142700.596503    131                ca   \n",
       "\n",
       "       tica__dim  tica__lag  cluster__k  distances__steepness  \\\n",
       "59276       20.0       60.0       471.0              6.081760   \n",
       "14941       18.0       67.0       289.0             29.030558   \n",
       "43168       19.0       90.0       499.0             21.897952   \n",
       "47727       13.0       94.0       452.0             21.715837   \n",
       "39675       19.0       20.0       459.0              5.967568   \n",
       "16322       20.0       22.0       489.0             42.553700   \n",
       "33298       19.0       52.0       485.0              0.000000   \n",
       "36048       16.0       72.0       483.0             15.093771   \n",
       "5980        18.0        4.0       489.0             27.670355   \n",
       "64368       12.0       34.0       245.0              4.939269   \n",
       "55100       15.0       23.0       244.0             10.790486   \n",
       "45527       18.0       39.0       380.0              0.000000   \n",
       "\n",
       "       distances__centre  \n",
       "59276           0.224891  \n",
       "14941           0.798204  \n",
       "43168           0.859444  \n",
       "47727           0.811137  \n",
       "39675           0.740145  \n",
       "16322           0.591785  \n",
       "33298           0.000000  \n",
       "36048           0.760758  \n",
       "5980            0.543858  \n",
       "64368           0.224174  \n",
       "55100           0.857421  \n",
       "45527           0.000000  "
      ]
     },
     "execution_count": 8,
     "metadata": {},
     "output_type": "execute_result"
    }
   ],
   "source": [
    "data.sort_values(by='median', ascending=False).loc[:, ['median', 'lb', 'ub',  'hp_ix','distances__scheme', 'tica__dim', 'tica__lag', 'cluster__k', 'distances__steepness', 'distances__centre']].head(12)"
   ]
  },
  {
   "cell_type": "code",
   "execution_count": 69,
   "id": "2d80a529-9a85-4f59-b0be-8906a0264ad9",
   "metadata": {},
   "outputs": [
    {
     "data": {
      "text/html": [
       "<div>\n",
       "<style scoped>\n",
       "    .dataframe tbody tr th:only-of-type {\n",
       "        vertical-align: middle;\n",
       "    }\n",
       "\n",
       "    .dataframe tbody tr th {\n",
       "        vertical-align: top;\n",
       "    }\n",
       "\n",
       "    .dataframe thead th {\n",
       "        text-align: right;\n",
       "    }\n",
       "</style>\n",
       "<table border=\"1\" class=\"dataframe\">\n",
       "  <thead>\n",
       "    <tr style=\"text-align: right;\">\n",
       "      <th></th>\n",
       "      <th>median</th>\n",
       "      <th>lb</th>\n",
       "      <th>ub</th>\n",
       "      <th>hp_ix</th>\n",
       "      <th>distances__scheme</th>\n",
       "      <th>tica__dim</th>\n",
       "      <th>tica__lag</th>\n",
       "      <th>cluster__k</th>\n",
       "      <th>distances__steepness</th>\n",
       "      <th>distances__centre</th>\n",
       "    </tr>\n",
       "  </thead>\n",
       "  <tbody>\n",
       "    <tr>\n",
       "      <th>40491</th>\n",
       "      <td>2002.76713</td>\n",
       "      <td>1710.990951</td>\n",
       "      <td>2962.403914</td>\n",
       "      <td>227</td>\n",
       "      <td>closest-heavy</td>\n",
       "      <td>3.0</td>\n",
       "      <td>25.0</td>\n",
       "      <td>169.0</td>\n",
       "      <td>1.653668</td>\n",
       "      <td>0.864427</td>\n",
       "    </tr>\n",
       "  </tbody>\n",
       "</table>\n",
       "</div>"
      ],
      "text/plain": [
       "           median           lb           ub  hp_ix distances__scheme  \\\n",
       "40491  2002.76713  1710.990951  2962.403914    227     closest-heavy   \n",
       "\n",
       "       tica__dim  tica__lag  cluster__k  distances__steepness  \\\n",
       "40491        3.0       25.0       169.0              1.653668   \n",
       "\n",
       "       distances__centre  \n",
       "40491           0.864427  "
      ]
     },
     "execution_count": 69,
     "metadata": {},
     "output_type": "execute_result"
    }
   ],
   "source": [
    "data.query('hp_ix==227').loc[:,  ['median', 'lb', 'ub',  'hp_ix','distances__scheme', \n",
    "                                       'tica__dim', 'tica__lag', 'cluster__k', 'distances__steepness', \n",
    "                                       'distances__centre']]"
   ]
  },
  {
   "cell_type": "code",
   "execution_count": 52,
   "id": "10af4475-4236-4128-bcb6-3e79ab6e4694",
   "metadata": {},
   "outputs": [],
   "source": [
    "def label(x): \n",
    "    # msg = f\"\\SI{{{x['median']/1000:3.1f}}}{{\\{'micro'}\\{'second'}}}\" \n",
    "    # msg += ' \\\\\\ '\n",
    "    # msg += f\"(\\SIrange{{{x['lb']/1000:3.1f}}}{{{x['ub']/1000:3.1f}}}{{\\{'micro'}\\{'second'}}})\"\n",
    "    msg = f\"\\makecell[tc]{{{x['median']/1000:3.1f} \\\\\\ ({x['lb']/1000:3.1f}, {x['ub']/1000:3.1f})}}\"\n",
    "    return msg\n",
    "    "
   ]
  },
  {
   "cell_type": "code",
   "execution_count": 67,
   "id": "4b2423b2-0bfe-44d9-9ac0-e449a46acceb",
   "metadata": {},
   "outputs": [
    {
     "name": "stdout",
     "output_type": "stream",
     "text": [
      "\\makecell[tc]{6.6 \\\\ (2.4, 150.4)}\n"
     ]
    }
   ],
   "source": [
    "print(data.query('hp_ix==85').apply(label, axis=1).values[0])"
   ]
  },
  {
   "cell_type": "code",
   "execution_count": 45,
   "id": "72378ef8-7bc9-4598-b903-7a8d27029d59",
   "metadata": {},
   "outputs": [
    {
     "data": {
      "text/plain": [
       "[<matplotlib.lines.Line2D at 0x7fe07b858b20>]"
      ]
     },
     "execution_count": 45,
     "metadata": {},
     "output_type": "execute_result"
    },
    {
     "data": {
      "image/png": "[encoded data removed]",
      "text/plain": [
       "<Figure size 432x288 with 1 Axes>"
      ]
     },
     "metadata": {
      "needs_background": "light"
     },
     "output_type": "display_data"
    }
   ],
   "source": [
    "x = np.linspace(0, 1.5)\n",
    "y1 = 1/(1+np.exp(-6.1*(x - 0.22)))\n",
    "y2 = 1/(1+np.exp(-6.0*(x-0.70)))\n",
    "plt.plot(x*10, y1)\n",
    "plt.plot(x*10, y2)"
   ]
  },
  {
   "cell_type": "code",
   "execution_count": 6,
   "id": "0fa6a5c0-09dd-4812-9dcb-68c37f204a9c",
   "metadata": {},
   "outputs": [
    {
     "data": {
      "text/plain": [
       "(2.580698985123864, 4.38223954718102)"
      ]
     },
     "execution_count": 6,
     "metadata": {},
     "output_type": "execute_result"
    }
   ],
   "source": [
    "np.log10(data['median'].min()), np.log10(data['median'].max())"
   ]
  },
  {
   "cell_type": "code",
   "execution_count": 7,
   "id": "67cf24b6-6b61-4160-a601-fac593f4aa6c",
   "metadata": {},
   "outputs": [
    {
     "data": {
      "text/plain": [
       "(0.4965986394557823, 73)"
      ]
     },
     "execution_count": 7,
     "metadata": {},
     "output_type": "execute_result"
    }
   ],
   "source": [
    "np.mean(data['ub']>md_t2[protein]), np.sum(data['ub']>md_t2[protein]), "
   ]
  },
  {
   "cell_type": "code",
   "execution_count": 8,
   "id": "889fcacb-8f9d-4d1f-a818-97df55a0fcf4",
   "metadata": {},
   "outputs": [
    {
     "data": {
      "text/plain": [
       "64511    33.957503\n",
       "67261    33.957503\n",
       "68361    33.346834\n",
       "67811    33.346834\n",
       "65611    31.528225\n",
       "Name: median, dtype: float64"
      ]
     },
     "execution_count": 8,
     "metadata": {},
     "output_type": "execute_result"
    }
   ],
   "source": [
    "((data['median']/md_t2[protein]-1)*100).head()"
   ]
  },
  {
   "cell_type": "code",
   "execution_count": 9,
   "id": "132ae42e-9cf5-4c27-b8fc-291adf1a86cd",
   "metadata": {},
   "outputs": [
    {
     "data": {
      "text/plain": [
       "64511    24112.350456\n",
       "67261    24112.350456\n",
       "68361    24002.430197\n",
       "67811    24002.430197\n",
       "65611    23675.080545\n",
       "Name: median, dtype: float64"
      ]
     },
     "execution_count": 9,
     "metadata": {},
     "output_type": "execute_result"
    }
   ],
   "source": [
    "data['median'].head()"
   ]
  },
  {
   "cell_type": "code",
   "execution_count": 11,
   "id": "2958ddc7-a99f-42b7-8d6f-1c6b56dea030",
   "metadata": {},
   "outputs": [
    {
     "data": {
      "text/html": [
       "<div>\n",
       "<style scoped>\n",
       "    .dataframe tbody tr th:only-of-type {\n",
       "        vertical-align: middle;\n",
       "    }\n",
       "\n",
       "    .dataframe tbody tr th {\n",
       "        vertical-align: top;\n",
       "    }\n",
       "\n",
       "    .dataframe thead th {\n",
       "        text-align: right;\n",
       "    }\n",
       "</style>\n",
       "<table border=\"1\" class=\"dataframe\">\n",
       "  <thead>\n",
       "    <tr style=\"text-align: right;\">\n",
       "      <th></th>\n",
       "      <th>hp_ix</th>\n",
       "      <th>median</th>\n",
       "      <th>tica__dim</th>\n",
       "      <th>tica__lag</th>\n",
       "      <th>cluster__k</th>\n",
       "      <th>distances__steepness</th>\n",
       "      <th>distances__centre</th>\n",
       "    </tr>\n",
       "  </thead>\n",
       "  <tbody>\n",
       "    <tr>\n",
       "      <th>64511</th>\n",
       "      <td>333</td>\n",
       "      <td>24112.350456</td>\n",
       "      <td>16</td>\n",
       "      <td>38</td>\n",
       "      <td>469</td>\n",
       "      <td>5.967568</td>\n",
       "      <td>0.700806</td>\n",
       "    </tr>\n",
       "    <tr>\n",
       "      <th>67261</th>\n",
       "      <td>331</td>\n",
       "      <td>24112.350456</td>\n",
       "      <td>17</td>\n",
       "      <td>38</td>\n",
       "      <td>459</td>\n",
       "      <td>5.967568</td>\n",
       "      <td>0.700806</td>\n",
       "    </tr>\n",
       "    <tr>\n",
       "      <th>68361</th>\n",
       "      <td>329</td>\n",
       "      <td>24002.430197</td>\n",
       "      <td>17</td>\n",
       "      <td>38</td>\n",
       "      <td>469</td>\n",
       "      <td>5.967568</td>\n",
       "      <td>0.700806</td>\n",
       "    </tr>\n",
       "    <tr>\n",
       "      <th>67811</th>\n",
       "      <td>332</td>\n",
       "      <td>24002.430197</td>\n",
       "      <td>17</td>\n",
       "      <td>38</td>\n",
       "      <td>489</td>\n",
       "      <td>5.967568</td>\n",
       "      <td>0.700806</td>\n",
       "    </tr>\n",
       "    <tr>\n",
       "      <th>65611</th>\n",
       "      <td>335</td>\n",
       "      <td>23675.080545</td>\n",
       "      <td>19</td>\n",
       "      <td>38</td>\n",
       "      <td>479</td>\n",
       "      <td>5.967568</td>\n",
       "      <td>0.700806</td>\n",
       "    </tr>\n",
       "    <tr>\n",
       "      <th>66161</th>\n",
       "      <td>338</td>\n",
       "      <td>23363.471334</td>\n",
       "      <td>19</td>\n",
       "      <td>38</td>\n",
       "      <td>469</td>\n",
       "      <td>5.967568</td>\n",
       "      <td>0.700806</td>\n",
       "    </tr>\n",
       "    <tr>\n",
       "      <th>63411</th>\n",
       "      <td>330</td>\n",
       "      <td>23363.471334</td>\n",
       "      <td>17</td>\n",
       "      <td>38</td>\n",
       "      <td>479</td>\n",
       "      <td>5.967568</td>\n",
       "      <td>0.700806</td>\n",
       "    </tr>\n",
       "    <tr>\n",
       "      <th>62861</th>\n",
       "      <td>336</td>\n",
       "      <td>22784.212602</td>\n",
       "      <td>18</td>\n",
       "      <td>38</td>\n",
       "      <td>469</td>\n",
       "      <td>5.967568</td>\n",
       "      <td>0.700806</td>\n",
       "    </tr>\n",
       "    <tr>\n",
       "      <th>63961</th>\n",
       "      <td>334</td>\n",
       "      <td>22371.078033</td>\n",
       "      <td>18</td>\n",
       "      <td>38</td>\n",
       "      <td>479</td>\n",
       "      <td>5.967568</td>\n",
       "      <td>0.700806</td>\n",
       "    </tr>\n",
       "    <tr>\n",
       "      <th>66711</th>\n",
       "      <td>339</td>\n",
       "      <td>20898.344072</td>\n",
       "      <td>16</td>\n",
       "      <td>55</td>\n",
       "      <td>469</td>\n",
       "      <td>5.967568</td>\n",
       "      <td>0.700806</td>\n",
       "    </tr>\n",
       "    <tr>\n",
       "      <th>54876</th>\n",
       "      <td>24</td>\n",
       "      <td>20430.946382</td>\n",
       "      <td>20</td>\n",
       "      <td>60</td>\n",
       "      <td>471</td>\n",
       "      <td>6.081760</td>\n",
       "      <td>0.224891</td>\n",
       "    </tr>\n",
       "    <tr>\n",
       "      <th>65061</th>\n",
       "      <td>337</td>\n",
       "      <td>20369.329981</td>\n",
       "      <td>17</td>\n",
       "      <td>55</td>\n",
       "      <td>469</td>\n",
       "      <td>5.967568</td>\n",
       "      <td>0.700806</td>\n",
       "    </tr>\n",
       "  </tbody>\n",
       "</table>\n",
       "</div>"
      ],
      "text/plain": [
       "       hp_ix        median  tica__dim  tica__lag  cluster__k  \\\n",
       "64511    333  24112.350456         16         38         469   \n",
       "67261    331  24112.350456         17         38         459   \n",
       "68361    329  24002.430197         17         38         469   \n",
       "67811    332  24002.430197         17         38         489   \n",
       "65611    335  23675.080545         19         38         479   \n",
       "66161    338  23363.471334         19         38         469   \n",
       "63411    330  23363.471334         17         38         479   \n",
       "62861    336  22784.212602         18         38         469   \n",
       "63961    334  22371.078033         18         38         479   \n",
       "66711    339  20898.344072         16         55         469   \n",
       "54876     24  20430.946382         20         60         471   \n",
       "65061    337  20369.329981         17         55         469   \n",
       "\n",
       "       distances__steepness  distances__centre  \n",
       "64511              5.967568           0.700806  \n",
       "67261              5.967568           0.700806  \n",
       "68361              5.967568           0.700806  \n",
       "67811              5.967568           0.700806  \n",
       "65611              5.967568           0.700806  \n",
       "66161              5.967568           0.700806  \n",
       "63411              5.967568           0.700806  \n",
       "62861              5.967568           0.700806  \n",
       "63961              5.967568           0.700806  \n",
       "66711              5.967568           0.700806  \n",
       "54876              6.081760           0.224891  \n",
       "65061              5.967568           0.700806  "
      ]
     },
     "execution_count": 11,
     "metadata": {},
     "output_type": "execute_result"
    }
   ],
   "source": [
    "data.loc[data['median'] > 15000, ['hp_ix', 'median', 'tica__dim', 'tica__lag', 'cluster__k', \n",
    "                                 'distances__steepness', 'distances__centre']]"
   ]
  },
  {
   "cell_type": "code",
   "execution_count": null,
   "id": "0e7dfeef-11bb-45b5-81d3-1780b97c6204",
   "metadata": {},
   "outputs": [],
   "source": []
  }
 ],
 "metadata": {
  "kernelspec": {
   "display_name": "Python 3 (ipykernel)",
   "language": "python",
   "name": "python3"
  },
  "language_info": {
   "codemirror_mode": {
    "name": "ipython",
    "version": 3
   },
   "file_extension": ".py",
   "mimetype": "text/x-python",
   "name": "python",
   "nbconvert_exporter": "python",
   "pygments_lexer": "ipython3",
   "version": "3.10.0"
  }
 },
 "nbformat": 4,
 "nbformat_minor": 5
}
