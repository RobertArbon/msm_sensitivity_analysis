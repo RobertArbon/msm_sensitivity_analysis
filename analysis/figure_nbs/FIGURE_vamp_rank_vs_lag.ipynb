{
 "cells": [
  {
   "cell_type": "code",
   "execution_count": 1,
   "id": "b44c84c5-ef25-4499-8328-a5648ddc05d5",
   "metadata": {},
   "outputs": [],
   "source": [
    "import matplotlib.pyplot as plt\n",
    "import pandas as pd\n",
    "import numpy as np\n",
    "import seaborn as sns\n",
    "import matplotlib as mpl\n",
    "from typing import *\n",
    "from sensetools.plots import feature_labeller"
   ]
  },
  {
   "cell_type": "code",
   "execution_count": 2,
   "id": "35f833d7-8537-4a03-b1ab-60a8d840aa68",
   "metadata": {},
   "outputs": [],
   "source": [
    "from scipy.stats import spearmanr\n",
    "from collections import defaultdict"
   ]
  },
  {
   "cell_type": "code",
   "execution_count": 3,
   "id": "5b157e8a-f2c8-4902-b1b6-a9396f8bd047",
   "metadata": {},
   "outputs": [],
   "source": [
    "protein = '1fme'"
   ]
  },
  {
   "cell_type": "code",
   "execution_count": 4,
   "id": "46eb9b45-eb24-4396-ba3d-7417732322f5",
   "metadata": {},
   "outputs": [],
   "source": [
    "summary_paths = [f'../{protein}/summary_batch1.h5', f'../{protein}/summary_batch2.h5']\n",
    "vamp_eqs = []\n",
    "for summary_path in summary_paths:\n",
    "    vamp_eqs.append(pd.read_hdf(summary_path, key='vamp_eqs'))\n",
    "vamp_eqs = pd.concat(vamp_eqs)\n",
    "# vamp_eqs.reset_index(inplace=True)"
   ]
  },
  {
   "cell_type": "code",
   "execution_count": 5,
   "id": "4123203b-5b4b-4def-a26d-68add6bb332d",
   "metadata": {
    "tags": []
   },
   "outputs": [],
   "source": [
    "vamp_eqs['rank'] = vamp_eqs.groupby(['lag', 'process'])['median'].rank(ascending=False)"
   ]
  },
  {
   "cell_type": "code",
   "execution_count": 6,
   "id": "f430998a-3d69-4e44-bf0c-6a336facf09c",
   "metadata": {},
   "outputs": [],
   "source": [
    "def spearmans(df: pd.DataFrame, proc: int, top: int = 95) -> pd.DataFrame: \n",
    "    lags = df.lag.unique()\n",
    "    n_lags = len(lags)\n",
    "    results = defaultdict(list)\n",
    "    if top == -1: \n",
    "        top = df['rank'].max()\n",
    "        \n",
    "    for i in range(n_lags):\n",
    "        i_lag = lags[i]\n",
    "        i_keep_ix = df.loc[(df['rank'] <= top) & (df.lag == i_lag) & (df.process == proc), 'hp_ix'].values\n",
    "        ps = []\n",
    "        for j in range(n_lags): \n",
    "            i_lag, j_lag = lags[i], lags[j]\n",
    "            \n",
    "            j_keep_ix = df.loc[(df.lag == j_lag) & (df.process == proc), 'hp_ix']\n",
    "            keep_ix = set(i_keep_ix).intersection(set(j_keep_ix))\n",
    "            \n",
    "            a = df.loc[(df.lag == i_lag) & (df.process == proc) & (df.hp_ix.isin(keep_ix)), 'median'].values\n",
    "            b = df.loc[(df.lag == j_lag) & (df.process == proc) & (df.hp_ix.isin(keep_ix)), 'median'].values\n",
    "#             print(len(a), len(b))\n",
    "            r, p = spearmanr(a, b)\n",
    "            ps.append(p)\n",
    "            results['i_lag'].append(i_lag)\n",
    "            results['j_lag'].append(j_lag)\n",
    "            results['r'].append(r)\n",
    "#         print(np.mean(p)>0.05)\n",
    "    df = pd.DataFrame(results)\n",
    "    df = df.pivot_table(values='r', index='i_lag', columns='j_lag')\n",
    "    return df"
   ]
  },
  {
   "cell_type": "code",
   "execution_count": 18,
   "id": "7e262a6f-2467-4a66-903e-4b527532ee17",
   "metadata": {},
   "outputs": [
    {
     "data": {
      "image/png": "[encoded data removed]",
      "text/plain": [
       "<Figure size 216x432 with 3 Axes>"
      ]
     },
     "metadata": {
      "needs_background": "light"
     },
     "output_type": "display_data"
    }
   ],
   "source": [
    "with sns.plotting_context('paper', font_scale=1):\n",
    "    gs_kw = dict(width_ratios=[1], height_ratios=[3, 3, 0.2], hspace=0.1)\n",
    "    fig, axd = plt.subplot_mosaic([['top'],\n",
    "                                   ['bottom'], \n",
    "                                   ['cbar']],\n",
    "                                  gridspec_kw=gs_kw, figsize=(3, 6),\n",
    "                                  constrained_layout=True )\n",
    "    vmin, vmax = 85, 100\n",
    "    procs = [2, 10]\n",
    "    top_n = -1\n",
    "    for i, lab in enumerate(['top','bottom']):\n",
    "        ax = axd[lab]\n",
    "        proc = procs[i]\n",
    "        \n",
    "#         plt.setp(ax.xaxis.get_majorticklabels(), rotation=70 )\n",
    "#         plt.setp(ax.yaxis.get_majorticklabels(), rotation=70 )\n",
    "\n",
    "        \n",
    "        df = spearmans(vamp_eqs, proc, top_n)\n",
    "\n",
    "\n",
    "        sns.heatmap(df*100, ax=ax, vmin=vmin, vmax=vmax, annot=False, cmap='Greens', cbar=False, \n",
    "                    annot_kws=dict(size='small'), square=True, fmt='0.1f')\n",
    "        \n",
    "        if lab in ['bottom']:\n",
    "            ax.set_xlabel('Lag (ns)')\n",
    "        else: \n",
    "            ax.set_xlabel('')\n",
    "        ax.set_ylabel('Lag (ns)')\n",
    "        ax.set_title(f\"({list('abcd')[i*1+j]}) VAMP2$_{{eq}}$ (k={proc})\")\n",
    "        \n",
    "        ax.tick_params(axis='x', rotation=30)\n",
    "        ax.tick_params(axis='y', rotation=30)      \n",
    "        \n",
    "    col_map = plt.get_cmap('Greens')\n",
    "    mpl.colorbar.ColorbarBase(axd['cbar'], cmap=col_map, orientation = 'horizontal', \n",
    "                             label='Rank corr. coef. (%)', norm=mpl.colors.Normalize(vmin=vmin, vmax=vmax))  \n",
    "    \n",
    "    \n",
    "    \n",
    "    \n",
    "#     plt.tight_layout()\n",
    "    plt.savefig(f'../{protein}/vampeq_rank_vs_lag.pdf', bbox_inches='tight')"
   ]
  },
  {
   "cell_type": "code",
   "execution_count": 19,
   "id": "168847ee-a97a-4847-94b2-462949ffb553",
   "metadata": {},
   "outputs": [
    {
     "data": {
      "image/png": "[encoded data removed]",
      "text/plain": [
       "<Figure size 432x432 with 5 Axes>"
      ]
     },
     "metadata": {
      "needs_background": "light"
     },
     "output_type": "display_data"
    }
   ],
   "source": [
    "with sns.plotting_context('paper', font_scale=1):\n",
    "    gs_kw = dict(width_ratios=[1, 1], height_ratios=[3, 3, 0.2], hspace=0.1, wspace=0)\n",
    "    fig, axd = plt.subplot_mosaic([['top left', 'top right'],\n",
    "                                   ['bottom left', 'bottom right'], \n",
    "                                   ['cbar', '.']],\n",
    "                                  gridspec_kw=gs_kw, figsize=(6, 6),\n",
    "                                  constrained_layout=True )\n",
    "    vmin, vmax = 85, 100\n",
    "    procs = [2, 3, 5, 10]\n",
    "    top_n = -1\n",
    "    for i, lab in enumerate(['top left','top right', 'bottom left', 'bottom right']):\n",
    "        for j in [0]:\n",
    "            ax = axd[lab]\n",
    "            proc = procs[i]\n",
    "            df = spearmans(vamp_eqs, proc, top_n)\n",
    "        \n",
    "            sns.heatmap(df*100, ax=ax, vmin=vmin, vmax=vmax, annot=False, cmap='Greens', cbar=False, \n",
    "                        annot_kws=dict(size='small'), square=True, fmt='0.1f')\n",
    "            if 'bottom' in lab:\n",
    "                ax.set_xlabel('Lag (ns)')\n",
    "            else: \n",
    "                ax.set_xlabel('')\n",
    "            if 'left' in lab:\n",
    "                ax.set_ylabel('Lag (ns)')\n",
    "            else: \n",
    "                ax.set_ylabel('')\n",
    "            ax.set_title(f\"({list('abcd')[i]}) VAMP2$_{{eq}}$ (k={proc})\")\n",
    "            ax.tick_params(axis='x', rotation=30)\n",
    "            ax.tick_params(axis='y', rotation=30)       \n",
    "        \n",
    "    col_map = plt.get_cmap('Greens')\n",
    "    mpl.colorbar.ColorbarBase(axd['cbar'], cmap=col_map, orientation = 'horizontal', \n",
    "                             label='Rank corr. coef. (%)', norm=mpl.colors.Normalize(vmin=vmin, vmax=vmax))  \n",
    "    \n",
    "    \n",
    "    \n",
    "    \n",
    "#     plt.tight_layout()\n",
    "    plt.savefig(f'../{protein}/vampeq_rank_vs_lag_all.pdf', bbox_inches='tight')"
   ]
  },
  {
   "cell_type": "code",
   "execution_count": 46,
   "id": "e100d7bb-7156-4d48-a9f6-debf44b0c3c9",
   "metadata": {},
   "outputs": [],
   "source": [
    "for proc in procs: \n",
    "    df = vamp_eqs.loc[(vamp_eqs.process == proc), ['rank', 'lag', 'hp_ix']]\n",
    "    lags = np.sort(df.lag.unique())\n",
    "    col_vars = [fr\"Rank ($\\tau={x}$)\" for x in lags]\n",
    "    df['lag'] = df['lag'].apply(lambda x: fr\"Rank ($\\tau={x}$)\")\n",
    "    \n",
    "    with sns.plotting_context('paper', font_scale=2): \n",
    "        sns.pairplot(df.pivot(index='hp_ix', columns='lag', values='rank'), vars=col_vars, corner=True,diag_kind=None)\n",
    "        \n",
    "        plt.savefig(f'../{protein}/vampeq_rank_vs_lag_pairplot_k{proc}.pdf', bbox_inches='tight')      \n",
    "        plt.close()"
   ]
  },
  {
   "cell_type": "code",
   "execution_count": null,
   "id": "de085f73-5aff-4272-9c04-6c65b4484c6e",
   "metadata": {},
   "outputs": [],
   "source": []
  }
 ],
 "metadata": {
  "kernelspec": {
   "display_name": "Python 3 (ipykernel)",
   "language": "python",
   "name": "python3"
  },
  "language_info": {
   "codemirror_mode": {
    "name": "ipython",
    "version": 3
   },
   "file_extension": ".py",
   "mimetype": "text/x-python",
   "name": "python",
   "nbconvert_exporter": "python",
   "pygments_lexer": "ipython3",
   "version": "3.8.0"
  }
 },
 "nbformat": 4,
 "nbformat_minor": 5
}
