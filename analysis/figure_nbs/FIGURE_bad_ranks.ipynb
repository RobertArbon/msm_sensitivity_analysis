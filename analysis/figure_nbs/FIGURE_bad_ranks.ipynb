{
 "cells": [
  {
   "cell_type": "code",
   "execution_count": 1,
   "id": "2b7c64bf-9c3d-46f4-aa4d-d1e78ea7d8f6",
   "metadata": {},
   "outputs": [],
   "source": [
    "import matplotlib.pyplot as plt\n",
    "import pandas as pd\n",
    "import numpy as np\n",
    "import seaborn as sns\n",
    "import matplotlib as mpl\n",
    "from typing import *"
   ]
  },
  {
   "cell_type": "code",
   "execution_count": 3,
   "id": "26cad3f0-2066-4277-b10b-f81a2318309b",
   "metadata": {},
   "outputs": [],
   "source": [
    "# from sensetools.plots import feature_labeller"
   ]
  },
  {
   "cell_type": "code",
   "execution_count": 4,
   "id": "c4d46f69-1828-4072-a6ba-171933135f54",
   "metadata": {},
   "outputs": [],
   "source": [
    "protein = '1fme'\n",
    "md_t2 = {'1fme': 18*1000}\n",
    "# order = [(53, 'fixed_k'), (60, 'fixed_k'), (52, 'fixed_k'), (47, 'worst'), (81, 'timescale_gap'), (60, 'timescale_gap'), (86, 'timescale_gap')]\n",
    "lag = 41"
   ]
  },
  {
   "cell_type": "code",
   "execution_count": 5,
   "id": "6f69e37d-a8e1-4f1e-b536-0c9fd5dd3c1d",
   "metadata": {},
   "outputs": [],
   "source": [
    "summary_path = f'{protein}/summary.h5'\n",
    "\n",
    "# selection = pd.read_hdf(summary_path, key='model_selection')\n",
    "timescales = pd.read_hdf(summary_path, key='timescales')\n",
    "vamps = pd.read_hdf(summary_path, key='vamps')\n",
    "gaps = pd.read_hdf(summary_path, key='timescale_ratio')\n",
    "gaps.reset_index(inplace=True)\n",
    "timescales.reset_index(inplace=True)\n",
    "vamps.reset_index(inplace=True)"
   ]
  },
  {
   "cell_type": "code",
   "execution_count": 6,
   "id": "5eceb6c6-7857-440e-8fec-705531157ddb",
   "metadata": {},
   "outputs": [],
   "source": [
    "def feature_labeller(x): \n",
    "    if x['feature__value'] == 'dihedrals': \n",
    "        return 'dihedrals'\n",
    "    elif x['feature__value'] == 'distances': \n",
    "        return f\"{x['distances__transform']}-distances\""
   ]
  },
  {
   "cell_type": "code",
   "execution_count": 7,
   "id": "db1fcc18-fd3d-4193-8dc5-041594d073c6",
   "metadata": {},
   "outputs": [],
   "source": [
    "hp_samples = pd.read_hdf('../experiments/hpsample.h5')\n",
    "\n",
    "hp_samples.reset_index(inplace=True)\n",
    "\n",
    "hp_samples['feature'] = hp_samples.apply(feature_labeller, axis=1)\n",
    "vamps = vamps.merge(hp_samples.loc[:, ['feature', 'hp_ix']], on='hp_ix')\n",
    "timescales = timescales.merge(hp_samples.loc[:, ['feature', 'hp_ix']], on='hp_ix')"
   ]
  },
  {
   "cell_type": "code",
   "execution_count": 98,
   "id": "65d289d5-516d-4539-8c20-78a070c77672",
   "metadata": {},
   "outputs": [],
   "source": [
    "def top_performers_by_feature(vamps: pd.DataFrame, k: int, lag: int)-> Dict[int, int]:\n",
    "    df = vamps.loc[(vamps.process==k) & (vamps.lag==lag), ['hp_ix', 'median', 'feature']].copy()\n",
    "    df['rank'] = df.groupby(['feature'])['median'].rank(ascending=False)\n",
    "    df.sort_values(by='rank', inplace=True)\n",
    "    d = dict(zip(df['hp_ix'], df['rank']))\n",
    "    return d\n",
    "\n",
    "\n",
    "def top_performers(vamps: pd.DataFrame, k: int, lag: int)-> Dict[int, int]:\n",
    "    df = vamps.loc[(vamps.process==k) & (vamps.lag==lag), ['hp_ix', 'median']].copy()\n",
    "    df['rank'] = df['median'].rank(ascending=False)\n",
    "    df.sort_values(by='rank', inplace=True)\n",
    "    d = dict(zip(df['hp_ix'], df['rank']))\n",
    "    return d\n",
    "\n",
    "\n",
    "def plot_val_by_mod_proc(ax, value_df, color='by_proc'): \n",
    "    labelled = False\n",
    "    first_mod = value_df['rank'].min()\n",
    "    \n",
    "    for (mod_n, proc), df in value_df.groupby([ 'rank', 'process']):\n",
    "        if mod_n == first_mod: \n",
    "            label = f\"{proc}\"\n",
    "        else: \n",
    "            label = None\n",
    "        \n",
    "        if color=='by_proc':\n",
    "            col = cols[proc-2]\n",
    "        else: \n",
    "            col = color\n",
    "#         if proc == 2: \n",
    "#             print(mod_n, df['median'])\n",
    "        ax.hlines(df['median'],  mod_n-width, mod_n+width, color=col, label=label, lw=3)\n",
    "        \n",
    "        ax.fill_between([mod_n-width, mod_n+width], df['lb'], df['ub'], alpha=0.05, color=col)\n",
    "\n",
    "        "
   ]
  },
  {
   "cell_type": "markdown",
   "id": "21901163-c066-4503-bcbb-45f15b4f5b7a",
   "metadata": {},
   "source": [
    "## Select incongruous models"
   ]
  },
  {
   "cell_type": "code",
   "execution_count": 99,
   "id": "d4859f2c-4e06-4417-8e35-be09da9a21d7",
   "metadata": {},
   "outputs": [],
   "source": [
    "# Select observables and vamp scores\n",
    "ranking_k = 2 # rank by this VAMp2 score\n",
    "timescale_k = 2 # Select the timescale to judge the ranking by\n",
    "plotting_k = 7 # plot up to this process\n",
    "\n",
    "top_vamps = vamps.loc[(vamps.process==ranking_k) & (vamps.lag==lag), :].copy()\n",
    "top_timescales = timescales.loc[(timescales.lag == lag), :].copy()\n",
    "\n",
    "# rank models\n",
    "rank_by_ix = top_performers(vamps, k=ranking_k, lag=lag)\n",
    "\n",
    "# add ranks to observables/vamps\n",
    "top_vamps[f'rank'] = top_vamps['hp_ix'].apply(lambda x: rank_by_ix.get(x))\n",
    "top_timescales[f'rank'] = top_timescales['hp_ix'].apply(lambda x: rank_by_ix.get(x))\n"
   ]
  },
  {
   "cell_type": "code",
   "execution_count": 100,
   "id": "ae4376d3-c657-4bea-800e-ac01ae9bfe6a",
   "metadata": {},
   "outputs": [],
   "source": [
    "ts_df = top_timescales.sort_values(by=['rank'], inplace=False)\n",
    "ts_df = ts_df.loc[ts_df.process == timescale_k, :]\n",
    "\n",
    "bad_ix = []\n",
    "for i, row1 in ts_df.iterrows():\n",
    "    ts = row1['median']\n",
    "    rank = row1['rank']\n",
    "    ix = row1['hp_ix']\n",
    "    \n",
    "    tmp = []\n",
    "    for j, row2 in ts_df.loc[ts_df['rank']>rank, :].iterrows(): \n",
    "        if row2['median'] > ts: \n",
    "            tmp.append(row2['hp_ix'])\n",
    "            ts = row2['median']\n",
    "            \n",
    "    if len(tmp)>0: \n",
    "        tmp.append(ix)\n",
    "        tmp = [tmp[-1]] + tmp[:-1]\n",
    "        bad_ix.append(tuple(tmp))\n",
    "\n",
    "sort_ix = np.argsort([len(x) for x in bad_ix])[::-1]\n",
    "bad_ix_sorted = [bad_ix[i] for i in sort_ix]"
   ]
  },
  {
   "cell_type": "code",
   "execution_count": 111,
   "id": "d5486038-d33d-4b53-ac1b-0b0aa83d5ab8",
   "metadata": {
    "tags": []
   },
   "outputs": [
    {
     "data": {
      "image/png": "[encoded data removed]",
      "text/plain": [
       "<Figure size 576x576 with 4 Axes>"
      ]
     },
     "metadata": {
      "needs_background": "light"
     },
     "output_type": "display_data"
    }
   ],
   "source": [
    "with sns.plotting_context('paper', font_scale=1): \n",
    "    width =0.4\n",
    "    offset = 0.5\n",
    "    fig, axes = plt.subplots(2, 2, figsize=(8, 8), sharex='col', sharey='row')\n",
    "    \n",
    "    cols = sns.color_palette('colorblind', timescales.process.max())\n",
    "\n",
    "    for col_ix, bad_set in enumerate([bad_ix[0], bad_ix_sorted[1]]):\n",
    "\n",
    "        use_ts = top_timescales.loc[top_timescales.hp_ix.isin(bad_set), :]\n",
    "        use_ts = use_ts.loc[use_ts.process < plotting_k, :]\n",
    "        use_vamps = top_vamps.loc[top_vamps.hp_ix.isin(bad_set), :]\n",
    "\n",
    "        # Plot VAMPS\n",
    "        vamp_ax = axes[0, col_ix]\n",
    "        plot_val_by_mod_proc(vamp_ax, use_vamps, color='k')\n",
    "        vamp_ax.yaxis.set_major_locator(mpl.ticker.MultipleLocator(0.01))\n",
    "\n",
    "        # Plot timescales\n",
    "        time_ax = axes[1, col_ix]\n",
    "        plot_val_by_mod_proc(time_ax, use_ts)\n",
    "        time_ax.set_yscale('log')\n",
    "\n",
    "        # MD timescle\n",
    "        xlim = time_ax.get_xlim()    \n",
    "        time_ax.hlines(md_t2[protein], *xlim, color='k',ls='dashed', label='MD estimate')\n",
    "        time_ax.set_xlim(xlim)\n",
    "        \n",
    "        # labels\n",
    "        if col_ix == 0:\n",
    "            time_ax.set_ylabel('Timescale (ns)')\n",
    "            vamp_ax.set_ylabel(f'VAMP-2(k={k})')\n",
    "        axes[-1, col_ix].set_xlabel(f'VAMP2(k={k}) rank.')\n",
    "        \n",
    "        # Legend\n",
    "        h, l = axes[-1, -1].get_legend_handles_labels()\n",
    "        axes[-1, -1].legend(h, l, bbox_to_anchor=(1, 1), loc='upper left', title='Timescale')\n",
    "        \n",
    "        # Grid\n",
    "        axes[0, col_ix].grid()\n",
    "        axes[1, col_ix].grid()\n",
    "        letters = list('abcd')\n",
    "        for i, ax in enumerate(axes.flatten()):\n",
    "            ax.xaxis.set_major_locator(mpl.ticker.MultipleLocator(1))\n",
    "            ax.annotate(text=f\"({letters[i]})\", xy=(0.05, 0.95), \n",
    "                        xycoords='axes fraction', ha='left',va='top')\n",
    "        plt.tight_layout()\n",
    "        plt.savefig(f'{protein}/bad_vamp_ranks.pdf', bbox_inches='tight')"
   ]
  },
  {
   "cell_type": "code",
   "execution_count": 16,
   "id": "f86de9d0-63c1-484c-8e08-478fc7e30bb4",
   "metadata": {},
   "outputs": [
    {
     "data": {
      "image/png": "[encoded data removed]",
      "text/plain": [
       "<Figure size 432x288 with 1 Axes>"
      ]
     },
     "metadata": {
      "needs_background": "light"
     },
     "output_type": "display_data"
    }
   ],
   "source": [
    "x = np.linspace(0, 20, 100)\n",
    "def logistic(x, c, s): \n",
    "    return 1/(1+np.exp(-s*(x-c)))\n",
    "\n",
    "\n",
    "y1 = logistic(x, 7, .5)\n",
    "y2 = logistic(x, 10, 5)\n",
    "\n",
    "\n",
    "plt.plot(x, y1, label='c, s = 7, 0.5')\n",
    "plt.plot(x, y2, label='c, s = 10, 5')\n",
    "plt.legend()\n",
    "plt.xlabel('Conctact distance, d, (Ang.)')\n",
    "plt.ylabel('Logistic distance')\n",
    "plt.savefig('logstic_explainer.pdf', bbox_inches='tight')"
   ]
  },
  {
   "cell_type": "code",
   "execution_count": null,
   "id": "e72e9fb8-24dc-4c5b-9db2-041c3287356e",
   "metadata": {},
   "outputs": [],
   "source": []
  }
 ],
 "metadata": {
  "kernelspec": {
   "display_name": "Python 3 (ipykernel)",
   "language": "python",
   "name": "python3"
  },
  "language_info": {
   "codemirror_mode": {
    "name": "ipython",
    "version": 3
   },
   "file_extension": ".py",
   "mimetype": "text/x-python",
   "name": "python",
   "nbconvert_exporter": "python",
   "pygments_lexer": "ipython3",
   "version": "3.8.0"
  }
 },
 "nbformat": 4,
 "nbformat_minor": 5
}
