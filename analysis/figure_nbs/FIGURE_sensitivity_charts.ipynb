{
 "cells": [
  {
   "cell_type": "code",
   "execution_count": 2,
   "id": "8a3a5c0e-8354-4b34-a744-fe8b45f322f1",
   "metadata": {},
   "outputs": [],
   "source": [
    "import arviz as az\n",
    "import pymc as pm\n",
    "# import arviz.labels as azl\n",
    "\n",
    "import matplotlib.pyplot as plt\n",
    "import seaborn as sns\n",
    "from pathlib import Path\n",
    "import pickle\n",
    "import matplotlib as mpl\n",
    "import warnings\n",
    "import numpy as np\n",
    "warnings.simplefilter(action='ignore', category=FutureWarning)\n",
    "import pandas as pd"
   ]
  },
  {
   "cell_type": "markdown",
   "id": "7630220e-f72e-4b98-9e47-bbe58cea9086",
   "metadata": {},
   "source": [
    "## Reestimate model because of pickle problems"
   ]
  },
  {
   "cell_type": "code",
   "execution_count": 12,
   "id": "1239c466-4c24-4cac-9d7a-d659bf154b10",
   "metadata": {},
   "outputs": [],
   "source": [
    "def gamma(alpha, beta):\n",
    "    def g(x):\n",
    "        return pm.Gamma(x, alpha=alpha, beta=beta)\n",
    "    return g\n",
    "\n",
    "def hcauchy(beta):\n",
    "    def g(x):\n",
    "        return pm.HalfCauchy(x, beta=beta)\n",
    "    return g\n",
    "\n",
    "\n",
    "def fit_gp(y, X, l_prior, eta_prior, sigma_prior, kernel_type='M52', bayes_kws=dict(draws=1000, tune=1000, chains=2, cores=1), prop_Xu=None):\n",
    "    \"\"\"\n",
    "    function to return a pymc3 model\n",
    "    y : dependent variable\n",
    "    X : independent variables\n",
    "    prop_Xu : number of inducing varibles to use. If None, use full marginal likelihood. If not none, use FTIC. \n",
    "    bayes_kw : kws for pm.sample\n",
    "    X, y are dataframes. We'll use the column names. \n",
    "    \"\"\"\n",
    "    kernel_type = kernel_type.lower()\n",
    "    with pm.Model() as model:\n",
    "        # Covert arrays\n",
    "        X_a = X.values\n",
    "        y_a = y.values.flatten()\n",
    "        X_cols = list(X.columns)\n",
    "\n",
    "        \n",
    "        # Kernels\n",
    "        # 3 way interaction\n",
    "        eta = eta_prior('eta')\n",
    "        cov = eta**2\n",
    "        for i in range(X_a.shape[1]):\n",
    "            var_lab = 'l_'+X_cols[i]\n",
    "            if kernel_type=='rbf':\n",
    "                cov = cov*pm.gp.cov.ExpQuad(X_a.shape[1], ls=l_prior(var_lab), active_dims=[i])\n",
    "            if kernel_type=='exponential':\n",
    "                cov = cov*pm.gp.cov.Exponential(X_a.shape[1], ls=l_prior(var_lab), active_dims=[i])\n",
    "            if kernel_type=='m52':\n",
    "                cov = cov*pm.gp.cov.Matern52(X_a.shape[1], ls=l_prior(var_lab), active_dims=[i])\n",
    "            if kernel_type=='m32':\n",
    "                cov = cov*pm.gp.cov.Matern32(X_a.shape[1], ls=l_prior(var_lab), active_dims=[i])\n",
    "\n",
    "        # Covariance model\n",
    "        cov_tot = cov \n",
    "        \n",
    "        # Noise model\n",
    "        sigma_n =sigma_prior('sigma_n')\n",
    "\n",
    "        # Model\n",
    "        if not (prop_Xu is None):\n",
    "            # Inducing variables\n",
    "            num_Xu = int(X_a.shape[0]*prop_Xu)\n",
    "            Xu = pm.gp.util.kmeans_inducing_points(num_Xu, X_a)\n",
    "            gp = pm.gp.MarginalSparse(cov_func=cov_tot, approx=\"FITC\")\n",
    "            y_ = gp.marginal_likelihood('y_', X=X_a, y=y_a, Xu=Xu, noise=sigma_n)\n",
    "        else:\n",
    "            gp = pm.gp.Marginal(cov_func=cov_tot)\n",
    "            y_ = gp.marginal_likelihood('y_', X=X_a, y=y_a, noise=sigma_n)\n",
    "            \n",
    "        \n",
    "        if not (bayes_kws is None):\n",
    "            trace = pm.sample(**bayes_kws)\n",
    "            result = trace\n",
    "        else:\n",
    "            mp = pm.find_MAP(progressbar=False)\n",
    "            result = mp\n",
    "    \n",
    "    return gp, result, model\n",
    "\n",
    "def bootstrap(n_samples,y, X, seed=42, **kwargs):\n",
    "    rng = np.random.default_rng(seed)\n",
    "    all_params = []\n",
    "    all_preds = []\n",
    "    i = 0\n",
    "    while i < n_samples:\n",
    "        print(' ', i, end=', ')\n",
    "        ix = np.array(y.index)\n",
    "        bs_ix = rng.choice(ix, size=len(ix), replace=True)\n",
    "        new_y, new_X = y.loc[bs_ix, :], X.loc[bs_ix, :]\n",
    "        try: \n",
    "            gp, mp, model = fit_gp(new_y, new_X, **kwargs)\n",
    "            all_params.append(mp)\n",
    "            with model:\n",
    "                y_pred, var = gp.predict(new_X.values, point=mp, diag=True)\n",
    "                all_preds.append((new_y, y_pred, var))\n",
    "            i += 1\n",
    "            \n",
    "        except: \n",
    "            print('error')\n",
    "\n",
    "    print()\n",
    "\n",
    "    return all_params, all_preds\n",
    "        "
   ]
  },
  {
   "cell_type": "code",
   "execution_count": 14,
   "id": "40fc8308-2498-4098-ae81-8a944f3c893d",
   "metadata": {
    "tags": []
   },
   "outputs": [
    {
     "name": "stdout",
     "output_type": "stream",
     "text": [
      "dihedrals None exponential\n",
      "  0,   1,   2,   3,   4,   5,   6,   7,   8,   9,   10,   11,   12,   13,   14,   15,   16,   17,   18,   19,   20,   21,   22,   23,   24,   25,   26,   27,   28,   29,   30,   31,   32,   33,   34,   35,   36,   37,   38,   39,   40,   41,   42,   43,   44,   45,   46,   47,   48,   49,   50,   51,   52,   53,   54,   55,   56,   57,   58,   59,   60,   61,   62,   63,   64,   65,   66,   67,   68,   69,   70,   71,   72,   73,   74,   75,   76,   77,   78,   79,   80,   81,   82,   83,   84,   85,   86,   87,   88,   89,   90,   91,   92,   93,   94,   95,   96,   97,   98,   99,   100,   101,   102,   103,   104,   105,   106,   107,   108,   109,   110,   111,   112,   113,   114,   115,   116,   117,   118,   119,   120,   121,   122,   123,   124,   125,   126,   127,   128,   129,   130,   131,   132,   133,   134,   135,   136,   137,   138,   139,   140,   141,   142,   143,   144,   145,   146,   147,   148,   149,   150,   151,   152,   153,   154,   155,   156,   157,   158,   159,   160,   161,   162,   163,   164,   165,   166,   167,   168,   169,   170,   171,   172,   173,   174,   175,   176,   177,   178,   179,   180,   181,   182,   183,   184,   185,   186,   187,   188,   189,   190,   191,   192,   193,   194,   195,   196,   197,   198,   199,   200,   201,   202,   203,   204,   205,   206,   207,   208,   209,   210,   211,   212,   213,   214,   215,   216,   217,   218,   219,   220,   221,   222,   223,   224,   225,   226,   227,   228,   229,   230,   231,   232,   233,   234,   235,   236,   237,   238,   239,   240,   241,   242,   243,   244,   245,   246,   247,   248,   249, \n",
      "distances linear exponential\n",
      "  0,   1,   2,   3,   4,   5,   6,   7,   8,   9,   10,   11,   12,   13,   14,   15,   16,   17,   18,   19,   20,   21,   22,   23,   24,   25,   26,   27,   28,   29,   30,   31,   32,   33,   34,   35,   36,   37,   38,   39,   40,   41,   42,   43,   44,   45,   46,   47,   48,   49,   50,   51,   52,   53,   54,   55,   56,   57,   58,   59,   60,   61,   62,   63,   64,   65,   66,   67,   68,   69,   70,   71,   72,   73,   74,   75,   76,   77,   78,   79,   80,   81,   82,   83,   84,   85,   86,   87,   88,   89,   90,   91,   92,   93,   94,   95,   96,   97,   98,   99,   100,   101,   102,   103,   104,   105,   106,   107,   108,   109,   110,   111,   112,   113,   114,   115,   116,   117,   118,   119,   120,   121,   122,   123,   124,   125,   126,   127,   128,   129,   130,   131,   132,   133,   134,   135,   136,   137,   138,   139,   140,   141,   142,   143,   144,   145,   146,   147,   148,   149,   150,   151,   152,   153,   154,   155,   156,   157,   158,   159,   160,   161,   162,   163,   164,   165,   166,   167,   168,   169,   170,   171,   172,   173,   174,   175,   176,   177,   178,   179,   180,   181,   182,   183,   184,   185,   186,   187,   188,   189,   190,   191,   192,   193,   194,   195,   196,   197,   198,   199,   200,   201,   202,   203,   204,   205,   206,   207,   208,   209,   210,   211,   212,   213,   214,   215,   216,   217,   218,   219,   220,   221,   222,   223,   224,   225,   226,   227,   228,   229,   230,   231,   232,   233,   234,   235,   236,   237,   238,   239,   240,   241,   242,   243,   244,   245,   246,   247,   248,   249, \n",
      "distances logistic exponential\n",
      "  0,   1,   2,   3,   4,   5,   6,   7,   8,   9,   10,   11,   12,   13,   14,   15,   16,   17,   18,   19,   20,   21,   22,   23,   24,   25,   26,   27,   28,   29,   30,   31,   32,   33,   34,   35,   36,   37,   38,   39,   40,   41,   42,   43,   44,   45,   46,   47,   48,   49,   50,   51,   52,   53,   54,   55,   56,   57,   58,   59,   60,   61,   62,   63,   64,   65,   66,   67,   68,   69,   70,   71,   72,   73,   74,   75,   76,   77,   78,   79,   80,   81,   82,   83,   84,   85,   86,   87,   88,   89,   90,   91,   92,   93,   94,   95,   96,   97,   98,   99,   100,   101,   102,   103,   104,   105,   106,   107,   108,   109,   110,   111,   112,   113,   114,   115,   116,   117,   118,   119,   120,   121,   122,   123,   124,   125,   126,   127,   128,   129,   130,   131,   132,   133,   134,   135,   136,   137,   138,   139,   140,   141,   142,   143,   144,   145,   146,   147,   148,   149,   150,   151,   152,   153,   154,   155,   156,   157,   158,   159,   160,   161,   162,   163,   164,   165,   166,   167,   168,   169,   170,   171,   172,   173,   174,   175,   176,   177,   178,   179,   180,   181,   182,   183,   184,   185,   186,   187,   188,   189,   190,   191,   192,   193,   194,   195,   196,   197,   198,   199,   200,   201,   202,   203,   204,   205,   206,   207,   208,   209,   210,   211,   212,   213,   214,   215,   216,   217,   218,   219,   220,   221,   222,   223,   224,   225,   226,   227,   228,   229,   230,   231,   232,   233,   234,   235,   236,   237,   238,   239,   240,   241,   242,   243,   244,   245,   246,   247,   248,   249, \n"
     ]
    }
   ],
   "source": [
    "root_path = '1fme/sensitivity'\n",
    "experiments = [['dihedrals', None, 'exponential'], ['distances', 'linear', 'exponential'], ['distances', 'logistic', 'exponential']]\n",
    "models = []\n",
    "\n",
    "l_prior = gamma(2, 0.5)\n",
    "eta_prior = hcauchy(2)\n",
    "sigma_prior = hcauchy(2)\n",
    "\n",
    "params = []\n",
    "preds = []\n",
    "n_boot = 250\n",
    "\n",
    "for i, (feat, trans, kernel) in enumerate(experiments):\n",
    "    print(feat, trans, kernel)\n",
    "    kwargs = dict(l_prior=l_prior, eta_prior=eta_prior, sigma_prior=sigma_prior,  # Priors\n",
    "                  kernel_type=kernel,  # Kernel\n",
    "                  prop_Xu=None,  # proportion of data points which are inducing variables.\n",
    "                  bayes_kws=None)    \n",
    "    results_path = Path(root_path).joinpath(f\"{feat}_{trans}_{kernel}_mml.pkl\")\n",
    "\n",
    "    results = pickle.load(results_path.open('rb'))\n",
    "    data_s = results['data']\n",
    "    y, X = data_s.iloc[:, [0]], data_s.iloc[:, 1:]\n",
    "    \n",
    "    param, pred = bootstrap(n_boot, y, X, **kwargs)\n",
    "    params.append(param)\n",
    "    preds.append(pred)"
   ]
  },
  {
   "cell_type": "code",
   "execution_count": 28,
   "id": "43859798-62b1-4f2b-93cc-a3a1f715cf22",
   "metadata": {},
   "outputs": [],
   "source": [
    "param_df = []\n",
    "keep_params = ['l_dim', 'l_lag', 'l_states', 'feature', 'l_cent', 'l_steep']\n",
    "\n",
    "for i, experiment in enumerate(experiments): \n",
    "    bs_params = params[i]\n",
    "    lab = experiment[0]\n",
    "    if experiment[1] is not None: \n",
    "        lab += f\"-{experiment[1]}\"\n",
    "    df = pd.concat([pd.DataFrame(x, index=[j]) for j, x in enumerate(bs_params)])\n",
    "    df['feature'] = lab    \n",
    "    param_df.append(df)\n",
    "    \n",
    "param_df = pd.concat(param_df)\n",
    "param_df = param_df.loc[:, keep_params]\n",
    "param_df_m = param_df.melt(id_vars=['feature'], var_name='hyperparameter')\n",
    "param_df_m['R'] = 1.0/param_df_m['value']\n",
    "\n",
    "var_name_map={\"l_states\": r\"Num. states\", \n",
    "            \"l_dim\": r\"Num. dims\", \n",
    "            \"l_lag\": r\"$\\tau_{tICA}$\", \n",
    "            \"l_cent\": r\"Centre\", \n",
    "             \"l_steep\": r\"Steepness\"}\n",
    "\n",
    "param_df_m['hyperparameter'] = param_df_m['hyperparameter'].apply(lambda x: var_name_map[x])"
   ]
  },
  {
   "cell_type": "markdown",
   "id": "840dd38c-24be-40d3-95d1-9b9dbea82b7b",
   "metadata": {},
   "source": [
    "Sensitivity"
   ]
  },
  {
   "cell_type": "code",
   "execution_count": 36,
   "id": "4e82fc72-e68c-4980-a229-76163cb27ed2",
   "metadata": {},
   "outputs": [
    {
     "data": {
      "image/png": "[encoded data removed]",
      "text/plain": [
       "<Figure size 432x288 with 1 Axes>"
      ]
     },
     "metadata": {
      "needs_background": "light"
     },
     "output_type": "display_data"
    }
   ],
   "source": [
    "with sns.plotting_context('paper', font_scale=1.5): \n",
    "    fig, ax = plt.subplots(1)\n",
    "    sns.boxplot(y='feature', x='R', hue='hyperparameter', data=param_df_m,ax=ax, \n",
    "               whis=(0, 100), orient='h', linewidth=0.5)\n",
    "    h, l = ax.get_legend_handles_labels()\n",
    "    ax.legend(h, l, loc='upper left', bbox_to_anchor=(1, 1))\n",
    "    ax.set_xlim(0.2, 10)\n",
    "    ax.set_xscale('log')\n",
    "    plt.savefig(Path(root_path).parent.joinpath('sensitivity.pdf'), bbox_inches='tight')\n",
    "    "
   ]
  },
  {
   "cell_type": "code",
   "execution_count": null,
   "id": "41cba57d-8f5f-479a-9274-3e9d0a534106",
   "metadata": {},
   "outputs": [],
   "source": []
  }
 ],
 "metadata": {
  "kernelspec": {
   "display_name": "Python 3 (ipykernel)",
   "language": "python",
   "name": "python3"
  },
  "language_info": {
   "codemirror_mode": {
    "name": "ipython",
    "version": 3
   },
   "file_extension": ".py",
   "mimetype": "text/x-python",
   "name": "python",
   "nbconvert_exporter": "python",
   "pygments_lexer": "ipython3",
   "version": "3.9.0"
  }
 },
 "nbformat": 4,
 "nbformat_minor": 5
}
