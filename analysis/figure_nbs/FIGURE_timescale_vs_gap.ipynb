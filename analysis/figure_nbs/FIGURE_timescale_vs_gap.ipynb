{
 "cells": [
  {
   "cell_type": "code",
   "execution_count": 2,
   "id": "2b7c64bf-9c3d-46f4-aa4d-d1e78ea7d8f6",
   "metadata": {},
   "outputs": [],
   "source": [
    "import matplotlib.pyplot as plt\n",
    "import pandas as pd\n",
    "import numpy as np\n",
    "import seaborn as sns\n",
    "import matplotlib as mpl\n",
    "import plotly.express as px\n"
   ]
  },
  {
   "cell_type": "code",
   "execution_count": 3,
   "id": "c4d46f69-1828-4072-a6ba-171933135f54",
   "metadata": {},
   "outputs": [],
   "source": [
    "protein = '1fme'\n",
    "md_t2 = {'1fme': 18*1000}\n",
    "lag = 41\n",
    "process = 2\n"
   ]
  },
  {
   "cell_type": "code",
   "execution_count": 4,
   "id": "0f913f25-5788-4534-b6fd-36b622465325",
   "metadata": {},
   "outputs": [],
   "source": [
    "# df = pd.read_hdf(f'../{protein}/summary_batch1.h5', key='timescale_ratio')"
   ]
  },
  {
   "cell_type": "code",
   "execution_count": 17,
   "id": "6f69e37d-a8e1-4f1e-b536-0c9fd5dd3c1d",
   "metadata": {},
   "outputs": [
    {
     "name": "stdout",
     "output_type": "stream",
     "text": [
      "(68161, 7) (150, 14) (68161, 7)\n",
      "(68161, 25)\n",
      "(68161, 25)\n"
     ]
    }
   ],
   "source": [
    "summary_paths = [f'../{protein}/summary_batch1.h5', f'../{protein}/summary_batch2.h5', f'../{protein}/summary_batch3.h5']\n",
    "\n",
    "hp_paths = ['../../experiments/hpsample.h5', '../../experiments/new_hpsample.h5', '../../experiments/new_ts_hpsample_missing_best.h5']\n",
    "\n",
    "keep_hp_ixs = [np.array([]), np.array([329, 330, 331, 334, 335]), \n",
    "               np.array([340, 341, 342, 343, 344])]\n",
    "\n",
    "hps = []\n",
    "timescales = []\n",
    "gaps = []\n",
    "for batch_num in range(3):\n",
    "    keep_ix = keep_hp_ixs[batch_num]\n",
    "    \n",
    "    # Hp definitions\n",
    "    hp = pd.read_hdf(hp_paths[batch_num])\n",
    "    hp.reset_index(inplace=True)    \n",
    "    \n",
    "    # Drop these columns if they exist. \n",
    "    for drop_col in ['index', 'Group']:\n",
    "        if drop_col in hp.columns:\n",
    "            hp.drop(labels=[drop_col], inplace=True, axis=1)\n",
    "    if keep_ix.shape[0]>0: \n",
    "        hp = hp.loc[hp.hp_ix.isin(keep_ix), :]\n",
    "    hps.append(hp)\n",
    "    \n",
    "    # timescales\n",
    "    tmp = pd.read_hdf(summary_paths[batch_num], key='timescales')\n",
    "    tmp.reset_index(inplace=True)\n",
    "    \n",
    "    # Drop these columns if they exist. \n",
    "    for drop_col in ['index', 'Group']:\n",
    "        if drop_col in tmp.columns:\n",
    "            tmp.drop(labels=[drop_col], inplace=True, axis=1)\n",
    "    \n",
    "    if keep_ix.shape[0]>0: \n",
    "        tmp = tmp.loc[tmp.hp_ix.isin(keep_ix), :]\n",
    "    timescales.append(tmp)\n",
    "\n",
    "    \n",
    "    # gaps\n",
    "    tmp = pd.read_hdf(summary_paths[batch_num], key='timescale_ratio')\n",
    "    tmp.reset_index(inplace=True)\n",
    "    \n",
    "    # Drop these columns if they exist. \n",
    "    for drop_col in ['index', 'Group']:\n",
    "        if drop_col in tmp.columns:\n",
    "            tmp.drop(labels=[drop_col], inplace=True, axis=1)\n",
    "    \n",
    "    if keep_ix.shape[0]>0: \n",
    "        tmp = tmp.loc[tmp.hp_ix.isin(keep_ix), :]\n",
    "    gaps.append(tmp)    \n",
    "       \n",
    "        \n",
    "        \n",
    "timescales = pd.concat(timescales, axis=0)\n",
    "gaps = pd.concat(gaps, axis=0)\n",
    "hps = pd.concat(hps, axis=0)    \n",
    "\n",
    "print(timescales.shape, hps.shape, gaps.shape)\n",
    "\n",
    "timescales = timescales.merge(hps, on=['hp_ix'], how='left')\n",
    "timescales = timescales.merge(gaps, on=['hp_ix', 'lag', 'process'], how='left')\n",
    "\n",
    "timescales['feature'] = timescales.apply(lambda x: f\"{x['feature__value']}\" if x['feature__value'] =='dihedrals' else f\"{x['distances__transform']}-{x['feature__value']}\", axis=1)\n",
    "print(timescales.shape)\n",
    "timescales.drop_duplicates(inplace=True)\n",
    "print(timescales.shape)\n",
    "\n",
    "\n",
    "timescales.sort_values(by=['hp_ix', 'lag', 'process'], inplace=True)\n",
    "timescales['cum_ts'] = timescales.groupby(['hp_ix', 'lag'])['median_x'].cumsum()"
   ]
  },
  {
   "cell_type": "code",
   "execution_count": 18,
   "id": "587bf190-bcf2-4a4b-9502-5521014bc199",
   "metadata": {},
   "outputs": [
    {
     "data": {
      "application/vnd.plotly.v1+json": {
       "config": {
        "plotlyServerURL": "https://plot.ly"
       },
       "data": [
        {
         "customdata": [
          [
           0,
           "dihedrals",
           36,
           19,
           306
          ],
          [
           1,
           "logistic-distances",
           93,
           4,
           251
          ],
          [
           2,
           "logistic-distances",
           68,
           18,
           98
          ],
          [
           3,
           "logistic-distances",
           94,
           4,
           441
          ],
          [
           4,
           "dihedrals",
           87,
           15,
           104
          ],
          [
           5,
           "linear-distances",
           19,
           7,
           275
          ],
          [
           6,
           "dihedrals",
           99,
           13,
           471
          ],
          [
           7,
           "linear-distances",
           14,
           16,
           368
          ],
          [
           8,
           "dihedrals",
           79,
           20,
           231
          ],
          [
           9,
           "dihedrals",
           21,
           13,
           75
          ],
          [
           10,
           "dihedrals",
           74,
           5,
           375
          ],
          [
           11,
           "linear-distances",
           43,
           5,
           153
          ],
          [
           12,
           "dihedrals",
           100,
           10,
           257
          ],
          [
           13,
           "dihedrals",
           33,
           6,
           136
          ],
          [
           14,
           "logistic-distances",
           40,
           4,
           101
          ],
          [
           15,
           "dihedrals",
           60,
           11,
           92
          ],
          [
           16,
           "logistic-distances",
           23,
           15,
           244
          ],
          [
           17,
           "dihedrals",
           73,
           20,
           220
          ],
          [
           18,
           "dihedrals",
           98,
           14,
           63
          ],
          [
           19,
           "logistic-distances",
           73,
           19,
           265
          ],
          [
           20,
           "dihedrals",
           51,
           4,
           270
          ],
          [
           21,
           "logistic-distances",
           74,
           5,
           464
          ],
          [
           22,
           "logistic-distances",
           22,
           6,
           148
          ],
          [
           23,
           "linear-distances",
           15,
           6,
           79
          ],
          [
           24,
           "logistic-distances",
           60,
           20,
           471
          ],
          [
           25,
           "dihedrals",
           91,
           4,
           456
          ],
          [
           26,
           "logistic-distances",
           86,
           18,
           389
          ],
          [
           27,
           "dihedrals",
           83,
           2,
           434
          ],
          [
           28,
           "logistic-distances",
           92,
           12,
           65
          ],
          [
           29,
           "logistic-distances",
           76,
           7,
           134
          ],
          [
           30,
           "linear-distances",
           42,
           6,
           222
          ],
          [
           31,
           "dihedrals",
           81,
           15,
           213
          ],
          [
           32,
           "dihedrals",
           75,
           11,
           66
          ],
          [
           33,
           "dihedrals",
           53,
           17,
           300
          ],
          [
           34,
           "logistic-distances",
           72,
           16,
           483
          ],
          [
           35,
           "logistic-distances",
           76,
           4,
           495
          ],
          [
           36,
           "dihedrals",
           83,
           20,
           213
          ],
          [
           37,
           "linear-distances",
           44,
           20,
           196
          ],
          [
           38,
           "dihedrals",
           67,
           8,
           99
          ],
          [
           39,
           "linear-distances",
           40,
           3,
           237
          ],
          [
           40,
           "dihedrals",
           13,
           5,
           384
          ],
          [
           42,
           "linear-distances",
           59,
           8,
           75
          ],
          [
           43,
           "logistic-distances",
           88,
           10,
           38
          ],
          [
           44,
           "linear-distances",
           69,
           8,
           255
          ],
          [
           47,
           "linear-distances",
           60,
           18,
           122
          ],
          [
           54,
           "linear-distances",
           61,
           16,
           392
          ],
          [
           55,
           "logistic-distances",
           33,
           13,
           474
          ],
          [
           57,
           "linear-distances",
           25,
           5,
           254
          ],
          [
           60,
           "linear-distances",
           19,
           11,
           285
          ],
          [
           67,
           "logistic-distances",
           57,
           18,
           110
          ],
          [
           68,
           "linear-distances",
           75,
           8,
           224
          ],
          [
           69,
           "linear-distances",
           11,
           11,
           278
          ],
          [
           72,
           "linear-distances",
           38,
           14,
           488
          ],
          [
           73,
           "linear-distances",
           41,
           9,
           441
          ],
          [
           74,
           "linear-distances",
           71,
           15,
           488
          ],
          [
           78,
           "logistic-distances",
           12,
           1,
           315
          ],
          [
           81,
           "logistic-distances",
           65,
           9,
           192
          ],
          [
           83,
           "logistic-distances",
           80,
           3,
           445
          ],
          [
           85,
           "linear-distances",
           52,
           19,
           485
          ],
          [
           86,
           "logistic-distances",
           51,
           10,
           177
          ],
          [
           87,
           "linear-distances",
           20,
           12,
           99
          ],
          [
           88,
           "logistic-distances",
           34,
           12,
           245
          ],
          [
           89,
           "linear-distances",
           53,
           14,
           336
          ],
          [
           91,
           "logistic-distances",
           15,
           13,
           423
          ],
          [
           93,
           "logistic-distances",
           25,
           17,
           382
          ],
          [
           101,
           "logistic-distances",
           94,
           9,
           146
          ],
          [
           102,
           "linear-distances",
           68,
           6,
           322
          ],
          [
           104,
           "logistic-distances",
           46,
           16,
           383
          ],
          [
           106,
           "logistic-distances",
           56,
           3,
           276
          ],
          [
           111,
           "logistic-distances",
           4,
           12,
           47
          ],
          [
           112,
           "linear-distances",
           10,
           18,
           73
          ],
          [
           113,
           "linear-distances",
           24,
           1,
           23
          ],
          [
           117,
           "logistic-distances",
           77,
           8,
           273
          ],
          [
           118,
           "linear-distances",
           66,
           17,
           47
          ],
          [
           120,
           "linear-distances",
           71,
           10,
           38
          ],
          [
           121,
           "logistic-distances",
           83,
           2,
           103
          ],
          [
           123,
           "logistic-distances",
           64,
           20,
           238
          ],
          [
           124,
           "linear-distances",
           6,
           4,
           146
          ],
          [
           129,
           "linear-distances",
           14,
           11,
           35
          ],
          [
           130,
           "logistic-distances",
           44,
           16,
           105
          ],
          [
           131,
           "linear-distances",
           39,
           18,
           380
          ],
          [
           133,
           "linear-distances",
           79,
           20,
           162
          ],
          [
           135,
           "logistic-distances",
           46,
           15,
           411
          ],
          [
           139,
           "logistic-distances",
           12,
           10,
           391
          ],
          [
           140,
           "logistic-distances",
           10,
           19,
           332
          ],
          [
           144,
           "logistic-distances",
           37,
           6,
           359
          ],
          [
           145,
           "linear-distances",
           3,
           4,
           219
          ],
          [
           147,
           "logistic-distances",
           59,
           3,
           406
          ],
          [
           150,
           "linear-distances",
           51,
           10,
           34
          ],
          [
           151,
           "logistic-distances",
           34,
           19,
           329
          ],
          [
           157,
           "logistic-distances",
           20,
           19,
           459
          ],
          [
           162,
           "logistic-distances",
           39,
           10,
           154
          ],
          [
           167,
           "linear-distances",
           87,
           15,
           383
          ],
          [
           170,
           "logistic-distances",
           77,
           13,
           479
          ],
          [
           171,
           "logistic-distances",
           84,
           13,
           223
          ],
          [
           174,
           "linear-distances",
           62,
           1,
           312
          ],
          [
           175,
           "logistic-distances",
           22,
           20,
           489
          ],
          [
           176,
           "linear-distances",
           93,
           4,
           165
          ],
          [
           182,
           "linear-distances",
           86,
           16,
           197
          ],
          [
           183,
           "logistic-distances",
           40,
           8,
           328
          ],
          [
           184,
           "logistic-distances",
           95,
           15,
           241
          ],
          [
           186,
           "linear-distances",
           25,
           16,
           165
          ],
          [
           192,
           "logistic-distances",
           81,
           14,
           31
          ],
          [
           193,
           "logistic-distances",
           94,
           3,
           55
          ],
          [
           194,
           "logistic-distances",
           65,
           4,
           223
          ],
          [
           195,
           "logistic-distances",
           42,
           19,
           302
          ],
          [
           197,
           "logistic-distances",
           79,
           15,
           32
          ],
          [
           198,
           "logistic-distances",
           48,
           4,
           474
          ],
          [
           199,
           "linear-distances",
           93,
           11,
           377
          ],
          [
           202,
           "linear-distances",
           3,
           6,
           370
          ],
          [
           206,
           "logistic-distances",
           92,
           8,
           429
          ],
          [
           207,
           "linear-distances",
           75,
           9,
           125
          ],
          [
           208,
           "logistic-distances",
           65,
           6,
           277
          ],
          [
           216,
           "logistic-distances",
           4,
           11,
           433
          ],
          [
           217,
           "logistic-distances",
           5,
           10,
           453
          ],
          [
           227,
           "logistic-distances",
           25,
           3,
           169
          ],
          [
           228,
           "logistic-distances",
           93,
           16,
           181
          ],
          [
           230,
           "logistic-distances",
           12,
           4,
           157
          ],
          [
           235,
           "logistic-distances",
           90,
           19,
           499
          ],
          [
           239,
           "logistic-distances",
           74,
           18,
           17
          ],
          [
           241,
           "logistic-distances",
           94,
           13,
           452
          ],
          [
           242,
           "logistic-distances",
           15,
           17,
           337
          ],
          [
           254,
           "logistic-distances",
           29,
           18,
           381
          ],
          [
           260,
           "logistic-distances",
           17,
           19,
           399
          ],
          [
           262,
           "logistic-distances",
           67,
           18,
           289
          ],
          [
           264,
           "logistic-distances",
           57,
           13,
           165
          ],
          [
           269,
           "logistic-distances",
           9,
           18,
           385
          ],
          [
           272,
           "logistic-distances",
           4,
           18,
           489
          ],
          [
           278,
           "logistic-distances",
           47,
           2,
           393
          ],
          [
           289,
           "logistic-distances",
           14,
           14,
           348
          ],
          [
           291,
           "logistic-distances",
           53,
           10,
           398
          ],
          [
           295,
           "logistic-distances",
           46,
           16,
           485
          ],
          [
           311,
           "logistic-distances",
           98,
           2,
           254
          ],
          [
           313,
           "logistic-distances",
           38,
           14,
           160
          ],
          [
           321,
           "logistic-distances",
           1,
           8,
           387
          ],
          [
           328,
           "logistic-distances",
           30,
           5,
           193
          ]
         ],
         "hovertemplate": "timescale (ns)=%{x}<br>gap=%{y}<br>hp_ix=%{customdata[0]}<br>feature=%{customdata[1]}<br>tica__lag=%{customdata[2]}<br>tica__dim=%{customdata[3]}<br>cluster__k=%{customdata[4]}<extra></extra>",
         "legendgroup": "",
         "marker": {
          "color": "#636efa",
          "symbol": "circle"
         },
         "mode": "markers",
         "name": "",
         "orientation": "v",
         "showlegend": false,
         "type": "scatter",
         "x": [
          1809.8337529191285,
          1735.573480347799,
          621.2967618017739,
          1979.7604489171931,
          1419.2441121737456,
          2135.1736704263158,
          2133.182818555527,
          2407.257405195548,
          1724.8682204215395,
          1085.1919677719009,
          1934.390180277715,
          2128.8071902496813,
          1805.678364620187,
          1525.3961257363062,
          1783.5900321158979,
          1330.573359677017,
          5981.744304510819,
          1697.0255206947202,
          1241.3249903225058,
          1609.8014720357328,
          1861.9510478691436,
          2076.287154532186,
          1137.673981585539,
          1719.3208090523494,
          20430.946382376897,
          1916.4937212882064,
          2801.9446400406014,
          1965.7979041854373,
          1294.8730239579377,
          1499.2695170839497,
          2259.4615020645665,
          1755.2692910503606,
          1237.8713855536503,
          1824.7675162349456,
          6323.108619138747,
          1470.8756658384027,
          1696.0188072186713,
          3796.6152835324756,
          1409.8789346497895,
          2093.6993288634103,
          1985.1092862608866,
          1741.8980575622134,
          1092.0276359982952,
          2371.1104203965724,
          2690.541741661712,
          3075.4131152045998,
          1676.9365373875173,
          2230.012446515908,
          2519.9737731561736,
          380.801793470878,
          2024.5863973007577,
          2141.6690648731,
          2704.030041486391,
          2319.9525426478563,
          4468.021526009441,
          1745.1316486623964,
          1341.9110914330963,
          1746.1157873127815,
          6602.1459959566,
          1395.3087915559993,
          2088.8800965447936,
          6153.855999090358,
          2568.1144126324584,
          3094.9955085135207,
          5170.455404305227,
          2345.590126530786,
          2106.9756004779715,
          3739.736952942004,
          1835.8599675437076,
          1153.1248976877764,
          1839.275382858555,
          2002.410876651982,
          1366.0062644025224,
          1915.885811461988,
          1750.469379167708,
          1990.1008523450978,
          1424.197371876413,
          1864.5821145086243,
          1636.2565275009201,
          1726.9228024820095,
          5452.640316842955,
          4500.754552467726,
          1264.5761256253518,
          2754.61169823384,
          1535.1412003168602,
          2432.090801657222,
          1850.8962014941392,
          2555.597504237485,
          1678.0831016941706,
          3527.729494466,
          7753.871000389647,
          1372.8031126744986,
          5393.1738122548595,
          3301.788591767512,
          927.3591204666016,
          2016.0120549939634,
          7222.019293546964,
          1933.4757684340339,
          2372.4462428838465,
          1375.124211611579,
          4830.872951687437,
          2099.532806625094,
          1108.3043967040949,
          1806.0678823514293,
          1455.6700161644667,
          1289.8061704135303,
          907.4343953493744,
          2014.1753742090323,
          2270.543679951812,
          2087.214741475066,
          2397.2465234255073,
          1915.6251984213004,
          1636.0563715289372,
          2219.6359681980125,
          2212.2969014849837,
          2002.767130119781,
          3486.087982767811,
          2282.051396342871,
          8025.668786404344,
          1274.4228393179294,
          7986.882734519418,
          3156.3588481955,
          2561.9976980946776,
          4203.7146993235365,
          9658.132640746053,
          3778.848582555631,
          1806.8816539713368,
          6315.704963766879,
          1822.3754459922707,
          3794.189147943823,
          4675.648111930126,
          1928.170199066613,
          395.90609740169725,
          2371.912006598847,
          897.1579939714411,
          392.8928004243387
         ],
         "xaxis": "x",
         "y": [
          1.7916641163245859,
          1.3872741246592737,
          1.3051320514935192,
          1.6333415393821202,
          1.922493173483513,
          1.7650121889284829,
          1.5209525044823797,
          1.4597814601286525,
          1.5944895850167895,
          2.5881954001402407,
          1.9652048747395707,
          1.5283782729322122,
          1.5828449007643637,
          2.391020423329482,
          1.3706387569410379,
          2.011211272487916,
          1.7837227379532714,
          1.5826059809263815,
          1.804865724111736,
          1.4101307518306512,
          2.7997479074023532,
          1.3686373512618273,
          1.682113248290273,
          2.0653400066157594,
          3.2206021263812907,
          2.144031594635096,
          1.3830100152619997,
          3.856475900629621,
          1.3558587700154425,
          1.254318688376633,
          1.5033781074374968,
          1.7602195611525207,
          1.9826106808113293,
          1.7647833854812305,
          1.9198080892082587,
          1.4361812673001177,
          1.6305897297409622,
          1.6154788583569726,
          2.1105942312059316,
          2.559698893079716,
          3.241311561798124,
          1.5360545068379672,
          1.4281225445150632,
          1.3718437543428754,
          1.5344259955398631,
          1.487295462988948,
          1.356174573041793,
          1.810948250149378,
          1.4640256184368083,
          1.2288787020531955,
          1.390155600361721,
          1.533438329112538,
          1.4348173462148963,
          1.4078810055558177,
          1.6023470518940144,
          10.56508824414672,
          1.382238373420823,
          1.8046070608811289,
          1.8348648835489243,
          1.3801389704751275,
          1.6560311029018466,
          1.918718687809377,
          1.4600662619143898,
          1.4002532299457116,
          1.8058646774086593,
          1.2842525597690067,
          1.5044063947683937,
          1.6289454613810324,
          1.8355440397513325,
          1.5761592039544705,
          1.681682006052696,
          10.643027967486205,
          1.502790041422506,
          1.5591596262594072,
          1.5551559265238866,
          1.5368659025478637,
          1.3159167021690048,
          3.760336494732017,
          1.7151685828834027,
          1.3301672109400617,
          1.657164906151419,
          1.7915228145351283,
          1.2805198546385939,
          1.3809247954615271,
          1.3370946325361834,
          1.514749924158375,
          3.3934058388846005,
          1.4004205594083636,
          1.555439301218137,
          1.447826135999791,
          1.8661992412517554,
          1.4190676541109155,
          1.8201142945390911,
          1.5386303188140007,
          1.412288110401731,
          10.84536838850796,
          1.8327709297486432,
          1.5564578268513265,
          1.4106969766331052,
          1.3246888574800755,
          1.7625797223223523,
          1.5081377445053838,
          1.3393017582919937,
          1.3902851731101498,
          1.4093067002246724,
          1.3329084228006436,
          1.202337851056587,
          1.3255765070309677,
          1.3647761490551713,
          2.3753217156480266,
          1.2680240398329956,
          1.432082417088203,
          1.3074044755485108,
          1.4510613024273544,
          1.335494483433838,
          2.166329190151033,
          1.4576201535779214,
          1.4307959159285484,
          1.8104419411164077,
          1.2614551566759664,
          1.9017574424468433,
          1.5178284236013955,
          1.434093832116631,
          1.5603230459126571,
          2.142001176646923,
          1.5904977103636422,
          1.6474925372322748,
          1.787544746296843,
          2.571068578799846,
          1.8259455869365873,
          1.6983404074356843,
          1.4014043646289502,
          1.5995322020062008,
          1.4454831371705992,
          1.3894478886420387,
          1.5254249910409348
         ],
         "yaxis": "y"
        }
       ],
       "layout": {
        "autosize": true,
        "legend": {
         "tracegroupgap": 0
        },
        "margin": {
         "t": 60
        },
        "template": {
         "data": {
          "bar": [
           {
            "error_x": {
             "color": "#2a3f5f"
            },
            "error_y": {
             "color": "#2a3f5f"
            },
            "marker": {
             "line": {
              "color": "#E5ECF6",
              "width": 0.5
             },
             "pattern": {
              "fillmode": "overlay",
              "size": 10,
              "solidity": 0.2
             }
            },
            "type": "bar"
           }
          ],
          "barpolar": [
           {
            "marker": {
             "line": {
              "color": "#E5ECF6",
              "width": 0.5
             },
             "pattern": {
              "fillmode": "overlay",
              "size": 10,
              "solidity": 0.2
             }
            },
            "type": "barpolar"
           }
          ],
          "carpet": [
           {
            "aaxis": {
             "endlinecolor": "#2a3f5f",
             "gridcolor": "white",
             "linecolor": "white",
             "minorgridcolor": "white",
             "startlinecolor": "#2a3f5f"
            },
            "baxis": {
             "endlinecolor": "#2a3f5f",
             "gridcolor": "white",
             "linecolor": "white",
             "minorgridcolor": "white",
             "startlinecolor": "#2a3f5f"
            },
            "type": "carpet"
           }
          ],
          "choropleth": [
           {
            "colorbar": {
             "outlinewidth": 0,
             "ticks": ""
            },
            "type": "choropleth"
           }
          ],
          "contour": [
           {
            "colorbar": {
             "outlinewidth": 0,
             "ticks": ""
            },
            "colorscale": [
             [
              0,
              "#0d0887"
             ],
             [
              0.1111111111111111,
              "#46039f"
             ],
             [
              0.2222222222222222,
              "#7201a8"
             ],
             [
              0.3333333333333333,
              "#9c179e"
             ],
             [
              0.4444444444444444,
              "#bd3786"
             ],
             [
              0.5555555555555556,
              "#d8576b"
             ],
             [
              0.6666666666666666,
              "#ed7953"
             ],
             [
              0.7777777777777778,
              "#fb9f3a"
             ],
             [
              0.8888888888888888,
              "#fdca26"
             ],
             [
              1,
              "#f0f921"
             ]
            ],
            "type": "contour"
           }
          ],
          "contourcarpet": [
           {
            "colorbar": {
             "outlinewidth": 0,
             "ticks": ""
            },
            "type": "contourcarpet"
           }
          ],
          "heatmap": [
           {
            "colorbar": {
             "outlinewidth": 0,
             "ticks": ""
            },
            "colorscale": [
             [
              0,
              "#0d0887"
             ],
             [
              0.1111111111111111,
              "#46039f"
             ],
             [
              0.2222222222222222,
              "#7201a8"
             ],
             [
              0.3333333333333333,
              "#9c179e"
             ],
             [
              0.4444444444444444,
              "#bd3786"
             ],
             [
              0.5555555555555556,
              "#d8576b"
             ],
             [
              0.6666666666666666,
              "#ed7953"
             ],
             [
              0.7777777777777778,
              "#fb9f3a"
             ],
             [
              0.8888888888888888,
              "#fdca26"
             ],
             [
              1,
              "#f0f921"
             ]
            ],
            "type": "heatmap"
           }
          ],
          "heatmapgl": [
           {
            "colorbar": {
             "outlinewidth": 0,
             "ticks": ""
            },
            "colorscale": [
             [
              0,
              "#0d0887"
             ],
             [
              0.1111111111111111,
              "#46039f"
             ],
             [
              0.2222222222222222,
              "#7201a8"
             ],
             [
              0.3333333333333333,
              "#9c179e"
             ],
             [
              0.4444444444444444,
              "#bd3786"
             ],
             [
              0.5555555555555556,
              "#d8576b"
             ],
             [
              0.6666666666666666,
              "#ed7953"
             ],
             [
              0.7777777777777778,
              "#fb9f3a"
             ],
             [
              0.8888888888888888,
              "#fdca26"
             ],
             [
              1,
              "#f0f921"
             ]
            ],
            "type": "heatmapgl"
           }
          ],
          "histogram": [
           {
            "marker": {
             "pattern": {
              "fillmode": "overlay",
              "size": 10,
              "solidity": 0.2
             }
            },
            "type": "histogram"
           }
          ],
          "histogram2d": [
           {
            "colorbar": {
             "outlinewidth": 0,
             "ticks": ""
            },
            "colorscale": [
             [
              0,
              "#0d0887"
             ],
             [
              0.1111111111111111,
              "#46039f"
             ],
             [
              0.2222222222222222,
              "#7201a8"
             ],
             [
              0.3333333333333333,
              "#9c179e"
             ],
             [
              0.4444444444444444,
              "#bd3786"
             ],
             [
              0.5555555555555556,
              "#d8576b"
             ],
             [
              0.6666666666666666,
              "#ed7953"
             ],
             [
              0.7777777777777778,
              "#fb9f3a"
             ],
             [
              0.8888888888888888,
              "#fdca26"
             ],
             [
              1,
              "#f0f921"
             ]
            ],
            "type": "histogram2d"
           }
          ],
          "histogram2dcontour": [
           {
            "colorbar": {
             "outlinewidth": 0,
             "ticks": ""
            },
            "colorscale": [
             [
              0,
              "#0d0887"
             ],
             [
              0.1111111111111111,
              "#46039f"
             ],
             [
              0.2222222222222222,
              "#7201a8"
             ],
             [
              0.3333333333333333,
              "#9c179e"
             ],
             [
              0.4444444444444444,
              "#bd3786"
             ],
             [
              0.5555555555555556,
              "#d8576b"
             ],
             [
              0.6666666666666666,
              "#ed7953"
             ],
             [
              0.7777777777777778,
              "#fb9f3a"
             ],
             [
              0.8888888888888888,
              "#fdca26"
             ],
             [
              1,
              "#f0f921"
             ]
            ],
            "type": "histogram2dcontour"
           }
          ],
          "mesh3d": [
           {
            "colorbar": {
             "outlinewidth": 0,
             "ticks": ""
            },
            "type": "mesh3d"
           }
          ],
          "parcoords": [
           {
            "line": {
             "colorbar": {
              "outlinewidth": 0,
              "ticks": ""
             }
            },
            "type": "parcoords"
           }
          ],
          "pie": [
           {
            "automargin": true,
            "type": "pie"
           }
          ],
          "scatter": [
           {
            "marker": {
             "colorbar": {
              "outlinewidth": 0,
              "ticks": ""
             }
            },
            "type": "scatter"
           }
          ],
          "scatter3d": [
           {
            "line": {
             "colorbar": {
              "outlinewidth": 0,
              "ticks": ""
             }
            },
            "marker": {
             "colorbar": {
              "outlinewidth": 0,
              "ticks": ""
             }
            },
            "type": "scatter3d"
           }
          ],
          "scattercarpet": [
           {
            "marker": {
             "colorbar": {
              "outlinewidth": 0,
              "ticks": ""
             }
            },
            "type": "scattercarpet"
           }
          ],
          "scattergeo": [
           {
            "marker": {
             "colorbar": {
              "outlinewidth": 0,
              "ticks": ""
             }
            },
            "type": "scattergeo"
           }
          ],
          "scattergl": [
           {
            "marker": {
             "colorbar": {
              "outlinewidth": 0,
              "ticks": ""
             }
            },
            "type": "scattergl"
           }
          ],
          "scattermapbox": [
           {
            "marker": {
             "colorbar": {
              "outlinewidth": 0,
              "ticks": ""
             }
            },
            "type": "scattermapbox"
           }
          ],
          "scatterpolar": [
           {
            "marker": {
             "colorbar": {
              "outlinewidth": 0,
              "ticks": ""
             }
            },
            "type": "scatterpolar"
           }
          ],
          "scatterpolargl": [
           {
            "marker": {
             "colorbar": {
              "outlinewidth": 0,
              "ticks": ""
             }
            },
            "type": "scatterpolargl"
           }
          ],
          "scatterternary": [
           {
            "marker": {
             "colorbar": {
              "outlinewidth": 0,
              "ticks": ""
             }
            },
            "type": "scatterternary"
           }
          ],
          "surface": [
           {
            "colorbar": {
             "outlinewidth": 0,
             "ticks": ""
            },
            "colorscale": [
             [
              0,
              "#0d0887"
             ],
             [
              0.1111111111111111,
              "#46039f"
             ],
             [
              0.2222222222222222,
              "#7201a8"
             ],
             [
              0.3333333333333333,
              "#9c179e"
             ],
             [
              0.4444444444444444,
              "#bd3786"
             ],
             [
              0.5555555555555556,
              "#d8576b"
             ],
             [
              0.6666666666666666,
              "#ed7953"
             ],
             [
              0.7777777777777778,
              "#fb9f3a"
             ],
             [
              0.8888888888888888,
              "#fdca26"
             ],
             [
              1,
              "#f0f921"
             ]
            ],
            "type": "surface"
           }
          ],
          "table": [
           {
            "cells": {
             "fill": {
              "color": "#EBF0F8"
             },
             "line": {
              "color": "white"
             }
            },
            "header": {
             "fill": {
              "color": "#C8D4E3"
             },
             "line": {
              "color": "white"
             }
            },
            "type": "table"
           }
          ]
         },
         "layout": {
          "annotationdefaults": {
           "arrowcolor": "#2a3f5f",
           "arrowhead": 0,
           "arrowwidth": 1
          },
          "autotypenumbers": "strict",
          "coloraxis": {
           "colorbar": {
            "outlinewidth": 0,
            "ticks": ""
           }
          },
          "colorscale": {
           "diverging": [
            [
             0,
             "#8e0152"
            ],
            [
             0.1,
             "#c51b7d"
            ],
            [
             0.2,
             "#de77ae"
            ],
            [
             0.3,
             "#f1b6da"
            ],
            [
             0.4,
             "#fde0ef"
            ],
            [
             0.5,
             "#f7f7f7"
            ],
            [
             0.6,
             "#e6f5d0"
            ],
            [
             0.7,
             "#b8e186"
            ],
            [
             0.8,
             "#7fbc41"
            ],
            [
             0.9,
             "#4d9221"
            ],
            [
             1,
             "#276419"
            ]
           ],
           "sequential": [
            [
             0,
             "#0d0887"
            ],
            [
             0.1111111111111111,
             "#46039f"
            ],
            [
             0.2222222222222222,
             "#7201a8"
            ],
            [
             0.3333333333333333,
             "#9c179e"
            ],
            [
             0.4444444444444444,
             "#bd3786"
            ],
            [
             0.5555555555555556,
             "#d8576b"
            ],
            [
             0.6666666666666666,
             "#ed7953"
            ],
            [
             0.7777777777777778,
             "#fb9f3a"
            ],
            [
             0.8888888888888888,
             "#fdca26"
            ],
            [
             1,
             "#f0f921"
            ]
           ],
           "sequentialminus": [
            [
             0,
             "#0d0887"
            ],
            [
             0.1111111111111111,
             "#46039f"
            ],
            [
             0.2222222222222222,
             "#7201a8"
            ],
            [
             0.3333333333333333,
             "#9c179e"
            ],
            [
             0.4444444444444444,
             "#bd3786"
            ],
            [
             0.5555555555555556,
             "#d8576b"
            ],
            [
             0.6666666666666666,
             "#ed7953"
            ],
            [
             0.7777777777777778,
             "#fb9f3a"
            ],
            [
             0.8888888888888888,
             "#fdca26"
            ],
            [
             1,
             "#f0f921"
            ]
           ]
          },
          "colorway": [
           "#636efa",
           "#EF553B",
           "#00cc96",
           "#ab63fa",
           "#FFA15A",
           "#19d3f3",
           "#FF6692",
           "#B6E880",
           "#FF97FF",
           "#FECB52"
          ],
          "font": {
           "color": "#2a3f5f"
          },
          "geo": {
           "bgcolor": "white",
           "lakecolor": "white",
           "landcolor": "#E5ECF6",
           "showlakes": true,
           "showland": true,
           "subunitcolor": "white"
          },
          "hoverlabel": {
           "align": "left"
          },
          "hovermode": "closest",
          "mapbox": {
           "style": "light"
          },
          "paper_bgcolor": "white",
          "plot_bgcolor": "#E5ECF6",
          "polar": {
           "angularaxis": {
            "gridcolor": "white",
            "linecolor": "white",
            "ticks": ""
           },
           "bgcolor": "#E5ECF6",
           "radialaxis": {
            "gridcolor": "white",
            "linecolor": "white",
            "ticks": ""
           }
          },
          "scene": {
           "xaxis": {
            "backgroundcolor": "#E5ECF6",
            "gridcolor": "white",
            "gridwidth": 2,
            "linecolor": "white",
            "showbackground": true,
            "ticks": "",
            "zerolinecolor": "white"
           },
           "yaxis": {
            "backgroundcolor": "#E5ECF6",
            "gridcolor": "white",
            "gridwidth": 2,
            "linecolor": "white",
            "showbackground": true,
            "ticks": "",
            "zerolinecolor": "white"
           },
           "zaxis": {
            "backgroundcolor": "#E5ECF6",
            "gridcolor": "white",
            "gridwidth": 2,
            "linecolor": "white",
            "showbackground": true,
            "ticks": "",
            "zerolinecolor": "white"
           }
          },
          "shapedefaults": {
           "line": {
            "color": "#2a3f5f"
           }
          },
          "ternary": {
           "aaxis": {
            "gridcolor": "white",
            "linecolor": "white",
            "ticks": ""
           },
           "baxis": {
            "gridcolor": "white",
            "linecolor": "white",
            "ticks": ""
           },
           "bgcolor": "#E5ECF6",
           "caxis": {
            "gridcolor": "white",
            "linecolor": "white",
            "ticks": ""
           }
          },
          "title": {
           "x": 0.05
          },
          "xaxis": {
           "automargin": true,
           "gridcolor": "white",
           "linecolor": "white",
           "ticks": "",
           "title": {
            "standoff": 15
           },
           "zerolinecolor": "white",
           "zerolinewidth": 2
          },
          "yaxis": {
           "automargin": true,
           "gridcolor": "white",
           "linecolor": "white",
           "ticks": "",
           "title": {
            "standoff": 15
           },
           "zerolinecolor": "white",
           "zerolinewidth": 2
          }
         }
        },
        "xaxis": {
         "anchor": "y",
         "autorange": true,
         "domain": [
          0,
          1
         ],
         "range": [
          -860.8356007962379,
          21672.583776644013
         ],
         "title": {
          "text": "timescale (ns)"
         },
         "type": "linear"
        },
        "yaxis": {
         "anchor": "x",
         "autorange": true,
         "domain": [
          0,
          1
         ],
         "range": [
          0.4556990036686197,
          11.592007235895927
         ],
         "title": {
          "text": "gap"
         },
         "type": "linear"
        }
       }
      },
      "image/png": "[encoded data removed]",
      "text/html": [
       "<div>                            <div id=\"dbfd5ff9-82ad-4aeb-8339-4fe8e63a3a00\" class=\"plotly-graph-div\" style=\"height:525px; width:100%;\"></div>            <script type=\"text/javascript\">                require([\"plotly\"], function(Plotly) {                    window.PLOTLYENV=window.PLOTLYENV || {};                                    if (document.getElementById(\"dbfd5ff9-82ad-4aeb-8339-4fe8e63a3a00\")) {                    Plotly.newPlot(                        \"dbfd5ff9-82ad-4aeb-8339-4fe8e63a3a00\",                        [{\"customdata\":[[0,\"dihedrals\",36,19,306],[1,\"logistic-distances\",93,4,251],[2,\"logistic-distances\",68,18,98],[3,\"logistic-distances\",94,4,441],[4,\"dihedrals\",87,15,104],[5,\"linear-distances\",19,7,275],[6,\"dihedrals\",99,13,471],[7,\"linear-distances\",14,16,368],[8,\"dihedrals\",79,20,231],[9,\"dihedrals\",21,13,75],[10,\"dihedrals\",74,5,375],[11,\"linear-distances\",43,5,153],[12,\"dihedrals\",100,10,257],[13,\"dihedrals\",33,6,136],[14,\"logistic-distances\",40,4,101],[15,\"dihedrals\",60,11,92],[16,\"logistic-distances\",23,15,244],[17,\"dihedrals\",73,20,220],[18,\"dihedrals\",98,14,63],[19,\"logistic-distances\",73,19,265],[20,\"dihedrals\",51,4,270],[21,\"logistic-distances\",74,5,464],[22,\"logistic-distances\",22,6,148],[23,\"linear-distances\",15,6,79],[24,\"logistic-distances\",60,20,471],[25,\"dihedrals\",91,4,456],[26,\"logistic-distances\",86,18,389],[27,\"dihedrals\",83,2,434],[28,\"logistic-distances\",92,12,65],[29,\"logistic-distances\",76,7,134],[30,\"linear-distances\",42,6,222],[31,\"dihedrals\",81,15,213],[32,\"dihedrals\",75,11,66],[33,\"dihedrals\",53,17,300],[34,\"logistic-distances\",72,16,483],[35,\"logistic-distances\",76,4,495],[36,\"dihedrals\",83,20,213],[37,\"linear-distances\",44,20,196],[38,\"dihedrals\",67,8,99],[39,\"linear-distances\",40,3,237],[40,\"dihedrals\",13,5,384],[42,\"linear-distances\",59,8,75],[43,\"logistic-distances\",88,10,38],[44,\"linear-distances\",69,8,255],[47,\"linear-distances\",60,18,122],[54,\"linear-distances\",61,16,392],[55,\"logistic-distances\",33,13,474],[57,\"linear-distances\",25,5,254],[60,\"linear-distances\",19,11,285],[67,\"logistic-distances\",57,18,110],[68,\"linear-distances\",75,8,224],[69,\"linear-distances\",11,11,278],[72,\"linear-distances\",38,14,488],[73,\"linear-distances\",41,9,441],[74,\"linear-distances\",71,15,488],[78,\"logistic-distances\",12,1,315],[81,\"logistic-distances\",65,9,192],[83,\"logistic-distances\",80,3,445],[85,\"linear-distances\",52,19,485],[86,\"logistic-distances\",51,10,177],[87,\"linear-distances\",20,12,99],[88,\"logistic-distances\",34,12,245],[89,\"linear-distances\",53,14,336],[91,\"logistic-distances\",15,13,423],[93,\"logistic-distances\",25,17,382],[101,\"logistic-distances\",94,9,146],[102,\"linear-distances\",68,6,322],[104,\"logistic-distances\",46,16,383],[106,\"logistic-distances\",56,3,276],[111,\"logistic-distances\",4,12,47],[112,\"linear-distances\",10,18,73],[113,\"linear-distances\",24,1,23],[117,\"logistic-distances\",77,8,273],[118,\"linear-distances\",66,17,47],[120,\"linear-distances\",71,10,38],[121,\"logistic-distances\",83,2,103],[123,\"logistic-distances\",64,20,238],[124,\"linear-distances\",6,4,146],[129,\"linear-distances\",14,11,35],[130,\"logistic-distances\",44,16,105],[131,\"linear-distances\",39,18,380],[133,\"linear-distances\",79,20,162],[135,\"logistic-distances\",46,15,411],[139,\"logistic-distances\",12,10,391],[140,\"logistic-distances\",10,19,332],[144,\"logistic-distances\",37,6,359],[145,\"linear-distances\",3,4,219],[147,\"logistic-distances\",59,3,406],[150,\"linear-distances\",51,10,34],[151,\"logistic-distances\",34,19,329],[157,\"logistic-distances\",20,19,459],[162,\"logistic-distances\",39,10,154],[167,\"linear-distances\",87,15,383],[170,\"logistic-distances\",77,13,479],[171,\"logistic-distances\",84,13,223],[174,\"linear-distances\",62,1,312],[175,\"logistic-distances\",22,20,489],[176,\"linear-distances\",93,4,165],[182,\"linear-distances\",86,16,197],[183,\"logistic-distances\",40,8,328],[184,\"logistic-distances\",95,15,241],[186,\"linear-distances\",25,16,165],[192,\"logistic-distances\",81,14,31],[193,\"logistic-distances\",94,3,55],[194,\"logistic-distances\",65,4,223],[195,\"logistic-distances\",42,19,302],[197,\"logistic-distances\",79,15,32],[198,\"logistic-distances\",48,4,474],[199,\"linear-distances\",93,11,377],[202,\"linear-distances\",3,6,370],[206,\"logistic-distances\",92,8,429],[207,\"linear-distances\",75,9,125],[208,\"logistic-distances\",65,6,277],[216,\"logistic-distances\",4,11,433],[217,\"logistic-distances\",5,10,453],[227,\"logistic-distances\",25,3,169],[228,\"logistic-distances\",93,16,181],[230,\"logistic-distances\",12,4,157],[235,\"logistic-distances\",90,19,499],[239,\"logistic-distances\",74,18,17],[241,\"logistic-distances\",94,13,452],[242,\"logistic-distances\",15,17,337],[254,\"logistic-distances\",29,18,381],[260,\"logistic-distances\",17,19,399],[262,\"logistic-distances\",67,18,289],[264,\"logistic-distances\",57,13,165],[269,\"logistic-distances\",9,18,385],[272,\"logistic-distances\",4,18,489],[278,\"logistic-distances\",47,2,393],[289,\"logistic-distances\",14,14,348],[291,\"logistic-distances\",53,10,398],[295,\"logistic-distances\",46,16,485],[311,\"logistic-distances\",98,2,254],[313,\"logistic-distances\",38,14,160],[321,\"logistic-distances\",1,8,387],[328,\"logistic-distances\",30,5,193]],\"hovertemplate\":\"timescale (ns)=%{x}<br>gap=%{y}<br>hp_ix=%{customdata[0]}<br>feature=%{customdata[1]}<br>tica__lag=%{customdata[2]}<br>tica__dim=%{customdata[3]}<br>cluster__k=%{customdata[4]}<extra></extra>\",\"legendgroup\":\"\",\"marker\":{\"color\":\"#636efa\",\"symbol\":\"circle\"},\"mode\":\"markers\",\"name\":\"\",\"orientation\":\"v\",\"showlegend\":false,\"type\":\"scatter\",\"x\":[1809.8337529191285,1735.573480347799,621.2967618017739,1979.7604489171931,1419.2441121737456,2135.1736704263158,2133.182818555527,2407.257405195548,1724.8682204215395,1085.1919677719009,1934.390180277715,2128.8071902496813,1805.678364620187,1525.3961257363062,1783.5900321158979,1330.573359677017,5981.744304510819,1697.0255206947202,1241.3249903225058,1609.8014720357328,1861.9510478691436,2076.287154532186,1137.673981585539,1719.3208090523494,20430.946382376897,1916.4937212882064,2801.9446400406014,1965.7979041854373,1294.8730239579377,1499.2695170839497,2259.4615020645665,1755.2692910503606,1237.8713855536503,1824.7675162349456,6323.108619138747,1470.8756658384027,1696.0188072186713,3796.6152835324756,1409.8789346497895,2093.6993288634103,1985.1092862608866,1741.8980575622134,1092.0276359982952,2371.1104203965724,2690.541741661712,3075.4131152045998,1676.9365373875173,2230.012446515908,2519.9737731561736,380.801793470878,2024.5863973007577,2141.6690648731,2704.030041486391,2319.9525426478563,4468.021526009441,1745.1316486623964,1341.9110914330963,1746.1157873127815,6602.1459959566,1395.3087915559993,2088.8800965447936,6153.855999090358,2568.1144126324584,3094.9955085135207,5170.455404305227,2345.590126530786,2106.9756004779715,3739.736952942004,1835.8599675437076,1153.1248976877764,1839.275382858555,2002.410876651982,1366.0062644025224,1915.885811461988,1750.469379167708,1990.1008523450978,1424.197371876413,1864.5821145086243,1636.2565275009201,1726.9228024820095,5452.640316842955,4500.754552467726,1264.5761256253518,2754.61169823384,1535.1412003168602,2432.090801657222,1850.8962014941392,2555.597504237485,1678.0831016941706,3527.729494466,7753.871000389647,1372.8031126744986,5393.1738122548595,3301.788591767512,927.3591204666016,2016.0120549939634,7222.019293546964,1933.4757684340339,2372.4462428838465,1375.124211611579,4830.872951687437,2099.532806625094,1108.3043967040949,1806.0678823514293,1455.6700161644667,1289.8061704135303,907.4343953493744,2014.1753742090323,2270.543679951812,2087.214741475066,2397.2465234255073,1915.6251984213004,1636.0563715289372,2219.6359681980125,2212.2969014849837,2002.767130119781,3486.087982767811,2282.051396342871,8025.668786404344,1274.4228393179294,7986.882734519418,3156.3588481955,2561.9976980946776,4203.7146993235365,9658.132640746053,3778.848582555631,1806.8816539713368,6315.704963766879,1822.3754459922707,3794.189147943823,4675.648111930126,1928.170199066613,395.90609740169725,2371.912006598847,897.1579939714411,392.8928004243387],\"xaxis\":\"x\",\"y\":[1.7916641163245859,1.3872741246592737,1.3051320514935192,1.6333415393821202,1.922493173483513,1.7650121889284829,1.5209525044823797,1.4597814601286525,1.5944895850167895,2.5881954001402407,1.9652048747395707,1.5283782729322122,1.5828449007643637,2.391020423329482,1.3706387569410379,2.011211272487916,1.7837227379532714,1.5826059809263815,1.804865724111736,1.4101307518306512,2.7997479074023532,1.3686373512618273,1.682113248290273,2.0653400066157594,3.2206021263812907,2.144031594635096,1.3830100152619997,3.856475900629621,1.3558587700154425,1.254318688376633,1.5033781074374968,1.7602195611525207,1.9826106808113293,1.7647833854812305,1.9198080892082587,1.4361812673001177,1.6305897297409622,1.6154788583569726,2.1105942312059316,2.559698893079716,3.241311561798124,1.5360545068379672,1.4281225445150632,1.3718437543428754,1.5344259955398631,1.487295462988948,1.356174573041793,1.810948250149378,1.4640256184368083,1.2288787020531955,1.390155600361721,1.533438329112538,1.4348173462148963,1.4078810055558177,1.6023470518940144,10.56508824414672,1.382238373420823,1.8046070608811289,1.8348648835489243,1.3801389704751275,1.6560311029018466,1.918718687809377,1.4600662619143898,1.4002532299457116,1.8058646774086593,1.2842525597690067,1.5044063947683937,1.6289454613810324,1.8355440397513325,1.5761592039544705,1.681682006052696,10.643027967486205,1.502790041422506,1.5591596262594072,1.5551559265238866,1.5368659025478637,1.3159167021690048,3.760336494732017,1.7151685828834027,1.3301672109400617,1.657164906151419,1.7915228145351283,1.2805198546385939,1.3809247954615271,1.3370946325361834,1.514749924158375,3.3934058388846005,1.4004205594083636,1.555439301218137,1.447826135999791,1.8661992412517554,1.4190676541109155,1.8201142945390911,1.5386303188140007,1.412288110401731,10.84536838850796,1.8327709297486432,1.5564578268513265,1.4106969766331052,1.3246888574800755,1.7625797223223523,1.5081377445053838,1.3393017582919937,1.3902851731101498,1.4093067002246724,1.3329084228006436,1.202337851056587,1.3255765070309677,1.3647761490551713,2.3753217156480266,1.2680240398329956,1.432082417088203,1.3074044755485108,1.4510613024273544,1.335494483433838,2.166329190151033,1.4576201535779214,1.4307959159285484,1.8104419411164077,1.2614551566759664,1.9017574424468433,1.5178284236013955,1.434093832116631,1.5603230459126571,2.142001176646923,1.5904977103636422,1.6474925372322748,1.787544746296843,2.571068578799846,1.8259455869365873,1.6983404074356843,1.4014043646289502,1.5995322020062008,1.4454831371705992,1.3894478886420387,1.5254249910409348],\"yaxis\":\"y\"}],                        {\"legend\":{\"tracegroupgap\":0},\"margin\":{\"t\":60},\"template\":{\"data\":{\"bar\":[{\"error_x\":{\"color\":\"#2a3f5f\"},\"error_y\":{\"color\":\"#2a3f5f\"},\"marker\":{\"line\":{\"color\":\"#E5ECF6\",\"width\":0.5},\"pattern\":{\"fillmode\":\"overlay\",\"size\":10,\"solidity\":0.2}},\"type\":\"bar\"}],\"barpolar\":[{\"marker\":{\"line\":{\"color\":\"#E5ECF6\",\"width\":0.5},\"pattern\":{\"fillmode\":\"overlay\",\"size\":10,\"solidity\":0.2}},\"type\":\"barpolar\"}],\"carpet\":[{\"aaxis\":{\"endlinecolor\":\"#2a3f5f\",\"gridcolor\":\"white\",\"linecolor\":\"white\",\"minorgridcolor\":\"white\",\"startlinecolor\":\"#2a3f5f\"},\"baxis\":{\"endlinecolor\":\"#2a3f5f\",\"gridcolor\":\"white\",\"linecolor\":\"white\",\"minorgridcolor\":\"white\",\"startlinecolor\":\"#2a3f5f\"},\"type\":\"carpet\"}],\"choropleth\":[{\"colorbar\":{\"outlinewidth\":0,\"ticks\":\"\"},\"type\":\"choropleth\"}],\"contour\":[{\"colorbar\":{\"outlinewidth\":0,\"ticks\":\"\"},\"colorscale\":[[0.0,\"#0d0887\"],[0.1111111111111111,\"#46039f\"],[0.2222222222222222,\"#7201a8\"],[0.3333333333333333,\"#9c179e\"],[0.4444444444444444,\"#bd3786\"],[0.5555555555555556,\"#d8576b\"],[0.6666666666666666,\"#ed7953\"],[0.7777777777777778,\"#fb9f3a\"],[0.8888888888888888,\"#fdca26\"],[1.0,\"#f0f921\"]],\"type\":\"contour\"}],\"contourcarpet\":[{\"colorbar\":{\"outlinewidth\":0,\"ticks\":\"\"},\"type\":\"contourcarpet\"}],\"heatmap\":[{\"colorbar\":{\"outlinewidth\":0,\"ticks\":\"\"},\"colorscale\":[[0.0,\"#0d0887\"],[0.1111111111111111,\"#46039f\"],[0.2222222222222222,\"#7201a8\"],[0.3333333333333333,\"#9c179e\"],[0.4444444444444444,\"#bd3786\"],[0.5555555555555556,\"#d8576b\"],[0.6666666666666666,\"#ed7953\"],[0.7777777777777778,\"#fb9f3a\"],[0.8888888888888888,\"#fdca26\"],[1.0,\"#f0f921\"]],\"type\":\"heatmap\"}],\"heatmapgl\":[{\"colorbar\":{\"outlinewidth\":0,\"ticks\":\"\"},\"colorscale\":[[0.0,\"#0d0887\"],[0.1111111111111111,\"#46039f\"],[0.2222222222222222,\"#7201a8\"],[0.3333333333333333,\"#9c179e\"],[0.4444444444444444,\"#bd3786\"],[0.5555555555555556,\"#d8576b\"],[0.6666666666666666,\"#ed7953\"],[0.7777777777777778,\"#fb9f3a\"],[0.8888888888888888,\"#fdca26\"],[1.0,\"#f0f921\"]],\"type\":\"heatmapgl\"}],\"histogram\":[{\"marker\":{\"pattern\":{\"fillmode\":\"overlay\",\"size\":10,\"solidity\":0.2}},\"type\":\"histogram\"}],\"histogram2d\":[{\"colorbar\":{\"outlinewidth\":0,\"ticks\":\"\"},\"colorscale\":[[0.0,\"#0d0887\"],[0.1111111111111111,\"#46039f\"],[0.2222222222222222,\"#7201a8\"],[0.3333333333333333,\"#9c179e\"],[0.4444444444444444,\"#bd3786\"],[0.5555555555555556,\"#d8576b\"],[0.6666666666666666,\"#ed7953\"],[0.7777777777777778,\"#fb9f3a\"],[0.8888888888888888,\"#fdca26\"],[1.0,\"#f0f921\"]],\"type\":\"histogram2d\"}],\"histogram2dcontour\":[{\"colorbar\":{\"outlinewidth\":0,\"ticks\":\"\"},\"colorscale\":[[0.0,\"#0d0887\"],[0.1111111111111111,\"#46039f\"],[0.2222222222222222,\"#7201a8\"],[0.3333333333333333,\"#9c179e\"],[0.4444444444444444,\"#bd3786\"],[0.5555555555555556,\"#d8576b\"],[0.6666666666666666,\"#ed7953\"],[0.7777777777777778,\"#fb9f3a\"],[0.8888888888888888,\"#fdca26\"],[1.0,\"#f0f921\"]],\"type\":\"histogram2dcontour\"}],\"mesh3d\":[{\"colorbar\":{\"outlinewidth\":0,\"ticks\":\"\"},\"type\":\"mesh3d\"}],\"parcoords\":[{\"line\":{\"colorbar\":{\"outlinewidth\":0,\"ticks\":\"\"}},\"type\":\"parcoords\"}],\"pie\":[{\"automargin\":true,\"type\":\"pie\"}],\"scatter\":[{\"marker\":{\"colorbar\":{\"outlinewidth\":0,\"ticks\":\"\"}},\"type\":\"scatter\"}],\"scatter3d\":[{\"line\":{\"colorbar\":{\"outlinewidth\":0,\"ticks\":\"\"}},\"marker\":{\"colorbar\":{\"outlinewidth\":0,\"ticks\":\"\"}},\"type\":\"scatter3d\"}],\"scattercarpet\":[{\"marker\":{\"colorbar\":{\"outlinewidth\":0,\"ticks\":\"\"}},\"type\":\"scattercarpet\"}],\"scattergeo\":[{\"marker\":{\"colorbar\":{\"outlinewidth\":0,\"ticks\":\"\"}},\"type\":\"scattergeo\"}],\"scattergl\":[{\"marker\":{\"colorbar\":{\"outlinewidth\":0,\"ticks\":\"\"}},\"type\":\"scattergl\"}],\"scattermapbox\":[{\"marker\":{\"colorbar\":{\"outlinewidth\":0,\"ticks\":\"\"}},\"type\":\"scattermapbox\"}],\"scatterpolar\":[{\"marker\":{\"colorbar\":{\"outlinewidth\":0,\"ticks\":\"\"}},\"type\":\"scatterpolar\"}],\"scatterpolargl\":[{\"marker\":{\"colorbar\":{\"outlinewidth\":0,\"ticks\":\"\"}},\"type\":\"scatterpolargl\"}],\"scatterternary\":[{\"marker\":{\"colorbar\":{\"outlinewidth\":0,\"ticks\":\"\"}},\"type\":\"scatterternary\"}],\"surface\":[{\"colorbar\":{\"outlinewidth\":0,\"ticks\":\"\"},\"colorscale\":[[0.0,\"#0d0887\"],[0.1111111111111111,\"#46039f\"],[0.2222222222222222,\"#7201a8\"],[0.3333333333333333,\"#9c179e\"],[0.4444444444444444,\"#bd3786\"],[0.5555555555555556,\"#d8576b\"],[0.6666666666666666,\"#ed7953\"],[0.7777777777777778,\"#fb9f3a\"],[0.8888888888888888,\"#fdca26\"],[1.0,\"#f0f921\"]],\"type\":\"surface\"}],\"table\":[{\"cells\":{\"fill\":{\"color\":\"#EBF0F8\"},\"line\":{\"color\":\"white\"}},\"header\":{\"fill\":{\"color\":\"#C8D4E3\"},\"line\":{\"color\":\"white\"}},\"type\":\"table\"}]},\"layout\":{\"annotationdefaults\":{\"arrowcolor\":\"#2a3f5f\",\"arrowhead\":0,\"arrowwidth\":1},\"autotypenumbers\":\"strict\",\"coloraxis\":{\"colorbar\":{\"outlinewidth\":0,\"ticks\":\"\"}},\"colorscale\":{\"diverging\":[[0,\"#8e0152\"],[0.1,\"#c51b7d\"],[0.2,\"#de77ae\"],[0.3,\"#f1b6da\"],[0.4,\"#fde0ef\"],[0.5,\"#f7f7f7\"],[0.6,\"#e6f5d0\"],[0.7,\"#b8e186\"],[0.8,\"#7fbc41\"],[0.9,\"#4d9221\"],[1,\"#276419\"]],\"sequential\":[[0.0,\"#0d0887\"],[0.1111111111111111,\"#46039f\"],[0.2222222222222222,\"#7201a8\"],[0.3333333333333333,\"#9c179e\"],[0.4444444444444444,\"#bd3786\"],[0.5555555555555556,\"#d8576b\"],[0.6666666666666666,\"#ed7953\"],[0.7777777777777778,\"#fb9f3a\"],[0.8888888888888888,\"#fdca26\"],[1.0,\"#f0f921\"]],\"sequentialminus\":[[0.0,\"#0d0887\"],[0.1111111111111111,\"#46039f\"],[0.2222222222222222,\"#7201a8\"],[0.3333333333333333,\"#9c179e\"],[0.4444444444444444,\"#bd3786\"],[0.5555555555555556,\"#d8576b\"],[0.6666666666666666,\"#ed7953\"],[0.7777777777777778,\"#fb9f3a\"],[0.8888888888888888,\"#fdca26\"],[1.0,\"#f0f921\"]]},\"colorway\":[\"#636efa\",\"#EF553B\",\"#00cc96\",\"#ab63fa\",\"#FFA15A\",\"#19d3f3\",\"#FF6692\",\"#B6E880\",\"#FF97FF\",\"#FECB52\"],\"font\":{\"color\":\"#2a3f5f\"},\"geo\":{\"bgcolor\":\"white\",\"lakecolor\":\"white\",\"landcolor\":\"#E5ECF6\",\"showlakes\":true,\"showland\":true,\"subunitcolor\":\"white\"},\"hoverlabel\":{\"align\":\"left\"},\"hovermode\":\"closest\",\"mapbox\":{\"style\":\"light\"},\"paper_bgcolor\":\"white\",\"plot_bgcolor\":\"#E5ECF6\",\"polar\":{\"angularaxis\":{\"gridcolor\":\"white\",\"linecolor\":\"white\",\"ticks\":\"\"},\"bgcolor\":\"#E5ECF6\",\"radialaxis\":{\"gridcolor\":\"white\",\"linecolor\":\"white\",\"ticks\":\"\"}},\"scene\":{\"xaxis\":{\"backgroundcolor\":\"#E5ECF6\",\"gridcolor\":\"white\",\"gridwidth\":2,\"linecolor\":\"white\",\"showbackground\":true,\"ticks\":\"\",\"zerolinecolor\":\"white\"},\"yaxis\":{\"backgroundcolor\":\"#E5ECF6\",\"gridcolor\":\"white\",\"gridwidth\":2,\"linecolor\":\"white\",\"showbackground\":true,\"ticks\":\"\",\"zerolinecolor\":\"white\"},\"zaxis\":{\"backgroundcolor\":\"#E5ECF6\",\"gridcolor\":\"white\",\"gridwidth\":2,\"linecolor\":\"white\",\"showbackground\":true,\"ticks\":\"\",\"zerolinecolor\":\"white\"}},\"shapedefaults\":{\"line\":{\"color\":\"#2a3f5f\"}},\"ternary\":{\"aaxis\":{\"gridcolor\":\"white\",\"linecolor\":\"white\",\"ticks\":\"\"},\"baxis\":{\"gridcolor\":\"white\",\"linecolor\":\"white\",\"ticks\":\"\"},\"bgcolor\":\"#E5ECF6\",\"caxis\":{\"gridcolor\":\"white\",\"linecolor\":\"white\",\"ticks\":\"\"}},\"title\":{\"x\":0.05},\"xaxis\":{\"automargin\":true,\"gridcolor\":\"white\",\"linecolor\":\"white\",\"ticks\":\"\",\"title\":{\"standoff\":15},\"zerolinecolor\":\"white\",\"zerolinewidth\":2},\"yaxis\":{\"automargin\":true,\"gridcolor\":\"white\",\"linecolor\":\"white\",\"ticks\":\"\",\"title\":{\"standoff\":15},\"zerolinecolor\":\"white\",\"zerolinewidth\":2}}},\"xaxis\":{\"anchor\":\"y\",\"domain\":[0.0,1.0],\"title\":{\"text\":\"timescale (ns)\"}},\"yaxis\":{\"anchor\":\"x\",\"domain\":[0.0,1.0],\"title\":{\"text\":\"gap\"}}},                        {\"responsive\": true}                    ).then(function(){\n",
       "                            \n",
       "var gd = document.getElementById('dbfd5ff9-82ad-4aeb-8339-4fe8e63a3a00');\n",
       "var x = new MutationObserver(function (mutations, observer) {{\n",
       "        var display = window.getComputedStyle(gd).display;\n",
       "        if (!display || display === 'none') {{\n",
       "            console.log([gd, 'removed!']);\n",
       "            Plotly.purge(gd);\n",
       "            observer.disconnect();\n",
       "        }}\n",
       "}});\n",
       "\n",
       "// Listen for the removal of the full notebook cells\n",
       "var notebookContainer = gd.closest('#notebook-container');\n",
       "if (notebookContainer) {{\n",
       "    x.observe(notebookContainer, {childList: true});\n",
       "}}\n",
       "\n",
       "// Listen for the clearing of the current output cell\n",
       "var outputEl = gd.closest('.output');\n",
       "if (outputEl) {{\n",
       "    x.observe(outputEl, {childList: true});\n",
       "}}\n",
       "\n",
       "                        })                };                });            </script>        </div>"
      ]
     },
     "metadata": {},
     "output_type": "display_data"
    }
   ],
   "source": [
    "data=timescales.query(\"process==2\").query('lag==41').query('hp_ix < 329')\n",
    "\n",
    "# df = px.data.iris() # iris is a pandas DataFrame\n",
    "fig = px.scatter(data, x=\"median_x\", y=\"median_y\", hover_data=['hp_ix', 'feature', 'tica__lag', 'tica__dim', 'cluster__k'], \n",
    "                labels={\n",
    "                     \"cum_ts\": \"cum. timescale (ns)\",\n",
    "                     \"median_y\": \"gap\",\n",
    "                    \"median_x\": 'timescale (ns)'\n",
    "                 })\n",
    "fig.show()"
   ]
  },
  {
   "cell_type": "code",
   "execution_count": 20,
   "id": "c5f9cf8f-6c29-45e0-b0d2-d3942d03c595",
   "metadata": {},
   "outputs": [
    {
     "data": {
      "application/vnd.plotly.v1+json": {
       "config": {
        "plotlyServerURL": "https://plot.ly"
       },
       "data": [
        {
         "customdata": [
          [
           0,
           "dihedrals",
           36,
           19,
           306
          ],
          [
           1,
           "logistic-distances",
           93,
           4,
           251
          ],
          [
           2,
           "logistic-distances",
           68,
           18,
           98
          ],
          [
           3,
           "logistic-distances",
           94,
           4,
           441
          ],
          [
           4,
           "dihedrals",
           87,
           15,
           104
          ],
          [
           5,
           "linear-distances",
           19,
           7,
           275
          ],
          [
           6,
           "dihedrals",
           99,
           13,
           471
          ],
          [
           7,
           "linear-distances",
           14,
           16,
           368
          ],
          [
           8,
           "dihedrals",
           79,
           20,
           231
          ],
          [
           9,
           "dihedrals",
           21,
           13,
           75
          ],
          [
           10,
           "dihedrals",
           74,
           5,
           375
          ],
          [
           11,
           "linear-distances",
           43,
           5,
           153
          ],
          [
           12,
           "dihedrals",
           100,
           10,
           257
          ],
          [
           13,
           "dihedrals",
           33,
           6,
           136
          ],
          [
           14,
           "logistic-distances",
           40,
           4,
           101
          ],
          [
           15,
           "dihedrals",
           60,
           11,
           92
          ],
          [
           16,
           "logistic-distances",
           23,
           15,
           244
          ],
          [
           17,
           "dihedrals",
           73,
           20,
           220
          ],
          [
           18,
           "dihedrals",
           98,
           14,
           63
          ],
          [
           19,
           "logistic-distances",
           73,
           19,
           265
          ],
          [
           20,
           "dihedrals",
           51,
           4,
           270
          ],
          [
           21,
           "logistic-distances",
           74,
           5,
           464
          ],
          [
           22,
           "logistic-distances",
           22,
           6,
           148
          ],
          [
           23,
           "linear-distances",
           15,
           6,
           79
          ],
          [
           24,
           "logistic-distances",
           60,
           20,
           471
          ],
          [
           25,
           "dihedrals",
           91,
           4,
           456
          ],
          [
           26,
           "logistic-distances",
           86,
           18,
           389
          ],
          [
           27,
           "dihedrals",
           83,
           2,
           434
          ],
          [
           28,
           "logistic-distances",
           92,
           12,
           65
          ],
          [
           29,
           "logistic-distances",
           76,
           7,
           134
          ],
          [
           30,
           "linear-distances",
           42,
           6,
           222
          ],
          [
           31,
           "dihedrals",
           81,
           15,
           213
          ],
          [
           32,
           "dihedrals",
           75,
           11,
           66
          ],
          [
           33,
           "dihedrals",
           53,
           17,
           300
          ],
          [
           34,
           "logistic-distances",
           72,
           16,
           483
          ],
          [
           35,
           "logistic-distances",
           76,
           4,
           495
          ],
          [
           36,
           "dihedrals",
           83,
           20,
           213
          ],
          [
           37,
           "linear-distances",
           44,
           20,
           196
          ],
          [
           38,
           "dihedrals",
           67,
           8,
           99
          ],
          [
           39,
           "linear-distances",
           40,
           3,
           237
          ],
          [
           40,
           "dihedrals",
           13,
           5,
           384
          ],
          [
           42,
           "linear-distances",
           59,
           8,
           75
          ],
          [
           43,
           "logistic-distances",
           88,
           10,
           38
          ],
          [
           44,
           "linear-distances",
           69,
           8,
           255
          ],
          [
           47,
           "linear-distances",
           60,
           18,
           122
          ],
          [
           54,
           "linear-distances",
           61,
           16,
           392
          ],
          [
           55,
           "logistic-distances",
           33,
           13,
           474
          ],
          [
           57,
           "linear-distances",
           25,
           5,
           254
          ],
          [
           60,
           "linear-distances",
           19,
           11,
           285
          ],
          [
           67,
           "logistic-distances",
           57,
           18,
           110
          ],
          [
           68,
           "linear-distances",
           75,
           8,
           224
          ],
          [
           69,
           "linear-distances",
           11,
           11,
           278
          ],
          [
           72,
           "linear-distances",
           38,
           14,
           488
          ],
          [
           73,
           "linear-distances",
           41,
           9,
           441
          ],
          [
           74,
           "linear-distances",
           71,
           15,
           488
          ],
          [
           78,
           "logistic-distances",
           12,
           1,
           315
          ],
          [
           81,
           "logistic-distances",
           65,
           9,
           192
          ],
          [
           83,
           "logistic-distances",
           80,
           3,
           445
          ],
          [
           85,
           "linear-distances",
           52,
           19,
           485
          ],
          [
           86,
           "logistic-distances",
           51,
           10,
           177
          ],
          [
           87,
           "linear-distances",
           20,
           12,
           99
          ],
          [
           88,
           "logistic-distances",
           34,
           12,
           245
          ],
          [
           89,
           "linear-distances",
           53,
           14,
           336
          ],
          [
           91,
           "logistic-distances",
           15,
           13,
           423
          ],
          [
           93,
           "logistic-distances",
           25,
           17,
           382
          ],
          [
           101,
           "logistic-distances",
           94,
           9,
           146
          ],
          [
           102,
           "linear-distances",
           68,
           6,
           322
          ],
          [
           104,
           "logistic-distances",
           46,
           16,
           383
          ],
          [
           106,
           "logistic-distances",
           56,
           3,
           276
          ],
          [
           111,
           "logistic-distances",
           4,
           12,
           47
          ],
          [
           112,
           "linear-distances",
           10,
           18,
           73
          ],
          [
           113,
           "linear-distances",
           24,
           1,
           23
          ],
          [
           117,
           "logistic-distances",
           77,
           8,
           273
          ],
          [
           118,
           "linear-distances",
           66,
           17,
           47
          ],
          [
           120,
           "linear-distances",
           71,
           10,
           38
          ],
          [
           121,
           "logistic-distances",
           83,
           2,
           103
          ],
          [
           123,
           "logistic-distances",
           64,
           20,
           238
          ],
          [
           124,
           "linear-distances",
           6,
           4,
           146
          ],
          [
           129,
           "linear-distances",
           14,
           11,
           35
          ],
          [
           130,
           "logistic-distances",
           44,
           16,
           105
          ],
          [
           131,
           "linear-distances",
           39,
           18,
           380
          ],
          [
           133,
           "linear-distances",
           79,
           20,
           162
          ],
          [
           135,
           "logistic-distances",
           46,
           15,
           411
          ],
          [
           139,
           "logistic-distances",
           12,
           10,
           391
          ],
          [
           140,
           "logistic-distances",
           10,
           19,
           332
          ],
          [
           144,
           "logistic-distances",
           37,
           6,
           359
          ],
          [
           145,
           "linear-distances",
           3,
           4,
           219
          ],
          [
           147,
           "logistic-distances",
           59,
           3,
           406
          ],
          [
           150,
           "linear-distances",
           51,
           10,
           34
          ],
          [
           151,
           "logistic-distances",
           34,
           19,
           329
          ],
          [
           157,
           "logistic-distances",
           20,
           19,
           459
          ],
          [
           162,
           "logistic-distances",
           39,
           10,
           154
          ],
          [
           167,
           "linear-distances",
           87,
           15,
           383
          ],
          [
           170,
           "logistic-distances",
           77,
           13,
           479
          ],
          [
           171,
           "logistic-distances",
           84,
           13,
           223
          ],
          [
           174,
           "linear-distances",
           62,
           1,
           312
          ],
          [
           175,
           "logistic-distances",
           22,
           20,
           489
          ],
          [
           176,
           "linear-distances",
           93,
           4,
           165
          ],
          [
           182,
           "linear-distances",
           86,
           16,
           197
          ],
          [
           183,
           "logistic-distances",
           40,
           8,
           328
          ],
          [
           184,
           "logistic-distances",
           95,
           15,
           241
          ],
          [
           186,
           "linear-distances",
           25,
           16,
           165
          ],
          [
           192,
           "logistic-distances",
           81,
           14,
           31
          ],
          [
           193,
           "logistic-distances",
           94,
           3,
           55
          ],
          [
           194,
           "logistic-distances",
           65,
           4,
           223
          ],
          [
           195,
           "logistic-distances",
           42,
           19,
           302
          ],
          [
           197,
           "logistic-distances",
           79,
           15,
           32
          ],
          [
           198,
           "logistic-distances",
           48,
           4,
           474
          ],
          [
           199,
           "linear-distances",
           93,
           11,
           377
          ],
          [
           202,
           "linear-distances",
           3,
           6,
           370
          ],
          [
           206,
           "logistic-distances",
           92,
           8,
           429
          ],
          [
           207,
           "linear-distances",
           75,
           9,
           125
          ],
          [
           208,
           "logistic-distances",
           65,
           6,
           277
          ],
          [
           216,
           "logistic-distances",
           4,
           11,
           433
          ],
          [
           217,
           "logistic-distances",
           5,
           10,
           453
          ],
          [
           227,
           "logistic-distances",
           25,
           3,
           169
          ],
          [
           228,
           "logistic-distances",
           93,
           16,
           181
          ],
          [
           230,
           "logistic-distances",
           12,
           4,
           157
          ],
          [
           235,
           "logistic-distances",
           90,
           19,
           499
          ],
          [
           239,
           "logistic-distances",
           74,
           18,
           17
          ],
          [
           241,
           "logistic-distances",
           94,
           13,
           452
          ],
          [
           242,
           "logistic-distances",
           15,
           17,
           337
          ],
          [
           254,
           "logistic-distances",
           29,
           18,
           381
          ],
          [
           260,
           "logistic-distances",
           17,
           19,
           399
          ],
          [
           262,
           "logistic-distances",
           67,
           18,
           289
          ],
          [
           264,
           "logistic-distances",
           57,
           13,
           165
          ],
          [
           269,
           "logistic-distances",
           9,
           18,
           385
          ],
          [
           272,
           "logistic-distances",
           4,
           18,
           489
          ],
          [
           278,
           "logistic-distances",
           47,
           2,
           393
          ],
          [
           289,
           "logistic-distances",
           14,
           14,
           348
          ],
          [
           291,
           "logistic-distances",
           53,
           10,
           398
          ],
          [
           295,
           "logistic-distances",
           46,
           16,
           485
          ],
          [
           311,
           "logistic-distances",
           98,
           2,
           254
          ],
          [
           313,
           "logistic-distances",
           38,
           14,
           160
          ],
          [
           321,
           "logistic-distances",
           1,
           8,
           387
          ],
          [
           328,
           "logistic-distances",
           30,
           5,
           193
          ]
         ],
         "hovertemplate": "cum. timescale (k=3) (ns)=%{x}<br>gap (t_3/t_4)=%{y}<br>hp_ix=%{customdata[0]}<br>feature=%{customdata[1]}<br>tica__lag=%{customdata[2]}<br>tica__dim=%{customdata[3]}<br>cluster__k=%{customdata[4]}<extra></extra>",
         "legendgroup": "",
         "marker": {
          "color": "#636efa",
          "symbol": "circle"
         },
         "mode": "markers",
         "name": "",
         "orientation": "v",
         "showlegend": false,
         "type": "scatter",
         "x": [
          2868.1017810129724,
          3045.5526822322186,
          1111.786841506096,
          3152.0161789807903,
          2168.0930880847873,
          3456.462864580367,
          3585.8476040204177,
          4264.999042263355,
          2862.86344223626,
          1509.740691575836,
          2966.579854430987,
          3464.7437528929645,
          2990.8126245180656,
          2148.623212081619,
          3077.4041197899733,
          2003.8980367781257,
          8574.832828964973,
          2857.4018317068003,
          1902.7636624557606,
          2840.5255372297606,
          2521.791715346238,
          3744.439363797402,
          1884.2216504136304,
          2571.6129658865416,
          24006.01578840982,
          2794.758366445982,
          4731.702695094033,
          2468.541283372223,
          2334.832472662571,
          2750.6743897094157,
          3774.763727569396,
          2810.80017074877,
          1853.059886630545,
          2939.946401251494,
          8926.507836844024,
          2578.177364039841,
          2803.503351434022,
          6075.770725317308,
          2101.957618479185,
          2946.6456232644196,
          2597.3510044715845,
          2852.1856377723852,
          1871.7794042215205,
          4327.35187182223,
          4688.460509965329,
          5273.554174847186,
          3011.465347376281,
          3459.133128851365,
          4492.631645555916,
          687.1780811183726,
          3507.067297283228,
          3559.214592221616,
          4822.533782203076,
          4123.430109111991,
          7041.126859957717,
          1908.9393894117845,
          2428.5943142833253,
          2720.337796598732,
          9437.93249318363,
          2484.676470304543,
          3394.5493525311113,
          8424.085736837322,
          4541.811473323571,
          5079.087947928403,
          7239.263943514959,
          4175.873191836565,
          3625.216383661236,
          5744.616869870345,
          2914.287057682632,
          1931.924049918173,
          2920.5135980095138,
          2189.005384247569,
          2289.408346823537,
          3294.5335750483355,
          2911.4821922072742,
          3323.732996233931,
          2588.5989069367065,
          2349.879187911758,
          2623.118481900788,
          3104.067010467061,
          8020.741276927162,
          6771.558789266557,
          2245.372013254242,
          4908.702170105264,
          2791.264097610753,
          4172.48746331334,
          2393.0741385433193,
          4593.307263943241,
          2789.2034987930683,
          5692.244147468384,
          10651.037911963878,
          2417.0636467316417,
          7821.722936324322,
          5527.204374954779,
          1622.7979847986508,
          2204.732908037155,
          10290.003932680484,
          3180.3174777746685,
          4224.328197757297,
          2483.6574280653476,
          6951.862346562029,
          3560.2785149583533,
          1975.280024824412,
          3070.852805808383,
          2466.8921177752472,
          2364.325330878785,
          1685.0199327973587,
          3640.694807842648,
          4128.377774252169,
          2979.148097504131,
          4334.47380042065,
          3282.72855541498,
          2962.000512352531,
          3877.2159364052086,
          3924.1868831942984,
          2973.099603149757,
          5482.489152895318,
          4072.314785291604,
          11658.424983540903,
          2348.484059597279,
          10976.560457449497,
          5181.77280639649,
          4227.930826649002,
          6663.166013074025,
          12922.279261926358,
          5968.8986804128235,
          2826.5384010552407,
          8861.735153484087,
          2542.2151718061327,
          5766.679133644469,
          7078.899346135602,
          3409.3334860069485,
          638.67504112517,
          4195.176375868574,
          1509.3611767509701,
          670.5927873009997
         ],
         "xaxis": "x",
         "y": [
          1.3968375451609116,
          1.6315221579879784,
          1.2643434459065817,
          1.2355668800724597,
          1.2867549302687327,
          1.4141100061488001,
          1.326418450326592,
          1.2705328783659124,
          1.365838599135342,
          1.2719270007081445,
          1.5597582977947841,
          1.5133721418259816,
          1.3860305371587547,
          1.475428207607209,
          1.2685063769346498,
          1.400371026578799,
          1.2692188467523888,
          1.340212321262595,
          1.3115098351783585,
          1.2094584135190316,
          1.3936178384504374,
          1.3055215490467478,
          1.3925086158689073,
          1.422716517406403,
          1.3965073819259288,
          1.5784943167338579,
          1.1842994047607664,
          2.4746191325762874,
          1.2150832077679767,
          1.2565401563991982,
          1.4005087782321235,
          1.373741387961989,
          1.2970213357614848,
          1.3609316080759397,
          1.2738013444817162,
          1.3769208009509757,
          1.2441132394683938,
          1.2878000720144216,
          1.360447174782092,
          1.7403407165536824,
          1.3038194793995244,
          1.2313632272165314,
          1.2482263382140162,
          1.3159916903448963,
          1.2879531378011007,
          1.2522740485851422,
          1.1983368792571283,
          1.6024657263976076,
          1.3377313349748445,
          1.174891928401439,
          1.2766742856502882,
          1.2647643844103689,
          1.2306313264292608,
          1.2424024892292687,
          1.2643927712691427,
          2.2462473218465044,
          1.271246705248862,
          1.7261834686949062,
          1.2614615060222953,
          1.2464708908117728,
          1.3055708606144725,
          1.2106956868138528,
          1.254465936285357,
          1.2318421999005122,
          1.278518769813544,
          1.2046341547915502,
          1.3660855491828066,
          1.2729454094131607,
          1.6018790310639077,
          1.1926432925417763,
          1.2496772823192361,
          2.1622717844020283,
          1.4254172335405648,
          1.2444471200383658,
          1.2380642616522244,
          4.438310556365927,
          1.205310792731157,
          1.2467074740126973,
          1.3140633358712326,
          1.1877764451682453,
          1.2830729849287974,
          1.287354416237429,
          1.2189687584449747,
          1.2485713198782413,
          1.2484477863176948,
          1.3731969380899562,
          1.381643575383479,
          1.7406930993137069,
          1.264430412053819,
          1.2076128727205275,
          1.2762780702578782,
          1.3327263648133734,
          1.2397619749201665,
          1.219167961252651,
          1.3480443274605554,
          2.3013201076386425,
          1.2300778725388897,
          1.6473514004981777,
          1.245343315217882,
          1.252287494455417,
          1.2848629786528907,
          1.3120972470086472,
          1.1805668177305644,
          1.466767702969998,
          1.436530180479274,
          1.2632225159857686,
          1.4205766003669305,
          1.3305643430262029,
          1.2421713925244955,
          1.477766442478811,
          1.2194854420127128,
          1.2593199508288202,
          1.291686951230992,
          1.2729854261369389,
          1.2415703200908381,
          1.7466822671014006,
          1.2347898662877692,
          1.4150319558411355,
          1.2846746836745147,
          1.2866414626536977,
          1.2936567461057913,
          1.2090570279350246,
          1.1877014290813137,
          1.2289470904371755,
          1.3181629694880919,
          1.2555646409496672,
          1.2634164934789125,
          1.2119330356368727,
          2.9906161559984197,
          1.2170464357448425,
          1.2477721867698062,
          1.1970720385861846,
          1.6804725630480353,
          1.2606272729051287,
          1.3099039454303132,
          1.3909416501359222
         ],
         "yaxis": "y"
        }
       ],
       "layout": {
        "autosize": true,
        "legend": {
         "tracegroupgap": 0
        },
        "margin": {
         "t": 60
        },
        "template": {
         "data": {
          "bar": [
           {
            "error_x": {
             "color": "#2a3f5f"
            },
            "error_y": {
             "color": "#2a3f5f"
            },
            "marker": {
             "line": {
              "color": "#E5ECF6",
              "width": 0.5
             },
             "pattern": {
              "fillmode": "overlay",
              "size": 10,
              "solidity": 0.2
             }
            },
            "type": "bar"
           }
          ],
          "barpolar": [
           {
            "marker": {
             "line": {
              "color": "#E5ECF6",
              "width": 0.5
             },
             "pattern": {
              "fillmode": "overlay",
              "size": 10,
              "solidity": 0.2
             }
            },
            "type": "barpolar"
           }
          ],
          "carpet": [
           {
            "aaxis": {
             "endlinecolor": "#2a3f5f",
             "gridcolor": "white",
             "linecolor": "white",
             "minorgridcolor": "white",
             "startlinecolor": "#2a3f5f"
            },
            "baxis": {
             "endlinecolor": "#2a3f5f",
             "gridcolor": "white",
             "linecolor": "white",
             "minorgridcolor": "white",
             "startlinecolor": "#2a3f5f"
            },
            "type": "carpet"
           }
          ],
          "choropleth": [
           {
            "colorbar": {
             "outlinewidth": 0,
             "ticks": ""
            },
            "type": "choropleth"
           }
          ],
          "contour": [
           {
            "colorbar": {
             "outlinewidth": 0,
             "ticks": ""
            },
            "colorscale": [
             [
              0,
              "#0d0887"
             ],
             [
              0.1111111111111111,
              "#46039f"
             ],
             [
              0.2222222222222222,
              "#7201a8"
             ],
             [
              0.3333333333333333,
              "#9c179e"
             ],
             [
              0.4444444444444444,
              "#bd3786"
             ],
             [
              0.5555555555555556,
              "#d8576b"
             ],
             [
              0.6666666666666666,
              "#ed7953"
             ],
             [
              0.7777777777777778,
              "#fb9f3a"
             ],
             [
              0.8888888888888888,
              "#fdca26"
             ],
             [
              1,
              "#f0f921"
             ]
            ],
            "type": "contour"
           }
          ],
          "contourcarpet": [
           {
            "colorbar": {
             "outlinewidth": 0,
             "ticks": ""
            },
            "type": "contourcarpet"
           }
          ],
          "heatmap": [
           {
            "colorbar": {
             "outlinewidth": 0,
             "ticks": ""
            },
            "colorscale": [
             [
              0,
              "#0d0887"
             ],
             [
              0.1111111111111111,
              "#46039f"
             ],
             [
              0.2222222222222222,
              "#7201a8"
             ],
             [
              0.3333333333333333,
              "#9c179e"
             ],
             [
              0.4444444444444444,
              "#bd3786"
             ],
             [
              0.5555555555555556,
              "#d8576b"
             ],
             [
              0.6666666666666666,
              "#ed7953"
             ],
             [
              0.7777777777777778,
              "#fb9f3a"
             ],
             [
              0.8888888888888888,
              "#fdca26"
             ],
             [
              1,
              "#f0f921"
             ]
            ],
            "type": "heatmap"
           }
          ],
          "heatmapgl": [
           {
            "colorbar": {
             "outlinewidth": 0,
             "ticks": ""
            },
            "colorscale": [
             [
              0,
              "#0d0887"
             ],
             [
              0.1111111111111111,
              "#46039f"
             ],
             [
              0.2222222222222222,
              "#7201a8"
             ],
             [
              0.3333333333333333,
              "#9c179e"
             ],
             [
              0.4444444444444444,
              "#bd3786"
             ],
             [
              0.5555555555555556,
              "#d8576b"
             ],
             [
              0.6666666666666666,
              "#ed7953"
             ],
             [
              0.7777777777777778,
              "#fb9f3a"
             ],
             [
              0.8888888888888888,
              "#fdca26"
             ],
             [
              1,
              "#f0f921"
             ]
            ],
            "type": "heatmapgl"
           }
          ],
          "histogram": [
           {
            "marker": {
             "pattern": {
              "fillmode": "overlay",
              "size": 10,
              "solidity": 0.2
             }
            },
            "type": "histogram"
           }
          ],
          "histogram2d": [
           {
            "colorbar": {
             "outlinewidth": 0,
             "ticks": ""
            },
            "colorscale": [
             [
              0,
              "#0d0887"
             ],
             [
              0.1111111111111111,
              "#46039f"
             ],
             [
              0.2222222222222222,
              "#7201a8"
             ],
             [
              0.3333333333333333,
              "#9c179e"
             ],
             [
              0.4444444444444444,
              "#bd3786"
             ],
             [
              0.5555555555555556,
              "#d8576b"
             ],
             [
              0.6666666666666666,
              "#ed7953"
             ],
             [
              0.7777777777777778,
              "#fb9f3a"
             ],
             [
              0.8888888888888888,
              "#fdca26"
             ],
             [
              1,
              "#f0f921"
             ]
            ],
            "type": "histogram2d"
           }
          ],
          "histogram2dcontour": [
           {
            "colorbar": {
             "outlinewidth": 0,
             "ticks": ""
            },
            "colorscale": [
             [
              0,
              "#0d0887"
             ],
             [
              0.1111111111111111,
              "#46039f"
             ],
             [
              0.2222222222222222,
              "#7201a8"
             ],
             [
              0.3333333333333333,
              "#9c179e"
             ],
             [
              0.4444444444444444,
              "#bd3786"
             ],
             [
              0.5555555555555556,
              "#d8576b"
             ],
             [
              0.6666666666666666,
              "#ed7953"
             ],
             [
              0.7777777777777778,
              "#fb9f3a"
             ],
             [
              0.8888888888888888,
              "#fdca26"
             ],
             [
              1,
              "#f0f921"
             ]
            ],
            "type": "histogram2dcontour"
           }
          ],
          "mesh3d": [
           {
            "colorbar": {
             "outlinewidth": 0,
             "ticks": ""
            },
            "type": "mesh3d"
           }
          ],
          "parcoords": [
           {
            "line": {
             "colorbar": {
              "outlinewidth": 0,
              "ticks": ""
             }
            },
            "type": "parcoords"
           }
          ],
          "pie": [
           {
            "automargin": true,
            "type": "pie"
           }
          ],
          "scatter": [
           {
            "marker": {
             "colorbar": {
              "outlinewidth": 0,
              "ticks": ""
             }
            },
            "type": "scatter"
           }
          ],
          "scatter3d": [
           {
            "line": {
             "colorbar": {
              "outlinewidth": 0,
              "ticks": ""
             }
            },
            "marker": {
             "colorbar": {
              "outlinewidth": 0,
              "ticks": ""
             }
            },
            "type": "scatter3d"
           }
          ],
          "scattercarpet": [
           {
            "marker": {
             "colorbar": {
              "outlinewidth": 0,
              "ticks": ""
             }
            },
            "type": "scattercarpet"
           }
          ],
          "scattergeo": [
           {
            "marker": {
             "colorbar": {
              "outlinewidth": 0,
              "ticks": ""
             }
            },
            "type": "scattergeo"
           }
          ],
          "scattergl": [
           {
            "marker": {
             "colorbar": {
              "outlinewidth": 0,
              "ticks": ""
             }
            },
            "type": "scattergl"
           }
          ],
          "scattermapbox": [
           {
            "marker": {
             "colorbar": {
              "outlinewidth": 0,
              "ticks": ""
             }
            },
            "type": "scattermapbox"
           }
          ],
          "scatterpolar": [
           {
            "marker": {
             "colorbar": {
              "outlinewidth": 0,
              "ticks": ""
             }
            },
            "type": "scatterpolar"
           }
          ],
          "scatterpolargl": [
           {
            "marker": {
             "colorbar": {
              "outlinewidth": 0,
              "ticks": ""
             }
            },
            "type": "scatterpolargl"
           }
          ],
          "scatterternary": [
           {
            "marker": {
             "colorbar": {
              "outlinewidth": 0,
              "ticks": ""
             }
            },
            "type": "scatterternary"
           }
          ],
          "surface": [
           {
            "colorbar": {
             "outlinewidth": 0,
             "ticks": ""
            },
            "colorscale": [
             [
              0,
              "#0d0887"
             ],
             [
              0.1111111111111111,
              "#46039f"
             ],
             [
              0.2222222222222222,
              "#7201a8"
             ],
             [
              0.3333333333333333,
              "#9c179e"
             ],
             [
              0.4444444444444444,
              "#bd3786"
             ],
             [
              0.5555555555555556,
              "#d8576b"
             ],
             [
              0.6666666666666666,
              "#ed7953"
             ],
             [
              0.7777777777777778,
              "#fb9f3a"
             ],
             [
              0.8888888888888888,
              "#fdca26"
             ],
             [
              1,
              "#f0f921"
             ]
            ],
            "type": "surface"
           }
          ],
          "table": [
           {
            "cells": {
             "fill": {
              "color": "#EBF0F8"
             },
             "line": {
              "color": "white"
             }
            },
            "header": {
             "fill": {
              "color": "#C8D4E3"
             },
             "line": {
              "color": "white"
             }
            },
            "type": "table"
           }
          ]
         },
         "layout": {
          "annotationdefaults": {
           "arrowcolor": "#2a3f5f",
           "arrowhead": 0,
           "arrowwidth": 1
          },
          "autotypenumbers": "strict",
          "coloraxis": {
           "colorbar": {
            "outlinewidth": 0,
            "ticks": ""
           }
          },
          "colorscale": {
           "diverging": [
            [
             0,
             "#8e0152"
            ],
            [
             0.1,
             "#c51b7d"
            ],
            [
             0.2,
             "#de77ae"
            ],
            [
             0.3,
             "#f1b6da"
            ],
            [
             0.4,
             "#fde0ef"
            ],
            [
             0.5,
             "#f7f7f7"
            ],
            [
             0.6,
             "#e6f5d0"
            ],
            [
             0.7,
             "#b8e186"
            ],
            [
             0.8,
             "#7fbc41"
            ],
            [
             0.9,
             "#4d9221"
            ],
            [
             1,
             "#276419"
            ]
           ],
           "sequential": [
            [
             0,
             "#0d0887"
            ],
            [
             0.1111111111111111,
             "#46039f"
            ],
            [
             0.2222222222222222,
             "#7201a8"
            ],
            [
             0.3333333333333333,
             "#9c179e"
            ],
            [
             0.4444444444444444,
             "#bd3786"
            ],
            [
             0.5555555555555556,
             "#d8576b"
            ],
            [
             0.6666666666666666,
             "#ed7953"
            ],
            [
             0.7777777777777778,
             "#fb9f3a"
            ],
            [
             0.8888888888888888,
             "#fdca26"
            ],
            [
             1,
             "#f0f921"
            ]
           ],
           "sequentialminus": [
            [
             0,
             "#0d0887"
            ],
            [
             0.1111111111111111,
             "#46039f"
            ],
            [
             0.2222222222222222,
             "#7201a8"
            ],
            [
             0.3333333333333333,
             "#9c179e"
            ],
            [
             0.4444444444444444,
             "#bd3786"
            ],
            [
             0.5555555555555556,
             "#d8576b"
            ],
            [
             0.6666666666666666,
             "#ed7953"
            ],
            [
             0.7777777777777778,
             "#fb9f3a"
            ],
            [
             0.8888888888888888,
             "#fdca26"
            ],
            [
             1,
             "#f0f921"
            ]
           ]
          },
          "colorway": [
           "#636efa",
           "#EF553B",
           "#00cc96",
           "#ab63fa",
           "#FFA15A",
           "#19d3f3",
           "#FF6692",
           "#B6E880",
           "#FF97FF",
           "#FECB52"
          ],
          "font": {
           "color": "#2a3f5f"
          },
          "geo": {
           "bgcolor": "white",
           "lakecolor": "white",
           "landcolor": "#E5ECF6",
           "showlakes": true,
           "showland": true,
           "subunitcolor": "white"
          },
          "hoverlabel": {
           "align": "left"
          },
          "hovermode": "closest",
          "mapbox": {
           "style": "light"
          },
          "paper_bgcolor": "white",
          "plot_bgcolor": "#E5ECF6",
          "polar": {
           "angularaxis": {
            "gridcolor": "white",
            "linecolor": "white",
            "ticks": ""
           },
           "bgcolor": "#E5ECF6",
           "radialaxis": {
            "gridcolor": "white",
            "linecolor": "white",
            "ticks": ""
           }
          },
          "scene": {
           "xaxis": {
            "backgroundcolor": "#E5ECF6",
            "gridcolor": "white",
            "gridwidth": 2,
            "linecolor": "white",
            "showbackground": true,
            "ticks": "",
            "zerolinecolor": "white"
           },
           "yaxis": {
            "backgroundcolor": "#E5ECF6",
            "gridcolor": "white",
            "gridwidth": 2,
            "linecolor": "white",
            "showbackground": true,
            "ticks": "",
            "zerolinecolor": "white"
           },
           "zaxis": {
            "backgroundcolor": "#E5ECF6",
            "gridcolor": "white",
            "gridwidth": 2,
            "linecolor": "white",
            "showbackground": true,
            "ticks": "",
            "zerolinecolor": "white"
           }
          },
          "shapedefaults": {
           "line": {
            "color": "#2a3f5f"
           }
          },
          "ternary": {
           "aaxis": {
            "gridcolor": "white",
            "linecolor": "white",
            "ticks": ""
           },
           "baxis": {
            "gridcolor": "white",
            "linecolor": "white",
            "ticks": ""
           },
           "bgcolor": "#E5ECF6",
           "caxis": {
            "gridcolor": "white",
            "linecolor": "white",
            "ticks": ""
           }
          },
          "title": {
           "x": 0.05
          },
          "xaxis": {
           "automargin": true,
           "gridcolor": "white",
           "linecolor": "white",
           "ticks": "",
           "title": {
            "standoff": 15
           },
           "zerolinecolor": "white",
           "zerolinewidth": 2
          },
          "yaxis": {
           "automargin": true,
           "gridcolor": "white",
           "linecolor": "white",
           "ticks": "",
           "title": {
            "standoff": 15
           },
           "zerolinecolor": "white",
           "zerolinewidth": 2
          }
         }
        },
        "xaxis": {
         "anchor": "y",
         "autorange": true,
         "domain": [
          0,
          1
         ],
         "range": [
          -808.3850510231913,
          25453.07588055818
         ],
         "title": {
          "text": "cum. timescale (k=3) (ns)"
         },
         "type": "linear"
        },
        "yaxis": {
         "anchor": "x",
         "autorange": true,
         "domain": [
          0,
          1
         ],
         "range": [
          0.9222125333228237,
          4.690989951444543
         ],
         "title": {
          "text": "gap (t_3/t_4)"
         },
         "type": "linear"
        }
       }
      },
      "image/png": "[encoded data removed]",
      "text/html": [
       "<div>                            <div id=\"2add05c0-ca74-4b60-9194-c19abbca392f\" class=\"plotly-graph-div\" style=\"height:525px; width:100%;\"></div>            <script type=\"text/javascript\">                require([\"plotly\"], function(Plotly) {                    window.PLOTLYENV=window.PLOTLYENV || {};                                    if (document.getElementById(\"2add05c0-ca74-4b60-9194-c19abbca392f\")) {                    Plotly.newPlot(                        \"2add05c0-ca74-4b60-9194-c19abbca392f\",                        [{\"customdata\":[[0,\"dihedrals\",36,19,306],[1,\"logistic-distances\",93,4,251],[2,\"logistic-distances\",68,18,98],[3,\"logistic-distances\",94,4,441],[4,\"dihedrals\",87,15,104],[5,\"linear-distances\",19,7,275],[6,\"dihedrals\",99,13,471],[7,\"linear-distances\",14,16,368],[8,\"dihedrals\",79,20,231],[9,\"dihedrals\",21,13,75],[10,\"dihedrals\",74,5,375],[11,\"linear-distances\",43,5,153],[12,\"dihedrals\",100,10,257],[13,\"dihedrals\",33,6,136],[14,\"logistic-distances\",40,4,101],[15,\"dihedrals\",60,11,92],[16,\"logistic-distances\",23,15,244],[17,\"dihedrals\",73,20,220],[18,\"dihedrals\",98,14,63],[19,\"logistic-distances\",73,19,265],[20,\"dihedrals\",51,4,270],[21,\"logistic-distances\",74,5,464],[22,\"logistic-distances\",22,6,148],[23,\"linear-distances\",15,6,79],[24,\"logistic-distances\",60,20,471],[25,\"dihedrals\",91,4,456],[26,\"logistic-distances\",86,18,389],[27,\"dihedrals\",83,2,434],[28,\"logistic-distances\",92,12,65],[29,\"logistic-distances\",76,7,134],[30,\"linear-distances\",42,6,222],[31,\"dihedrals\",81,15,213],[32,\"dihedrals\",75,11,66],[33,\"dihedrals\",53,17,300],[34,\"logistic-distances\",72,16,483],[35,\"logistic-distances\",76,4,495],[36,\"dihedrals\",83,20,213],[37,\"linear-distances\",44,20,196],[38,\"dihedrals\",67,8,99],[39,\"linear-distances\",40,3,237],[40,\"dihedrals\",13,5,384],[42,\"linear-distances\",59,8,75],[43,\"logistic-distances\",88,10,38],[44,\"linear-distances\",69,8,255],[47,\"linear-distances\",60,18,122],[54,\"linear-distances\",61,16,392],[55,\"logistic-distances\",33,13,474],[57,\"linear-distances\",25,5,254],[60,\"linear-distances\",19,11,285],[67,\"logistic-distances\",57,18,110],[68,\"linear-distances\",75,8,224],[69,\"linear-distances\",11,11,278],[72,\"linear-distances\",38,14,488],[73,\"linear-distances\",41,9,441],[74,\"linear-distances\",71,15,488],[78,\"logistic-distances\",12,1,315],[81,\"logistic-distances\",65,9,192],[83,\"logistic-distances\",80,3,445],[85,\"linear-distances\",52,19,485],[86,\"logistic-distances\",51,10,177],[87,\"linear-distances\",20,12,99],[88,\"logistic-distances\",34,12,245],[89,\"linear-distances\",53,14,336],[91,\"logistic-distances\",15,13,423],[93,\"logistic-distances\",25,17,382],[101,\"logistic-distances\",94,9,146],[102,\"linear-distances\",68,6,322],[104,\"logistic-distances\",46,16,383],[106,\"logistic-distances\",56,3,276],[111,\"logistic-distances\",4,12,47],[112,\"linear-distances\",10,18,73],[113,\"linear-distances\",24,1,23],[117,\"logistic-distances\",77,8,273],[118,\"linear-distances\",66,17,47],[120,\"linear-distances\",71,10,38],[121,\"logistic-distances\",83,2,103],[123,\"logistic-distances\",64,20,238],[124,\"linear-distances\",6,4,146],[129,\"linear-distances\",14,11,35],[130,\"logistic-distances\",44,16,105],[131,\"linear-distances\",39,18,380],[133,\"linear-distances\",79,20,162],[135,\"logistic-distances\",46,15,411],[139,\"logistic-distances\",12,10,391],[140,\"logistic-distances\",10,19,332],[144,\"logistic-distances\",37,6,359],[145,\"linear-distances\",3,4,219],[147,\"logistic-distances\",59,3,406],[150,\"linear-distances\",51,10,34],[151,\"logistic-distances\",34,19,329],[157,\"logistic-distances\",20,19,459],[162,\"logistic-distances\",39,10,154],[167,\"linear-distances\",87,15,383],[170,\"logistic-distances\",77,13,479],[171,\"logistic-distances\",84,13,223],[174,\"linear-distances\",62,1,312],[175,\"logistic-distances\",22,20,489],[176,\"linear-distances\",93,4,165],[182,\"linear-distances\",86,16,197],[183,\"logistic-distances\",40,8,328],[184,\"logistic-distances\",95,15,241],[186,\"linear-distances\",25,16,165],[192,\"logistic-distances\",81,14,31],[193,\"logistic-distances\",94,3,55],[194,\"logistic-distances\",65,4,223],[195,\"logistic-distances\",42,19,302],[197,\"logistic-distances\",79,15,32],[198,\"logistic-distances\",48,4,474],[199,\"linear-distances\",93,11,377],[202,\"linear-distances\",3,6,370],[206,\"logistic-distances\",92,8,429],[207,\"linear-distances\",75,9,125],[208,\"logistic-distances\",65,6,277],[216,\"logistic-distances\",4,11,433],[217,\"logistic-distances\",5,10,453],[227,\"logistic-distances\",25,3,169],[228,\"logistic-distances\",93,16,181],[230,\"logistic-distances\",12,4,157],[235,\"logistic-distances\",90,19,499],[239,\"logistic-distances\",74,18,17],[241,\"logistic-distances\",94,13,452],[242,\"logistic-distances\",15,17,337],[254,\"logistic-distances\",29,18,381],[260,\"logistic-distances\",17,19,399],[262,\"logistic-distances\",67,18,289],[264,\"logistic-distances\",57,13,165],[269,\"logistic-distances\",9,18,385],[272,\"logistic-distances\",4,18,489],[278,\"logistic-distances\",47,2,393],[289,\"logistic-distances\",14,14,348],[291,\"logistic-distances\",53,10,398],[295,\"logistic-distances\",46,16,485],[311,\"logistic-distances\",98,2,254],[313,\"logistic-distances\",38,14,160],[321,\"logistic-distances\",1,8,387],[328,\"logistic-distances\",30,5,193]],\"hovertemplate\":\"cum. timescale (k=3) (ns)=%{x}<br>gap (t_3/t_4)=%{y}<br>hp_ix=%{customdata[0]}<br>feature=%{customdata[1]}<br>tica__lag=%{customdata[2]}<br>tica__dim=%{customdata[3]}<br>cluster__k=%{customdata[4]}<extra></extra>\",\"legendgroup\":\"\",\"marker\":{\"color\":\"#636efa\",\"symbol\":\"circle\"},\"mode\":\"markers\",\"name\":\"\",\"orientation\":\"v\",\"showlegend\":false,\"type\":\"scatter\",\"x\":[2868.1017810129724,3045.5526822322186,1111.786841506096,3152.0161789807903,2168.0930880847873,3456.462864580367,3585.8476040204177,4264.999042263355,2862.86344223626,1509.740691575836,2966.579854430987,3464.7437528929645,2990.8126245180656,2148.623212081619,3077.4041197899733,2003.8980367781257,8574.832828964973,2857.4018317068003,1902.7636624557606,2840.5255372297606,2521.791715346238,3744.439363797402,1884.2216504136304,2571.6129658865416,24006.01578840982,2794.758366445982,4731.702695094033,2468.541283372223,2334.832472662571,2750.6743897094157,3774.763727569396,2810.80017074877,1853.059886630545,2939.946401251494,8926.507836844024,2578.177364039841,2803.503351434022,6075.770725317308,2101.957618479185,2946.6456232644196,2597.3510044715845,2852.1856377723852,1871.7794042215205,4327.35187182223,4688.460509965329,5273.554174847186,3011.465347376281,3459.133128851365,4492.631645555916,687.1780811183726,3507.067297283228,3559.214592221616,4822.533782203076,4123.430109111991,7041.126859957717,1908.9393894117845,2428.5943142833253,2720.337796598732,9437.93249318363,2484.676470304543,3394.5493525311113,8424.085736837322,4541.811473323571,5079.087947928403,7239.263943514959,4175.873191836565,3625.216383661236,5744.616869870345,2914.287057682632,1931.924049918173,2920.5135980095138,2189.005384247569,2289.408346823537,3294.5335750483355,2911.4821922072742,3323.732996233931,2588.5989069367065,2349.879187911758,2623.118481900788,3104.067010467061,8020.741276927162,6771.558789266557,2245.372013254242,4908.702170105264,2791.264097610753,4172.48746331334,2393.0741385433193,4593.307263943241,2789.2034987930683,5692.244147468384,10651.037911963878,2417.0636467316417,7821.722936324322,5527.204374954779,1622.7979847986508,2204.732908037155,10290.003932680484,3180.3174777746685,4224.328197757297,2483.6574280653476,6951.862346562029,3560.2785149583533,1975.280024824412,3070.852805808383,2466.8921177752472,2364.325330878785,1685.0199327973587,3640.694807842648,4128.377774252169,2979.148097504131,4334.47380042065,3282.72855541498,2962.000512352531,3877.2159364052086,3924.1868831942984,2973.099603149757,5482.489152895318,4072.314785291604,11658.424983540903,2348.484059597279,10976.560457449497,5181.77280639649,4227.930826649002,6663.166013074025,12922.279261926358,5968.8986804128235,2826.5384010552407,8861.735153484087,2542.2151718061327,5766.679133644469,7078.899346135602,3409.3334860069485,638.67504112517,4195.176375868574,1509.3611767509701,670.5927873009997],\"xaxis\":\"x\",\"y\":[1.3968375451609116,1.6315221579879784,1.2643434459065817,1.2355668800724597,1.2867549302687327,1.4141100061488001,1.326418450326592,1.2705328783659124,1.365838599135342,1.2719270007081445,1.5597582977947841,1.5133721418259816,1.3860305371587547,1.475428207607209,1.2685063769346498,1.400371026578799,1.2692188467523888,1.340212321262595,1.3115098351783585,1.2094584135190316,1.3936178384504374,1.3055215490467478,1.3925086158689073,1.422716517406403,1.3965073819259288,1.5784943167338579,1.1842994047607664,2.4746191325762874,1.2150832077679767,1.2565401563991982,1.4005087782321235,1.373741387961989,1.2970213357614848,1.3609316080759397,1.2738013444817162,1.3769208009509757,1.2441132394683938,1.2878000720144216,1.360447174782092,1.7403407165536824,1.3038194793995244,1.2313632272165314,1.2482263382140162,1.3159916903448963,1.2879531378011007,1.2522740485851422,1.1983368792571283,1.6024657263976076,1.3377313349748445,1.174891928401439,1.2766742856502882,1.2647643844103689,1.2306313264292608,1.2424024892292687,1.2643927712691427,2.2462473218465044,1.271246705248862,1.7261834686949062,1.2614615060222953,1.2464708908117728,1.3055708606144725,1.2106956868138528,1.254465936285357,1.2318421999005122,1.278518769813544,1.2046341547915502,1.3660855491828066,1.2729454094131607,1.6018790310639077,1.1926432925417763,1.2496772823192361,2.1622717844020283,1.4254172335405648,1.2444471200383658,1.2380642616522244,4.438310556365927,1.205310792731157,1.2467074740126973,1.3140633358712326,1.1877764451682453,1.2830729849287974,1.287354416237429,1.2189687584449747,1.2485713198782413,1.2484477863176948,1.3731969380899562,1.381643575383479,1.7406930993137069,1.264430412053819,1.2076128727205275,1.2762780702578782,1.3327263648133734,1.2397619749201665,1.219167961252651,1.3480443274605554,2.3013201076386425,1.2300778725388897,1.6473514004981777,1.245343315217882,1.252287494455417,1.2848629786528907,1.3120972470086472,1.1805668177305644,1.466767702969998,1.436530180479274,1.2632225159857686,1.4205766003669305,1.3305643430262029,1.2421713925244955,1.477766442478811,1.2194854420127128,1.2593199508288202,1.291686951230992,1.2729854261369389,1.2415703200908381,1.7466822671014006,1.2347898662877692,1.4150319558411355,1.2846746836745147,1.2866414626536977,1.2936567461057913,1.2090570279350246,1.1877014290813137,1.2289470904371755,1.3181629694880919,1.2555646409496672,1.2634164934789125,1.2119330356368727,2.9906161559984197,1.2170464357448425,1.2477721867698062,1.1970720385861846,1.6804725630480353,1.2606272729051287,1.3099039454303132,1.3909416501359222],\"yaxis\":\"y\"}],                        {\"legend\":{\"tracegroupgap\":0},\"margin\":{\"t\":60},\"template\":{\"data\":{\"bar\":[{\"error_x\":{\"color\":\"#2a3f5f\"},\"error_y\":{\"color\":\"#2a3f5f\"},\"marker\":{\"line\":{\"color\":\"#E5ECF6\",\"width\":0.5},\"pattern\":{\"fillmode\":\"overlay\",\"size\":10,\"solidity\":0.2}},\"type\":\"bar\"}],\"barpolar\":[{\"marker\":{\"line\":{\"color\":\"#E5ECF6\",\"width\":0.5},\"pattern\":{\"fillmode\":\"overlay\",\"size\":10,\"solidity\":0.2}},\"type\":\"barpolar\"}],\"carpet\":[{\"aaxis\":{\"endlinecolor\":\"#2a3f5f\",\"gridcolor\":\"white\",\"linecolor\":\"white\",\"minorgridcolor\":\"white\",\"startlinecolor\":\"#2a3f5f\"},\"baxis\":{\"endlinecolor\":\"#2a3f5f\",\"gridcolor\":\"white\",\"linecolor\":\"white\",\"minorgridcolor\":\"white\",\"startlinecolor\":\"#2a3f5f\"},\"type\":\"carpet\"}],\"choropleth\":[{\"colorbar\":{\"outlinewidth\":0,\"ticks\":\"\"},\"type\":\"choropleth\"}],\"contour\":[{\"colorbar\":{\"outlinewidth\":0,\"ticks\":\"\"},\"colorscale\":[[0.0,\"#0d0887\"],[0.1111111111111111,\"#46039f\"],[0.2222222222222222,\"#7201a8\"],[0.3333333333333333,\"#9c179e\"],[0.4444444444444444,\"#bd3786\"],[0.5555555555555556,\"#d8576b\"],[0.6666666666666666,\"#ed7953\"],[0.7777777777777778,\"#fb9f3a\"],[0.8888888888888888,\"#fdca26\"],[1.0,\"#f0f921\"]],\"type\":\"contour\"}],\"contourcarpet\":[{\"colorbar\":{\"outlinewidth\":0,\"ticks\":\"\"},\"type\":\"contourcarpet\"}],\"heatmap\":[{\"colorbar\":{\"outlinewidth\":0,\"ticks\":\"\"},\"colorscale\":[[0.0,\"#0d0887\"],[0.1111111111111111,\"#46039f\"],[0.2222222222222222,\"#7201a8\"],[0.3333333333333333,\"#9c179e\"],[0.4444444444444444,\"#bd3786\"],[0.5555555555555556,\"#d8576b\"],[0.6666666666666666,\"#ed7953\"],[0.7777777777777778,\"#fb9f3a\"],[0.8888888888888888,\"#fdca26\"],[1.0,\"#f0f921\"]],\"type\":\"heatmap\"}],\"heatmapgl\":[{\"colorbar\":{\"outlinewidth\":0,\"ticks\":\"\"},\"colorscale\":[[0.0,\"#0d0887\"],[0.1111111111111111,\"#46039f\"],[0.2222222222222222,\"#7201a8\"],[0.3333333333333333,\"#9c179e\"],[0.4444444444444444,\"#bd3786\"],[0.5555555555555556,\"#d8576b\"],[0.6666666666666666,\"#ed7953\"],[0.7777777777777778,\"#fb9f3a\"],[0.8888888888888888,\"#fdca26\"],[1.0,\"#f0f921\"]],\"type\":\"heatmapgl\"}],\"histogram\":[{\"marker\":{\"pattern\":{\"fillmode\":\"overlay\",\"size\":10,\"solidity\":0.2}},\"type\":\"histogram\"}],\"histogram2d\":[{\"colorbar\":{\"outlinewidth\":0,\"ticks\":\"\"},\"colorscale\":[[0.0,\"#0d0887\"],[0.1111111111111111,\"#46039f\"],[0.2222222222222222,\"#7201a8\"],[0.3333333333333333,\"#9c179e\"],[0.4444444444444444,\"#bd3786\"],[0.5555555555555556,\"#d8576b\"],[0.6666666666666666,\"#ed7953\"],[0.7777777777777778,\"#fb9f3a\"],[0.8888888888888888,\"#fdca26\"],[1.0,\"#f0f921\"]],\"type\":\"histogram2d\"}],\"histogram2dcontour\":[{\"colorbar\":{\"outlinewidth\":0,\"ticks\":\"\"},\"colorscale\":[[0.0,\"#0d0887\"],[0.1111111111111111,\"#46039f\"],[0.2222222222222222,\"#7201a8\"],[0.3333333333333333,\"#9c179e\"],[0.4444444444444444,\"#bd3786\"],[0.5555555555555556,\"#d8576b\"],[0.6666666666666666,\"#ed7953\"],[0.7777777777777778,\"#fb9f3a\"],[0.8888888888888888,\"#fdca26\"],[1.0,\"#f0f921\"]],\"type\":\"histogram2dcontour\"}],\"mesh3d\":[{\"colorbar\":{\"outlinewidth\":0,\"ticks\":\"\"},\"type\":\"mesh3d\"}],\"parcoords\":[{\"line\":{\"colorbar\":{\"outlinewidth\":0,\"ticks\":\"\"}},\"type\":\"parcoords\"}],\"pie\":[{\"automargin\":true,\"type\":\"pie\"}],\"scatter\":[{\"marker\":{\"colorbar\":{\"outlinewidth\":0,\"ticks\":\"\"}},\"type\":\"scatter\"}],\"scatter3d\":[{\"line\":{\"colorbar\":{\"outlinewidth\":0,\"ticks\":\"\"}},\"marker\":{\"colorbar\":{\"outlinewidth\":0,\"ticks\":\"\"}},\"type\":\"scatter3d\"}],\"scattercarpet\":[{\"marker\":{\"colorbar\":{\"outlinewidth\":0,\"ticks\":\"\"}},\"type\":\"scattercarpet\"}],\"scattergeo\":[{\"marker\":{\"colorbar\":{\"outlinewidth\":0,\"ticks\":\"\"}},\"type\":\"scattergeo\"}],\"scattergl\":[{\"marker\":{\"colorbar\":{\"outlinewidth\":0,\"ticks\":\"\"}},\"type\":\"scattergl\"}],\"scattermapbox\":[{\"marker\":{\"colorbar\":{\"outlinewidth\":0,\"ticks\":\"\"}},\"type\":\"scattermapbox\"}],\"scatterpolar\":[{\"marker\":{\"colorbar\":{\"outlinewidth\":0,\"ticks\":\"\"}},\"type\":\"scatterpolar\"}],\"scatterpolargl\":[{\"marker\":{\"colorbar\":{\"outlinewidth\":0,\"ticks\":\"\"}},\"type\":\"scatterpolargl\"}],\"scatterternary\":[{\"marker\":{\"colorbar\":{\"outlinewidth\":0,\"ticks\":\"\"}},\"type\":\"scatterternary\"}],\"surface\":[{\"colorbar\":{\"outlinewidth\":0,\"ticks\":\"\"},\"colorscale\":[[0.0,\"#0d0887\"],[0.1111111111111111,\"#46039f\"],[0.2222222222222222,\"#7201a8\"],[0.3333333333333333,\"#9c179e\"],[0.4444444444444444,\"#bd3786\"],[0.5555555555555556,\"#d8576b\"],[0.6666666666666666,\"#ed7953\"],[0.7777777777777778,\"#fb9f3a\"],[0.8888888888888888,\"#fdca26\"],[1.0,\"#f0f921\"]],\"type\":\"surface\"}],\"table\":[{\"cells\":{\"fill\":{\"color\":\"#EBF0F8\"},\"line\":{\"color\":\"white\"}},\"header\":{\"fill\":{\"color\":\"#C8D4E3\"},\"line\":{\"color\":\"white\"}},\"type\":\"table\"}]},\"layout\":{\"annotationdefaults\":{\"arrowcolor\":\"#2a3f5f\",\"arrowhead\":0,\"arrowwidth\":1},\"autotypenumbers\":\"strict\",\"coloraxis\":{\"colorbar\":{\"outlinewidth\":0,\"ticks\":\"\"}},\"colorscale\":{\"diverging\":[[0,\"#8e0152\"],[0.1,\"#c51b7d\"],[0.2,\"#de77ae\"],[0.3,\"#f1b6da\"],[0.4,\"#fde0ef\"],[0.5,\"#f7f7f7\"],[0.6,\"#e6f5d0\"],[0.7,\"#b8e186\"],[0.8,\"#7fbc41\"],[0.9,\"#4d9221\"],[1,\"#276419\"]],\"sequential\":[[0.0,\"#0d0887\"],[0.1111111111111111,\"#46039f\"],[0.2222222222222222,\"#7201a8\"],[0.3333333333333333,\"#9c179e\"],[0.4444444444444444,\"#bd3786\"],[0.5555555555555556,\"#d8576b\"],[0.6666666666666666,\"#ed7953\"],[0.7777777777777778,\"#fb9f3a\"],[0.8888888888888888,\"#fdca26\"],[1.0,\"#f0f921\"]],\"sequentialminus\":[[0.0,\"#0d0887\"],[0.1111111111111111,\"#46039f\"],[0.2222222222222222,\"#7201a8\"],[0.3333333333333333,\"#9c179e\"],[0.4444444444444444,\"#bd3786\"],[0.5555555555555556,\"#d8576b\"],[0.6666666666666666,\"#ed7953\"],[0.7777777777777778,\"#fb9f3a\"],[0.8888888888888888,\"#fdca26\"],[1.0,\"#f0f921\"]]},\"colorway\":[\"#636efa\",\"#EF553B\",\"#00cc96\",\"#ab63fa\",\"#FFA15A\",\"#19d3f3\",\"#FF6692\",\"#B6E880\",\"#FF97FF\",\"#FECB52\"],\"font\":{\"color\":\"#2a3f5f\"},\"geo\":{\"bgcolor\":\"white\",\"lakecolor\":\"white\",\"landcolor\":\"#E5ECF6\",\"showlakes\":true,\"showland\":true,\"subunitcolor\":\"white\"},\"hoverlabel\":{\"align\":\"left\"},\"hovermode\":\"closest\",\"mapbox\":{\"style\":\"light\"},\"paper_bgcolor\":\"white\",\"plot_bgcolor\":\"#E5ECF6\",\"polar\":{\"angularaxis\":{\"gridcolor\":\"white\",\"linecolor\":\"white\",\"ticks\":\"\"},\"bgcolor\":\"#E5ECF6\",\"radialaxis\":{\"gridcolor\":\"white\",\"linecolor\":\"white\",\"ticks\":\"\"}},\"scene\":{\"xaxis\":{\"backgroundcolor\":\"#E5ECF6\",\"gridcolor\":\"white\",\"gridwidth\":2,\"linecolor\":\"white\",\"showbackground\":true,\"ticks\":\"\",\"zerolinecolor\":\"white\"},\"yaxis\":{\"backgroundcolor\":\"#E5ECF6\",\"gridcolor\":\"white\",\"gridwidth\":2,\"linecolor\":\"white\",\"showbackground\":true,\"ticks\":\"\",\"zerolinecolor\":\"white\"},\"zaxis\":{\"backgroundcolor\":\"#E5ECF6\",\"gridcolor\":\"white\",\"gridwidth\":2,\"linecolor\":\"white\",\"showbackground\":true,\"ticks\":\"\",\"zerolinecolor\":\"white\"}},\"shapedefaults\":{\"line\":{\"color\":\"#2a3f5f\"}},\"ternary\":{\"aaxis\":{\"gridcolor\":\"white\",\"linecolor\":\"white\",\"ticks\":\"\"},\"baxis\":{\"gridcolor\":\"white\",\"linecolor\":\"white\",\"ticks\":\"\"},\"bgcolor\":\"#E5ECF6\",\"caxis\":{\"gridcolor\":\"white\",\"linecolor\":\"white\",\"ticks\":\"\"}},\"title\":{\"x\":0.05},\"xaxis\":{\"automargin\":true,\"gridcolor\":\"white\",\"linecolor\":\"white\",\"ticks\":\"\",\"title\":{\"standoff\":15},\"zerolinecolor\":\"white\",\"zerolinewidth\":2},\"yaxis\":{\"automargin\":true,\"gridcolor\":\"white\",\"linecolor\":\"white\",\"ticks\":\"\",\"title\":{\"standoff\":15},\"zerolinecolor\":\"white\",\"zerolinewidth\":2}}},\"xaxis\":{\"anchor\":\"y\",\"domain\":[0.0,1.0],\"title\":{\"text\":\"cum. timescale (k=3) (ns)\"}},\"yaxis\":{\"anchor\":\"x\",\"domain\":[0.0,1.0],\"title\":{\"text\":\"gap (t_3/t_4)\"}}},                        {\"responsive\": true}                    ).then(function(){\n",
       "                            \n",
       "var gd = document.getElementById('2add05c0-ca74-4b60-9194-c19abbca392f');\n",
       "var x = new MutationObserver(function (mutations, observer) {{\n",
       "        var display = window.getComputedStyle(gd).display;\n",
       "        if (!display || display === 'none') {{\n",
       "            console.log([gd, 'removed!']);\n",
       "            Plotly.purge(gd);\n",
       "            observer.disconnect();\n",
       "        }}\n",
       "}});\n",
       "\n",
       "// Listen for the removal of the full notebook cells\n",
       "var notebookContainer = gd.closest('#notebook-container');\n",
       "if (notebookContainer) {{\n",
       "    x.observe(notebookContainer, {childList: true});\n",
       "}}\n",
       "\n",
       "// Listen for the clearing of the current output cell\n",
       "var outputEl = gd.closest('.output');\n",
       "if (outputEl) {{\n",
       "    x.observe(outputEl, {childList: true});\n",
       "}}\n",
       "\n",
       "                        })                };                });            </script>        </div>"
      ]
     },
     "metadata": {},
     "output_type": "display_data"
    }
   ],
   "source": [
    "k = 3\n",
    "data=timescales.query(f\"process=={k}\").query('lag==41').query('hp_ix < 329')\n",
    "\n",
    "# df = px.data.iris() # iris is a pandas DataFrame\n",
    "fig = px.scatter(data, x=\"cum_ts\", y=\"median_y\", hover_data=['hp_ix', 'feature', 'tica__lag', 'tica__dim', 'cluster__k'], \n",
    "                labels={\n",
    "                     \"cum_ts\": f\"cum. timescale (k={k}) (ns)\",\n",
    "                     \"median_y\": f\"gap (t_{k}/t_{k+1})\",\n",
    "                    \"median_x\": 'timescale (ns)'\n",
    "                 })\n",
    "fig.show()"
   ]
  },
  {
   "cell_type": "code",
   "execution_count": null,
   "id": "5eead5f9-09f4-498a-a5a5-1fbdb6eb7dc8",
   "metadata": {},
   "outputs": [],
   "source": []
  }
 ],
 "metadata": {
  "kernelspec": {
   "display_name": "Python 3 (ipykernel)",
   "language": "python",
   "name": "python3"
  },
  "language_info": {
   "codemirror_mode": {
    "name": "ipython",
    "version": 3
   },
   "file_extension": ".py",
   "mimetype": "text/x-python",
   "name": "python",
   "nbconvert_exporter": "python",
   "pygments_lexer": "ipython3",
   "version": "3.8.0"
  }
 },
 "nbformat": 4,
 "nbformat_minor": 5
}
