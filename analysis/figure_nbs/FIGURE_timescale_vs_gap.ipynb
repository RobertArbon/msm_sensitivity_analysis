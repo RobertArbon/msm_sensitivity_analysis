{
 "cells": [
  {
   "cell_type": "code",
   "execution_count": 19,
   "id": "2b7c64bf-9c3d-46f4-aa4d-d1e78ea7d8f6",
   "metadata": {},
   "outputs": [],
   "source": [
    "import matplotlib.pyplot as plt\n",
    "import pandas as pd\n",
    "import numpy as np\n",
    "import seaborn as sns\n",
    "import matplotlib as mpl\n",
    "import plotly.express as px\n"
   ]
  },
  {
   "cell_type": "code",
   "execution_count": 2,
   "id": "c4d46f69-1828-4072-a6ba-171933135f54",
   "metadata": {},
   "outputs": [],
   "source": [
    "protein = '1fme'\n",
    "md_t2 = {'1fme': 18*1000}\n",
    "lag = 41\n",
    "process = 2\n"
   ]
  },
  {
   "cell_type": "code",
   "execution_count": 3,
   "id": "0f913f25-5788-4534-b6fd-36b622465325",
   "metadata": {},
   "outputs": [],
   "source": [
    "# df = pd.read_hdf(f'../{protein}/summary_batch1.h5', key='timescale_ratio')"
   ]
  },
  {
   "cell_type": "code",
   "execution_count": 9,
   "id": "6f69e37d-a8e1-4f1e-b536-0c9fd5dd3c1d",
   "metadata": {},
   "outputs": [
    {
     "name": "stdout",
     "output_type": "stream",
     "text": [
      "(68161, 7) (150, 14) (68161, 7)\n",
      "(68161, 25)\n",
      "(68161, 25)\n"
     ]
    }
   ],
   "source": [
    "summary_paths = [f'../{protein}/summary_batch1.h5', f'../{protein}/summary_batch2.h5', f'../{protein}/summary_batch3.h5']\n",
    "\n",
    "hp_paths = ['../../experiments/hpsample.h5', '../../experiments/new_hpsample.h5', '../../experiments/new_ts_hpsample_missing_best.h5']\n",
    "\n",
    "keep_hp_ixs = [np.array([]), np.array([329, 330, 331, 334, 335]), \n",
    "               np.array([340, 341, 342, 343, 344])]\n",
    "\n",
    "hps = []\n",
    "timescales = []\n",
    "gaps = []\n",
    "for batch_num in range(3):\n",
    "    keep_ix = keep_hp_ixs[batch_num]\n",
    "    \n",
    "    # Hp definitions\n",
    "    hp = pd.read_hdf(hp_paths[batch_num])\n",
    "    hp.reset_index(inplace=True)    \n",
    "    \n",
    "    # Drop these columns if they exist. \n",
    "    for drop_col in ['index', 'Group']:\n",
    "        if drop_col in hp.columns:\n",
    "            hp.drop(labels=[drop_col], inplace=True, axis=1)\n",
    "    if keep_ix.shape[0]>0: \n",
    "        hp = hp.loc[hp.hp_ix.isin(keep_ix), :]\n",
    "    hps.append(hp)\n",
    "    \n",
    "    # timescales\n",
    "    tmp = pd.read_hdf(summary_paths[batch_num], key='timescales')\n",
    "    tmp.reset_index(inplace=True)\n",
    "    \n",
    "    # Drop these columns if they exist. \n",
    "    for drop_col in ['index', 'Group']:\n",
    "        if drop_col in tmp.columns:\n",
    "            tmp.drop(labels=[drop_col], inplace=True, axis=1)\n",
    "    \n",
    "    if keep_ix.shape[0]>0: \n",
    "        tmp = tmp.loc[tmp.hp_ix.isin(keep_ix), :]\n",
    "    timescales.append(tmp)\n",
    "\n",
    "    \n",
    "    # gaps\n",
    "    tmp = pd.read_hdf(summary_paths[batch_num], key='timescale_ratio')\n",
    "    tmp.reset_index(inplace=True)\n",
    "    \n",
    "    # Drop these columns if they exist. \n",
    "    for drop_col in ['index', 'Group']:\n",
    "        if drop_col in tmp.columns:\n",
    "            tmp.drop(labels=[drop_col], inplace=True, axis=1)\n",
    "    \n",
    "    if keep_ix.shape[0]>0: \n",
    "        tmp = tmp.loc[tmp.hp_ix.isin(keep_ix), :]\n",
    "    gaps.append(tmp)    \n",
    "       \n",
    "        \n",
    "        \n",
    "timescales = pd.concat(timescales, axis=0)\n",
    "gaps = pd.concat(gaps, axis=0)\n",
    "hps = pd.concat(hps, axis=0)    \n",
    "\n",
    "print(timescales.shape, hps.shape, gaps.shape)\n",
    "\n",
    "timescales = timescales.merge(hps, on=['hp_ix'], how='left')\n",
    "timescales = timescales.merge(gaps, on=['hp_ix', 'lag', 'process'], how='left')\n",
    "\n",
    "timescales['feature'] = timescales.apply(lambda x: f\"{x['feature__value']}\" if x['feature__value'] =='dihedrals' else f\"{x['distances__transform']}-{x['feature__value']}\", axis=1)\n",
    "print(timescales.shape)\n",
    "timescales.drop_duplicates(inplace=True)\n",
    "print(timescales.shape)"
   ]
  },
  {
   "cell_type": "code",
   "execution_count": 25,
   "id": "587bf190-bcf2-4a4b-9502-5521014bc199",
   "metadata": {},
   "outputs": [
    {
     "data": {
      "application/vnd.plotly.v1+json": {
       "config": {
        "plotlyServerURL": "https://plot.ly"
       },
       "data": [
        {
         "customdata": [
          [
           28,
           "logistic-distances",
           12
          ],
          [
           216,
           "logistic-distances",
           11
          ],
          [
           182,
           "linear-distances",
           16
          ],
          [
           195,
           "logistic-distances",
           19
          ],
          [
           199,
           "linear-distances",
           11
          ],
          [
           242,
           "logistic-distances",
           17
          ],
          [
           206,
           "logistic-distances",
           8
          ],
          [
           43,
           "logistic-distances",
           10
          ],
          [
           269,
           "logistic-distances",
           18
          ],
          [
           135,
           "logistic-distances",
           15
          ],
          [
           121,
           "logistic-distances",
           2
          ],
          [
           17,
           "dihedrals",
           20
          ],
          [
           272,
           "logistic-distances",
           18
          ],
          [
           32,
           "dihedrals",
           11
          ],
          [
           19,
           "logistic-distances",
           19
          ],
          [
           101,
           "logistic-distances",
           9
          ],
          [
           73,
           "linear-distances",
           9
          ],
          [
           15,
           "dihedrals",
           11
          ],
          [
           44,
           "linear-distances",
           8
          ],
          [
           104,
           "logistic-distances",
           16
          ],
          [
           31,
           "dihedrals",
           15
          ],
          [
           67,
           "logistic-distances",
           18
          ],
          [
           111,
           "logistic-distances",
           12
          ],
          [
           102,
           "linear-distances",
           6
          ],
          [
           264,
           "logistic-distances",
           13
          ],
          [
           106,
           "logistic-distances",
           3
          ],
          [
           184,
           "logistic-distances",
           15
          ],
          [
           262,
           "logistic-distances",
           18
          ],
          [
           202,
           "linear-distances",
           6
          ],
          [
           35,
           "logistic-distances",
           4
          ],
          [
           175,
           "logistic-distances",
           20
          ],
          [
           37,
           "linear-distances",
           20
          ],
          [
           47,
           "linear-distances",
           18
          ],
          [
           162,
           "logistic-distances",
           10
          ],
          [
           4,
           "dihedrals",
           15
          ],
          [
           197,
           "logistic-distances",
           15
          ],
          [
           86,
           "logistic-distances",
           10
          ],
          [
           321,
           "logistic-distances",
           8
          ],
          [
           176,
           "linear-distances",
           4
          ],
          [
           10,
           "dihedrals",
           5
          ],
          [
           69,
           "linear-distances",
           11
          ],
          [
           289,
           "logistic-distances",
           14
          ],
          [
           208,
           "logistic-distances",
           6
          ],
          [
           140,
           "logistic-distances",
           19
          ],
          [
           30,
           "linear-distances",
           6
          ],
          [
           328,
           "logistic-distances",
           5
          ],
          [
           9,
           "dihedrals",
           13
          ],
          [
           139,
           "logistic-distances",
           10
          ],
          [
           144,
           "logistic-distances",
           6
          ],
          [
           39,
           "linear-distances",
           3
          ],
          [
           260,
           "logistic-distances",
           19
          ],
          [
           91,
           "logistic-distances",
           13
          ],
          [
           120,
           "linear-distances",
           10
          ],
          [
           60,
           "linear-distances",
           11
          ],
          [
           194,
           "logistic-distances",
           4
          ],
          [
           145,
           "linear-distances",
           4
          ],
          [
           42,
           "linear-distances",
           8
          ],
          [
           55,
           "logistic-distances",
           13
          ],
          [
           174,
           "linear-distances",
           1
          ],
          [
           0,
           "dihedrals",
           19
          ],
          [
           124,
           "linear-distances",
           4
          ],
          [
           81,
           "logistic-distances",
           9
          ],
          [
           118,
           "linear-distances",
           17
          ],
          [
           13,
           "dihedrals",
           6
          ],
          [
           85,
           "linear-distances",
           19
          ],
          [
           40,
           "dihedrals",
           5
          ],
          [
           170,
           "logistic-distances",
           13
          ],
          [
           311,
           "logistic-distances",
           2
          ],
          [
           171,
           "logistic-distances",
           13
          ],
          [
           7,
           "linear-distances",
           16
          ],
          [
           34,
           "logistic-distances",
           16
          ],
          [
           133,
           "linear-distances",
           20
          ],
          [
           23,
           "linear-distances",
           6
          ],
          [
           123,
           "logistic-distances",
           20
          ],
          [
           93,
           "logistic-distances",
           17
          ],
          [
           5,
           "linear-distances",
           7
          ],
          [
           183,
           "logistic-distances",
           8
          ],
          [
           157,
           "logistic-distances",
           19
          ],
          [
           78,
           "logistic-distances",
           1
          ],
          [
           192,
           "logistic-distances",
           14
          ],
          [
           227,
           "logistic-distances",
           3
          ],
          [
           193,
           "logistic-distances",
           3
          ],
          [
           150,
           "linear-distances",
           10
          ],
          [
           21,
           "logistic-distances",
           5
          ],
          [
           18,
           "dihedrals",
           14
          ],
          [
           33,
           "dihedrals",
           17
          ],
          [
           22,
           "logistic-distances",
           6
          ],
          [
           235,
           "logistic-distances",
           19
          ],
          [
           83,
           "logistic-distances",
           3
          ],
          [
           74,
           "linear-distances",
           15
          ],
          [
           20,
           "dihedrals",
           4
          ],
          [
           131,
           "linear-distances",
           18
          ],
          [
           186,
           "linear-distances",
           16
          ],
          [
           72,
           "linear-distances",
           14
          ],
          [
           241,
           "logistic-distances",
           13
          ],
          [
           6,
           "dihedrals",
           13
          ],
          [
           27,
           "dihedrals",
           2
          ],
          [
           217,
           "logistic-distances",
           10
          ],
          [
           254,
           "logistic-distances",
           18
          ],
          [
           113,
           "linear-distances",
           1
          ],
          [
           207,
           "linear-distances",
           9
          ],
          [
           12,
           "dihedrals",
           10
          ],
          [
           29,
           "logistic-distances",
           7
          ],
          [
           89,
           "linear-distances",
           14
          ],
          [
           167,
           "linear-distances",
           15
          ],
          [
           198,
           "logistic-distances",
           4
          ],
          [
           313,
           "logistic-distances",
           14
          ],
          [
           129,
           "linear-distances",
           11
          ],
          [
           57,
           "linear-distances",
           5
          ],
          [
           112,
           "linear-distances",
           18
          ],
          [
           16,
           "logistic-distances",
           15
          ],
          [
           26,
           "logistic-distances",
           18
          ],
          [
           8,
           "dihedrals",
           20
          ],
          [
           68,
           "linear-distances",
           8
          ],
          [
           278,
           "logistic-distances",
           2
          ],
          [
           130,
           "logistic-distances",
           16
          ],
          [
           228,
           "logistic-distances",
           16
          ],
          [
           87,
           "linear-distances",
           12
          ],
          [
           239,
           "logistic-distances",
           18
          ],
          [
           24,
           "logistic-distances",
           20
          ],
          [
           14,
           "logistic-distances",
           4
          ],
          [
           230,
           "logistic-distances",
           4
          ],
          [
           291,
           "logistic-distances",
           10
          ],
          [
           2,
           "logistic-distances",
           18
          ],
          [
           25,
           "dihedrals",
           4
          ],
          [
           147,
           "logistic-distances",
           3
          ],
          [
           54,
           "linear-distances",
           16
          ],
          [
           1,
           "logistic-distances",
           4
          ],
          [
           38,
           "dihedrals",
           8
          ],
          [
           88,
           "logistic-distances",
           12
          ],
          [
           11,
           "linear-distances",
           5
          ],
          [
           295,
           "logistic-distances",
           16
          ],
          [
           151,
           "logistic-distances",
           19
          ],
          [
           36,
           "dihedrals",
           20
          ],
          [
           117,
           "logistic-distances",
           8
          ],
          [
           3,
           "logistic-distances",
           4
          ]
         ],
         "hovertemplate": "timescale (ns)=%{x}<br>gap=%{y}<br>hp_ix=%{customdata[0]}<br>feature=%{customdata[1]}<br>tica__dim=%{customdata[2]}<extra></extra>",
         "legendgroup": "",
         "marker": {
          "color": "#636efa",
          "symbol": "circle"
         },
         "mode": "markers",
         "name": "",
         "orientation": "v",
         "showlegend": false,
         "type": "scatter",
         "x": [
          1039.9594487046334,
          1657.5799682071963,
          1851.8819548734505,
          1074.5191604652546,
          1857.8340943003573,
          2025.4139582009893,
          1937.2272769951423,
          779.7517682232254,
          1019.6567470839038,
          980.7958876288901,
          1333.6321438888328,
          1160.3763110120804,
          2546.030189717208,
          615.1885010768948,
          1230.7240651940278,
          1830.283065305778,
          1803.4775664641354,
          673.3246771011088,
          1956.241451425658,
          2004.8799169283411,
          1055.5308796984098,
          306.3762876474946,
          778.7991522303967,
          1518.2407831832643,
          2190.0500978571927,
          1078.4270901389245,
          2120.989394874592,
          3264.146621180305,
          891.9333560290647,
          1107.3016982014383,
          3067.984639133519,
          2279.155441784832,
          1997.9187683036166,
          1044.2605340571429,
          748.8489759110419,
          777.5855374479842,
          1089.3676787485438,
          612.203182779529,
          1246.8417093406347,
          1032.1896741532719,
          1417.5455273485159,
          1972.4899857006458,
          1325.944140823594,
          1256.1228972938927,
          1515.3022255048295,
          277.699986876661,
          424.5487238039351,
          2154.0904718714237,
          1740.3966616561183,
          852.946294401009,
          2459.451313750488,
          1984.0924394148824,
          1161.012813039566,
          1972.6578723997425,
          1011.2221016107803,
          542.1779370491804,
          1110.287580210172,
          1334.528809988764,
          188.7208530431916,
          1058.2680280938441,
          485.2970734031336,
          1086.683222850229,
          1378.6477635863475,
          623.2270863453127,
          2835.7864972270318,
          612.2417182106979,
          2225.415783187267,
          242.76894372347272,
          695.4388643320492,
          1857.741637067807,
          2603.3992177052783,
          2270.8042367988314,
          852.2921568341922,
          1164.4015350602936,
          2068.808539209732,
          1321.289194154051,
          1108.5332164537688,
          2897.1669115742325,
          163.80774074938813,
          866.9756281203172,
          970.3324730299762,
          1264.7849234569535,
          1111.1203970988977,
          1668.1522092652162,
          661.4386721332548,
          1115.1788850165485,
          746.5476688280914,
          3632.7561971365585,
          974.2220092859503,
          2573.105333948276,
          659.8406674770944,
          2568.100960084207,
          1460.745708333259,
          2118.5037407166856,
          2989.677722930079,
          1452.6647854648909,
          502.74337918678543,
          1711.8899817093147,
          1665.9331285543237,
          186.59450759558717,
          1367.1033569936794,
          1185.1342598978788,
          1251.4048726254657,
          1973.6970606911118,
          2428.549124069463,
          1626.5194336336158,
          1823.2643692697266,
          986.8619543998678,
          1229.1206823354573,
          1081.2382151509587,
          2593.0885244541523,
          1929.7580550534315,
          1137.995221814721,
          1482.4808999824704,
          719.8397258138621,
          1377.1442079850517,
          1996.4011701275072,
          1305.6692559863175,
          1074.0612202793495,
          3575.0694060329224,
          1293.8140876740756,
          1790.2633889487329,
          2403.2512342054765,
          490.4900797043221,
          878.2646451577757,
          2037.7097597057561,
          2198.1410596425867,
          1309.9792018844196,
          692.0786838293955,
          2270.229737746963,
          1335.9365626432832,
          1481.1632869403356,
          2164.5146530023844,
          1107.484544215351,
          923.4020824210148,
          1172.2557300635972
         ],
         "xaxis": "x",
         "y": [
          1.2150832077679767,
          1.2729854261369389,
          1.245343315217882,
          1.2632225159857686,
          1.2421713925244955,
          1.2090570279350246,
          1.2194854420127128,
          1.2482263382140162,
          1.2634164934789125,
          1.2189687584449747,
          4.438310556365927,
          1.340212321262595,
          1.2119330356368727,
          1.2970213357614848,
          1.2094584135190316,
          1.2046341547915502,
          1.2424024892292687,
          1.400371026578799,
          1.3159916903448963,
          1.2729454094131607,
          1.373741387961989,
          1.174891928401439,
          1.1926432925417763,
          1.3660855491828066,
          1.2555646409496672,
          1.6018790310639077,
          1.2848629786528907,
          1.3181629694880919,
          1.477766442478811,
          1.3769208009509757,
          1.2300778725388897,
          1.2878000720144216,
          1.2879531378011007,
          1.3327263648133734,
          1.2867549302687327,
          1.4205766003669305,
          1.2464708908117728,
          1.3099039454303132,
          1.6473514004981777,
          1.5597582977947841,
          1.2647643844103689,
          1.2170464357448425,
          1.291686951230992,
          1.2484477863176948,
          1.4005087782321235,
          1.3909416501359222,
          1.2719270007081445,
          1.2485713198782413,
          1.3731969380899562,
          1.7403407165536824,
          1.2289470904371755,
          1.2318421999005122,
          1.2380642616522244,
          1.3377313349748445,
          1.436530180479274,
          1.381643575383479,
          1.2313632272165314,
          1.1983368792571283,
          2.3013201076386425,
          1.3968375451609116,
          1.2467074740126973,
          1.271246705248862,
          1.2444471200383658,
          1.475428207607209,
          1.2614615060222953,
          1.3038194793995244,
          1.219167961252651,
          1.6804725630480353,
          1.3480443274605554,
          1.2705328783659124,
          1.2738013444817162,
          1.287354416237429,
          1.422716517406403,
          1.205310792731157,
          1.278518769813544,
          1.4141100061488001,
          1.252287494455417,
          1.2762780702578782,
          2.2462473218465044,
          1.1805668177305644,
          1.7466822671014006,
          1.466767702969998,
          1.264430412053819,
          1.3055215490467478,
          1.3115098351783585,
          1.3609316080759397,
          1.3925086158689073,
          1.2846746836745147,
          1.7261834686949062,
          1.2643927712691427,
          1.3936178384504374,
          1.2830729849287974,
          1.3120972470086472,
          1.2306313264292608,
          1.2936567461057913,
          1.326418450326592,
          2.4746191325762874,
          1.2415703200908381,
          1.1877014290813137,
          2.1622717844020283,
          1.2593199508288202,
          1.3860305371587547,
          1.2565401563991982,
          1.254465936285357,
          1.2397619749201665,
          1.3305643430262029,
          1.2606272729051287,
          1.3140633358712326,
          1.6024657263976076,
          1.2496772823192361,
          1.2692188467523888,
          1.1842994047607664,
          1.365838599135342,
          1.2766742856502882,
          2.9906161559984197,
          1.1877764451682453,
          1.2347898662877692,
          1.3055708606144725,
          1.2866414626536977,
          1.3965073819259288,
          1.2685063769346498,
          1.4150319558411355,
          1.2477721867698062,
          1.2643434459065817,
          1.5784943167338579,
          1.7406930993137069,
          1.2522740485851422,
          1.6315221579879784,
          1.360447174782092,
          1.2106956868138528,
          1.5133721418259816,
          1.1970720385861846,
          1.2076128727205275,
          1.2441132394683938,
          1.4254172335405648,
          1.2355668800724597
         ],
         "yaxis": "y"
        }
       ],
       "layout": {
        "autosize": true,
        "legend": {
         "tracegroupgap": 0
        },
        "margin": {
         "t": 60
        },
        "template": {
         "data": {
          "bar": [
           {
            "error_x": {
             "color": "#2a3f5f"
            },
            "error_y": {
             "color": "#2a3f5f"
            },
            "marker": {
             "line": {
              "color": "#E5ECF6",
              "width": 0.5
             },
             "pattern": {
              "fillmode": "overlay",
              "size": 10,
              "solidity": 0.2
             }
            },
            "type": "bar"
           }
          ],
          "barpolar": [
           {
            "marker": {
             "line": {
              "color": "#E5ECF6",
              "width": 0.5
             },
             "pattern": {
              "fillmode": "overlay",
              "size": 10,
              "solidity": 0.2
             }
            },
            "type": "barpolar"
           }
          ],
          "carpet": [
           {
            "aaxis": {
             "endlinecolor": "#2a3f5f",
             "gridcolor": "white",
             "linecolor": "white",
             "minorgridcolor": "white",
             "startlinecolor": "#2a3f5f"
            },
            "baxis": {
             "endlinecolor": "#2a3f5f",
             "gridcolor": "white",
             "linecolor": "white",
             "minorgridcolor": "white",
             "startlinecolor": "#2a3f5f"
            },
            "type": "carpet"
           }
          ],
          "choropleth": [
           {
            "colorbar": {
             "outlinewidth": 0,
             "ticks": ""
            },
            "type": "choropleth"
           }
          ],
          "contour": [
           {
            "colorbar": {
             "outlinewidth": 0,
             "ticks": ""
            },
            "colorscale": [
             [
              0,
              "#0d0887"
             ],
             [
              0.1111111111111111,
              "#46039f"
             ],
             [
              0.2222222222222222,
              "#7201a8"
             ],
             [
              0.3333333333333333,
              "#9c179e"
             ],
             [
              0.4444444444444444,
              "#bd3786"
             ],
             [
              0.5555555555555556,
              "#d8576b"
             ],
             [
              0.6666666666666666,
              "#ed7953"
             ],
             [
              0.7777777777777778,
              "#fb9f3a"
             ],
             [
              0.8888888888888888,
              "#fdca26"
             ],
             [
              1,
              "#f0f921"
             ]
            ],
            "type": "contour"
           }
          ],
          "contourcarpet": [
           {
            "colorbar": {
             "outlinewidth": 0,
             "ticks": ""
            },
            "type": "contourcarpet"
           }
          ],
          "heatmap": [
           {
            "colorbar": {
             "outlinewidth": 0,
             "ticks": ""
            },
            "colorscale": [
             [
              0,
              "#0d0887"
             ],
             [
              0.1111111111111111,
              "#46039f"
             ],
             [
              0.2222222222222222,
              "#7201a8"
             ],
             [
              0.3333333333333333,
              "#9c179e"
             ],
             [
              0.4444444444444444,
              "#bd3786"
             ],
             [
              0.5555555555555556,
              "#d8576b"
             ],
             [
              0.6666666666666666,
              "#ed7953"
             ],
             [
              0.7777777777777778,
              "#fb9f3a"
             ],
             [
              0.8888888888888888,
              "#fdca26"
             ],
             [
              1,
              "#f0f921"
             ]
            ],
            "type": "heatmap"
           }
          ],
          "heatmapgl": [
           {
            "colorbar": {
             "outlinewidth": 0,
             "ticks": ""
            },
            "colorscale": [
             [
              0,
              "#0d0887"
             ],
             [
              0.1111111111111111,
              "#46039f"
             ],
             [
              0.2222222222222222,
              "#7201a8"
             ],
             [
              0.3333333333333333,
              "#9c179e"
             ],
             [
              0.4444444444444444,
              "#bd3786"
             ],
             [
              0.5555555555555556,
              "#d8576b"
             ],
             [
              0.6666666666666666,
              "#ed7953"
             ],
             [
              0.7777777777777778,
              "#fb9f3a"
             ],
             [
              0.8888888888888888,
              "#fdca26"
             ],
             [
              1,
              "#f0f921"
             ]
            ],
            "type": "heatmapgl"
           }
          ],
          "histogram": [
           {
            "marker": {
             "pattern": {
              "fillmode": "overlay",
              "size": 10,
              "solidity": 0.2
             }
            },
            "type": "histogram"
           }
          ],
          "histogram2d": [
           {
            "colorbar": {
             "outlinewidth": 0,
             "ticks": ""
            },
            "colorscale": [
             [
              0,
              "#0d0887"
             ],
             [
              0.1111111111111111,
              "#46039f"
             ],
             [
              0.2222222222222222,
              "#7201a8"
             ],
             [
              0.3333333333333333,
              "#9c179e"
             ],
             [
              0.4444444444444444,
              "#bd3786"
             ],
             [
              0.5555555555555556,
              "#d8576b"
             ],
             [
              0.6666666666666666,
              "#ed7953"
             ],
             [
              0.7777777777777778,
              "#fb9f3a"
             ],
             [
              0.8888888888888888,
              "#fdca26"
             ],
             [
              1,
              "#f0f921"
             ]
            ],
            "type": "histogram2d"
           }
          ],
          "histogram2dcontour": [
           {
            "colorbar": {
             "outlinewidth": 0,
             "ticks": ""
            },
            "colorscale": [
             [
              0,
              "#0d0887"
             ],
             [
              0.1111111111111111,
              "#46039f"
             ],
             [
              0.2222222222222222,
              "#7201a8"
             ],
             [
              0.3333333333333333,
              "#9c179e"
             ],
             [
              0.4444444444444444,
              "#bd3786"
             ],
             [
              0.5555555555555556,
              "#d8576b"
             ],
             [
              0.6666666666666666,
              "#ed7953"
             ],
             [
              0.7777777777777778,
              "#fb9f3a"
             ],
             [
              0.8888888888888888,
              "#fdca26"
             ],
             [
              1,
              "#f0f921"
             ]
            ],
            "type": "histogram2dcontour"
           }
          ],
          "mesh3d": [
           {
            "colorbar": {
             "outlinewidth": 0,
             "ticks": ""
            },
            "type": "mesh3d"
           }
          ],
          "parcoords": [
           {
            "line": {
             "colorbar": {
              "outlinewidth": 0,
              "ticks": ""
             }
            },
            "type": "parcoords"
           }
          ],
          "pie": [
           {
            "automargin": true,
            "type": "pie"
           }
          ],
          "scatter": [
           {
            "marker": {
             "colorbar": {
              "outlinewidth": 0,
              "ticks": ""
             }
            },
            "type": "scatter"
           }
          ],
          "scatter3d": [
           {
            "line": {
             "colorbar": {
              "outlinewidth": 0,
              "ticks": ""
             }
            },
            "marker": {
             "colorbar": {
              "outlinewidth": 0,
              "ticks": ""
             }
            },
            "type": "scatter3d"
           }
          ],
          "scattercarpet": [
           {
            "marker": {
             "colorbar": {
              "outlinewidth": 0,
              "ticks": ""
             }
            },
            "type": "scattercarpet"
           }
          ],
          "scattergeo": [
           {
            "marker": {
             "colorbar": {
              "outlinewidth": 0,
              "ticks": ""
             }
            },
            "type": "scattergeo"
           }
          ],
          "scattergl": [
           {
            "marker": {
             "colorbar": {
              "outlinewidth": 0,
              "ticks": ""
             }
            },
            "type": "scattergl"
           }
          ],
          "scattermapbox": [
           {
            "marker": {
             "colorbar": {
              "outlinewidth": 0,
              "ticks": ""
             }
            },
            "type": "scattermapbox"
           }
          ],
          "scatterpolar": [
           {
            "marker": {
             "colorbar": {
              "outlinewidth": 0,
              "ticks": ""
             }
            },
            "type": "scatterpolar"
           }
          ],
          "scatterpolargl": [
           {
            "marker": {
             "colorbar": {
              "outlinewidth": 0,
              "ticks": ""
             }
            },
            "type": "scatterpolargl"
           }
          ],
          "scatterternary": [
           {
            "marker": {
             "colorbar": {
              "outlinewidth": 0,
              "ticks": ""
             }
            },
            "type": "scatterternary"
           }
          ],
          "surface": [
           {
            "colorbar": {
             "outlinewidth": 0,
             "ticks": ""
            },
            "colorscale": [
             [
              0,
              "#0d0887"
             ],
             [
              0.1111111111111111,
              "#46039f"
             ],
             [
              0.2222222222222222,
              "#7201a8"
             ],
             [
              0.3333333333333333,
              "#9c179e"
             ],
             [
              0.4444444444444444,
              "#bd3786"
             ],
             [
              0.5555555555555556,
              "#d8576b"
             ],
             [
              0.6666666666666666,
              "#ed7953"
             ],
             [
              0.7777777777777778,
              "#fb9f3a"
             ],
             [
              0.8888888888888888,
              "#fdca26"
             ],
             [
              1,
              "#f0f921"
             ]
            ],
            "type": "surface"
           }
          ],
          "table": [
           {
            "cells": {
             "fill": {
              "color": "#EBF0F8"
             },
             "line": {
              "color": "white"
             }
            },
            "header": {
             "fill": {
              "color": "#C8D4E3"
             },
             "line": {
              "color": "white"
             }
            },
            "type": "table"
           }
          ]
         },
         "layout": {
          "annotationdefaults": {
           "arrowcolor": "#2a3f5f",
           "arrowhead": 0,
           "arrowwidth": 1
          },
          "autotypenumbers": "strict",
          "coloraxis": {
           "colorbar": {
            "outlinewidth": 0,
            "ticks": ""
           }
          },
          "colorscale": {
           "diverging": [
            [
             0,
             "#8e0152"
            ],
            [
             0.1,
             "#c51b7d"
            ],
            [
             0.2,
             "#de77ae"
            ],
            [
             0.3,
             "#f1b6da"
            ],
            [
             0.4,
             "#fde0ef"
            ],
            [
             0.5,
             "#f7f7f7"
            ],
            [
             0.6,
             "#e6f5d0"
            ],
            [
             0.7,
             "#b8e186"
            ],
            [
             0.8,
             "#7fbc41"
            ],
            [
             0.9,
             "#4d9221"
            ],
            [
             1,
             "#276419"
            ]
           ],
           "sequential": [
            [
             0,
             "#0d0887"
            ],
            [
             0.1111111111111111,
             "#46039f"
            ],
            [
             0.2222222222222222,
             "#7201a8"
            ],
            [
             0.3333333333333333,
             "#9c179e"
            ],
            [
             0.4444444444444444,
             "#bd3786"
            ],
            [
             0.5555555555555556,
             "#d8576b"
            ],
            [
             0.6666666666666666,
             "#ed7953"
            ],
            [
             0.7777777777777778,
             "#fb9f3a"
            ],
            [
             0.8888888888888888,
             "#fdca26"
            ],
            [
             1,
             "#f0f921"
            ]
           ],
           "sequentialminus": [
            [
             0,
             "#0d0887"
            ],
            [
             0.1111111111111111,
             "#46039f"
            ],
            [
             0.2222222222222222,
             "#7201a8"
            ],
            [
             0.3333333333333333,
             "#9c179e"
            ],
            [
             0.4444444444444444,
             "#bd3786"
            ],
            [
             0.5555555555555556,
             "#d8576b"
            ],
            [
             0.6666666666666666,
             "#ed7953"
            ],
            [
             0.7777777777777778,
             "#fb9f3a"
            ],
            [
             0.8888888888888888,
             "#fdca26"
            ],
            [
             1,
             "#f0f921"
            ]
           ]
          },
          "colorway": [
           "#636efa",
           "#EF553B",
           "#00cc96",
           "#ab63fa",
           "#FFA15A",
           "#19d3f3",
           "#FF6692",
           "#B6E880",
           "#FF97FF",
           "#FECB52"
          ],
          "font": {
           "color": "#2a3f5f"
          },
          "geo": {
           "bgcolor": "white",
           "lakecolor": "white",
           "landcolor": "#E5ECF6",
           "showlakes": true,
           "showland": true,
           "subunitcolor": "white"
          },
          "hoverlabel": {
           "align": "left"
          },
          "hovermode": "closest",
          "mapbox": {
           "style": "light"
          },
          "paper_bgcolor": "white",
          "plot_bgcolor": "#E5ECF6",
          "polar": {
           "angularaxis": {
            "gridcolor": "white",
            "linecolor": "white",
            "ticks": ""
           },
           "bgcolor": "#E5ECF6",
           "radialaxis": {
            "gridcolor": "white",
            "linecolor": "white",
            "ticks": ""
           }
          },
          "scene": {
           "xaxis": {
            "backgroundcolor": "#E5ECF6",
            "gridcolor": "white",
            "gridwidth": 2,
            "linecolor": "white",
            "showbackground": true,
            "ticks": "",
            "zerolinecolor": "white"
           },
           "yaxis": {
            "backgroundcolor": "#E5ECF6",
            "gridcolor": "white",
            "gridwidth": 2,
            "linecolor": "white",
            "showbackground": true,
            "ticks": "",
            "zerolinecolor": "white"
           },
           "zaxis": {
            "backgroundcolor": "#E5ECF6",
            "gridcolor": "white",
            "gridwidth": 2,
            "linecolor": "white",
            "showbackground": true,
            "ticks": "",
            "zerolinecolor": "white"
           }
          },
          "shapedefaults": {
           "line": {
            "color": "#2a3f5f"
           }
          },
          "ternary": {
           "aaxis": {
            "gridcolor": "white",
            "linecolor": "white",
            "ticks": ""
           },
           "baxis": {
            "gridcolor": "white",
            "linecolor": "white",
            "ticks": ""
           },
           "bgcolor": "#E5ECF6",
           "caxis": {
            "gridcolor": "white",
            "linecolor": "white",
            "ticks": ""
           }
          },
          "title": {
           "x": 0.05
          },
          "xaxis": {
           "automargin": true,
           "gridcolor": "white",
           "linecolor": "white",
           "ticks": "",
           "title": {
            "standoff": 15
           },
           "zerolinecolor": "white",
           "zerolinewidth": 2
          },
          "yaxis": {
           "automargin": true,
           "gridcolor": "white",
           "linecolor": "white",
           "ticks": "",
           "title": {
            "standoff": 15
           },
           "zerolinecolor": "white",
           "zerolinewidth": 2
          }
         }
        },
        "xaxis": {
         "anchor": "y",
         "autorange": true,
         "domain": [
          0,
          1
         ],
         "range": [
          -51.57381910155567,
          3848.137756987502
         ],
         "title": {
          "text": "timescale (ns)"
         },
         "type": "linear"
        },
        "yaxis": {
         "anchor": "x",
         "autorange": true,
         "domain": [
          0,
          1
         ],
         "range": [
          0.9222125333228237,
          4.690989951444543
         ],
         "title": {
          "text": "gap"
         },
         "type": "linear"
        }
       }
      },
      "image/png": "[encoded data removed]",
      "text/html": [
       "<div>                            <div id=\"ad8b1df6-1bd3-4073-8b7e-0587e5d1a058\" class=\"plotly-graph-div\" style=\"height:525px; width:100%;\"></div>            <script type=\"text/javascript\">                require([\"plotly\"], function(Plotly) {                    window.PLOTLYENV=window.PLOTLYENV || {};                                    if (document.getElementById(\"ad8b1df6-1bd3-4073-8b7e-0587e5d1a058\")) {                    Plotly.newPlot(                        \"ad8b1df6-1bd3-4073-8b7e-0587e5d1a058\",                        [{\"customdata\":[[28,\"logistic-distances\",12],[216,\"logistic-distances\",11],[182,\"linear-distances\",16],[195,\"logistic-distances\",19],[199,\"linear-distances\",11],[242,\"logistic-distances\",17],[206,\"logistic-distances\",8],[43,\"logistic-distances\",10],[269,\"logistic-distances\",18],[135,\"logistic-distances\",15],[121,\"logistic-distances\",2],[17,\"dihedrals\",20],[272,\"logistic-distances\",18],[32,\"dihedrals\",11],[19,\"logistic-distances\",19],[101,\"logistic-distances\",9],[73,\"linear-distances\",9],[15,\"dihedrals\",11],[44,\"linear-distances\",8],[104,\"logistic-distances\",16],[31,\"dihedrals\",15],[67,\"logistic-distances\",18],[111,\"logistic-distances\",12],[102,\"linear-distances\",6],[264,\"logistic-distances\",13],[106,\"logistic-distances\",3],[184,\"logistic-distances\",15],[262,\"logistic-distances\",18],[202,\"linear-distances\",6],[35,\"logistic-distances\",4],[175,\"logistic-distances\",20],[37,\"linear-distances\",20],[47,\"linear-distances\",18],[162,\"logistic-distances\",10],[4,\"dihedrals\",15],[197,\"logistic-distances\",15],[86,\"logistic-distances\",10],[321,\"logistic-distances\",8],[176,\"linear-distances\",4],[10,\"dihedrals\",5],[69,\"linear-distances\",11],[289,\"logistic-distances\",14],[208,\"logistic-distances\",6],[140,\"logistic-distances\",19],[30,\"linear-distances\",6],[328,\"logistic-distances\",5],[9,\"dihedrals\",13],[139,\"logistic-distances\",10],[144,\"logistic-distances\",6],[39,\"linear-distances\",3],[260,\"logistic-distances\",19],[91,\"logistic-distances\",13],[120,\"linear-distances\",10],[60,\"linear-distances\",11],[194,\"logistic-distances\",4],[145,\"linear-distances\",4],[42,\"linear-distances\",8],[55,\"logistic-distances\",13],[174,\"linear-distances\",1],[0,\"dihedrals\",19],[124,\"linear-distances\",4],[81,\"logistic-distances\",9],[118,\"linear-distances\",17],[13,\"dihedrals\",6],[85,\"linear-distances\",19],[40,\"dihedrals\",5],[170,\"logistic-distances\",13],[311,\"logistic-distances\",2],[171,\"logistic-distances\",13],[7,\"linear-distances\",16],[34,\"logistic-distances\",16],[133,\"linear-distances\",20],[23,\"linear-distances\",6],[123,\"logistic-distances\",20],[93,\"logistic-distances\",17],[5,\"linear-distances\",7],[183,\"logistic-distances\",8],[157,\"logistic-distances\",19],[78,\"logistic-distances\",1],[192,\"logistic-distances\",14],[227,\"logistic-distances\",3],[193,\"logistic-distances\",3],[150,\"linear-distances\",10],[21,\"logistic-distances\",5],[18,\"dihedrals\",14],[33,\"dihedrals\",17],[22,\"logistic-distances\",6],[235,\"logistic-distances\",19],[83,\"logistic-distances\",3],[74,\"linear-distances\",15],[20,\"dihedrals\",4],[131,\"linear-distances\",18],[186,\"linear-distances\",16],[72,\"linear-distances\",14],[241,\"logistic-distances\",13],[6,\"dihedrals\",13],[27,\"dihedrals\",2],[217,\"logistic-distances\",10],[254,\"logistic-distances\",18],[113,\"linear-distances\",1],[207,\"linear-distances\",9],[12,\"dihedrals\",10],[29,\"logistic-distances\",7],[89,\"linear-distances\",14],[167,\"linear-distances\",15],[198,\"logistic-distances\",4],[313,\"logistic-distances\",14],[129,\"linear-distances\",11],[57,\"linear-distances\",5],[112,\"linear-distances\",18],[16,\"logistic-distances\",15],[26,\"logistic-distances\",18],[8,\"dihedrals\",20],[68,\"linear-distances\",8],[278,\"logistic-distances\",2],[130,\"logistic-distances\",16],[228,\"logistic-distances\",16],[87,\"linear-distances\",12],[239,\"logistic-distances\",18],[24,\"logistic-distances\",20],[14,\"logistic-distances\",4],[230,\"logistic-distances\",4],[291,\"logistic-distances\",10],[2,\"logistic-distances\",18],[25,\"dihedrals\",4],[147,\"logistic-distances\",3],[54,\"linear-distances\",16],[1,\"logistic-distances\",4],[38,\"dihedrals\",8],[88,\"logistic-distances\",12],[11,\"linear-distances\",5],[295,\"logistic-distances\",16],[151,\"logistic-distances\",19],[36,\"dihedrals\",20],[117,\"logistic-distances\",8],[3,\"logistic-distances\",4]],\"hovertemplate\":\"timescale (ns)=%{x}<br>gap=%{y}<br>hp_ix=%{customdata[0]}<br>feature=%{customdata[1]}<br>tica__dim=%{customdata[2]}<extra></extra>\",\"legendgroup\":\"\",\"marker\":{\"color\":\"#636efa\",\"symbol\":\"circle\"},\"mode\":\"markers\",\"name\":\"\",\"orientation\":\"v\",\"showlegend\":false,\"type\":\"scatter\",\"x\":[1039.9594487046334,1657.5799682071963,1851.8819548734505,1074.5191604652546,1857.8340943003573,2025.4139582009893,1937.2272769951423,779.7517682232254,1019.6567470839038,980.7958876288901,1333.6321438888328,1160.3763110120804,2546.030189717208,615.1885010768948,1230.7240651940278,1830.283065305778,1803.4775664641354,673.3246771011088,1956.241451425658,2004.8799169283411,1055.5308796984098,306.3762876474946,778.7991522303967,1518.2407831832643,2190.0500978571927,1078.4270901389245,2120.989394874592,3264.146621180305,891.9333560290647,1107.3016982014383,3067.984639133519,2279.155441784832,1997.9187683036166,1044.2605340571429,748.8489759110419,777.5855374479842,1089.3676787485438,612.203182779529,1246.8417093406347,1032.1896741532719,1417.5455273485159,1972.4899857006458,1325.944140823594,1256.1228972938927,1515.3022255048295,277.699986876661,424.5487238039351,2154.0904718714237,1740.3966616561183,852.946294401009,2459.451313750488,1984.0924394148824,1161.012813039566,1972.6578723997425,1011.2221016107803,542.1779370491804,1110.287580210172,1334.528809988764,188.7208530431916,1058.2680280938441,485.2970734031336,1086.683222850229,1378.6477635863475,623.2270863453127,2835.7864972270318,612.2417182106979,2225.415783187267,242.76894372347272,695.4388643320492,1857.741637067807,2603.3992177052783,2270.8042367988314,852.2921568341922,1164.4015350602936,2068.808539209732,1321.289194154051,1108.5332164537688,2897.1669115742325,163.80774074938813,866.9756281203172,970.3324730299762,1264.7849234569535,1111.1203970988977,1668.1522092652162,661.4386721332548,1115.1788850165485,746.5476688280914,3632.7561971365585,974.2220092859503,2573.105333948276,659.8406674770944,2568.100960084207,1460.745708333259,2118.5037407166856,2989.677722930079,1452.6647854648909,502.74337918678543,1711.8899817093147,1665.9331285543237,186.59450759558717,1367.1033569936794,1185.1342598978788,1251.4048726254657,1973.6970606911118,2428.549124069463,1626.5194336336158,1823.2643692697266,986.8619543998678,1229.1206823354573,1081.2382151509587,2593.0885244541523,1929.7580550534315,1137.995221814721,1482.4808999824704,719.8397258138621,1377.1442079850517,1996.4011701275072,1305.6692559863175,1074.0612202793495,3575.0694060329224,1293.8140876740756,1790.2633889487329,2403.2512342054765,490.4900797043221,878.2646451577757,2037.7097597057561,2198.1410596425867,1309.9792018844196,692.0786838293955,2270.229737746963,1335.9365626432832,1481.1632869403356,2164.5146530023844,1107.484544215351,923.4020824210148,1172.2557300635972],\"xaxis\":\"x\",\"y\":[1.2150832077679767,1.2729854261369389,1.245343315217882,1.2632225159857686,1.2421713925244955,1.2090570279350246,1.2194854420127128,1.2482263382140162,1.2634164934789125,1.2189687584449747,4.438310556365927,1.340212321262595,1.2119330356368727,1.2970213357614848,1.2094584135190316,1.2046341547915502,1.2424024892292687,1.400371026578799,1.3159916903448963,1.2729454094131607,1.373741387961989,1.174891928401439,1.1926432925417763,1.3660855491828066,1.2555646409496672,1.6018790310639077,1.2848629786528907,1.3181629694880919,1.477766442478811,1.3769208009509757,1.2300778725388897,1.2878000720144216,1.2879531378011007,1.3327263648133734,1.2867549302687327,1.4205766003669305,1.2464708908117728,1.3099039454303132,1.6473514004981777,1.5597582977947841,1.2647643844103689,1.2170464357448425,1.291686951230992,1.2484477863176948,1.4005087782321235,1.3909416501359222,1.2719270007081445,1.2485713198782413,1.3731969380899562,1.7403407165536824,1.2289470904371755,1.2318421999005122,1.2380642616522244,1.3377313349748445,1.436530180479274,1.381643575383479,1.2313632272165314,1.1983368792571283,2.3013201076386425,1.3968375451609116,1.2467074740126973,1.271246705248862,1.2444471200383658,1.475428207607209,1.2614615060222953,1.3038194793995244,1.219167961252651,1.6804725630480353,1.3480443274605554,1.2705328783659124,1.2738013444817162,1.287354416237429,1.422716517406403,1.205310792731157,1.278518769813544,1.4141100061488001,1.252287494455417,1.2762780702578782,2.2462473218465044,1.1805668177305644,1.7466822671014006,1.466767702969998,1.264430412053819,1.3055215490467478,1.3115098351783585,1.3609316080759397,1.3925086158689073,1.2846746836745147,1.7261834686949062,1.2643927712691427,1.3936178384504374,1.2830729849287974,1.3120972470086472,1.2306313264292608,1.2936567461057913,1.326418450326592,2.4746191325762874,1.2415703200908381,1.1877014290813137,2.1622717844020283,1.2593199508288202,1.3860305371587547,1.2565401563991982,1.254465936285357,1.2397619749201665,1.3305643430262029,1.2606272729051287,1.3140633358712326,1.6024657263976076,1.2496772823192361,1.2692188467523888,1.1842994047607664,1.365838599135342,1.2766742856502882,2.9906161559984197,1.1877764451682453,1.2347898662877692,1.3055708606144725,1.2866414626536977,1.3965073819259288,1.2685063769346498,1.4150319558411355,1.2477721867698062,1.2643434459065817,1.5784943167338579,1.7406930993137069,1.2522740485851422,1.6315221579879784,1.360447174782092,1.2106956868138528,1.5133721418259816,1.1970720385861846,1.2076128727205275,1.2441132394683938,1.4254172335405648,1.2355668800724597],\"yaxis\":\"y\"}],                        {\"legend\":{\"tracegroupgap\":0},\"margin\":{\"t\":60},\"template\":{\"data\":{\"bar\":[{\"error_x\":{\"color\":\"#2a3f5f\"},\"error_y\":{\"color\":\"#2a3f5f\"},\"marker\":{\"line\":{\"color\":\"#E5ECF6\",\"width\":0.5},\"pattern\":{\"fillmode\":\"overlay\",\"size\":10,\"solidity\":0.2}},\"type\":\"bar\"}],\"barpolar\":[{\"marker\":{\"line\":{\"color\":\"#E5ECF6\",\"width\":0.5},\"pattern\":{\"fillmode\":\"overlay\",\"size\":10,\"solidity\":0.2}},\"type\":\"barpolar\"}],\"carpet\":[{\"aaxis\":{\"endlinecolor\":\"#2a3f5f\",\"gridcolor\":\"white\",\"linecolor\":\"white\",\"minorgridcolor\":\"white\",\"startlinecolor\":\"#2a3f5f\"},\"baxis\":{\"endlinecolor\":\"#2a3f5f\",\"gridcolor\":\"white\",\"linecolor\":\"white\",\"minorgridcolor\":\"white\",\"startlinecolor\":\"#2a3f5f\"},\"type\":\"carpet\"}],\"choropleth\":[{\"colorbar\":{\"outlinewidth\":0,\"ticks\":\"\"},\"type\":\"choropleth\"}],\"contour\":[{\"colorbar\":{\"outlinewidth\":0,\"ticks\":\"\"},\"colorscale\":[[0.0,\"#0d0887\"],[0.1111111111111111,\"#46039f\"],[0.2222222222222222,\"#7201a8\"],[0.3333333333333333,\"#9c179e\"],[0.4444444444444444,\"#bd3786\"],[0.5555555555555556,\"#d8576b\"],[0.6666666666666666,\"#ed7953\"],[0.7777777777777778,\"#fb9f3a\"],[0.8888888888888888,\"#fdca26\"],[1.0,\"#f0f921\"]],\"type\":\"contour\"}],\"contourcarpet\":[{\"colorbar\":{\"outlinewidth\":0,\"ticks\":\"\"},\"type\":\"contourcarpet\"}],\"heatmap\":[{\"colorbar\":{\"outlinewidth\":0,\"ticks\":\"\"},\"colorscale\":[[0.0,\"#0d0887\"],[0.1111111111111111,\"#46039f\"],[0.2222222222222222,\"#7201a8\"],[0.3333333333333333,\"#9c179e\"],[0.4444444444444444,\"#bd3786\"],[0.5555555555555556,\"#d8576b\"],[0.6666666666666666,\"#ed7953\"],[0.7777777777777778,\"#fb9f3a\"],[0.8888888888888888,\"#fdca26\"],[1.0,\"#f0f921\"]],\"type\":\"heatmap\"}],\"heatmapgl\":[{\"colorbar\":{\"outlinewidth\":0,\"ticks\":\"\"},\"colorscale\":[[0.0,\"#0d0887\"],[0.1111111111111111,\"#46039f\"],[0.2222222222222222,\"#7201a8\"],[0.3333333333333333,\"#9c179e\"],[0.4444444444444444,\"#bd3786\"],[0.5555555555555556,\"#d8576b\"],[0.6666666666666666,\"#ed7953\"],[0.7777777777777778,\"#fb9f3a\"],[0.8888888888888888,\"#fdca26\"],[1.0,\"#f0f921\"]],\"type\":\"heatmapgl\"}],\"histogram\":[{\"marker\":{\"pattern\":{\"fillmode\":\"overlay\",\"size\":10,\"solidity\":0.2}},\"type\":\"histogram\"}],\"histogram2d\":[{\"colorbar\":{\"outlinewidth\":0,\"ticks\":\"\"},\"colorscale\":[[0.0,\"#0d0887\"],[0.1111111111111111,\"#46039f\"],[0.2222222222222222,\"#7201a8\"],[0.3333333333333333,\"#9c179e\"],[0.4444444444444444,\"#bd3786\"],[0.5555555555555556,\"#d8576b\"],[0.6666666666666666,\"#ed7953\"],[0.7777777777777778,\"#fb9f3a\"],[0.8888888888888888,\"#fdca26\"],[1.0,\"#f0f921\"]],\"type\":\"histogram2d\"}],\"histogram2dcontour\":[{\"colorbar\":{\"outlinewidth\":0,\"ticks\":\"\"},\"colorscale\":[[0.0,\"#0d0887\"],[0.1111111111111111,\"#46039f\"],[0.2222222222222222,\"#7201a8\"],[0.3333333333333333,\"#9c179e\"],[0.4444444444444444,\"#bd3786\"],[0.5555555555555556,\"#d8576b\"],[0.6666666666666666,\"#ed7953\"],[0.7777777777777778,\"#fb9f3a\"],[0.8888888888888888,\"#fdca26\"],[1.0,\"#f0f921\"]],\"type\":\"histogram2dcontour\"}],\"mesh3d\":[{\"colorbar\":{\"outlinewidth\":0,\"ticks\":\"\"},\"type\":\"mesh3d\"}],\"parcoords\":[{\"line\":{\"colorbar\":{\"outlinewidth\":0,\"ticks\":\"\"}},\"type\":\"parcoords\"}],\"pie\":[{\"automargin\":true,\"type\":\"pie\"}],\"scatter\":[{\"marker\":{\"colorbar\":{\"outlinewidth\":0,\"ticks\":\"\"}},\"type\":\"scatter\"}],\"scatter3d\":[{\"line\":{\"colorbar\":{\"outlinewidth\":0,\"ticks\":\"\"}},\"marker\":{\"colorbar\":{\"outlinewidth\":0,\"ticks\":\"\"}},\"type\":\"scatter3d\"}],\"scattercarpet\":[{\"marker\":{\"colorbar\":{\"outlinewidth\":0,\"ticks\":\"\"}},\"type\":\"scattercarpet\"}],\"scattergeo\":[{\"marker\":{\"colorbar\":{\"outlinewidth\":0,\"ticks\":\"\"}},\"type\":\"scattergeo\"}],\"scattergl\":[{\"marker\":{\"colorbar\":{\"outlinewidth\":0,\"ticks\":\"\"}},\"type\":\"scattergl\"}],\"scattermapbox\":[{\"marker\":{\"colorbar\":{\"outlinewidth\":0,\"ticks\":\"\"}},\"type\":\"scattermapbox\"}],\"scatterpolar\":[{\"marker\":{\"colorbar\":{\"outlinewidth\":0,\"ticks\":\"\"}},\"type\":\"scatterpolar\"}],\"scatterpolargl\":[{\"marker\":{\"colorbar\":{\"outlinewidth\":0,\"ticks\":\"\"}},\"type\":\"scatterpolargl\"}],\"scatterternary\":[{\"marker\":{\"colorbar\":{\"outlinewidth\":0,\"ticks\":\"\"}},\"type\":\"scatterternary\"}],\"surface\":[{\"colorbar\":{\"outlinewidth\":0,\"ticks\":\"\"},\"colorscale\":[[0.0,\"#0d0887\"],[0.1111111111111111,\"#46039f\"],[0.2222222222222222,\"#7201a8\"],[0.3333333333333333,\"#9c179e\"],[0.4444444444444444,\"#bd3786\"],[0.5555555555555556,\"#d8576b\"],[0.6666666666666666,\"#ed7953\"],[0.7777777777777778,\"#fb9f3a\"],[0.8888888888888888,\"#fdca26\"],[1.0,\"#f0f921\"]],\"type\":\"surface\"}],\"table\":[{\"cells\":{\"fill\":{\"color\":\"#EBF0F8\"},\"line\":{\"color\":\"white\"}},\"header\":{\"fill\":{\"color\":\"#C8D4E3\"},\"line\":{\"color\":\"white\"}},\"type\":\"table\"}]},\"layout\":{\"annotationdefaults\":{\"arrowcolor\":\"#2a3f5f\",\"arrowhead\":0,\"arrowwidth\":1},\"autotypenumbers\":\"strict\",\"coloraxis\":{\"colorbar\":{\"outlinewidth\":0,\"ticks\":\"\"}},\"colorscale\":{\"diverging\":[[0,\"#8e0152\"],[0.1,\"#c51b7d\"],[0.2,\"#de77ae\"],[0.3,\"#f1b6da\"],[0.4,\"#fde0ef\"],[0.5,\"#f7f7f7\"],[0.6,\"#e6f5d0\"],[0.7,\"#b8e186\"],[0.8,\"#7fbc41\"],[0.9,\"#4d9221\"],[1,\"#276419\"]],\"sequential\":[[0.0,\"#0d0887\"],[0.1111111111111111,\"#46039f\"],[0.2222222222222222,\"#7201a8\"],[0.3333333333333333,\"#9c179e\"],[0.4444444444444444,\"#bd3786\"],[0.5555555555555556,\"#d8576b\"],[0.6666666666666666,\"#ed7953\"],[0.7777777777777778,\"#fb9f3a\"],[0.8888888888888888,\"#fdca26\"],[1.0,\"#f0f921\"]],\"sequentialminus\":[[0.0,\"#0d0887\"],[0.1111111111111111,\"#46039f\"],[0.2222222222222222,\"#7201a8\"],[0.3333333333333333,\"#9c179e\"],[0.4444444444444444,\"#bd3786\"],[0.5555555555555556,\"#d8576b\"],[0.6666666666666666,\"#ed7953\"],[0.7777777777777778,\"#fb9f3a\"],[0.8888888888888888,\"#fdca26\"],[1.0,\"#f0f921\"]]},\"colorway\":[\"#636efa\",\"#EF553B\",\"#00cc96\",\"#ab63fa\",\"#FFA15A\",\"#19d3f3\",\"#FF6692\",\"#B6E880\",\"#FF97FF\",\"#FECB52\"],\"font\":{\"color\":\"#2a3f5f\"},\"geo\":{\"bgcolor\":\"white\",\"lakecolor\":\"white\",\"landcolor\":\"#E5ECF6\",\"showlakes\":true,\"showland\":true,\"subunitcolor\":\"white\"},\"hoverlabel\":{\"align\":\"left\"},\"hovermode\":\"closest\",\"mapbox\":{\"style\":\"light\"},\"paper_bgcolor\":\"white\",\"plot_bgcolor\":\"#E5ECF6\",\"polar\":{\"angularaxis\":{\"gridcolor\":\"white\",\"linecolor\":\"white\",\"ticks\":\"\"},\"bgcolor\":\"#E5ECF6\",\"radialaxis\":{\"gridcolor\":\"white\",\"linecolor\":\"white\",\"ticks\":\"\"}},\"scene\":{\"xaxis\":{\"backgroundcolor\":\"#E5ECF6\",\"gridcolor\":\"white\",\"gridwidth\":2,\"linecolor\":\"white\",\"showbackground\":true,\"ticks\":\"\",\"zerolinecolor\":\"white\"},\"yaxis\":{\"backgroundcolor\":\"#E5ECF6\",\"gridcolor\":\"white\",\"gridwidth\":2,\"linecolor\":\"white\",\"showbackground\":true,\"ticks\":\"\",\"zerolinecolor\":\"white\"},\"zaxis\":{\"backgroundcolor\":\"#E5ECF6\",\"gridcolor\":\"white\",\"gridwidth\":2,\"linecolor\":\"white\",\"showbackground\":true,\"ticks\":\"\",\"zerolinecolor\":\"white\"}},\"shapedefaults\":{\"line\":{\"color\":\"#2a3f5f\"}},\"ternary\":{\"aaxis\":{\"gridcolor\":\"white\",\"linecolor\":\"white\",\"ticks\":\"\"},\"baxis\":{\"gridcolor\":\"white\",\"linecolor\":\"white\",\"ticks\":\"\"},\"bgcolor\":\"#E5ECF6\",\"caxis\":{\"gridcolor\":\"white\",\"linecolor\":\"white\",\"ticks\":\"\"}},\"title\":{\"x\":0.05},\"xaxis\":{\"automargin\":true,\"gridcolor\":\"white\",\"linecolor\":\"white\",\"ticks\":\"\",\"title\":{\"standoff\":15},\"zerolinecolor\":\"white\",\"zerolinewidth\":2},\"yaxis\":{\"automargin\":true,\"gridcolor\":\"white\",\"linecolor\":\"white\",\"ticks\":\"\",\"title\":{\"standoff\":15},\"zerolinecolor\":\"white\",\"zerolinewidth\":2}}},\"xaxis\":{\"anchor\":\"y\",\"domain\":[0.0,1.0],\"title\":{\"text\":\"timescale (ns)\"}},\"yaxis\":{\"anchor\":\"x\",\"domain\":[0.0,1.0],\"title\":{\"text\":\"gap\"}}},                        {\"responsive\": true}                    ).then(function(){\n",
       "                            \n",
       "var gd = document.getElementById('ad8b1df6-1bd3-4073-8b7e-0587e5d1a058');\n",
       "var x = new MutationObserver(function (mutations, observer) {{\n",
       "        var display = window.getComputedStyle(gd).display;\n",
       "        if (!display || display === 'none') {{\n",
       "            console.log([gd, 'removed!']);\n",
       "            Plotly.purge(gd);\n",
       "            observer.disconnect();\n",
       "        }}\n",
       "}});\n",
       "\n",
       "// Listen for the removal of the full notebook cells\n",
       "var notebookContainer = gd.closest('#notebook-container');\n",
       "if (notebookContainer) {{\n",
       "    x.observe(notebookContainer, {childList: true});\n",
       "}}\n",
       "\n",
       "// Listen for the clearing of the current output cell\n",
       "var outputEl = gd.closest('.output');\n",
       "if (outputEl) {{\n",
       "    x.observe(outputEl, {childList: true});\n",
       "}}\n",
       "\n",
       "                        })                };                });            </script>        </div>"
      ]
     },
     "metadata": {},
     "output_type": "display_data"
    }
   ],
   "source": [
    "data=timescales.query(\"process==3\").query('lag==41').query('hp_ix < 329')\n",
    "\n",
    "# df = px.data.iris() # iris is a pandas DataFrame\n",
    "fig = px.scatter(data, x=\"median_x\", y=\"median_y\", hover_data=['hp_ix', 'feature', 'tica__dim'], \n",
    "                labels={\n",
    "                     \"median_x\": \"timescale (ns)\",\n",
    "                     \"median_y\": \"gap\",\n",
    "                 })\n",
    "fig.show()"
   ]
  },
  {
   "cell_type": "code",
   "execution_count": null,
   "id": "c5f9cf8f-6c29-45e0-b0d2-d3942d03c595",
   "metadata": {},
   "outputs": [],
   "source": []
  }
 ],
 "metadata": {
  "kernelspec": {
   "display_name": "Python 3 (ipykernel)",
   "language": "python",
   "name": "python3"
  },
  "language_info": {
   "codemirror_mode": {
    "name": "ipython",
    "version": 3
   },
   "file_extension": ".py",
   "mimetype": "text/x-python",
   "name": "python",
   "nbconvert_exporter": "python",
   "pygments_lexer": "ipython3",
   "version": "3.8.0"
  }
 },
 "nbformat": 4,
 "nbformat_minor": 5
}
