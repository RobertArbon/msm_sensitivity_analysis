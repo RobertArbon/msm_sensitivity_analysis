{
 "cells": [
  {
   "cell_type": "code",
   "execution_count": 1,
   "id": "2b7c64bf-9c3d-46f4-aa4d-d1e78ea7d8f6",
   "metadata": {},
   "outputs": [],
   "source": [
    "import matplotlib.pyplot as plt\n",
    "import pandas as pd\n",
    "import numpy as np\n",
    "import seaborn as sns\n",
    "import matplotlib as mpl\n",
    "from typing import *"
   ]
  },
  {
   "cell_type": "code",
   "execution_count": 40,
   "id": "af69e2b3-38bc-48c8-b9b6-c1df7260de52",
   "metadata": {},
   "outputs": [],
   "source": [
    "protein='1fme'\n",
    "\n",
    "raw_path = f'{protein}/raw.h5'\n",
    "summary_path = f'{protein}/summary.h5'\n",
    "timescales = pd.DataFrame(pd.read_hdf(raw_path, key='timescales'))\n",
    "\n",
    "timescales.reset_index(inplace=True)\n",
    "timescales.rename(mapper={0: 'value'}, axis=1, inplace=True)"
   ]
  },
  {
   "cell_type": "code",
   "execution_count": 41,
   "id": "47453cb6-59fa-4757-9f3b-d2e233da4108",
   "metadata": {},
   "outputs": [],
   "source": [
    "def ev(row): \n",
    "    tau = row['lag']\n",
    "    x = row['value']\n",
    "    return np.exp(-tau/x)"
   ]
  },
  {
   "cell_type": "code",
   "execution_count": 42,
   "id": "bdd37540-0cf5-40ba-a1aa-7749ff6c157d",
   "metadata": {},
   "outputs": [],
   "source": [
    "eigenvalues = timescales.copy(deep=True)\n",
    "eigenvalues['value'] = timescales.apply(lambda x: ev(x), axis=1)"
   ]
  },
  {
   "cell_type": "code",
   "execution_count": 48,
   "id": "58fe8839-93f8-4dbd-a4b9-6658cb1370f3",
   "metadata": {},
   "outputs": [],
   "source": [
    "ev_summary = eigenvalues.groupby(['hp_ix', 'lag', 'process'])['value'].agg(\n",
    "            median=lambda x: np.nanquantile(x, 0.5),\n",
    "            lb=lambda x: np.nanquantile(x, 0.025),\n",
    "            ub=lambda x: np.nanquantile(x, 0.975),\n",
    "            count=lambda x: x.shape[0]-x.isna().sum()\n",
    ")\n",
    "ev_summary.reset_index(inplace=True)"
   ]
  },
  {
   "cell_type": "code",
   "execution_count": 49,
   "id": "e1ab2a9a-3bc8-464a-a999-493884dcda5b",
   "metadata": {},
   "outputs": [],
   "source": [
    "ev_summary.to_hdf(summary_path, key='eigenvalues')"
   ]
  },
  {
   "cell_type": "code",
   "execution_count": 67,
   "id": "6b730362-0af9-48d4-bed3-b83b0ebf48db",
   "metadata": {},
   "outputs": [],
   "source": [
    "vamp_eqs = eigenvalues.copy(deep=True)\n",
    "vamp_eqs['value'] = vamp_eqs['value']**2\n",
    "vamp_eqs.head()\n",
    "vamp_eqs.sort_values(by=['hp_ix', 'bs_ix', 'lag', 'process'], inplace=True)\n",
    "vamp_eqs['value2'] = vamp_eqs.groupby(['hp_ix', 'bs_ix', 'lag'])['value'].cumsum() \n",
    "vamp_eqs['score'] = 1 + vamp_eqs['value2']"
   ]
  },
  {
   "cell_type": "code",
   "execution_count": 69,
   "id": "07c442e3-0dff-4bf0-9076-0944a15da65d",
   "metadata": {},
   "outputs": [],
   "source": [
    "vamp_eq_summary = vamp_eqs.groupby(['hp_ix', 'lag', 'process'])['score'].agg(\n",
    "            median=lambda x: np.nanquantile(x, 0.5),\n",
    "            lb=lambda x: np.nanquantile(x, 0.025),\n",
    "            ub=lambda x: np.nanquantile(x, 0.975),\n",
    "            count=lambda x: x.shape[0]-x.isna().sum()\n",
    ")\n",
    "vamp_eq_summary.reset_index(inplace=True)"
   ]
  },
  {
   "cell_type": "code",
   "execution_count": 71,
   "id": "d3179604-41d3-4441-b0a7-ca6885b41c0b",
   "metadata": {},
   "outputs": [],
   "source": [
    "vamp_eq_summary.to_hdf(summary_path, key='vamp_eqs')"
   ]
  },
  {
   "cell_type": "code",
   "execution_count": null,
   "id": "564c0553-54fb-46e0-bc18-f9373eb5b465",
   "metadata": {},
   "outputs": [],
   "source": []
  }
 ],
 "metadata": {
  "kernelspec": {
   "display_name": "Python 3 (ipykernel)",
   "language": "python",
   "name": "python3"
  },
  "language_info": {
   "codemirror_mode": {
    "name": "ipython",
    "version": 3
   },
   "file_extension": ".py",
   "mimetype": "text/x-python",
   "name": "python",
   "nbconvert_exporter": "python",
   "pygments_lexer": "ipython3",
   "version": "3.9.0"
  }
 },
 "nbformat": 4,
 "nbformat_minor": 5
}
