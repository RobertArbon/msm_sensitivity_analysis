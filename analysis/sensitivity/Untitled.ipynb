{
 "cells": [
  {
   "cell_type": "code",
   "execution_count": 1,
   "id": "8b79deb8-db17-4601-90da-ae8e876845a6",
   "metadata": {},
   "outputs": [],
   "source": [
    "import numpy as np\n",
    "import matplotlib.pyplot as plt"
   ]
  },
  {
   "cell_type": "code",
   "execution_count": 3,
   "id": "d8dc462b-f5bc-4172-aa2e-6bd5bc832adb",
   "metadata": {},
   "outputs": [],
   "source": [
    "xx, yy = np.meshgrid(np.linspace(10, 100000, 1000), np.linspace(10, 100000, 1000))"
   ]
  },
  {
   "cell_type": "code",
   "execution_count": 19,
   "id": "0cd34ba2-9b1a-4ee7-9e53-a1650c2b7334",
   "metadata": {},
   "outputs": [],
   "source": [
    "tau = 10000\n",
    "zz = np.exp(-tau/xx)**2 + np.exp(-tau/yy)**2 + 1\n"
   ]
  },
  {
   "cell_type": "code",
   "execution_count": 20,
   "id": "91095147-b681-4261-8eb5-7c6a0f087a22",
   "metadata": {},
   "outputs": [
    {
     "data": {
      "text/plain": [
       "array([[1.        , 1.        , 1.        , ..., 1.81840237, 1.81856671,\n",
       "        1.81873075],\n",
       "       [1.        , 1.        , 1.        , ..., 1.81840237, 1.81856671,\n",
       "        1.81873075],\n",
       "       [1.        , 1.        , 1.        , ..., 1.81840237, 1.81856671,\n",
       "        1.81873075],\n",
       "       ...,\n",
       "       [1.81840237, 1.81840237, 1.81840237, ..., 2.63680475, 2.63696909,\n",
       "        2.63713313],\n",
       "       [1.81856671, 1.81856671, 1.81856671, ..., 2.63696909, 2.63713342,\n",
       "        2.63729746],\n",
       "       [1.81873075, 1.81873075, 1.81873075, ..., 2.63713313, 2.63729746,\n",
       "        2.63746151]])"
      ]
     },
     "execution_count": 20,
     "metadata": {},
     "output_type": "execute_result"
    }
   ],
   "source": [
    "zz"
   ]
  },
  {
   "cell_type": "code",
   "execution_count": 23,
   "id": "bd71be32-5101-496e-8535-78f83a2f8a22",
   "metadata": {},
   "outputs": [
    {
     "data": {
      "text/plain": [
       "<matplotlib.contour.QuadContourSet at 0x7fd212959460>"
      ]
     },
     "execution_count": 23,
     "metadata": {},
     "output_type": "execute_result"
    },
    {
     "data": {
      "image/png": "[encoded data removed]",
      "text/plain": [
       "<Figure size 432x288 with 1 Axes>"
      ]
     },
     "metadata": {
      "needs_background": "light"
     },
     "output_type": "display_data"
    }
   ],
   "source": [
    "plt.contourf(xx, yy, zz*(xx>yy))"
   ]
  },
  {
   "cell_type": "code",
   "execution_count": 24,
   "id": "26a57435-735a-4aa6-abcb-60b244633552",
   "metadata": {},
   "outputs": [
    {
     "data": {
      "text/plain": [
       "<matplotlib.contour.QuadContourSet at 0x7fd1f22eba90>"
      ]
     },
     "execution_count": 24,
     "metadata": {},
     "output_type": "execute_result"
    },
    {
     "data": {
      "image/png": "[encoded data removed]",
      "text/plain": [
       "<Figure size 432x288 with 1 Axes>"
      ]
     },
     "metadata": {
      "needs_background": "light"
     },
     "output_type": "display_data"
    }
   ],
   "source": [
    "plt.contourf(xx, yy, (xx+yy)*(xx>yy))"
   ]
  },
  {
   "cell_type": "code",
   "execution_count": null,
   "id": "9b50f29e-b681-48d4-bc33-08ba7e3b81e4",
   "metadata": {},
   "outputs": [],
   "source": []
  }
 ],
 "metadata": {
  "kernelspec": {
   "display_name": "Python 3 (ipykernel)",
   "language": "python",
   "name": "python3"
  },
  "language_info": {
   "codemirror_mode": {
    "name": "ipython",
    "version": 3
   },
   "file_extension": ".py",
   "mimetype": "text/x-python",
   "name": "python",
   "nbconvert_exporter": "python",
   "pygments_lexer": "ipython3",
   "version": "3.9.0"
  }
 },
 "nbformat": 4,
 "nbformat_minor": 5
}
