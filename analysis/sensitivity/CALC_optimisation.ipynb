{
 "cells": [
  {
   "cell_type": "code",
   "execution_count": 2,
   "id": "8a3a5c0e-8354-4b34-a744-fe8b45f322f1",
   "metadata": {},
   "outputs": [],
   "source": [
    "import arviz as az\n",
    "import pymc as pm\n",
    "# import arviz.labels as azl\n",
    "\n",
    "import matplotlib.pyplot as plt\n",
    "import seaborn as sns\n",
    "from pathlib import Path\n",
    "import pickle\n",
    "import matplotlib as mpl\n",
    "import warnings\n",
    "import numpy as np\n",
    "warnings.simplefilter(action='ignore', category=FutureWarning)\n",
    "import pandas as pd\n",
    "from scipy.stats import norm\n",
    "from scipy.optimize import minimize"
   ]
  },
  {
   "cell_type": "markdown",
   "id": "7630220e-f72e-4b98-9e47-bbe58cea9086",
   "metadata": {},
   "source": [
    "## Reestimate model because of pickle problems"
   ]
  },
  {
   "cell_type": "code",
   "execution_count": 3,
   "id": "1239c466-4c24-4cac-9d7a-d659bf154b10",
   "metadata": {},
   "outputs": [],
   "source": [
    "def gamma(alpha, beta):\n",
    "    def g(x):\n",
    "        return pm.Gamma(x, alpha=alpha, beta=beta)\n",
    "    return g\n",
    "\n",
    "def hcauchy(beta):\n",
    "    def g(x):\n",
    "        return pm.HalfCauchy(x, beta=beta)\n",
    "    return g\n",
    "\n",
    "\n",
    "def fit_gp(y, X, l_prior, eta_prior, sigma_prior, kernel_type='M52', bayes_kws=dict(draws=1000, tune=1000, chains=2, cores=1), prop_Xu=None):\n",
    "    \"\"\"\n",
    "    function to return a pymc3 model\n",
    "    y : dependent variable\n",
    "    X : independent variables\n",
    "    prop_Xu : number of inducing varibles to use. If None, use full marginal likelihood. If not none, use FTIC. \n",
    "    bayes_kw : kws for pm.sample\n",
    "    X, y are dataframes. We'll use the column names. \n",
    "    \"\"\"\n",
    "    kernel_type = kernel_type.lower()\n",
    "    with pm.Model() as model:\n",
    "        # Covert arrays\n",
    "        X_a = X.values\n",
    "        y_a = y.values.flatten()\n",
    "        X_cols = list(X.columns)\n",
    "\n",
    "        \n",
    "        # Kernels\n",
    "        # 3 way interaction\n",
    "        eta = eta_prior('eta')\n",
    "        cov = eta**2\n",
    "        for i in range(X_a.shape[1]):\n",
    "            var_lab = 'l_'+X_cols[i]\n",
    "            if kernel_type=='rbf':\n",
    "                cov = cov*pm.gp.cov.ExpQuad(X_a.shape[1], ls=l_prior(var_lab), active_dims=[i])\n",
    "            if kernel_type=='exponential':\n",
    "                cov = cov*pm.gp.cov.Exponential(X_a.shape[1], ls=l_prior(var_lab), active_dims=[i])\n",
    "            if kernel_type=='m52':\n",
    "                cov = cov*pm.gp.cov.Matern52(X_a.shape[1], ls=l_prior(var_lab), active_dims=[i])\n",
    "            if kernel_type=='m32':\n",
    "                cov = cov*pm.gp.cov.Matern32(X_a.shape[1], ls=l_prior(var_lab), active_dims=[i])\n",
    "\n",
    "        # Covariance model\n",
    "        cov_tot = cov \n",
    "        \n",
    "        # Noise model\n",
    "        sigma_n =sigma_prior('sigma_n')\n",
    "\n",
    "        # Model\n",
    "        if not (prop_Xu is None):\n",
    "            # Inducing variables\n",
    "            num_Xu = int(X_a.shape[0]*prop_Xu)\n",
    "            Xu = pm.gp.util.kmeans_inducing_points(num_Xu, X_a)\n",
    "            gp = pm.gp.MarginalSparse(cov_func=cov_tot, approx=\"FITC\")\n",
    "            y_ = gp.marginal_likelihood('y_', X=X_a, y=y_a, Xu=Xu, noise=sigma_n)\n",
    "        else:\n",
    "            gp = pm.gp.Marginal(cov_func=cov_tot)\n",
    "            y_ = gp.marginal_likelihood('y_', X=X_a, y=y_a, noise=sigma_n)\n",
    "            \n",
    "        \n",
    "        if not (bayes_kws is None):\n",
    "            trace = pm.sample(**bayes_kws)\n",
    "            result = trace\n",
    "        else:\n",
    "            mp = pm.find_MAP(progressbar=False)\n",
    "            result = mp\n",
    "    \n",
    "    return gp, result, model\n",
    "\n",
    "def bootstrap(n_samples,y, X, seed=42, **kwargs):\n",
    "    rng = np.random.default_rng(seed)\n",
    "    all_params = []\n",
    "    all_preds = []\n",
    "    i = 0\n",
    "    while i < n_samples:\n",
    "        print(' ', i, end=', ')\n",
    "        ix = np.array(y.index)\n",
    "        bs_ix = rng.choice(ix, size=len(ix), replace=True)\n",
    "        new_y, new_X = y.loc[bs_ix, :], X.loc[bs_ix, :]\n",
    "        try: \n",
    "            gp, mp, model = fit_gp(new_y, new_X, **kwargs)\n",
    "            all_params.append(mp)\n",
    "            with model:\n",
    "                y_pred, var = gp.predict(new_X.values, point=mp, diag=True)\n",
    "                all_preds.append((new_y, y_pred, var))\n",
    "            i += 1\n",
    "            \n",
    "        except: \n",
    "            print('error')\n",
    "\n",
    "    print()\n",
    "\n",
    "    return all_params, all_preds\n",
    "\n",
    "\n",
    "def acquisition(x, gp, model, mp, mu_best): \n",
    "    x[0] = np.round(x[0], decimals=0)\n",
    "    x = x.reshape(1, -1)\n",
    "\n",
    "    y, var = gp.predict(x, pred_noise=True, diag=True, model=model, point=mp)\n",
    "    \n",
    "    sigma = np.sqrt(var)\n",
    "    \n",
    "    del_mu = (y-mu_best)\n",
    "    \n",
    "    z = del_mu/sigma\n",
    "    \n",
    "    ei = max(0, norm.cdf(z) + sigma*norm.pdf(z))\n",
    "    return -1*ei\n",
    "\n",
    "\n",
    "def exp_imp(y, var, mu_best): \n",
    "    sigma = np.sqrt(var)\n",
    "    \n",
    "    del_mu = (y-mu_best)\n",
    "    \n",
    "    z = del_mu/sigma\n",
    "    \n",
    "    ei = np.maximum(0, norm.cdf(z) + sigma*norm.pdf(z))\n",
    "    return ei\n",
    "        "
   ]
  },
  {
   "cell_type": "markdown",
   "id": "3d609c3d-d66b-468e-a06c-8d2eee1cf022",
   "metadata": {},
   "source": [
    "Calculate expected improvement at observed points"
   ]
  },
  {
   "cell_type": "code",
   "execution_count": 5,
   "id": "40fc8308-2498-4098-ae81-8a944f3c893d",
   "metadata": {
    "tags": []
   },
   "outputs": [],
   "source": [
    "root_path = '../1fme/sensitivity/vamp2_eq'\n",
    "\n",
    "l_prior = gamma(2, 0.5)\n",
    "eta_prior = hcauchy(2)\n",
    "sigma_prior = hcauchy(2)\n",
    "\n",
    "feat, trans, kernel = 'distances', 'logistic', 'exponential'\n",
    "\n",
    "results_path = Path(root_path).joinpath(f\"{feat}_{trans}_{kernel}_mml.pkl\")\n",
    "\n",
    "results = pickle.load(results_path.open('rb'))\n",
    "data_s = results['data']\n",
    "y, X = data_s.iloc[:, [0]], data_s.iloc[:, 1:]\n",
    "\n",
    "gp, mp, model = fit_gp(y, X, l_prior=l_prior, eta_prior=eta_prior, sigma_prior=sigma_prior, kernel_type=kernel, bayes_kws=None)"
   ]
  },
  {
   "cell_type": "code",
   "execution_count": 6,
   "id": "0d5ac5e3-6729-4001-9c36-b67abd0f564d",
   "metadata": {},
   "outputs": [
    {
     "data": {
      "text/plain": [
       "<matplotlib.collections.PathCollection at 0x7f7af3358cd0>"
      ]
     },
     "execution_count": 6,
     "metadata": {},
     "output_type": "execute_result"
    },
    {
     "data": {
      "image/png": "[encoded data removed]",
      "text/plain": [
       "<Figure size 432x288 with 1 Axes>"
      ]
     },
     "metadata": {
      "needs_background": "light"
     },
     "output_type": "display_data"
    }
   ],
   "source": [
    "with model: \n",
    "    y_pred, var = gp.predict(X.values, point=mp, pred_noise=True, diag=True)\n",
    "    \n",
    "mu_best = np.max(y_pred)\n",
    "sigma = np.sqrt(var)\n",
    "del_mu = (y_pred-mu_best)\n",
    "z = del_mu/sigma\n",
    "pred_ei = del_mu*norm.cdf(z) + sigma*norm.pdf(z)\n",
    "plt.scatter(y_pred, pred_ei)"
   ]
  },
  {
   "cell_type": "code",
   "execution_count": 11,
   "id": "1ea2e32b-c46b-41ab-ad5e-f7358ac6b45c",
   "metadata": {},
   "outputs": [],
   "source": [
    "results['ei'] =  pred_ei\n",
    "\n",
    "pickle.dump(results, Path(str(results_path).replace('.pkl', '_with_ei.pkl')).open('wb'))\n"
   ]
  },
  {
   "cell_type": "markdown",
   "id": "7569de0a-4a20-4477-81a8-ef8fea8d2a7b",
   "metadata": {},
   "source": [
    "Select grid of points in neighbourhood of top EI points"
   ]
  },
  {
   "cell_type": "code",
   "execution_count": 15,
   "id": "a8a534ca-a656-4790-8b47-7c3761a78632",
   "metadata": {},
   "outputs": [],
   "source": [
    "n_points = 5\n",
    "ei_cutoff = 0.95\n",
    "xxs = [np.linspace(x, y, n_points) for x, y in \n",
    "       zip(X.loc[pred_ei > np.quantile(pred_ei, ei_cutoff), :].min(), \n",
    "           X.loc[pred_ei > np.quantile(pred_ei, ei_cutoff), :].max())]\n",
    "xxs[0] = xxs[0][[0, -1]]\n",
    "xxs = np.meshgrid(*xxs)\n",
    "xxs = [xx.reshape(-1, 1) for xx in xxs]\n",
    "xgrid = np.concatenate(xxs, axis=1)\n",
    "\n",
    "with model: \n",
    "    ygrid, vgrid = gp.predict(xgrid, point=mp, pred_noise=True, diag=True)\n",
    "    \n",
    "ei = exp_imp(ygrid, vgrid, mu_best)"
   ]
  },
  {
   "cell_type": "code",
   "execution_count": 16,
   "id": "14faa278-842e-4037-a496-e9b5cda4fa3a",
   "metadata": {},
   "outputs": [
    {
     "data": {
      "text/plain": [
       "<matplotlib.collections.PathCollection at 0x7f7af0d11d60>"
      ]
     },
     "execution_count": 16,
     "metadata": {},
     "output_type": "execute_result"
    },
    {
     "data": {
      "image/png": "[encoded data removed]",
      "text/plain": [
       "<Figure size 432x288 with 1 Axes>"
      ]
     },
     "metadata": {
      "needs_background": "light"
     },
     "output_type": "display_data"
    }
   ],
   "source": [
    "plt.scatter(ygrid, ei, alpha=0.1, s=1, c=ei<np.quantile(ei, 0.98))"
   ]
  },
  {
   "cell_type": "code",
   "execution_count": 17,
   "id": "f878d297-c2b8-42ed-b8e8-caed1c10204e",
   "metadata": {},
   "outputs": [],
   "source": [
    "hp_path = '../../experiments/hpsample.h5'\n",
    "min_s, max_s = -9, 2\n",
    "\n",
    "hps = pd.read_hdf(hp_path)\n",
    "hps.reset_index(inplace=True)\n",
    "\n",
    "data = hps.loc[:, ['distances__scheme', 'tica__dim', 'tica__lag', 'cluster__k', \n",
    "            'distances__steepness', 'distances__centre']]\n",
    "\n",
    "data['distances__scheme'] = data['distances__scheme'].apply(lambda x: 1*(x == 'closest-heavy'))\n",
    "data = data.values\n",
    "\n",
    "xmin, xmax = data.min(axis=0), data.max(axis=0)\n",
    "data_grid = (xgrid - min_s)*(xmax - xmin)/(max_s - min_s) + xmin\n",
    "\n",
    "data_grid[:, 0] = xgrid[:, 0]\n",
    "data_grid_sorted = data_grid[np.argsort(ei)[::-1], :]"
   ]
  },
  {
   "cell_type": "code",
   "execution_count": 18,
   "id": "46b6d472-024a-4c7d-8562-3b0c8bde8e06",
   "metadata": {},
   "outputs": [
    {
     "data": {
      "text/html": [
       "<div>\n",
       "<style scoped>\n",
       "    .dataframe tbody tr th:only-of-type {\n",
       "        vertical-align: middle;\n",
       "    }\n",
       "\n",
       "    .dataframe tbody tr th {\n",
       "        vertical-align: top;\n",
       "    }\n",
       "\n",
       "    .dataframe thead th {\n",
       "        text-align: right;\n",
       "    }\n",
       "</style>\n",
       "<table border=\"1\" class=\"dataframe\">\n",
       "  <thead>\n",
       "    <tr style=\"text-align: right;\">\n",
       "      <th></th>\n",
       "      <th>cluster__max_iter</th>\n",
       "      <th>cluster__stride</th>\n",
       "      <th>tica__dim</th>\n",
       "      <th>tica__lag</th>\n",
       "      <th>tica__kinetic_map</th>\n",
       "      <th>tica__stride</th>\n",
       "      <th>cluster__k</th>\n",
       "      <th>feature__value</th>\n",
       "      <th>dihedrals__which</th>\n",
       "      <th>distances__scheme</th>\n",
       "      <th>distances__transform</th>\n",
       "      <th>distances__steepness</th>\n",
       "      <th>distances__centre</th>\n",
       "    </tr>\n",
       "    <tr>\n",
       "      <th>hp_ix</th>\n",
       "      <th></th>\n",
       "      <th></th>\n",
       "      <th></th>\n",
       "      <th></th>\n",
       "      <th></th>\n",
       "      <th></th>\n",
       "      <th></th>\n",
       "      <th></th>\n",
       "      <th></th>\n",
       "      <th></th>\n",
       "      <th></th>\n",
       "      <th></th>\n",
       "      <th></th>\n",
       "    </tr>\n",
       "  </thead>\n",
       "  <tbody>\n",
       "    <tr>\n",
       "      <th>329</th>\n",
       "      <td>1000</td>\n",
       "      <td>10</td>\n",
       "      <td>17</td>\n",
       "      <td>38</td>\n",
       "      <td>True</td>\n",
       "      <td>1</td>\n",
       "      <td>469</td>\n",
       "      <td>distances</td>\n",
       "      <td>NaN</td>\n",
       "      <td>ca</td>\n",
       "      <td>logistic</td>\n",
       "      <td>5.967568</td>\n",
       "      <td>0.700806</td>\n",
       "    </tr>\n",
       "    <tr>\n",
       "      <th>330</th>\n",
       "      <td>1000</td>\n",
       "      <td>10</td>\n",
       "      <td>17</td>\n",
       "      <td>38</td>\n",
       "      <td>True</td>\n",
       "      <td>1</td>\n",
       "      <td>479</td>\n",
       "      <td>distances</td>\n",
       "      <td>NaN</td>\n",
       "      <td>ca</td>\n",
       "      <td>logistic</td>\n",
       "      <td>5.967568</td>\n",
       "      <td>0.700806</td>\n",
       "    </tr>\n",
       "    <tr>\n",
       "      <th>331</th>\n",
       "      <td>1000</td>\n",
       "      <td>10</td>\n",
       "      <td>17</td>\n",
       "      <td>38</td>\n",
       "      <td>True</td>\n",
       "      <td>1</td>\n",
       "      <td>459</td>\n",
       "      <td>distances</td>\n",
       "      <td>NaN</td>\n",
       "      <td>ca</td>\n",
       "      <td>logistic</td>\n",
       "      <td>5.967568</td>\n",
       "      <td>0.700806</td>\n",
       "    </tr>\n",
       "    <tr>\n",
       "      <th>332</th>\n",
       "      <td>1000</td>\n",
       "      <td>10</td>\n",
       "      <td>17</td>\n",
       "      <td>38</td>\n",
       "      <td>True</td>\n",
       "      <td>1</td>\n",
       "      <td>489</td>\n",
       "      <td>distances</td>\n",
       "      <td>NaN</td>\n",
       "      <td>ca</td>\n",
       "      <td>logistic</td>\n",
       "      <td>5.967568</td>\n",
       "      <td>0.700806</td>\n",
       "    </tr>\n",
       "    <tr>\n",
       "      <th>333</th>\n",
       "      <td>1000</td>\n",
       "      <td>10</td>\n",
       "      <td>16</td>\n",
       "      <td>38</td>\n",
       "      <td>True</td>\n",
       "      <td>1</td>\n",
       "      <td>469</td>\n",
       "      <td>distances</td>\n",
       "      <td>NaN</td>\n",
       "      <td>ca</td>\n",
       "      <td>logistic</td>\n",
       "      <td>5.967568</td>\n",
       "      <td>0.700806</td>\n",
       "    </tr>\n",
       "  </tbody>\n",
       "</table>\n",
       "</div>"
      ],
      "text/plain": [
       "       cluster__max_iter  cluster__stride  tica__dim  tica__lag  \\\n",
       "hp_ix                                                             \n",
       "329                 1000               10         17         38   \n",
       "330                 1000               10         17         38   \n",
       "331                 1000               10         17         38   \n",
       "332                 1000               10         17         38   \n",
       "333                 1000               10         16         38   \n",
       "\n",
       "       tica__kinetic_map  tica__stride  cluster__k feature__value  \\\n",
       "hp_ix                                                               \n",
       "329                 True             1         469      distances   \n",
       "330                 True             1         479      distances   \n",
       "331                 True             1         459      distances   \n",
       "332                 True             1         489      distances   \n",
       "333                 True             1         469      distances   \n",
       "\n",
       "      dihedrals__which distances__scheme distances__transform  \\\n",
       "hp_ix                                                           \n",
       "329                NaN                ca             logistic   \n",
       "330                NaN                ca             logistic   \n",
       "331                NaN                ca             logistic   \n",
       "332                NaN                ca             logistic   \n",
       "333                NaN                ca             logistic   \n",
       "\n",
       "       distances__steepness  distances__centre  \n",
       "hp_ix                                           \n",
       "329                5.967568           0.700806  \n",
       "330                5.967568           0.700806  \n",
       "331                5.967568           0.700806  \n",
       "332                5.967568           0.700806  \n",
       "333                5.967568           0.700806  "
      ]
     },
     "execution_count": 18,
     "metadata": {},
     "output_type": "execute_result"
    }
   ],
   "source": [
    "new_hps = []\n",
    "for i in range(data_grid_sorted.shape[0]): \n",
    "    df = hps.iloc[[-1], :].copy(deep=True)\n",
    "    df['hp_ix'] += i + 1\n",
    "    df['feature__value'] = feat\n",
    "    df['distances__transform'] = trans\n",
    "    df['distances__scheme'] = 'closest-heavy' if np.round(data_grid_sorted[i, 0]) == 1.0 else 'ca'    \n",
    "    df['tica__dim'] = int(np.round(data_grid_sorted[i, 1]))\n",
    "    df['tica__lag'] = int(np.round(data_grid_sorted[i, 2]))\n",
    "    df['cluster__k'] = int(np.round(data_grid_sorted[i, 3]))\n",
    "    df['distances__steepness'] = data_grid_sorted[i, 4]\n",
    "    df['distances__centre'] = data_grid_sorted[i, 5]\n",
    "    new_hps.append(df)\n",
    "new_hps = pd.concat(new_hps)\n",
    "new_hps.index = new_hps['hp_ix']\n",
    "new_hps.drop(labels=['hp_ix'], axis=1, inplace=True)\n",
    "new_hps.head()"
   ]
  },
  {
   "cell_type": "code",
   "execution_count": 19,
   "id": "b6906770-0435-4db6-a1e4-92c7b497dbf9",
   "metadata": {},
   "outputs": [
    {
     "name": "stdout",
     "output_type": "stream",
     "text": [
      "[0. 1.]\n",
      "[16. 17. 18. 19. 20.]\n",
      "[20.  37.5 55.  72.5 90. ]\n",
      "[459. 469. 479. 489. 499.]\n",
      "[ 5.96756834  9.95016436 13.93276039 17.91535641 21.89795243]\n",
      "[0.22489078 0.38352917 0.54216757 0.70080596 0.85944435]\n",
      "['ca' 'closest-heavy']\n",
      "[17 16 18 19 20]\n",
      "[38 55 72 20 90]\n",
      "[469 479 459 489 499]\n",
      "[ 5.96756834  9.95016436 13.93276039 17.91535641 21.89795243]\n",
      "[0.70080596 0.85944435 0.54216757 0.38352917 0.22489078]\n"
     ]
    }
   ],
   "source": [
    "for i in range(data_grid_sorted.shape[1]): \n",
    "    print(np.unique(data_grid_sorted[:, i]))\n",
    "\n",
    "print(new_hps['distances__scheme'].unique())\n",
    "print(new_hps['tica__dim'].unique())\n",
    "print(new_hps['tica__lag'].unique())\n",
    "print(new_hps['cluster__k'].unique())\n",
    "print(new_hps['distances__steepness'].unique())\n",
    "print(new_hps['distances__centre'].unique())"
   ]
  },
  {
   "cell_type": "code",
   "execution_count": 12,
   "id": "1f6a99c0-dff4-47bb-9fef-faffa1de0e6f",
   "metadata": {},
   "outputs": [],
   "source": [
    "#[0. 1.]\n",
    "#[16. 17. 18. 19. 20.]\n",
    "#[20.  37.5 55.  72.5 90. ]\n",
    "#[459. 469. 479. 489. 499.]\n",
    "#[ 5.96756834  9.95016436 13.93276039 17.91535641 21.89795243]\n",
    "#[0.22489078 0.38352917 0.54216757 0.70080596 0.85944435]\n",
    "#['ca' 'closest-heavy']\n",
    "#[17 16 18 19 20]\n",
    "#[38 55 72 20 90]\n",
    "#[469 479 459 489 499]\n",
    "#[ 5.96756834  9.95016436 13.93276039 17.91535641 21.89795243]\n",
    "#[0.70080596 0.85944435 0.54216757 0.38352917 0.22489078]"
   ]
  },
  {
   "cell_type": "code",
   "execution_count": 20,
   "id": "21ecfe64-e21e-47e9-8213-ee9bcfa55d65",
   "metadata": {},
   "outputs": [],
   "source": [
    "# new_hps.to_hdf(Path(hp_path).resolve().parent.joinpath('new_hpsample.h5'), key='hyperparameters')"
   ]
  },
  {
   "cell_type": "markdown",
   "id": "5605a378-1dc9-4e40-bc70-253d2d3d133a",
   "metadata": {},
   "source": [
    "Attempt to use `scipy.minimize`"
   ]
  },
  {
   "cell_type": "code",
   "execution_count": 21,
   "id": "6f5284ba-1655-4540-9166-b4e2c55240bd",
   "metadata": {},
   "outputs": [],
   "source": [
    "# x0 = X.loc[y_pred == mu_best, :].values\n",
    "\n",
    "# bounds = [(0, 1), (-9, 2), (-9, 2), (-9, 2), (-9, 2), (-9, 2)]\n",
    "# res = minimize(acquisition, x0, method='nelder-mead', options={'disp': True},  args=(gp, model, mp,  mu_best), bounds=bounds)"
   ]
  },
  {
   "cell_type": "code",
   "execution_count": null,
   "id": "a99ff9e0-030e-42ca-9b63-d702d84fafd1",
   "metadata": {},
   "outputs": [],
   "source": []
  }
 ],
 "metadata": {
  "kernelspec": {
   "display_name": "Python 3 (ipykernel)",
   "language": "python",
   "name": "python3"
  },
  "language_info": {
   "codemirror_mode": {
    "name": "ipython",
    "version": 3
   },
   "file_extension": ".py",
   "mimetype": "text/x-python",
   "name": "python",
   "nbconvert_exporter": "python",
   "pygments_lexer": "ipython3",
   "version": "3.9.0"
  }
 },
 "nbformat": 4,
 "nbformat_minor": 5
}
