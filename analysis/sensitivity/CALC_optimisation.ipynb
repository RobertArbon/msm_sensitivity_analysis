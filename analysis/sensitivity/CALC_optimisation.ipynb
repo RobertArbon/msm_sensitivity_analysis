{
 "cells": [
  {
   "cell_type": "code",
   "execution_count": 1,
   "id": "8a3a5c0e-8354-4b34-a744-fe8b45f322f1",
   "metadata": {},
   "outputs": [
    {
     "ename": "ModuleNotFoundError",
     "evalue": "No module named 'pymc'",
     "output_type": "error",
     "traceback": [
      "\u001b[0;31m---------------------------------------------------------------------------\u001b[0m",
      "\u001b[0;31mModuleNotFoundError\u001b[0m                       Traceback (most recent call last)",
      "\u001b[0;32m/var/folders/b1/0b53wj0509376104__2tttb00000gn/T/ipykernel_65566/1576029219.py\u001b[0m in \u001b[0;36m<module>\u001b[0;34m\u001b[0m\n\u001b[1;32m      1\u001b[0m \u001b[0;32mimport\u001b[0m \u001b[0marviz\u001b[0m \u001b[0;32mas\u001b[0m \u001b[0maz\u001b[0m\u001b[0;34m\u001b[0m\u001b[0;34m\u001b[0m\u001b[0m\n\u001b[0;32m----> 2\u001b[0;31m \u001b[0;32mimport\u001b[0m \u001b[0mpymc\u001b[0m \u001b[0;32mas\u001b[0m \u001b[0mpm\u001b[0m\u001b[0;34m\u001b[0m\u001b[0;34m\u001b[0m\u001b[0m\n\u001b[0m\u001b[1;32m      3\u001b[0m \u001b[0;31m# import arviz.labels as azl\u001b[0m\u001b[0;34m\u001b[0m\u001b[0;34m\u001b[0m\u001b[0;34m\u001b[0m\u001b[0m\n\u001b[1;32m      4\u001b[0m \u001b[0;34m\u001b[0m\u001b[0m\n\u001b[1;32m      5\u001b[0m \u001b[0;32mimport\u001b[0m \u001b[0mmatplotlib\u001b[0m\u001b[0;34m.\u001b[0m\u001b[0mpyplot\u001b[0m \u001b[0;32mas\u001b[0m \u001b[0mplt\u001b[0m\u001b[0;34m\u001b[0m\u001b[0;34m\u001b[0m\u001b[0m\n",
      "\u001b[0;31mModuleNotFoundError\u001b[0m: No module named 'pymc'"
     ]
    }
   ],
   "source": [
    "import arviz as az\n",
    "import pymc as pm\n",
    "# import arviz.labels as azl\n",
    "\n",
    "import matplotlib.pyplot as plt\n",
    "import seaborn as sns\n",
    "from pathlib import Path\n",
    "import pickle\n",
    "import matplotlib as mpl\n",
    "import warnings\n",
    "import numpy as np\n",
    "warnings.simplefilter(action='ignore', category=FutureWarning)\n",
    "import pandas as pd\n",
    "from scipy.stats import norm\n",
    "from scipy.optimize import minimize\n",
    "from sklearn.preprocessing import MinMaxScaler, minmax_scale, scale, robust_scale\n",
    "import patsy as pt\n"
   ]
  },
  {
   "cell_type": "markdown",
   "id": "7630220e-f72e-4b98-9e47-bbe58cea9086",
   "metadata": {},
   "source": [
    "## Reestimate model because of pickle problems"
   ]
  },
  {
   "cell_type": "code",
   "execution_count": 42,
   "id": "1239c466-4c24-4cac-9d7a-d659bf154b10",
   "metadata": {},
   "outputs": [],
   "source": [
    "def gamma(alpha, beta):\n",
    "    def g(x):\n",
    "        return pm.Gamma(x, alpha=alpha, beta=beta)\n",
    "    return g\n",
    "\n",
    "def hcauchy(beta):\n",
    "    def g(x):\n",
    "        return pm.HalfCauchy(x, beta=beta)\n",
    "    return g\n",
    "\n",
    "\n",
    "def fit_gp(y, X, l_prior, eta_prior, sigma_prior, kernel_type='M52', bayes_kws=dict(draws=1000, tune=1000, chains=2, cores=1), prop_Xu=None):\n",
    "    \"\"\"\n",
    "    function to return a pymc3 model\n",
    "    y : dependent variable\n",
    "    X : independent variables\n",
    "    prop_Xu : number of inducing varibles to use. If None, use full marginal likelihood. If not none, use FTIC. \n",
    "    bayes_kw : kws for pm.sample\n",
    "    X, y are dataframes. We'll use the column names. \n",
    "    \"\"\"\n",
    "    kernel_type = kernel_type.lower()\n",
    "    with pm.Model() as model:\n",
    "        # Covert arrays\n",
    "        X_a = X.values\n",
    "        y_a = y.values.flatten()\n",
    "        X_cols = list(X.columns)\n",
    "\n",
    "        \n",
    "        # Kernels\n",
    "        # 3 way interaction\n",
    "        eta = eta_prior('eta')\n",
    "        cov = eta**2\n",
    "        covs = []\n",
    "        for i in range(X_a.shape[1]):\n",
    "            var_lab = 'l_'+X_cols[i]\n",
    "            if kernel_type=='rbf':\n",
    "                covs.append(pm.gp.cov.ExpQuad(X_a.shape[1], ls=l_prior(var_lab), active_dims=[i]))\n",
    "            if kernel_type=='exponential':\n",
    "                covs.append(pm.gp.cov.Exponential(X_a.shape[1], ls=l_prior(var_lab), active_dims=[i]))\n",
    "            if kernel_type=='m52':\n",
    "                covs.append(pm.gp.cov.Matern52(X_a.shape[1], ls=l_prior(var_lab), active_dims=[i]))\n",
    "            if kernel_type=='m32':\n",
    "                covs.append(pm.gp.cov.Matern32(X_a.shape[1], ls=l_prior(var_lab), active_dims=[i]))\n",
    "            if kernel_type=='m12':\n",
    "                covs.append(pm.gp.cov.Matern12(X_a.shape[1], ls=l_prior(var_lab), active_dims=[i]))\n",
    "                \n",
    "        # Covariance model\n",
    "        cov_tot = np.sum(covs)*cov\n",
    "        \n",
    "        \n",
    "        # Noise model\n",
    "        sigma_n =sigma_prior('sigma_n')\n",
    "\n",
    "        # Model\n",
    "        if not (prop_Xu is None):\n",
    "            # Inducing variables\n",
    "            num_Xu = int(X_a.shape[0]*prop_Xu)\n",
    "            Xu = pm.gp.util.kmeans_inducing_points(num_Xu, X_a)\n",
    "            gp = pm.gp.MarginalSparse(cov_func=cov_tot, approx=\"FITC\")\n",
    "            y_ = gp.marginal_likelihood('y_', X=X_a, y=y_a, Xu=Xu, noise=sigma_n)\n",
    "        else:\n",
    "            gp = pm.gp.Marginal(cov_func=cov_tot)\n",
    "            y_ = gp.marginal_likelihood('y_', X=X_a, y=y_a, noise=sigma_n)\n",
    "            \n",
    "        \n",
    "        if not (bayes_kws is None):\n",
    "            trace = pm.sample(**bayes_kws)\n",
    "            result = trace\n",
    "        else:\n",
    "            start_val = 1\n",
    "            x0 = dict(zip(['l_'+X_cols[i] for i in range(len(X_cols))], [start_val]*len(X_cols)))\n",
    "            x0.update({ 'eta': 1, 'sigma_n': 1})\n",
    "\n",
    "            options={'disp': None, 'maxcor': 10, \n",
    "                     'ftol': 2.220446049250313e-12, 'gtol': 1e-12, \n",
    "                     'eps': 1e-12, 'maxfun': 15000, 'maxiter': 15000, \n",
    "                     'iprint': - 1, 'maxls': 20, \n",
    "                     'finite_diff_rel_step': None}\n",
    "            mp = pm.find_MAP(start = x0, options=options)\n",
    "            result = mp\n",
    "    \n",
    "    return gp, result, model\n",
    "\n",
    "def bootstrap(n_samples,y, X, seed=42, **kwargs):\n",
    "    rng = np.random.default_rng(seed)\n",
    "    all_params = []\n",
    "    all_preds = []\n",
    "    i = 0\n",
    "    while i < n_samples:\n",
    "        print(' ', i, end=', ')\n",
    "        ix = np.array(y.index)\n",
    "        bs_ix = rng.choice(ix, size=len(ix), replace=True)\n",
    "        new_y, new_X = y.loc[bs_ix, :], X.loc[bs_ix, :]\n",
    "        try: \n",
    "            gp, mp, model = fit_gp(new_y, new_X, **kwargs)\n",
    "            all_params.append(mp)\n",
    "            with model:\n",
    "                y_pred, var = gp.predict(new_X.values, point=mp, diag=True)\n",
    "                all_preds.append((new_y, y_pred, var))\n",
    "            i += 1\n",
    "            \n",
    "        except: \n",
    "            print('error')\n",
    "\n",
    "    print()\n",
    "\n",
    "    return all_params, all_preds\n",
    "\n",
    "\n",
    "def acquisition(x, gp, model, mp, mu_best): \n",
    "    x[0] = np.round(x[0], decimals=0)\n",
    "    x = x.reshape(1, -1)\n",
    "    y, var = gp.predict(x, pred_noise=True, diag=True, model=model, point=mp)\n",
    "    \n",
    "    sigma = np.sqrt(var)\n",
    "    \n",
    "    del_mu = (y-mu_best)\n",
    "    \n",
    "    z = del_mu/sigma\n",
    "    \n",
    "    ei = max(0, norm.cdf(z) + sigma*norm.pdf(z))\n",
    "    return -1*ei\n",
    "\n",
    "\n",
    "def exp_imp(y, var, mu_best): \n",
    "    sigma = np.sqrt(var)\n",
    "    \n",
    "    del_mu = (y-mu_best)\n",
    "    \n",
    "    z = del_mu/sigma\n",
    "    \n",
    "    ei = np.maximum(0, norm.cdf(z) + sigma*norm.pdf(z))\n",
    "    return ei\n",
    "        "
   ]
  },
  {
   "cell_type": "markdown",
   "id": "3d609c3d-d66b-468e-a06c-8d2eee1cf022",
   "metadata": {},
   "source": [
    "## Expected Improvement\n",
    "First calculate the predictions. "
   ]
  },
  {
   "cell_type": "code",
   "execution_count": 43,
   "id": "40fc8308-2498-4098-ae81-8a944f3c893d",
   "metadata": {
    "tags": []
   },
   "outputs": [
    {
     "data": {
      "text/html": [
       "\n",
       "<style>\n",
       "    /* Turns off some styling */\n",
       "    progress {\n",
       "        /* gets rid of default border in Firefox and Opera. */\n",
       "        border: none;\n",
       "        /* Needs to be in here for Safari polyfill so background images work as expected. */\n",
       "        background-size: auto;\n",
       "    }\n",
       "    .progress-bar-interrupted, .progress-bar-interrupted::-webkit-progress-bar {\n",
       "        background: #F44336;\n",
       "    }\n",
       "</style>\n"
      ],
      "text/plain": [
       "<IPython.core.display.HTML object>"
      ]
     },
     "metadata": {},
     "output_type": "display_data"
    },
    {
     "data": {
      "text/html": [
       "\n",
       "    <div>\n",
       "      <progress value='53' class='' max='53' style='width:300px; height:20px; vertical-align: middle;'></progress>\n",
       "      100.00% [53/53 00:00<00:00 logp = -6.8884, ||grad|| = 9.4454]\n",
       "    </div>\n",
       "    "
      ],
      "text/plain": [
       "<IPython.core.display.HTML object>"
      ]
     },
     "metadata": {},
     "output_type": "display_data"
    },
    {
     "name": "stdout",
     "output_type": "stream",
     "text": [
      "\n"
     ]
    },
    {
     "data": {
      "text/html": [
       "\n",
       "<style>\n",
       "    /* Turns off some styling */\n",
       "    progress {\n",
       "        /* gets rid of default border in Firefox and Opera. */\n",
       "        border: none;\n",
       "        /* Needs to be in here for Safari polyfill so background images work as expected. */\n",
       "        background-size: auto;\n",
       "    }\n",
       "    .progress-bar-interrupted, .progress-bar-interrupted::-webkit-progress-bar {\n",
       "        background: #F44336;\n",
       "    }\n",
       "</style>\n"
      ],
      "text/plain": [
       "<IPython.core.display.HTML object>"
      ]
     },
     "metadata": {},
     "output_type": "display_data"
    },
    {
     "data": {
      "text/html": [
       "\n",
       "    <div>\n",
       "      <progress value='44' class='' max='44' style='width:300px; height:20px; vertical-align: middle;'></progress>\n",
       "      100.00% [44/44 00:00<00:00 logp = -29.697, ||grad|| = 15.407]\n",
       "    </div>\n",
       "    "
      ],
      "text/plain": [
       "<IPython.core.display.HTML object>"
      ]
     },
     "metadata": {},
     "output_type": "display_data"
    },
    {
     "name": "stdout",
     "output_type": "stream",
     "text": [
      "\n"
     ]
    },
    {
     "data": {
      "text/html": [
       "\n",
       "<style>\n",
       "    /* Turns off some styling */\n",
       "    progress {\n",
       "        /* gets rid of default border in Firefox and Opera. */\n",
       "        border: none;\n",
       "        /* Needs to be in here for Safari polyfill so background images work as expected. */\n",
       "        background-size: auto;\n",
       "    }\n",
       "    .progress-bar-interrupted, .progress-bar-interrupted::-webkit-progress-bar {\n",
       "        background: #F44336;\n",
       "    }\n",
       "</style>\n"
      ],
      "text/plain": [
       "<IPython.core.display.HTML object>"
      ]
     },
     "metadata": {},
     "output_type": "display_data"
    },
    {
     "data": {
      "text/html": [
       "\n",
       "    <div>\n",
       "      <progress value='43' class='' max='43' style='width:300px; height:20px; vertical-align: middle;'></progress>\n",
       "      100.00% [43/43 00:00<00:00 logp = -112, ||grad|| = 10.582]\n",
       "    </div>\n",
       "    "
      ],
      "text/plain": [
       "<IPython.core.display.HTML object>"
      ]
     },
     "metadata": {},
     "output_type": "display_data"
    },
    {
     "name": "stdout",
     "output_type": "stream",
     "text": [
      "\n"
     ]
    }
   ],
   "source": [
    "protein = '1fme'\n",
    "root_path = f'../{protein}/sensitivity/ts'\n",
    "\n",
    "\n",
    "experiments = [('dihedrals', None, 'exponential', 'ts' ), \n",
    "               ('distances', 'linear', 'exponential', 'ts' ), \n",
    "               ('distances', 'logistic', 'exponential', 'ts')]\n",
    "\n",
    "\n",
    "l_prior = gamma(1, 0.5)\n",
    "eta_prior = hcauchy(1)\n",
    "sigma_prior = hcauchy(1)\n",
    "\n",
    "predictions = []\n",
    "models = []\n",
    "\n",
    "for (feat, trans, kernel, dv) in experiments: \n",
    "\n",
    "    results_path = Path(root_path).joinpath(f\"{feat}_{trans}_{kernel}.pkl\")\n",
    "\n",
    "    results = pickle.load(results_path.open('rb'))\n",
    "    data_s = results['data_s']\n",
    "    y, X = data_s.iloc[:, [0]], data_s.iloc[:, 1:]\n",
    "\n",
    "    gp, mp, model = fit_gp(y, X, l_prior=l_prior, eta_prior=eta_prior, sigma_prior=sigma_prior, kernel_type=kernel, bayes_kws=None)\n",
    "\n",
    "    with model: \n",
    "        y_pred, var = gp.predict(X.values, point=mp, pred_noise=True, diag=True)\n",
    "    \n",
    "    predictions.append((y_pred, var, y, X))\n",
    "    models.append((gp, mp, model))"
   ]
  },
  {
   "cell_type": "markdown",
   "id": "28fe7bef-eae9-41da-9ffb-10a84c3d5d59",
   "metadata": {},
   "source": [
    "Get incumbent and plot all predictions"
   ]
  },
  {
   "cell_type": "code",
   "execution_count": 44,
   "id": "0caa9442-a9ae-44c2-a8cb-7250638eed6f",
   "metadata": {},
   "outputs": [
    {
     "data": {
      "image/png": "[encoded data removed]",
      "text/plain": [
       "<Figure size 432x288 with 1 Axes>"
      ]
     },
     "metadata": {
      "needs_background": "light"
     },
     "output_type": "display_data"
    }
   ],
   "source": [
    "mu_best = np.max(np.concatenate([x[0] for x in predictions]))\n",
    "\n",
    "with sns.plotting_context('paper'): \n",
    "    \n",
    "    fig, ax = plt.subplots(1)\n",
    "    shapes = ['o', 'v', 's']\n",
    "    cols = sns.color_palette('colorblind')\n",
    "    \n",
    "    for i, (feat, trans, kernel, dv) in enumerate(experiments): \n",
    "        label = feat\n",
    "        if trans is not None: \n",
    "            label = f\"{trans}-{label}\"\n",
    "            \n",
    "        y_pred = predictions[i][0]\n",
    "        y_err = np.sqrt(predictions[i][1])*2\n",
    "        y_obs = predictions[i][2].values\n",
    "        # print(\n",
    "        ax.errorbar(y_obs, y_pred, yerr=y_err, \n",
    "                     lw=0, elinewidth=1, marker=shapes[i], \n",
    "                   ms=2, alpha=0.25, color=cols[i])\n",
    "        \n",
    "        ax.errorbar(y_obs, y_pred, yerr=y_err, \n",
    "                     lw=0, elinewidth=0, marker=shapes[i], label=label,\n",
    "                   ms=2, alpha=1, color=cols[i])\n",
    "\n",
    "    lim = 4\n",
    "    ax.set_xlim(-lim, lim)\n",
    "    ax.set_ylim(-lim, lim)\n",
    "    ax.plot([-lim, lim], [-lim, lim], label='y=x', color='k', \n",
    "            ls='dashed', alpha=0.5)\n",
    "\n",
    "    xlim = ax.get_xlim()\n",
    "\n",
    "    ax.hlines(mu_best,*xlim, color='k', lw=1,  label='incumbent')\n",
    "    ax.set_xlim(xlim)\n",
    "    ax.set_ylabel('predicted timescales (scaled)')\n",
    "    ax.set_xlabel('observed timescales (scaled)')\n",
    "    ax.legend(bbox_to_anchor=(1, 1))\n",
    "\n",
    "    plt.savefig(f'../{protein}/response_surface_predictions_{dv}.pdf', \n",
    "                bbox_inches='tight')"
   ]
  },
  {
   "cell_type": "markdown",
   "id": "7fd3d85e-cce7-40a9-9c01-4ef477b5ccf4",
   "metadata": {},
   "source": [
    "Collate data in order to scale consistently"
   ]
  },
  {
   "cell_type": "code",
   "execution_count": 45,
   "id": "55549824-f9bf-4e2a-9e01-36f57a3a7c03",
   "metadata": {},
   "outputs": [
    {
     "data": {
      "text/html": [
       "<div>\n",
       "<style scoped>\n",
       "    .dataframe tbody tr th:only-of-type {\n",
       "        vertical-align: middle;\n",
       "    }\n",
       "\n",
       "    .dataframe tbody tr th {\n",
       "        vertical-align: top;\n",
       "    }\n",
       "\n",
       "    .dataframe thead th {\n",
       "        text-align: right;\n",
       "    }\n",
       "</style>\n",
       "<table border=\"1\" class=\"dataframe\">\n",
       "  <thead>\n",
       "    <tr style=\"text-align: right;\">\n",
       "      <th></th>\n",
       "      <th>dim</th>\n",
       "      <th>lag</th>\n",
       "      <th>states</th>\n",
       "      <th>steep</th>\n",
       "      <th>cent</th>\n",
       "      <th>feat</th>\n",
       "      <th>trans</th>\n",
       "      <th>ei</th>\n",
       "      <th>scheme</th>\n",
       "    </tr>\n",
       "  </thead>\n",
       "  <tbody>\n",
       "    <tr>\n",
       "      <th>138</th>\n",
       "      <td>1.214362</td>\n",
       "      <td>-0.390298</td>\n",
       "      <td>0.522370</td>\n",
       "      <td>-1.909767</td>\n",
       "      <td>-1.586097</td>\n",
       "      <td>distances</td>\n",
       "      <td>logistic</td>\n",
       "      <td>0.107051</td>\n",
       "      <td>ca</td>\n",
       "    </tr>\n",
       "    <tr>\n",
       "      <th>141</th>\n",
       "      <td>2.589785</td>\n",
       "      <td>0.401612</td>\n",
       "      <td>3.775445</td>\n",
       "      <td>2.957735</td>\n",
       "      <td>3.488031</td>\n",
       "      <td>distances</td>\n",
       "      <td>logistic</td>\n",
       "      <td>0.002149</td>\n",
       "      <td>ca</td>\n",
       "    </tr>\n",
       "    <tr>\n",
       "      <th>142</th>\n",
       "      <td>3.621352</td>\n",
       "      <td>-0.390298</td>\n",
       "      <td>1.660946</td>\n",
       "      <td>-0.950315</td>\n",
       "      <td>-1.012192</td>\n",
       "      <td>distances</td>\n",
       "      <td>logistic</td>\n",
       "      <td>0.016795</td>\n",
       "      <td>closest-heavy</td>\n",
       "    </tr>\n",
       "    <tr>\n",
       "      <th>144</th>\n",
       "      <td>-0.161061</td>\n",
       "      <td>2.447380</td>\n",
       "      <td>0.901895</td>\n",
       "      <td>2.077958</td>\n",
       "      <td>-1.340460</td>\n",
       "      <td>distances</td>\n",
       "      <td>logistic</td>\n",
       "      <td>0.000015</td>\n",
       "      <td>closest-heavy</td>\n",
       "    </tr>\n",
       "    <tr>\n",
       "      <th>145</th>\n",
       "      <td>-1.536484</td>\n",
       "      <td>3.569252</td>\n",
       "      <td>3.179048</td>\n",
       "      <td>1.754021</td>\n",
       "      <td>-0.144593</td>\n",
       "      <td>distances</td>\n",
       "      <td>logistic</td>\n",
       "      <td>0.002244</td>\n",
       "      <td>ca</td>\n",
       "    </tr>\n",
       "  </tbody>\n",
       "</table>\n",
       "</div>"
      ],
      "text/plain": [
       "          dim       lag    states     steep      cent       feat     trans  \\\n",
       "138  1.214362 -0.390298  0.522370 -1.909767 -1.586097  distances  logistic   \n",
       "141  2.589785  0.401612  3.775445  2.957735  3.488031  distances  logistic   \n",
       "142  3.621352 -0.390298  1.660946 -0.950315 -1.012192  distances  logistic   \n",
       "144 -0.161061  2.447380  0.901895  2.077958 -1.340460  distances  logistic   \n",
       "145 -1.536484  3.569252  3.179048  1.754021 -0.144593  distances  logistic   \n",
       "\n",
       "           ei         scheme  \n",
       "138  0.107051             ca  \n",
       "141  0.002149             ca  \n",
       "142  0.016795  closest-heavy  \n",
       "144  0.000015  closest-heavy  \n",
       "145  0.002244             ca  "
      ]
     },
     "execution_count": 45,
     "metadata": {},
     "output_type": "execute_result"
    }
   ],
   "source": [
    "y_pred = np.concatenate([x[0] for x in predictions])\n",
    "y_var = np.concatenate([x[1] for x in predictions])\n",
    "data = pd.concat([x[-1] for x in predictions], axis=0)\n",
    "features = np.concatenate([[experiments[i][0]]*predictions[i][0].shape[0] \n",
    "                            for i in range(len(experiments))])\n",
    "trans = np.concatenate([[experiments[i][1]]*predictions[i][0].shape[0] \n",
    "                            for i in range(len(experiments))])\n",
    "data['feat'] = features\n",
    "data['trans'] = trans\n",
    "data['ei'] = exp_imp(y_pred, y_var, np.max(y_pred))\n",
    "\n",
    "def f(x): \n",
    "    try: \n",
    "        return ['ca', 'closest-heavy'][int(x)]\n",
    "    except ValueError: \n",
    "        return np.nan\n",
    "    \n",
    "    \n",
    "data['scheme'] = data['scheme[T.closest-heavy]'].apply(f)\n",
    "data.drop(labels='scheme[T.closest-heavy]', inplace=True, axis=1)\n",
    "data.tail()"
   ]
  },
  {
   "cell_type": "code",
   "execution_count": 46,
   "id": "9ca1555b-24ba-470d-9b5a-0d60bc918514",
   "metadata": {},
   "outputs": [
    {
     "name": "stdout",
     "output_type": "stream",
     "text": [
      "dv is ei\n",
      "iqr = 8.807052668480674, median = -9.996184378841864\n",
      "dv range is (-4.801855202786361, 1.106684867374743)\n"
     ]
    }
   ],
   "source": [
    "def scale_df(df, formula, feature_range=None):\n",
    "    new_df = []\n",
    "    df = df.copy(deep=True)\n",
    "    \n",
    "    dv = formula.split('~')[0].strip()\n",
    "    x = df[dv].values.reshape(-1, 1)\n",
    "    print(f'dv is {dv}')\n",
    "    if dv in ['ts', 'ei']: \n",
    "        iqr = np.quantile(np.log(x), 0.75) - np.quantile(np.log(x), 0.25)\n",
    "        med = np.quantile(np.log(x), 0.5)\n",
    "        print(f'iqr = {iqr}, median = {med}')\n",
    "        x = robust_scale(np.log(x), )\n",
    "        dv_range = (x.min(), x.max())\n",
    "    elif dv == 'vamp2_eq':\n",
    "        x = robust_scale(x)\n",
    "        dv_range = (x.min(), x.max())\n",
    "    else: \n",
    "        raise ValueError('no dep var recognized')\n",
    "    new_df.append(pd.Series(x.flatten(), name=dv))\n",
    "    \n",
    "    print(f'dv range is {dv_range}')    \n",
    "    if feature_range is None: \n",
    "        feature_range = dv_range\n",
    "    \n",
    "    df.drop(labels=dv, axis=1, inplace=True)\n",
    "    \n",
    "    for col in df.columns: \n",
    "        x = df[col].values.reshape(-1, 1)\n",
    "        if col == 'hp_ix': \n",
    "            pass\n",
    "        elif col in ['dim', 'lag', 'steep', 'cent', 'states']: \n",
    "            x = minmax_scale(x, feature_range=feature_range)\n",
    "        else: \n",
    "            pass\n",
    "        new_df.append(pd.Series(x.flatten(), name=col))\n",
    "            \n",
    "    new_df = pd.concat(new_df, axis=1)\n",
    "    return new_df\n",
    "\n",
    "\n",
    "def get_dataframes(data_s, feat, trans, formula): \n",
    "    X = data_s.query(f\"(feat == '{feat}')\")\n",
    "    if trans is not None: \n",
    "        X = X.query(f\"trans == '{trans}'\")\n",
    "    ydf, Xdf = pt.dmatrices(formula, data=X, return_type='dataframe', NA_action='raise')\n",
    "    Xdf.drop(labels=['Intercept'], axis=1, inplace=True)\n",
    "    return ydf, Xdf\n",
    "\n",
    "\n",
    "data_s = scale_df(data, formula='ei ~ .')\n"
   ]
  },
  {
   "cell_type": "code",
   "execution_count": null,
   "id": "a56c8641-9fd7-4713-bfce-9b349c96760f",
   "metadata": {},
   "outputs": [],
   "source": []
  },
  {
   "cell_type": "markdown",
   "id": "597bcd2c-0eab-4928-ba8c-7b785912b129",
   "metadata": {},
   "source": [
    " Save results"
   ]
  },
  {
   "cell_type": "code",
   "execution_count": 47,
   "id": "1ea2e32b-c46b-41ab-ad5e-f7358ac6b45c",
   "metadata": {},
   "outputs": [],
   "source": [
    "for (feat, trans, kernel, dv) in experiments: \n",
    "\n",
    "    results_path = Path(root_path).joinpath(f\"{feat}_{trans}_{kernel}.pkl\")\n",
    "\n",
    "    results = pickle.load(results_path.open('rb'))\n",
    "    new_formula = results['formula'].replace(dv, 'ei')\n",
    "    new_y, new_X = get_dataframes(data_s, feat, trans, new_formula)\n",
    "    results.pop('trace')\n",
    "    results['data_s'] = pd.concat([new_y, new_X], axis=1)\n",
    "    results['formula'] = new_formula\n",
    "\n",
    "    pickle.dump(results, Path(str(results_path).replace('.pkl', '_with_ei.pkl')).open('wb'))\n",
    "\n",
    "\n"
   ]
  },
  {
   "cell_type": "markdown",
   "id": "9c0629b1-8f51-43ff-a601-2e09df75d81b",
   "metadata": {
    "tags": []
   },
   "source": [
    "## Optimisation"
   ]
  },
  {
   "cell_type": "markdown",
   "id": "f4377834-f473-4fb6-b0ab-28502f404d3f",
   "metadata": {},
   "source": [
    "Now we focus on the logistic distances "
   ]
  },
  {
   "cell_type": "code",
   "execution_count": 48,
   "id": "1c67820c-5159-4c0d-a17b-4d4a4d3a9700",
   "metadata": {},
   "outputs": [],
   "source": [
    "feat, trans, kernel, _ = experiments[-1]\n",
    "gp, mp, model = models[-1]\n",
    "y_pred, y_var, y_obs, X = predictions[-1]\n",
    "pred_ei = exp_imp(y_pred, y_var, np.max(y_pred))\n"
   ]
  },
  {
   "cell_type": "code",
   "execution_count": 49,
   "id": "93a1752d-866c-4c39-85f8-a5c30ddcf2b9",
   "metadata": {},
   "outputs": [],
   "source": [
    "# sns.pairplot(pd.concat([pred_ei, X], axis=1))"
   ]
  },
  {
   "cell_type": "markdown",
   "id": "7569de0a-4a20-4477-81a8-ef8fea8d2a7b",
   "metadata": {},
   "source": [
    "Select grid of points in neighbourhood of top EI points"
   ]
  },
  {
   "cell_type": "code",
   "execution_count": 50,
   "id": "a8a534ca-a656-4790-8b47-7c3761a78632",
   "metadata": {},
   "outputs": [
    {
     "data": {
      "text/plain": [
       "<matplotlib.collections.PathCollection at 0x7f7c7a408160>"
      ]
     },
     "execution_count": 50,
     "metadata": {},
     "output_type": "execute_result"
    },
    {
     "data": {
      "image/png": "[encoded data removed]",
      "text/plain": [
       "<Figure size 432x288 with 1 Axes>"
      ]
     },
     "metadata": {
      "needs_background": "light"
     },
     "output_type": "display_data"
    }
   ],
   "source": [
    "n_points = 5\n",
    "ei_cutoff = 0.95\n",
    "xxs = [np.linspace(x, y, n_points) for x, y in \n",
    "       zip(X.loc[pred_ei > np.quantile(pred_ei, ei_cutoff), :].min(), \n",
    "           X.loc[pred_ei > np.quantile(pred_ei, ei_cutoff), :].max())]\n",
    "xxs[0] = xxs[0][[0, -1]]\n",
    "xxs = np.meshgrid(*xxs)\n",
    "xxs = [xx.reshape(-1, 1) for xx in xxs]\n",
    "xgrid = np.concatenate(xxs, axis=1)\n",
    "\n",
    "with model: \n",
    "    ygrid, vgrid = gp.predict(xgrid, point=mp, pred_noise=True, diag=True)\n",
    "    \n",
    "ei = exp_imp(ygrid, vgrid, mu_best)\n",
    "plt.scatter(ygrid, ei, alpha=0.1, s=1, c=ei<np.quantile(ei,ei_cutoff))"
   ]
  },
  {
   "cell_type": "code",
   "execution_count": 51,
   "id": "f878d297-c2b8-42ed-b8e8-caed1c10204e",
   "metadata": {},
   "outputs": [],
   "source": [
    "hp_path = '../../experiments/hpsample.h5'\n",
    "min_s, max_s = -2.5680505392801685, 3.965207192114922\n",
    "\n",
    "hps = pd.read_hdf(hp_path)\n",
    "hps.reset_index(inplace=True)\n",
    "\n",
    "data = hps.loc[:, ['distances__scheme', 'tica__dim', 'tica__lag', 'cluster__k', \n",
    "            'distances__steepness', 'distances__centre']]\n",
    "\n",
    "data['distances__scheme'] = data['distances__scheme'].apply(lambda x: 1*(x == 'closest-heavy'))\n",
    "data = data.values\n",
    "\n",
    "xmin, xmax = data.min(axis=0), data.max(axis=0)\n",
    "data_grid = (xgrid - min_s)*(xmax - xmin)/(max_s - min_s) + xmin\n",
    "\n",
    "data_grid[:, 0] = xgrid[:, 0]\n",
    "data_grid_sorted = data_grid[np.argsort(ei)[::-1], :]"
   ]
  },
  {
   "cell_type": "code",
   "execution_count": 52,
   "id": "46b6d472-024a-4c7d-8562-3b0c8bde8e06",
   "metadata": {},
   "outputs": [
    {
     "data": {
      "text/html": [
       "<div>\n",
       "<style scoped>\n",
       "    .dataframe tbody tr th:only-of-type {\n",
       "        vertical-align: middle;\n",
       "    }\n",
       "\n",
       "    .dataframe tbody tr th {\n",
       "        vertical-align: top;\n",
       "    }\n",
       "\n",
       "    .dataframe thead th {\n",
       "        text-align: right;\n",
       "    }\n",
       "</style>\n",
       "<table border=\"1\" class=\"dataframe\">\n",
       "  <thead>\n",
       "    <tr style=\"text-align: right;\">\n",
       "      <th></th>\n",
       "      <th>cluster__max_iter</th>\n",
       "      <th>cluster__stride</th>\n",
       "      <th>tica__dim</th>\n",
       "      <th>tica__lag</th>\n",
       "      <th>tica__kinetic_map</th>\n",
       "      <th>tica__stride</th>\n",
       "      <th>cluster__k</th>\n",
       "      <th>feature__value</th>\n",
       "      <th>dihedrals__which</th>\n",
       "      <th>distances__scheme</th>\n",
       "      <th>distances__transform</th>\n",
       "      <th>distances__steepness</th>\n",
       "      <th>distances__centre</th>\n",
       "    </tr>\n",
       "    <tr>\n",
       "      <th>hp_ix</th>\n",
       "      <th></th>\n",
       "      <th></th>\n",
       "      <th></th>\n",
       "      <th></th>\n",
       "      <th></th>\n",
       "      <th></th>\n",
       "      <th></th>\n",
       "      <th></th>\n",
       "      <th></th>\n",
       "      <th></th>\n",
       "      <th></th>\n",
       "      <th></th>\n",
       "      <th></th>\n",
       "    </tr>\n",
       "  </thead>\n",
       "  <tbody>\n",
       "    <tr>\n",
       "      <th>329</th>\n",
       "      <td>1000</td>\n",
       "      <td>10</td>\n",
       "      <td>20</td>\n",
       "      <td>90</td>\n",
       "      <td>True</td>\n",
       "      <td>1</td>\n",
       "      <td>499</td>\n",
       "      <td>distances</td>\n",
       "      <td>NaN</td>\n",
       "      <td>ca</td>\n",
       "      <td>logistic</td>\n",
       "      <td>5.967568</td>\n",
       "      <td>0.700806</td>\n",
       "    </tr>\n",
       "    <tr>\n",
       "      <th>330</th>\n",
       "      <td>1000</td>\n",
       "      <td>10</td>\n",
       "      <td>20</td>\n",
       "      <td>37</td>\n",
       "      <td>True</td>\n",
       "      <td>1</td>\n",
       "      <td>499</td>\n",
       "      <td>distances</td>\n",
       "      <td>NaN</td>\n",
       "      <td>ca</td>\n",
       "      <td>logistic</td>\n",
       "      <td>5.967568</td>\n",
       "      <td>0.700806</td>\n",
       "    </tr>\n",
       "    <tr>\n",
       "      <th>331</th>\n",
       "      <td>1000</td>\n",
       "      <td>10</td>\n",
       "      <td>20</td>\n",
       "      <td>90</td>\n",
       "      <td>True</td>\n",
       "      <td>1</td>\n",
       "      <td>489</td>\n",
       "      <td>distances</td>\n",
       "      <td>NaN</td>\n",
       "      <td>ca</td>\n",
       "      <td>logistic</td>\n",
       "      <td>5.967568</td>\n",
       "      <td>0.700806</td>\n",
       "    </tr>\n",
       "    <tr>\n",
       "      <th>332</th>\n",
       "      <td>1000</td>\n",
       "      <td>10</td>\n",
       "      <td>20</td>\n",
       "      <td>90</td>\n",
       "      <td>True</td>\n",
       "      <td>1</td>\n",
       "      <td>499</td>\n",
       "      <td>distances</td>\n",
       "      <td>NaN</td>\n",
       "      <td>ca</td>\n",
       "      <td>logistic</td>\n",
       "      <td>5.967568</td>\n",
       "      <td>0.700806</td>\n",
       "    </tr>\n",
       "    <tr>\n",
       "      <th>333</th>\n",
       "      <td>1000</td>\n",
       "      <td>10</td>\n",
       "      <td>20</td>\n",
       "      <td>90</td>\n",
       "      <td>True</td>\n",
       "      <td>1</td>\n",
       "      <td>489</td>\n",
       "      <td>distances</td>\n",
       "      <td>NaN</td>\n",
       "      <td>ca</td>\n",
       "      <td>logistic</td>\n",
       "      <td>5.967568</td>\n",
       "      <td>0.700806</td>\n",
       "    </tr>\n",
       "  </tbody>\n",
       "</table>\n",
       "</div>"
      ],
      "text/plain": [
       "       cluster__max_iter  cluster__stride  tica__dim  tica__lag  \\\n",
       "hp_ix                                                             \n",
       "329                 1000               10         20         90   \n",
       "330                 1000               10         20         37   \n",
       "331                 1000               10         20         90   \n",
       "332                 1000               10         20         90   \n",
       "333                 1000               10         20         90   \n",
       "\n",
       "       tica__kinetic_map  tica__stride  cluster__k feature__value  \\\n",
       "hp_ix                                                               \n",
       "329                 True             1         499      distances   \n",
       "330                 True             1         499      distances   \n",
       "331                 True             1         489      distances   \n",
       "332                 True             1         499      distances   \n",
       "333                 True             1         489      distances   \n",
       "\n",
       "      dihedrals__which distances__scheme distances__transform  \\\n",
       "hp_ix                                                           \n",
       "329                NaN                ca             logistic   \n",
       "330                NaN                ca             logistic   \n",
       "331                NaN                ca             logistic   \n",
       "332                NaN                ca             logistic   \n",
       "333                NaN                ca             logistic   \n",
       "\n",
       "       distances__steepness  distances__centre  \n",
       "hp_ix                                           \n",
       "329                5.967568           0.700806  \n",
       "330                5.967568           0.700806  \n",
       "331                5.967568           0.700806  \n",
       "332                5.967568           0.700806  \n",
       "333                5.967568           0.700806  "
      ]
     },
     "execution_count": 52,
     "metadata": {},
     "output_type": "execute_result"
    }
   ],
   "source": [
    "new_hps = []\n",
    "for i in range(data_grid_sorted.shape[0]): \n",
    "    df = hps.iloc[[-1], :].copy(deep=True)\n",
    "    df['hp_ix'] += i + 1\n",
    "    df['feature__value'] = feat\n",
    "    df['distances__transform'] = trans\n",
    "    df['distances__scheme'] = 'closest-heavy' if np.round(data_grid_sorted[i, 0]) == 1.0 else 'ca'    \n",
    "    df['tica__dim'] = int(np.round(data_grid_sorted[i, 1]))\n",
    "    df['tica__lag'] = int(np.round(data_grid_sorted[i, 2]))\n",
    "    df['cluster__k'] = int(np.round(data_grid_sorted[i, 3]))\n",
    "    df['distances__steepness'] = data_grid_sorted[i, 4]\n",
    "    df['distances__centre'] = data_grid_sorted[i, 5]\n",
    "    new_hps.append(df)\n",
    "new_hps = pd.concat(new_hps)\n",
    "new_hps.index = new_hps['hp_ix']\n",
    "new_hps.drop(labels=['hp_ix'], axis=1, inplace=True)\n",
    "new_hps.head()"
   ]
  },
  {
   "cell_type": "code",
   "execution_count": 53,
   "id": "b6906770-0435-4db6-a1e4-92c7b497dbf9",
   "metadata": {},
   "outputs": [
    {
     "name": "stdout",
     "output_type": "stream",
     "text": [
      "[0. 1.]\n",
      "[19.   19.25 19.5  19.75 20.  ]\n",
      "[20.  37.5 55.  72.5 90. ]\n",
      "[459. 469. 479. 489. 499.]\n",
      "[ 5.96756834 15.11410137 24.26063439 33.40716741 42.55370044]\n",
      "[0.22489078 0.38352917 0.54216757 0.70080596 0.85944435]\n",
      "['ca' 'closest-heavy']\n",
      "[19 20]\n",
      "[20 37 55 72 90]\n",
      "[459 469 479 489 499]\n",
      "[ 5.96756834 15.11410137 24.26063439 33.40716741 42.55370044]\n",
      "[0.22489078 0.38352917 0.54216757 0.70080596 0.85944435]\n"
     ]
    }
   ],
   "source": [
    "for i in range(data_grid_sorted.shape[1]): \n",
    "    print(np.sort(np.unique(data_grid_sorted[:, i])))\n",
    "\n",
    "print(np.sort(new_hps['distances__scheme'].unique()))\n",
    "print(np.sort(new_hps['tica__dim'].unique()))\n",
    "print(np.sort(new_hps['tica__lag'].unique()))\n",
    "print(np.sort(new_hps['cluster__k'].unique()))\n",
    "print(np.sort(new_hps['distances__steepness'].unique()))\n",
    "print(np.sort(new_hps['distances__centre'].unique()))"
   ]
  },
  {
   "cell_type": "code",
   "execution_count": 54,
   "id": "1f6a99c0-dff4-47bb-9fef-faffa1de0e6f",
   "metadata": {},
   "outputs": [],
   "source": [
    "#[0. 1.]\n",
    "#[16. 17. 18. 19. 20.]\n",
    "#[20.  37.5 55.  72.5 90. ]\n",
    "#[459. 469. 479. 489. 499.]\n",
    "#[ 5.96756834  9.95016436 13.93276039 17.91535641 21.89795243]\n",
    "#[0.22489078 0.38352917 0.54216757 0.70080596 0.85944435]\n",
    "#['ca' 'closest-heavy']\n",
    "#[17 16 18 19 20]\n",
    "#[38 55 72 20 90]\n",
    "#[469 479 459 489 499]\n",
    "#[ 5.96756834  9.95016436 13.93276039 17.91535641 21.89795243]\n",
    "#[0.70080596 0.85944435 0.54216757 0.38352917 0.22489078]"
   ]
  },
  {
   "cell_type": "code",
   "execution_count": 55,
   "id": "21ecfe64-e21e-47e9-8213-ee9bcfa55d65",
   "metadata": {},
   "outputs": [
    {
     "name": "stderr",
     "output_type": "stream",
     "text": [
      "/var/folders/b1/0b53wj0509376104__2tttb00000gn/T/ipykernel_28092/2587266326.py:1: PerformanceWarning: \n",
      "your performance may suffer as PyTables will pickle object types that it cannot\n",
      "map directly to c-types [inferred_type->mixed,key->block2_values] [items->Index(['feature__value', 'dihedrals__which', 'distances__scheme',\n",
      "       'distances__transform'],\n",
      "      dtype='object')]\n",
      "\n",
      "  new_hps.to_hdf(Path(hp_path).resolve().parent.joinpath('new_ts_hpsample.h5'), key='hyperparameters')\n"
     ]
    }
   ],
   "source": [
    "new_hps.to_hdf(Path(hp_path).resolve().parent.joinpath('new_ts_hpsample.h5'), key='hyperparameters')"
   ]
  },
  {
   "cell_type": "markdown",
   "id": "5605a378-1dc9-4e40-bc70-253d2d3d133a",
   "metadata": {},
   "source": [
    "Attempt to use `scipy.minimize`"
   ]
  },
  {
   "cell_type": "code",
   "execution_count": 56,
   "id": "b3bfb32f-2822-444f-a026-463e89fcff82",
   "metadata": {},
   "outputs": [
    {
     "data": {
      "text/plain": [
       "array([[ 0.        ,  3.62135152, -1.31419299,  3.42302813, -1.77272001,\n",
       "        -1.58295607],\n",
       "       [ 0.        ,  3.62135152, -1.31419299,  3.42302813, -1.77272001,\n",
       "        -0.88806851],\n",
       "       [ 0.        ,  3.62135152, -1.31419299,  3.42302813, -1.77272001,\n",
       "        -0.19318096],\n",
       "       ...,\n",
       "       [ 1.        ,  3.96520719,  3.30528217,  3.96520719,  3.10331426,\n",
       "        -0.19318096],\n",
       "       [ 1.        ,  3.96520719,  3.30528217,  3.96520719,  3.10331426,\n",
       "         0.5017066 ],\n",
       "       [ 1.        ,  3.96520719,  3.30528217,  3.96520719,  3.10331426,\n",
       "         1.19659415]])"
      ]
     },
     "execution_count": 56,
     "metadata": {},
     "output_type": "execute_result"
    }
   ],
   "source": [
    "xgrid"
   ]
  },
  {
   "cell_type": "code",
   "execution_count": 57,
   "id": "3117ba46-5521-467a-aa55-904a56e58f35",
   "metadata": {},
   "outputs": [
    {
     "data": {
      "text/plain": [
       "array([[ 0.        ,  3.62135152, -1.31419299,  3.42302813, -1.77272001,\n",
       "        -1.58295607],\n",
       "       [ 0.        ,  3.62135152, -1.31419299,  3.42302813, -1.77272001,\n",
       "        -0.88806851]])"
      ]
     },
     "execution_count": 57,
     "metadata": {},
     "output_type": "execute_result"
    }
   ],
   "source": [
    "xgrid[0:2, :]"
   ]
  },
  {
   "cell_type": "code",
   "execution_count": 58,
   "id": "6f5284ba-1655-4540-9166-b4e2c55240bd",
   "metadata": {},
   "outputs": [
    {
     "ename": "AssertionError",
     "evalue": "",
     "output_type": "error",
     "traceback": [
      "\u001b[0;31m---------------------------------------------------------------------------\u001b[0m",
      "\u001b[0;31mAssertionError\u001b[0m                            Traceback (most recent call last)",
      "Input \u001b[0;32mIn [58]\u001b[0m, in \u001b[0;36m<cell line: 4>\u001b[0;34m()\u001b[0m\n\u001b[1;32m      3\u001b[0m x \u001b[38;5;241m=\u001b[39m x\u001b[38;5;241m.\u001b[39mreshape(\u001b[38;5;241m1\u001b[39m, \u001b[38;5;241m-\u001b[39m\u001b[38;5;241m1\u001b[39m)\n\u001b[1;32m      4\u001b[0m \u001b[38;5;28;01mwith\u001b[39;00m model: \n\u001b[0;32m----> 5\u001b[0m     _, _ \u001b[38;5;241m=\u001b[39m \u001b[43mgp\u001b[49m\u001b[38;5;241;43m.\u001b[39;49m\u001b[43mpredict\u001b[49m\u001b[43m(\u001b[49m\u001b[43mxgrid\u001b[49m\u001b[43m[\u001b[49m\u001b[38;5;241;43m0\u001b[39;49m\u001b[43m:\u001b[49m\u001b[38;5;241;43m1\u001b[39;49m\u001b[43m,\u001b[49m\u001b[43m \u001b[49m\u001b[43m:\u001b[49m\u001b[43m]\u001b[49m\u001b[43m,\u001b[49m\u001b[43m \u001b[49m\u001b[43mpred_noise\u001b[49m\u001b[38;5;241;43m=\u001b[39;49m\u001b[38;5;28;43;01mTrue\u001b[39;49;00m\u001b[43m,\u001b[49m\u001b[43m \u001b[49m\u001b[43mdiag\u001b[49m\u001b[38;5;241;43m=\u001b[39;49m\u001b[38;5;28;43;01mTrue\u001b[39;49;00m\u001b[43m,\u001b[49m\u001b[43m \u001b[49m\u001b[43mpoint\u001b[49m\u001b[38;5;241;43m=\u001b[39;49m\u001b[43mmp\u001b[49m\u001b[43m)\u001b[49m\n",
      "File \u001b[0;32m~/Software/pymc/pymc/gp/gp.py:573\u001b[0m, in \u001b[0;36mMarginal.predict\u001b[0;34m(self, Xnew, point, diag, pred_noise, given, jitter, model)\u001b[0m\n\u001b[1;32m    571\u001b[0m     given \u001b[38;5;241m=\u001b[39m {}\n\u001b[1;32m    572\u001b[0m mu, cov \u001b[38;5;241m=\u001b[39m \u001b[38;5;28mself\u001b[39m\u001b[38;5;241m.\u001b[39m_predict_at(Xnew, diag, pred_noise, given, jitter)\n\u001b[0;32m--> 573\u001b[0m \u001b[38;5;28;01mreturn\u001b[39;00m \u001b[43mreplace_with_values\u001b[49m\u001b[43m(\u001b[49m\u001b[43m[\u001b[49m\u001b[43mmu\u001b[49m\u001b[43m,\u001b[49m\u001b[43m \u001b[49m\u001b[43mcov\u001b[49m\u001b[43m]\u001b[49m\u001b[43m,\u001b[49m\u001b[43m \u001b[49m\u001b[43mreplacements\u001b[49m\u001b[38;5;241;43m=\u001b[39;49m\u001b[43mpoint\u001b[49m\u001b[43m,\u001b[49m\u001b[43m \u001b[49m\u001b[43mmodel\u001b[49m\u001b[38;5;241;43m=\u001b[39;49m\u001b[43mmodel\u001b[49m\u001b[43m)\u001b[49m\n",
      "File \u001b[0;32m~/Software/pymc/pymc/gp/util.py:71\u001b[0m, in \u001b[0;36mreplace_with_values\u001b[0;34m(vars_needed, replacements, model)\u001b[0m\n\u001b[1;32m     68\u001b[0m \u001b[38;5;28;01mif\u001b[39;00m \u001b[38;5;28mlen\u001b[39m(inputs) \u001b[38;5;241m==\u001b[39m \u001b[38;5;241m0\u001b[39m:\n\u001b[1;32m     69\u001b[0m     \u001b[38;5;28;01mreturn\u001b[39;00m \u001b[38;5;28mtuple\u001b[39m(v\u001b[38;5;241m.\u001b[39meval() \u001b[38;5;28;01mfor\u001b[39;00m v \u001b[38;5;129;01min\u001b[39;00m vars_needed)\n\u001b[0;32m---> 71\u001b[0m fn \u001b[38;5;241m=\u001b[39m \u001b[43mcompile_pymc\u001b[49m\u001b[43m(\u001b[49m\n\u001b[1;32m     72\u001b[0m \u001b[43m    \u001b[49m\u001b[43minputs\u001b[49m\u001b[43m,\u001b[49m\n\u001b[1;32m     73\u001b[0m \u001b[43m    \u001b[49m\u001b[43mvars_needed\u001b[49m\u001b[43m,\u001b[49m\n\u001b[1;32m     74\u001b[0m \u001b[43m    \u001b[49m\u001b[43mallow_input_downcast\u001b[49m\u001b[38;5;241;43m=\u001b[39;49m\u001b[38;5;28;43;01mTrue\u001b[39;49;00m\u001b[43m,\u001b[49m\n\u001b[1;32m     75\u001b[0m \u001b[43m    \u001b[49m\u001b[43maccept_inplace\u001b[49m\u001b[38;5;241;43m=\u001b[39;49m\u001b[38;5;28;43;01mTrue\u001b[39;49;00m\u001b[43m,\u001b[49m\n\u001b[1;32m     76\u001b[0m \u001b[43m    \u001b[49m\u001b[43mon_unused_input\u001b[49m\u001b[38;5;241;43m=\u001b[39;49m\u001b[38;5;124;43m\"\u001b[39;49m\u001b[38;5;124;43mignore\u001b[39;49m\u001b[38;5;124;43m\"\u001b[39;49m\u001b[43m,\u001b[49m\n\u001b[1;32m     77\u001b[0m \u001b[43m\u001b[49m\u001b[43m)\u001b[49m\n\u001b[1;32m     79\u001b[0m \u001b[38;5;66;03m# Remove unneeded inputs\u001b[39;00m\n\u001b[1;32m     80\u001b[0m replacements \u001b[38;5;241m=\u001b[39m {name: val \u001b[38;5;28;01mfor\u001b[39;00m name, val \u001b[38;5;129;01min\u001b[39;00m replacements\u001b[38;5;241m.\u001b[39mitems() \u001b[38;5;28;01mif\u001b[39;00m name \u001b[38;5;129;01min\u001b[39;00m input_names}\n",
      "File \u001b[0;32m~/Software/pymc/pymc/aesaraf.py:954\u001b[0m, in \u001b[0;36mcompile_pymc\u001b[0;34m(inputs, outputs, mode, **kwargs)\u001b[0m\n\u001b[1;32m    952\u001b[0m opt_qry \u001b[38;5;241m=\u001b[39m mode\u001b[38;5;241m.\u001b[39mprovided_optimizer\u001b[38;5;241m.\u001b[39mincluding(\u001b[38;5;124m\"\u001b[39m\u001b[38;5;124mrandom_make_inplace\u001b[39m\u001b[38;5;124m\"\u001b[39m, check_parameter_opt)\n\u001b[1;32m    953\u001b[0m mode \u001b[38;5;241m=\u001b[39m Mode(linker\u001b[38;5;241m=\u001b[39mmode\u001b[38;5;241m.\u001b[39mlinker, optimizer\u001b[38;5;241m=\u001b[39mopt_qry)\n\u001b[0;32m--> 954\u001b[0m aesara_function \u001b[38;5;241m=\u001b[39m \u001b[43maesara\u001b[49m\u001b[38;5;241;43m.\u001b[39;49m\u001b[43mfunction\u001b[49m\u001b[43m(\u001b[49m\n\u001b[1;32m    955\u001b[0m \u001b[43m    \u001b[49m\u001b[43minputs\u001b[49m\u001b[43m,\u001b[49m\n\u001b[1;32m    956\u001b[0m \u001b[43m    \u001b[49m\u001b[43moutputs\u001b[49m\u001b[43m,\u001b[49m\n\u001b[1;32m    957\u001b[0m \u001b[43m    \u001b[49m\u001b[43mupdates\u001b[49m\u001b[38;5;241;43m=\u001b[39;49m\u001b[43m{\u001b[49m\u001b[38;5;241;43m*\u001b[39;49m\u001b[38;5;241;43m*\u001b[39;49m\u001b[43mrng_updates\u001b[49m\u001b[43m,\u001b[49m\u001b[43m \u001b[49m\u001b[38;5;241;43m*\u001b[39;49m\u001b[38;5;241;43m*\u001b[39;49m\u001b[43mkwargs\u001b[49m\u001b[38;5;241;43m.\u001b[39;49m\u001b[43mpop\u001b[49m\u001b[43m(\u001b[49m\u001b[38;5;124;43m\"\u001b[39;49m\u001b[38;5;124;43mupdates\u001b[39;49m\u001b[38;5;124;43m\"\u001b[39;49m\u001b[43m,\u001b[49m\u001b[43m \u001b[49m\u001b[43m{\u001b[49m\u001b[43m}\u001b[49m\u001b[43m)\u001b[49m\u001b[43m}\u001b[49m\u001b[43m,\u001b[49m\n\u001b[1;32m    958\u001b[0m \u001b[43m    \u001b[49m\u001b[43mmode\u001b[49m\u001b[38;5;241;43m=\u001b[39;49m\u001b[43mmode\u001b[49m\u001b[43m,\u001b[49m\n\u001b[1;32m    959\u001b[0m \u001b[43m    \u001b[49m\u001b[38;5;241;43m*\u001b[39;49m\u001b[38;5;241;43m*\u001b[39;49m\u001b[43mkwargs\u001b[49m\u001b[43m,\u001b[49m\n\u001b[1;32m    960\u001b[0m \u001b[43m\u001b[49m\u001b[43m)\u001b[49m\n\u001b[1;32m    961\u001b[0m \u001b[38;5;28;01mreturn\u001b[39;00m aesara_function\n",
      "File \u001b[0;32m~/opt/miniconda3/envs/pymc/lib/python3.9/site-packages/aesara/compile/function/__init__.py:317\u001b[0m, in \u001b[0;36mfunction\u001b[0;34m(inputs, outputs, mode, updates, givens, no_default_updates, accept_inplace, name, rebuild_strict, allow_input_downcast, profile, on_unused_input)\u001b[0m\n\u001b[1;32m    311\u001b[0m     fn \u001b[38;5;241m=\u001b[39m orig_function(\n\u001b[1;32m    312\u001b[0m         inputs, outputs, mode\u001b[38;5;241m=\u001b[39mmode, accept_inplace\u001b[38;5;241m=\u001b[39maccept_inplace, name\u001b[38;5;241m=\u001b[39mname\n\u001b[1;32m    313\u001b[0m     )\n\u001b[1;32m    314\u001b[0m \u001b[38;5;28;01melse\u001b[39;00m:\n\u001b[1;32m    315\u001b[0m     \u001b[38;5;66;03m# note: pfunc will also call orig_function -- orig_function is\u001b[39;00m\n\u001b[1;32m    316\u001b[0m     \u001b[38;5;66;03m#      a choke point that all compilation must pass through\u001b[39;00m\n\u001b[0;32m--> 317\u001b[0m     fn \u001b[38;5;241m=\u001b[39m \u001b[43mpfunc\u001b[49m\u001b[43m(\u001b[49m\n\u001b[1;32m    318\u001b[0m \u001b[43m        \u001b[49m\u001b[43mparams\u001b[49m\u001b[38;5;241;43m=\u001b[39;49m\u001b[43minputs\u001b[49m\u001b[43m,\u001b[49m\n\u001b[1;32m    319\u001b[0m \u001b[43m        \u001b[49m\u001b[43moutputs\u001b[49m\u001b[38;5;241;43m=\u001b[39;49m\u001b[43moutputs\u001b[49m\u001b[43m,\u001b[49m\n\u001b[1;32m    320\u001b[0m \u001b[43m        \u001b[49m\u001b[43mmode\u001b[49m\u001b[38;5;241;43m=\u001b[39;49m\u001b[43mmode\u001b[49m\u001b[43m,\u001b[49m\n\u001b[1;32m    321\u001b[0m \u001b[43m        \u001b[49m\u001b[43mupdates\u001b[49m\u001b[38;5;241;43m=\u001b[39;49m\u001b[43mupdates\u001b[49m\u001b[43m,\u001b[49m\n\u001b[1;32m    322\u001b[0m \u001b[43m        \u001b[49m\u001b[43mgivens\u001b[49m\u001b[38;5;241;43m=\u001b[39;49m\u001b[43mgivens\u001b[49m\u001b[43m,\u001b[49m\n\u001b[1;32m    323\u001b[0m \u001b[43m        \u001b[49m\u001b[43mno_default_updates\u001b[49m\u001b[38;5;241;43m=\u001b[39;49m\u001b[43mno_default_updates\u001b[49m\u001b[43m,\u001b[49m\n\u001b[1;32m    324\u001b[0m \u001b[43m        \u001b[49m\u001b[43maccept_inplace\u001b[49m\u001b[38;5;241;43m=\u001b[39;49m\u001b[43maccept_inplace\u001b[49m\u001b[43m,\u001b[49m\n\u001b[1;32m    325\u001b[0m \u001b[43m        \u001b[49m\u001b[43mname\u001b[49m\u001b[38;5;241;43m=\u001b[39;49m\u001b[43mname\u001b[49m\u001b[43m,\u001b[49m\n\u001b[1;32m    326\u001b[0m \u001b[43m        \u001b[49m\u001b[43mrebuild_strict\u001b[49m\u001b[38;5;241;43m=\u001b[39;49m\u001b[43mrebuild_strict\u001b[49m\u001b[43m,\u001b[49m\n\u001b[1;32m    327\u001b[0m \u001b[43m        \u001b[49m\u001b[43mallow_input_downcast\u001b[49m\u001b[38;5;241;43m=\u001b[39;49m\u001b[43mallow_input_downcast\u001b[49m\u001b[43m,\u001b[49m\n\u001b[1;32m    328\u001b[0m \u001b[43m        \u001b[49m\u001b[43mon_unused_input\u001b[49m\u001b[38;5;241;43m=\u001b[39;49m\u001b[43mon_unused_input\u001b[49m\u001b[43m,\u001b[49m\n\u001b[1;32m    329\u001b[0m \u001b[43m        \u001b[49m\u001b[43mprofile\u001b[49m\u001b[38;5;241;43m=\u001b[39;49m\u001b[43mprofile\u001b[49m\u001b[43m,\u001b[49m\n\u001b[1;32m    330\u001b[0m \u001b[43m        \u001b[49m\u001b[43moutput_keys\u001b[49m\u001b[38;5;241;43m=\u001b[39;49m\u001b[43moutput_keys\u001b[49m\u001b[43m,\u001b[49m\n\u001b[1;32m    331\u001b[0m \u001b[43m    \u001b[49m\u001b[43m)\u001b[49m\n\u001b[1;32m    332\u001b[0m \u001b[38;5;28;01mreturn\u001b[39;00m fn\n",
      "File \u001b[0;32m~/opt/miniconda3/envs/pymc/lib/python3.9/site-packages/aesara/compile/function/pfunc.py:363\u001b[0m, in \u001b[0;36mpfunc\u001b[0;34m(params, outputs, mode, updates, givens, no_default_updates, accept_inplace, name, rebuild_strict, allow_input_downcast, profile, on_unused_input, output_keys)\u001b[0m\n\u001b[1;32m    350\u001b[0m     profile \u001b[38;5;241m=\u001b[39m ProfileStats(message\u001b[38;5;241m=\u001b[39mprofile)\n\u001b[1;32m    352\u001b[0m inputs, cloned_outputs \u001b[38;5;241m=\u001b[39m construct_pfunc_ins_and_outs(\n\u001b[1;32m    353\u001b[0m     params,\n\u001b[1;32m    354\u001b[0m     outputs,\n\u001b[0;32m   (...)\u001b[0m\n\u001b[1;32m    360\u001b[0m     allow_input_downcast,\n\u001b[1;32m    361\u001b[0m )\n\u001b[0;32m--> 363\u001b[0m \u001b[38;5;28;01mreturn\u001b[39;00m \u001b[43morig_function\u001b[49m\u001b[43m(\u001b[49m\n\u001b[1;32m    364\u001b[0m \u001b[43m    \u001b[49m\u001b[43minputs\u001b[49m\u001b[43m,\u001b[49m\n\u001b[1;32m    365\u001b[0m \u001b[43m    \u001b[49m\u001b[43mcloned_outputs\u001b[49m\u001b[43m,\u001b[49m\n\u001b[1;32m    366\u001b[0m \u001b[43m    \u001b[49m\u001b[43mmode\u001b[49m\u001b[43m,\u001b[49m\n\u001b[1;32m    367\u001b[0m \u001b[43m    \u001b[49m\u001b[43maccept_inplace\u001b[49m\u001b[38;5;241;43m=\u001b[39;49m\u001b[43maccept_inplace\u001b[49m\u001b[43m,\u001b[49m\n\u001b[1;32m    368\u001b[0m \u001b[43m    \u001b[49m\u001b[43mname\u001b[49m\u001b[38;5;241;43m=\u001b[39;49m\u001b[43mname\u001b[49m\u001b[43m,\u001b[49m\n\u001b[1;32m    369\u001b[0m \u001b[43m    \u001b[49m\u001b[43mprofile\u001b[49m\u001b[38;5;241;43m=\u001b[39;49m\u001b[43mprofile\u001b[49m\u001b[43m,\u001b[49m\n\u001b[1;32m    370\u001b[0m \u001b[43m    \u001b[49m\u001b[43mon_unused_input\u001b[49m\u001b[38;5;241;43m=\u001b[39;49m\u001b[43mon_unused_input\u001b[49m\u001b[43m,\u001b[49m\n\u001b[1;32m    371\u001b[0m \u001b[43m    \u001b[49m\u001b[43moutput_keys\u001b[49m\u001b[38;5;241;43m=\u001b[39;49m\u001b[43moutput_keys\u001b[49m\u001b[43m,\u001b[49m\n\u001b[1;32m    372\u001b[0m \u001b[43m\u001b[49m\u001b[43m)\u001b[49m\n",
      "File \u001b[0;32m~/opt/miniconda3/envs/pymc/lib/python3.9/site-packages/aesara/compile/function/types.py:1727\u001b[0m, in \u001b[0;36morig_function\u001b[0;34m(inputs, outputs, mode, accept_inplace, name, profile, on_unused_input, output_keys)\u001b[0m\n\u001b[1;32m   1725\u001b[0m \u001b[38;5;28;01mtry\u001b[39;00m:\n\u001b[1;32m   1726\u001b[0m     Maker \u001b[38;5;241m=\u001b[39m \u001b[38;5;28mgetattr\u001b[39m(mode, \u001b[38;5;124m\"\u001b[39m\u001b[38;5;124mfunction_maker\u001b[39m\u001b[38;5;124m\"\u001b[39m, FunctionMaker)\n\u001b[0;32m-> 1727\u001b[0m     m \u001b[38;5;241m=\u001b[39m \u001b[43mMaker\u001b[49m\u001b[43m(\u001b[49m\n\u001b[1;32m   1728\u001b[0m \u001b[43m        \u001b[49m\u001b[43minputs\u001b[49m\u001b[43m,\u001b[49m\n\u001b[1;32m   1729\u001b[0m \u001b[43m        \u001b[49m\u001b[43moutputs\u001b[49m\u001b[43m,\u001b[49m\n\u001b[1;32m   1730\u001b[0m \u001b[43m        \u001b[49m\u001b[43mmode\u001b[49m\u001b[43m,\u001b[49m\n\u001b[1;32m   1731\u001b[0m \u001b[43m        \u001b[49m\u001b[43maccept_inplace\u001b[49m\u001b[38;5;241;43m=\u001b[39;49m\u001b[43maccept_inplace\u001b[49m\u001b[43m,\u001b[49m\n\u001b[1;32m   1732\u001b[0m \u001b[43m        \u001b[49m\u001b[43mprofile\u001b[49m\u001b[38;5;241;43m=\u001b[39;49m\u001b[43mprofile\u001b[49m\u001b[43m,\u001b[49m\n\u001b[1;32m   1733\u001b[0m \u001b[43m        \u001b[49m\u001b[43mon_unused_input\u001b[49m\u001b[38;5;241;43m=\u001b[39;49m\u001b[43mon_unused_input\u001b[49m\u001b[43m,\u001b[49m\n\u001b[1;32m   1734\u001b[0m \u001b[43m        \u001b[49m\u001b[43moutput_keys\u001b[49m\u001b[38;5;241;43m=\u001b[39;49m\u001b[43moutput_keys\u001b[49m\u001b[43m,\u001b[49m\n\u001b[1;32m   1735\u001b[0m \u001b[43m        \u001b[49m\u001b[43mname\u001b[49m\u001b[38;5;241;43m=\u001b[39;49m\u001b[43mname\u001b[49m\u001b[43m,\u001b[49m\n\u001b[1;32m   1736\u001b[0m \u001b[43m    \u001b[49m\u001b[43m)\u001b[49m\n\u001b[1;32m   1737\u001b[0m     \u001b[38;5;28;01mwith\u001b[39;00m config\u001b[38;5;241m.\u001b[39mchange_flags(compute_test_value\u001b[38;5;241m=\u001b[39m\u001b[38;5;124m\"\u001b[39m\u001b[38;5;124moff\u001b[39m\u001b[38;5;124m\"\u001b[39m):\n\u001b[1;32m   1738\u001b[0m         fn \u001b[38;5;241m=\u001b[39m m\u001b[38;5;241m.\u001b[39mcreate(defaults)\n",
      "File \u001b[0;32m~/opt/miniconda3/envs/pymc/lib/python3.9/site-packages/aesara/compile/function/types.py:1466\u001b[0m, in \u001b[0;36mFunctionMaker.__init__\u001b[0;34m(self, inputs, outputs, mode, accept_inplace, function_builder, profile, on_unused_input, fgraph, output_keys, name)\u001b[0m\n\u001b[1;32m   1460\u001b[0m opt_time \u001b[38;5;241m=\u001b[39m \u001b[38;5;28;01mNone\u001b[39;00m\n\u001b[1;32m   1462\u001b[0m \u001b[38;5;28;01mwith\u001b[39;00m config\u001b[38;5;241m.\u001b[39mchange_flags(\n\u001b[1;32m   1463\u001b[0m     compute_test_value\u001b[38;5;241m=\u001b[39mconfig\u001b[38;5;241m.\u001b[39mcompute_test_value_opt,\n\u001b[1;32m   1464\u001b[0m     traceback__limit\u001b[38;5;241m=\u001b[39mconfig\u001b[38;5;241m.\u001b[39mtraceback__compile_limit,\n\u001b[1;32m   1465\u001b[0m ):\n\u001b[0;32m-> 1466\u001b[0m     optimizer_profile \u001b[38;5;241m=\u001b[39m \u001b[43moptimizer\u001b[49m\u001b[43m(\u001b[49m\u001b[43mfgraph\u001b[49m\u001b[43m)\u001b[49m\n\u001b[1;32m   1468\u001b[0m     end_optimizer \u001b[38;5;241m=\u001b[39m time\u001b[38;5;241m.\u001b[39mtime()\n\u001b[1;32m   1469\u001b[0m     opt_time \u001b[38;5;241m=\u001b[39m end_optimizer \u001b[38;5;241m-\u001b[39m start_optimizer\n",
      "File \u001b[0;32m~/opt/miniconda3/envs/pymc/lib/python3.9/site-packages/aesara/graph/opt.py:112\u001b[0m, in \u001b[0;36mGlobalOptimizer.__call__\u001b[0;34m(self, fgraph)\u001b[0m\n\u001b[1;32m    106\u001b[0m \u001b[38;5;28;01mdef\u001b[39;00m \u001b[38;5;21m__call__\u001b[39m(\u001b[38;5;28mself\u001b[39m, fgraph):\n\u001b[1;32m    107\u001b[0m     \u001b[38;5;124;03m\"\"\"Optimize a `FunctionGraph`.\u001b[39;00m\n\u001b[1;32m    108\u001b[0m \n\u001b[1;32m    109\u001b[0m \u001b[38;5;124;03m    This is the same as ``self.optimize(fgraph)``.\u001b[39;00m\n\u001b[1;32m    110\u001b[0m \n\u001b[1;32m    111\u001b[0m \u001b[38;5;124;03m    \"\"\"\u001b[39;00m\n\u001b[0;32m--> 112\u001b[0m     \u001b[38;5;28;01mreturn\u001b[39;00m \u001b[38;5;28;43mself\u001b[39;49m\u001b[38;5;241;43m.\u001b[39;49m\u001b[43moptimize\u001b[49m\u001b[43m(\u001b[49m\u001b[43mfgraph\u001b[49m\u001b[43m)\u001b[49m\n",
      "File \u001b[0;32m~/opt/miniconda3/envs/pymc/lib/python3.9/site-packages/aesara/graph/opt.py:103\u001b[0m, in \u001b[0;36mGlobalOptimizer.optimize\u001b[0;34m(self, fgraph, *args, **kwargs)\u001b[0m\n\u001b[1;32m     94\u001b[0m \u001b[38;5;124;03m\"\"\"\u001b[39;00m\n\u001b[1;32m     95\u001b[0m \n\u001b[1;32m     96\u001b[0m \u001b[38;5;124;03mThis is meant as a shortcut for the following::\u001b[39;00m\n\u001b[0;32m   (...)\u001b[0m\n\u001b[1;32m    100\u001b[0m \n\u001b[1;32m    101\u001b[0m \u001b[38;5;124;03m\"\"\"\u001b[39;00m\n\u001b[1;32m    102\u001b[0m \u001b[38;5;28mself\u001b[39m\u001b[38;5;241m.\u001b[39madd_requirements(fgraph)\n\u001b[0;32m--> 103\u001b[0m ret \u001b[38;5;241m=\u001b[39m \u001b[38;5;28;43mself\u001b[39;49m\u001b[38;5;241;43m.\u001b[39;49m\u001b[43mapply\u001b[49m\u001b[43m(\u001b[49m\u001b[43mfgraph\u001b[49m\u001b[43m,\u001b[49m\u001b[43m \u001b[49m\u001b[38;5;241;43m*\u001b[39;49m\u001b[43margs\u001b[49m\u001b[43m,\u001b[49m\u001b[43m \u001b[49m\u001b[38;5;241;43m*\u001b[39;49m\u001b[38;5;241;43m*\u001b[39;49m\u001b[43mkwargs\u001b[49m\u001b[43m)\u001b[49m\n\u001b[1;32m    104\u001b[0m \u001b[38;5;28;01mreturn\u001b[39;00m ret\n",
      "File \u001b[0;32m~/opt/miniconda3/envs/pymc/lib/python3.9/site-packages/aesara/graph/opt.py:280\u001b[0m, in \u001b[0;36mSeqOptimizer.apply\u001b[0;34m(self, fgraph)\u001b[0m\n\u001b[1;32m    278\u001b[0m nb_nodes_before \u001b[38;5;241m=\u001b[39m \u001b[38;5;28mlen\u001b[39m(fgraph\u001b[38;5;241m.\u001b[39mapply_nodes)\n\u001b[1;32m    279\u001b[0m t0 \u001b[38;5;241m=\u001b[39m time\u001b[38;5;241m.\u001b[39mtime()\n\u001b[0;32m--> 280\u001b[0m sub_prof \u001b[38;5;241m=\u001b[39m \u001b[43moptimizer\u001b[49m\u001b[38;5;241;43m.\u001b[39;49m\u001b[43moptimize\u001b[49m\u001b[43m(\u001b[49m\u001b[43mfgraph\u001b[49m\u001b[43m)\u001b[49m\n\u001b[1;32m    281\u001b[0m l\u001b[38;5;241m.\u001b[39mappend(\u001b[38;5;28mfloat\u001b[39m(time\u001b[38;5;241m.\u001b[39mtime() \u001b[38;5;241m-\u001b[39m t0))\n\u001b[1;32m    282\u001b[0m sub_profs\u001b[38;5;241m.\u001b[39mappend(sub_prof)\n",
      "File \u001b[0;32m~/opt/miniconda3/envs/pymc/lib/python3.9/site-packages/aesara/graph/opt.py:103\u001b[0m, in \u001b[0;36mGlobalOptimizer.optimize\u001b[0;34m(self, fgraph, *args, **kwargs)\u001b[0m\n\u001b[1;32m     94\u001b[0m \u001b[38;5;124;03m\"\"\"\u001b[39;00m\n\u001b[1;32m     95\u001b[0m \n\u001b[1;32m     96\u001b[0m \u001b[38;5;124;03mThis is meant as a shortcut for the following::\u001b[39;00m\n\u001b[0;32m   (...)\u001b[0m\n\u001b[1;32m    100\u001b[0m \n\u001b[1;32m    101\u001b[0m \u001b[38;5;124;03m\"\"\"\u001b[39;00m\n\u001b[1;32m    102\u001b[0m \u001b[38;5;28mself\u001b[39m\u001b[38;5;241m.\u001b[39madd_requirements(fgraph)\n\u001b[0;32m--> 103\u001b[0m ret \u001b[38;5;241m=\u001b[39m \u001b[38;5;28;43mself\u001b[39;49m\u001b[38;5;241;43m.\u001b[39;49m\u001b[43mapply\u001b[49m\u001b[43m(\u001b[49m\u001b[43mfgraph\u001b[49m\u001b[43m,\u001b[49m\u001b[43m \u001b[49m\u001b[38;5;241;43m*\u001b[39;49m\u001b[43margs\u001b[49m\u001b[43m,\u001b[49m\u001b[43m \u001b[49m\u001b[38;5;241;43m*\u001b[39;49m\u001b[38;5;241;43m*\u001b[39;49m\u001b[43mkwargs\u001b[49m\u001b[43m)\u001b[49m\n\u001b[1;32m    104\u001b[0m \u001b[38;5;28;01mreturn\u001b[39;00m ret\n",
      "File \u001b[0;32m~/opt/miniconda3/envs/pymc/lib/python3.9/site-packages/aesara/graph/opt.py:280\u001b[0m, in \u001b[0;36mSeqOptimizer.apply\u001b[0;34m(self, fgraph)\u001b[0m\n\u001b[1;32m    278\u001b[0m nb_nodes_before \u001b[38;5;241m=\u001b[39m \u001b[38;5;28mlen\u001b[39m(fgraph\u001b[38;5;241m.\u001b[39mapply_nodes)\n\u001b[1;32m    279\u001b[0m t0 \u001b[38;5;241m=\u001b[39m time\u001b[38;5;241m.\u001b[39mtime()\n\u001b[0;32m--> 280\u001b[0m sub_prof \u001b[38;5;241m=\u001b[39m \u001b[43moptimizer\u001b[49m\u001b[38;5;241;43m.\u001b[39;49m\u001b[43moptimize\u001b[49m\u001b[43m(\u001b[49m\u001b[43mfgraph\u001b[49m\u001b[43m)\u001b[49m\n\u001b[1;32m    281\u001b[0m l\u001b[38;5;241m.\u001b[39mappend(\u001b[38;5;28mfloat\u001b[39m(time\u001b[38;5;241m.\u001b[39mtime() \u001b[38;5;241m-\u001b[39m t0))\n\u001b[1;32m    282\u001b[0m sub_profs\u001b[38;5;241m.\u001b[39mappend(sub_prof)\n",
      "File \u001b[0;32m~/opt/miniconda3/envs/pymc/lib/python3.9/site-packages/aesara/graph/opt.py:103\u001b[0m, in \u001b[0;36mGlobalOptimizer.optimize\u001b[0;34m(self, fgraph, *args, **kwargs)\u001b[0m\n\u001b[1;32m     94\u001b[0m \u001b[38;5;124;03m\"\"\"\u001b[39;00m\n\u001b[1;32m     95\u001b[0m \n\u001b[1;32m     96\u001b[0m \u001b[38;5;124;03mThis is meant as a shortcut for the following::\u001b[39;00m\n\u001b[0;32m   (...)\u001b[0m\n\u001b[1;32m    100\u001b[0m \n\u001b[1;32m    101\u001b[0m \u001b[38;5;124;03m\"\"\"\u001b[39;00m\n\u001b[1;32m    102\u001b[0m \u001b[38;5;28mself\u001b[39m\u001b[38;5;241m.\u001b[39madd_requirements(fgraph)\n\u001b[0;32m--> 103\u001b[0m ret \u001b[38;5;241m=\u001b[39m \u001b[38;5;28;43mself\u001b[39;49m\u001b[38;5;241;43m.\u001b[39;49m\u001b[43mapply\u001b[49m\u001b[43m(\u001b[49m\u001b[43mfgraph\u001b[49m\u001b[43m,\u001b[49m\u001b[43m \u001b[49m\u001b[38;5;241;43m*\u001b[39;49m\u001b[43margs\u001b[49m\u001b[43m,\u001b[49m\u001b[43m \u001b[49m\u001b[38;5;241;43m*\u001b[39;49m\u001b[38;5;241;43m*\u001b[39;49m\u001b[43mkwargs\u001b[49m\u001b[43m)\u001b[49m\n\u001b[1;32m    104\u001b[0m \u001b[38;5;28;01mreturn\u001b[39;00m ret\n",
      "File \u001b[0;32m~/opt/miniconda3/envs/pymc/lib/python3.9/site-packages/aesara/graph/opt.py:2329\u001b[0m, in \u001b[0;36mEquilibriumOptimizer.apply\u001b[0;34m(self, fgraph, start_from)\u001b[0m\n\u001b[1;32m   2327\u001b[0m nb \u001b[38;5;241m=\u001b[39m change_tracker\u001b[38;5;241m.\u001b[39mnb_imported\n\u001b[1;32m   2328\u001b[0m t_opt \u001b[38;5;241m=\u001b[39m time\u001b[38;5;241m.\u001b[39mtime()\n\u001b[0;32m-> 2329\u001b[0m lopt_change \u001b[38;5;241m=\u001b[39m \u001b[38;5;28;43mself\u001b[39;49m\u001b[38;5;241;43m.\u001b[39;49m\u001b[43mprocess_node\u001b[49m\u001b[43m(\u001b[49m\u001b[43mfgraph\u001b[49m\u001b[43m,\u001b[49m\u001b[43m \u001b[49m\u001b[43mnode\u001b[49m\u001b[43m,\u001b[49m\u001b[43m \u001b[49m\u001b[43mlopt\u001b[49m\u001b[43m)\u001b[49m\n\u001b[1;32m   2330\u001b[0m time_opts[lopt] \u001b[38;5;241m+\u001b[39m\u001b[38;5;241m=\u001b[39m time\u001b[38;5;241m.\u001b[39mtime() \u001b[38;5;241m-\u001b[39m t_opt\n\u001b[1;32m   2331\u001b[0m \u001b[38;5;28;01mif\u001b[39;00m \u001b[38;5;129;01mnot\u001b[39;00m lopt_change:\n",
      "File \u001b[0;32m~/opt/miniconda3/envs/pymc/lib/python3.9/site-packages/aesara/graph/opt.py:1850\u001b[0m, in \u001b[0;36mNavigatorOptimizer.process_node\u001b[0;34m(self, fgraph, node, lopt)\u001b[0m\n\u001b[1;32m   1848\u001b[0m lopt \u001b[38;5;241m=\u001b[39m lopt \u001b[38;5;129;01mor\u001b[39;00m \u001b[38;5;28mself\u001b[39m\u001b[38;5;241m.\u001b[39mlocal_opt\n\u001b[1;32m   1849\u001b[0m \u001b[38;5;28;01mtry\u001b[39;00m:\n\u001b[0;32m-> 1850\u001b[0m     replacements \u001b[38;5;241m=\u001b[39m \u001b[43mlopt\u001b[49m\u001b[38;5;241;43m.\u001b[39;49m\u001b[43mtransform\u001b[49m\u001b[43m(\u001b[49m\u001b[43mfgraph\u001b[49m\u001b[43m,\u001b[49m\u001b[43m \u001b[49m\u001b[43mnode\u001b[49m\u001b[43m)\u001b[49m\n\u001b[1;32m   1851\u001b[0m \u001b[38;5;28;01mexcept\u001b[39;00m \u001b[38;5;167;01mException\u001b[39;00m \u001b[38;5;28;01mas\u001b[39;00m e:\n\u001b[1;32m   1852\u001b[0m     \u001b[38;5;28;01mif\u001b[39;00m \u001b[38;5;28mself\u001b[39m\u001b[38;5;241m.\u001b[39mfailure_callback \u001b[38;5;129;01mis\u001b[39;00m \u001b[38;5;129;01mnot\u001b[39;00m \u001b[38;5;28;01mNone\u001b[39;00m:\n",
      "File \u001b[0;32m~/opt/miniconda3/envs/pymc/lib/python3.9/site-packages/aesara/graph/opt.py:1055\u001b[0m, in \u001b[0;36mFromFunctionLocalOptimizer.transform\u001b[0;34m(self, fgraph, node)\u001b[0m\n\u001b[1;32m   1050\u001b[0m     \u001b[38;5;28;01mif\u001b[39;00m \u001b[38;5;129;01mnot\u001b[39;00m (\n\u001b[1;32m   1051\u001b[0m         node\u001b[38;5;241m.\u001b[39mop \u001b[38;5;129;01min\u001b[39;00m \u001b[38;5;28mself\u001b[39m\u001b[38;5;241m.\u001b[39m_tracks \u001b[38;5;129;01mor\u001b[39;00m \u001b[38;5;28misinstance\u001b[39m(node\u001b[38;5;241m.\u001b[39mop, \u001b[38;5;28mself\u001b[39m\u001b[38;5;241m.\u001b[39m_tracked_types)\n\u001b[1;32m   1052\u001b[0m     ):\n\u001b[1;32m   1053\u001b[0m         \u001b[38;5;28;01mreturn\u001b[39;00m \u001b[38;5;28;01mFalse\u001b[39;00m\n\u001b[0;32m-> 1055\u001b[0m \u001b[38;5;28;01mreturn\u001b[39;00m \u001b[38;5;28;43mself\u001b[39;49m\u001b[38;5;241;43m.\u001b[39;49m\u001b[43mfn\u001b[49m\u001b[43m(\u001b[49m\u001b[43mfgraph\u001b[49m\u001b[43m,\u001b[49m\u001b[43m \u001b[49m\u001b[43mnode\u001b[49m\u001b[43m)\u001b[49m\n",
      "File \u001b[0;32m~/opt/miniconda3/envs/pymc/lib/python3.9/site-packages/aesara/tensor/blas.py:1822\u001b[0m, in \u001b[0;36mlocal_dot22_to_ger_or_gemv\u001b[0;34m(fgraph, node)\u001b[0m\n\u001b[1;32m   1819\u001b[0m \u001b[38;5;28;01melif\u001b[39;00m \u001b[38;5;129;01mnot\u001b[39;00m xb[\u001b[38;5;241m0\u001b[39m] \u001b[38;5;129;01mand\u001b[39;00m \u001b[38;5;129;01mnot\u001b[39;00m xb[\u001b[38;5;241m1\u001b[39m] \u001b[38;5;129;01mand\u001b[39;00m yb[\u001b[38;5;241m1\u001b[39m]:\n\u001b[1;32m   1820\u001b[0m     \u001b[38;5;66;03m# x is matrix, y is vector, try gemv\u001b[39;00m\n\u001b[1;32m   1821\u001b[0m     yv \u001b[38;5;241m=\u001b[39m y\u001b[38;5;241m.\u001b[39mdimshuffle(\u001b[38;5;241m0\u001b[39m)\n\u001b[0;32m-> 1822\u001b[0m     zeros \u001b[38;5;241m=\u001b[39m \u001b[43mat\u001b[49m\u001b[38;5;241;43m.\u001b[39;49m\u001b[43mAllocEmpty\u001b[49m\u001b[43m(\u001b[49m\u001b[43mx\u001b[49m\u001b[38;5;241;43m.\u001b[39;49m\u001b[43mdtype\u001b[49m\u001b[43m)\u001b[49m\u001b[43m(\u001b[49m\u001b[43mx\u001b[49m\u001b[38;5;241;43m.\u001b[39;49m\u001b[43mshape\u001b[49m\u001b[43m[\u001b[49m\u001b[38;5;241;43m0\u001b[39;49m\u001b[43m]\u001b[49m\u001b[43m)\u001b[49m\n\u001b[1;32m   1823\u001b[0m     rval \u001b[38;5;241m=\u001b[39m gemv_no_inplace(zeros, one, x, yv, zero)\n\u001b[1;32m   1824\u001b[0m     new_out \u001b[38;5;241m=\u001b[39m [rval\u001b[38;5;241m.\u001b[39mdimshuffle(\u001b[38;5;241m0\u001b[39m, \u001b[38;5;124m\"\u001b[39m\u001b[38;5;124mx\u001b[39m\u001b[38;5;124m\"\u001b[39m)]\n",
      "File \u001b[0;32m~/opt/miniconda3/envs/pymc/lib/python3.9/site-packages/aesara/graph/op.py:294\u001b[0m, in \u001b[0;36mOp.__call__\u001b[0;34m(self, *inputs, **kwargs)\u001b[0m\n\u001b[1;32m    252\u001b[0m \u001b[38;5;124mr\u001b[39m\u001b[38;5;124;03m\"\"\"Construct an `Apply` node using :meth:`Op.make_node` and return its outputs.\u001b[39;00m\n\u001b[1;32m    253\u001b[0m \n\u001b[1;32m    254\u001b[0m \u001b[38;5;124;03mThis method is just a wrapper around :meth:`Op.make_node`.\u001b[39;00m\n\u001b[0;32m   (...)\u001b[0m\n\u001b[1;32m    291\u001b[0m \n\u001b[1;32m    292\u001b[0m \u001b[38;5;124;03m\"\"\"\u001b[39;00m\n\u001b[1;32m    293\u001b[0m return_list \u001b[38;5;241m=\u001b[39m kwargs\u001b[38;5;241m.\u001b[39mpop(\u001b[38;5;124m\"\u001b[39m\u001b[38;5;124mreturn_list\u001b[39m\u001b[38;5;124m\"\u001b[39m, \u001b[38;5;28;01mFalse\u001b[39;00m)\n\u001b[0;32m--> 294\u001b[0m node \u001b[38;5;241m=\u001b[39m \u001b[38;5;28;43mself\u001b[39;49m\u001b[38;5;241;43m.\u001b[39;49m\u001b[43mmake_node\u001b[49m\u001b[43m(\u001b[49m\u001b[38;5;241;43m*\u001b[39;49m\u001b[43minputs\u001b[49m\u001b[43m,\u001b[49m\u001b[43m \u001b[49m\u001b[38;5;241;43m*\u001b[39;49m\u001b[38;5;241;43m*\u001b[39;49m\u001b[43mkwargs\u001b[49m\u001b[43m)\u001b[49m\n\u001b[1;32m    296\u001b[0m \u001b[38;5;28;01mif\u001b[39;00m config\u001b[38;5;241m.\u001b[39mcompute_test_value \u001b[38;5;241m!=\u001b[39m \u001b[38;5;124m\"\u001b[39m\u001b[38;5;124moff\u001b[39m\u001b[38;5;124m\"\u001b[39m:\n\u001b[1;32m    297\u001b[0m     compute_test_value(node)\n",
      "File \u001b[0;32m~/opt/miniconda3/envs/pymc/lib/python3.9/site-packages/aesara/tensor/basic.py:4184\u001b[0m, in \u001b[0;36mAllocEmpty.make_node\u001b[0;34m(self, *_shape)\u001b[0m\n\u001b[1;32m   4183\u001b[0m \u001b[38;5;28;01mdef\u001b[39;00m \u001b[38;5;21mmake_node\u001b[39m(\u001b[38;5;28mself\u001b[39m, \u001b[38;5;241m*\u001b[39m_shape):\n\u001b[0;32m-> 4184\u001b[0m     _shape, bcast \u001b[38;5;241m=\u001b[39m \u001b[43minfer_broadcastable\u001b[49m\u001b[43m(\u001b[49m\u001b[43m_shape\u001b[49m\u001b[43m)\u001b[49m\n\u001b[1;32m   4185\u001b[0m     otype \u001b[38;5;241m=\u001b[39m TensorType(dtype\u001b[38;5;241m=\u001b[39m\u001b[38;5;28mself\u001b[39m\u001b[38;5;241m.\u001b[39mdtype, shape\u001b[38;5;241m=\u001b[39mbcast)\n\u001b[1;32m   4186\u001b[0m     output \u001b[38;5;241m=\u001b[39m otype()\n",
      "File \u001b[0;32m~/opt/miniconda3/envs/pymc/lib/python3.9/site-packages/aesara/tensor/basic.py:1462\u001b[0m, in \u001b[0;36minfer_broadcastable\u001b[0;34m(shape)\u001b[0m\n\u001b[1;32m   1458\u001b[0m     \u001b[38;5;28;01mraise\u001b[39;00m \u001b[38;5;167;01mTypeError\u001b[39;00m(\u001b[38;5;124mf\u001b[39m\u001b[38;5;124m\"\u001b[39m\u001b[38;5;124mShapes must be scalar integers; got \u001b[39m\u001b[38;5;132;01m{\u001b[39;00ms_as_str\u001b[38;5;132;01m}\u001b[39;00m\u001b[38;5;124m\"\u001b[39m)\n\u001b[1;32m   1460\u001b[0m sh \u001b[38;5;241m=\u001b[39m [check_type(as_tensor_variable(s, ndim\u001b[38;5;241m=\u001b[39m\u001b[38;5;241m0\u001b[39m)) \u001b[38;5;28;01mfor\u001b[39;00m s \u001b[38;5;129;01min\u001b[39;00m shape]\n\u001b[0;32m-> 1462\u001b[0m shape_fg \u001b[38;5;241m=\u001b[39m \u001b[43mFunctionGraph\u001b[49m\u001b[43m(\u001b[49m\n\u001b[1;32m   1463\u001b[0m \u001b[43m    \u001b[49m\u001b[43moutputs\u001b[49m\u001b[38;5;241;43m=\u001b[39;49m\u001b[43msh\u001b[49m\u001b[43m,\u001b[49m\n\u001b[1;32m   1464\u001b[0m \u001b[43m    \u001b[49m\u001b[43mfeatures\u001b[49m\u001b[38;5;241;43m=\u001b[39;49m\u001b[43m[\u001b[49m\u001b[43mShapeFeature\u001b[49m\u001b[43m(\u001b[49m\u001b[43m)\u001b[49m\u001b[43m]\u001b[49m\u001b[43m,\u001b[49m\n\u001b[1;32m   1465\u001b[0m \u001b[43m    \u001b[49m\u001b[43mclone\u001b[49m\u001b[38;5;241;43m=\u001b[39;49m\u001b[38;5;28;43;01mTrue\u001b[39;49;00m\u001b[43m,\u001b[49m\n\u001b[1;32m   1466\u001b[0m \u001b[43m\u001b[49m\u001b[43m)\u001b[49m\n\u001b[1;32m   1467\u001b[0m folded_shape \u001b[38;5;241m=\u001b[39m optimize_graph(shape_fg, custom_opt\u001b[38;5;241m=\u001b[39mtopo_constant_folding)\u001b[38;5;241m.\u001b[39moutputs\n\u001b[1;32m   1469\u001b[0m bcast \u001b[38;5;241m=\u001b[39m \u001b[38;5;28mtuple\u001b[39m(\u001b[38;5;28mgetattr\u001b[39m(s, \u001b[38;5;124m\"\u001b[39m\u001b[38;5;124mdata\u001b[39m\u001b[38;5;124m\"\u001b[39m, s) \u001b[38;5;241m==\u001b[39m \u001b[38;5;241m1\u001b[39m \u001b[38;5;28;01mfor\u001b[39;00m s \u001b[38;5;129;01min\u001b[39;00m folded_shape)\n",
      "File \u001b[0;32m~/opt/miniconda3/envs/pymc/lib/python3.9/site-packages/aesara/graph/fg.py:155\u001b[0m, in \u001b[0;36mFunctionGraph.__init__\u001b[0;34m(self, inputs, outputs, features, clone, update_mapping, memo, copy_inputs, copy_orphans)\u001b[0m\n\u001b[1;32m    152\u001b[0m     \u001b[38;5;28mself\u001b[39m\u001b[38;5;241m.\u001b[39madd_input(in_var, check\u001b[38;5;241m=\u001b[39m\u001b[38;5;28;01mFalse\u001b[39;00m)\n\u001b[1;32m    154\u001b[0m \u001b[38;5;28;01mfor\u001b[39;00m output \u001b[38;5;129;01min\u001b[39;00m outputs:\n\u001b[0;32m--> 155\u001b[0m     \u001b[38;5;28;43mself\u001b[39;49m\u001b[38;5;241;43m.\u001b[39;49m\u001b[43mimport_var\u001b[49m\u001b[43m(\u001b[49m\u001b[43moutput\u001b[49m\u001b[43m,\u001b[49m\u001b[43m \u001b[49m\u001b[43mreason\u001b[49m\u001b[38;5;241;43m=\u001b[39;49m\u001b[38;5;124;43m\"\u001b[39;49m\u001b[38;5;124;43minit\u001b[39;49m\u001b[38;5;124;43m\"\u001b[39;49m\u001b[43m)\u001b[49m\n\u001b[1;32m    156\u001b[0m \u001b[38;5;28;01mfor\u001b[39;00m i, output \u001b[38;5;129;01min\u001b[39;00m \u001b[38;5;28menumerate\u001b[39m(outputs):\n\u001b[1;32m    157\u001b[0m     \u001b[38;5;28mself\u001b[39m\u001b[38;5;241m.\u001b[39mclients[output]\u001b[38;5;241m.\u001b[39mappend((\u001b[38;5;124m\"\u001b[39m\u001b[38;5;124moutput\u001b[39m\u001b[38;5;124m\"\u001b[39m, i))\n",
      "File \u001b[0;32m~/opt/miniconda3/envs/pymc/lib/python3.9/site-packages/aesara/graph/fg.py:296\u001b[0m, in \u001b[0;36mFunctionGraph.import_var\u001b[0;34m(self, var, reason, import_missing)\u001b[0m\n\u001b[1;32m    294\u001b[0m \u001b[38;5;66;03m# Imports the owners of the variables\u001b[39;00m\n\u001b[1;32m    295\u001b[0m \u001b[38;5;28;01mif\u001b[39;00m var\u001b[38;5;241m.\u001b[39mowner \u001b[38;5;129;01mand\u001b[39;00m var\u001b[38;5;241m.\u001b[39mowner \u001b[38;5;129;01mnot\u001b[39;00m \u001b[38;5;129;01min\u001b[39;00m \u001b[38;5;28mself\u001b[39m\u001b[38;5;241m.\u001b[39mapply_nodes:\n\u001b[0;32m--> 296\u001b[0m     \u001b[38;5;28;43mself\u001b[39;49m\u001b[38;5;241;43m.\u001b[39;49m\u001b[43mimport_node\u001b[49m\u001b[43m(\u001b[49m\u001b[43mvar\u001b[49m\u001b[38;5;241;43m.\u001b[39;49m\u001b[43mowner\u001b[49m\u001b[43m,\u001b[49m\u001b[43m \u001b[49m\u001b[43mreason\u001b[49m\u001b[38;5;241;43m=\u001b[39;49m\u001b[43mreason\u001b[49m\u001b[43m,\u001b[49m\u001b[43m \u001b[49m\u001b[43mimport_missing\u001b[49m\u001b[38;5;241;43m=\u001b[39;49m\u001b[43mimport_missing\u001b[49m\u001b[43m)\u001b[49m\n\u001b[1;32m    297\u001b[0m \u001b[38;5;28;01melif\u001b[39;00m (\n\u001b[1;32m    298\u001b[0m     var\u001b[38;5;241m.\u001b[39mowner \u001b[38;5;129;01mis\u001b[39;00m \u001b[38;5;28;01mNone\u001b[39;00m\n\u001b[1;32m    299\u001b[0m     \u001b[38;5;129;01mand\u001b[39;00m \u001b[38;5;129;01mnot\u001b[39;00m \u001b[38;5;28misinstance\u001b[39m(var, Constant)\n\u001b[1;32m    300\u001b[0m     \u001b[38;5;129;01mand\u001b[39;00m var \u001b[38;5;129;01mnot\u001b[39;00m \u001b[38;5;129;01min\u001b[39;00m \u001b[38;5;28mself\u001b[39m\u001b[38;5;241m.\u001b[39minputs\n\u001b[1;32m    301\u001b[0m ):\n\u001b[1;32m    302\u001b[0m     \u001b[38;5;28;01mfrom\u001b[39;00m \u001b[38;5;21;01maesara\u001b[39;00m\u001b[38;5;21;01m.\u001b[39;00m\u001b[38;5;21;01mgraph\u001b[39;00m\u001b[38;5;21;01m.\u001b[39;00m\u001b[38;5;21;01mnull_type\u001b[39;00m \u001b[38;5;28;01mimport\u001b[39;00m NullType\n",
      "File \u001b[0;32m~/opt/miniconda3/envs/pymc/lib/python3.9/site-packages/aesara/graph/fg.py:377\u001b[0m, in \u001b[0;36mFunctionGraph.import_node\u001b[0;34m(self, apply_node, check, reason, import_missing)\u001b[0m\n\u001b[1;32m    375\u001b[0m         \u001b[38;5;28mself\u001b[39m\u001b[38;5;241m.\u001b[39mvariables\u001b[38;5;241m.\u001b[39madd(\u001b[38;5;28minput\u001b[39m)\n\u001b[1;32m    376\u001b[0m     \u001b[38;5;28mself\u001b[39m\u001b[38;5;241m.\u001b[39madd_client(\u001b[38;5;28minput\u001b[39m, (node, i))\n\u001b[0;32m--> 377\u001b[0m \u001b[38;5;28;43mself\u001b[39;49m\u001b[38;5;241;43m.\u001b[39;49m\u001b[43mexecute_callbacks\u001b[49m\u001b[43m(\u001b[49m\u001b[38;5;124;43m\"\u001b[39;49m\u001b[38;5;124;43mon_import\u001b[39;49m\u001b[38;5;124;43m\"\u001b[39;49m\u001b[43m,\u001b[49m\u001b[43m \u001b[49m\u001b[43mnode\u001b[49m\u001b[43m,\u001b[49m\u001b[43m \u001b[49m\u001b[43mreason\u001b[49m\u001b[43m)\u001b[49m\n",
      "File \u001b[0;32m~/opt/miniconda3/envs/pymc/lib/python3.9/site-packages/aesara/graph/fg.py:579\u001b[0m, in \u001b[0;36mFunctionGraph.execute_callbacks\u001b[0;34m(self, name, *args, **kwargs)\u001b[0m\n\u001b[1;32m    577\u001b[0m         \u001b[38;5;28;01mcontinue\u001b[39;00m\n\u001b[1;32m    578\u001b[0m     tf0 \u001b[38;5;241m=\u001b[39m time\u001b[38;5;241m.\u001b[39mtime()\n\u001b[0;32m--> 579\u001b[0m     \u001b[43mfn\u001b[49m\u001b[43m(\u001b[49m\u001b[38;5;28;43mself\u001b[39;49m\u001b[43m,\u001b[49m\u001b[43m \u001b[49m\u001b[38;5;241;43m*\u001b[39;49m\u001b[43margs\u001b[49m\u001b[43m,\u001b[49m\u001b[43m \u001b[49m\u001b[38;5;241;43m*\u001b[39;49m\u001b[38;5;241;43m*\u001b[39;49m\u001b[43mkwargs\u001b[49m\u001b[43m)\u001b[49m\n\u001b[1;32m    580\u001b[0m     \u001b[38;5;28mself\u001b[39m\u001b[38;5;241m.\u001b[39mexecute_callbacks_times[feature] \u001b[38;5;241m+\u001b[39m\u001b[38;5;241m=\u001b[39m time\u001b[38;5;241m.\u001b[39mtime() \u001b[38;5;241m-\u001b[39m tf0\n\u001b[1;32m    581\u001b[0m \u001b[38;5;28mself\u001b[39m\u001b[38;5;241m.\u001b[39mexecute_callbacks_time \u001b[38;5;241m+\u001b[39m\u001b[38;5;241m=\u001b[39m time\u001b[38;5;241m.\u001b[39mtime() \u001b[38;5;241m-\u001b[39m t0\n",
      "File \u001b[0;32m~/opt/miniconda3/envs/pymc/lib/python3.9/site-packages/aesara/tensor/basic_opt.py:1326\u001b[0m, in \u001b[0;36mShapeFeature.on_import\u001b[0;34m(self, fgraph, node, reason)\u001b[0m\n\u001b[1;32m   1323\u001b[0m         o_shapes[sh_idx] \u001b[38;5;241m=\u001b[39m \u001b[38;5;28mtuple\u001b[39m(new_shape)\n\u001b[1;32m   1325\u001b[0m \u001b[38;5;28;01mfor\u001b[39;00m r, s \u001b[38;5;129;01min\u001b[39;00m \u001b[38;5;28mzip\u001b[39m(node\u001b[38;5;241m.\u001b[39moutputs, o_shapes):\n\u001b[0;32m-> 1326\u001b[0m     \u001b[38;5;28;43mself\u001b[39;49m\u001b[38;5;241;43m.\u001b[39;49m\u001b[43mset_shape\u001b[49m\u001b[43m(\u001b[49m\u001b[43mr\u001b[49m\u001b[43m,\u001b[49m\u001b[43m \u001b[49m\u001b[43ms\u001b[49m\u001b[43m)\u001b[49m\n",
      "File \u001b[0;32m~/opt/miniconda3/envs/pymc/lib/python3.9/site-packages/aesara/tensor/basic_opt.py:1099\u001b[0m, in \u001b[0;36mShapeFeature.set_shape\u001b[0;34m(self, r, s, override)\u001b[0m\n\u001b[1;32m   1097\u001b[0m         shape_vars\u001b[38;5;241m.\u001b[39mappend(constant(r\u001b[38;5;241m.\u001b[39mtype\u001b[38;5;241m.\u001b[39mshape[i], dtype\u001b[38;5;241m=\u001b[39m\u001b[38;5;124m\"\u001b[39m\u001b[38;5;124mint64\u001b[39m\u001b[38;5;124m\"\u001b[39m))\n\u001b[1;32m   1098\u001b[0m     \u001b[38;5;28;01melse\u001b[39;00m:\n\u001b[0;32m-> 1099\u001b[0m         shape_vars\u001b[38;5;241m.\u001b[39mappend(\u001b[38;5;28;43mself\u001b[39;49m\u001b[38;5;241;43m.\u001b[39;49m\u001b[43munpack\u001b[49m\u001b[43m(\u001b[49m\u001b[43ms\u001b[49m\u001b[43m[\u001b[49m\u001b[43mi\u001b[49m\u001b[43m]\u001b[49m\u001b[43m,\u001b[49m\u001b[43m \u001b[49m\u001b[43mr\u001b[49m\u001b[43m)\u001b[49m)\n\u001b[1;32m   1100\u001b[0m \u001b[38;5;28;01massert\u001b[39;00m \u001b[38;5;28mall\u001b[39m(\n\u001b[1;32m   1101\u001b[0m     \u001b[38;5;129;01mnot\u001b[39;00m \u001b[38;5;28mhasattr\u001b[39m(r\u001b[38;5;241m.\u001b[39mtype, \u001b[38;5;124m\"\u001b[39m\u001b[38;5;124mbroadcastable\u001b[39m\u001b[38;5;124m\"\u001b[39m) \u001b[38;5;129;01mor\u001b[39;00m \u001b[38;5;129;01mnot\u001b[39;00m r\u001b[38;5;241m.\u001b[39mtype\u001b[38;5;241m.\u001b[39mbroadcastable[i] \u001b[38;5;129;01mor\u001b[39;00m\n\u001b[1;32m   1102\u001b[0m     \u001b[38;5;66;03m# The two following comparison are a speed optimization\u001b[39;00m\n\u001b[0;32m   (...)\u001b[0m\n\u001b[1;32m   1106\u001b[0m     \u001b[38;5;28;01mfor\u001b[39;00m i \u001b[38;5;129;01min\u001b[39;00m \u001b[38;5;28mrange\u001b[39m(r\u001b[38;5;241m.\u001b[39mtype\u001b[38;5;241m.\u001b[39mndim)\n\u001b[1;32m   1107\u001b[0m )\n\u001b[1;32m   1108\u001b[0m \u001b[38;5;28mself\u001b[39m\u001b[38;5;241m.\u001b[39mshape_of[r] \u001b[38;5;241m=\u001b[39m \u001b[38;5;28mtuple\u001b[39m(shape_vars)\n",
      "File \u001b[0;32m~/opt/miniconda3/envs/pymc/lib/python3.9/site-packages/aesara/tensor/basic_opt.py:999\u001b[0m, in \u001b[0;36mShapeFeature.unpack\u001b[0;34m(self, s_i, var)\u001b[0m\n\u001b[1;32m    990\u001b[0m \u001b[38;5;124;03m\"\"\"Return a symbolic integer scalar for the shape element s_i.\u001b[39;00m\n\u001b[1;32m    991\u001b[0m \n\u001b[1;32m    992\u001b[0m \u001b[38;5;124;03mThe s_i argument was produced by the infer_shape() of an Op subclass.\u001b[39;00m\n\u001b[0;32m   (...)\u001b[0m\n\u001b[1;32m    996\u001b[0m \n\u001b[1;32m    997\u001b[0m \u001b[38;5;124;03m\"\"\"\u001b[39;00m\n\u001b[1;32m    998\u001b[0m \u001b[38;5;66;03m# unpack the s_i that the Op returned\u001b[39;00m\n\u001b[0;32m--> 999\u001b[0m \u001b[38;5;28;01massert\u001b[39;00m s_i \u001b[38;5;129;01mis\u001b[39;00m \u001b[38;5;129;01mnot\u001b[39;00m \u001b[38;5;28;01mNone\u001b[39;00m\n\u001b[1;32m   1000\u001b[0m \u001b[38;5;28;01mif\u001b[39;00m s_i \u001b[38;5;241m==\u001b[39m \u001b[38;5;241m1\u001b[39m:\n\u001b[1;32m   1001\u001b[0m     \u001b[38;5;66;03m# don't make the optimizer merge a zillion ones together\u001b[39;00m\n\u001b[1;32m   1002\u001b[0m     \u001b[38;5;66;03m# by always returning the same object to represent 1\u001b[39;00m\n\u001b[1;32m   1003\u001b[0m     \u001b[38;5;28;01mreturn\u001b[39;00m \u001b[38;5;28mself\u001b[39m\u001b[38;5;241m.\u001b[39mlscalar_one\n",
      "\u001b[0;31mAssertionError\u001b[0m: "
     ]
    }
   ],
   "source": [
    "x = xgrid[ygrid==np.max(ygrid)][0]\n",
    "x[0] = np.round(x[0], decimals=0)\n",
    "x = x.reshape(1, -1)\n",
    "with model: \n",
    "    _, _ = gp.predict(xgrid[0:1, :], pred_noise=True, diag=True, point=mp)\n",
    "# acquisition(x0, gp, model, mp,  mu_best)\n",
    "# bounds = [(0, 1), (3, 4), (-1, 4), (3, 4), (-2, 4), (-2, 2)]\n",
    "# res = minimize(acquisition,x0=x0, method='nelder-mead', options={'disp': True},  \n",
    "#                args=(gp, model, mp,  mu_best), bounds=bounds)\n"
   ]
  },
  {
   "cell_type": "code",
   "execution_count": null,
   "id": "a99ff9e0-030e-42ca-9b63-d702d84fafd1",
   "metadata": {},
   "outputs": [],
   "source": [
    "with model: \n",
    "    ygrid, vgrid = gp.predict(xgrid, point=mp, pred_noise=True, diag=True)\n",
    "    "
   ]
  },
  {
   "cell_type": "code",
   "execution_count": null,
   "id": "1c1ef978-e74d-4b9e-9106-017250d492ab",
   "metadata": {},
   "outputs": [],
   "source": []
  }
 ],
 "metadata": {
  "kernelspec": {
   "display_name": "Python 3 (ipykernel)",
   "language": "python",
   "name": "python3"
  },
  "language_info": {
   "codemirror_mode": {
    "name": "ipython",
    "version": 3
   },
   "file_extension": ".py",
   "mimetype": "text/x-python",
   "name": "python",
   "nbconvert_exporter": "python",
   "pygments_lexer": "ipython3",
   "version": "3.9.0"
  }
 },
 "nbformat": 4,
 "nbformat_minor": 5
}
