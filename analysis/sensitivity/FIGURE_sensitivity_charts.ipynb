{
 "cells": [
  {
   "cell_type": "code",
   "execution_count": 1,
   "id": "8a3a5c0e-8354-4b34-a744-fe8b45f322f1",
   "metadata": {},
   "outputs": [],
   "source": [
    "import arviz as az\n",
    "import pymc as pm\n",
    "# import arviz.labels as azl\n",
    "\n",
    "import matplotlib.pyplot as plt\n",
    "import seaborn as sns\n",
    "from pathlib import Path\n",
    "import pickle\n",
    "import matplotlib as mpl\n",
    "import warnings\n",
    "import numpy as np\n",
    "warnings.simplefilter(action='ignore', category=FutureWarning)\n",
    "import pandas as pd\n",
    "from pathlib import Path"
   ]
  },
  {
   "cell_type": "markdown",
   "id": "7630220e-f72e-4b98-9e47-bbe58cea9086",
   "metadata": {},
   "source": [
    "## Reestimate model because of pickle problems"
   ]
  },
  {
   "cell_type": "code",
   "execution_count": 2,
   "id": "1239c466-4c24-4cac-9d7a-d659bf154b10",
   "metadata": {},
   "outputs": [],
   "source": [
    "def gamma(alpha, beta):\n",
    "    def g(x):\n",
    "        return pm.Gamma(x, alpha=alpha, beta=beta)\n",
    "    return g\n",
    "\n",
    "def hcauchy(beta):\n",
    "    def g(x):\n",
    "        return pm.HalfCauchy(x, beta=beta)\n",
    "    return g\n",
    "\n",
    "\n",
    "def fit_gp(y, X, l_prior, eta_prior, sigma_prior, kernel_type='M52', bayes_kws=dict(draws=1000, tune=1000, chains=2, cores=1), prop_Xu=None):\n",
    "    \"\"\"\n",
    "    function to return a pymc3 model\n",
    "    y : dependent variable\n",
    "    X : independent variables\n",
    "    prop_Xu : number of inducing varibles to use. If None, use full marginal likelihood. If not none, use FTIC. \n",
    "    bayes_kw : kws for pm.sample\n",
    "    X, y are dataframes. We'll use the column names. \n",
    "    \"\"\"\n",
    "    kernel_type = kernel_type.lower()\n",
    "    with pm.Model() as model:\n",
    "        # Covert arrays\n",
    "        X_a = X.values\n",
    "        y_a = y.values.flatten()\n",
    "        X_cols = list(X.columns)\n",
    "\n",
    "        \n",
    "        # Kernels\n",
    "        # 3 way interaction\n",
    "        eta = eta_prior('eta')\n",
    "        cov = eta**2\n",
    "        covs = []\n",
    "        for i in range(X_a.shape[1]):\n",
    "            var_lab = 'l_'+X_cols[i]\n",
    "            if kernel_type=='rbf':\n",
    "                covs.append(pm.gp.cov.ExpQuad(X_a.shape[1], ls=l_prior(var_lab), active_dims=[i]))\n",
    "            if kernel_type=='exponential':\n",
    "                covs.append(pm.gp.cov.Exponential(X_a.shape[1], ls=l_prior(var_lab), active_dims=[i]))\n",
    "            if kernel_type=='m52':\n",
    "                covs.append(pm.gp.cov.Matern52(X_a.shape[1], ls=l_prior(var_lab), active_dims=[i]))\n",
    "            if kernel_type=='m32':\n",
    "                covs.append(pm.gp.cov.Matern32(X_a.shape[1], ls=l_prior(var_lab), active_dims=[i]))\n",
    "            if kernel_type=='m12':\n",
    "                covs.append(pm.gp.cov.Matern12(X_a.shape[1], ls=l_prior(var_lab), active_dims=[i]))\n",
    "        # Covariance model\n",
    "        cov_tot = np.sum(covs)*cov\n",
    "        \n",
    "        # Noise model\n",
    "        sigma_n =sigma_prior('sigma_n')\n",
    "\n",
    "        # Model\n",
    "        if not (prop_Xu is None):\n",
    "            # Inducing variables\n",
    "            num_Xu = int(X_a.shape[0]*prop_Xu)\n",
    "            Xu = pm.gp.util.kmeans_inducing_points(num_Xu, X_a)\n",
    "            gp = pm.gp.MarginalSparse(cov_func=cov_tot, approx=\"FITC\")\n",
    "            y_ = gp.marginal_likelihood('y_', X=X_a, y=y_a, Xu=Xu, noise=sigma_n)\n",
    "        else:\n",
    "            gp = pm.gp.Marginal(cov_func=cov_tot)\n",
    "            y_ = gp.marginal_likelihood('y_', X=X_a, y=y_a, noise=sigma_n)\n",
    "            \n",
    "        \n",
    "        if not (bayes_kws is None):\n",
    "            trace = pm.sample(**bayes_kws)\n",
    "            result = trace\n",
    "        else:\n",
    "            start_val = 1\n",
    "            x0 = dict(zip(['l_'+X_cols[i] for i in range(len(X_cols))], [start_val]*len(X_cols)))\n",
    "            x0.update({ 'eta': 1, 'sigma_n': 1})\n",
    "\n",
    "            options={'disp': None, 'maxcor': 10, \n",
    "                     'ftol': 2.220446049250313e-12, 'gtol': 1e-12, \n",
    "                     'eps': 1e-12, 'maxfun': 15000, 'maxiter': 15000, \n",
    "                     'iprint': - 1, 'maxls': 20, \n",
    "                     'finite_diff_rel_step': None}\n",
    "            mp = pm.find_MAP(start = x0, options=options)\n",
    "            result = mp\n",
    "    \n",
    "    return gp, result, model\n",
    "\n",
    "def bootstrap(n_samples,y, X, seed=42, **kwargs):\n",
    "    rng = np.random.default_rng(seed)\n",
    "    all_params = []\n",
    "    all_preds = []\n",
    "    i = 0\n",
    "    j = 0\n",
    "    while (i < n_samples) and (j < 250):\n",
    "        print(' ', i, end=', ')\n",
    "        ix = np.array(y.index)\n",
    "        bs_ix = rng.choice(ix, size=len(ix), replace=True)\n",
    "        new_y, new_X = y.loc[bs_ix, :], X.loc[bs_ix, :]\n",
    "        try: \n",
    "            gp, mp, model = fit_gp(new_y, new_X, **kwargs)\n",
    "            all_params.append(mp)\n",
    "            with model:\n",
    "                y_pred, var = gp.predict(new_X.values, point=mp, diag=True)\n",
    "                all_preds.append((new_y, y_pred, var))\n",
    "            i += 1\n",
    "            \n",
    "        except Exception as e: \n",
    "            print('error', e)\n",
    "        print(j, end=', ')\n",
    "\n",
    "        j += 1\n",
    "        \n",
    "    print()\n",
    "\n",
    "    return all_params, all_preds\n",
    "        "
   ]
  },
  {
   "cell_type": "code",
   "execution_count": 3,
   "id": "3b00f7ac-51ae-4368-8564-796efcf1c846",
   "metadata": {},
   "outputs": [],
   "source": [
    "root_path = '../1fme/sensitivity/ts'\n",
    "experiments = [\n",
    "    ['dihedrals', None, 'exponential', 'ts' ], \n",
    "    ['distances', 'linear', 'exponential', 'ts' ], \n",
    "    ['distances', 'logistic', 'exponential', 'ts'], \n",
    "    ['distances', 'logistic', 'exponential', 'ei']]\n"
   ]
  },
  {
   "cell_type": "code",
   "execution_count": 4,
   "id": "559284fe-f00e-44ac-a10c-543baa9a7b1c",
   "metadata": {},
   "outputs": [],
   "source": [
    "l_prior = gamma(1, 0.5)\n",
    "eta_prior = hcauchy(1)\n",
    "sigma_prior = hcauchy(1)\n"
   ]
  },
  {
   "cell_type": "code",
   "execution_count": 5,
   "id": "40fc8308-2498-4098-ae81-8a944f3c893d",
   "metadata": {
    "tags": []
   },
   "outputs": [],
   "source": [
    "# models = []\n",
    "\n",
    "# params = []\n",
    "# preds = []\n",
    "# n_boot = 100\n",
    "\n",
    "# for i, (feat, trans, kernel, dv) in enumerate(experiments):\n",
    "#     print(feat, trans, kernel)\n",
    "#     kwargs = dict(l_prior=l_prior, eta_prior=eta_prior, sigma_prior=sigma_prior,  # Priors\n",
    "#                   kernel_type=kernel,  # Kernel\n",
    "#                   prop_Xu=None,  # proportion of data points which are inducing variables.\n",
    "#                   bayes_kws=None)    \n",
    "    \n",
    "#     if dv == 'vamp2_eq':\n",
    "#         results_path = Path(root_path).resolve().joinpath(f\"{feat}_{trans}_{kernel}_mml.pkl\")\n",
    "\n",
    "#         results = pickle.load(results_path.open('rb'))\n",
    "#         data_s = results['data']\n",
    "#         y, X = data_s.iloc[:, [0]], data_s.iloc[:, 1:]\n",
    "#     elif dv == 'ei': \n",
    "#         results_path = Path(root_path).resolve().joinpath(f\"{feat}_{trans}_{kernel}_with_ei.pkl\")\n",
    "#         results = pickle.load(results_path.open('rb'))\n",
    "#         data_s = results['data_s']\n",
    "#         y, X = data_s.iloc[:, [0]], data_s.iloc[:, 1:]    \n",
    "#     elif dv == 'ts':\n",
    "#         results_path = Path(root_path).resolve().joinpath(f\"{feat}_{trans}_{kernel}.pkl\")\n",
    "\n",
    "#         results = pickle.load(results_path.open('rb'))\n",
    "#         data_s = results['data_s']\n",
    "#         y, X = data_s.iloc[:, [0]], data_s.iloc[:, 1:]    \n",
    "        \n",
    "#     param, pred = bootstrap(n_boot, y, X, **kwargs)\n",
    "#     params.append(param)\n",
    "#     preds.append(pred)"
   ]
  },
  {
   "cell_type": "markdown",
   "id": "bf8a491d-c389-429a-9ffc-e6093a6dfbf8",
   "metadata": {},
   "source": [
    "Collate results"
   ]
  },
  {
   "cell_type": "code",
   "execution_count": 6,
   "id": "43859798-62b1-4f2b-93cc-a3a1f715cf22",
   "metadata": {},
   "outputs": [],
   "source": [
    "# param_df = []\n",
    "# keep_params = ['l_dim', 'l_lag', 'l_states', 'feature', 'l_cent', 'l_steep']\n",
    "# dv_label_dict = dict(ts = r\"$\\log{t_{2}}$\", ei = r\"$\\log{\\mathbb{E}[I]}$\")\n",
    "                     \n",
    "# for i, experiment in enumerate(experiments): \n",
    "#     bs_params = params[i]\n",
    "#     lab = experiment[0]\n",
    "#     if experiment[1] is not None: \n",
    "#         lab += f\"-{experiment[1]}\"\n",
    "#     lab +=  f\"\\n(y={dv_label_dict[experiment[-1]]})\"\n",
    "    \n",
    "#     df = pd.concat([pd.DataFrame(x, index=[j]) for j, x in enumerate(bs_params)])\n",
    "#     df['feature'] = lab    \n",
    "#     param_df.append(df)\n",
    "    \n",
    "# param_df = pd.concat(param_df)\n",
    "# param_df = param_df.loc[:, keep_params]\n",
    "# param_df_m = param_df.melt(id_vars=['feature'], var_name='hyperparameter')\n",
    "# param_df_m['R'] = 1.0/param_df_m['value']\n",
    "\n",
    "# var_name_map={\"l_states\": r\"Num. states\", \n",
    "#             \"l_dim\": r\"Num. dims\", \n",
    "#             \"l_lag\": r\"$\\tau_{tICA}$\", \n",
    "#             \"l_cent\": r\"Centre\", \n",
    "#              \"l_steep\": r\"Steepness\"}\n",
    "\n",
    "# param_df_m['hyperparameter'] = param_df_m['hyperparameter'].apply(lambda x: var_name_map[x])"
   ]
  },
  {
   "cell_type": "code",
   "execution_count": 7,
   "id": "5776e9d7-e3e7-4678-8302-eb6929f89cd5",
   "metadata": {},
   "outputs": [],
   "source": [
    "# param_df_m.to_hdf(Path(root_path).parent.joinpath('sensitivity_bootstrap.h5'), \n",
    "#                  key='sensitivity_bootstrap')\n",
    "\n",
    "param_df_m = pd.read_hdf(Path(root_path).parent.joinpath('sensitivity_bootstrap.h5'), \n",
    "                 key='sensitivity_bootstrap')"
   ]
  },
  {
   "cell_type": "markdown",
   "id": "41f64720-2499-4b1e-9f2b-bae39bc0bb4c",
   "metadata": {},
   "source": [
    "## Sensitivity plot"
   ]
  },
  {
   "cell_type": "code",
   "execution_count": 8,
   "id": "b08019c3-adec-4464-8720-99e5af398e1f",
   "metadata": {},
   "outputs": [],
   "source": [
    "short_names = {'dihedrals': 'dihed.', 'distances-logistic': 'logit(dist.)', 'distances-linear': \n",
    "              'dist.'}\n",
    "\n",
    "def f(x):\n",
    "    for short, long in short_names.items(): \n",
    "        x = x.replace(short, long)\n",
    "    return x\n",
    "\n",
    "param_df_m['feature'] = param_df_m['feature'].apply(f)"
   ]
  },
  {
   "cell_type": "code",
   "execution_count": 9,
   "id": "4e82fc72-e68c-4980-a229-76163cb27ed2",
   "metadata": {},
   "outputs": [
    {
     "data": {
      "image/png": "[encoded data removed]",
      "text/plain": [
       "<Figure size 432x288 with 1 Axes>"
      ]
     },
     "metadata": {
      "needs_background": "light"
     },
     "output_type": "display_data"
    }
   ],
   "source": [
    "with sns.plotting_context('paper', font_scale=1.25): \n",
    "    fig, ax = plt.subplots(1)\n",
    "\n",
    "    sns.boxplot(y='feature', x='R', hue='hyperparameter', data=param_df_m,ax=ax, \n",
    "               whis=(0, 100), orient='h', linewidth=0.5)\n",
    "    h, l = ax.get_legend_handles_labels()\n",
    "    ax.legend(h, l,  loc='lower right', \n",
    "              framealpha=0.5, frameon=True, edgecolor='w')\n",
    "    \n",
    "    \n",
    "    ax.set_xlim(0.9, 1.1)\n",
    "    ax.xaxis.set_major_locator(mpl.ticker.MultipleLocator(0.05))\n",
    "    ax.xaxis.set_minor_locator(mpl.ticker.MultipleLocator(0.01))\n",
    "    ax.grid(which='both')\n",
    "    ax.set_axisbelow(True)\n",
    "    ax.set_xlabel(r'$R = \\frac{1}{l}$')\n",
    "    # ax.set_xscale('log')\n",
    "    plt.savefig(Path(root_path).parent.joinpath('sensitivity.pdf'), bbox_inches='tight')\n",
    "    "
   ]
  },
  {
   "cell_type": "markdown",
   "id": "05f88851-4ad5-47f7-8471-86a4eea96278",
   "metadata": {},
   "source": [
    "## Response surface plots"
   ]
  },
  {
   "cell_type": "code",
   "execution_count": 12,
   "id": "6e0315e9-9098-477b-a86a-fbb410633e94",
   "metadata": {},
   "outputs": [
    {
     "name": "stdout",
     "output_type": "stream",
     "text": [
      "distances logistic exponential ei\n"
     ]
    },
    {
     "data": {
      "text/html": [
       "\n",
       "<style>\n",
       "    /* Turns off some styling */\n",
       "    progress {\n",
       "        /* gets rid of default border in Firefox and Opera. */\n",
       "        border: none;\n",
       "        /* Needs to be in here for Safari polyfill so background images work as expected. */\n",
       "        background-size: auto;\n",
       "    }\n",
       "    .progress-bar-interrupted, .progress-bar-interrupted::-webkit-progress-bar {\n",
       "        background: #F44336;\n",
       "    }\n",
       "</style>\n"
      ],
      "text/plain": [
       "<IPython.core.display.HTML object>"
      ]
     },
     "metadata": {},
     "output_type": "display_data"
    },
    {
     "data": {
      "text/html": [
       "\n",
       "    <div>\n",
       "      <progress value='44' class='' max='44' style='width:300px; height:20px; vertical-align: middle;'></progress>\n",
       "      100.00% [44/44 00:00<00:00 logp = -34.748, ||grad|| = 31.301]\n",
       "    </div>\n",
       "    "
      ],
      "text/plain": [
       "<IPython.core.display.HTML object>"
      ]
     },
     "metadata": {},
     "output_type": "display_data"
    },
    {
     "name": "stdout",
     "output_type": "stream",
     "text": [
      "\n"
     ]
    }
   ],
   "source": [
    "(feat, trans, kernel, dv)  = experiments[3]\n",
    "print(feat, trans, kernel, dv)\n",
    "kwargs = dict(l_prior=l_prior, eta_prior=eta_prior, sigma_prior=sigma_prior,  # Priors\n",
    "              kernel_type=kernel,  # Kernel\n",
    "              prop_Xu=None,  # proportion of data points which are inducing variables.\n",
    "              bayes_kws=None)    \n",
    "\n",
    "if dv == 'vamp2_eq':\n",
    "    results_path = Path(root_path).resolve().joinpath(f\"{feat}_{trans}_{kernel}_mml.pkl\")\n",
    "\n",
    "    results = pickle.load(results_path.open('rb'))\n",
    "    data_s = results['data']\n",
    "    y, X = data_s.iloc[:, [0]], data_s.iloc[:, 1:]\n",
    "elif dv == 'ei': \n",
    "    results_path = Path(root_path).resolve().joinpath(f\"{feat}_{trans}_{kernel}_with_ei.pkl\")\n",
    "    results = pickle.load(results_path.open('rb'))\n",
    "    data_s = results['data_s']\n",
    "    y, X = data_s.iloc[:, [0]], data_s.iloc[:, 1:]    \n",
    "elif dv == 'ts':\n",
    "    results_path = Path(root_path).resolve().joinpath(f\"{feat}_{trans}_{kernel}.pkl\")\n",
    "\n",
    "    results = pickle.load(results_path.open('rb'))\n",
    "    data_s = results['data_s']\n",
    "    y, X = data_s.iloc[:, [0]], data_s.iloc[:, 1:]    \n",
    "\n",
    "gp, mp, model = fit_gp(y, X, **kwargs)\n"
   ]
  },
  {
   "cell_type": "markdown",
   "id": "255045e1-1ce9-45c6-9c5b-aba030d2fe8d",
   "metadata": {},
   "source": [
    "### Heat map over most relevant dimensions"
   ]
  },
  {
   "cell_type": "markdown",
   "id": "12980bec-1997-4261-aa6e-2fb85574a49f",
   "metadata": {},
   "source": [
    "We're going to plot steepness and centre variables as a contour map. Then we keep all other variables at the values which maximize the *observed* surface. "
   ]
  },
  {
   "cell_type": "code",
   "execution_count": 13,
   "id": "45e6b7ff-dbf6-49e4-ad5f-ec62214a53de",
   "metadata": {},
   "outputs": [],
   "source": [
    "pred_ei, pred_var = gp.predict(Xnew=X.values, point=mp, model=model, diag=True, pred_noise=True)\n",
    "max_ix = np.argmax(pred_ei)\n",
    "hold_vals = X.values[max_ix, :]\n"
   ]
  },
  {
   "cell_type": "code",
   "execution_count": 17,
   "id": "91793249-6a91-4768-8cdf-fa3c3e04c03e",
   "metadata": {},
   "outputs": [],
   "source": [
    "# Scaling parameters from CALC_optimisation\n",
    "\n",
    "# xmin, xmax = min_s, max_s\n",
    "if dv == 'ei': \n",
    "    iqr, median = 8.807052668480674, -9.996184378841864\n",
    "    min_s, max_s = -4.801855202786361, 1.106684867374743\n",
    "elif dv == 'ts': \n",
    "    min_s, max_s = -2.5680505392801685, 3.965207192114922\n",
    "    median, iqr = 7.608876608833085, 0.6489738308067583    \n",
    "\n",
    "\n",
    "\n",
    "def unscale_x(x, ix):\n",
    "\n",
    "    hp_path = '../../experiments/hpsample.h5'\n",
    "    hps = pd.read_hdf(hp_path)\n",
    "    hps.reset_index(inplace=True)\n",
    "\n",
    "    data = hps.loc[:, ['distances__scheme', 'tica__dim', 'tica__lag', 'cluster__k', \n",
    "                'distances__steepness', 'distances__centre']]\n",
    "    # print(data.columns[ix])\n",
    "    data['distances__scheme'] = data['distances__scheme'].apply(lambda x: 1*(x == 'closest-heavy'))\n",
    "    data = data.values\n",
    "\n",
    "    xmin, xmax = data.min(axis=0), data.max(axis=0)\n",
    "    xmin, xmax = xmin[ix], xmax[ix]\n",
    "    \n",
    "    x_unscaled = (x - min_s)*(xmax - xmin)/(max_s - min_s) + xmin\n",
    "    if ix == 0: \n",
    "        x_unscaled = x\n",
    "        \n",
    "    return x_unscaled\n",
    "\n",
    "def unscale_y(y, dv): \n",
    "    # xmin, xmax = min_s, max_s\n",
    "    if dv == 'ei': \n",
    "        iqr, median = 8.807052668480674, -9.996184378841864\n",
    "        min_s, max_s = -4.801855202786361, 1.106684867374743\n",
    "    elif dv == 'ts': \n",
    "        min_s, max_s = -2.5680505392801685, 3.965207192114922\n",
    "        median, iqr = 7.608876608833085, 0.6489738308067583    \n",
    "\n",
    "    \n",
    "    return y*iqr + median\n"
   ]
  },
  {
   "cell_type": "code",
   "execution_count": 18,
   "id": "b22391fe-1fc8-463d-bef7-75dc483592a6",
   "metadata": {},
   "outputs": [],
   "source": [
    "var_name_map={\"states\": r\"Num. states ($n$)\", \n",
    "            \"dim\": r\"Num. dims ($m$)\", \n",
    "            \"lag\": r\"TICA lag ($\\tau_{T}$, ns)\", \n",
    "            \"cent\": r\"Centre ($c$, $\\AA$)\", \n",
    "             \"steep\": r\"Steepness ($s$, $\\AA$\"+r\"$^{-1}$)\", \n",
    "             \"scheme[T.closest-heavy]\": \"Scheme ($d$)\"}\n"
   ]
  },
  {
   "cell_type": "code",
   "execution_count": 25,
   "id": "aa8b1ecd-f638-4c16-899a-399a43940cc1",
   "metadata": {},
   "outputs": [],
   "source": [
    "plot_ij = [4, 5]\n",
    "hold_ij = [0, 1, 2, 3]\n",
    "n_points = 50\n",
    "\n",
    "Xmin, Xmax = X.min(axis=0), X.max(axis=0)\n",
    "\n",
    "xxs = [np.repeat(hold_vals[i], 1) for i in hold_ij]\n",
    "xxs =  xxs + [np.linspace(Xmin[i], Xmax[i], n_points) for i in plot_ij]\n",
    "\n",
    "\n",
    "xxs = np.meshgrid(*xxs, indexing='ij')\n",
    "Xnew = np.concatenate([x.reshape(-1, 1) for x in xxs], axis=1)\n",
    "ynew, _ = gp.predict(Xnew=Xnew, point=mp, model=model, diag=True, pred_noise=True)\n",
    "\n",
    "\n",
    "Y = ynew.reshape(n_points, n_points)\n",
    "if dv == 'ts':\n",
    "    Y = np.exp(unscale_y(Y, dv='ts'))\n",
    "elif dv == 'ei':\n",
    "    # get ei on ts scale (not scaled ts scale)\n",
    "    tmp = np.exp(unscale_y(Y, dv='ei'))\n",
    "    Y = np.exp(unscale_y(tmp, dv='ts'))\n",
    "    \n",
    "    \n",
    "X1 = Xnew[..., plot_ij[0]].reshape(n_points, n_points) # Steepness\n",
    "X1 = unscale_x(X1, plot_ij[0])\n",
    "X2 = Xnew[..., plot_ij[1]].reshape(n_points, n_points) # Center\n",
    "X2 = unscale_x(X2, plot_ij[1])\n",
    "\n",
    "\n",
    "hold_label = \"\"\n",
    "for ix in hold_ij:\n",
    "    var_name = var_name_map[list(X.columns)[ix]]\n",
    "    hold_label += f\"{var_name}: \"\n",
    "\n",
    "    val = unscale_x(hold_vals[ix], ix)\n",
    "    if 'Scheme' in var_name: \n",
    "        val = ['$X-X$', r'C$\\alpha$-C$\\alpha$'][int(val)]\n",
    "        hold_label += f\"{val}\\n\"\n",
    "    else:\n",
    "        hold_label += f\"{int(val):d}\\n\"\n",
    "    \n"
   ]
  },
  {
   "cell_type": "code",
   "execution_count": 26,
   "id": "277bacce-9696-4536-b099-68bd151bcf1b",
   "metadata": {},
   "outputs": [
    {
     "data": {
      "image/png": "[encoded data removed]",
      "text/plain": [
       "<Figure size 432x288 with 2 Axes>"
      ]
     },
     "metadata": {
      "needs_background": "light"
     },
     "output_type": "display_data"
    }
   ],
   "source": [
    "with sns.plotting_context('paper', font_scale=1):\n",
    "    fig, axes = plt.subplots(1, figsize=(6, 4))\n",
    "    ax = axes\n",
    "    \n",
    "    cbar = ax.contourf(X1/10, X2*10,  Y, levels=10)\n",
    "    ax.set_ylabel(var_name_map['cent'])\n",
    "    ax.set_xlabel(var_name_map['steep'])\n",
    "    fig.colorbar(cbar, label = r\"Expected Improvement (ns)\")\n",
    "    \n",
    "    ax.annotate(text=hold_label, xy=(0.99, 0.99), xycoords='axes fraction', ha='right', va='top', \n",
    "                c='w')\n",
    "    plt.savefig(Path(root_path).parent.joinpath(f'surface_{feat}_{trans}_{dv}.pdf'), bbox_inches='tight')\n"
   ]
  },
  {
   "cell_type": "markdown",
   "id": "a11bc209-fe85-4d66-8811-1c7b563bf4ea",
   "metadata": {},
   "source": [
    "### Pair plots"
   ]
  },
  {
   "cell_type": "code",
   "execution_count": 63,
   "id": "eab4955b-4fa9-4aba-9a73-1589481fede0",
   "metadata": {},
   "outputs": [],
   "source": [
    "\n",
    "plot_ys = [np.max(pred_ei)]\n",
    "cont_idxs = [(pred_ei == x).flatten() for x in plot_ys]\n",
    "cont_Xs = [X.values[ix,:] for ix  in cont_idxs]\n",
    "\n",
    "\n",
    "plot_y_labels = ['Response\\nsurface']\n",
    "\n",
    "gp_cols = sns.color_palette(\"colorblind\", 3)\n",
    "# gp_cols = [gp_cols[i] for i in [0, 5, 10]]\n",
    "x_col = gp_cols[2]"
   ]
  },
  {
   "cell_type": "code",
   "execution_count": 66,
   "id": "28679b74-397a-44a9-a646-bb6046bdb2b8",
   "metadata": {},
   "outputs": [
    {
     "data": {
      "image/png": "[encoded data removed]",
      "text/plain": [
       "<Figure size 432x432 with 6 Axes>"
      ]
     },
     "metadata": {
      "needs_background": "light"
     },
     "output_type": "display_data"
    }
   ],
   "source": [
    "\n",
    "with sns.plotting_context('paper', font_scale=1.25):\n",
    "    \n",
    "    fig, axes = plt.subplots(3, 2,  sharey=True, sharex=False, figsize=(6, 6))\n",
    "    xlabels = list(X.columns)\n",
    "    n_points = 10\n",
    "\n",
    "    for i, ax in enumerate(axes.flatten()): \n",
    "        if i < X.shape[1]:\n",
    "            plot_X = X.values[:, i]\n",
    "            ax.annotate(text=f\"({list('abcdefg')[i]})\", xy=(0.03, 0.95), xycoords='axes fraction', \n",
    "                        ha='left', va='top')\n",
    "            \n",
    "            hp_col_num = i + 1*(feat == 'dihedrals')\n",
    "\n",
    "            for j in range(len(cont_Xs)): \n",
    "                xxs = [np.array(x[k]) for x in cont_Xs[j] for k in range(len(x))]\n",
    "                xxs[i] = np.linspace(plot_X.min(), plot_X.max(), n_points)\n",
    "                xxs = np.meshgrid(*xxs)\n",
    "                xxs = [xx.reshape(-1, 1) for xx in xxs]\n",
    "                plot_Xgrid = np.concatenate(xxs, axis=1)\n",
    "                plot_y, plot_var = gp.predict(Xnew=plot_Xgrid, point=mp, model=model, diag=True, pred_noise=True)\n",
    "                plot_err = 2*np.sqrt(plot_var)\n",
    "                \n",
    "                \n",
    "                ax.plot(unscale_x(x=xxs[i],ix=hp_col_num), unscale_y(plot_y), color=gp_cols[j], label=plot_y_labels[j])\n",
    "            \n",
    "                ax.fill_between(unscale_x(x=xxs[i],ix=hp_col_num).flatten(), unscale_y(plot_y-plot_err), unscale_y(plot_y+plot_err), color=gp_cols[j], alpha=0.5)\n",
    "                \n",
    "            # ax.scatter(unscale_x(plot_X, hp_col_num), unscale_y(pred_ei), marker='x', s=10, color='k', label='Data')\n",
    "\n",
    "            ax.set_xlabel(var_name_map[xlabels[i]])\n",
    "            if (i == 0) & (feat != 'dihedrals'):\n",
    "                ax.xaxis.set_major_locator(mpl.ticker.FixedLocator([0, 1]))\n",
    "                ax.xaxis.set_major_formatter(mpl.ticker.FixedFormatter([r'$\\alpha$-C', 'C-H']))\n",
    "\n",
    "            # if i == 1: \n",
    "            #     ax.legend(bbox_to_anchor=(1, 1), loc='upper left')\n",
    "\n",
    "            if i in [0, 2, 4]: \n",
    "                if dv == 'ei':\n",
    "                    ax.set_ylabel(r\"$\\log{\\mathbf{E}[I]}$\")\n",
    "                elif dv == 'ts': \n",
    "                    ax.set_ylabel(r\"$\\log{t_{2}}$\")\n",
    "        else: \n",
    "            ax.set_axis_off()\n",
    "    plt.tight_layout(pad=0.2)\n",
    "    plt.savefig(Path(root_path).parent.joinpath(f'response_surface_marginal_{feat}_{trans}_{dv}.pdf'), bbox_inches='tight')\n"
   ]
  },
  {
   "cell_type": "code",
   "execution_count": null,
   "id": "5d55ddd2-a703-437f-a381-2e2e5a58085e",
   "metadata": {},
   "outputs": [],
   "source": []
  }
 ],
 "metadata": {
  "kernelspec": {
   "display_name": "Python 3 (ipykernel)",
   "language": "python",
   "name": "python3"
  },
  "language_info": {
   "codemirror_mode": {
    "name": "ipython",
    "version": 3
   },
   "file_extension": ".py",
   "mimetype": "text/x-python",
   "name": "python",
   "nbconvert_exporter": "python",
   "pygments_lexer": "ipython3",
   "version": "3.9.0"
  }
 },
 "nbformat": 4,
 "nbformat_minor": 5
}
