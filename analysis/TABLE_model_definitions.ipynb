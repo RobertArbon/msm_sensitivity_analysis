{
 "cells": [
  {
   "cell_type": "code",
   "execution_count": 38,
   "id": "c2d92cee-f8a2-4225-a3cd-420da2be471b",
   "metadata": {},
   "outputs": [],
   "source": [
    "import numpy as np\n",
    "from pathlib import Path\n",
    "import pandas as pd\n",
    "\n"
   ]
  },
  {
   "cell_type": "code",
   "execution_count": 64,
   "id": "ff7ef102-1f66-4ee7-a8a2-1448a26253fd",
   "metadata": {},
   "outputs": [],
   "source": [
    "summary_path = '../data/msms/1fme/summary.h5'\n",
    "selection = pd.read_hdf(summary_path, key='model_selection')\n",
    "hp_definitions = pd.read_hdf('../data/msms/hpsample.h5', key='hyperparameters')\n",
    "vamps = pd.read_hdf(summary_path, key='vamps')\n",
    "vamps.reset_index(inplace=True)\n",
    "\n",
    "selection = selection.loc[:, ['hp_ix', 'method', 'feature', 'process', 'lag']]"
   ]
  },
  {
   "cell_type": "code",
   "execution_count": 65,
   "id": "3e12f317-aa9e-4f9e-956f-68d85d4fd04f",
   "metadata": {},
   "outputs": [
    {
     "data": {
      "text/html": [
       "<div>\n",
       "<style scoped>\n",
       "    .dataframe tbody tr th:only-of-type {\n",
       "        vertical-align: middle;\n",
       "    }\n",
       "\n",
       "    .dataframe tbody tr th {\n",
       "        vertical-align: top;\n",
       "    }\n",
       "\n",
       "    .dataframe thead th {\n",
       "        text-align: right;\n",
       "    }\n",
       "</style>\n",
       "<table border=\"1\" class=\"dataframe\">\n",
       "  <thead>\n",
       "    <tr style=\"text-align: right;\">\n",
       "      <th></th>\n",
       "      <th>hp_ix</th>\n",
       "      <th>lag</th>\n",
       "      <th>process</th>\n",
       "      <th>median</th>\n",
       "      <th>lb</th>\n",
       "      <th>ub</th>\n",
       "      <th>count</th>\n",
       "    </tr>\n",
       "  </thead>\n",
       "  <tbody>\n",
       "    <tr>\n",
       "      <th>0</th>\n",
       "      <td>28</td>\n",
       "      <td>1</td>\n",
       "      <td>2</td>\n",
       "      <td>1.991242</td>\n",
       "      <td>1.987578</td>\n",
       "      <td>1.997172</td>\n",
       "      <td>100</td>\n",
       "    </tr>\n",
       "    <tr>\n",
       "      <th>1</th>\n",
       "      <td>28</td>\n",
       "      <td>1</td>\n",
       "      <td>3</td>\n",
       "      <td>2.980015</td>\n",
       "      <td>2.968074</td>\n",
       "      <td>2.987502</td>\n",
       "      <td>100</td>\n",
       "    </tr>\n",
       "    <tr>\n",
       "      <th>2</th>\n",
       "      <td>28</td>\n",
       "      <td>1</td>\n",
       "      <td>4</td>\n",
       "      <td>3.965492</td>\n",
       "      <td>3.947025</td>\n",
       "      <td>3.975981</td>\n",
       "      <td>100</td>\n",
       "    </tr>\n",
       "    <tr>\n",
       "      <th>3</th>\n",
       "      <td>28</td>\n",
       "      <td>1</td>\n",
       "      <td>5</td>\n",
       "      <td>4.946920</td>\n",
       "      <td>4.922022</td>\n",
       "      <td>4.963168</td>\n",
       "      <td>100</td>\n",
       "    </tr>\n",
       "    <tr>\n",
       "      <th>4</th>\n",
       "      <td>28</td>\n",
       "      <td>1</td>\n",
       "      <td>6</td>\n",
       "      <td>5.925580</td>\n",
       "      <td>5.890932</td>\n",
       "      <td>5.947508</td>\n",
       "      <td>100</td>\n",
       "    </tr>\n",
       "  </tbody>\n",
       "</table>\n",
       "</div>"
      ],
      "text/plain": [
       "   hp_ix  lag  process    median        lb        ub  count\n",
       "0     28    1        2  1.991242  1.987578  1.997172    100\n",
       "1     28    1        3  2.980015  2.968074  2.987502    100\n",
       "2     28    1        4  3.965492  3.947025  3.975981    100\n",
       "3     28    1        5  4.946920  4.922022  4.963168    100\n",
       "4     28    1        6  5.925580  5.890932  5.947508    100"
      ]
     },
     "execution_count": 65,
     "metadata": {},
     "output_type": "execute_result"
    }
   ],
   "source": [
    "vamps.head()"
   ]
  },
  {
   "cell_type": "markdown",
   "id": "7a8aca92-5106-4d4b-8cfd-3f340c728e47",
   "metadata": {},
   "source": [
    "Prettify some labels"
   ]
  },
  {
   "cell_type": "code",
   "execution_count": 66,
   "id": "2bc06265-e8d8-4239-9f39-f0cab99acd21",
   "metadata": {},
   "outputs": [],
   "source": [
    "def f(x, y):\n",
    "    return f\"{100*(1-x/y):3.1f}\"\n",
    "\n",
    "vamps['$\\Delta$ VAMP-2'] = vamps.apply(lambda x: f\"{f(x['median'], x['process'])} \\%, [{f(x['lb'], x['process'])}-{f(x['ub'], x['process'])}]\", axis=1)\n",
    "\n",
    "method_labels = dict(fixed_k = 'Fixed $k$', timescale_gap =  'TS Gap', worst = 'Fixed $k$ (Worst)')\n",
    "selection['method'] = selection['method'].apply(lambda x: method_labels.get(x, x))\n",
    "\n",
    "selection.rename(columns={'process': 'chosen_num_its', 'lag': 'chosen_lag'}, inplace=True)"
   ]
  },
  {
   "cell_type": "markdown",
   "id": "ec5927eb-7e96-445f-bc8a-c6fdbaa8eed1",
   "metadata": {},
   "source": [
    "Add in model definitions"
   ]
  },
  {
   "cell_type": "code",
   "execution_count": 67,
   "id": "6524da07-c7b7-4e7c-b885-f13b1b5ef8aa",
   "metadata": {},
   "outputs": [],
   "source": [
    "hp_definitions.reset_index(inplace=True)\n",
    "selection = selection.merge(hp_definitions, on=['hp_ix'], how='left')"
   ]
  },
  {
   "cell_type": "markdown",
   "id": "7e5c39a8-faea-495f-96e9-cde36695a71e",
   "metadata": {},
   "source": [
    "Tidy up"
   ]
  },
  {
   "cell_type": "code",
   "execution_count": 68,
   "id": "b45d14ec-810b-4bc2-a4ec-3ba055602fd0",
   "metadata": {},
   "outputs": [],
   "source": [
    "\n",
    "# subset columns\n",
    "cols =  ['hp_ix', 'chosen_lag',  'feature__value', 'distances__scheme', 'distances__transform', \n",
    "                    'distances__centre', 'distances__steepness','tica__lag', 'tica__dim', 'cluster__k', 'chosen_num_its',  'method']\n",
    "selection = selection.loc[:, cols]\n",
    "\n",
    "\n",
    "vamps.drop(labels=['median', 'lb', 'ub', 'count'], axis=1,  inplace=True)"
   ]
  },
  {
   "cell_type": "markdown",
   "id": "6e927293-e743-4169-9b5a-830b7d6436bc",
   "metadata": {},
   "source": [
    "Main formatting"
   ]
  },
  {
   "cell_type": "code",
   "execution_count": 73,
   "id": "524e2612-339c-40b8-80b0-9fae9e7f7681",
   "metadata": {},
   "outputs": [
    {
     "name": "stdout",
     "output_type": "stream",
     "text": [
      "\\begin{tabular}{llllllll}\n",
      "\\toprule\n",
      "Model no. &                  1 &                  2 &                   3 &                     4 &                     5 &                     6 &                   7 \\\\\n",
      "\\midrule\n",
      "Method                         &          Fixed $k$ &          Fixed $k$ &           Fixed $k$ &     Fixed $k$ (Worst) &                TS Gap &                TS Gap &              TS Gap \\\\\n",
      "Lag (ns)                       &                 41 &                 41 &                  41 &                    41 &                    41 &                    41 &                  41 \\\\\n",
      "Feature                        &          Dihedrals &          Distances &           Distances &             Dihedrals &             Dihedrals &             Distances &           Distances \\\\\n",
      "Transform                      &                  - &           Logistic &              Linear &                     - &                     - &              Logistic &              Linear \\\\\n",
      "Contact scheme                 &                  - &      Closest-Heavy &           C$\\alpha$ &                     - &                     - &         Closest-Heavy &           C$\\alpha$ \\\\\n",
      "Center (\\si{\\angstrom})        &                  - &               12.7 &                   - &                     - &                     - &                   9.3 &                   - \\\\\n",
      "Steepness (\\si{\\per\\angstrom}) &                  - &                1.2 &                   - &                     - &                     - &                   0.5 &                   - \\\\\n",
      "TICA lag (ns)                  &                 75 &                 36 &                  72 &                     3 &                    19 &                    92 &                  72 \\\\\n",
      "TICA dimension                 &                 14 &                  7 &                   4 &                    11 &                    11 &                    18 &                   4 \\\\\n",
      "Num. clusters                  &                 23 &                435 &                 475 &                   404 &                   375 &                   106 &                 475 \\\\\n",
      "Num. Dominant                  &                  2 &                  2 &                   2 &                     2 &                     2 &                     2 &                   2 \\\\\n",
      "Loss(k=2)                      &  1.5 \\%, [1.9-0.7] &  1.6 \\%, [1.9-1.3] &   1.8 \\%, [2.1-1.5] &    9.4 \\%, [14.9-5.4] &     2.0 \\%, [2.4-1.7] &     1.9 \\%, [2.3-1.6] &   1.8 \\%, [2.1-1.5] \\\\\n",
      "Loss(k=3)                      &  2.1 \\%, [2.7-1.5] &  2.6 \\%, [3.8-2.0] &   4.1 \\%, [7.3-2.4] &  15.5 \\%, [21.7-11.4] &  14.5 \\%, [15.5-13.6] &  14.0 \\%, [15.0-13.1] &   4.1 \\%, [7.3-2.4] \\\\\n",
      "Loss(k=4)                      &  2.6 \\%, [3.4-2.0] &  3.7 \\%, [5.3-2.6] &  7.1 \\%, [10.7-4.3] &  20.2 \\%, [26.6-15.9] &  25.1 \\%, [26.4-23.5] &  24.3 \\%, [25.7-22.8] &  7.1 \\%, [10.7-4.3] \\\\\n",
      "\\bottomrule\n",
      "\\end{tabular}\n",
      "\n"
     ]
    },
    {
     "name": "stderr",
     "output_type": "stream",
     "text": [
      "/tmp/ipykernel_102787/4084833006.py:77: FutureWarning: In future versions `DataFrame.to_latex` is expected to utilise the base implementation of `Styler.to_latex` for formatting and rendering. The arguments signature may therefore change. It is recommended instead to use `DataFrame.style.to_latex` which also contains additional functionality.\n",
      "  print(table.to_latex(index=True, escape=False))\n"
     ]
    }
   ],
   "source": [
    "\n",
    "# add in VAMP scores\n",
    "table = selection.merge(vamps.loc[vamps.process.isin([2, 3, 4]), :], left_on=['hp_ix', 'chosen_lag'], right_on=['hp_ix', 'lag'])\n",
    "table.rename(columns={'process': 'num_its'}, inplace=True)\n",
    "\n",
    "# Pivot\n",
    "table['num_its'] = table['num_its'].apply(lambda x: f\"Loss(k={int(x)})\")\n",
    "table = table.pivot(index=cols, values='$\\Delta$ VAMP-2', columns='num_its')\n",
    "\n",
    "\n",
    "\n",
    "# Tidy index\n",
    "table.reset_index(inplace=True)\n",
    "table.columns.name = None\n",
    "# table.drop(labels=[ 'hp_ix'], axis=1, inplace=True)\n",
    "\n",
    "\n",
    "# Nice numbers - convert to angstroms/inverse angstroms first\n",
    "table['distances__centre'] *= 10\n",
    "table['distances__steepness'] /= 10\n",
    "for col in ['distances__centre', 'distances__steepness']:\n",
    "    table[col] = table[col].apply(lambda x: f\"{x:4.1f}\")\n",
    "\n",
    "    \n",
    "# Nice text\n",
    "def safe_cap(x): \n",
    "    if not isinstance(x, str): \n",
    "        return \"\"\n",
    "    else: \n",
    "        return x.capitalize()\n",
    "\n",
    "for col in ['feature__value', 'distances__transform']:\n",
    "    table[col] = table[col].apply(lambda x: safe_cap(x))\n",
    "\n",
    "# Better scheme labels\n",
    "scheme_labels = {'ca': r'C$\\alpha$', 'closest-heavy': 'Closest-Heavy'}    \n",
    "table['distances__scheme'] = table['distances__scheme'].apply(lambda x: scheme_labels.get(x, ''))\n",
    "\n",
    "# Remove redundant values\n",
    "for col in ['distances__scheme', 'distances__transform', 'distances__centre', 'distances__steepness']:\n",
    "    table[col] = table.apply(lambda x: '-' if (x['feature__value']=='Dihedrals')  else x[col], axis=1)\n",
    "\n",
    "for col in [ 'distances__centre', 'distances__steepness']:\n",
    "    table[col] = table.apply(lambda x: '-' if (x['distances__transform']=='Linear')  else x[col], axis=1)\n",
    "\n",
    "\n",
    "\n",
    "# Formatting\n",
    "for col in ['chosen_lag', 'tica__lag', 'tica__dim', 'cluster__k',  'chosen_num_its',]:\n",
    "    table[col] = table[col].astype(int)\n",
    "\n",
    "def f(x):\n",
    "    labels = {'protein': 'Protein', 'hp_rank': 'Rank', 'chosen_lag': 'Lag (ns)', 'k': 'Num. eigenvectors', 'feature__value': 'Feature',\n",
    "         'distances__scheme': 'Contact scheme', 'distances__transform': 'Transform', 'distances__centre': r'Center (\\si{\\angstrom})', \n",
    "         'distances__steepness': r'Steepness (\\si{\\per\\angstrom})', 'tica__lag': 'TICA lag (ns)', 'tica__dim': 'TICA dimension', \n",
    "              'cluster__k': 'Num. clusters', 'chosen_num_its': 'Num. Dominant', \n",
    "             'method': 'Method'}\n",
    "    lab = labels.get(x)\n",
    "    if lab is None:\n",
    "        lab = x\n",
    "    return lab\n",
    "\n",
    "table.rename(columns=f, inplace=True)\n",
    "\n",
    "table.sort_values(by=['Transform'], ascending=False, inplace=True)\n",
    "table.sort_values(by=['Method', 'Feature'], inplace=True)\n",
    "\n",
    "vamp_columns = list(table.filter(regex='Loss').columns)\n",
    "\n",
    "\n",
    "table['Model no.'] = np.arange(1, table.shape[0]+1).astype(int)\n",
    "table = table.loc[:, [ 'Model no.', 'Method', 'Lag (ns)', \n",
    "                     'Feature', 'Transform', 'Contact scheme', r'Center (\\si{\\angstrom})', r'Steepness (\\si{\\per\\angstrom})', 'TICA lag (ns)', \n",
    "                     'TICA dimension', 'Num. clusters', 'Num. Dominant']+vamp_columns]\n",
    "table = table.T\n",
    "table.columns = table.loc['Model no.']\n",
    "table.drop(labels='Model no.', axis=0, inplace=True)\n",
    "print(table.to_latex(index=True, escape=False))"
   ]
  },
  {
   "cell_type": "code",
   "execution_count": null,
   "id": "0445e00d-3e6e-4bae-b70b-0e518e7f8ad4",
   "metadata": {},
   "outputs": [],
   "source": []
  },
  {
   "cell_type": "code",
   "execution_count": null,
   "id": "7c843ca6-7a03-4f9a-8003-840e3894132d",
   "metadata": {},
   "outputs": [],
   "source": []
  },
  {
   "cell_type": "code",
   "execution_count": null,
   "id": "d795668d-02ae-4e8e-bf6e-3c95eb559398",
   "metadata": {},
   "outputs": [],
   "source": []
  },
  {
   "cell_type": "code",
   "execution_count": null,
   "id": "a1284ae5-58e7-42c4-a2a3-7dafa61d84c9",
   "metadata": {},
   "outputs": [],
   "source": []
  }
 ],
 "metadata": {
  "kernelspec": {
   "display_name": "Python 3 (ipykernel)",
   "language": "python",
   "name": "python3"
  },
  "language_info": {
   "codemirror_mode": {
    "name": "ipython",
    "version": 3
   },
   "file_extension": ".py",
   "mimetype": "text/x-python",
   "name": "python",
   "nbconvert_exporter": "python",
   "pygments_lexer": "ipython3",
   "version": "3.9.0"
  }
 },
 "nbformat": 4,
 "nbformat_minor": 5
}
