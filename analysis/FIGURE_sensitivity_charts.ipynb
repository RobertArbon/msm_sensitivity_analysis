{
 "cells": [
  {
   "cell_type": "code",
   "execution_count": 3,
   "id": "8a3a5c0e-8354-4b34-a744-fe8b45f322f1",
   "metadata": {},
   "outputs": [],
   "source": [
    "import arviz as az\n",
    "import pymc as pm\n",
    "# import arviz.labels as azl\n",
    "\n",
    "import matplotlib.pyplot as plt\n",
    "import seaborn as sns\n",
    "from pathlib import Path\n",
    "import pickle\n",
    "import matplotlib as mpl\n",
    "import warnings\n",
    "import numpy as np\n",
    "warnings.simplefilter(action='ignore', category=FutureWarning)"
   ]
  },
  {
   "cell_type": "markdown",
   "id": "7630220e-f72e-4b98-9e47-bbe58cea9086",
   "metadata": {},
   "source": [
    "## Reestimate model because of pickle problems"
   ]
  },
  {
   "cell_type": "code",
   "execution_count": 6,
   "id": "1239c466-4c24-4cac-9d7a-d659bf154b10",
   "metadata": {},
   "outputs": [],
   "source": [
    "def gamma(alpha, beta):\n",
    "    def g(x):\n",
    "        return pm.Gamma(x, alpha=alpha, beta=beta)\n",
    "    return g\n",
    "\n",
    "def hcauchy(beta):\n",
    "    def g(x):\n",
    "        return pm.HalfCauchy(x, beta=beta)\n",
    "    return g\n",
    "\n",
    "\n",
    "def fit_gp(y, X, l_prior, eta_prior, sigma_prior, kernel_type='M52', bayes_kws=dict(draws=1000, tune=1000, chains=2, cores=1), prop_Xu=None):\n",
    "    \"\"\"\n",
    "    function to return a pymc3 model\n",
    "    y : dependent variable\n",
    "    X : independent variables\n",
    "    prop_Xu : number of inducing varibles to use. If None, use full marginal likelihood. If not none, use FTIC. \n",
    "    bayes_kw : kws for pm.sample\n",
    "    X, y are dataframes. We'll use the column names. \n",
    "    \"\"\"\n",
    "    kernel_type = kernel_type.lower()\n",
    "    with pm.Model() as model:\n",
    "        # Covert arrays\n",
    "        X_a = X.values\n",
    "        y_a = y.values.flatten()\n",
    "        X_cols = list(X.columns)\n",
    "\n",
    "        \n",
    "        # Kernels\n",
    "        # 3 way interaction\n",
    "        eta = eta_prior('eta')\n",
    "        cov = eta**2\n",
    "        for i in range(X_a.shape[1]):\n",
    "            var_lab = 'l_'+X_cols[i]\n",
    "            if kernel_type=='rbf':\n",
    "                cov = cov*pm.gp.cov.ExpQuad(X_a.shape[1], ls=l_prior(var_lab), active_dims=[i])\n",
    "            if kernel_type=='exponential':\n",
    "                cov = cov*pm.gp.cov.Exponential(X_a.shape[1], ls=l_prior(var_lab), active_dims=[i])\n",
    "            if kernel_type=='m52':\n",
    "                cov = cov*pm.gp.cov.Matern52(X_a.shape[1], ls=l_prior(var_lab), active_dims=[i])\n",
    "            if kernel_type=='m32':\n",
    "                cov = cov*pm.gp.cov.Matern32(X_a.shape[1], ls=l_prior(var_lab), active_dims=[i])\n",
    "\n",
    "        # Covariance model\n",
    "        cov_tot = cov \n",
    "        \n",
    "        # Noise model\n",
    "        sigma_n =sigma_prior('sigma_n')\n",
    "\n",
    "        # Model\n",
    "        if not (prop_Xu is None):\n",
    "            # Inducing variables\n",
    "            num_Xu = int(X_a.shape[0]*prop_Xu)\n",
    "            Xu = pm.gp.util.kmeans_inducing_points(num_Xu, X_a)\n",
    "            gp = pm.gp.MarginalSparse(cov_func=cov_tot, approx=\"FITC\")\n",
    "            y_ = gp.marginal_likelihood('y_', X=X_a, y=y_a, Xu=Xu, noise=sigma_n)\n",
    "        else:\n",
    "            gp = pm.gp.Marginal(cov_func=cov_tot)\n",
    "            y_ = gp.marginal_likelihood('y_', X=X_a, y=y_a, noise=sigma_n)\n",
    "            \n",
    "        \n",
    "        if not (bayes_kws is None):\n",
    "            trace = pm.sample(**bayes_kws)\n",
    "            result = trace\n",
    "        else:\n",
    "            mp = pm.find_MAP()\n",
    "            result = mp\n",
    "    \n",
    "    return gp, result, model"
   ]
  },
  {
   "cell_type": "code",
   "execution_count": 11,
   "id": "40fc8308-2498-4098-ae81-8a944f3c893d",
   "metadata": {},
   "outputs": [
    {
     "name": "stderr",
     "output_type": "stream",
     "text": [
      "Auto-assigning NUTS sampler...\n",
      "Initializing NUTS using jitter+adapt_diag...\n",
      "Multiprocess sampling (4 chains in 4 jobs)\n",
      "NUTS: [eta, l_dim, l_lag, l_states, sigma_n]\n"
     ]
    },
    {
     "data": {
      "text/html": [
       "\n",
       "<style>\n",
       "    /* Turns off some styling */\n",
       "    progress {\n",
       "        /* gets rid of default border in Firefox and Opera. */\n",
       "        border: none;\n",
       "        /* Needs to be in here for Safari polyfill so background images work as expected. */\n",
       "        background-size: auto;\n",
       "    }\n",
       "    .progress-bar-interrupted, .progress-bar-interrupted::-webkit-progress-bar {\n",
       "        background: #F44336;\n",
       "    }\n",
       "</style>\n"
      ],
      "text/plain": [
       "<IPython.core.display.HTML object>"
      ]
     },
     "metadata": {},
     "output_type": "display_data"
    },
    {
     "data": {
      "text/html": [
       "\n",
       "    <div>\n",
       "      <progress value='24000' class='' max='24000' style='width:300px; height:20px; vertical-align: middle;'></progress>\n",
       "      100.00% [24000/24000 02:01<00:00 Sampling 4 chains, 0 divergences]\n",
       "    </div>\n",
       "    "
      ],
      "text/plain": [
       "<IPython.core.display.HTML object>"
      ]
     },
     "metadata": {},
     "output_type": "display_data"
    },
    {
     "name": "stderr",
     "output_type": "stream",
     "text": [
      "Sampling 4 chains for 1_000 tune and 5_000 draw iterations (4_000 + 20_000 draws total) took 141 seconds.\n",
      "Auto-assigning NUTS sampler...\n",
      "Initializing NUTS using jitter+adapt_diag...\n",
      "Multiprocess sampling (4 chains in 4 jobs)\n",
      "NUTS: [eta, l_scheme[T.closest-heavy], l_dim, l_lag, l_states, sigma_n]\n"
     ]
    },
    {
     "data": {
      "text/html": [
       "\n",
       "<style>\n",
       "    /* Turns off some styling */\n",
       "    progress {\n",
       "        /* gets rid of default border in Firefox and Opera. */\n",
       "        border: none;\n",
       "        /* Needs to be in here for Safari polyfill so background images work as expected. */\n",
       "        background-size: auto;\n",
       "    }\n",
       "    .progress-bar-interrupted, .progress-bar-interrupted::-webkit-progress-bar {\n",
       "        background: #F44336;\n",
       "    }\n",
       "</style>\n"
      ],
      "text/plain": [
       "<IPython.core.display.HTML object>"
      ]
     },
     "metadata": {},
     "output_type": "display_data"
    },
    {
     "data": {
      "text/html": [
       "\n",
       "    <div>\n",
       "      <progress value='24000' class='' max='24000' style='width:300px; height:20px; vertical-align: middle;'></progress>\n",
       "      100.00% [24000/24000 03:08<00:00 Sampling 4 chains, 0 divergences]\n",
       "    </div>\n",
       "    "
      ],
      "text/plain": [
       "<IPython.core.display.HTML object>"
      ]
     },
     "metadata": {},
     "output_type": "display_data"
    },
    {
     "name": "stderr",
     "output_type": "stream",
     "text": [
      "Sampling 4 chains for 1_000 tune and 5_000 draw iterations (4_000 + 20_000 draws total) took 207 seconds.\n",
      "Auto-assigning NUTS sampler...\n",
      "Initializing NUTS using jitter+adapt_diag...\n",
      "Multiprocess sampling (4 chains in 4 jobs)\n",
      "NUTS: [eta, l_scheme[T.closest-heavy], l_dim, l_lag, l_states, l_steep, l_cent, sigma_n]\n"
     ]
    },
    {
     "data": {
      "text/html": [
       "\n",
       "<style>\n",
       "    /* Turns off some styling */\n",
       "    progress {\n",
       "        /* gets rid of default border in Firefox and Opera. */\n",
       "        border: none;\n",
       "        /* Needs to be in here for Safari polyfill so background images work as expected. */\n",
       "        background-size: auto;\n",
       "    }\n",
       "    .progress-bar-interrupted, .progress-bar-interrupted::-webkit-progress-bar {\n",
       "        background: #F44336;\n",
       "    }\n",
       "</style>\n"
      ],
      "text/plain": [
       "<IPython.core.display.HTML object>"
      ]
     },
     "metadata": {},
     "output_type": "display_data"
    },
    {
     "data": {
      "text/html": [
       "\n",
       "    <div>\n",
       "      <progress value='24000' class='' max='24000' style='width:300px; height:20px; vertical-align: middle;'></progress>\n",
       "      100.00% [24000/24000 14:46<00:00 Sampling 4 chains, 1 divergences]\n",
       "    </div>\n",
       "    "
      ],
      "text/plain": [
       "<IPython.core.display.HTML object>"
      ]
     },
     "metadata": {},
     "output_type": "display_data"
    },
    {
     "name": "stderr",
     "output_type": "stream",
     "text": [
      "Sampling 4 chains for 1_000 tune and 5_000 draw iterations (4_000 + 20_000 draws total) took 907 seconds.\n",
      "There was 1 divergence after tuning. Increase `target_accept` or reparameterize.\n",
      "The acceptance probability does not match the target. It is 0.8074, but should be close to 0.9. Try to increase the number of tuning steps.\n"
     ]
    }
   ],
   "source": [
    "root_path = '1fme/sensitivity'\n",
    "\n",
    "models = []\n",
    "for feat, trans, kernel in [['dihedrals', None, 'exponential'], ['distances', 'linear', 'exponential'], ['distances', 'logistic', 'exponential']]:\n",
    "\n",
    "    results_path = Path(root_path).joinpath(f\"{feat}_{trans}_{kernel}.pkl\")\n",
    "\n",
    "    results = pickle.load(results_path.open('rb'))\n",
    "    data_s = results['data']\n",
    "    y, X = data_s.iloc[:, [0]], data_s.iloc[:, 1:]\n",
    "    bayes_kws = dict(draws=5000, tune=1000, chains=4, cores=4, target_accept=0.90)\n",
    "\n",
    "\n",
    "    # Fit model\n",
    "    l_prior = gamma(2, 0.5)\n",
    "    eta_prior = hcauchy(2)\n",
    "    sigma_prior = hcauchy(2)\n",
    "    gp, trace, model = fit_gp(y=y, X=X,  # Data\n",
    "                                    l_prior=l_prior, eta_prior=eta_prior, sigma_prior=sigma_prior,  # Priors\n",
    "                                    kernel_type=kernel,  # Kernel\n",
    "                                    prop_Xu=None,  # proportion of data points which are inducing variables.\n",
    "                                    bayes_kws=bayes_kws)  #\n",
    "    models.append((gp, trace, model))"
   ]
  },
  {
   "cell_type": "code",
   "execution_count": 53,
   "id": "82c556c1-f2e7-4494-b410-11fc1d6183b6",
   "metadata": {},
   "outputs": [],
   "source": [
    "from copy import deepcopy\n",
    "\n",
    "\n",
    "var_name_map_1={\"l_states\": r\"Num. states\", \n",
    "            \"l_dim\": r\"Num. dims\", \n",
    "            \"l_lag\": r\"$\\tau_{tICA}$\"}\n",
    "\n",
    "var_name_map_2 = deepcopy(var_name_map_1)\n",
    "var_name_map_2.update({\"l_cent\": r\"Centre\", \n",
    "             \"l_steep\": r\"Steepness\"})\n",
    "\n",
    "\n",
    "maps = [var_name_map_1, var_name_map_1, var_name_map_2]\n",
    "             "
   ]
  },
  {
   "cell_type": "code",
   "execution_count": 74,
   "id": "886ab557-c557-4035-9eff-557f4d16fdfc",
   "metadata": {},
   "outputs": [],
   "source": [
    "traces = [deepcopy(x[1]) for x in models]\n",
    "traces   = [x.rename_vars(maps[i]) for i, x in enumerate(traces)]"
   ]
  },
  {
   "cell_type": "markdown",
   "id": "45a2255c-630c-4939-bb99-aa44ab1f7441",
   "metadata": {},
   "source": [
    "Relevance"
   ]
  },
  {
   "cell_type": "code",
   "execution_count": 112,
   "id": "4e7c842c-87bb-42ff-a7b5-3535922d7f45",
   "metadata": {},
   "outputs": [
    {
     "data": {
      "image/png": "[encoded data removed]",
      "text/plain": [
       "<Figure size 432x288 with 1 Axes>"
      ]
     },
     "metadata": {},
     "output_type": "display_data"
    }
   ],
   "source": [
    "def R(x): \n",
    "    return 1/x\n",
    "    \n",
    "with sns.plotting_context('paper'):\n",
    "    sns.set_style('white')\n",
    "    \n",
    "    fig, ax = plt.subplots(1)\n",
    "    \n",
    "    ax.set_xlabel(\"Relevance\")\n",
    "    \n",
    "    pm.plot_forest(traces, \n",
    "                   model_names=['dihedrals','linear-distances', 'logisitic-distances'], \n",
    "                   combined=True, \n",
    "                   linewidth=2, \n",
    "                   var_names=[ r\"Centre\", r\"Steepness\", r\"$\\tau_{tICA}$\", r\"Num. dims\", r\"Num. states\"], \n",
    "                   transform=R, \n",
    "                   ax=ax, \n",
    "                   hdi_prob=0.95, legend=True)\n",
    "    \n",
    "    ax.set_title('')\n",
    "    ax.set_xlim(-0.1, 3)\n",
    "    ax.xaxis.set_major_locator(mpl.ticker.MultipleLocator(1))\n",
    "    ax.xaxis.set_minor_locator(mpl.ticker.MultipleLocator(0.25))\n",
    "    \n",
    "    ax.grid(which='both')\n",
    "    plt.savefig(Path(root_path).joinpath('forestplot.pdf'), bbox_inches='tight')\n",
    "    \n"
   ]
  },
  {
   "cell_type": "code",
   "execution_count": null,
   "id": "d253182b-3e0e-41ac-bfe6-4c119dc9156c",
   "metadata": {},
   "outputs": [],
   "source": [
    "# def R(x):\n",
    "#     return 1/x\n",
    "\n",
    "# features = ['dihedrals', 'distances_linear', 'distances_logistic']\n",
    "# feature_names = ['Dihedrals', 'Distances', 'logistic(Distances)']\n",
    "\n",
    "# inp_dir = 'sensitivities_exp_log_outcome'\n",
    "\n",
    "\n",
    "# relevance_vars = [\"l_tica__lag_s\",\"l_tica__dim_s\", \"l_cluster__k_s\", \"l_distances__centre_s\", \"l_distances__steepness_s\"]\n",
    "\n",
    "\n",
    "# info_share_vars =[\"l_distances__scheme[closest-heavy]_s\", \"l_distances__scheme[ca]_s\"]\n",
    "\n",
    "\n",
    "\n",
    "\n",
    "# def make_labeller(labels):\n",
    "#     var_name_map={\"l_cluster__k_s\": r\"$n$\", \n",
    "#                 \"l_tica__dim_s\": r\"$m$\", \n",
    "#                 \"l_tica__lag_s\": r\"$\\tau_{tICA}$\",\n",
    "#                 \"l_distances__scheme[closest-heavy]_s\": \"$X-X$\", \n",
    "#                 \"l_distances__scheme[ca]_s\": r\"$C\\alpha-C\\alpha$\", \n",
    "#                  \"l_distances__centre_s\": r\"$cent.$\", \n",
    "#                  \"l_distances__steepness_s\": r\"$steep.$\"}\n",
    "                  \n",
    "#     def labeller(pos, x):\n",
    "#         label = labels[x]\n",
    "#         old_text = label.get_text()\n",
    "\n",
    "#         if '__' in old_text:\n",
    "#             var = old_text.split(':')[-1].strip()\n",
    "#             new_var = var_name_map[var]\n",
    "#             new_txt = f\"{old_text.split(':')[0]} : {new_var}\" \n",
    "#         else:\n",
    "#             new_txt = old_text\n",
    "#         return new_txt\n",
    "    \n",
    "#     return labeller\n",
    "\n",
    "\n",
    "# def get_model_names(paths):\n",
    "#     model_names = []\n",
    "#     for x in paths:\n",
    "#         text = np.array(str(x.stem).split('_'))\n",
    "#         outcome_ix = np.where((text=='timescale') | (text == 'vamp'))[0][0]\n",
    "#         outcome = text[outcome_ix]\n",
    "#         if outcome == 'timescale':\n",
    "#             num_its = text[outcome_ix+2]\n",
    "#             outcome = f'$t_{{{num_its}}}$'\n",
    "#         if outcome == 'vamp':\n",
    "#             outcome = outcome.upper()\n",
    "#         model_names.append(outcome) \n",
    "#     return model_names\n",
    "\n",
    "# def get_traces(paths):\n",
    "#     all_models = [pickle.load(x.open('rb')) for x in paths]\n",
    "#     all_traces = [x['trace'] for x in all_models]\n",
    "#     all_traces = [az.from_pymc3(trace=x)['posterior'] for x in all_traces]    \n",
    "#     return all_traces\n",
    "\n",
    "\n",
    "# def add_null_variables(trace, var_names):\n",
    "\n",
    "#     for var_name in var_names:\n",
    "#         trace = trace.assign({var_name: lambda x: x.sigma_n*0})\n",
    "#     return trace\n",
    "        \n",
    "    \n",
    "# def add_variables_to_traces(traces, all_var_names):\n",
    "#     tmp = []\n",
    "#     for trace in traces: \n",
    "#         var_names = set([x for x in trace.data_vars.keys()])\n",
    "#         missing_vars = list(set(all_var_names) - var_names)\n",
    "#         trace = add_null_variables(trace, missing_vars)\n",
    "#         tmp.append(trace)\n",
    "#     return tmp\n",
    "        \n",
    "        \n",
    "\n",
    "\n",
    "\n",
    "# for protein in ['uvf']: #funcs.PROTEIN_DIRS[:8]:\n",
    "#     with sns.plotting_context('paper', font_scale=1):\n",
    "        \n",
    "#         annotate_kws = dict(xycoords='axes fraction', va='top', ha='left', \n",
    "#                     bbox={'facecolor': 'w', 'alpha': 0.5, 'edgecolor': 'w'})\n",
    "        \n",
    "#         fig = plt.figure(constrained_layout=True, figsize=(6, 8))\n",
    "#         widths = [1, 1, 1]\n",
    "#         heights = [4, 2]\n",
    "#         spec = fig.add_gridspec(ncols=len(widths), nrows=len(heights), width_ratios=widths,\n",
    "#                                   height_ratios=heights)\n",
    "        \n",
    "#         axes = np.empty((len(heights), len(widths)), dtype=object)\n",
    "#         for i in range(len(heights)):\n",
    "#             for j in range(len(widths)):\n",
    "#                 if j > 0:\n",
    "#                     axes[i, j] = fig.add_subplot(spec[i, j], sharey=axes[i, 0], sharex=axes[i, 0])\n",
    "#                     plt.setp(axes[i, j].get_yticklabels(), visible=False)\n",
    "#                 if j == 0: \n",
    "#                     axes[i,j] = fig.add_subplot(spec[i, j])\n",
    "                    \n",
    "#         LETTERS = ['a', 'b', 'c', '', 'd', 'e', 'f']\n",
    "#         let_count = 0\n",
    "#         for feat_ix, feature in enumerate(features):\n",
    "            \n",
    "#             # Get the paths\n",
    "#             timescale_paths = list(Path(inp_dir).glob(f\"{protein}_{feature}_timescale_its*\"))\n",
    "#             timescale_paths.sort()\n",
    "#             vamp_path = list(Path(inp_dir).glob(f\"{protein}_{feature}_vamp_sensitivity*.pkl\"))[0]\n",
    "#             all_model_paths = [vamp_path]+timescale_paths\n",
    "\n",
    "#             if len(timescale_paths) > 0:\n",
    "                \n",
    "# #                 print(protein, feature)\n",
    "#                 # Get model names\n",
    "#                 model_names = get_model_names(all_model_paths)\n",
    "#                 all_traces = get_traces(all_model_paths)\n",
    "                \n",
    "                \n",
    "#                 vars_to_add = relevance_vars+info_share_vars\n",
    "#                 all_traces = add_variables_to_traces(all_traces, vars_to_add)\n",
    "                \n",
    "#                 # Plot relevances: \n",
    "#                 ax = axes[0, feat_ix]\n",
    "#                 pm.plot_forest(all_traces, model_names=model_names, \n",
    "#                                combined=True, linewidth=2, \n",
    "#                        var_names=relevance_vars, transform=R, ax=ax, hdi_prob=0.95)\n",
    "#                 ax.grid()\n",
    "#                 ax.set_title(None)\n",
    "#                 ax.set_xlabel(\"Relevance\")\n",
    "                \n",
    "#                 ax.annotate(text=f\"({LETTERS[feat_ix]}) {feature_names[feat_ix]}\",xy=(0.01, 0.98), **annotate_kws)\n",
    "#                 let_count += 1\n",
    "                \n",
    "#                 ax.set_xscale('log')\n",
    "                \n",
    "#                 # Adjust axes labels\n",
    "#                 if feat_ix == 2:\n",
    "#                     labels = axes[0, 0].yaxis.get_majorticklabels()\n",
    "#                     labeller = make_labeller(labels)\n",
    "#                     ax.yaxis.set_major_formatter(labeller)\n",
    "                \n",
    "                \n",
    "#                 # Plot infor sharing: \n",
    "#                 ax = axes[1, feat_ix]\n",
    "#                 pm.plot_forest(all_traces, model_names=model_names, \n",
    "#                                combined=True, linewidth=2, \n",
    "#                        var_names=info_share_vars, ax=ax, hdi_prob=0.95)\n",
    "#                 ax.grid()\n",
    "#                 ax.set_xlabel(\"Information sharing\")\n",
    "                \n",
    "#                 if feature_names[feat_ix] != 'Dihedrals':\n",
    "#                     ax.annotate(text=f\"({LETTERS[feat_ix+len(features)]}) {feature_names[feat_ix]}\",xy=(0.01, 0.97),  **annotate_kws)\n",
    "                    \n",
    "#                 ax.set_title(None)\n",
    "#                 ax.set_xscale('log')\n",
    "\n",
    "#                 # Plot information sharing\n",
    "                \n",
    "#                 # Adjust axes labels\n",
    "#                 if feat_ix == 2:\n",
    "#                     labels = axes[1, 0].yaxis.get_majorticklabels()\n",
    "#                     labeller = make_labeller(labels)\n",
    "#                     ax.yaxis.set_major_formatter(labeller)                \n",
    "\n",
    "# #         plt.tight_layout()\n",
    "#         plt.savefig(funcs.FIG_DIR.joinpath(f'sensitivities/{protein}_sensitivity.pdf'), bbox_inches='tight')\n",
    "\n",
    "# all_model_paths"
   ]
  }
 ],
 "metadata": {
  "kernelspec": {
   "display_name": "Python 3 (ipykernel)",
   "language": "python",
   "name": "python3"
  },
  "language_info": {
   "codemirror_mode": {
    "name": "ipython",
    "version": 3
   },
   "file_extension": ".py",
   "mimetype": "text/x-python",
   "name": "python",
   "nbconvert_exporter": "python",
   "pygments_lexer": "ipython3",
   "version": "3.9.0"
  }
 },
 "nbformat": 4,
 "nbformat_minor": 5
}
