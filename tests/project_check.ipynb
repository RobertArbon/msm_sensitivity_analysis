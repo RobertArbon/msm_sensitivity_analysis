{
 "cells": [
  {
   "cell_type": "code",
   "execution_count": 1,
   "metadata": {},
   "outputs": [],
   "source": [
    "import mdtraj as md\n",
    "import pyemma as pm\n",
    "import pandas as pd\n",
    "import matplotlib.pyplot as plt\n",
    "import numpy as np\n",
    "from typing import Dict, List, Optional, Union, Tuple\n",
    "from pathlib import Path\n",
    "import pickle\n",
    "\n",
    "from msmtools.estimation import transition_matrix as _transition_matrix\n",
    "from msmtools.analysis import timescales as _timescales"
   ]
  },
  {
   "cell_type": "code",
   "execution_count": 2,
   "metadata": {
    "collapsed": false,
    "jupyter": {
     "outputs_hidden": false
    },
    "pycharm": {
     "name": "#%%\n"
    }
   },
   "outputs": [],
   "source": [
    "def featurizer(hp_dict: Dict, traj_paths: List[str], top_path: str) -> List[np.ndarray]:\n",
    "    if hp_dict['feature__value'] == 'dihedrals':\n",
    "        assert hp_dict['dihedrals__which'] == 'all'\n",
    "        def f(traj: md.Trajectory, **kwargs) -> np.ndarray:\n",
    "            _, phi = md.compute_phi(traj)\n",
    "            _, psi = md.compute_psi(traj)\n",
    "            _, chi1 = md.compute_chi1(traj)\n",
    "            _, chi2 = md.compute_chi2(traj)\n",
    "            _, chi3 = md.compute_chi3(traj)\n",
    "            _, chi4 = md.compute_chi4(traj)\n",
    "            _, chi5 = md.compute_chi5(traj)\n",
    "            ftraj = np.concatenate([phi, psi, chi1, chi2, chi3, chi4, chi5], axis=1)\n",
    "            ftraj = np.concatenate([np.cos(ftraj), np.sin(ftraj)], axis=1)\n",
    "            return ftraj\n",
    "\n",
    "    elif hp_dict['feature__value'] == 'distances':\n",
    "        def f(traj: md.Trajectory, **kwargs):\n",
    "            scheme = kwargs['distances__scheme']\n",
    "            transform = kwargs['distances__transform']\n",
    "            centre = kwargs['distances__centre']\n",
    "            steepness = kwargs['distances__steepness']\n",
    "            ftraj, _ = md.compute_contacts(traj, scheme=scheme)\n",
    "            if transform=='logistic':\n",
    "                ftraj = 1.0/(1+np.exp(-steepness*(ftraj - centre)))\n",
    "            return ftraj\n",
    "    else:\n",
    "        raise ValueError\n",
    "    ftrajs = []\n",
    "    for traj_path in traj_paths:\n",
    "        traj = md.load(traj_path, top=top_path)\n",
    "        ftrajs.append(f(traj, **hp_dict))\n",
    "    return ftrajs\n",
    "\n",
    "\n",
    "def tica(hp_dict: Dict[str, Union[float, int, str]], ftrajs: List[np.ndarray]) -> List[np.ndarray]:\n",
    "    lag = hp_dict['tica__lag']\n",
    "    stride = hp_dict['tica__stride']\n",
    "    dim = hp_dict['tica__dim']\n",
    "    tica = pm.coordinates.tica(ftrajs, lag=lag, dim=dim, kinetic_map=True)\n",
    "    ttrajs = tica.get_output()\n",
    "    return ttrajs, tica\n",
    "\n",
    "def kmeans(hp_dict: Dict, ttrajs: List[np.ndarray], seed: int) -> List[np.ndarray]:\n",
    "    k = hp_dict['cluster__k']\n",
    "    max_iter = hp_dict['cluster__max_iter']\n",
    "    stride = hp_dict['cluster__stride']\n",
    "    kmeans = pm.coordinates.cluster_kmeans(ttrajs, k=k, max_iter=max_iter, stride=stride, fixed_seed=seed, n_jobs=1)\n",
    "    dtrajs = kmeans.dtrajs\n",
    "    return dtrajs, kmeans\n",
    "\n",
    "\n",
    "def its(dtrajs: List[np.ndarray], lags: List[int], nits: int) -> np.ndarray:\n",
    "    its_obj = pm.msm.timescales_msm(dtrajs=dtrajs, lags=lags, nits=nits)\n",
    "    return its_obj.timescales\n",
    "\n",
    "\n",
    "def score(dtrajs: List[np.ndarray], lags: List[int], nits: int) -> np.ndarray:\n",
    "    all_vs = []\n",
    "    for lag in lags: \n",
    "        m = pm.msm.estimate_markov_model(dtrajs, lag=lag)\n",
    "        vs = np.array([m.score(dtrajs, score_k=k) for k in range(2, nits+2)])\n",
    "        vs = vs.reshape(1, -1)\n",
    "        all_vs.append(vs)\n",
    "    all_vs = np.concatenate(all_vs, axis=0)\n",
    "    return all_vs\n",
    "        \n",
    "\n",
    "\n",
    "def bootstrap(ftrajs: List[np.ndarray], rng: np.random.Generator) -> List[np.ndarray]:\n",
    "    probs = np.array([x.shape[0] for x in ftrajs])\n",
    "    probs = probs/np.sum(probs)\n",
    "    ix = np.arange(len(ftrajs))\n",
    "    new_ix = rng.choice(ix,size=len(ftrajs), p=probs, replace=True)\n",
    "    return [ftrajs[i] for i in new_ix]\n",
    "\n",
    "\n",
    "\n",
    "def summarise(df):\n",
    "    df_summary = df.groupby(['hp_ix', 'lag', 'process']).agg(median=(0, lambda x: np.quantile(x, 0.5)),\n",
    "                                                                   lb=(0, lambda x: np.quantile(x, 0.025)),\n",
    "                                                                   ub=(0, lambda x: np.quantile(x, 0.975)), \n",
    "                                                                   count =(0, lambda x: x.shape[0]-x.isna().sum()))\n",
    "    return df_summary\n",
    "\n",
    "\n",
    "def samples_to_summary(samples: np.ndarray, lags: List[int],  hp_ix: int)-> pd.DataFrame: \n",
    "    \"\"\"\n",
    "    samples=np.ndarray[lagtime, process, bs_sample]\n",
    "    \"\"\"\n",
    "    df = pd.concat({(hp_ix, lags[i], j+2): pd.DataFrame(samples[i, j, :]) for i in range(samples.shape[0]) for j in range(samples.shape[1])})\n",
    "    df.index.rename(('hp_ix', 'lag', 'process', 'bs_ix'), inplace=True)\n",
    "    df_summary = summarise(df)\n",
    "    return df_summary\n",
    "                    \n",
    "    "
   ]
  },
  {
   "cell_type": "code",
   "execution_count": 72,
   "metadata": {
    "collapsed": false,
    "jupyter": {
     "outputs_hidden": false
    },
    "pycharm": {
     "name": "#%%\n"
    }
   },
   "outputs": [],
   "source": [
    "protein = '1fme'\n",
    "seed = 49587\n",
    "rng = np.random.default_rng(seed)\n",
    "lag = 41 \n",
    "n_bootstraps = 100\n",
    "\n",
    "hps = pd.read_hdf('../data/msms/hpsample.h5')\n",
    "top_path = f'/home/rob/Data/DESRES/DESRES-Trajectory_{protein.upper()}-0-protein/{protein.upper()}-0-protein/protein.pdb'\n",
    "traj_paths = list(Path('/home/rob/Data/DESRES/').rglob(f'*{protein.upper()}*/**/*.xtc'))\n",
    "traj_paths = [str(x) for x in traj_paths]\n",
    "traj_paths.sort()\n",
    "assert traj_paths\n",
    "\n",
    "hp_ix = 53\n",
    "sample_ix = 81\n",
    "bs_ix = 0\n",
    "sample_paths = list(Path(f'../data/msms/{protein}/evs/hp_{sample_ix}/{bs_ix}/').glob('*.xtc'))\n",
    "sample_paths.sort()\n",
    "sample_meta = Path(f'../data/msms/{protein}/evs/hp_{sample_ix}/{bs_ix}/metadata.pkl')\n",
    "\n",
    "compare = pickle.load(Path(f'../data/msms/{protein}/project_evs/hp_{hp_ix}_ev_{sample_ix}/{bs_ix}.pkl').open('rb'))"
   ]
  },
  {
   "cell_type": "code",
   "execution_count": 62,
   "metadata": {},
   "outputs": [],
   "source": [
    "ftrajs_all = featurizer(hps.iloc[hp_ix, :].to_dict(), traj_paths, top_path)\n",
    "ftrajs_sample = featurizer(hps.iloc[hp_ix, :].to_dict(), sample_paths, top_path)\n",
    "\n",
    "meta = pickle.load(sample_meta.open('rb'))\n",
    "traj_bs_ix = meta['bs_ix']\n",
    "\n",
    "ftrajs = [ftrajs_all[i] for i in traj_bs_ix]\n",
    "ttrajs, tica_mod = tica(hps.iloc[hp_ix, :].to_dict(), ftrajs)\n",
    "dtrajs, kmeans_mod = kmeans(hps.iloc[hp_ix, :].to_dict(), ttrajs, seed)\n",
    "mod = pm.msm.estimate_markov_model(dtrajs, lag=lag)\n"
   ]
  },
  {
   "cell_type": "code",
   "execution_count": 64,
   "metadata": {
    "tags": []
   },
   "outputs": [
    {
     "data": {
      "text/plain": [
       "array([ 0,  1,  2,  3,  4,  5,  6,  7,  8,  9, 10, 11, 12, 13, 14, 15, 16,\n",
       "       17, 18, 19, 20, 21, 22])"
      ]
     },
     "execution_count": 64,
     "metadata": {},
     "output_type": "execute_result"
    }
   ],
   "source": [
    "mod._full2active"
   ]
  },
  {
   "cell_type": "code",
   "execution_count": 73,
   "metadata": {},
   "outputs": [
    {
     "data": {
      "text/plain": [
       "[PosixPath('../data/msms/1fme/evs/hp_81/0/ev_2.xtc'),\n",
       " PosixPath('../data/msms/1fme/evs/hp_81/0/ev_3.xtc')]"
      ]
     },
     "execution_count": 73,
     "metadata": {},
     "output_type": "execute_result"
    }
   ],
   "source": [
    "sample_paths"
   ]
  },
  {
   "cell_type": "code",
   "execution_count": 65,
   "metadata": {},
   "outputs": [],
   "source": [
    "num_evs = 2\n",
    "\n",
    "evs = mod.eigenvectors_right(5)\n",
    "evs = evs[:, 1:]\n",
    "proj = np.zeros((ev_dtrajs[0].shape[0], num_evs))\n",
    "\n",
    "for ev_ix in range(num_evs):\n",
    "    ev_ttrajs = tica_mod.transform([ftrajs_sample[ev_ix]])\n",
    "    ev_dtrajs = kmeans_mod.transform(ev_ttrajs)\n",
    "    for i, state in enumerate(ev_dtrajs[0]):\n",
    "        ev = evs[:, ev_ix]\n",
    "        x = mod._full2active[state[0]]\n",
    "        proj[i, ev_ix] = ev[x]\n"
   ]
  },
  {
   "cell_type": "code",
   "execution_count": 76,
   "metadata": {},
   "outputs": [
    {
     "ename": "ValueError",
     "evalue": "x and y must be the same size",
     "output_type": "error",
     "traceback": [
      "\u001b[0;31m---------------------------------------------------------------------------\u001b[0m",
      "\u001b[0;31mValueError\u001b[0m                                Traceback (most recent call last)",
      "\u001b[0;32m/tmp/ipykernel_9383/2886081791.py\u001b[0m in \u001b[0;36m<module>\u001b[0;34m\u001b[0m\n\u001b[0;32m----> 1\u001b[0;31m \u001b[0mplt\u001b[0m\u001b[0;34m.\u001b[0m\u001b[0mscatter\u001b[0m\u001b[0;34m(\u001b[0m\u001b[0mproj\u001b[0m\u001b[0;34m[\u001b[0m\u001b[0;34m:\u001b[0m\u001b[0;34m,\u001b[0m \u001b[0;36m0\u001b[0m\u001b[0;34m]\u001b[0m\u001b[0;34m,\u001b[0m \u001b[0mcompare\u001b[0m\u001b[0;34m[\u001b[0m\u001b[0;36m2\u001b[0m\u001b[0;34m]\u001b[0m\u001b[0;34m[\u001b[0m\u001b[0;36m0\u001b[0m\u001b[0;34m]\u001b[0m\u001b[0;34m[\u001b[0m\u001b[0;34m:\u001b[0m\u001b[0;34m,\u001b[0m \u001b[0;36m0\u001b[0m\u001b[0;34m]\u001b[0m\u001b[0;34m)\u001b[0m\u001b[0;34m\u001b[0m\u001b[0;34m\u001b[0m\u001b[0m\n\u001b[0m",
      "\u001b[0;32m~/miniconda3/envs/msmsense/lib/python3.9/site-packages/matplotlib/pyplot.py\u001b[0m in \u001b[0;36mscatter\u001b[0;34m(x, y, s, c, marker, cmap, norm, vmin, vmax, alpha, linewidths, edgecolors, plotnonfinite, data, **kwargs)\u001b[0m\n\u001b[1;32m   3066\u001b[0m         \u001b[0mvmin\u001b[0m\u001b[0;34m=\u001b[0m\u001b[0;32mNone\u001b[0m\u001b[0;34m,\u001b[0m \u001b[0mvmax\u001b[0m\u001b[0;34m=\u001b[0m\u001b[0;32mNone\u001b[0m\u001b[0;34m,\u001b[0m \u001b[0malpha\u001b[0m\u001b[0;34m=\u001b[0m\u001b[0;32mNone\u001b[0m\u001b[0;34m,\u001b[0m \u001b[0mlinewidths\u001b[0m\u001b[0;34m=\u001b[0m\u001b[0;32mNone\u001b[0m\u001b[0;34m,\u001b[0m \u001b[0;34m*\u001b[0m\u001b[0;34m,\u001b[0m\u001b[0;34m\u001b[0m\u001b[0;34m\u001b[0m\u001b[0m\n\u001b[1;32m   3067\u001b[0m         edgecolors=None, plotnonfinite=False, data=None, **kwargs):\n\u001b[0;32m-> 3068\u001b[0;31m     __ret = gca().scatter(\n\u001b[0m\u001b[1;32m   3069\u001b[0m         \u001b[0mx\u001b[0m\u001b[0;34m,\u001b[0m \u001b[0my\u001b[0m\u001b[0;34m,\u001b[0m \u001b[0ms\u001b[0m\u001b[0;34m=\u001b[0m\u001b[0ms\u001b[0m\u001b[0;34m,\u001b[0m \u001b[0mc\u001b[0m\u001b[0;34m=\u001b[0m\u001b[0mc\u001b[0m\u001b[0;34m,\u001b[0m \u001b[0mmarker\u001b[0m\u001b[0;34m=\u001b[0m\u001b[0mmarker\u001b[0m\u001b[0;34m,\u001b[0m \u001b[0mcmap\u001b[0m\u001b[0;34m=\u001b[0m\u001b[0mcmap\u001b[0m\u001b[0;34m,\u001b[0m \u001b[0mnorm\u001b[0m\u001b[0;34m=\u001b[0m\u001b[0mnorm\u001b[0m\u001b[0;34m,\u001b[0m\u001b[0;34m\u001b[0m\u001b[0;34m\u001b[0m\u001b[0m\n\u001b[1;32m   3070\u001b[0m         \u001b[0mvmin\u001b[0m\u001b[0;34m=\u001b[0m\u001b[0mvmin\u001b[0m\u001b[0;34m,\u001b[0m \u001b[0mvmax\u001b[0m\u001b[0;34m=\u001b[0m\u001b[0mvmax\u001b[0m\u001b[0;34m,\u001b[0m \u001b[0malpha\u001b[0m\u001b[0;34m=\u001b[0m\u001b[0malpha\u001b[0m\u001b[0;34m,\u001b[0m \u001b[0mlinewidths\u001b[0m\u001b[0;34m=\u001b[0m\u001b[0mlinewidths\u001b[0m\u001b[0;34m,\u001b[0m\u001b[0;34m\u001b[0m\u001b[0;34m\u001b[0m\u001b[0m\n",
      "\u001b[0;32m~/miniconda3/envs/msmsense/lib/python3.9/site-packages/matplotlib/__init__.py\u001b[0m in \u001b[0;36minner\u001b[0;34m(ax, data, *args, **kwargs)\u001b[0m\n\u001b[1;32m   1359\u001b[0m     \u001b[0;32mdef\u001b[0m \u001b[0minner\u001b[0m\u001b[0;34m(\u001b[0m\u001b[0max\u001b[0m\u001b[0;34m,\u001b[0m \u001b[0;34m*\u001b[0m\u001b[0margs\u001b[0m\u001b[0;34m,\u001b[0m \u001b[0mdata\u001b[0m\u001b[0;34m=\u001b[0m\u001b[0;32mNone\u001b[0m\u001b[0;34m,\u001b[0m \u001b[0;34m**\u001b[0m\u001b[0mkwargs\u001b[0m\u001b[0;34m)\u001b[0m\u001b[0;34m:\u001b[0m\u001b[0;34m\u001b[0m\u001b[0;34m\u001b[0m\u001b[0m\n\u001b[1;32m   1360\u001b[0m         \u001b[0;32mif\u001b[0m \u001b[0mdata\u001b[0m \u001b[0;32mis\u001b[0m \u001b[0;32mNone\u001b[0m\u001b[0;34m:\u001b[0m\u001b[0;34m\u001b[0m\u001b[0;34m\u001b[0m\u001b[0m\n\u001b[0;32m-> 1361\u001b[0;31m             \u001b[0;32mreturn\u001b[0m \u001b[0mfunc\u001b[0m\u001b[0;34m(\u001b[0m\u001b[0max\u001b[0m\u001b[0;34m,\u001b[0m \u001b[0;34m*\u001b[0m\u001b[0mmap\u001b[0m\u001b[0;34m(\u001b[0m\u001b[0msanitize_sequence\u001b[0m\u001b[0;34m,\u001b[0m \u001b[0margs\u001b[0m\u001b[0;34m)\u001b[0m\u001b[0;34m,\u001b[0m \u001b[0;34m**\u001b[0m\u001b[0mkwargs\u001b[0m\u001b[0;34m)\u001b[0m\u001b[0;34m\u001b[0m\u001b[0;34m\u001b[0m\u001b[0m\n\u001b[0m\u001b[1;32m   1362\u001b[0m \u001b[0;34m\u001b[0m\u001b[0m\n\u001b[1;32m   1363\u001b[0m         \u001b[0mbound\u001b[0m \u001b[0;34m=\u001b[0m \u001b[0mnew_sig\u001b[0m\u001b[0;34m.\u001b[0m\u001b[0mbind\u001b[0m\u001b[0;34m(\u001b[0m\u001b[0max\u001b[0m\u001b[0;34m,\u001b[0m \u001b[0;34m*\u001b[0m\u001b[0margs\u001b[0m\u001b[0;34m,\u001b[0m \u001b[0;34m**\u001b[0m\u001b[0mkwargs\u001b[0m\u001b[0;34m)\u001b[0m\u001b[0;34m\u001b[0m\u001b[0;34m\u001b[0m\u001b[0m\n",
      "\u001b[0;32m~/miniconda3/envs/msmsense/lib/python3.9/site-packages/matplotlib/axes/_axes.py\u001b[0m in \u001b[0;36mscatter\u001b[0;34m(self, x, y, s, c, marker, cmap, norm, vmin, vmax, alpha, linewidths, edgecolors, plotnonfinite, **kwargs)\u001b[0m\n\u001b[1;32m   4496\u001b[0m         \u001b[0my\u001b[0m \u001b[0;34m=\u001b[0m \u001b[0mnp\u001b[0m\u001b[0;34m.\u001b[0m\u001b[0mma\u001b[0m\u001b[0;34m.\u001b[0m\u001b[0mravel\u001b[0m\u001b[0;34m(\u001b[0m\u001b[0my\u001b[0m\u001b[0;34m)\u001b[0m\u001b[0;34m\u001b[0m\u001b[0;34m\u001b[0m\u001b[0m\n\u001b[1;32m   4497\u001b[0m         \u001b[0;32mif\u001b[0m \u001b[0mx\u001b[0m\u001b[0;34m.\u001b[0m\u001b[0msize\u001b[0m \u001b[0;34m!=\u001b[0m \u001b[0my\u001b[0m\u001b[0;34m.\u001b[0m\u001b[0msize\u001b[0m\u001b[0;34m:\u001b[0m\u001b[0;34m\u001b[0m\u001b[0;34m\u001b[0m\u001b[0m\n\u001b[0;32m-> 4498\u001b[0;31m             \u001b[0;32mraise\u001b[0m \u001b[0mValueError\u001b[0m\u001b[0;34m(\u001b[0m\u001b[0;34m\"x and y must be the same size\"\u001b[0m\u001b[0;34m)\u001b[0m\u001b[0;34m\u001b[0m\u001b[0;34m\u001b[0m\u001b[0m\n\u001b[0m\u001b[1;32m   4499\u001b[0m \u001b[0;34m\u001b[0m\u001b[0m\n\u001b[1;32m   4500\u001b[0m         \u001b[0;32mif\u001b[0m \u001b[0ms\u001b[0m \u001b[0;32mis\u001b[0m \u001b[0;32mNone\u001b[0m\u001b[0;34m:\u001b[0m\u001b[0;34m\u001b[0m\u001b[0;34m\u001b[0m\u001b[0m\n",
      "\u001b[0;31mValueError\u001b[0m: x and y must be the same size"
     ]
    },
    {
     "data": {
      "image/png": "[encoded data removed]",
      "text/plain": [
       "<Figure size 432x288 with 1 Axes>"
      ]
     },
     "metadata": {
      "needs_background": "light"
     },
     "output_type": "display_data"
    }
   ],
   "source": [
    "plt.scatter(proj[:, 0], compare[2][0][:, 0])"
   ]
  },
  {
   "cell_type": "code",
   "execution_count": 75,
   "metadata": {},
   "outputs": [
    {
     "data": {
      "text/plain": [
       "{2: [array([[ 1.83572912, -0.29418326],\n",
       "         [ 1.83572912, -0.29418326],\n",
       "         [ 1.83572912, -0.29418326],\n",
       "         [ 1.83572912, -0.29418326],\n",
       "         [ 1.83572912, -0.29418326],\n",
       "         [ 1.49106567, -0.15913453],\n",
       "         [ 1.83572912, -0.29418326],\n",
       "         [ 0.64197882,  0.12306585],\n",
       "         [ 0.36682574,  0.10032664],\n",
       "         [ 1.83572912, -0.29418326],\n",
       "         [ 0.64197882,  0.12306585],\n",
       "         [ 0.64197882,  0.12306585],\n",
       "         [-0.41518963,  0.52983008],\n",
       "         [ 0.64197882,  0.12306585],\n",
       "         [ 1.83572912, -0.29418326],\n",
       "         [-0.5633087 ,  0.38981902],\n",
       "         [ 0.64197882,  0.12306585],\n",
       "         [ 0.36682574,  0.10032664],\n",
       "         [ 0.36682574,  0.10032664],\n",
       "         [-0.61619542,  0.36982124],\n",
       "         [ 0.36682574,  0.10032664],\n",
       "         [-0.66537841,  0.47790837],\n",
       "         [-0.64645154,  0.48828103],\n",
       "         [-0.60716926,  0.43740889],\n",
       "         [-0.5633087 ,  0.38981902],\n",
       "         [-0.60716926,  0.43740889],\n",
       "         [-0.66537841,  0.47790837],\n",
       "         [-0.5633087 ,  0.38981902],\n",
       "         [-0.60716926,  0.43740889],\n",
       "         [-0.5633087 ,  0.38981902],\n",
       "         [-0.60716926,  0.43740889],\n",
       "         [-0.60716926,  0.43740889],\n",
       "         [-0.60716926,  0.43740889],\n",
       "         [-0.6173839 ,  0.04517154],\n",
       "         [-0.64645154,  0.48828103],\n",
       "         [-0.6999927 ,  0.01961291],\n",
       "         [-0.60716926,  0.43740889],\n",
       "         [-0.6999927 ,  0.01961291],\n",
       "         [-0.6999927 ,  0.01961291],\n",
       "         [-0.66537841,  0.47790837],\n",
       "         [-0.61211957,  0.43683842],\n",
       "         [-0.6173839 ,  0.04517154],\n",
       "         [-0.6999927 ,  0.01961291],\n",
       "         [-0.6999927 ,  0.01961291],\n",
       "         [-0.61211957,  0.43683842],\n",
       "         [-0.6999927 ,  0.01961291],\n",
       "         [-0.68136155,  0.41072559],\n",
       "         [-0.6173839 ,  0.04517154],\n",
       "         [-0.73488364,  0.86628849],\n",
       "         [-0.68136155,  0.41072559]])],\n",
       " 3: [array([[ 0.36682574,  0.10032664],\n",
       "         [ 1.83572912, -0.29418326],\n",
       "         [ 1.83572912, -0.29418326],\n",
       "         [ 1.83572912, -0.29418326],\n",
       "         [ 1.83572912, -0.29418326],\n",
       "         [ 1.83572912, -0.29418326],\n",
       "         [ 1.83572912, -0.29418326],\n",
       "         [ 1.83572912, -0.29418326],\n",
       "         [ 1.49106567, -0.15913453],\n",
       "         [ 0.36682574,  0.10032664],\n",
       "         [ 1.83572912, -0.29418326],\n",
       "         [ 1.83572912, -0.29418326],\n",
       "         [ 1.83572912, -0.29418326],\n",
       "         [ 0.64197882,  0.12306585],\n",
       "         [ 0.64197882,  0.12306585],\n",
       "         [-0.48130889,  0.43507073],\n",
       "         [ 0.64197882,  0.12306585],\n",
       "         [ 0.64197882,  0.12306585],\n",
       "         [ 1.49106567, -0.15913453],\n",
       "         [-0.73488364,  0.86628849],\n",
       "         [-0.68136155,  0.41072559],\n",
       "         [-0.68136155,  0.41072559],\n",
       "         [-0.73488364,  0.86628849],\n",
       "         [-0.61211957,  0.43683842],\n",
       "         [-0.73488364,  0.86628849],\n",
       "         [-0.73488364,  0.86628849],\n",
       "         [-0.66537841,  0.47790837],\n",
       "         [-0.6173839 ,  0.04517154],\n",
       "         [-0.60716926,  0.43740889],\n",
       "         [-0.64608646,  0.46072614],\n",
       "         [-0.60716926,  0.43740889],\n",
       "         [-0.60716926,  0.43740889],\n",
       "         [-1.163084  , -4.08263352],\n",
       "         [-0.61619542,  0.36982124],\n",
       "         [ 0.64197882,  0.12306585],\n",
       "         [-0.66537841,  0.47790837],\n",
       "         [-0.73488364,  0.86628849],\n",
       "         [-0.73488364,  0.86628849],\n",
       "         [-0.73488364,  0.86628849],\n",
       "         [-0.64608646,  0.46072614],\n",
       "         [-0.68136155,  0.41072559],\n",
       "         [-0.68136155,  0.41072559],\n",
       "         [-0.66537841,  0.47790837],\n",
       "         [-0.68136155,  0.41072559],\n",
       "         [ 0.64197882,  0.12306585],\n",
       "         [-0.77611469,  1.21149732],\n",
       "         [-0.73488364,  0.86628849],\n",
       "         [-1.163084  , -4.08263352],\n",
       "         [-1.163084  , -4.08263352],\n",
       "         [-0.41518963,  0.52983008]])]}"
      ]
     },
     "execution_count": 75,
     "metadata": {},
     "output_type": "execute_result"
    }
   ],
   "source": [
    "compare"
   ]
  },
  {
   "cell_type": "code",
   "execution_count": 71,
   "metadata": {},
   "outputs": [
    {
     "data": {
      "text/plain": [
       "[array([[ 1.83572912, -0.29418326],\n",
       "        [ 1.83572912, -0.29418326],\n",
       "        [ 1.83572912, -0.29418326],\n",
       "        [ 1.83572912, -0.29418326],\n",
       "        [ 1.83572912, -0.29418326],\n",
       "        [ 1.49106567, -0.15913453],\n",
       "        [ 1.83572912, -0.29418326],\n",
       "        [ 0.64197882,  0.12306585],\n",
       "        [ 0.36682574,  0.10032664],\n",
       "        [ 1.83572912, -0.29418326],\n",
       "        [ 0.64197882,  0.12306585],\n",
       "        [ 0.64197882,  0.12306585],\n",
       "        [-0.41518963,  0.52983008],\n",
       "        [ 0.64197882,  0.12306585],\n",
       "        [ 1.83572912, -0.29418326],\n",
       "        [-0.5633087 ,  0.38981902],\n",
       "        [ 0.64197882,  0.12306585],\n",
       "        [ 0.36682574,  0.10032664],\n",
       "        [ 0.36682574,  0.10032664],\n",
       "        [-0.61619542,  0.36982124],\n",
       "        [ 0.36682574,  0.10032664],\n",
       "        [-0.66537841,  0.47790837],\n",
       "        [-0.64645154,  0.48828103],\n",
       "        [-0.60716926,  0.43740889],\n",
       "        [-0.5633087 ,  0.38981902],\n",
       "        [-0.60716926,  0.43740889],\n",
       "        [-0.66537841,  0.47790837],\n",
       "        [-0.5633087 ,  0.38981902],\n",
       "        [-0.60716926,  0.43740889],\n",
       "        [-0.5633087 ,  0.38981902],\n",
       "        [-0.60716926,  0.43740889],\n",
       "        [-0.60716926,  0.43740889],\n",
       "        [-0.60716926,  0.43740889],\n",
       "        [-0.6173839 ,  0.04517154],\n",
       "        [-0.64645154,  0.48828103],\n",
       "        [-0.6999927 ,  0.01961291],\n",
       "        [-0.60716926,  0.43740889],\n",
       "        [-0.6999927 ,  0.01961291],\n",
       "        [-0.6999927 ,  0.01961291],\n",
       "        [-0.66537841,  0.47790837],\n",
       "        [-0.61211957,  0.43683842],\n",
       "        [-0.6173839 ,  0.04517154],\n",
       "        [-0.6999927 ,  0.01961291],\n",
       "        [-0.6999927 ,  0.01961291],\n",
       "        [-0.61211957,  0.43683842],\n",
       "        [-0.6999927 ,  0.01961291],\n",
       "        [-0.68136155,  0.41072559],\n",
       "        [-0.6173839 ,  0.04517154],\n",
       "        [-0.73488364,  0.86628849],\n",
       "        [-0.68136155,  0.41072559]])]"
      ]
     },
     "execution_count": 71,
     "metadata": {},
     "output_type": "execute_result"
    }
   ],
   "source": [
    "compare[2]"
   ]
  },
  {
   "cell_type": "code",
   "execution_count": null,
   "metadata": {},
   "outputs": [],
   "source": []
  }
 ],
 "metadata": {
  "kernelspec": {
   "display_name": "Python 3 (ipykernel)",
   "language": "python",
   "name": "python3"
  },
  "language_info": {
   "codemirror_mode": {
    "name": "ipython",
    "version": 3
   },
   "file_extension": ".py",
   "mimetype": "text/x-python",
   "name": "python",
   "nbconvert_exporter": "python",
   "pygments_lexer": "ipython3",
   "version": "3.9.0"
  }
 },
 "nbformat": 4,
 "nbformat_minor": 4
}
