{
 "cells": [
  {
   "cell_type": "code",
   "execution_count": 7,
   "metadata": {
    "collapsed": true
   },
   "outputs": [],
   "source": [
    "import mdtraj as md\n",
    "import pyemma as pm\n",
    "import pandas as pd\n",
    "import matplotlib.pyplot as plt\n",
    "import numpy as np\n",
    "from typing import Dict, List, Optional, Union\n",
    "from pathlib import Path"
   ]
  },
  {
   "cell_type": "code",
   "execution_count": 9,
   "outputs": [],
   "source": [
    "hps = pd.read_hdf('../data/msms/hpsample.h5')\n",
    "top_path = '/home/rob/Data/DESRES/DESRES-Trajectory_1FME-0-protein/1FME-0-protein/protein.pdb'\n",
    "traj_paths = list(Path('/home/rob/Data/DESRES/').rglob('*1FME*/**/*.xtc'))\n",
    "traj_paths = [str(x) for x in traj_paths]\n",
    "assert traj_paths\n"
   ],
   "metadata": {
    "collapsed": false,
    "pycharm": {
     "name": "#%%\n"
    }
   }
  },
  {
   "cell_type": "code",
   "execution_count": 14,
   "outputs": [
    {
     "data": {
      "text/plain": "   cluster__k  cluster__max_iter  cluster__stride dihedrals__which  \\\n0         191               1000               10              all   \n\n   distances__centre distances__scheme  distances__steepness  \\\n0           1.402167                ca             23.955992   \n\n  distances__transform feature__value  tica__dim  tica__lag  tica__stride  \n0             logistic      dihedrals          8         76             1  ",
      "text/html": "<div>\n<style scoped>\n    .dataframe tbody tr th:only-of-type {\n        vertical-align: middle;\n    }\n\n    .dataframe tbody tr th {\n        vertical-align: top;\n    }\n\n    .dataframe thead th {\n        text-align: right;\n    }\n</style>\n<table border=\"1\" class=\"dataframe\">\n  <thead>\n    <tr style=\"text-align: right;\">\n      <th></th>\n      <th>cluster__k</th>\n      <th>cluster__max_iter</th>\n      <th>cluster__stride</th>\n      <th>dihedrals__which</th>\n      <th>distances__centre</th>\n      <th>distances__scheme</th>\n      <th>distances__steepness</th>\n      <th>distances__transform</th>\n      <th>feature__value</th>\n      <th>tica__dim</th>\n      <th>tica__lag</th>\n      <th>tica__stride</th>\n    </tr>\n  </thead>\n  <tbody>\n    <tr>\n      <th>0</th>\n      <td>191</td>\n      <td>1000</td>\n      <td>10</td>\n      <td>all</td>\n      <td>1.402167</td>\n      <td>ca</td>\n      <td>23.955992</td>\n      <td>logistic</td>\n      <td>dihedrals</td>\n      <td>8</td>\n      <td>76</td>\n      <td>1</td>\n    </tr>\n  </tbody>\n</table>\n</div>"
     },
     "execution_count": 14,
     "metadata": {},
     "output_type": "execute_result"
    }
   ],
   "source": [
    "hps"
   ],
   "metadata": {
    "collapsed": false,
    "pycharm": {
     "name": "#%%\n"
    }
   }
  },
  {
   "cell_type": "code",
   "execution_count": 8,
   "outputs": [],
   "source": [
    "def featurizer(hp_dict: Dict, traj_paths: List[str], top_path: str) -> List[np.ndarray]:\n",
    "    if hp_dict['feature__value'] == 'dihedrals':\n",
    "        assert hp_dict['dihedrals__which'] == 'all'\n",
    "        def f(traj: md.Trajectory, **kwargs) -> np.ndarray:\n",
    "            _, phi = md.compute_phi(traj)\n",
    "            _, psi = md.compute_psi(traj)\n",
    "            _, chi1 = md.compute_chi1(traj)\n",
    "            _, chi2 = md.compute_chi2(traj)\n",
    "            _, chi3 = md.compute_chi3(traj)\n",
    "            _, chi4 = md.compute_chi4(traj)\n",
    "            _, chi5 = md.compute_chi5(traj)\n",
    "            ftraj = np.concatenate([phi, psi, chi1, chi2, chi3, chi4, chi5], axis=1)\n",
    "            return ftraj\n",
    "\n",
    "    elif hp_dict['feature__value'] == 'distances':\n",
    "        def f(traj: md.Trajectory, **kwargs):\n",
    "            scheme = kwargs['distances__scheme']\n",
    "            transform = kwargs['distances__transform']\n",
    "            centre = kwargs['distances__centre']\n",
    "            steepness = kwargs['distances__steepness']\n",
    "            ftraj = md.compute_contacts(traj, scheme=scheme)\n",
    "            if transform=='logistic':\n",
    "                ftraj = 1/(1+np.exp(-steepness*(ftraj - centre)))\n",
    "            return ftraj\n",
    "    else:\n",
    "        raise ValueError\n",
    "    ftrajs = []\n",
    "    for traj_path in traj_paths:\n",
    "        traj = md.load(traj_path, top=top_path)\n",
    "        ftrajs.append(f(traj, **hp_dict))\n",
    "    return ftrajs\n",
    "\n",
    "\n",
    "def tica(hp_dict: Dict[str, Union[float, int, str]], ftrajs: List[np.ndarray]) -> List[np.ndarray]:\n"
   ],
   "metadata": {
    "collapsed": false,
    "pycharm": {
     "name": "#%%\n"
    }
   }
  },
  {
   "cell_type": "code",
   "execution_count": 11,
   "outputs": [],
   "source": [
    "ftrajs = featurizer(hps.iloc[0, :].to_dict(), traj_paths, top_path)"
   ],
   "metadata": {
    "collapsed": false,
    "pycharm": {
     "name": "#%%\n"
    }
   }
  },
  {
   "cell_type": "code",
   "execution_count": 13,
   "outputs": [
    {
     "data": {
      "text/plain": "(2000, 129)"
     },
     "execution_count": 13,
     "metadata": {},
     "output_type": "execute_result"
    }
   ],
   "source": [
    "ftrajs[0].shape"
   ],
   "metadata": {
    "collapsed": false,
    "pycharm": {
     "name": "#%%\n"
    }
   }
  },
  {
   "cell_type": "code",
   "execution_count": null,
   "outputs": [],
   "source": [],
   "metadata": {
    "collapsed": false,
    "pycharm": {
     "name": "#%%\n"
    }
   }
  }
 ],
 "metadata": {
  "kernelspec": {
   "display_name": "Python 3",
   "language": "python",
   "name": "python3"
  },
  "language_info": {
   "codemirror_mode": {
    "name": "ipython",
    "version": 2
   },
   "file_extension": ".py",
   "mimetype": "text/x-python",
   "name": "python",
   "nbconvert_exporter": "python",
   "pygments_lexer": "ipython2",
   "version": "2.7.6"
  }
 },
 "nbformat": 4,
 "nbformat_minor": 0
}