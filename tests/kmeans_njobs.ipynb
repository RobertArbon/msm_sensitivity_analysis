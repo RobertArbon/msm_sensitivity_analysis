{
 "cells": [
  {
   "cell_type": "code",
   "execution_count": 17,
   "id": "26cd9cce-060c-4fa1-be88-762e130c0e92",
   "metadata": {},
   "outputs": [],
   "source": [
    "import mdtraj as md\n",
    "import pyemma as pm\n",
    "import pandas as pd\n",
    "import matplotlib.pyplot as plt\n",
    "import numpy as np\n",
    "from typing import Dict, List, Optional, Union, Tuple\n",
    "from pathlib import Path\n",
    "import pickle\n",
    "\n",
    "from msmtools.estimation import transition_matrix as _transition_matrix\n",
    "from msmtools.analysis import timescales as _timescales\n",
    "import seaborn as sns"
   ]
  },
  {
   "cell_type": "code",
   "execution_count": 64,
   "id": "3fb90cdd-ca98-45a2-8ad6-3d948f7178cc",
   "metadata": {},
   "outputs": [],
   "source": [
    "def featurizer(hp_dict: Dict, traj_paths: List[str], top_path: str) -> List[np.ndarray]:\n",
    "    if hp_dict['feature__value'] == 'dihedrals':\n",
    "        assert hp_dict['dihedrals__which'] == 'all'\n",
    "        def f(traj: md.Trajectory, **kwargs) -> np.ndarray:\n",
    "            _, phi = md.compute_phi(traj)\n",
    "            _, psi = md.compute_psi(traj)\n",
    "            _, chi1 = md.compute_chi1(traj)\n",
    "            _, chi2 = md.compute_chi2(traj)\n",
    "            _, chi3 = md.compute_chi3(traj)\n",
    "            _, chi4 = md.compute_chi4(traj)\n",
    "            _, chi5 = md.compute_chi5(traj)\n",
    "            ftraj = np.concatenate([phi, psi, chi1, chi2, chi3, chi4, chi5], axis=1)\n",
    "            ftraj = np.concatenate([np.cos(ftraj), np.sin(ftraj)], axis=1)\n",
    "            return ftraj\n",
    "\n",
    "    elif hp_dict['feature__value'] == 'distances':\n",
    "        def f(traj: md.Trajectory, **kwargs):\n",
    "            scheme = kwargs['distances__scheme']\n",
    "            transform = kwargs['distances__transform']\n",
    "            centre = kwargs['distances__centre']\n",
    "            steepness = kwargs['distances__steepness']\n",
    "            ftraj = md.compute_contacts(traj, scheme=scheme)\n",
    "            if transform=='logistic':\n",
    "                ftraj = 1/(1+np.exp(-steepness*(ftraj - centre)))\n",
    "            return ftraj\n",
    "    else:\n",
    "        raise ValueError\n",
    "    ftrajs = []\n",
    "    for traj_path in traj_paths:\n",
    "        traj = md.load(traj_path, top=top_path)\n",
    "        ftrajs.append(f(traj, **hp_dict))\n",
    "    return ftrajs\n",
    "\n",
    "\n",
    "def tica(hp_dict: Dict[str, Union[float, int, str]], ftrajs: List[np.ndarray]) -> List[np.ndarray]:\n",
    "    lag = hp_dict['tica__lag']\n",
    "    stride = hp_dict['tica__stride']\n",
    "    dim = hp_dict['tica__dim']\n",
    "    tica_mod = pm.coordinates.tica(ftrajs, lag=lag, dim=dim, kinetic_map=True)\n",
    "    return tica_mod.get_output()\n",
    "\n",
    "\n",
    "def kmeans(hp_dict: Dict, ttrajs: List[np.ndarray], seed: int, n_jobs: int) -> List[np.ndarray]:\n",
    "    k = hp_dict['cluster__k']\n",
    "    max_iter = hp_dict['cluster__max_iter']\n",
    "    stride = hp_dict['cluster__stride']\n",
    "    kmeans = pm.coordinates.cluster_kmeans(ttrajs, k=k, max_iter=max_iter, stride=stride, fixed_seed=seed, n_jobs=n_jobs)\n",
    "    dtrajs = kmeans.dtrajs\n",
    "    return dtrajs"
   ]
  },
  {
   "cell_type": "code",
   "execution_count": 65,
   "id": "d7db9024-a36e-433f-8716-43a1a64d852d",
   "metadata": {},
   "outputs": [],
   "source": [
    "hp_ix = 0\n",
    "protein = '1fme'\n",
    "seed = 49587\n",
    "rng = np.random.default_rng(seed)\n",
    "lags = list(range(1, 102, 10))\n",
    "n_bootstraps = 1\n",
    "nits=25\n",
    "\n",
    "hps = pd.read_hdf('../data/msms/hpsample.h5')\n",
    "top_path = f'/home/rob/Data/DESRES/DESRES-Trajectory_{protein.upper()}-0-protein/{protein.upper()}-0-protein/protein.pdb'\n",
    "traj_paths = list(Path('/home/rob/Data/DESRES/').rglob(f'*{protein.upper()}*/**/*.xtc'))\n",
    "traj_paths = [str(x) for x in traj_paths]\n",
    "traj_paths.sort()\n",
    "assert traj_paths\n"
   ]
  },
  {
   "cell_type": "code",
   "execution_count": 73,
   "id": "313aa221-12ee-4726-8e52-66cc44c3f3b4",
   "metadata": {},
   "outputs": [
    {
     "data": {
      "text/plain": [
       "[<matplotlib.lines.Line2D at 0x7f6a0d5d3580>]"
      ]
     },
     "execution_count": 73,
     "metadata": {},
     "output_type": "execute_result"
    },
    {
     "data": {
      "image/png": "[encoded data removed]",
      "text/plain": [
       "<Figure size 432x288 with 1 Axes>"
      ]
     },
     "metadata": {
      "needs_background": "light"
     },
     "output_type": "display_data"
    }
   ],
   "source": [
    "ftrajs_all = featurizer(hps.iloc[hp_ix, :].to_dict(), traj_paths, top_path)\n",
    "\n",
    "ttrajs = tica(hps.iloc[hp_ix, :].to_dict(), ftrajs_all)\n",
    "\n",
    "dtrajs1 = kmeans(hps.iloc[hp_ix, :].to_dict(), ttrajs, seed=49587, n_jobs=1)\n",
    "\n",
    "dtrajs12 = kmeans(hps.iloc[hp_ix, :].to_dict(), ttrajs, seed=49587, n_jobs=12)\n",
    "\n",
    "its1 = pm.msm.timescales_msm(dtrajs1, nits=25, lags=list(range(1,102,1)))\n",
    "its12 = pm.msm.timescales_msm(dtrajs12, nits=25, lags=list(range(1,102,1)))\n",
    "\n",
    "plt.plot(its1.timescales[:, 0]/its12.timescales[:, 0])"
   ]
  },
  {
   "cell_type": "code",
   "execution_count": null,
   "id": "ada661c5-2adf-4a41-8fbd-2ab6364397b6",
   "metadata": {},
   "outputs": [],
   "source": []
  },
  {
   "cell_type": "code",
   "execution_count": null,
   "id": "e617c979-70a9-4ba5-96b6-0d607419ead6",
   "metadata": {},
   "outputs": [],
   "source": []
  }
 ],
 "metadata": {
  "kernelspec": {
   "display_name": "Python 3 (ipykernel)",
   "language": "python",
   "name": "python3"
  },
  "language_info": {
   "codemirror_mode": {
    "name": "ipython",
    "version": 3
   },
   "file_extension": ".py",
   "mimetype": "text/x-python",
   "name": "python",
   "nbconvert_exporter": "python",
   "pygments_lexer": "ipython3",
   "version": "3.9.0"
  }
 },
 "nbformat": 4,
 "nbformat_minor": 5
}
